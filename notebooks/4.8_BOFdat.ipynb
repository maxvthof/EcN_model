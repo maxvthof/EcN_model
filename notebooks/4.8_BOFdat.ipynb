{
 "cells": [
  {
   "cell_type": "markdown",
   "metadata": {},
   "source": [
    "# 4.8 BOFdat\n",
    "Adapt the biomass objective function using BOFdat, based on experimental data of EcN and K12. \n",
    "\n",
    "- https://journals.plos.org/ploscompbiol/article?id=10.1371/journal.pcbi.1006971\n",
    "- https://bofdat.readthedocs.io/en/latest/\n",
    "- https://github.com/jclachance/BOFdat"
   ]
  },
  {
   "cell_type": "markdown",
   "metadata": {},
   "source": [
    "<font color='red'> !!! Run notebook in python 2.7 environment (bofdat.yml) !!! </font>"
   ]
  },
  {
   "cell_type": "code",
   "execution_count": 2,
   "metadata": {},
   "outputs": [],
   "source": [
    "from BOFdat import step1\n",
    "from BOFdat import step2\n",
    "from BOFdat import step3\n",
    "from BOFdat.util import update\n",
    "\n",
    "import cobra\n",
    "import pandas as pd\n",
    "import numpy as np"
   ]
  },
  {
   "cell_type": "markdown",
   "metadata": {},
   "source": [
    "# Step 1. Macromolecular composition\n",
    "The general macromolecular composition for Escherichia coli (E.coli K12 MG1655) is used.\n",
    "- https://github.com/jclachance/BOFdat"
   ]
  },
  {
   "cell_type": "code",
   "execution_count": 2,
   "metadata": {},
   "outputs": [],
   "source": [
    "#Set parameters based on dry weight composition\n",
    "dna_weight_fraction = 0.031\n",
    "rna_weight_fraction = 0.205\n",
    "protein_weight_fraction = 0.55\n",
    "lipid_weight_fraction = 0.1\n",
    "metabolite_weight_fraction = 0.1"
   ]
  },
  {
   "cell_type": "markdown",
   "metadata": {},
   "source": [
    "### DNA\n",
    "The EcN genome is available on NCBI\n",
    "- https://www.ncbi.nlm.nih.gov/assembly/GCF_003546975.1"
   ]
  },
  {
   "cell_type": "code",
   "execution_count": 3,
   "metadata": {},
   "outputs": [],
   "source": [
    "#Give the path to each file as function parameters\n",
    "#Genome file in BioPython supported format (.faa, .fna) and GenBank file\n",
    "#also in BioPython supported format (.gb, .gbff)\n",
    "genome = '../data/genomes_gb/CP022686.1.fna'\n",
    "genbank = '../data/genomes_gb/CP022686.1.gb'"
   ]
  },
  {
   "cell_type": "markdown",
   "metadata": {},
   "source": [
    "### Transcriptomics\n",
    "Transcriptomics data of EcN from the study by Zhao et al. 20220 was used\n",
    "\n",
    "- https://www.sciencedirect.com/science/article/pii/S2667370322000030?via%3Dihub"
   ]
  },
  {
   "cell_type": "code",
   "execution_count": 4,
   "metadata": {},
   "outputs": [],
   "source": [
    "#Omic datasets as a 2 column csv file, gene and abundance\n",
    "transcriptomic = '../tables/EcN_transcriptomics.csv'"
   ]
  },
  {
   "cell_type": "markdown",
   "metadata": {},
   "source": [
    "### Proteomics\n",
    "Proteomic data of E.coli K12 MG1655 was used, as no data was available for EcN.\n",
    "- https://github.com/jclachance/BOFdat\n",
    "\n",
    "Gene IDs in the proteomic data needs to be converted to EcN IDs.\n",
    "Construction of the converted df only needed first time."
   ]
  },
  {
   "cell_type": "code",
   "execution_count": 5,
   "metadata": {},
   "outputs": [],
   "source": [
    "# #import packages needed\n",
    "# from glob import glob\n",
    "# from Bio import Entrez, SeqIO"
   ]
  },
  {
   "cell_type": "code",
   "execution_count": 6,
   "metadata": {},
   "outputs": [],
   "source": [
    "# ### Get all gene annotations from MG1655\n",
    "\n",
    "# in_file = '../tables/Ecoli_K12_MG1655.gbff'\n",
    "\n",
    "# gene_annot_df = pd.DataFrame(columns=('locus', 'ncbigene', 'ncbiprotein'))\n",
    "# gene_annot_df.set_index('locus', inplace=True)\n",
    "\n",
    "# handle = open(in_file)\n",
    "\n",
    "# records = SeqIO.parse(handle, \"genbank\")\n",
    "# for record in records:\n",
    "#     for f in record.features:\n",
    "#         if f.type=='CDS':\n",
    "\n",
    "#             # Get locus tag\n",
    "#             if 'locus_tag' in f.qualifiers.keys():\n",
    "#                 locus = f.qualifiers['locus_tag'][0]\n",
    "            \n",
    "# #             # get gene id\n",
    "#             if 'gene' in f.qualifiers.keys():\n",
    "#                 gene_id = f.qualifiers['gene'][0]\n",
    "#                 gene_annot_df.loc[locus, 'ncbigene'] = gene_id\n",
    "            \n",
    "#             # get protein_id\n",
    "#             if 'protein_id' in f.qualifiers.keys():\n",
    "#                 prot_id = f.qualifiers['protein_id'][0]\n",
    "#                 gene_annot_df.loc[locus, 'ncbiprotein'] = prot_id\n",
    "\n",
    "# gene_annot_df.head()"
   ]
  },
  {
   "cell_type": "code",
   "execution_count": 7,
   "metadata": {},
   "outputs": [],
   "source": [
    "# ### Get all gene annotations from EcN\n",
    "\n",
    "# in_file = '../data/genomes_gb/CP022686.1.gb'\n",
    "\n",
    "# EcN_annot_df = pd.DataFrame(columns=('locus', 'ncbigene', 'ncbiprotein'))\n",
    "# EcN_annot_df.set_index('locus', inplace=True)\n",
    "\n",
    "# handle = open(in_file)\n",
    "\n",
    "# records = SeqIO.parse(handle, \"genbank\")\n",
    "# for record in records:\n",
    "#     for f in record.features:\n",
    "#         if f.type=='CDS':\n",
    "\n",
    "#             # Get locus tag\n",
    "#             if 'locus_tag' in f.qualifiers.keys():\n",
    "#                 locus = f.qualifiers['locus_tag'][0]\n",
    "            \n",
    "# #             # get gene id\n",
    "#             if 'gene' in f.qualifiers.keys():\n",
    "#                 gene_id = f.qualifiers['gene'][0]\n",
    "#                 EcN_annot_df.loc[locus, 'ncbigene'] = gene_id\n",
    "            \n",
    "#             # get protein_id\n",
    "#             if 'protein_id' in f.qualifiers.keys():\n",
    "#                 prot_id = f.qualifiers['protein_id'][0]\n",
    "#                 EcN_annot_df.loc[locus, 'ncbiprotein'] = prot_id\n",
    "\n",
    "# EcN_annot_df.head()"
   ]
  },
  {
   "cell_type": "code",
   "execution_count": 8,
   "metadata": {},
   "outputs": [],
   "source": [
    "# # Open proteomics data iML1515\n",
    "# proteomic_df = pd.read_csv('../tables/proteomic.csv')\n",
    "# proteomic_df\n",
    "\n",
    "# # Reset index gene_annot_df\n",
    "# gene_annot_df = gene_annot_df.reset_index().set_index('ncbiprotein')\n",
    "\n",
    "# # Merge dataframes\n",
    "# MG1655_df = pd.merge(proteomic_df, gene_annot_df, left_on='gene_id', right_index=True)\n",
    "\n",
    "# # Convert to EcN gene IDs\n",
    "# conv_df = pd.read_csv('../tables/MG_geneIDs_matrix.csv', names=['MG1655', 'EcN'])\n",
    "# gene_conv_df = pd.merge(MG1655_df, conv_df, left_on='locus', right_on='MG1655')\n",
    "\n",
    "# # Create a df with EcN protein ID and abundance\n",
    "# EcN_proteomic_df = pd.merge(gene_conv_df, EcN_annot_df, left_on='EcN', right_index=True)\n",
    "# EcN_proteomic_df.set_index('ncbiprotein', inplace=True)\n",
    "# EcN_proteomic_df.drop(columns=['gene_id', 'locus', 'ncbigene_x', 'MG1655', 'EcN', 'ncbigene_y'], inplace=True)\n",
    "# EcN_proteomic_df"
   ]
  },
  {
   "cell_type": "code",
   "execution_count": 9,
   "metadata": {},
   "outputs": [],
   "source": [
    "# # Save as .csv file\n",
    "# EcN_proteomic_df.to_csv('../tables/EcN_proteomics.csv')"
   ]
  },
  {
   "cell_type": "code",
   "execution_count": 10,
   "metadata": {},
   "outputs": [],
   "source": [
    "proteomic = '../tables/EcN_proteomics.csv'"
   ]
  },
  {
   "cell_type": "markdown",
   "metadata": {},
   "source": [
    "### Lipids\n",
    "Lipidomic data of E.coli K12 MG1655 was used, as no data was available for EcN.\n",
    "- https://github.com/jclachance/BOFdat"
   ]
  },
  {
   "cell_type": "code",
   "execution_count": 11,
   "metadata": {},
   "outputs": [],
   "source": [
    "#Lipidomic abundances and conversion to model identifier\n",
    "lipidomic_abundances = '../tables/lipidomic_abundances.csv'\n",
    "lipidomic_conversion = '../tables/lipidomic_conversion.csv'"
   ]
  },
  {
   "cell_type": "markdown",
   "metadata": {},
   "source": [
    "## 1.1 Maintenance\n",
    "Maintenance data of E.coli K12 MG1655 was used, as limited data was available for EcN.\n",
    "- https://github.com/jclachance/BOFdat\n",
    "\n",
    "Add the growth data from Revelles paper (glucose/gluconate)\n",
    "- https://doi.org/10.1371/journal.pone.0066386"
   ]
  },
  {
   "cell_type": "code",
   "execution_count": 19,
   "metadata": {},
   "outputs": [],
   "source": [
    "#Growth data on different carbon sources, uptake and secretion rates\n",
    "# maintenance = '../tables/maintenance.csv'\n",
    "maintenance = '../tables/maintenance_ecn.csv'"
   ]
  },
  {
   "cell_type": "markdown",
   "metadata": {},
   "source": [
    "### EcN model"
   ]
  },
  {
   "cell_type": "code",
   "execution_count": 13,
   "metadata": {},
   "outputs": [],
   "source": [
    "# Load EcN model\n",
    "model = '../data/models/CP022686.1_cur_4.7.json'"
   ]
  },
  {
   "cell_type": "markdown",
   "metadata": {},
   "source": [
    "## 1.2 Macromolecules"
   ]
  },
  {
   "cell_type": "code",
   "execution_count": 14,
   "metadata": {},
   "outputs": [
    {
     "data": {
      "text/plain": [
       "{<Metabolite dttp_c at 0x115b68d0>: -0.025264995594222028,\n",
       " <Metabolite dctp_c at 0x115c0240>: -0.027205885733218617,\n",
       " <Metabolite datp_c at 0x115d46a0>: -0.024535580087683178,\n",
       " <Metabolite ppi_c at 0x115d4780>: 0.10089456005683937,\n",
       " <Metabolite dgtp_c at 0x116d4f28>: -0.02388809864171554}"
      ]
     },
     "execution_count": 14,
     "metadata": {},
     "output_type": "execute_result"
    }
   ],
   "source": [
    "dna_coefficients = step1.generate_dna_coefficients(genome,model,DNA_WEIGHT_FRACTION=dna_weight_fraction)\n",
    "dna_coefficients"
   ]
  },
  {
   "cell_type": "code",
   "execution_count": 15,
   "metadata": {
    "scrolled": true
   },
   "outputs": [
    {
     "name": "stderr",
     "output_type": "stream",
     "text": [
      "C:\\Users\\maxvan\\Anaconda3\\envs\\bofdat\\lib\\site-packages\\BOFdat\\core\\rna.py:60 UserWarning: Some identifiers not found in provided annotation\n"
     ]
    },
    {
     "data": {
      "text/plain": [
       "{<Metabolite ctp_c at 0x1500b550>: -0.16705693200583052,\n",
       " <Metabolite atp_c at 0x1503f860>: -0.15682670811169883,\n",
       " <Metabolite utp_c at 0x1505f780>: -0.15393794867659485,\n",
       " <Metabolite ppi_c at 0x15069748>: 0.6397639025268087,\n",
       " <Metabolite gtp_c at 0x150d1c50>: -0.16194231373268453}"
      ]
     },
     "execution_count": 15,
     "metadata": {},
     "output_type": "execute_result"
    }
   ],
   "source": [
    "rna_coefficients = step1.generate_rna_coefficients(genbank,model,transcriptomic,RNA_WEIGHT_FRACTION=rna_weight_fraction)\n",
    "rna_coefficients"
   ]
  },
  {
   "cell_type": "code",
   "execution_count": 16,
   "metadata": {},
   "outputs": [
    {
     "name": "stderr",
     "output_type": "stream",
     "text": [
      "C:\\Users\\maxvan\\Anaconda3\\envs\\bofdat\\lib\\site-packages\\BOFdat\\core\\protein.py:64 UserWarning: Redundancy in dataset identifiers\n"
     ]
    },
    {
     "data": {
      "text/plain": [
       "{<Metabolite his__L_c at 0x19fb1cc0>: -0.0784666222129269,\n",
       " <Metabolite val__L_c at 0x19fc6208>: -0.4236326541330141,\n",
       " <Metabolite pro__L_c at 0x19fc6240>: -0.23785545643823697,\n",
       " <Metabolite asn__L_c at 0x19fda278>: -0.1988011065795899,\n",
       " <Metabolite leu__L_c at 0x19fda4e0>: -0.43210232676094734,\n",
       " <Metabolite met__L_c at 0x1a19a898>: -0.10251662872662275,\n",
       " <Metabolite tyr__L_c at 0x1a1a4e48>: -0.09992310063926794,\n",
       " <Metabolite cys__L_c at 0x1a1a4eb8>: -0.046655642921015865,\n",
       " <Metabolite trp__L_c at 0x1a1ae940>: -0.030522659777398792,\n",
       " <Metabolite lys__L_c at 0x1a1aea90>: -0.25290101506014606,\n",
       " <Metabolite glu__L_c at 0x1a219da0>: -0.2831016692802292,\n",
       " <Metabolite ile__L_c at 0x1a219f28>: -0.2916454170578126,\n",
       " <Metabolite gln__L_c at 0x1a224dd8>: -0.16515881771324858,\n",
       " <Metabolite ala__L_c at 0x1a2384e0>: -0.8051754272737,\n",
       " <Metabolite phe__L_c at 0x1a238630>: -0.12966182233807855,\n",
       " <Metabolite h2o_c at 0x1a242a20>: 5.470463534121725,\n",
       " <Metabolite gly_c at 0x1a242e48>: -0.8259745895550139,\n",
       " <Metabolite thr__L_c at 0x1a5564a8>: -0.3022121994386853,\n",
       " <Metabolite ser__L_c at 0x1a568518>: -0.3181480851031188,\n",
       " <Metabolite arg__L_c at 0x1a5729b0>: -0.15400440615477717,\n",
       " <Metabolite asp__L_c at 0x1a572d30>: -0.2920038869578946}"
      ]
     },
     "execution_count": 16,
     "metadata": {},
     "output_type": "execute_result"
    }
   ],
   "source": [
    "protein_coefficients = step1.generate_protein_coefficients(genbank,model,proteomic,PROTEIN_WEIGHT_FRACTION=protein_weight_fraction)\n",
    "protein_coefficients"
   ]
  },
  {
   "cell_type": "code",
   "execution_count": 17,
   "metadata": {},
   "outputs": [
    {
     "name": "stderr",
     "output_type": "stream",
     "text": [
      "C:\\Users\\maxvan\\Anaconda3\\envs\\bofdat\\lib\\site-packages\\BOFdat\\core\\lipid.py:76 UserWarning: Redundancy in dataset identifiers\n"
     ]
    },
    {
     "data": {
      "text/plain": [
       "{<Metabolite pe160_p at 0x1d5033c8>: -0.05984233670391253,\n",
       " <Metabolite pg160_p at 0x1d503400>: -0.014826578855136979,\n",
       " <Metabolite pe181_p at 0x1d50df98>: -0.013250952451946145,\n",
       " <Metabolite pg181_p at 0x1d52c550>: -0.009098089940190764,\n",
       " <Metabolite pe161_p at 0x1d56ceb8>: -0.030710743257354293,\n",
       " <Metabolite pg161_p at 0x1d576358>: -0.013732749319021109}"
      ]
     },
     "execution_count": 17,
     "metadata": {},
     "output_type": "execute_result"
    }
   ],
   "source": [
    "lipid_coefficients = step1.generate_lipid_coefficients(lipidomic_abundances,lipidomic_conversion,model,LIPID_WEIGHT_FRACTION=lipid_weight_fraction)\n",
    "lipid_coefficients"
   ]
  },
  {
   "cell_type": "markdown",
   "metadata": {},
   "source": [
    "## 1.3 Maintenance (GAM & NGAM)"
   ]
  },
  {
   "cell_type": "code",
   "execution_count": 20,
   "metadata": {},
   "outputs": [
    {
     "name": "stderr",
     "output_type": "stream",
     "text": [
      "cobra\\util\\solver.py:403 UserWarning: solver status is 'infeasible'\n"
     ]
    },
    {
     "name": "stdout",
     "output_type": "stream",
     "text": [
      "('m', 73.039820474777997, 'b', 13.948331959461735)\n",
      "('R2=', 0.67931748410829607)\n"
     ]
    },
    {
     "data": {
      "image/png": "[encoded data removed]",
      "text/plain": [
       "<Figure size 432x288 with 1 Axes>"
      ]
     },
     "metadata": {},
     "output_type": "display_data"
    }
   ],
   "source": [
    "maintenance_cost = step1.generate_maintenance_costs(maintenance,model)"
   ]
  },
  {
   "cell_type": "markdown",
   "metadata": {},
   "source": [
    "## 1.4 Update model"
   ]
  },
  {
   "cell_type": "code",
   "execution_count": 21,
   "metadata": {},
   "outputs": [],
   "source": [
    "json_model = cobra.io.load_json_model(model)\n",
    "bofdat_step1 = update.make_new_BOF(json_model,False,True,dna_coefficients,rna_coefficients,protein_coefficients,\n",
    "                    lipid_coefficients,maintenance=maintenance_cost)"
   ]
  },
  {
   "cell_type": "code",
   "execution_count": 22,
   "metadata": {},
   "outputs": [],
   "source": [
    "# Save\n",
    "bofdat_step1.to_csv('../tables/bofdat_step1.csv')"
   ]
  },
  {
   "cell_type": "markdown",
   "metadata": {},
   "source": [
    "# Step 2. Coenzymes & ions"
   ]
  },
  {
   "cell_type": "markdown",
   "metadata": {},
   "source": [
    "## 2.1 Inorganic ions\n",
    "\n",
    "The file BIOMASS_universal_components.csv needs to be added to the BOFdat folder\n",
    "- https://github.com/jclachance/BOFdat"
   ]
  },
  {
   "cell_type": "code",
   "execution_count": 23,
   "metadata": {},
   "outputs": [],
   "source": [
    "path_to_model = '../data/models/CP022686.1_cur_4.7.json'"
   ]
  },
  {
   "cell_type": "code",
   "execution_count": 24,
   "metadata": {},
   "outputs": [
    {
     "name": "stdout",
     "output_type": "stream",
     "text": [
      "Generating list of solvable metabolites\n"
     ]
    }
   ],
   "source": [
    "# path_to_model = 'data/iML1515.json'\n",
    "selected_metabolites = step2.find_coenzymes_and_ions(path_to_model)"
   ]
  },
  {
   "cell_type": "markdown",
   "metadata": {},
   "source": [
    "### Determine coefficients\n",
    "The default weight_fraction of 0.05 (5%) is used "
   ]
  },
  {
   "cell_type": "code",
   "execution_count": 25,
   "metadata": {},
   "outputs": [],
   "source": [
    "from BOFdat.util.update import determine_coefficients\n",
    "WEIGHT_FRACTION = 0.05\n",
    "bd_step2 = determine_coefficients(selected_metabolites,json_model,WEIGHT_FRACTION)"
   ]
  },
  {
   "cell_type": "markdown",
   "metadata": {},
   "source": [
    "### Update biomass"
   ]
  },
  {
   "cell_type": "code",
   "execution_count": 26,
   "metadata": {},
   "outputs": [
    {
     "name": "stderr",
     "output_type": "stream",
     "text": [
      "C:\\Users\\maxvan\\Anaconda3\\envs\\bofdat\\lib\\site-packages\\BOFdat\\util\\update.py:22 UserWarning: File has 3 columns, assuming index on first column\n"
     ]
    }
   ],
   "source": [
    "#Get the input from the previous step\n",
    "path_to_biomass = '../tables/bofdat_step1.csv'\n",
    "bd_step1 = update.convert_to_dictionary(path_to_biomass)\n",
    "bd_step2.update(bd_step1)\n",
    "\n",
    "# Save updated biomass\n",
    "update.save_biomass(bd_step2,'../tables/bofdat_step2.csv')"
   ]
  },
  {
   "cell_type": "code",
   "execution_count": 27,
   "metadata": {},
   "outputs": [],
   "source": [
    "# Remove u char\n",
    "import json, ast\n",
    "bd_step2_u = ast.literal_eval(json.dumps(bd_step2))\n",
    "\n",
    "# Update biomass\n",
    "update.save_biomass(bd_step2_u,'../tables/bofdat_step2.csv')"
   ]
  },
  {
   "cell_type": "markdown",
   "metadata": {},
   "source": [
    "# Step 3. Finding specie-specific metabolic end goals"
   ]
  },
  {
   "cell_type": "markdown",
   "metadata": {},
   "source": [
    "This step was skipped"
   ]
  },
  {
   "cell_type": "markdown",
   "metadata": {},
   "source": [
    "# 4. Update BOF of EcN"
   ]
  },
  {
   "cell_type": "markdown",
   "metadata": {},
   "source": [
    "### Load step 2"
   ]
  },
  {
   "cell_type": "code",
   "execution_count": 28,
   "metadata": {
    "scrolled": true
   },
   "outputs": [],
   "source": [
    "# # Load bd_steps\n",
    "df_bd2 = pd.read_csv('../tables/bofdat_step2.csv', usecols=['Metabolites', 'Coefficients'])\n",
    "df_bd2.set_index('Metabolites', inplace=True)\n",
    "\n",
    "bd2 = {}\n",
    "\n",
    "for mtb in df_bd2.index:\n",
    "    bd2[mtb] = df_bd2.loc[mtb, 'Coefficients']"
   ]
  },
  {
   "cell_type": "markdown",
   "metadata": {},
   "source": [
    "### Update model"
   ]
  },
  {
   "cell_type": "code",
   "execution_count": 29,
   "metadata": {},
   "outputs": [],
   "source": [
    "# Load model\n",
    "EcN_model = cobra.io.load_json_model('../data/models/CP022686.1_cur_4.7.json')"
   ]
  },
  {
   "cell_type": "code",
   "execution_count": 30,
   "metadata": {},
   "outputs": [],
   "source": [
    "# EcN_model.reactions.BIOMASS_EcN_iHM1533_core_59p80M.reaction"
   ]
  },
  {
   "cell_type": "code",
   "execution_count": 31,
   "metadata": {
    "scrolled": true
   },
   "outputs": [
    {
     "name": "stdout",
     "output_type": "stream",
     "text": [
      "('pg161_p', 'not in BIOMASS')\n",
      "('pe181_p', 'not in BIOMASS')\n",
      "('na1_c', 'not in BIOMASS')\n",
      "('pyr_c', 'not in BIOMASS')\n",
      "('nadh_c', 'not in BIOMASS')\n",
      "('amp_c', 'not in BIOMASS')\n",
      "('pg181_p', 'not in BIOMASS')\n",
      "('glyc3p_c', 'not in BIOMASS')\n",
      "('nadph_c', 'not in BIOMASS')\n",
      "('pg160_p', 'not in BIOMASS')\n"
     ]
    }
   ],
   "source": [
    "for mtb in bd2:\n",
    "    coef = bd2[mtb]\n",
    "    \n",
    "    # Remove metabolite from existing biomass reaction\n",
    "    try:\n",
    "        comp = EcN_model.reactions.BIOMASS_EcN_iHM1533_core_59p80M.get_coefficient(mtb)\n",
    "        EcN_model.reactions.BIOMASS_EcN_iHM1533_core_59p80M.add_metabolites({mtb: -comp})\n",
    "    except:\n",
    "        print(mtb, 'not in BIOMASS')\n",
    "        \n",
    "# Add all metabolites from step 2\n",
    "EcN_model.reactions.BIOMASS_EcN_iHM1533_core_59p80M.add_metabolites(bd2)"
   ]
  },
  {
   "cell_type": "code",
   "execution_count": 32,
   "metadata": {},
   "outputs": [],
   "source": [
    "# EcN_model.reactions.BIOMASS_EcN_iHM1533_core_59p80M.reaction"
   ]
  },
  {
   "cell_type": "code",
   "execution_count": 33,
   "metadata": {},
   "outputs": [],
   "source": [
    "# Remove iML1515 biomass reactions from EcN_model\n",
    "EcN_model.remove_reactions(['BIOMASS_Ec_iML1515_core_75p37M', 'BIOMASS_Ec_iML1515_WT_75p37M'])"
   ]
  },
  {
   "cell_type": "markdown",
   "metadata": {},
   "source": [
    "#### Update reaction list"
   ]
  },
  {
   "cell_type": "code",
   "execution_count": 3,
   "metadata": {},
   "outputs": [],
   "source": [
    "# Load the rxn_origin dataframe and update biomass reactions\n",
    "rxn_origin_df = pd.read_csv('../tables/rxn_origin.csv', usecols=['reaction', 'origin', 'added', 'notebook', 'notes'])\n",
    "rxn_origin_df.set_index('reaction', inplace=True)\n",
    "\n",
    "rxn_origin_df.loc['BIOMASS_Ec_iML1515_core_75p37M', 'added'] = 'removed'\n",
    "rxn_origin_df.loc['BIOMASS_Ec_iML1515_core_75p37M', 'notes'] = 'Reaction was replaced by BIOMASS_EcN_iHM1533_core_59p80M in 4.8'\n",
    "\n",
    "rxn_origin_df.loc['BIOMASS_Ec_iML1515_WT_75p37M', 'added'] = 'removed'\n",
    "rxn_origin_df.loc['BIOMASS_Ec_iML1515_WT_75p37M', 'notes'] = 'Reaction was replaced by BIOMASS_EcN_iHM1533_core_59p80M in 4.8'\n",
    "\n",
    "rxn_origin_df.loc['BIOMASS_EcN_iHM1533_core_59p80M', 'origin'] = 'New Reaction'\n",
    "rxn_origin_df.loc['BIOMASS_EcN_iHM1533_core_59p80M', 'added'] = 'manual'\n",
    "rxn_origin_df.loc['BIOMASS_EcN_iHM1533_core_59p80M', 'notebook'] = '4.8'\n",
    "rxn_origin_df.loc['BIOMASS_EcN_iHM1533_core_59p80M', 'notes'] = 'Reaction added in 4.8. Replaces original iML1515 biomass objective functions'\n",
    "\n",
    "# Save\n",
    "rxn_origin_df.to_csv('../tables/rxn_origin.csv')"
   ]
  },
  {
   "cell_type": "markdown",
   "metadata": {},
   "source": [
    "#### Save updated model"
   ]
  },
  {
   "cell_type": "code",
   "execution_count": 34,
   "metadata": {},
   "outputs": [],
   "source": [
    "# Update model ID\n",
    "EcN_model.id = 'iHM1533' #SBML only accepts \"a string comprising only alphanumeric characters and underscores starting with either a letter or an underscore\"\n",
    "\n",
    "# Save the model\n",
    "cobra.io.json.save_json_model(EcN_model, '../data/models/CP022686.1_cur_4.8.json')"
   ]
  }
 ],
 "metadata": {
  "kernelspec": {
   "display_name": "Python 3 (ipykernel)",
   "language": "python",
   "name": "python3"
  },
  "language_info": {
   "codemirror_mode": {
    "name": "ipython",
    "version": 3
   },
   "file_extension": ".py",
   "mimetype": "text/x-python",
   "name": "python",
   "nbconvert_exporter": "python",
   "pygments_lexer": "ipython3",
   "version": "3.10.4"
  }
 },
 "nbformat": 4,
 "nbformat_minor": 2
}
