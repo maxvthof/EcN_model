{
 "cells": [
  {
   "cell_type": "markdown",
   "metadata": {},
   "source": [
    "## Notebook 2: Homology matrix generation from genome sequences\n",
    "\n",
    "Based on the paper from Norsigian et al. (2020) , using the 55 GEMS from Monk et al. (2013). \n",
    "\n",
    "This notebook generates the data used for the draft model generation in notebook 3.1. To start, a list of reference strains with NCBI identifiers is compiled. Annotated genomes of all reference strains and EcN are downloaded from NCBI as genbank files and parsed to generate FASTA files for the protein sequences. A bidirectional protein blast (BLASTp) is run between EcN and the reference strains. Protein sequences with a percentage identity (PID) above an 80% similarity threshold and alignment length of at least 25% are deemed homologous. The best bidirectional hit (BBH) is identified for each EcN gene and a binary orthology matrix is created based on the gene homology. Additionally bi-directional blast best hits are identified for all E. coli K-12 MG1655 genes in comparison to EcN. \n",
    "\n",
    "---\n",
    "#### Original\n",
    "In this tutorial, we will be working on generationg multi-strain genome-scale models for 5 E.coli strains. The reference model we used here is the iML1515 model published in Nature Biotechnology (PMID: 29020004), and the reference strain is E. coli K12 MG1655. We will be generating strain-specific models for 5 other E.coli strains: ATCC 8739, LF82, UM146, UMN026 and IAI39.\n",
    "\n",
    "This is the the first notebook in the tutorial to create homology matrix from genome sequences.There are four major steps in this notebook\n",
    "1. Download the genome annotation (GenBank files) from NCBI, and generate fasta files (protein &nucleotide) from them\n",
    "2. Perform BLASTp to find homologous proteins in strains of interest\n",
    "3. Use best bidirectional hits to create gene presence/absence matrix\n",
    "4. Supplementary for best practice: use BLASTn to check if we have missed any unannotated open reading frames and retain these genes in orthology matrix as well as guide future manual curation"
   ]
  },
  {
   "cell_type": "code",
   "execution_count": 1,
   "metadata": {},
   "outputs": [],
   "source": [
    "#import packages needed\n",
    "import pandas as pd\n",
    "from glob import glob\n",
    "from Bio import Entrez, SeqIO"
   ]
  },
  {
   "cell_type": "code",
   "execution_count": 3,
   "metadata": {},
   "outputs": [
    {
     "data": {
      "text/html": [
       "<div>\n",
       "<style scoped>\n",
       "    .dataframe tbody tr th:only-of-type {\n",
       "        vertical-align: middle;\n",
       "    }\n",
       "\n",
       "    .dataframe tbody tr th {\n",
       "        vertical-align: top;\n",
       "    }\n",
       "\n",
       "    .dataframe thead th {\n",
       "        text-align: right;\n",
       "    }\n",
       "</style>\n",
       "<table border=\"1\" class=\"dataframe\">\n",
       "  <thead>\n",
       "    <tr style=\"text-align: right;\">\n",
       "      <th></th>\n",
       "      <th>Strain</th>\n",
       "      <th>NCBI ID</th>\n",
       "    </tr>\n",
       "  </thead>\n",
       "  <tbody>\n",
       "    <tr>\n",
       "      <th>0</th>\n",
       "      <td>Escherichia coli LF82</td>\n",
       "      <td>CU651637</td>\n",
       "    </tr>\n",
       "    <tr>\n",
       "      <th>1</th>\n",
       "      <td>Escherichia coli O83:H1 str. NRG 857C</td>\n",
       "      <td>CP001855</td>\n",
       "    </tr>\n",
       "    <tr>\n",
       "      <th>2</th>\n",
       "      <td>Escherichia coli UM146</td>\n",
       "      <td>CP002167</td>\n",
       "    </tr>\n",
       "    <tr>\n",
       "      <th>3</th>\n",
       "      <td>Escherichia coli APEC O1</td>\n",
       "      <td>CP000468</td>\n",
       "    </tr>\n",
       "    <tr>\n",
       "      <th>4</th>\n",
       "      <td>Escherichia coli ATCC 8739</td>\n",
       "      <td>CP000946</td>\n",
       "    </tr>\n",
       "  </tbody>\n",
       "</table>\n",
       "</div>"
      ],
      "text/plain": [
       "                                  Strain   NCBI ID\n",
       "0                  Escherichia coli LF82  CU651637\n",
       "1  Escherichia coli O83:H1 str. NRG 857C  CP001855\n",
       "2                 Escherichia coli UM146  CP002167\n",
       "3               Escherichia coli APEC O1  CP000468\n",
       "4             Escherichia coli ATCC 8739  CP000946"
      ]
     },
     "execution_count": 3,
     "metadata": {},
     "output_type": "execute_result"
    }
   ],
   "source": [
    "# Load the information on the 55 reference strains\n",
    "ReferenceStrains=pd.read_csv('../tables/strain_info.csv', usecols=[1,3])\n",
    "ReferenceStrains.head()"
   ]
  },
  {
   "cell_type": "code",
   "execution_count": 4,
   "metadata": {},
   "outputs": [],
   "source": [
    "# The Reference Genome of E. coli Nissle, Assembly: ASM71459v1, Bioproject: PRJNA248167\n",
    "EcN_ID ='CP022686.1'\n",
    "ReferenceStrainIDs=list(ReferenceStrains['NCBI ID'])"
   ]
  },
  {
   "cell_type": "markdown",
   "metadata": {},
   "source": [
    "## 1. Download genome annotations (GenBank files) to generate fasta files "
   ]
  },
  {
   "cell_type": "markdown",
   "metadata": {},
   "source": [
    "### 1.1 Dowload genomes from NCBI\n",
    "Download the genome annotations (GenBank files) from NCBI for all reference strains and EcN. "
   ]
  },
  {
   "cell_type": "code",
   "execution_count": 4,
   "metadata": {},
   "outputs": [],
   "source": [
    "# Define path for storage of files\n",
    "genomes_path = '../data/genomes_gb'\n",
    "prot_path = '../data/proteins'\n",
    "nucl_path = '../data/nucleotides'"
   ]
  },
  {
   "cell_type": "code",
   "execution_count": 5,
   "metadata": {},
   "outputs": [],
   "source": [
    "# define a function to download the annotated genebank files from NCBI\n",
    "def dl_genome(id, folder=genomes_path): # be sure get CORRECT ID\n",
    "    files=glob('%s/*.gb'%folder)\n",
    "    out_file = '%s/%s.gb'%(folder, id)\n",
    "\n",
    "    if out_file in files:\n",
    "        print (out_file, 'already downloaded')\n",
    "        return\n",
    "    else:\n",
    "        print ('downloading %s from NCBI'%id)\n",
    "        \n",
    "    from Bio import Entrez\n",
    "    Entrez.email = \"\"     #Insert email here for NCBI\n",
    "    handle = Entrez.efetch(db=\"nucleotide\", id=id, rettype=\"gb\", retmode=\"text\")\n",
    "    fout = open(out_file,'w')\n",
    "    fout.write(handle.read())\n",
    "    fout.close()"
   ]
  },
  {
   "cell_type": "code",
   "execution_count": 6,
   "metadata": {
    "scrolled": true
   },
   "outputs": [
    {
     "name": "stdout",
     "output_type": "stream",
     "text": [
      "downloading CU651637 from NCBI\n",
      "downloading CP001855 from NCBI\n",
      "downloading CP002167 from NCBI\n",
      "downloading CP000468 from NCBI\n",
      "downloading CP000946 from NCBI\n",
      "downloading CP000819 from NCBI\n",
      "downloading CP001665 from NCBI\n",
      "downloading AM946981 from NCBI\n",
      "downloading CP001509 from NCBI\n",
      "downloading CP001396 from NCBI\n",
      "downloading CP001637 from NCBI\n",
      "downloading AP012030 from NCBI\n",
      "downloading CU928162 from NCBI\n",
      "downloading CP000802 from NCBI\n",
      "downloading CU928160 from NCBI\n",
      "downloading CP002516 from NCBI\n",
      "downloading AP009240 from NCBI\n",
      "downloading AP009378 from NCBI\n",
      "downloading CP000948 from NCBI\n",
      "downloading U00096 from NCBI\n",
      "downloading AP009048 from NCBI\n",
      "downloading CP002185 from NCBI\n",
      "downloading CP002967 from NCBI\n",
      "downloading FN554766 from NCBI\n",
      "downloading CU928145 from NCBI\n",
      "downloading AP010958 from NCBI\n",
      "downloading AP010960 from NCBI\n",
      "downloading CP001164 from NCBI\n",
      "downloading AE005174 from NCBI\n",
      "downloading BA000007 from NCBI\n",
      "downloading CP001368 from NCBI\n",
      "downloading AP010953 from NCBI\n",
      "downloading CP001846 from NCBI\n",
      "downloading CP000970 from NCBI\n",
      "downloading FM180568 from NCBI\n",
      "downloading CP000800 from NCBI\n",
      "downloading FN649414 from NCBI\n",
      "downloading CP002729 from NCBI\n",
      "downloading CP001969 from NCBI\n",
      "downloading CU928161 from NCBI\n",
      "downloading CP000247 from NCBI\n",
      "downloading CP001671 from NCBI\n",
      "downloading AE014075 from NCBI\n",
      "downloading CU928164 from NCBI\n",
      "downloading CP002797 from NCBI\n",
      "downloading CU928163 from NCBI\n",
      "downloading CP000243 from NCBI\n",
      "downloading CP001063 from NCBI\n",
      "downloading CP000036 from NCBI\n",
      "downloading CP000034 from NCBI\n",
      "downloading CP001383 from NCBI\n",
      "downloading AE014073 from NCBI\n",
      "downloading AE005674 from NCBI\n",
      "downloading CP000266 from NCBI\n",
      "downloading CP000038 from NCBI\n"
     ]
    }
   ],
   "source": [
    "# execute the above function, and download the GenBank files for 55 E. coli/Shigella strains\n",
    "for strain in ReferenceStrainIDs:\n",
    "    dl_genome(strain, folder=genomes_path)"
   ]
  },
  {
   "cell_type": "code",
   "execution_count": 13,
   "metadata": {},
   "outputs": [
    {
     "name": "stdout",
     "output_type": "stream",
     "text": [
      "downloading CP022686.1 from NCBI\n"
     ]
    }
   ],
   "source": [
    "# Additionally download the GenBank file of EcN into the \"genomes\" folder\n",
    "dl_genome(EcN_ID, folder=genomes_path)"
   ]
  },
  {
   "cell_type": "markdown",
   "metadata": {},
   "source": [
    "### 1.2 Examine the Downloaded Strains"
   ]
  },
  {
   "cell_type": "code",
   "execution_count": null,
   "metadata": {},
   "outputs": [],
   "source": [
    "# define a function to gather information of the downloaded strains from the GenBank files\n",
    "def get_strain_info(folder=genomes_path):\n",
    "    files = glob('%s/*.gb'%folder)\n",
    "    strain_info = []\n",
    "    \n",
    "    for file in files:\n",
    "        handle = open(file)\n",
    "        record = SeqIO.read(handle, \"genbank\")\n",
    "        \n",
    "        for f in record.features:\n",
    "            if f.type=='source':\n",
    "                info = {}\n",
    "                info['file'] = file\n",
    "                info['id'] = file.split('\\\\')[-1].split('.')[0]\n",
    "                for q in f.qualifiers.keys():\n",
    "                    info[q] = '|'.join(f.qualifiers[q])\n",
    "                strain_info.append(info)\n",
    "    return pd.DataFrame(strain_info)"
   ]
  },
  {
   "cell_type": "code",
   "execution_count": null,
   "metadata": {},
   "outputs": [],
   "source": [
    "# information on the downloaded strains\n",
    "get_strain_info(folder=genomes_path)"
   ]
  },
  {
   "cell_type": "markdown",
   "metadata": {},
   "source": [
    "### 1.3 Generate FASTA files for both Protein and Nucleotide Pipelines\n",
    "From the GenBank file, sequence and annoation information is used to generate fasta files for the protein and nucleotide analyses. The resulting fasta files will then be used in step 2 as input for BLAST"
   ]
  },
  {
   "cell_type": "code",
   "execution_count": null,
   "metadata": {},
   "outputs": [],
   "source": [
    "# define a function to parse the Genbank file to generate fasta files for both protein and nucleotide sequences\n",
    "def parse_genome(id, type='prot', in_folder=genomes_path, out_folder=prot_path, overwrite=0):\n",
    "\n",
    "    in_file = '%s/%s.gb'%(in_folder, id)\n",
    "    out_file='%s/%s.fa'%(out_folder, id)\n",
    "    files =glob('%s/*.fa'%out_folder)\n",
    "    \n",
    "    if out_file in files and overwrite==0:\n",
    "        print (out_file, 'already parsed')\n",
    "        return\n",
    "    else:\n",
    "        print ('parsing %s'%id)\n",
    "        \n",
    "    gene_synonym_dict = {}\n",
    "    \n",
    "    handle = open(in_file)\n",
    "    \n",
    "    fout = open(out_file,'w')\n",
    "    x = 0\n",
    "\n",
    "    records = SeqIO.parse(handle, \"genbank\")\n",
    "    for record in records:\n",
    "        for f in record.features:\n",
    "            if f.type=='CDS':\n",
    "                seq=f.extract(record.seq)\n",
    "                \n",
    "                if type=='nucl':\n",
    "                    seq=str(seq)\n",
    "                else:\n",
    "                    seq=str(seq.translate())\n",
    "                    \n",
    "                if 'locus_tag' in f.qualifiers.keys():\n",
    "                    locus = f.qualifiers['locus_tag'][0]\n",
    "                elif 'gene' in f.qualifiers.keys():\n",
    "                    locus = f.qualifiers['gene'][0]\n",
    "                else:\n",
    "                    locus = 'gene_%i'%x\n",
    "                    x+=1\n",
    "                fout.write('>%s\\n%s\\n'%(locus, seq))\n",
    "                \n",
    "    fout.close()\n",
    "    gene_synonym_dict.to_csv('../tables/gene_synonym.csv')"
   ]
  },
  {
   "cell_type": "code",
   "execution_count": null,
   "metadata": {
    "scrolled": true
   },
   "outputs": [],
   "source": [
    "# Generate fasta files for 55 reference strains and EcN\n",
    "for strain in ReferenceStrainIDs:\n",
    "    parse_genome(strain, type='prot', in_folder=genomes_path, out_folder=prot_path)\n",
    "    parse_genome(strain, type='nucl', in_folder=genomes_path, out_folder=nucl_path)\n",
    "    \n",
    "parse_genome(EcN_ID, type='prots', in_folder=genomes_path, out_folder=prot_path)\n",
    "parse_genome(EcN_ID, type='nucl', in_folder=genomes_path, out_folder=nucl_path) "
   ]
  },
  {
   "cell_type": "markdown",
   "metadata": {},
   "source": [
    "## 2. Perform BLAST to find homologous proteins in strains of interest"
   ]
  },
  {
   "cell_type": "markdown",
   "metadata": {},
   "source": [
    "### 2.1 Make BLAST DB for each of the target strains for both Protein and Nucleotide Pipelines\n",
    "\n",
    "Both BLASTp for proteins and BLASTn for nucleotides is run. BLASTp will be used as the main approach to identify homologous proteins in reference strain and other strains of interest, while BLASTn will be used as a supplementary method to check for any unannotated genes"
   ]
  },
  {
   "cell_type": "code",
   "execution_count": null,
   "metadata": {},
   "outputs": [],
   "source": [
    "# Define a function to make blast database for either protein of nucleotide\n",
    "def make_blast_db(id,folder=prot_path,db_type='prot'):\n",
    "    import os\n",
    "    \n",
    "    out_file ='%s/%s.fa.pin'%(folder, id)\n",
    "    files =glob('%s/*.fa.pin'%folder)\n",
    "    \n",
    "    if out_file in files:\n",
    "        print (id, 'already has a blast db')\n",
    "        return\n",
    "    if db_type=='nucl':\n",
    "        ext='fna'\n",
    "    else:\n",
    "        ext='fa'\n",
    "\n",
    "    cmd_line='makeblastdb -in %s/%s.%s -dbtype %s' %(folder, id, ext, db_type)\n",
    "    \n",
    "    print ('making blast db with following command line...')\n",
    "    print (cmd_line)\n",
    "    os.system(cmd_line)"
   ]
  },
  {
   "cell_type": "code",
   "execution_count": null,
   "metadata": {},
   "outputs": [],
   "source": [
    "# make protein sequence databases \n",
    "# Because we are performing bi-directional blast, we make databases from both reference strain and strains of interest\n",
    "for strain in ReferenceStrainIDs:\n",
    "    make_blast_db(strain,folder=prot_path,db_type='prot')\n",
    "    \n",
    "make_blast_db(EcN_ID,folder=prot_path,db_type='prot')"
   ]
  },
  {
   "cell_type": "markdown",
   "metadata": {},
   "source": [
    "### 2.2 Define functions to run protein BLAST and get sequence lengths\n",
    "- BLASTp will be the main approach used here to identify homologous proteins between strains \n",
    "- Aside from sequence similarity, we also want to ensure the coverage of sequence mapping is sufficient. Therefore, we need to identiy the sequence length for each protein and compare it with the alignment length."
   ]
  },
  {
   "cell_type": "code",
   "execution_count": 14,
   "metadata": {},
   "outputs": [],
   "source": [
    "# define a function to run BLASTp\n",
    "def run_blastp(seq,db,in_folder=prot_path, out_folder='../data/bbh', out=None,outfmt=6,evalue=0.001,threads=1):\n",
    "    import os\n",
    "    if out==None:\n",
    "        out='%s/%s_vs_%s.txt'%(out_folder, seq, db)\n",
    "        print(out)\n",
    "\n",
    "    files =glob('%s/*.txt'%out_folder)\n",
    "    if out in files:\n",
    "        print (seq, 'already blasted')\n",
    "        return\n",
    "    \n",
    "    print ('blasting %s vs %s'%(seq, db))\n",
    "    \n",
    "    db = '%s/%s.fa'%(in_folder, db)\n",
    "    seq = '%s/%s.fa'%(in_folder, seq)\n",
    "    cmd_line='blastp -db %s -query %s -out %s -evalue %s -outfmt %s -num_threads %i' \\\n",
    "    %(db, seq, out, evalue, outfmt, threads)\n",
    "    \n",
    "    print ('running blastp with following command line...')\n",
    "    print (cmd_line)\n",
    "    os.system(cmd_line)\n",
    "    return out"
   ]
  },
  {
   "cell_type": "code",
   "execution_count": 15,
   "metadata": {},
   "outputs": [],
   "source": [
    "# define a function to get sequence length \n",
    "def get_gene_lens(query, in_folder=prot_path):\n",
    "\n",
    "    file = '%s/%s.fa'%(in_folder, query)\n",
    "    handle = open(file)\n",
    "    records = SeqIO.parse(handle, \"fasta\")\n",
    "    out = []\n",
    "    \n",
    "    for record in records:\n",
    "        out.append({'gene':record.name, 'gene_length':len(record.seq)})\n",
    "    \n",
    "    out = pd.DataFrame(out)\n",
    "    return out"
   ]
  },
  {
   "cell_type": "markdown",
   "metadata": {},
   "source": [
    "## 3. Use Bi-Directional BLASTp Best Hits to create gene presence/absence matrix"
   ]
  },
  {
   "cell_type": "markdown",
   "metadata": {},
   "source": [
    "### 3.1 Obtain Bi-Directional BLASTp Best Hits\n",
    "\n",
    "From the above BLASTp results, we can obtain Bi-Directional BLASTp Best Hits to identify homologous proteins (>80%, see section 3.3). Besides gene similarity score, the coverage of alignment is also used to filter mapping results (>25%). "
   ]
  },
  {
   "cell_type": "code",
   "execution_count": 16,
   "metadata": {},
   "outputs": [],
   "source": [
    "# define a function to get Bi-Directional BLASTp Best Hits\n",
    "def get_bbh(query, subject, in_folder='../data/bbh'):    \n",
    "    \n",
    "    #Utilize the defined protein BLAST function\n",
    "    run_blastp(query, subject)\n",
    "    run_blastp(subject, query)\n",
    "    \n",
    "    query_lengths = get_gene_lens(query, in_folder=prot_path)\n",
    "    subject_lengths = get_gene_lens(subject, in_folder=prot_path)\n",
    "    \n",
    "    #Define the output file of this BLAST\n",
    "    out_file = '%s/%s_vs_%s_parsed.csv'%(in_folder, query, subject)\n",
    "    files=glob('%s/*_parsed.csv'%in_folder)\n",
    "    \n",
    "    #Combine the results of the protein BLAST into a dataframe\n",
    "    print ('parsing BBHs for', query, subject)\n",
    "    cols = ['gene', 'subject', 'PID', 'alnLength', 'mismatchCount', 'gapOpenCount', 'queryStart', 'queryEnd', 'subjectStart', 'subjectEnd', 'eVal', 'bitScore']\n",
    "    bbh=pd.read_csv('%s/%s_vs_%s.txt'%(in_folder,query, subject), sep='\\t', names=cols)\n",
    "    bbh = pd.merge(bbh, query_lengths) \n",
    "    bbh['COV'] = bbh['alnLength']/bbh['gene_length']\n",
    "    \n",
    "    bbh2=pd.read_csv('%s/%s_vs_%s.txt'%(in_folder,subject, query), sep='\\t', names=cols)\n",
    "    bbh2 = pd.merge(bbh2, subject_lengths) \n",
    "    bbh2['COV'] = bbh2['alnLength']/bbh2['gene_length']\n",
    "    out = pd.DataFrame()\n",
    "    \n",
    "    # Filter the genes based on coverage (>25%)\n",
    "    bbh = bbh[bbh.COV>=0.25]\n",
    "    bbh2 = bbh2[bbh2.COV>=0.25]\n",
    "    \n",
    "    #Delineate the best hits from the BLAST\n",
    "    for g in bbh.gene.unique():\n",
    "        res = bbh[bbh.gene==g]\n",
    "        if len(res)==0:\n",
    "            continue\n",
    "#         best_hit = res.loc[res.PID.idxmax()]\n",
    "#         best_gene = best_hit.subject\n",
    "#         res2 = bbh2[bbh2.gene==best_gene]\n",
    "        \n",
    "        # add section to catch cases where highest hits are not the same\n",
    "        res.sort_values('PID', ascending=False, inplace=True)\n",
    "        for hit in res['subject']: #check for the all hits whether they are present in the other direction\n",
    "            res2 = bbh2[bbh2.gene==hit]\n",
    "            if len(res2)!=0: # as soon as there is a hit, continue\n",
    "                best_hit = res[res['subject'] == hit] #Set the gene that is the highest hit as best_hit\n",
    "                best_gene = best_hit.subject\n",
    "                break\n",
    "        \n",
    "        if len(res2)==0:\n",
    "            continue\n",
    "        best_hit2 = res2.loc[res2.PID.idxmax()]\n",
    "        best_gene2 = best_hit2.subject\n",
    "        if g==best_gene2:\n",
    "            best_hit['BBH'] = '<=>'\n",
    "        else:\n",
    "            best_hit['BBH'] = '->'\n",
    "        out=pd.concat([out, pd.DataFrame(best_hit)])#.transpose()])\n",
    "    \n",
    "    #Save the final file to a designated CSV file    \n",
    "    out.to_csv(out_file)"
   ]
  },
  {
   "cell_type": "code",
   "execution_count": 7,
   "metadata": {
    "scrolled": true
   },
   "outputs": [],
   "source": [
    "# Execute the BLAST for EcN against all reference strains, save results to 'bbh' i.e. \"bidirectional best\n",
    "# hits\" folder to create the homology matrix\n",
    "\n",
    "for strain in ReferenceStrainIDs:\n",
    "    get_bbh(EcN_ID,strain, in_folder='../data/bbh')"
   ]
  },
  {
   "cell_type": "code",
   "execution_count": 19,
   "metadata": {},
   "outputs": [
    {
     "name": "stdout",
     "output_type": "stream",
     "text": [
      "../data/bbh/U00096_vs_CP022686.1.txt\n",
      "blasting U00096 vs CP022686.1\n",
      "running blastp with following command line...\n",
      "blastp -db ../data/proteins/CP022686.1.fa -query ../data/proteins/U00096.fa -out ../data/bbh/U00096_vs_CP022686.1.txt -evalue 0.001 -outfmt 6 -num_threads 1\n",
      "../data/bbh/CP022686.1_vs_U00096.txt\n",
      "blasting CP022686.1 vs U00096\n",
      "running blastp with following command line...\n",
      "blastp -db ../data/proteins/U00096.fa -query ../data/proteins/CP022686.1.fa -out ../data/bbh/CP022686.1_vs_U00096.txt -evalue 0.001 -outfmt 6 -num_threads 1\n",
      "parsing BBHs for U00096 CP022686.1\n"
     ]
    },
    {
     "name": "stderr",
     "output_type": "stream",
     "text": [
      "C:\\Users\\maxvan\\AppData\\Local\\Continuum\\anaconda3\\envs\\cell-factory-course\\lib\\site-packages\\ipykernel_launcher.py:41: SettingWithCopyWarning: \n",
      "A value is trying to be set on a copy of a slice from a DataFrame\n",
      "\n",
      "See the caveats in the documentation: http://pandas.pydata.org/pandas-docs/stable/user_guide/indexing.html#returning-a-view-versus-a-copy\n",
      "C:\\Users\\maxvan\\AppData\\Local\\Continuum\\anaconda3\\envs\\cell-factory-course\\lib\\site-packages\\ipykernel_launcher.py:54: SettingWithCopyWarning: \n",
      "A value is trying to be set on a copy of a slice from a DataFrame.\n",
      "Try using .loc[row_indexer,col_indexer] = value instead\n",
      "\n",
      "See the caveats in the documentation: http://pandas.pydata.org/pandas-docs/stable/user_guide/indexing.html#returning-a-view-versus-a-copy\n",
      "C:\\Users\\maxvan\\AppData\\Local\\Continuum\\anaconda3\\envs\\cell-factory-course\\lib\\site-packages\\ipykernel_launcher.py:56: SettingWithCopyWarning: \n",
      "A value is trying to be set on a copy of a slice from a DataFrame.\n",
      "Try using .loc[row_indexer,col_indexer] = value instead\n",
      "\n",
      "See the caveats in the documentation: http://pandas.pydata.org/pandas-docs/stable/user_guide/indexing.html#returning-a-view-versus-a-copy\n"
     ]
    }
   ],
   "source": [
    "# Additionally get the bhh for the comparison between MG1655 and EcN\n",
    "get_bbh('U00096', EcN_ID, in_folder='../data/bbh')"
   ]
  },
  {
   "cell_type": "markdown",
   "metadata": {},
   "source": [
    "### 3.2 Parse the BLAST Results into one Homology Matrix of the Reconstruction Genes\n",
    "\n",
    "For the homology matrix, we only focus on genes that are present in the reference model"
   ]
  },
  {
   "cell_type": "code",
   "execution_count": 15,
   "metadata": {
    "scrolled": true
   },
   "outputs": [
    {
     "name": "stdout",
     "output_type": "stream",
     "text": [
      "../data/bbh\\CP022686.1_vs_AE005174_parsed.csv (4184, 16)\n",
      "../data/bbh\\CP022686.1_vs_AE005674_parsed.csv (3979, 16)\n",
      "../data/bbh\\CP022686.1_vs_AE014073_parsed.csv (3874, 16)\n",
      "../data/bbh\\CP022686.1_vs_AE014075_parsed.csv (4543, 16)\n",
      "../data/bbh\\CP022686.1_vs_AM946981_parsed.csv (4110, 16)\n",
      "../data/bbh\\CP022686.1_vs_AP009048_parsed.csv (4136, 16)\n",
      "../data/bbh\\CP022686.1_vs_AP009240_parsed.csv (4201, 16)\n",
      "../data/bbh\\CP022686.1_vs_AP009378_parsed.csv (4319, 16)\n",
      "../data/bbh\\CP022686.1_vs_AP010953_parsed.csv (4294, 16)\n",
      "../data/bbh\\CP022686.1_vs_AP010958_parsed.csv (4272, 16)\n",
      "../data/bbh\\CP022686.1_vs_AP010960_parsed.csv (4247, 16)\n",
      "../data/bbh\\CP022686.1_vs_AP012030_parsed.csv (4129, 16)\n",
      "../data/bbh\\CP022686.1_vs_BA000007_parsed.csv (4189, 16)\n",
      "../data/bbh\\CP022686.1_vs_CP000034_parsed.csv (3762, 16)\n",
      "../data/bbh\\CP022686.1_vs_CP000036_parsed.csv (3871, 16)\n",
      "../data/bbh\\CP022686.1_vs_CP000038_parsed.csv (3956, 16)\n",
      "../data/bbh\\CP022686.1_vs_CP000243_parsed.csv (4466, 16)\n",
      "../data/bbh\\CP022686.1_vs_CP000247_parsed.csv (4435, 16)\n",
      "../data/bbh\\CP022686.1_vs_CP000266_parsed.csv (3857, 16)\n",
      "../data/bbh\\CP022686.1_vs_CP000468_parsed.csv (4107, 16)\n",
      "../data/bbh\\CP022686.1_vs_CP000800_parsed.csv (4209, 16)\n",
      "../data/bbh\\CP022686.1_vs_CP000802_parsed.csv (4108, 16)\n",
      "../data/bbh\\CP022686.1_vs_CP000819_parsed.csv (4090, 16)\n",
      "../data/bbh\\CP022686.1_vs_CP000946_parsed.csv (4096, 16)\n",
      "../data/bbh\\CP022686.1_vs_CP000948_parsed.csv (4075, 16)\n",
      "../data/bbh\\CP022686.1_vs_CP000970_parsed.csv (4254, 16)\n",
      "../data/bbh\\CP022686.1_vs_CP001063_parsed.csv (3856, 16)\n",
      "../data/bbh\\CP022686.1_vs_CP001164_parsed.csv (4169, 16)\n",
      "../data/bbh\\CP022686.1_vs_CP001368_parsed.csv (4196, 16)\n",
      "../data/bbh\\CP022686.1_vs_CP001383_parsed.csv (3976, 16)\n",
      "../data/bbh\\CP022686.1_vs_CP001396_parsed.csv (4112, 16)\n",
      "../data/bbh\\CP022686.1_vs_CP001509_parsed.csv (4104, 16)\n",
      "../data/bbh\\CP022686.1_vs_CP001637_parsed.csv (4109, 16)\n",
      "../data/bbh\\CP022686.1_vs_CP001665_parsed.csv (4127, 16)\n",
      "../data/bbh\\CP022686.1_vs_CP001671_parsed.csv (4483, 16)\n",
      "../data/bbh\\CP022686.1_vs_CP001846_parsed.csv (4249, 16)\n",
      "../data/bbh\\CP022686.1_vs_CP001855_parsed.csv (4253, 16)\n",
      "../data/bbh\\CP022686.1_vs_CP001969_parsed.csv (4329, 16)\n",
      "../data/bbh\\CP022686.1_vs_CP002167_parsed.csv (4379, 16)\n",
      "../data/bbh\\CP022686.1_vs_CP002185_parsed.csv (4175, 16)\n",
      "../data/bbh\\CP022686.1_vs_CP002516_parsed.csv (4171, 16)\n",
      "../data/bbh\\CP022686.1_vs_CP002729_parsed.csv (4245, 16)\n",
      "../data/bbh\\CP022686.1_vs_CP002797_parsed.csv (4314, 16)\n",
      "../data/bbh\\CP022686.1_vs_CP002967_parsed.csv (4197, 16)\n",
      "../data/bbh\\CP022686.1_vs_CU651637_parsed.csv (4226, 16)\n",
      "../data/bbh\\CP022686.1_vs_CU928145_parsed.csv (4311, 16)\n",
      "../data/bbh\\CP022686.1_vs_CU928160_parsed.csv (4165, 16)\n",
      "../data/bbh\\CP022686.1_vs_CU928161_parsed.csv (4403, 16)\n",
      "../data/bbh\\CP022686.1_vs_CU928162_parsed.csv (4364, 16)\n",
      "../data/bbh\\CP022686.1_vs_CU928163_parsed.csv (4377, 16)\n",
      "../data/bbh\\CP022686.1_vs_CU928164_parsed.csv (4259, 16)\n",
      "../data/bbh\\CP022686.1_vs_FM180568_parsed.csv (4232, 16)\n",
      "../data/bbh\\CP022686.1_vs_FN554766_parsed.csv (4287, 16)\n",
      "../data/bbh\\CP022686.1_vs_FN649414_parsed.csv (4234, 16)\n",
      "../data/bbh\\CP022686.1_vs_U00096_parsed.csv (4169, 16)\n"
     ]
    }
   ],
   "source": [
    "# Load all the BLAST files between the reference strain and target strains\n",
    "# Exclude the reverse blast with the MG1655 genome, which is needed for the first step in notebook 3.1\n",
    "\n",
    "blast_files = [file for file in glob('%s/*_parsed.csv'%'../data/bbh/') if 'U00096_vs_CP022686.1_parsed.csv' not in file]\n",
    "\n",
    "for blast in blast_files:\n",
    "    bbh=pd.read_csv(blast)\n",
    "    print (blast,bbh.shape)"
   ]
  },
  {
   "cell_type": "code",
   "execution_count": 16,
   "metadata": {},
   "outputs": [
    {
     "data": {
      "text/html": [
       "<div>\n",
       "<style scoped>\n",
       "    .dataframe tbody tr th:only-of-type {\n",
       "        vertical-align: middle;\n",
       "    }\n",
       "\n",
       "    .dataframe tbody tr th {\n",
       "        vertical-align: top;\n",
       "    }\n",
       "\n",
       "    .dataframe thead th {\n",
       "        text-align: right;\n",
       "    }\n",
       "</style>\n",
       "<table border=\"1\" class=\"dataframe\">\n",
       "  <thead>\n",
       "    <tr style=\"text-align: right;\">\n",
       "      <th></th>\n",
       "      <th>product</th>\n",
       "      <th>start</th>\n",
       "      <th>end</th>\n",
       "    </tr>\n",
       "    <tr>\n",
       "      <th>gene</th>\n",
       "      <th></th>\n",
       "      <th></th>\n",
       "      <th></th>\n",
       "    </tr>\n",
       "  </thead>\n",
       "  <tbody>\n",
       "    <tr>\n",
       "      <td>CIW80_00005</td>\n",
       "      <td>ATP-dependent RNA helicase HrpA</td>\n",
       "      <td>332</td>\n",
       "      <td>4235</td>\n",
       "    </tr>\n",
       "    <tr>\n",
       "      <td>CIW80_00010</td>\n",
       "      <td>DUF218 domain-containing protein</td>\n",
       "      <td>4507</td>\n",
       "      <td>5308</td>\n",
       "    </tr>\n",
       "    <tr>\n",
       "      <td>CIW80_00015</td>\n",
       "      <td>aldehyde dehydrogenase</td>\n",
       "      <td>5504</td>\n",
       "      <td>6944</td>\n",
       "    </tr>\n",
       "    <tr>\n",
       "      <td>CIW80_00020</td>\n",
       "      <td>type I glyceraldehyde-3-phosphate dehydrogenase</td>\n",
       "      <td>6985</td>\n",
       "      <td>7987</td>\n",
       "    </tr>\n",
       "    <tr>\n",
       "      <td>CIW80_00025</td>\n",
       "      <td>cytochrome B</td>\n",
       "      <td>8175</td>\n",
       "      <td>8706</td>\n",
       "    </tr>\n",
       "  </tbody>\n",
       "</table>\n",
       "</div>"
      ],
      "text/plain": [
       "                                                     product  start   end\n",
       "gene                                                                     \n",
       "CIW80_00005                  ATP-dependent RNA helicase HrpA    332  4235\n",
       "CIW80_00010                 DUF218 domain-containing protein   4507  5308\n",
       "CIW80_00015                           aldehyde dehydrogenase   5504  6944\n",
       "CIW80_00020  type I glyceraldehyde-3-phosphate dehydrogenase   6985  7987\n",
       "CIW80_00025                                     cytochrome B   8175  8706"
      ]
     },
     "execution_count": 16,
     "metadata": {},
     "output_type": "execute_result"
    }
   ],
   "source": [
    "# Import genes and their information on annotations\n",
    "# Create ortho matrix for all strains\n",
    "# define a function to get gene information\n",
    "def get_gene_info(query, in_folder='../data/genomes_gb'):\n",
    "\n",
    "    file = '%s/%s.gb'%(in_folder, query)\n",
    "    handle = open(file)\n",
    "    records = SeqIO.parse(handle, \"genbank\")\n",
    "    out = []\n",
    "    \n",
    "    records = SeqIO.parse(handle, \"genbank\")\n",
    "    for record in records:\n",
    "        for f in record.features:\n",
    "            if f.type=='CDS':\n",
    "                if 'locus_tag' in f.qualifiers.keys():\n",
    "                    locus = f.qualifiers['locus_tag'][0]\n",
    "                    product = f.qualifiers['product'][0]\n",
    "                    start_loc = f.location.start\n",
    "                    end_loc = f.location.end\n",
    "                elif 'gene' in f.qualifiers.keys():\n",
    "                    locus = f.qualifiers['gene'][0]\n",
    "                    print(locus)\n",
    "                else:\n",
    "                    locus = 'gene_%i'%x\n",
    "                    x+=1\n",
    "                    print(locus)\n",
    "    \n",
    "                out.append({'gene':locus, 'product':product, 'start':start_loc, 'end':end_loc})\n",
    "    \n",
    "    out = pd.DataFrame(out)\n",
    "    out.set_index('gene',inplace=True)\n",
    "    return out\n",
    "\n",
    "gene_info = get_gene_info(EcN_ID, in_folder='../data/genomes_gb')\n",
    "listGeneIDs = gene_info.index.tolist()\n",
    "gene_info.head()"
   ]
  },
  {
   "cell_type": "code",
   "execution_count": 17,
   "metadata": {
    "scrolled": true
   },
   "outputs": [],
   "source": [
    "# Create 2 matrices of N, rows where N is the number of EcN genes and M columns where M is the number of reference strains\n",
    "# One matrix will be populated with the PID results from the blasts and another with the mapping of gene locus tags\n",
    "ortho_matrix=pd.DataFrame(index=listGeneIDs,columns=ReferenceStrainIDs)\n",
    "geneIDs_matrix=pd.DataFrame(index=listGeneIDs,columns=ReferenceStrainIDs)"
   ]
  },
  {
   "cell_type": "code",
   "execution_count": 18,
   "metadata": {},
   "outputs": [],
   "source": [
    "#Parse through each blast file and acquire pertinent information for each matrix for each of the base reconstruction genes\n",
    "for blast in blast_files:\n",
    "    bbh=pd.read_csv(blast)\n",
    "    listIDs=[]\n",
    "    listPID=[]\n",
    "    for r,row in ortho_matrix.iterrows():\n",
    "        try:\n",
    "            currentOrtholog=bbh[bbh['gene']==r].reset_index()\n",
    "            listIDs.append(currentOrtholog.iloc[0]['subject'])\n",
    "            listPID.append(currentOrtholog.iloc[0]['PID'])\n",
    "        except:\n",
    "            listIDs.append('None')\n",
    "            listPID.append(0)\n",
    "    for col in ortho_matrix.columns:\n",
    "        if col in blast:\n",
    "            ortho_matrix[col]=listPID\n",
    "            geneIDs_matrix[col]=listIDs"
   ]
  },
  {
   "cell_type": "markdown",
   "metadata": {},
   "source": [
    "### 3.3 Apply Similarity Threshold to Binarize  Homology Matrix to Presence/Absence Matrix\n",
    "The homology matrix generated above is turned into a binarized presence/absence matrix by setting a similarity threshold for the PID."
   ]
  },
  {
   "cell_type": "code",
   "execution_count": 19,
   "metadata": {},
   "outputs": [],
   "source": [
    "# Genes with a similarity greater than 80% PID are considered present in the EcN genome \n",
    "# and consequently less than 80% are considered absent from the target strain genome\n",
    "ortho_matrix_pid = ortho_matrix.copy()\n",
    "for column in ortho_matrix:\n",
    "    ortho_matrix.loc[ortho_matrix[column]<=80.0,column]=0\n",
    "    ortho_matrix.loc[ortho_matrix[column]>80.0,column]=1"
   ]
  },
  {
   "cell_type": "code",
   "execution_count": 20,
   "metadata": {
    "scrolled": true
   },
   "outputs": [
    {
     "data": {
      "text/html": [
       "<div>\n",
       "<style scoped>\n",
       "    .dataframe tbody tr th:only-of-type {\n",
       "        vertical-align: middle;\n",
       "    }\n",
       "\n",
       "    .dataframe tbody tr th {\n",
       "        vertical-align: top;\n",
       "    }\n",
       "\n",
       "    .dataframe thead th {\n",
       "        text-align: right;\n",
       "    }\n",
       "</style>\n",
       "<table border=\"1\" class=\"dataframe\">\n",
       "  <thead>\n",
       "    <tr style=\"text-align: right;\">\n",
       "      <th></th>\n",
       "      <th>CU651637</th>\n",
       "      <th>CP001855</th>\n",
       "      <th>CP002167</th>\n",
       "      <th>CP000468</th>\n",
       "      <th>CP000946</th>\n",
       "      <th>CP000819</th>\n",
       "      <th>CP001665</th>\n",
       "      <th>AM946981</th>\n",
       "      <th>CP001509</th>\n",
       "      <th>CP001396</th>\n",
       "      <th>...</th>\n",
       "      <th>CU928163</th>\n",
       "      <th>CP000243</th>\n",
       "      <th>CP001063</th>\n",
       "      <th>CP000036</th>\n",
       "      <th>CP000034</th>\n",
       "      <th>CP001383</th>\n",
       "      <th>AE014073</th>\n",
       "      <th>AE005674</th>\n",
       "      <th>CP000266</th>\n",
       "      <th>CP000038</th>\n",
       "    </tr>\n",
       "  </thead>\n",
       "  <tbody>\n",
       "    <tr>\n",
       "      <td>CIW80_00005</td>\n",
       "      <td>1.0</td>\n",
       "      <td>1.0</td>\n",
       "      <td>1.0</td>\n",
       "      <td>1.0</td>\n",
       "      <td>1.0</td>\n",
       "      <td>1.0</td>\n",
       "      <td>1.0</td>\n",
       "      <td>1.0</td>\n",
       "      <td>1.0</td>\n",
       "      <td>1.0</td>\n",
       "      <td>...</td>\n",
       "      <td>1.0</td>\n",
       "      <td>1.0</td>\n",
       "      <td>1.0</td>\n",
       "      <td>1.0</td>\n",
       "      <td>1.0</td>\n",
       "      <td>1.0</td>\n",
       "      <td>1.0</td>\n",
       "      <td>1.0</td>\n",
       "      <td>1.0</td>\n",
       "      <td>1.0</td>\n",
       "    </tr>\n",
       "    <tr>\n",
       "      <td>CIW80_00010</td>\n",
       "      <td>1.0</td>\n",
       "      <td>1.0</td>\n",
       "      <td>1.0</td>\n",
       "      <td>1.0</td>\n",
       "      <td>1.0</td>\n",
       "      <td>1.0</td>\n",
       "      <td>1.0</td>\n",
       "      <td>1.0</td>\n",
       "      <td>1.0</td>\n",
       "      <td>1.0</td>\n",
       "      <td>...</td>\n",
       "      <td>1.0</td>\n",
       "      <td>1.0</td>\n",
       "      <td>1.0</td>\n",
       "      <td>1.0</td>\n",
       "      <td>0.0</td>\n",
       "      <td>1.0</td>\n",
       "      <td>0.0</td>\n",
       "      <td>0.0</td>\n",
       "      <td>1.0</td>\n",
       "      <td>1.0</td>\n",
       "    </tr>\n",
       "    <tr>\n",
       "      <td>CIW80_00015</td>\n",
       "      <td>1.0</td>\n",
       "      <td>1.0</td>\n",
       "      <td>1.0</td>\n",
       "      <td>1.0</td>\n",
       "      <td>1.0</td>\n",
       "      <td>1.0</td>\n",
       "      <td>1.0</td>\n",
       "      <td>1.0</td>\n",
       "      <td>1.0</td>\n",
       "      <td>1.0</td>\n",
       "      <td>...</td>\n",
       "      <td>1.0</td>\n",
       "      <td>1.0</td>\n",
       "      <td>1.0</td>\n",
       "      <td>1.0</td>\n",
       "      <td>0.0</td>\n",
       "      <td>1.0</td>\n",
       "      <td>1.0</td>\n",
       "      <td>1.0</td>\n",
       "      <td>1.0</td>\n",
       "      <td>0.0</td>\n",
       "    </tr>\n",
       "    <tr>\n",
       "      <td>CIW80_00020</td>\n",
       "      <td>1.0</td>\n",
       "      <td>1.0</td>\n",
       "      <td>1.0</td>\n",
       "      <td>1.0</td>\n",
       "      <td>1.0</td>\n",
       "      <td>1.0</td>\n",
       "      <td>1.0</td>\n",
       "      <td>1.0</td>\n",
       "      <td>1.0</td>\n",
       "      <td>0.0</td>\n",
       "      <td>...</td>\n",
       "      <td>1.0</td>\n",
       "      <td>1.0</td>\n",
       "      <td>1.0</td>\n",
       "      <td>1.0</td>\n",
       "      <td>0.0</td>\n",
       "      <td>0.0</td>\n",
       "      <td>0.0</td>\n",
       "      <td>1.0</td>\n",
       "      <td>1.0</td>\n",
       "      <td>1.0</td>\n",
       "    </tr>\n",
       "    <tr>\n",
       "      <td>CIW80_00025</td>\n",
       "      <td>1.0</td>\n",
       "      <td>1.0</td>\n",
       "      <td>1.0</td>\n",
       "      <td>1.0</td>\n",
       "      <td>1.0</td>\n",
       "      <td>1.0</td>\n",
       "      <td>1.0</td>\n",
       "      <td>1.0</td>\n",
       "      <td>1.0</td>\n",
       "      <td>1.0</td>\n",
       "      <td>...</td>\n",
       "      <td>1.0</td>\n",
       "      <td>1.0</td>\n",
       "      <td>1.0</td>\n",
       "      <td>1.0</td>\n",
       "      <td>1.0</td>\n",
       "      <td>1.0</td>\n",
       "      <td>1.0</td>\n",
       "      <td>1.0</td>\n",
       "      <td>1.0</td>\n",
       "      <td>1.0</td>\n",
       "    </tr>\n",
       "    <tr>\n",
       "      <td>...</td>\n",
       "      <td>...</td>\n",
       "      <td>...</td>\n",
       "      <td>...</td>\n",
       "      <td>...</td>\n",
       "      <td>...</td>\n",
       "      <td>...</td>\n",
       "      <td>...</td>\n",
       "      <td>...</td>\n",
       "      <td>...</td>\n",
       "      <td>...</td>\n",
       "      <td>...</td>\n",
       "      <td>...</td>\n",
       "      <td>...</td>\n",
       "      <td>...</td>\n",
       "      <td>...</td>\n",
       "      <td>...</td>\n",
       "      <td>...</td>\n",
       "      <td>...</td>\n",
       "      <td>...</td>\n",
       "      <td>...</td>\n",
       "      <td>...</td>\n",
       "    </tr>\n",
       "    <tr>\n",
       "      <td>CIW80_25775</td>\n",
       "      <td>1.0</td>\n",
       "      <td>1.0</td>\n",
       "      <td>1.0</td>\n",
       "      <td>1.0</td>\n",
       "      <td>1.0</td>\n",
       "      <td>1.0</td>\n",
       "      <td>1.0</td>\n",
       "      <td>1.0</td>\n",
       "      <td>1.0</td>\n",
       "      <td>1.0</td>\n",
       "      <td>...</td>\n",
       "      <td>1.0</td>\n",
       "      <td>1.0</td>\n",
       "      <td>1.0</td>\n",
       "      <td>1.0</td>\n",
       "      <td>1.0</td>\n",
       "      <td>1.0</td>\n",
       "      <td>1.0</td>\n",
       "      <td>1.0</td>\n",
       "      <td>1.0</td>\n",
       "      <td>0.0</td>\n",
       "    </tr>\n",
       "    <tr>\n",
       "      <td>CIW80_25780</td>\n",
       "      <td>1.0</td>\n",
       "      <td>1.0</td>\n",
       "      <td>1.0</td>\n",
       "      <td>1.0</td>\n",
       "      <td>1.0</td>\n",
       "      <td>1.0</td>\n",
       "      <td>1.0</td>\n",
       "      <td>1.0</td>\n",
       "      <td>1.0</td>\n",
       "      <td>1.0</td>\n",
       "      <td>...</td>\n",
       "      <td>1.0</td>\n",
       "      <td>1.0</td>\n",
       "      <td>1.0</td>\n",
       "      <td>0.0</td>\n",
       "      <td>0.0</td>\n",
       "      <td>1.0</td>\n",
       "      <td>1.0</td>\n",
       "      <td>1.0</td>\n",
       "      <td>1.0</td>\n",
       "      <td>0.0</td>\n",
       "    </tr>\n",
       "    <tr>\n",
       "      <td>CIW80_25785</td>\n",
       "      <td>1.0</td>\n",
       "      <td>1.0</td>\n",
       "      <td>1.0</td>\n",
       "      <td>1.0</td>\n",
       "      <td>1.0</td>\n",
       "      <td>1.0</td>\n",
       "      <td>1.0</td>\n",
       "      <td>1.0</td>\n",
       "      <td>1.0</td>\n",
       "      <td>1.0</td>\n",
       "      <td>...</td>\n",
       "      <td>1.0</td>\n",
       "      <td>1.0</td>\n",
       "      <td>0.0</td>\n",
       "      <td>1.0</td>\n",
       "      <td>1.0</td>\n",
       "      <td>1.0</td>\n",
       "      <td>1.0</td>\n",
       "      <td>1.0</td>\n",
       "      <td>1.0</td>\n",
       "      <td>1.0</td>\n",
       "    </tr>\n",
       "    <tr>\n",
       "      <td>CIW80_25790</td>\n",
       "      <td>1.0</td>\n",
       "      <td>1.0</td>\n",
       "      <td>1.0</td>\n",
       "      <td>1.0</td>\n",
       "      <td>1.0</td>\n",
       "      <td>1.0</td>\n",
       "      <td>1.0</td>\n",
       "      <td>1.0</td>\n",
       "      <td>1.0</td>\n",
       "      <td>1.0</td>\n",
       "      <td>...</td>\n",
       "      <td>1.0</td>\n",
       "      <td>1.0</td>\n",
       "      <td>1.0</td>\n",
       "      <td>1.0</td>\n",
       "      <td>1.0</td>\n",
       "      <td>0.0</td>\n",
       "      <td>0.0</td>\n",
       "      <td>1.0</td>\n",
       "      <td>0.0</td>\n",
       "      <td>1.0</td>\n",
       "    </tr>\n",
       "    <tr>\n",
       "      <td>CIW80_25795</td>\n",
       "      <td>1.0</td>\n",
       "      <td>1.0</td>\n",
       "      <td>1.0</td>\n",
       "      <td>0.0</td>\n",
       "      <td>1.0</td>\n",
       "      <td>1.0</td>\n",
       "      <td>1.0</td>\n",
       "      <td>1.0</td>\n",
       "      <td>1.0</td>\n",
       "      <td>1.0</td>\n",
       "      <td>...</td>\n",
       "      <td>1.0</td>\n",
       "      <td>1.0</td>\n",
       "      <td>1.0</td>\n",
       "      <td>1.0</td>\n",
       "      <td>1.0</td>\n",
       "      <td>1.0</td>\n",
       "      <td>1.0</td>\n",
       "      <td>1.0</td>\n",
       "      <td>1.0</td>\n",
       "      <td>1.0</td>\n",
       "    </tr>\n",
       "  </tbody>\n",
       "</table>\n",
       "<p>5045 rows × 55 columns</p>\n",
       "</div>"
      ],
      "text/plain": [
       "             CU651637  CP001855  CP002167  CP000468  CP000946  CP000819  \\\n",
       "CIW80_00005       1.0       1.0       1.0       1.0       1.0       1.0   \n",
       "CIW80_00010       1.0       1.0       1.0       1.0       1.0       1.0   \n",
       "CIW80_00015       1.0       1.0       1.0       1.0       1.0       1.0   \n",
       "CIW80_00020       1.0       1.0       1.0       1.0       1.0       1.0   \n",
       "CIW80_00025       1.0       1.0       1.0       1.0       1.0       1.0   \n",
       "...               ...       ...       ...       ...       ...       ...   \n",
       "CIW80_25775       1.0       1.0       1.0       1.0       1.0       1.0   \n",
       "CIW80_25780       1.0       1.0       1.0       1.0       1.0       1.0   \n",
       "CIW80_25785       1.0       1.0       1.0       1.0       1.0       1.0   \n",
       "CIW80_25790       1.0       1.0       1.0       1.0       1.0       1.0   \n",
       "CIW80_25795       1.0       1.0       1.0       0.0       1.0       1.0   \n",
       "\n",
       "             CP001665  AM946981  CP001509  CP001396  ...  CU928163  CP000243  \\\n",
       "CIW80_00005       1.0       1.0       1.0       1.0  ...       1.0       1.0   \n",
       "CIW80_00010       1.0       1.0       1.0       1.0  ...       1.0       1.0   \n",
       "CIW80_00015       1.0       1.0       1.0       1.0  ...       1.0       1.0   \n",
       "CIW80_00020       1.0       1.0       1.0       0.0  ...       1.0       1.0   \n",
       "CIW80_00025       1.0       1.0       1.0       1.0  ...       1.0       1.0   \n",
       "...               ...       ...       ...       ...  ...       ...       ...   \n",
       "CIW80_25775       1.0       1.0       1.0       1.0  ...       1.0       1.0   \n",
       "CIW80_25780       1.0       1.0       1.0       1.0  ...       1.0       1.0   \n",
       "CIW80_25785       1.0       1.0       1.0       1.0  ...       1.0       1.0   \n",
       "CIW80_25790       1.0       1.0       1.0       1.0  ...       1.0       1.0   \n",
       "CIW80_25795       1.0       1.0       1.0       1.0  ...       1.0       1.0   \n",
       "\n",
       "             CP001063  CP000036  CP000034  CP001383  AE014073  AE005674  \\\n",
       "CIW80_00005       1.0       1.0       1.0       1.0       1.0       1.0   \n",
       "CIW80_00010       1.0       1.0       0.0       1.0       0.0       0.0   \n",
       "CIW80_00015       1.0       1.0       0.0       1.0       1.0       1.0   \n",
       "CIW80_00020       1.0       1.0       0.0       0.0       0.0       1.0   \n",
       "CIW80_00025       1.0       1.0       1.0       1.0       1.0       1.0   \n",
       "...               ...       ...       ...       ...       ...       ...   \n",
       "CIW80_25775       1.0       1.0       1.0       1.0       1.0       1.0   \n",
       "CIW80_25780       1.0       0.0       0.0       1.0       1.0       1.0   \n",
       "CIW80_25785       0.0       1.0       1.0       1.0       1.0       1.0   \n",
       "CIW80_25790       1.0       1.0       1.0       0.0       0.0       1.0   \n",
       "CIW80_25795       1.0       1.0       1.0       1.0       1.0       1.0   \n",
       "\n",
       "             CP000266  CP000038  \n",
       "CIW80_00005       1.0       1.0  \n",
       "CIW80_00010       1.0       1.0  \n",
       "CIW80_00015       1.0       0.0  \n",
       "CIW80_00020       1.0       1.0  \n",
       "CIW80_00025       1.0       1.0  \n",
       "...               ...       ...  \n",
       "CIW80_25775       1.0       0.0  \n",
       "CIW80_25780       1.0       0.0  \n",
       "CIW80_25785       1.0       1.0  \n",
       "CIW80_25790       0.0       1.0  \n",
       "CIW80_25795       1.0       1.0  \n",
       "\n",
       "[5045 rows x 55 columns]"
      ]
     },
     "execution_count": 20,
     "metadata": {},
     "output_type": "execute_result"
    }
   ],
   "source": [
    "# Save as .csv files\n",
    "ortho_matrix.to_csv('../tables/ortho_matrix.csv')\n",
    "geneIDs_matrix.to_csv('../tables/geneIDs_matrix.csv')\n",
    "ortho_matrix_pid.to_csv('../tables/ortho_matrix_pid.csv')\n",
    "ortho_matrix"
   ]
  },
  {
   "cell_type": "markdown",
   "metadata": {},
   "source": [
    "### 3.4 Homology matrix based on MG1655 genes\n",
    "In the first part of notebook 3.1 all genes of MG1655 that are not present in EcN are removed from the MG1655 model (iML1515) to generate the basis for the draft model construction. To make this comparison, the best bidirectional hit (bbh) for each MG1655 gene present in the iML1515 model in comparison to EcN genes was identified."
   ]
  },
  {
   "cell_type": "code",
   "execution_count": 5,
   "metadata": {},
   "outputs": [],
   "source": [
    "# Load the BLAST file of EcN/MG1655 strains\n",
    "bbh=pd.read_csv('../data/bbh/U00096_vs_%s_parsed.csv'%EcN_ID)"
   ]
  },
  {
   "cell_type": "code",
   "execution_count": 6,
   "metadata": {},
   "outputs": [],
   "source": [
    "#Load the base reconstruction to designate the list of genes within the model\n",
    "import cobra\n",
    "model = cobra.io.load_json_model('../data/models/iML1515.json')\n",
    "\n",
    "MG_listGeneIDs=[]\n",
    "for gene in model.genes:\n",
    "    MG_listGeneIDs.append(gene.id)\n",
    "    \n",
    "# The ID of b4583 was changed to b4104 in the iML1515 model\n",
    "MG_listGeneIDs.append('b4583')"
   ]
  },
  {
   "cell_type": "code",
   "execution_count": 7,
   "metadata": {},
   "outputs": [],
   "source": [
    "# Create 1 matrix with the iML1515 model genes as rows and EcN as column.\n",
    "# The matrix will be populated with the PID results from the blasts\n",
    "EcN_ID='CP022686.1'\n",
    "MG_ortho_matrix=pd.DataFrame(index=MG_listGeneIDs,columns=[EcN_ID])\n",
    "MG_geneIDs_matrix=pd.DataFrame(index=MG_listGeneIDs,columns=[EcN_ID])"
   ]
  },
  {
   "cell_type": "code",
   "execution_count": 8,
   "metadata": {},
   "outputs": [],
   "source": [
    "#Parse through the blast file and acquire pertinent information for each of the base reconstruction genes\n",
    "listPID=[]\n",
    "listIDs=[]\n",
    "\n",
    "for r,row in MG_ortho_matrix.iterrows():\n",
    "    try:\n",
    "        currentOrtholog=bbh[bbh['gene']==r].reset_index() #switched gene and subject\n",
    "        listIDs.append(currentOrtholog.iloc[0]['subject'])\n",
    "        listPID.append(currentOrtholog.iloc[0]['PID'])\n",
    "    except:\n",
    "        listIDs.append('None')\n",
    "        listPID.append(0)\n",
    "\n",
    "MG_ortho_matrix[EcN_ID]=listPID\n",
    "MG_ortho_matrix.head()\n",
    "MG_geneIDs_matrix[EcN_ID]=listIDs"
   ]
  },
  {
   "cell_type": "code",
   "execution_count": 9,
   "metadata": {
    "scrolled": true
   },
   "outputs": [
    {
     "data": {
      "text/html": [
       "<div>\n",
       "<style scoped>\n",
       "    .dataframe tbody tr th:only-of-type {\n",
       "        vertical-align: middle;\n",
       "    }\n",
       "\n",
       "    .dataframe tbody tr th {\n",
       "        vertical-align: top;\n",
       "    }\n",
       "\n",
       "    .dataframe thead th {\n",
       "        text-align: right;\n",
       "    }\n",
       "</style>\n",
       "<table border=\"1\" class=\"dataframe\">\n",
       "  <thead>\n",
       "    <tr style=\"text-align: right;\">\n",
       "      <th></th>\n",
       "      <th>CP022686.1</th>\n",
       "    </tr>\n",
       "  </thead>\n",
       "  <tbody>\n",
       "    <tr>\n",
       "      <th>b2551</th>\n",
       "      <td>1.0</td>\n",
       "    </tr>\n",
       "    <tr>\n",
       "      <th>b0870</th>\n",
       "      <td>1.0</td>\n",
       "    </tr>\n",
       "    <tr>\n",
       "      <th>b3368</th>\n",
       "      <td>1.0</td>\n",
       "    </tr>\n",
       "    <tr>\n",
       "      <th>b2436</th>\n",
       "      <td>1.0</td>\n",
       "    </tr>\n",
       "    <tr>\n",
       "      <th>b3500</th>\n",
       "      <td>1.0</td>\n",
       "    </tr>\n",
       "  </tbody>\n",
       "</table>\n",
       "</div>"
      ],
      "text/plain": [
       "       CP022686.1\n",
       "b2551         1.0\n",
       "b0870         1.0\n",
       "b3368         1.0\n",
       "b2436         1.0\n",
       "b3500         1.0"
      ]
     },
     "execution_count": 9,
     "metadata": {},
     "output_type": "execute_result"
    }
   ],
   "source": [
    "# Genes with a greater than 80% PID are considered present in the target strain genome \n",
    "# and consequently less than 80% are considered absent from the target strain genome\n",
    "MG_ortho_matrix.loc[MG_ortho_matrix[EcN_ID]<=80.0,EcN_ID]=0\n",
    "MG_ortho_matrix.loc[MG_ortho_matrix[EcN_ID]>80.0,EcN_ID]=1\n",
    "MG_ortho_matrix.head()"
   ]
  },
  {
   "cell_type": "code",
   "execution_count": 10,
   "metadata": {},
   "outputs": [],
   "source": [
    "# As mentioned above, the ID of b4583 was changed to b4104 in the iML1515 model\n",
    "# remove the row of b4104 and replace with row of b4583\n",
    "MG_ortho_matrix = MG_ortho_matrix.drop('b4104')\n",
    "MG_ortho_matrix = MG_ortho_matrix.rename(index={'b4583': 'b4104'})\n",
    "    \n",
    "MG_geneIDs_matrix = MG_geneIDs_matrix.drop('b4104')\n",
    "MG_geneIDs_matrix = MG_geneIDs_matrix.rename(index={'b4583': 'b4104'})"
   ]
  },
  {
   "cell_type": "code",
   "execution_count": 11,
   "metadata": {},
   "outputs": [
    {
     "data": {
      "text/html": [
       "<div>\n",
       "<style scoped>\n",
       "    .dataframe tbody tr th:only-of-type {\n",
       "        vertical-align: middle;\n",
       "    }\n",
       "\n",
       "    .dataframe tbody tr th {\n",
       "        vertical-align: top;\n",
       "    }\n",
       "\n",
       "    .dataframe thead th {\n",
       "        text-align: right;\n",
       "    }\n",
       "</style>\n",
       "<table border=\"1\" class=\"dataframe\">\n",
       "  <thead>\n",
       "    <tr style=\"text-align: right;\">\n",
       "      <th></th>\n",
       "      <th>CP022686.1</th>\n",
       "    </tr>\n",
       "  </thead>\n",
       "  <tbody>\n",
       "    <tr>\n",
       "      <th>b2551</th>\n",
       "      <td>1.0</td>\n",
       "    </tr>\n",
       "    <tr>\n",
       "      <th>b0870</th>\n",
       "      <td>1.0</td>\n",
       "    </tr>\n",
       "    <tr>\n",
       "      <th>b3368</th>\n",
       "      <td>1.0</td>\n",
       "    </tr>\n",
       "    <tr>\n",
       "      <th>b2436</th>\n",
       "      <td>1.0</td>\n",
       "    </tr>\n",
       "    <tr>\n",
       "      <th>b3500</th>\n",
       "      <td>1.0</td>\n",
       "    </tr>\n",
       "    <tr>\n",
       "      <th>...</th>\n",
       "      <td>...</td>\n",
       "    </tr>\n",
       "    <tr>\n",
       "      <th>b2796</th>\n",
       "      <td>1.0</td>\n",
       "    </tr>\n",
       "    <tr>\n",
       "      <th>b4093</th>\n",
       "      <td>1.0</td>\n",
       "    </tr>\n",
       "    <tr>\n",
       "      <th>b3878</th>\n",
       "      <td>0.0</td>\n",
       "    </tr>\n",
       "    <tr>\n",
       "      <th>b1206</th>\n",
       "      <td>1.0</td>\n",
       "    </tr>\n",
       "    <tr>\n",
       "      <th>b4104</th>\n",
       "      <td>1.0</td>\n",
       "    </tr>\n",
       "  </tbody>\n",
       "</table>\n",
       "<p>1516 rows × 1 columns</p>\n",
       "</div>"
      ],
      "text/plain": [
       "       CP022686.1\n",
       "b2551         1.0\n",
       "b0870         1.0\n",
       "b3368         1.0\n",
       "b2436         1.0\n",
       "b3500         1.0\n",
       "...           ...\n",
       "b2796         1.0\n",
       "b4093         1.0\n",
       "b3878         0.0\n",
       "b1206         1.0\n",
       "b4104         1.0\n",
       "\n",
       "[1516 rows x 1 columns]"
      ]
     },
     "execution_count": 11,
     "metadata": {},
     "output_type": "execute_result"
    }
   ],
   "source": [
    "MG_ortho_matrix"
   ]
  },
  {
   "cell_type": "code",
   "execution_count": 15,
   "metadata": {},
   "outputs": [
    {
     "data": {
      "text/html": [
       "<div>\n",
       "<style scoped>\n",
       "    .dataframe tbody tr th:only-of-type {\n",
       "        vertical-align: middle;\n",
       "    }\n",
       "\n",
       "    .dataframe tbody tr th {\n",
       "        vertical-align: top;\n",
       "    }\n",
       "\n",
       "    .dataframe thead th {\n",
       "        text-align: right;\n",
       "    }\n",
       "</style>\n",
       "<table border=\"1\" class=\"dataframe\">\n",
       "  <thead>\n",
       "    <tr style=\"text-align: right;\">\n",
       "      <th></th>\n",
       "      <th>CP022686.1</th>\n",
       "    </tr>\n",
       "  </thead>\n",
       "  <tbody>\n",
       "    <tr>\n",
       "      <th>b2551</th>\n",
       "      <td>CIW80_06560</td>\n",
       "    </tr>\n",
       "    <tr>\n",
       "      <th>b0870</th>\n",
       "      <td>CIW80_22360</td>\n",
       "    </tr>\n",
       "    <tr>\n",
       "      <th>b3368</th>\n",
       "      <td>CIW80_11380</td>\n",
       "    </tr>\n",
       "    <tr>\n",
       "      <th>b2436</th>\n",
       "      <td>CIW80_06055</td>\n",
       "    </tr>\n",
       "    <tr>\n",
       "      <th>b3500</th>\n",
       "      <td>CIW80_12105</td>\n",
       "    </tr>\n",
       "    <tr>\n",
       "      <th>...</th>\n",
       "      <td>...</td>\n",
       "    </tr>\n",
       "    <tr>\n",
       "      <th>b2796</th>\n",
       "      <td>CIW80_07660</td>\n",
       "    </tr>\n",
       "    <tr>\n",
       "      <th>b4093</th>\n",
       "      <td>CIW80_15760</td>\n",
       "    </tr>\n",
       "    <tr>\n",
       "      <th>b3878</th>\n",
       "      <td>CIW80_13025</td>\n",
       "    </tr>\n",
       "    <tr>\n",
       "      <th>b1206</th>\n",
       "      <td>CIW80_24925</td>\n",
       "    </tr>\n",
       "    <tr>\n",
       "      <th>b4104</th>\n",
       "      <td>CIW80_15810</td>\n",
       "    </tr>\n",
       "  </tbody>\n",
       "</table>\n",
       "<p>1516 rows × 1 columns</p>\n",
       "</div>"
      ],
      "text/plain": [
       "        CP022686.1\n",
       "b2551  CIW80_06560\n",
       "b0870  CIW80_22360\n",
       "b3368  CIW80_11380\n",
       "b2436  CIW80_06055\n",
       "b3500  CIW80_12105\n",
       "...            ...\n",
       "b2796  CIW80_07660\n",
       "b4093  CIW80_15760\n",
       "b3878  CIW80_13025\n",
       "b1206  CIW80_24925\n",
       "b4104  CIW80_15810\n",
       "\n",
       "[1516 rows x 1 columns]"
      ]
     },
     "execution_count": 15,
     "metadata": {},
     "output_type": "execute_result"
    }
   ],
   "source": [
    "MG_geneIDs_matrix"
   ]
  },
  {
   "cell_type": "code",
   "execution_count": 16,
   "metadata": {},
   "outputs": [],
   "source": [
    "# Save as .csv files\n",
    "MG_ortho_matrix.to_csv('../tables/MG_ortho_matrix.csv')\n",
    "MG_geneIDs_matrix.to_csv('../tables/MG_geneIDs_matrix.csv')"
   ]
  },
  {
   "cell_type": "markdown",
   "metadata": {},
   "source": [
    "## 4. Perform BLASTn to check unannotated open reading frames to guide manual curation \n",
    "At this juncture it may be useful to execute a supplementary nucleotide BLAST to check for unannotated genes, results here become candidates for manual curation. We retain unannotated genes that pass the threshold for\n",
    "similarity and contain no premature stop codons\n",
    "\n"
   ]
  },
  {
   "cell_type": "markdown",
   "metadata": {},
   "source": [
    "### 4.1 BLASTn"
   ]
  },
  {
   "cell_type": "code",
   "execution_count": null,
   "metadata": {},
   "outputs": [],
   "source": [
    "#Define a function to generate FNA from the GBK files\n",
    "def gbk2fasta(gbk_filename):\n",
    "    faa_filename = '.'.join(gbk_filename.split('.')[:-1])+'.fna'\n",
    "    input_handle  = open(gbk_filename, \"r\")\n",
    "    output_handle = open(faa_filename, \"w\")\n",
    "\n",
    "    for seq_record in SeqIO.parse(input_handle, \"genbank\") :\n",
    "        print (\"Converting GenBank record %s\" % seq_record.id)\n",
    "        output_handle.write(\">%s %s\\n%s\\n\" % (\n",
    "               seq_record.id,\n",
    "               seq_record.description,\n",
    "               seq_record.seq))\n",
    "\n",
    "    output_handle.close()\n",
    "    input_handle.close()"
   ]
  },
  {
   "cell_type": "code",
   "execution_count": null,
   "metadata": {},
   "outputs": [],
   "source": [
    "#Define function to run the BLASTn\n",
    "def run_blastn(seq, db,outfmt=6,evalue=0.001,threads=1):\n",
    "    import os\n",
    "    out = '../data/nucleotides/'+seq+'_vs_'+db+'.txt'\n",
    "    seq = '../data/nucleotides/'+seq+'.fa'\n",
    "    db = '../data/genomes_gb/'+db+'.fna'\n",
    "    \n",
    "    cmd_line='blastn -db %s -query %s -out %s -evalue %s -outfmt %s -num_threads %i' \\\n",
    "    %(db, seq, out, evalue, outfmt, threads)\n",
    "    \n",
    "    print ('running blastn with following command line...')\n",
    "    print (cmd_line)\n",
    "    os.system(cmd_line)\n",
    "    return out"
   ]
  },
  {
   "cell_type": "code",
   "execution_count": null,
   "metadata": {},
   "outputs": [],
   "source": [
    "# make nucleotide sequence databases \n",
    "for strain in ReferenceStrainIDs:\n",
    "    make_blast_db(strain,folder=genomes_path,db_type='nucl')"
   ]
  },
  {
   "cell_type": "code",
   "execution_count": null,
   "metadata": {},
   "outputs": [],
   "source": [
    "# convert genbank files to fna files for strains of interest\n",
    "for strain in ReferenceStrainIDs:\n",
    "    gbk2fasta('../data/genomes_gb/'+strain+'.gb')"
   ]
  },
  {
   "cell_type": "code",
   "execution_count": null,
   "metadata": {},
   "outputs": [],
   "source": [
    "# perform uni-directional BLASTn hit\n",
    "genome_blast_res=[]\n",
    "for strain in ReferenceStrainIDs:\n",
    "    res = run_blastn(EcN_ID,strain)\n",
    "    genome_blast_res.append(res)"
   ]
  },
  {
   "cell_type": "code",
   "execution_count": null,
   "metadata": {},
   "outputs": [],
   "source": [
    "#define a function to parse through the nucleotide BLAST results and form one matrix of all the results\n",
    "def parse_nucl_blast(infile):\n",
    "    cols = ['gene', 'subject', 'PID', 'alnLength', 'mismatchCount', 'gapOpenCount', 'queryStart', 'queryEnd', 'subjectStart', 'subjectEnd', 'eVal', 'bitScore']\n",
    "    data = pd.read_csv(infile, sep='\\t', names=cols)\n",
    "    data = data[(data['PID']>80) & (data['alnLength']>0.8*data['queryEnd'])]\n",
    "    data2=data.groupby('gene').first()\n",
    "    return data2.reset_index()\n"
   ]
  },
  {
   "cell_type": "code",
   "execution_count": null,
   "metadata": {
    "scrolled": true
   },
   "outputs": [],
   "source": [
    "# parse the nucleotide blast matrix \n",
    "na_matrix=pd.DataFrame()\n",
    "for file in genome_blast_res:\n",
    "    genes =parse_nucl_blast(file)\n",
    "    name ='.'.join(file.split('_')[-1].split('.')[:-1])\n",
    "    na_matrix = na_matrix.append(genes[['gene','subject','PID']])\n",
    "na_matrix = pd.pivot_table(na_matrix, index='gene', columns='subject',values='PID')"
   ]
  },
  {
   "cell_type": "code",
   "execution_count": null,
   "metadata": {
    "scrolled": true
   },
   "outputs": [],
   "source": [
    "na_matrix.head()\n",
    "na_matrix.to_csv('../tables/na_matrix.csv')"
   ]
  },
  {
   "cell_type": "markdown",
   "metadata": {},
   "source": [
    "### 4.2 Examine unnannotated open reading frames\n",
    "We compare the results from BLASTp and BLASTn and record any inconsistencies between the two matrices due to missing annotation. This result is then saved to guide future manual curation. "
   ]
  },
  {
   "cell_type": "code",
   "execution_count": 4,
   "metadata": {},
   "outputs": [],
   "source": [
    "# define a function to extract the sequence from fna file \n",
    "def extract_seq(g, contig, start, end):\n",
    "    from Bio import SeqIO\n",
    "    handle = open(g)\n",
    "    records = SeqIO.parse(handle, \"fasta\")\n",
    "    \n",
    "    for record in records:\n",
    "        if record.name==contig:\n",
    "            if end>start:\n",
    "                section = record[start:end]\n",
    "            else:\n",
    "                section = record[end-1:start+1].reverse_complement()\n",
    "                \n",
    "            seq = str(section.seq)\n",
    "    return seq"
   ]
  },
  {
   "cell_type": "code",
   "execution_count": 5,
   "metadata": {},
   "outputs": [],
   "source": [
    "# Load variables when starting at this point\n",
    "ortho_matrix = pd.read_csv('../tables/ortho_matrix.csv')\n",
    "ortho_matrix.set_index('Unnamed: 0', inplace=True)\n",
    "\n",
    "geneIDs_matrix = pd.read_csv('../tables/geneIDs_matrix.csv')\n",
    "geneIDs_matrix.set_index('Unnamed: 0', inplace=True)\n",
    "                         \n",
    "na_matrix = pd.read_csv('../tables/na_matrix.csv')\n",
    "na_matrix.set_index('gene', inplace=True)\n",
    "col_names = na_matrix.columns.values.tolist()\n",
    "col_names = [x[:-2] for x in col_names]\n",
    "na_matrix.columns = col_names\n",
    "\n",
    "listGeneIDs = ortho_matrix.index.values.tolist()"
   ]
  },
  {
   "cell_type": "code",
   "execution_count": 6,
   "metadata": {},
   "outputs": [],
   "source": [
    "#Define updated matrices that will include genes based on sequence evidence that were missing due to lack of annotation\n",
    "ortho_matrix_w_unannotated = ortho_matrix.copy()\n",
    "geneIDs_matrix_w_unannotated = geneIDs_matrix.copy()"
   ]
  },
  {
   "cell_type": "code",
   "execution_count": 7,
   "metadata": {},
   "outputs": [],
   "source": [
    "#Define matrix of the BLASTn results for all the pertinent model genes\n",
    "nonModelGenes=[]\n",
    "for g in na_matrix.index:\n",
    "    if g not in listGeneIDs:\n",
    "        nonModelGenes.append(g)\n",
    "\n",
    "na_model_genes=na_matrix.drop(nonModelGenes)"
   ]
  },
  {
   "cell_type": "code",
   "execution_count": 8,
   "metadata": {
    "scrolled": true
   },
   "outputs": [
    {
     "name": "stdout",
     "output_type": "stream",
     "text": [
      "CU651637 {'CIW80_22445', 'CIW80_06330', 'CIW80_08295', 'CIW80_15510', 'CIW80_15855', 'CIW80_04745', 'CIW80_11570', 'CIW80_10280', 'CIW80_09630', 'CIW80_05030', 'CIW80_09805', 'CIW80_04425', 'CIW80_01880', 'CIW80_04490', 'CIW80_25340', 'CIW80_12160', 'CIW80_01570', 'CIW80_24460', 'CIW80_12380', 'CIW80_05650', 'CIW80_13175', 'CIW80_16405', 'CIW80_12135', 'CIW80_11190', 'CIW80_13695', 'CIW80_19755', 'CIW80_13245', 'CIW80_22470', 'CIW80_19765', 'CIW80_10845', 'CIW80_23170', 'CIW80_02595', 'CIW80_15595', 'CIW80_10730', 'CIW80_16470', 'CIW80_02835', 'CIW80_15525', 'CIW80_25220', 'CIW80_24670', 'CIW80_19975', 'CIW80_24610', 'CIW80_22910', 'CIW80_25020', 'CIW80_25710', 'CIW80_05590', 'CIW80_11525', 'CIW80_25400', 'CIW80_12320', 'CIW80_11575', 'CIW80_18415', 'CIW80_06025', 'CIW80_00550', 'CIW80_12115', 'CIW80_20075', 'CIW80_00210', 'CIW80_04210', 'CIW80_10710', 'CIW80_09230', 'CIW80_08165', 'CIW80_15195', 'CIW80_00290', 'CIW80_08180', 'CIW80_14460', 'CIW80_20505', 'CIW80_13915', 'CIW80_10530', 'CIW80_10590', 'CIW80_21745', 'CIW80_21785', 'CIW80_01355', 'CIW80_15895', 'CIW80_21580', 'CIW80_13215', 'CIW80_24665', 'CIW80_15310', 'CIW80_17415', 'CIW80_00055', 'CIW80_09920', 'CIW80_13770', 'CIW80_01145', 'CIW80_08155', 'CIW80_23045', 'CIW80_19710', 'CIW80_25650', 'CIW80_19590', 'CIW80_00065', 'CIW80_21270', 'CIW80_24455', 'CIW80_00830', 'CIW80_01115', 'CIW80_06145', 'CIW80_08365', 'CIW80_09745', 'CIW80_21060', 'CIW80_17275', 'CIW80_03040', 'CIW80_18605', 'CIW80_10135', 'CIW80_24875', 'CIW80_09875', 'CIW80_19900', 'CIW80_01150', 'CIW80_18005', 'CIW80_12390', 'CIW80_12050', 'CIW80_00205', 'CIW80_14985', 'CIW80_12435', 'CIW80_19600', 'CIW80_20555', 'CIW80_19695', 'CIW80_18570', 'CIW80_07305', 'CIW80_07750', 'CIW80_18080', 'CIW80_10850', 'CIW80_25715', 'CIW80_23040', 'CIW80_04675', 'CIW80_22085', 'CIW80_14930', 'CIW80_19525', 'CIW80_25265', 'CIW80_12235', 'CIW80_00295', 'CIW80_17755', 'CIW80_20060', 'CIW80_21165', 'CIW80_14845', 'CIW80_06175', 'CIW80_05905', 'CIW80_06630', 'CIW80_08290', 'CIW80_13220', 'CIW80_07550', 'CIW80_22055', 'CIW80_16130', 'CIW80_05025', 'CIW80_17835', 'CIW80_25310', 'CIW80_00395', 'CIW80_23850', 'CIW80_13755', 'CIW80_08045', 'CIW80_09670', 'CIW80_13895', 'CIW80_01455', 'CIW80_14340', 'CIW80_00540', 'CIW80_16345', 'CIW80_03050', 'CIW80_10725', 'CIW80_04760', 'CIW80_11590', 'CIW80_14290', 'CIW80_21985', 'CIW80_07045', 'CIW80_15975', 'CIW80_14490', 'CIW80_21480', 'CIW80_00965', 'CIW80_11275', 'CIW80_01015', 'CIW80_02710', 'CIW80_15545', 'CIW80_06335', 'CIW80_00430', 'CIW80_04485', 'CIW80_11215', 'CIW80_04575', 'CIW80_11125', 'CIW80_01625', 'CIW80_12770', 'CIW80_07475', 'CIW80_24250', 'CIW80_23070', 'CIW80_10535', 'CIW80_02915', 'CIW80_03885', 'CIW80_25320', 'CIW80_18100', 'CIW80_01885', 'CIW80_17170', 'CIW80_02730', 'CIW80_23525', 'CIW80_06290', 'CIW80_06325', 'CIW80_11810', 'CIW80_19310', 'CIW80_02865', 'CIW80_18110', 'CIW80_04655', 'CIW80_03890', 'CIW80_06155', 'CIW80_24450', 'CIW80_04265', 'CIW80_21440', 'CIW80_06940', 'CIW80_17200', 'CIW80_08270', 'CIW80_21800', 'CIW80_03000', 'CIW80_09085', 'CIW80_15640', 'CIW80_18055', 'CIW80_04605', 'CIW80_01980', 'CIW80_04495', 'CIW80_20900', 'CIW80_06815', 'CIW80_15105', 'CIW80_13405', 'CIW80_00665', 'CIW80_15550', 'CIW80_15250', 'CIW80_17260', 'CIW80_20565', 'CIW80_18340', 'CIW80_11790', 'CIW80_15330', 'CIW80_06900', 'CIW80_00655', 'CIW80_19945', 'CIW80_04595', 'CIW80_21340', 'CIW80_24215', 'CIW80_08595', 'CIW80_15080', 'CIW80_24980', 'CIW80_03505', 'CIW80_22275', 'CIW80_22385', 'CIW80_14305', 'CIW80_14605', 'CIW80_24905', 'CIW80_00585', 'CIW80_17615', 'CIW80_18740', 'CIW80_01985', 'CIW80_18210', 'CIW80_11195', 'CIW80_21510', 'CIW80_20450', 'CIW80_08320', 'CIW80_02725', 'CIW80_20475', 'CIW80_09220', 'CIW80_15600', 'CIW80_01120', 'CIW80_24160', 'CIW80_06200', 'CIW80_00855', 'CIW80_24675', 'CIW80_12220', 'CIW80_08565', 'CIW80_19575', 'CIW80_16360', 'CIW80_19605', 'CIW80_06660', 'CIW80_07120', 'CIW80_00810', 'CIW80_12715', 'CIW80_20290', 'CIW80_00155', 'CIW80_13375', 'CIW80_12125', 'CIW80_21155', 'CIW80_19690', 'CIW80_23805', 'CIW80_09430', 'CIW80_12395', 'CIW80_24715', 'CIW80_01480', 'CIW80_00755', 'CIW80_12455', 'CIW80_25685', 'CIW80_12425', 'CIW80_19535', 'CIW80_06625', 'CIW80_14550', 'CIW80_06440', 'CIW80_02895', 'CIW80_09860', 'CIW80_12155', 'CIW80_00285', 'CIW80_11290', 'CIW80_06320', 'CIW80_09780', 'CIW80_22430', 'CIW80_02920', 'CIW80_20540', 'CIW80_02640', 'CIW80_22890', 'CIW80_18515', 'CIW80_22985', 'CIW80_12295', 'CIW80_11555', 'CIW80_00190', 'CIW80_12720', 'CIW80_15920', 'CIW80_11880', 'CIW80_00515', 'CIW80_00035', 'CIW80_24825', 'CIW80_04345', 'CIW80_18255', 'CIW80_09820', 'CIW80_12310', 'CIW80_13700', 'CIW80_00185', 'CIW80_15835', 'CIW80_19890', 'CIW80_21160', 'CIW80_18315', 'CIW80_20745', 'CIW80_20845', 'CIW80_02885', 'CIW80_14935', 'CIW80_17240', 'CIW80_22090', 'CIW80_01720', 'CIW80_17245', 'CIW80_20805', 'CIW80_04560', 'CIW80_00800', 'CIW80_09845', 'CIW80_11320', 'CIW80_19825', 'CIW80_20595', 'CIW80_02230', 'CIW80_25705', 'CIW80_24710', 'CIW80_10705', 'CIW80_23845', 'CIW80_21120', 'CIW80_05380', 'CIW80_03305', 'CIW80_02035', 'CIW80_00680', 'CIW80_09855', 'CIW80_01730', 'CIW80_23800', 'CIW80_01390', 'CIW80_19730', 'CIW80_19785', 'CIW80_19585', 'CIW80_24750', 'CIW80_22705', 'CIW80_14450', 'CIW80_03340', 'CIW80_06770', 'CIW80_02880', 'CIW80_00160', 'CIW80_00720', 'CIW80_14320', 'CIW80_12920', 'CIW80_02010', 'CIW80_10825', 'CIW80_25475', 'CIW80_12080', 'CIW80_22775', 'CIW80_09390', 'CIW80_10605', 'CIW80_00670', 'CIW80_15255', 'CIW80_21575', 'CIW80_15740'}\n",
      "CP001855 {'CIW80_03090', 'CIW80_22445', 'CIW80_06330', 'CIW80_08295', 'CIW80_15510', 'CIW80_15855', 'CIW80_04745', 'CIW80_11570', 'CIW80_10280', 'CIW80_09630', 'CIW80_05030', 'CIW80_06735', 'CIW80_09805', 'CIW80_04425', 'CIW80_04490', 'CIW80_25340', 'CIW80_12160', 'CIW80_01570', 'CIW80_24460', 'CIW80_12380', 'CIW80_05650', 'CIW80_13175', 'CIW80_16405', 'CIW80_12135', 'CIW80_13695', 'CIW80_19755', 'CIW80_13245', 'CIW80_22470', 'CIW80_19765', 'CIW80_10845', 'CIW80_23170', 'CIW80_17790', 'CIW80_02595', 'CIW80_15595', 'CIW80_22170', 'CIW80_08460', 'CIW80_10730', 'CIW80_16470', 'CIW80_02835', 'CIW80_15525', 'CIW80_25220', 'CIW80_19975', 'CIW80_24610', 'CIW80_04685', 'CIW80_25020', 'CIW80_25710', 'CIW80_05590', 'CIW80_11525', 'CIW80_17670', 'CIW80_25400', 'CIW80_12320', 'CIW80_18415', 'CIW80_06025', 'CIW80_00550', 'CIW80_12115', 'CIW80_20075', 'CIW80_00210', 'CIW80_04210', 'CIW80_10710', 'CIW80_09230', 'CIW80_15195', 'CIW80_08180', 'CIW80_14460', 'CIW80_20505', 'CIW80_13915', 'CIW80_10530', 'CIW80_10590', 'CIW80_21745', 'CIW80_21785', 'CIW80_24665', 'CIW80_21580', 'CIW80_13215', 'CIW80_17415', 'CIW80_00055', 'CIW80_09920', 'CIW80_08155', 'CIW80_23045', 'CIW80_19710', 'CIW80_25650', 'CIW80_00065', 'CIW80_21270', 'CIW80_24455', 'CIW80_00830', 'CIW80_06145', 'CIW80_03310', 'CIW80_08365', 'CIW80_09745', 'CIW80_21060', 'CIW80_17275', 'CIW80_18605', 'CIW80_10135', 'CIW80_24875', 'CIW80_09875', 'CIW80_19900', 'CIW80_19580', 'CIW80_01150', 'CIW80_18005', 'CIW80_12390', 'CIW80_13240', 'CIW80_12050', 'CIW80_00205', 'CIW80_19990', 'CIW80_14985', 'CIW80_19600', 'CIW80_20555', 'CIW80_19695', 'CIW80_24700', 'CIW80_18570', 'CIW80_07305', 'CIW80_07750', 'CIW80_18080', 'CIW80_10850', 'CIW80_25715', 'CIW80_24685', 'CIW80_04675', 'CIW80_22085', 'CIW80_14930', 'CIW80_19525', 'CIW80_25265', 'CIW80_12235', 'CIW80_00295', 'CIW80_06595', 'CIW80_17755', 'CIW80_05665', 'CIW80_21165', 'CIW80_14845', 'CIW80_06175', 'CIW80_06630', 'CIW80_08290', 'CIW80_07550', 'CIW80_22055', 'CIW80_16130', 'CIW80_19515', 'CIW80_05025', 'CIW80_17835', 'CIW80_25310', 'CIW80_00395', 'CIW80_23850', 'CIW80_13755', 'CIW80_08045', 'CIW80_13895', 'CIW80_01455', 'CIW80_14340', 'CIW80_03315', 'CIW80_00540', 'CIW80_16345', 'CIW80_03050', 'CIW80_10725', 'CIW80_19390', 'CIW80_04760', 'CIW80_23520', 'CIW80_11590', 'CIW80_21985', 'CIW80_24735', 'CIW80_07045', 'CIW80_15975', 'CIW80_14490', 'CIW80_21480', 'CIW80_00965', 'CIW80_02710', 'CIW80_15545', 'CIW80_06335', 'CIW80_00430', 'CIW80_04485', 'CIW80_11215', 'CIW80_04575', 'CIW80_11125', 'CIW80_01625', 'CIW80_12770', 'CIW80_07475', 'CIW80_24250', 'CIW80_23070', 'CIW80_10535', 'CIW80_02915', 'CIW80_03885', 'CIW80_12110', 'CIW80_25320', 'CIW80_18100', 'CIW80_01885', 'CIW80_17170', 'CIW80_02730', 'CIW80_23525', 'CIW80_06290', 'CIW80_11810', 'CIW80_19310', 'CIW80_02865', 'CIW80_18110', 'CIW80_04655', 'CIW80_03890', 'CIW80_06155', 'CIW80_24450', 'CIW80_04265', 'CIW80_21440', 'CIW80_06940', 'CIW80_17200', 'CIW80_08270', 'CIW80_21800', 'CIW80_04580', 'CIW80_03000', 'CIW80_15640', 'CIW80_04495', 'CIW80_04605', 'CIW80_01980', 'CIW80_06815', 'CIW80_15105', 'CIW80_13405', 'CIW80_08405', 'CIW80_15550', 'CIW80_15250', 'CIW80_17260', 'CIW80_20565', 'CIW80_18340', 'CIW80_11790', 'CIW80_15330', 'CIW80_06900', 'CIW80_19945', 'CIW80_04595', 'CIW80_21340', 'CIW80_08595', 'CIW80_15080', 'CIW80_24980', 'CIW80_03505', 'CIW80_22275', 'CIW80_22385', 'CIW80_14305', 'CIW80_14605', 'CIW80_24905', 'CIW80_00585', 'CIW80_17615', 'CIW80_01985', 'CIW80_21510', 'CIW80_20450', 'CIW80_08320', 'CIW80_02725', 'CIW80_20475', 'CIW80_09220', 'CIW80_15600', 'CIW80_01120', 'CIW80_24160', 'CIW80_06200', 'CIW80_00855', 'CIW80_24675', 'CIW80_25735', 'CIW80_12220', 'CIW80_08565', 'CIW80_19575', 'CIW80_16360', 'CIW80_06660', 'CIW80_07120', 'CIW80_00810', 'CIW80_12715', 'CIW80_20290', 'CIW80_00155', 'CIW80_13375', 'CIW80_23565', 'CIW80_12125', 'CIW80_17850', 'CIW80_21155', 'CIW80_19690', 'CIW80_23805', 'CIW80_09430', 'CIW80_12395', 'CIW80_24715', 'CIW80_01480', 'CIW80_12455', 'CIW80_25685', 'CIW80_12425', 'CIW80_19535', 'CIW80_06625', 'CIW80_24705', 'CIW80_14550', 'CIW80_06440', 'CIW80_02895', 'CIW80_09860', 'CIW80_12155', 'CIW80_11290', 'CIW80_09780', 'CIW80_22430', 'CIW80_02735', 'CIW80_20540', 'CIW80_02640', 'CIW80_22985', 'CIW80_12295', 'CIW80_11555', 'CIW80_00190', 'CIW80_12720', 'CIW80_15920', 'CIW80_24390', 'CIW80_11880', 'CIW80_00515', 'CIW80_00035', 'CIW80_24825', 'CIW80_04345', 'CIW80_18255', 'CIW80_09820', 'CIW80_08625', 'CIW80_12310', 'CIW80_13700', 'CIW80_00185', 'CIW80_15835', 'CIW80_19890', 'CIW80_15985', 'CIW80_18315', 'CIW80_20745', 'CIW80_20845', 'CIW80_02885', 'CIW80_14935', 'CIW80_17240', 'CIW80_00960', 'CIW80_01720', 'CIW80_17245', 'CIW80_20805', 'CIW80_04560', 'CIW80_00800', 'CIW80_09845', 'CIW80_19825', 'CIW80_02230', 'CIW80_25705', 'CIW80_08455', 'CIW80_24710', 'CIW80_10705', 'CIW80_23845', 'CIW80_21120', 'CIW80_05380', 'CIW80_02035', 'CIW80_00680', 'CIW80_01730', 'CIW80_23800', 'CIW80_01390', 'CIW80_19730', 'CIW80_19785', 'CIW80_19585', 'CIW80_24750', 'CIW80_22705', 'CIW80_03340', 'CIW80_06770', 'CIW80_00160', 'CIW80_00720', 'CIW80_12920', 'CIW80_02010', 'CIW80_10825', 'CIW80_25475', 'CIW80_12080', 'CIW80_22775', 'CIW80_09390', 'CIW80_10605', 'CIW80_00670', 'CIW80_15255', 'CIW80_21575', 'CIW80_15740'}\n",
      "CP002167 {'CIW80_03090', 'CIW80_22445', 'CIW80_06330', 'CIW80_08295', 'CIW80_15510', 'CIW80_15855', 'CIW80_04745', 'CIW80_11570', 'CIW80_10280', 'CIW80_09630', 'CIW80_05030', 'CIW80_06735', 'CIW80_09805', 'CIW80_01880', 'CIW80_04490', 'CIW80_25340', 'CIW80_12160', 'CIW80_23660', 'CIW80_01570', 'CIW80_24460', 'CIW80_12380', 'CIW80_23630', 'CIW80_05650', 'CIW80_13175', 'CIW80_16405', 'CIW80_12135', 'CIW80_23555', 'CIW80_23655', 'CIW80_13695', 'CIW80_15090', 'CIW80_19755', 'CIW80_13245', 'CIW80_22470', 'CIW80_19765', 'CIW80_10845', 'CIW80_23170', 'CIW80_23115', 'CIW80_15595', 'CIW80_08460', 'CIW80_10730', 'CIW80_16470', 'CIW80_02835', 'CIW80_15525', 'CIW80_25220', 'CIW80_19975', 'CIW80_12710', 'CIW80_22910', 'CIW80_25020', 'CIW80_25710', 'CIW80_02830', 'CIW80_05590', 'CIW80_11525', 'CIW80_18910', 'CIW80_17670', 'CIW80_25400', 'CIW80_12320', 'CIW80_18415', 'CIW80_23650', 'CIW80_03670', 'CIW80_06025', 'CIW80_14065', 'CIW80_00550', 'CIW80_12115', 'CIW80_08665', 'CIW80_00210', 'CIW80_04210', 'CIW80_10710', 'CIW80_09230', 'CIW80_16900', 'CIW80_15195', 'CIW80_04885', 'CIW80_08180', 'CIW80_14460', 'CIW80_20505', 'CIW80_03380', 'CIW80_23605', 'CIW80_10530', 'CIW80_23585', 'CIW80_10590', 'CIW80_07885', 'CIW80_21745', 'CIW80_21785', 'CIW80_01355', 'CIW80_24665', 'CIW80_21580', 'CIW80_13215', 'CIW80_03775', 'CIW80_17415', 'CIW80_00055', 'CIW80_08155', 'CIW80_23045', 'CIW80_19710', 'CIW80_25650', 'CIW80_21270', 'CIW80_24455', 'CIW80_19335', 'CIW80_13155', 'CIW80_00830', 'CIW80_12620', 'CIW80_06145', 'CIW80_03310', 'CIW80_03470', 'CIW80_08365', 'CIW80_09745', 'CIW80_21060', 'CIW80_17275', 'CIW80_03040', 'CIW80_00120', 'CIW80_18605', 'CIW80_10135', 'CIW80_24875', 'CIW80_09875', 'CIW80_19900', 'CIW80_08635', 'CIW80_13445', 'CIW80_19580', 'CIW80_01150', 'CIW80_18005', 'CIW80_12390', 'CIW80_13240', 'CIW80_12050', 'CIW80_00205', 'CIW80_19990', 'CIW80_14985', 'CIW80_13270', 'CIW80_19600', 'CIW80_16850', 'CIW80_25385', 'CIW80_20555', 'CIW80_19695', 'CIW80_24700', 'CIW80_04375', 'CIW80_18570', 'CIW80_23580', 'CIW80_07305', 'CIW80_07750', 'CIW80_18080', 'CIW80_10850', 'CIW80_07540', 'CIW80_04675', 'CIW80_22085', 'CIW80_14930', 'CIW80_19525', 'CIW80_25265', 'CIW80_12235', 'CIW80_00295', 'CIW80_06595', 'CIW80_17755', 'CIW80_20060', 'CIW80_05665', 'CIW80_21165', 'CIW80_23120', 'CIW80_14845', 'CIW80_24330', 'CIW80_06175', 'CIW80_06630', 'CIW80_07805', 'CIW80_08290', 'CIW80_13220', 'CIW80_07550', 'CIW80_07575', 'CIW80_16915', 'CIW80_19840', 'CIW80_22055', 'CIW80_16130', 'CIW80_19515', 'CIW80_05025', 'CIW80_17835', 'CIW80_25310', 'CIW80_00395', 'CIW80_23850', 'CIW80_13755', 'CIW80_04370', 'CIW80_03995', 'CIW80_08045', 'CIW80_13895', 'CIW80_01455', 'CIW80_14340', 'CIW80_03315', 'CIW80_00540', 'CIW80_23445', 'CIW80_16345', 'CIW80_03050', 'CIW80_10725', 'CIW80_19390', 'CIW80_03395', 'CIW80_04760', 'CIW80_00280', 'CIW80_11590', 'CIW80_23600', 'CIW80_24735', 'CIW80_07045', 'CIW80_08810', 'CIW80_08860', 'CIW80_15975', 'CIW80_08710', 'CIW80_14490', 'CIW80_07520', 'CIW80_21480', 'CIW80_00965', 'CIW80_00100', 'CIW80_02710', 'CIW80_22695', 'CIW80_23510', 'CIW80_15545', 'CIW80_06335', 'CIW80_00430', 'CIW80_23635', 'CIW80_14455', 'CIW80_23355', 'CIW80_11215', 'CIW80_04485', 'CIW80_04575', 'CIW80_03645', 'CIW80_11125', 'CIW80_01625', 'CIW80_12770', 'CIW80_07475', 'CIW80_24250', 'CIW80_23290', 'CIW80_23070', 'CIW80_10535', 'CIW80_03530', 'CIW80_15720', 'CIW80_02915', 'CIW80_03885', 'CIW80_12110', 'CIW80_25320', 'CIW80_18100', 'CIW80_01885', 'CIW80_17170', 'CIW80_02730', 'CIW80_03545', 'CIW80_23525', 'CIW80_06290', 'CIW80_11810', 'CIW80_02865', 'CIW80_18110', 'CIW80_03705', 'CIW80_04655', 'CIW80_03890', 'CIW80_06155', 'CIW80_24450', 'CIW80_04265', 'CIW80_21440', 'CIW80_20785', 'CIW80_06940', 'CIW80_08270', 'CIW80_17200', 'CIW80_21800', 'CIW80_04580', 'CIW80_03000', 'CIW80_08715', 'CIW80_19065', 'CIW80_15640', 'CIW80_04495', 'CIW80_04605', 'CIW80_01980', 'CIW80_20900', 'CIW80_06815', 'CIW80_15105', 'CIW80_13405', 'CIW80_22060', 'CIW80_00665', 'CIW80_15550', 'CIW80_14500', 'CIW80_19070', 'CIW80_16865', 'CIW80_15250', 'CIW80_10750', 'CIW80_17260', 'CIW80_20565', 'CIW80_18340', 'CIW80_14680', 'CIW80_11790', 'CIW80_15330', 'CIW80_06900', 'CIW80_07260', 'CIW80_19945', 'CIW80_04595', 'CIW80_21340', 'CIW80_08595', 'CIW80_12825', 'CIW80_18300', 'CIW80_15080', 'CIW80_24980', 'CIW80_03505', 'CIW80_22275', 'CIW80_22385', 'CIW80_14305', 'CIW80_14605', 'CIW80_19055', 'CIW80_15285', 'CIW80_07875', 'CIW80_00585', 'CIW80_17615', 'CIW80_16965', 'CIW80_00705', 'CIW80_01985', 'CIW80_21510', 'CIW80_24400', 'CIW80_20450', 'CIW80_08320', 'CIW80_02725', 'CIW80_25185', 'CIW80_06510', 'CIW80_20475', 'CIW80_09220', 'CIW80_15600', 'CIW80_01120', 'CIW80_24160', 'CIW80_06200', 'CIW80_00855', 'CIW80_24675', 'CIW80_03675', 'CIW80_14040', 'CIW80_12220', 'CIW80_08565', 'CIW80_19575', 'CIW80_16360', 'CIW80_06660', 'CIW80_00810', 'CIW80_20290', 'CIW80_03590', 'CIW80_00155', 'CIW80_13375', 'CIW80_23565', 'CIW80_12125', 'CIW80_17850', 'CIW80_21155', 'CIW80_03695', 'CIW80_19690', 'CIW80_23805', 'CIW80_09430', 'CIW80_12395', 'CIW80_24715', 'CIW80_03455', 'CIW80_01480', 'CIW80_12455', 'CIW80_25685', 'CIW80_03710', 'CIW80_12425', 'CIW80_19535', 'CIW80_06625', 'CIW80_23700', 'CIW80_24705', 'CIW80_14550', 'CIW80_06440', 'CIW80_02895', 'CIW80_09860', 'CIW80_12155', 'CIW80_18200', 'CIW80_03615', 'CIW80_11290', 'CIW80_09780', 'CIW80_22430', 'CIW80_24320', 'CIW80_02735', 'CIW80_02920', 'CIW80_20540', 'CIW80_23130', 'CIW80_02690', 'CIW80_20905', 'CIW80_04895', 'CIW80_22985', 'CIW80_12295', 'CIW80_11555', 'CIW80_04395', 'CIW80_00880', 'CIW80_00190', 'CIW80_12720', 'CIW80_15920', 'CIW80_11880', 'CIW80_00515', 'CIW80_00035', 'CIW80_24825', 'CIW80_01910', 'CIW80_04345', 'CIW80_18255', 'CIW80_09820', 'CIW80_25765', 'CIW80_21390', 'CIW80_08625', 'CIW80_12310', 'CIW80_13700', 'CIW80_00185', 'CIW80_15835', 'CIW80_19890', 'CIW80_04835', 'CIW80_19090', 'CIW80_21160', 'CIW80_15985', 'CIW80_18315', 'CIW80_20745', 'CIW80_20845', 'CIW80_02885', 'CIW80_14935', 'CIW80_17240', 'CIW80_04875', 'CIW80_00960', 'CIW80_01720', 'CIW80_17245', 'CIW80_20805', 'CIW80_04560', 'CIW80_00800', 'CIW80_11320', 'CIW80_14730', 'CIW80_02230', 'CIW80_25705', 'CIW80_24710', 'CIW80_10705', 'CIW80_23845', 'CIW80_21120', 'CIW80_05380', 'CIW80_02035', 'CIW80_03700', 'CIW80_00680', 'CIW80_23495', 'CIW80_01730', 'CIW80_23800', 'CIW80_01390', 'CIW80_19730', 'CIW80_01655', 'CIW80_19785', 'CIW80_19585', 'CIW80_24600', 'CIW80_24750', 'CIW80_09015', 'CIW80_22705', 'CIW80_03340', 'CIW80_06770', 'CIW80_00160', 'CIW80_00720', 'CIW80_12920', 'CIW80_02010', 'CIW80_10825', 'CIW80_25475', 'CIW80_12080', 'CIW80_22775', 'CIW80_09390', 'CIW80_14120', 'CIW80_06425', 'CIW80_10605', 'CIW80_00750', 'CIW80_04900', 'CIW80_03540', 'CIW80_00670', 'CIW80_15255', 'CIW80_21575', 'CIW80_15740', 'CIW80_05655'}\n",
      "CP000468 {'CIW80_01895', 'CIW80_00170', 'CIW80_22445', 'CIW80_21005', 'CIW80_06330', 'CIW80_08295', 'CIW80_15510', 'CIW80_15855', 'CIW80_04745', 'CIW80_11570', 'CIW80_11350', 'CIW80_22010', 'CIW80_14995', 'CIW80_16065', 'CIW80_10280', 'CIW80_09630', 'CIW80_05030', 'CIW80_06735', 'CIW80_09805', 'CIW80_04425', 'CIW80_01880', 'CIW80_04490', 'CIW80_25340', 'CIW80_12160', 'CIW80_09705', 'CIW80_01570', 'CIW80_18900', 'CIW80_01850', 'CIW80_06820', 'CIW80_04340', 'CIW80_24325', 'CIW80_13175', 'CIW80_16405', 'CIW80_12135', 'CIW80_13535', 'CIW80_13695', 'CIW80_19755', 'CIW80_13245', 'CIW80_09810', 'CIW80_00385', 'CIW80_15830', 'CIW80_22470', 'CIW80_19765', 'CIW80_10845', 'CIW80_23170', 'CIW80_17790', 'CIW80_02595', 'CIW80_15535', 'CIW80_15595', 'CIW80_08310', 'CIW80_06610', 'CIW80_08460', 'CIW80_10730', 'CIW80_16470', 'CIW80_02835', 'CIW80_15525', 'CIW80_17930', 'CIW80_00030', 'CIW80_25220', 'CIW80_18615', 'CIW80_21515', 'CIW80_24670', 'CIW80_24610', 'CIW80_04685', 'CIW80_22910', 'CIW80_25020', 'CIW80_22905', 'CIW80_24975', 'CIW80_02125', 'CIW80_25710', 'CIW80_16335', 'CIW80_18945', 'CIW80_02830', 'CIW80_05590', 'CIW80_19150', 'CIW80_01900', 'CIW80_10915', 'CIW80_11525', 'CIW80_10400', 'CIW80_18910', 'CIW80_17670', 'CIW80_25400', 'CIW80_12320', 'CIW80_20055', 'CIW80_11575', 'CIW80_21645', 'CIW80_11010', 'CIW80_18415', 'CIW80_00970', 'CIW80_09250', 'CIW80_14465', 'CIW80_03670', 'CIW80_06025', 'CIW80_01950', 'CIW80_02875', 'CIW80_01845', 'CIW80_00550', 'CIW80_19520', 'CIW80_16060', 'CIW80_12115', 'CIW80_04780', 'CIW80_06380', 'CIW80_20075', 'CIW80_17750', 'CIW80_00210', 'CIW80_04210', 'CIW80_10710', 'CIW80_08165', 'CIW80_15195', 'CIW80_22920', 'CIW80_00290', 'CIW80_05235', 'CIW80_07085', 'CIW80_00070', 'CIW80_08180', 'CIW80_14460', 'CIW80_20505', 'CIW80_23605', 'CIW80_10530', 'CIW80_10590', 'CIW80_21745', 'CIW80_21785', 'CIW80_25390', 'CIW80_01355', 'CIW80_15895', 'CIW80_21580', 'CIW80_13215', 'CIW80_24665', 'CIW80_19500', 'CIW80_11025', 'CIW80_03775', 'CIW80_15310', 'CIW80_06215', 'CIW80_17415', 'CIW80_00055', 'CIW80_25470', 'CIW80_13770', 'CIW80_24635', 'CIW80_17510', 'CIW80_01145', 'CIW80_09350', 'CIW80_20760', 'CIW80_09565', 'CIW80_08155', 'CIW80_23045', 'CIW80_19710', 'CIW80_11585', 'CIW80_25650', 'CIW80_19590', 'CIW80_15785', 'CIW80_14030', 'CIW80_00065', 'CIW80_21270', 'CIW80_24455', 'CIW80_19335', 'CIW80_00830', 'CIW80_01115', 'CIW80_06145', 'CIW80_18115', 'CIW80_10615', 'CIW80_14975', 'CIW80_08365', 'CIW80_09995', 'CIW80_09745', 'CIW80_21060', 'CIW80_17000', 'CIW80_12700', 'CIW80_17275', 'CIW80_22990', 'CIW80_03040', 'CIW80_00120', 'CIW80_25335', 'CIW80_18605', 'CIW80_01890', 'CIW80_10135', 'CIW80_24875', 'CIW80_09875', 'CIW80_19900', 'CIW80_08635', 'CIW80_01150', 'CIW80_18005', 'CIW80_13240', 'CIW80_12050', 'CIW80_07640', 'CIW80_00205', 'CIW80_19990', 'CIW80_02745', 'CIW80_21380', 'CIW80_02080', 'CIW80_00115', 'CIW80_14985', 'CIW80_19600', 'CIW80_16850', 'CIW80_22750', 'CIW80_20555', 'CIW80_19695', 'CIW80_18715', 'CIW80_24700', 'CIW80_04375', 'CIW80_18570', 'CIW80_07305', 'CIW80_02100', 'CIW80_13550', 'CIW80_16455', 'CIW80_07750', 'CIW80_02720', 'CIW80_18080', 'CIW80_01065', 'CIW80_24310', 'CIW80_10850', 'CIW80_25715', 'CIW80_23040', 'CIW80_04675', 'CIW80_22085', 'CIW80_22975', 'CIW80_14930', 'CIW80_19525', 'CIW80_25265', 'CIW80_12235', 'CIW80_00295', 'CIW80_06595', 'CIW80_17755', 'CIW80_23865', 'CIW80_08775', 'CIW80_20060', 'CIW80_02030', 'CIW80_05665', 'CIW80_21165', 'CIW80_14845', 'CIW80_23460', 'CIW80_24330', 'CIW80_06175', 'CIW80_00465', 'CIW80_05905', 'CIW80_06630', 'CIW80_07805', 'CIW80_08290', 'CIW80_13220', 'CIW80_01440', 'CIW80_07550', 'CIW80_25330', 'CIW80_24385', 'CIW80_07575', 'CIW80_22055', 'CIW80_02130', 'CIW80_12870', 'CIW80_16295', 'CIW80_16130', 'CIW80_04310', 'CIW80_19515', 'CIW80_20430', 'CIW80_01090', 'CIW80_05025', 'CIW80_17835', 'CIW80_25310', 'CIW80_03650', 'CIW80_14655', 'CIW80_11105', 'CIW80_00395', 'CIW80_12885', 'CIW80_15950', 'CIW80_23850', 'CIW80_22600', 'CIW80_24770', 'CIW80_04740', 'CIW80_08060', 'CIW80_13755', 'CIW80_20775', 'CIW80_03995', 'CIW80_08045', 'CIW80_09670', 'CIW80_11130', 'CIW80_06895', 'CIW80_00355', 'CIW80_13895', 'CIW80_01455', 'CIW80_14340', 'CIW80_00225', 'CIW80_00540', 'CIW80_18930', 'CIW80_05585', 'CIW80_16205', 'CIW80_23445', 'CIW80_09870', 'CIW80_05960', 'CIW80_16345', 'CIW80_03050', 'CIW80_05925', 'CIW80_10725', 'CIW80_19390', 'CIW80_08620', 'CIW80_04760', 'CIW80_18220', 'CIW80_17405', 'CIW80_11590', 'CIW80_03640', 'CIW80_13390', 'CIW80_14290', 'CIW80_23600', 'CIW80_25755', 'CIW80_24735', 'CIW80_25645', 'CIW80_07045', 'CIW80_12355', 'CIW80_08860', 'CIW80_15975', 'CIW80_08710', 'CIW80_05935', 'CIW80_12500', 'CIW80_14490', 'CIW80_21480', 'CIW80_16300', 'CIW80_11275', 'CIW80_01015', 'CIW80_02710', 'CIW80_07150', 'CIW80_22575', 'CIW80_15545', 'CIW80_06335', 'CIW80_01130', 'CIW80_20910', 'CIW80_00430', 'CIW80_04485', 'CIW80_11215', 'CIW80_10425', 'CIW80_04575', 'CIW80_14980', 'CIW80_11125', 'CIW80_20080', 'CIW80_23450', 'CIW80_01625', 'CIW80_12770', 'CIW80_07475', 'CIW80_11265', 'CIW80_23185', 'CIW80_04930', 'CIW80_24250', 'CIW80_23070', 'CIW80_20890', 'CIW80_04615', 'CIW80_10535', 'CIW80_11385', 'CIW80_03530', 'CIW80_02915', 'CIW80_12110', 'CIW80_25320', 'CIW80_18100', 'CIW80_12760', 'CIW80_01885', 'CIW80_17170', 'CIW80_24990', 'CIW80_02730', 'CIW80_22415', 'CIW80_24490', 'CIW80_04770', 'CIW80_24410', 'CIW80_17905', 'CIW80_06290', 'CIW80_06325', 'CIW80_11810', 'CIW80_05420', 'CIW80_12610', 'CIW80_06920', 'CIW80_02865', 'CIW80_18110', 'CIW80_03705', 'CIW80_04655', 'CIW80_03890', 'CIW80_22350', 'CIW80_06155', 'CIW80_24650', 'CIW80_04265', 'CIW80_21440', 'CIW80_20785', 'CIW80_06940', 'CIW80_08270', 'CIW80_17200', 'CIW80_21800', 'CIW80_04580', 'CIW80_03000', 'CIW80_08715', 'CIW80_09085', 'CIW80_19065', 'CIW80_15640', 'CIW80_18055', 'CIW80_04605', 'CIW80_01980', 'CIW80_04495', 'CIW80_20900', 'CIW80_06815', 'CIW80_16925', 'CIW80_15105', 'CIW80_13405', 'CIW80_22440', 'CIW80_08405', 'CIW80_03795', 'CIW80_13540', 'CIW80_22060', 'CIW80_00665', 'CIW80_00165', 'CIW80_15550', 'CIW80_08780', 'CIW80_09035', 'CIW80_19070', 'CIW80_05770', 'CIW80_17140', 'CIW80_23900', 'CIW80_15250', 'CIW80_17785', 'CIW80_16590', 'CIW80_01200', 'CIW80_09930', 'CIW80_17260', 'CIW80_24055', 'CIW80_19660', 'CIW80_20565', 'CIW80_18340', 'CIW80_11790', 'CIW80_15330', 'CIW80_06900', 'CIW80_00655', 'CIW80_07260', 'CIW80_19945', 'CIW80_21340', 'CIW80_08595', 'CIW80_16120', 'CIW80_18300', 'CIW80_15080', 'CIW80_25500', 'CIW80_22385', 'CIW80_21130', 'CIW80_14305', 'CIW80_01470', 'CIW80_01465', 'CIW80_14605', 'CIW80_19055', 'CIW80_24905', 'CIW80_00585', 'CIW80_17615', 'CIW80_00705', 'CIW80_01985', 'CIW80_18015', 'CIW80_16005', 'CIW80_21510', 'CIW80_25490', 'CIW80_24400', 'CIW80_20450', 'CIW80_08320', 'CIW80_01790', 'CIW80_02725', 'CIW80_20475', 'CIW80_12505', 'CIW80_09220', 'CIW80_15600', 'CIW80_01120', 'CIW80_24160', 'CIW80_02045', 'CIW80_06200', 'CIW80_22005', 'CIW80_08465', 'CIW80_00195', 'CIW80_00855', 'CIW80_15265', 'CIW80_00610', 'CIW80_24675', 'CIW80_03675', 'CIW80_21795', 'CIW80_21630', 'CIW80_25735', 'CIW80_12220', 'CIW80_06980', 'CIW80_08565', 'CIW80_01315', 'CIW80_19575', 'CIW80_16360', 'CIW80_19605', 'CIW80_06660', 'CIW80_00810', 'CIW80_16735', 'CIW80_10970', 'CIW80_20290', 'CIW80_13145', 'CIW80_02050', 'CIW80_25795', 'CIW80_01870', 'CIW80_24395', 'CIW80_14780', 'CIW80_00155', 'CIW80_20195', 'CIW80_13635', 'CIW80_13375', 'CIW80_23565', 'CIW80_12125', 'CIW80_17850', 'CIW80_21155', 'CIW80_03695', 'CIW80_19690', 'CIW80_11920', 'CIW80_23805', 'CIW80_09430', 'CIW80_12395', 'CIW80_24715', 'CIW80_21145', 'CIW80_03815', 'CIW80_04985', 'CIW80_13545', 'CIW80_01480', 'CIW80_09285', 'CIW80_12455', 'CIW80_25685', 'CIW80_03710', 'CIW80_12425', 'CIW80_19535', 'CIW80_06625', 'CIW80_23700', 'CIW80_24705', 'CIW80_14550', 'CIW80_13520', 'CIW80_06440', 'CIW80_02895', 'CIW80_09860', 'CIW80_20930', 'CIW80_12155', 'CIW80_23720', 'CIW80_11075', 'CIW80_00285', 'CIW80_01240', 'CIW80_14135', 'CIW80_11290', 'CIW80_06320', 'CIW80_09780', 'CIW80_21915', 'CIW80_02920', 'CIW80_20540', 'CIW80_02640', 'CIW80_15935', 'CIW80_01250', 'CIW80_21640', 'CIW80_22890', 'CIW80_10840', 'CIW80_04895', 'CIW80_22985', 'CIW80_12295', 'CIW80_24080', 'CIW80_11555', 'CIW80_22900', 'CIW80_02025', 'CIW80_00190', 'CIW80_12720', 'CIW80_02160', 'CIW80_07725', 'CIW80_15920', 'CIW80_11880', 'CIW80_12640', 'CIW80_11940', 'CIW80_13920', 'CIW80_00515', 'CIW80_00035', 'CIW80_14690', 'CIW80_24825', 'CIW80_01910', 'CIW80_15020', 'CIW80_04345', 'CIW80_18255', 'CIW80_09820', 'CIW80_25765', 'CIW80_08625', 'CIW80_19120', 'CIW80_12310', 'CIW80_13700', 'CIW80_15835', 'CIW80_19890', 'CIW80_07025', 'CIW80_19090', 'CIW80_21160', 'CIW80_15985', 'CIW80_18315', 'CIW80_20745', 'CIW80_03585', 'CIW80_17535', 'CIW80_03005', 'CIW80_02885', 'CIW80_04990', 'CIW80_20845', 'CIW80_01485', 'CIW80_20800', 'CIW80_14935', 'CIW80_17240', 'CIW80_22090', 'CIW80_00960', 'CIW80_01720', 'CIW80_20225', 'CIW80_16030', 'CIW80_17245', 'CIW80_16940', 'CIW80_20805', 'CIW80_04560', 'CIW80_00800', 'CIW80_11320', 'CIW80_15630', 'CIW80_19825', 'CIW80_14650', 'CIW80_02230', 'CIW80_25705', 'CIW80_08455', 'CIW80_24710', 'CIW80_10705', 'CIW80_04525', 'CIW80_23845', 'CIW80_06030', 'CIW80_07970', 'CIW80_12365', 'CIW80_21120', 'CIW80_03635', 'CIW80_05380', 'CIW80_03305', 'CIW80_10035', 'CIW80_20460', 'CIW80_22915', 'CIW80_00680', 'CIW80_12880', 'CIW80_10370', 'CIW80_11305', 'CIW80_01730', 'CIW80_15365', 'CIW80_03535', 'CIW80_23800', 'CIW80_01390', 'CIW80_19730', 'CIW80_13765', 'CIW80_19785', 'CIW80_13380', 'CIW80_08660', 'CIW80_19585', 'CIW80_25380', 'CIW80_24600', 'CIW80_11205', 'CIW80_11470', 'CIW80_17320', 'CIW80_00695', 'CIW80_21095', 'CIW80_24750', 'CIW80_09015', 'CIW80_10815', 'CIW80_21205', 'CIW80_20300', 'CIW80_22705', 'CIW80_14450', 'CIW80_03340', 'CIW80_06770', 'CIW80_00720', 'CIW80_10395', 'CIW80_14320', 'CIW80_01405', 'CIW80_12920', 'CIW80_02010', 'CIW80_10825', 'CIW80_24660', 'CIW80_25475', 'CIW80_00410', 'CIW80_12080', 'CIW80_24475', 'CIW80_22775', 'CIW80_09390', 'CIW80_02790', 'CIW80_17935', 'CIW80_10605', 'CIW80_03540', 'CIW80_00670', 'CIW80_15255', 'CIW80_21575', 'CIW80_15740', 'CIW80_05655', 'CIW80_06455', 'CIW80_07470'}\n"
     ]
    },
    {
     "name": "stdout",
     "output_type": "stream",
     "text": [
      "CP000946 {'CIW80_22445', 'CIW80_06330', 'CIW80_08295', 'CIW80_15510', 'CIW80_15855', 'CIW80_04745', 'CIW80_11570', 'CIW80_10280', 'CIW80_09630', 'CIW80_05030', 'CIW80_06735', 'CIW80_09805', 'CIW80_04425', 'CIW80_01880', 'CIW80_04490', 'CIW80_25340', 'CIW80_01570', 'CIW80_12380', 'CIW80_05650', 'CIW80_24680', 'CIW80_13175', 'CIW80_16405', 'CIW80_12135', 'CIW80_13695', 'CIW80_19755', 'CIW80_19455', 'CIW80_22470', 'CIW80_19765', 'CIW80_10845', 'CIW80_23170', 'CIW80_17790', 'CIW80_02595', 'CIW80_15595', 'CIW80_08460', 'CIW80_10730', 'CIW80_16470', 'CIW80_02835', 'CIW80_15525', 'CIW80_25220', 'CIW80_24670', 'CIW80_19975', 'CIW80_01990', 'CIW80_25020', 'CIW80_02830', 'CIW80_11525', 'CIW80_17670', 'CIW80_25400', 'CIW80_12320', 'CIW80_18415', 'CIW80_06025', 'CIW80_01845', 'CIW80_00550', 'CIW80_00915', 'CIW80_12115', 'CIW80_20075', 'CIW80_00210', 'CIW80_04210', 'CIW80_10710', 'CIW80_09230', 'CIW80_08165', 'CIW80_08180', 'CIW80_20505', 'CIW80_09400', 'CIW80_10530', 'CIW80_10590', 'CIW80_21745', 'CIW80_21785', 'CIW80_01355', 'CIW80_15895', 'CIW80_21580', 'CIW80_13215', 'CIW80_24665', 'CIW80_15310', 'CIW80_17305', 'CIW80_17415', 'CIW80_00055', 'CIW80_01145', 'CIW80_08155', 'CIW80_23045', 'CIW80_25650', 'CIW80_00065', 'CIW80_21270', 'CIW80_00830', 'CIW80_01115', 'CIW80_06145', 'CIW80_03310', 'CIW80_08365', 'CIW80_09745', 'CIW80_21060', 'CIW80_17275', 'CIW80_03040', 'CIW80_18605', 'CIW80_10135', 'CIW80_22425', 'CIW80_09875', 'CIW80_19580', 'CIW80_01150', 'CIW80_18005', 'CIW80_12390', 'CIW80_13240', 'CIW80_17230', 'CIW80_00205', 'CIW80_19990', 'CIW80_14985', 'CIW80_12435', 'CIW80_19600', 'CIW80_20555', 'CIW80_19695', 'CIW80_24700', 'CIW80_18570', 'CIW80_07305', 'CIW80_07750', 'CIW80_02720', 'CIW80_10850', 'CIW80_24685', 'CIW80_23040', 'CIW80_04675', 'CIW80_22085', 'CIW80_14930', 'CIW80_12235', 'CIW80_06595', 'CIW80_17755', 'CIW80_20060', 'CIW80_02030', 'CIW80_05665', 'CIW80_21165', 'CIW80_14845', 'CIW80_01760', 'CIW80_06175', 'CIW80_06630', 'CIW80_08290', 'CIW80_22055', 'CIW80_16130', 'CIW80_15840', 'CIW80_05025', 'CIW80_17835', 'CIW80_25310', 'CIW80_00395', 'CIW80_23850', 'CIW80_22855', 'CIW80_24770', 'CIW80_13755', 'CIW80_04390', 'CIW80_03995', 'CIW80_08045', 'CIW80_13895', 'CIW80_01455', 'CIW80_14340', 'CIW80_03315', 'CIW80_00540', 'CIW80_03050', 'CIW80_10725', 'CIW80_19390', 'CIW80_04760', 'CIW80_11590', 'CIW80_14290', 'CIW80_24735', 'CIW80_07045', 'CIW80_15975', 'CIW80_14490', 'CIW80_16795', 'CIW80_00965', 'CIW80_01015', 'CIW80_02710', 'CIW80_15545', 'CIW80_06335', 'CIW80_13870', 'CIW80_00430', 'CIW80_04485', 'CIW80_11215', 'CIW80_17820', 'CIW80_04575', 'CIW80_11125', 'CIW80_01625', 'CIW80_12770', 'CIW80_07475', 'CIW80_24250', 'CIW80_23070', 'CIW80_10535', 'CIW80_03885', 'CIW80_12110', 'CIW80_25320', 'CIW80_01885', 'CIW80_02730', 'CIW80_06290', 'CIW80_06325', 'CIW80_11810', 'CIW80_02865', 'CIW80_15945', 'CIW80_18110', 'CIW80_03890', 'CIW80_06155', 'CIW80_04265', 'CIW80_21440', 'CIW80_08270', 'CIW80_21800', 'CIW80_04580', 'CIW80_03000', 'CIW80_15640', 'CIW80_18055', 'CIW80_04605', 'CIW80_01980', 'CIW80_04495', 'CIW80_20900', 'CIW80_06815', 'CIW80_15105', 'CIW80_09225', 'CIW80_11800', 'CIW80_22060', 'CIW80_04285', 'CIW80_15550', 'CIW80_14500', 'CIW80_24035', 'CIW80_15250', 'CIW80_17260', 'CIW80_19660', 'CIW80_18340', 'CIW80_11790', 'CIW80_06900', 'CIW80_00655', 'CIW80_05300', 'CIW80_19945', 'CIW80_04595', 'CIW80_21340', 'CIW80_08595', 'CIW80_15080', 'CIW80_24980', 'CIW80_03505', 'CIW80_22275', 'CIW80_22385', 'CIW80_14305', 'CIW80_20705', 'CIW80_14605', 'CIW80_15285', 'CIW80_00585', 'CIW80_17615', 'CIW80_01985', 'CIW80_21510', 'CIW80_20450', 'CIW80_08320', 'CIW80_02725', 'CIW80_20475', 'CIW80_15600', 'CIW80_01120', 'CIW80_24160', 'CIW80_06200', 'CIW80_08465', 'CIW80_00855', 'CIW80_24675', 'CIW80_12220', 'CIW80_08565', 'CIW80_19575', 'CIW80_19605', 'CIW80_06660', 'CIW80_00810', 'CIW80_20290', 'CIW80_00155', 'CIW80_13375', 'CIW80_12125', 'CIW80_17850', 'CIW80_21155', 'CIW80_19690', 'CIW80_23805', 'CIW80_09430', 'CIW80_12395', 'CIW80_24715', 'CIW80_04985', 'CIW80_01480', 'CIW80_25600', 'CIW80_12455', 'CIW80_25685', 'CIW80_12425', 'CIW80_19535', 'CIW80_06625', 'CIW80_24705', 'CIW80_14550', 'CIW80_06440', 'CIW80_09860', 'CIW80_11290', 'CIW80_06320', 'CIW80_09780', 'CIW80_22430', 'CIW80_02920', 'CIW80_20540', 'CIW80_22890', 'CIW80_20905', 'CIW80_22985', 'CIW80_11815', 'CIW80_12295', 'CIW80_21140', 'CIW80_11555', 'CIW80_16375', 'CIW80_12720', 'CIW80_15920', 'CIW80_11880', 'CIW80_24825', 'CIW80_04345', 'CIW80_18255', 'CIW80_09820', 'CIW80_17345', 'CIW80_25765', 'CIW80_08625', 'CIW80_18865', 'CIW80_12310', 'CIW80_00940', 'CIW80_00185', 'CIW80_15835', 'CIW80_18315', 'CIW80_20745', 'CIW80_01485', 'CIW80_20845', 'CIW80_20800', 'CIW80_14935', 'CIW80_17240', 'CIW80_19650', 'CIW80_01720', 'CIW80_17245', 'CIW80_04560', 'CIW80_00800', 'CIW80_09845', 'CIW80_11320', 'CIW80_19825', 'CIW80_24565', 'CIW80_03820', 'CIW80_08455', 'CIW80_24710', 'CIW80_10705', 'CIW80_23845', 'CIW80_21120', 'CIW80_05380', 'CIW80_03305', 'CIW80_02035', 'CIW80_00680', 'CIW80_01730', 'CIW80_16750', 'CIW80_23800', 'CIW80_01390', 'CIW80_19785', 'CIW80_19585', 'CIW80_24750', 'CIW80_03340', 'CIW80_06770', 'CIW80_00160', 'CIW80_00720', 'CIW80_14320', 'CIW80_12920', 'CIW80_02010', 'CIW80_10825', 'CIW80_12080', 'CIW80_22775', 'CIW80_09390', 'CIW80_10605', 'CIW80_04900', 'CIW80_00670', 'CIW80_15255', 'CIW80_21575', 'CIW80_15740', 'CIW80_05655'}\n",
      "CP000819 {'CIW80_22445', 'CIW80_06330', 'CIW80_08295', 'CIW80_15510', 'CIW80_15855', 'CIW80_04745', 'CIW80_11570', 'CIW80_10280', 'CIW80_06735', 'CIW80_09805', 'CIW80_01880', 'CIW80_04490', 'CIW80_25340', 'CIW80_01570', 'CIW80_12380', 'CIW80_02890', 'CIW80_09010', 'CIW80_05650', 'CIW80_24680', 'CIW80_13175', 'CIW80_16405', 'CIW80_12135', 'CIW80_23695', 'CIW80_13695', 'CIW80_19755', 'CIW80_08720', 'CIW80_22470', 'CIW80_19765', 'CIW80_10845', 'CIW80_23170', 'CIW80_02595', 'CIW80_15595', 'CIW80_10730', 'CIW80_16470', 'CIW80_15525', 'CIW80_25220', 'CIW80_24670', 'CIW80_22910', 'CIW80_25020', 'CIW80_03320', 'CIW80_11525', 'CIW80_18910', 'CIW80_25400', 'CIW80_12320', 'CIW80_18415', 'CIW80_06025', 'CIW80_00550', 'CIW80_12115', 'CIW80_20075', 'CIW80_00210', 'CIW80_04210', 'CIW80_10710', 'CIW80_09230', 'CIW80_08165', 'CIW80_16900', 'CIW80_00310', 'CIW80_08180', 'CIW80_20505', 'CIW80_13915', 'CIW80_10530', 'CIW80_10590', 'CIW80_21745', 'CIW80_21785', 'CIW80_25390', 'CIW80_01355', 'CIW80_15895', 'CIW80_21580', 'CIW80_13215', 'CIW80_24665', 'CIW80_03775', 'CIW80_15310', 'CIW80_17415', 'CIW80_00055', 'CIW80_06600', 'CIW80_08155', 'CIW80_23045', 'CIW80_25650', 'CIW80_19590', 'CIW80_21270', 'CIW80_19335', 'CIW80_00830', 'CIW80_01115', 'CIW80_06145', 'CIW80_17875', 'CIW80_08365', 'CIW80_09745', 'CIW80_21060', 'CIW80_17275', 'CIW80_25335', 'CIW80_18605', 'CIW80_10135', 'CIW80_14420', 'CIW80_09875', 'CIW80_19580', 'CIW80_01150', 'CIW80_18005', 'CIW80_12390', 'CIW80_09025', 'CIW80_00205', 'CIW80_19990', 'CIW80_14985', 'CIW80_12435', 'CIW80_19600', 'CIW80_20555', 'CIW80_20830', 'CIW80_19695', 'CIW80_24700', 'CIW80_18570', 'CIW80_17110', 'CIW80_07305', 'CIW80_07750', 'CIW80_10850', 'CIW80_24685', 'CIW80_23040', 'CIW80_04675', 'CIW80_22085', 'CIW80_17190', 'CIW80_14930', 'CIW80_12235', 'CIW80_06595', 'CIW80_17755', 'CIW80_24420', 'CIW80_17145', 'CIW80_20060', 'CIW80_05665', 'CIW80_21165', 'CIW80_14845', 'CIW80_06175', 'CIW80_16895', 'CIW80_06630', 'CIW80_08290', 'CIW80_25330', 'CIW80_16915', 'CIW80_22055', 'CIW80_16130', 'CIW80_03745', 'CIW80_17835', 'CIW80_17430', 'CIW80_25310', 'CIW80_00395', 'CIW80_15950', 'CIW80_23850', 'CIW80_12840', 'CIW80_24770', 'CIW80_13755', 'CIW80_03810', 'CIW80_18940', 'CIW80_03550', 'CIW80_08045', 'CIW80_13895', 'CIW80_01455', 'CIW80_14340', 'CIW80_00540', 'CIW80_10725', 'CIW80_04760', 'CIW80_11590', 'CIW80_14290', 'CIW80_08990', 'CIW80_24735', 'CIW80_21000', 'CIW80_07045', 'CIW80_15975', 'CIW80_15700', 'CIW80_14490', 'CIW80_16795', 'CIW80_00965', 'CIW80_11275', 'CIW80_01015', 'CIW80_02710', 'CIW80_15545', 'CIW80_06335', 'CIW80_00430', 'CIW80_23355', 'CIW80_04485', 'CIW80_11215', 'CIW80_04575', 'CIW80_11125', 'CIW80_01625', 'CIW80_11390', 'CIW80_07475', 'CIW80_24250', 'CIW80_23070', 'CIW80_10535', 'CIW80_16930', 'CIW80_03530', 'CIW80_12110', 'CIW80_25320', 'CIW80_18100', 'CIW80_17130', 'CIW80_01885', 'CIW80_12350', 'CIW80_17170', 'CIW80_02730', 'CIW80_03545', 'CIW80_06290', 'CIW80_11810', 'CIW80_17175', 'CIW80_25280', 'CIW80_18110', 'CIW80_03890', 'CIW80_06155', 'CIW80_04265', 'CIW80_21440', 'CIW80_17200', 'CIW80_08270', 'CIW80_21800', 'CIW80_04580', 'CIW80_09085', 'CIW80_15640', 'CIW80_18055', 'CIW80_04605', 'CIW80_09385', 'CIW80_01980', 'CIW80_04495', 'CIW80_20900', 'CIW80_06815', 'CIW80_00495', 'CIW80_15105', 'CIW80_19435', 'CIW80_22060', 'CIW80_15550', 'CIW80_14500', 'CIW80_08780', 'CIW80_23710', 'CIW80_15250', 'CIW80_13565', 'CIW80_17260', 'CIW80_18340', 'CIW80_16540', 'CIW80_11790', 'CIW80_06900', 'CIW80_00655', 'CIW80_05300', 'CIW80_17150', 'CIW80_19945', 'CIW80_04595', 'CIW80_21340', 'CIW80_08595', 'CIW80_15080', 'CIW80_24980', 'CIW80_22275', 'CIW80_22385', 'CIW80_14305', 'CIW80_14605', 'CIW80_15285', 'CIW80_00585', 'CIW80_17615', 'CIW80_17660', 'CIW80_01985', 'CIW80_21510', 'CIW80_20450', 'CIW80_08320', 'CIW80_12555', 'CIW80_02725', 'CIW80_25185', 'CIW80_20475', 'CIW80_09220', 'CIW80_15600', 'CIW80_01120', 'CIW80_24160', 'CIW80_06200', 'CIW80_00855', 'CIW80_24675', 'CIW80_12220', 'CIW80_18995', 'CIW80_08565', 'CIW80_19575', 'CIW80_19605', 'CIW80_06660', 'CIW80_00810', 'CIW80_16735', 'CIW80_20290', 'CIW80_00155', 'CIW80_19450', 'CIW80_13375', 'CIW80_12125', 'CIW80_17850', 'CIW80_21155', 'CIW80_23805', 'CIW80_09430', 'CIW80_19430', 'CIW80_12395', 'CIW80_24715', 'CIW80_04985', 'CIW80_01480', 'CIW80_15930', 'CIW80_25600', 'CIW80_12455', 'CIW80_25685', 'CIW80_12425', 'CIW80_19535', 'CIW80_23680', 'CIW80_04255', 'CIW80_06625', 'CIW80_23700', 'CIW80_24705', 'CIW80_14550', 'CIW80_03785', 'CIW80_06440', 'CIW80_09860', 'CIW80_17105', 'CIW80_03615', 'CIW80_15530', 'CIW80_00285', 'CIW80_11290', 'CIW80_06320', 'CIW80_09780', 'CIW80_22430', 'CIW80_20540', 'CIW80_22890', 'CIW80_21245', 'CIW80_20905', 'CIW80_22985', 'CIW80_12295', 'CIW80_11555', 'CIW80_12720', 'CIW80_15920', 'CIW80_01640', 'CIW80_11880', 'CIW80_24825', 'CIW80_18255', 'CIW80_09820', 'CIW80_17345', 'CIW80_08625', 'CIW80_19120', 'CIW80_12310', 'CIW80_00185', 'CIW80_15835', 'CIW80_15985', 'CIW80_18315', 'CIW80_20745', 'CIW80_20845', 'CIW80_14935', 'CIW80_22090', 'CIW80_19650', 'CIW80_01720', 'CIW80_17245', 'CIW80_17135', 'CIW80_04560', 'CIW80_00800', 'CIW80_09845', 'CIW80_11320', 'CIW80_24565', 'CIW80_03820', 'CIW80_24710', 'CIW80_10705', 'CIW80_23845', 'CIW80_21120', 'CIW80_00560', 'CIW80_05380', 'CIW80_02035', 'CIW80_23675', 'CIW80_00680', 'CIW80_01730', 'CIW80_03535', 'CIW80_23800', 'CIW80_01390', 'CIW80_19785', 'CIW80_09160', 'CIW80_17320', 'CIW80_24750', 'CIW80_09015', 'CIW80_20300', 'CIW80_03340', 'CIW80_06770', 'CIW80_00160', 'CIW80_00720', 'CIW80_14320', 'CIW80_12920', 'CIW80_02010', 'CIW80_10825', 'CIW80_20135', 'CIW80_12080', 'CIW80_22775', 'CIW80_09390', 'CIW80_10605', 'CIW80_01320', 'CIW80_04900', 'CIW80_03540', 'CIW80_00670', 'CIW80_24210', 'CIW80_07680', 'CIW80_15255', 'CIW80_21575', 'CIW80_15740', 'CIW80_05655', 'CIW80_07470'}\n",
      "CP001665 {'CIW80_22445', 'CIW80_08295', 'CIW80_15510', 'CIW80_15855', 'CIW80_04745', 'CIW80_11570', 'CIW80_10280', 'CIW80_09630', 'CIW80_06735', 'CIW80_09805', 'CIW80_01880', 'CIW80_04490', 'CIW80_25340', 'CIW80_01570', 'CIW80_12380', 'CIW80_02890', 'CIW80_08015', 'CIW80_05650', 'CIW80_24680', 'CIW80_13175', 'CIW80_16405', 'CIW80_12135', 'CIW80_13695', 'CIW80_19755', 'CIW80_08720', 'CIW80_22470', 'CIW80_10845', 'CIW80_23170', 'CIW80_02595', 'CIW80_15595', 'CIW80_22170', 'CIW80_08460', 'CIW80_10730', 'CIW80_16470', 'CIW80_02835', 'CIW80_15525', 'CIW80_25220', 'CIW80_24670', 'CIW80_22910', 'CIW80_03320', 'CIW80_11525', 'CIW80_18910', 'CIW80_12320', 'CIW80_18415', 'CIW80_06025', 'CIW80_01845', 'CIW80_00550', 'CIW80_16060', 'CIW80_12115', 'CIW80_00210', 'CIW80_04210', 'CIW80_09230', 'CIW80_00310', 'CIW80_08180', 'CIW80_20505', 'CIW80_14885', 'CIW80_13915', 'CIW80_10530', 'CIW80_10590', 'CIW80_21745', 'CIW80_01355', 'CIW80_15895', 'CIW80_21580', 'CIW80_13215', 'CIW80_24665', 'CIW80_17415', 'CIW80_00055', 'CIW80_01145', 'CIW80_08155', 'CIW80_14275', 'CIW80_23045', 'CIW80_25650', 'CIW80_00065', 'CIW80_21270', 'CIW80_00830', 'CIW80_01115', 'CIW80_06145', 'CIW80_17875', 'CIW80_08365', 'CIW80_09745', 'CIW80_21060', 'CIW80_17000', 'CIW80_03040', 'CIW80_18605', 'CIW80_10135', 'CIW80_09875', 'CIW80_19580', 'CIW80_01150', 'CIW80_18005', 'CIW80_12390', 'CIW80_13240', 'CIW80_07640', 'CIW80_00205', 'CIW80_19990', 'CIW80_14985', 'CIW80_12435', 'CIW80_19600', 'CIW80_20555', 'CIW80_19695', 'CIW80_24700', 'CIW80_18570', 'CIW80_17110', 'CIW80_07305', 'CIW80_07750', 'CIW80_24310', 'CIW80_24685', 'CIW80_04675', 'CIW80_22085', 'CIW80_14930', 'CIW80_25265', 'CIW80_12235', 'CIW80_06595', 'CIW80_17755', 'CIW80_24420', 'CIW80_17145', 'CIW80_08775', 'CIW80_20060', 'CIW80_21165', 'CIW80_04230', 'CIW80_14845', 'CIW80_06175', 'CIW80_08290', 'CIW80_03045', 'CIW80_22055', 'CIW80_16130', 'CIW80_17835', 'CIW80_17430', 'CIW80_25310', 'CIW80_00490', 'CIW80_00395', 'CIW80_23850', 'CIW80_12840', 'CIW80_01820', 'CIW80_24770', 'CIW80_13755', 'CIW80_21025', 'CIW80_03550', 'CIW80_04350', 'CIW80_08045', 'CIW80_13895', 'CIW80_01455', 'CIW80_14340', 'CIW80_00540', 'CIW80_16835', 'CIW80_03050', 'CIW80_10725', 'CIW80_04760', 'CIW80_11590', 'CIW80_14290', 'CIW80_24735', 'CIW80_21000', 'CIW80_07045', 'CIW80_15975', 'CIW80_10125', 'CIW80_14490', 'CIW80_16795', 'CIW80_00965', 'CIW80_02710', 'CIW80_15545', 'CIW80_06335', 'CIW80_00430', 'CIW80_04485', 'CIW80_11215', 'CIW80_04575', 'CIW80_11125', 'CIW80_20080', 'CIW80_01625', 'CIW80_11390', 'CIW80_07475', 'CIW80_24250', 'CIW80_23070', 'CIW80_10535', 'CIW80_03530', 'CIW80_03885', 'CIW80_12110', 'CIW80_25320', 'CIW80_18100', 'CIW80_17130', 'CIW80_01885', 'CIW80_17170', 'CIW80_02730', 'CIW80_03545', 'CIW80_06290', 'CIW80_11810', 'CIW80_25280', 'CIW80_02865', 'CIW80_18110', 'CIW80_03890', 'CIW80_06155', 'CIW80_04265', 'CIW80_21440', 'CIW80_17200', 'CIW80_08270', 'CIW80_04580', 'CIW80_03000', 'CIW80_15640', 'CIW80_04495', 'CIW80_04605', 'CIW80_19640', 'CIW80_20900', 'CIW80_06815', 'CIW80_00495', 'CIW80_15105', 'CIW80_22060', 'CIW80_15550', 'CIW80_14500', 'CIW80_24035', 'CIW80_08780', 'CIW80_17140', 'CIW80_11630', 'CIW80_15250', 'CIW80_16590', 'CIW80_18340', 'CIW80_04550', 'CIW80_11790', 'CIW80_06900', 'CIW80_05300', 'CIW80_17150', 'CIW80_19945', 'CIW80_04595', 'CIW80_21340', 'CIW80_08595', 'CIW80_15080', 'CIW80_24980', 'CIW80_22275', 'CIW80_22385', 'CIW80_14305', 'CIW80_14605', 'CIW80_00585', 'CIW80_17615', 'CIW80_05020', 'CIW80_01985', 'CIW80_21510', 'CIW80_20450', 'CIW80_08320', 'CIW80_12555', 'CIW80_25185', 'CIW80_20475', 'CIW80_09220', 'CIW80_15600', 'CIW80_01120', 'CIW80_24160', 'CIW80_06200', 'CIW80_00855', 'CIW80_24675', 'CIW80_08565', 'CIW80_19575', 'CIW80_06660', 'CIW80_00810', 'CIW80_16735', 'CIW80_20290', 'CIW80_00155', 'CIW80_13635', 'CIW80_19450', 'CIW80_13375', 'CIW80_12125', 'CIW80_17850', 'CIW80_21155', 'CIW80_19690', 'CIW80_08585', 'CIW80_23805', 'CIW80_09430', 'CIW80_12395', 'CIW80_24715', 'CIW80_03815', 'CIW80_01480', 'CIW80_15930', 'CIW80_25600', 'CIW80_12455', 'CIW80_12425', 'CIW80_19535', 'CIW80_06625', 'CIW80_24705', 'CIW80_14550', 'CIW80_09860', 'CIW80_17105', 'CIW80_00285', 'CIW80_11290', 'CIW80_09780', 'CIW80_22430', 'CIW80_02920', 'CIW80_20540', 'CIW80_18515', 'CIW80_21245', 'CIW80_20905', 'CIW80_01415', 'CIW80_22985', 'CIW80_12295', 'CIW80_11555', 'CIW80_12720', 'CIW80_15920', 'CIW80_11880', 'CIW80_24825', 'CIW80_13605', 'CIW80_18255', 'CIW80_09820', 'CIW80_08625', 'CIW80_19120', 'CIW80_12310', 'CIW80_13700', 'CIW80_00185', 'CIW80_15835', 'CIW80_15985', 'CIW80_18315', 'CIW80_20745', 'CIW80_20845', 'CIW80_14935', 'CIW80_19650', 'CIW80_01720', 'CIW80_03620', 'CIW80_17245', 'CIW80_17135', 'CIW80_04560', 'CIW80_00800', 'CIW80_09845', 'CIW80_11320', 'CIW80_24565', 'CIW80_03820', 'CIW80_08455', 'CIW80_24710', 'CIW80_10705', 'CIW80_23845', 'CIW80_25635', 'CIW80_21120', 'CIW80_02035', 'CIW80_00680', 'CIW80_01730', 'CIW80_16750', 'CIW80_03535', 'CIW80_23800', 'CIW80_01285', 'CIW80_19785', 'CIW80_24750', 'CIW80_03340', 'CIW80_06770', 'CIW80_00160', 'CIW80_00720', 'CIW80_12920', 'CIW80_02010', 'CIW80_10825', 'CIW80_12080', 'CIW80_10605', 'CIW80_01320', 'CIW80_04900', 'CIW80_03540', 'CIW80_00670', 'CIW80_24210', 'CIW80_07680', 'CIW80_15255', 'CIW80_21575', 'CIW80_15740', 'CIW80_05655'}\n",
      "AM946981 {'CIW80_22445', 'CIW80_06330', 'CIW80_08295', 'CIW80_15510', 'CIW80_15855', 'CIW80_04745', 'CIW80_11570', 'CIW80_16960', 'CIW80_06735', 'CIW80_09805', 'CIW80_25340', 'CIW80_01570', 'CIW80_12380', 'CIW80_05650', 'CIW80_13175', 'CIW80_16405', 'CIW80_12135', 'CIW80_13695', 'CIW80_19755', 'CIW80_08720', 'CIW80_22470', 'CIW80_19765', 'CIW80_10845', 'CIW80_23170', 'CIW80_02595', 'CIW80_15595', 'CIW80_10730', 'CIW80_16470', 'CIW80_15525', 'CIW80_25220', 'CIW80_09060', 'CIW80_22910', 'CIW80_25020', 'CIW80_11525', 'CIW80_18910', 'CIW80_25400', 'CIW80_12320', 'CIW80_18415', 'CIW80_06025', 'CIW80_00550', 'CIW80_12115', 'CIW80_20075', 'CIW80_00210', 'CIW80_04210', 'CIW80_10710', 'CIW80_09230', 'CIW80_08180', 'CIW80_20505', 'CIW80_13915', 'CIW80_10530', 'CIW80_23745', 'CIW80_10590', 'CIW80_16950', 'CIW80_21745', 'CIW80_01355', 'CIW80_15895', 'CIW80_21580', 'CIW80_13215', 'CIW80_24665', 'CIW80_15310', 'CIW80_17415', 'CIW80_00055', 'CIW80_08155', 'CIW80_23045', 'CIW80_25650', 'CIW80_00065', 'CIW80_00830', 'CIW80_01115', 'CIW80_06145', 'CIW80_08365', 'CIW80_09745', 'CIW80_21060', 'CIW80_17275', 'CIW80_18605', 'CIW80_10135', 'CIW80_09875', 'CIW80_19580', 'CIW80_01150', 'CIW80_18005', 'CIW80_12390', 'CIW80_00205', 'CIW80_19990', 'CIW80_14985', 'CIW80_12435', 'CIW80_19600', 'CIW80_20555', 'CIW80_19695', 'CIW80_18570', 'CIW80_17110', 'CIW80_07305', 'CIW80_07750', 'CIW80_10850', 'CIW80_23040', 'CIW80_04675', 'CIW80_22085', 'CIW80_14930', 'CIW80_12235', 'CIW80_06595', 'CIW80_17755', 'CIW80_20060', 'CIW80_05665', 'CIW80_21165', 'CIW80_14845', 'CIW80_06175', 'CIW80_16895', 'CIW80_06630', 'CIW80_08290', 'CIW80_22055', 'CIW80_16130', 'CIW80_03745', 'CIW80_17835', 'CIW80_25310', 'CIW80_00395', 'CIW80_23850', 'CIW80_24770', 'CIW80_13755', 'CIW80_03550', 'CIW80_08045', 'CIW80_13895', 'CIW80_01455', 'CIW80_14340', 'CIW80_00540', 'CIW80_16835', 'CIW80_10725', 'CIW80_08620', 'CIW80_04760', 'CIW80_11590', 'CIW80_14290', 'CIW80_08990', 'CIW80_24735', 'CIW80_07045', 'CIW80_15975', 'CIW80_14490', 'CIW80_16795', 'CIW80_00965', 'CIW80_01015', 'CIW80_02710', 'CIW80_15545', 'CIW80_06335', 'CIW80_00430', 'CIW80_04485', 'CIW80_11215', 'CIW80_04575', 'CIW80_11125', 'CIW80_01625', 'CIW80_24250', 'CIW80_07475', 'CIW80_23070', 'CIW80_10535', 'CIW80_03530', 'CIW80_25320', 'CIW80_18100', 'CIW80_17130', 'CIW80_17170', 'CIW80_02730', 'CIW80_03545', 'CIW80_06290', 'CIW80_11810', 'CIW80_18110', 'CIW80_03890', 'CIW80_06155', 'CIW80_04265', 'CIW80_17200', 'CIW80_08270', 'CIW80_04580', 'CIW80_09085', 'CIW80_15640', 'CIW80_04495', 'CIW80_04605', 'CIW80_01980', 'CIW80_19640', 'CIW80_20900', 'CIW80_06815', 'CIW80_15105', 'CIW80_22060', 'CIW80_15550', 'CIW80_14500', 'CIW80_08780', 'CIW80_15250', 'CIW80_17260', 'CIW80_18340', 'CIW80_04550', 'CIW80_11790', 'CIW80_06900', 'CIW80_05300', 'CIW80_17150', 'CIW80_19945', 'CIW80_04595', 'CIW80_21340', 'CIW80_17580', 'CIW80_08595', 'CIW80_15080', 'CIW80_24980', 'CIW80_22275', 'CIW80_22385', 'CIW80_14305', 'CIW80_14605', 'CIW80_00585', 'CIW80_17615', 'CIW80_01985', 'CIW80_21510', 'CIW80_20450', 'CIW80_08320', 'CIW80_02725', 'CIW80_03805', 'CIW80_20475', 'CIW80_09220', 'CIW80_23735', 'CIW80_15600', 'CIW80_01120', 'CIW80_24160', 'CIW80_06200', 'CIW80_00855', 'CIW80_12220', 'CIW80_18995', 'CIW80_08565', 'CIW80_19575', 'CIW80_06660', 'CIW80_16735', 'CIW80_20290', 'CIW80_19450', 'CIW80_13375', 'CIW80_12125', 'CIW80_17850', 'CIW80_21155', 'CIW80_19690', 'CIW80_23805', 'CIW80_09430', 'CIW80_12395', 'CIW80_24715', 'CIW80_03815', 'CIW80_01480', 'CIW80_09285', 'CIW80_25600', 'CIW80_12455', 'CIW80_25685', 'CIW80_12425', 'CIW80_19535', 'CIW80_14550', 'CIW80_09860', 'CIW80_17105', 'CIW80_00285', 'CIW80_11290', 'CIW80_06320', 'CIW80_09780', 'CIW80_22430', 'CIW80_20540', 'CIW80_20905', 'CIW80_22985', 'CIW80_12295', 'CIW80_11555', 'CIW80_12720', 'CIW80_15920', 'CIW80_11880', 'CIW80_24355', 'CIW80_24825', 'CIW80_18255', 'CIW80_09820', 'CIW80_17345', 'CIW80_08625', 'CIW80_19120', 'CIW80_12310', 'CIW80_09050', 'CIW80_00185', 'CIW80_15835', 'CIW80_15985', 'CIW80_18315', 'CIW80_20745', 'CIW80_20845', 'CIW80_14935', 'CIW80_22090', 'CIW80_19650', 'CIW80_01720', 'CIW80_03620', 'CIW80_17245', 'CIW80_17135', 'CIW80_04560', 'CIW80_00800', 'CIW80_09845', 'CIW80_11320', 'CIW80_24565', 'CIW80_10705', 'CIW80_23845', 'CIW80_21120', 'CIW80_00560', 'CIW80_05380', 'CIW80_18915', 'CIW80_02035', 'CIW80_23675', 'CIW80_00680', 'CIW80_01730', 'CIW80_03535', 'CIW80_23800', 'CIW80_01390', 'CIW80_01285', 'CIW80_19785', 'CIW80_17320', 'CIW80_24750', 'CIW80_20300', 'CIW80_03340', 'CIW80_06770', 'CIW80_00160', 'CIW80_00720', 'CIW80_12920', 'CIW80_02010', 'CIW80_10825', 'CIW80_12080', 'CIW80_22775', 'CIW80_09390', 'CIW80_10605', 'CIW80_01320', 'CIW80_04900', 'CIW80_03540', 'CIW80_00670', 'CIW80_15255', 'CIW80_21575', 'CIW80_15740', 'CIW80_05655', 'CIW80_07470'}\n"
     ]
    },
    {
     "name": "stdout",
     "output_type": "stream",
     "text": [
      "CP001509 {'CIW80_22445', 'CIW80_06330', 'CIW80_08295', 'CIW80_15510', 'CIW80_04745', 'CIW80_11570', 'CIW80_10280', 'CIW80_06735', 'CIW80_09805', 'CIW80_25340', 'CIW80_01570', 'CIW80_12380', 'CIW80_02890', 'CIW80_08015', 'CIW80_05650', 'CIW80_24680', 'CIW80_13175', 'CIW80_16405', 'CIW80_12135', 'CIW80_13695', 'CIW80_19755', 'CIW80_08720', 'CIW80_22470', 'CIW80_19765', 'CIW80_10845', 'CIW80_23170', 'CIW80_02595', 'CIW80_15595', 'CIW80_10730', 'CIW80_16470', 'CIW80_15525', 'CIW80_25220', 'CIW80_24670', 'CIW80_22910', 'CIW80_25020', 'CIW80_03320', 'CIW80_11525', 'CIW80_18910', 'CIW80_25400', 'CIW80_12320', 'CIW80_18415', 'CIW80_06025', 'CIW80_00550', 'CIW80_12115', 'CIW80_20075', 'CIW80_00210', 'CIW80_04210', 'CIW80_10710', 'CIW80_09230', 'CIW80_00310', 'CIW80_08180', 'CIW80_20505', 'CIW80_14885', 'CIW80_13915', 'CIW80_10530', 'CIW80_10590', 'CIW80_21745', 'CIW80_01355', 'CIW80_15895', 'CIW80_21580', 'CIW80_13215', 'CIW80_24665', 'CIW80_15310', 'CIW80_17415', 'CIW80_00055', 'CIW80_06600', 'CIW80_08155', 'CIW80_23045', 'CIW80_25650', 'CIW80_19590', 'CIW80_21270', 'CIW80_00830', 'CIW80_01115', 'CIW80_06145', 'CIW80_17875', 'CIW80_08365', 'CIW80_09745', 'CIW80_21060', 'CIW80_17275', 'CIW80_25335', 'CIW80_18605', 'CIW80_10135', 'CIW80_09875', 'CIW80_19580', 'CIW80_01150', 'CIW80_18005', 'CIW80_12390', 'CIW80_00205', 'CIW80_19990', 'CIW80_14985', 'CIW80_12435', 'CIW80_19600', 'CIW80_20555', 'CIW80_19695', 'CIW80_24700', 'CIW80_18570', 'CIW80_17110', 'CIW80_07305', 'CIW80_07750', 'CIW80_10850', 'CIW80_24685', 'CIW80_23040', 'CIW80_04675', 'CIW80_22085', 'CIW80_17190', 'CIW80_14930', 'CIW80_12235', 'CIW80_06595', 'CIW80_17755', 'CIW80_24420', 'CIW80_17145', 'CIW80_20060', 'CIW80_05665', 'CIW80_21165', 'CIW80_04230', 'CIW80_14845', 'CIW80_06175', 'CIW80_16895', 'CIW80_08290', 'CIW80_25330', 'CIW80_22055', 'CIW80_16130', 'CIW80_03745', 'CIW80_17835', 'CIW80_17430', 'CIW80_25310', 'CIW80_00395', 'CIW80_15950', 'CIW80_23850', 'CIW80_12840', 'CIW80_24770', 'CIW80_13755', 'CIW80_03550', 'CIW80_08045', 'CIW80_13895', 'CIW80_01455', 'CIW80_14340', 'CIW80_00540', 'CIW80_10725', 'CIW80_04760', 'CIW80_11590', 'CIW80_14290', 'CIW80_08990', 'CIW80_24735', 'CIW80_21000', 'CIW80_07045', 'CIW80_15975', 'CIW80_15700', 'CIW80_14490', 'CIW80_16795', 'CIW80_00965', 'CIW80_01015', 'CIW80_02710', 'CIW80_15545', 'CIW80_06335', 'CIW80_00430', 'CIW80_04485', 'CIW80_11215', 'CIW80_04575', 'CIW80_11125', 'CIW80_01625', 'CIW80_11390', 'CIW80_07475', 'CIW80_24250', 'CIW80_23070', 'CIW80_10535', 'CIW80_03530', 'CIW80_25320', 'CIW80_18100', 'CIW80_17130', 'CIW80_01885', 'CIW80_12350', 'CIW80_17170', 'CIW80_02730', 'CIW80_03545', 'CIW80_06290', 'CIW80_11810', 'CIW80_17175', 'CIW80_25280', 'CIW80_18110', 'CIW80_03890', 'CIW80_06155', 'CIW80_04265', 'CIW80_21440', 'CIW80_17200', 'CIW80_08270', 'CIW80_04580', 'CIW80_09085', 'CIW80_15640', 'CIW80_04495', 'CIW80_04605', 'CIW80_01980', 'CIW80_19640', 'CIW80_20900', 'CIW80_06815', 'CIW80_00495', 'CIW80_15105', 'CIW80_19435', 'CIW80_22060', 'CIW80_15550', 'CIW80_14500', 'CIW80_08780', 'CIW80_15250', 'CIW80_17260', 'CIW80_18340', 'CIW80_04550', 'CIW80_16540', 'CIW80_11790', 'CIW80_06900', 'CIW80_05300', 'CIW80_17150', 'CIW80_19945', 'CIW80_04595', 'CIW80_21340', 'CIW80_08595', 'CIW80_15080', 'CIW80_24980', 'CIW80_22275', 'CIW80_22385', 'CIW80_14305', 'CIW80_14605', 'CIW80_00585', 'CIW80_17615', 'CIW80_01985', 'CIW80_21510', 'CIW80_20450', 'CIW80_08320', 'CIW80_12555', 'CIW80_02725', 'CIW80_20475', 'CIW80_09220', 'CIW80_15600', 'CIW80_01120', 'CIW80_24160', 'CIW80_06200', 'CIW80_00855', 'CIW80_24675', 'CIW80_12220', 'CIW80_18995', 'CIW80_08565', 'CIW80_19575', 'CIW80_19605', 'CIW80_06660', 'CIW80_00810', 'CIW80_16735', 'CIW80_20290', 'CIW80_00155', 'CIW80_19450', 'CIW80_13375', 'CIW80_12125', 'CIW80_17850', 'CIW80_21155', 'CIW80_23805', 'CIW80_09430', 'CIW80_19430', 'CIW80_12395', 'CIW80_24715', 'CIW80_01480', 'CIW80_15930', 'CIW80_25600', 'CIW80_12455', 'CIW80_25685', 'CIW80_12425', 'CIW80_19535', 'CIW80_24705', 'CIW80_14550', 'CIW80_09860', 'CIW80_17105', 'CIW80_00285', 'CIW80_11290', 'CIW80_06320', 'CIW80_09780', 'CIW80_22430', 'CIW80_20540', 'CIW80_21245', 'CIW80_20905', 'CIW80_12295', 'CIW80_11555', 'CIW80_12720', 'CIW80_15920', 'CIW80_01640', 'CIW80_11880', 'CIW80_24825', 'CIW80_13605', 'CIW80_18255', 'CIW80_09820', 'CIW80_17345', 'CIW80_08625', 'CIW80_19120', 'CIW80_12310', 'CIW80_00185', 'CIW80_15835', 'CIW80_15985', 'CIW80_18315', 'CIW80_20745', 'CIW80_20845', 'CIW80_14935', 'CIW80_19650', 'CIW80_01720', 'CIW80_17245', 'CIW80_17135', 'CIW80_04560', 'CIW80_00800', 'CIW80_09845', 'CIW80_11320', 'CIW80_24565', 'CIW80_03820', 'CIW80_24710', 'CIW80_10705', 'CIW80_23845', 'CIW80_25635', 'CIW80_21120', 'CIW80_00560', 'CIW80_05380', 'CIW80_02035', 'CIW80_23675', 'CIW80_00680', 'CIW80_01730', 'CIW80_03535', 'CIW80_23800', 'CIW80_01390', 'CIW80_01285', 'CIW80_19785', 'CIW80_09160', 'CIW80_24750', 'CIW80_20300', 'CIW80_03340', 'CIW80_06770', 'CIW80_00160', 'CIW80_00720', 'CIW80_12920', 'CIW80_02010', 'CIW80_10825', 'CIW80_12080', 'CIW80_22775', 'CIW80_09390', 'CIW80_10605', 'CIW80_01320', 'CIW80_04900', 'CIW80_03540', 'CIW80_00670', 'CIW80_24210', 'CIW80_07680', 'CIW80_15255', 'CIW80_21575', 'CIW80_15740', 'CIW80_05655', 'CIW80_07470'}\n",
      "CP001396 {'CIW80_22445', 'CIW80_06330', 'CIW80_08295', 'CIW80_15510', 'CIW80_15855', 'CIW80_05090', 'CIW80_04745', 'CIW80_11570', 'CIW80_09000', 'CIW80_09205', 'CIW80_10280', 'CIW80_09630', 'CIW80_05030', 'CIW80_06735', 'CIW80_09805', 'CIW80_01880', 'CIW80_04490', 'CIW80_25340', 'CIW80_01570', 'CIW80_12380', 'CIW80_02890', 'CIW80_05650', 'CIW80_24680', 'CIW80_13175', 'CIW80_16405', 'CIW80_12135', 'CIW80_13695', 'CIW80_08720', 'CIW80_19455', 'CIW80_22470', 'CIW80_10845', 'CIW80_23170', 'CIW80_02595', 'CIW80_15595', 'CIW80_08310', 'CIW80_10730', 'CIW80_16470', 'CIW80_02835', 'CIW80_15525', 'CIW80_25220', 'CIW80_24670', 'CIW80_19975', 'CIW80_22910', 'CIW80_25020', 'CIW80_03320', 'CIW80_11525', 'CIW80_18910', 'CIW80_25400', 'CIW80_12320', 'CIW80_18415', 'CIW80_13630', 'CIW80_08765', 'CIW80_06025', 'CIW80_00550', 'CIW80_00915', 'CIW80_12115', 'CIW80_20075', 'CIW80_00210', 'CIW80_04210', 'CIW80_10710', 'CIW80_09230', 'CIW80_08165', 'CIW80_08180', 'CIW80_20505', 'CIW80_09400', 'CIW80_10530', 'CIW80_10590', 'CIW80_21745', 'CIW80_21785', 'CIW80_01355', 'CIW80_15895', 'CIW80_21580', 'CIW80_13215', 'CIW80_24665', 'CIW80_15310', 'CIW80_17415', 'CIW80_00055', 'CIW80_13770', 'CIW80_08155', 'CIW80_23045', 'CIW80_25650', 'CIW80_00065', 'CIW80_00830', 'CIW80_01115', 'CIW80_06145', 'CIW80_19875', 'CIW80_08365', 'CIW80_09745', 'CIW80_21060', 'CIW80_17000', 'CIW80_20720', 'CIW80_17275', 'CIW80_03040', 'CIW80_18605', 'CIW80_10135', 'CIW80_09875', 'CIW80_04365', 'CIW80_01150', 'CIW80_18005', 'CIW80_12390', 'CIW80_07640', 'CIW80_00205', 'CIW80_19990', 'CIW80_14985', 'CIW80_12435', 'CIW80_20555', 'CIW80_18570', 'CIW80_17110', 'CIW80_07305', 'CIW80_07750', 'CIW80_24310', 'CIW80_10850', 'CIW80_24685', 'CIW80_23040', 'CIW80_22085', 'CIW80_14930', 'CIW80_12235', 'CIW80_06595', 'CIW80_17755', 'CIW80_24420', 'CIW80_17145', 'CIW80_13705', 'CIW80_08775', 'CIW80_20060', 'CIW80_05665', 'CIW80_16740', 'CIW80_21165', 'CIW80_04230', 'CIW80_14845', 'CIW80_24330', 'CIW80_06175', 'CIW80_05905', 'CIW80_06630', 'CIW80_08290', 'CIW80_03045', 'CIW80_10150', 'CIW80_10855', 'CIW80_07550', 'CIW80_24385', 'CIW80_22055', 'CIW80_16130', 'CIW80_05025', 'CIW80_17835', 'CIW80_25310', 'CIW80_00395', 'CIW80_23850', 'CIW80_13755', 'CIW80_03810', 'CIW80_03550', 'CIW80_03995', 'CIW80_08045', 'CIW80_13895', 'CIW80_01455', 'CIW80_14340', 'CIW80_00540', 'CIW80_03050', 'CIW80_10725', 'CIW80_24370', 'CIW80_04760', 'CIW80_11805', 'CIW80_11590', 'CIW80_17990', 'CIW80_14290', 'CIW80_24735', 'CIW80_07045', 'CIW80_15975', 'CIW80_08710', 'CIW80_14490', 'CIW80_16795', 'CIW80_00965', 'CIW80_01015', 'CIW80_02710', 'CIW80_15545', 'CIW80_06335', 'CIW80_00430', 'CIW80_04485', 'CIW80_11215', 'CIW80_04575', 'CIW80_11125', 'CIW80_20080', 'CIW80_01625', 'CIW80_12770', 'CIW80_07475', 'CIW80_24250', 'CIW80_23070', 'CIW80_10535', 'CIW80_03530', 'CIW80_25320', 'CIW80_18100', 'CIW80_17130', 'CIW80_01885', 'CIW80_12350', 'CIW80_17170', 'CIW80_02730', 'CIW80_04665', 'CIW80_03545', 'CIW80_07065', 'CIW80_06290', 'CIW80_17350', 'CIW80_11810', 'CIW80_17175', 'CIW80_02865', 'CIW80_18110', 'CIW80_03890', 'CIW80_06155', 'CIW80_04265', 'CIW80_17200', 'CIW80_08270', 'CIW80_21800', 'CIW80_04580', 'CIW80_03000', 'CIW80_15640', 'CIW80_18055', 'CIW80_04605', 'CIW80_01980', 'CIW80_04495', 'CIW80_20900', 'CIW80_06815', 'CIW80_15105', 'CIW80_19435', 'CIW80_22060', 'CIW80_15550', 'CIW80_14500', 'CIW80_08780', 'CIW80_17140', 'CIW80_15250', 'CIW80_17260', 'CIW80_15810', 'CIW80_18340', 'CIW80_16755', 'CIW80_16540', 'CIW80_11790', 'CIW80_19930', 'CIW80_06900', 'CIW80_17150', 'CIW80_19945', 'CIW80_04595', 'CIW80_21340', 'CIW80_08595', 'CIW80_15080', 'CIW80_09270', 'CIW80_22275', 'CIW80_22385', 'CIW80_24980', 'CIW80_14305', 'CIW80_14605', 'CIW80_00585', 'CIW80_17615', 'CIW80_00705', 'CIW80_01985', 'CIW80_21510', 'CIW80_20450', 'CIW80_08320', 'CIW80_02725', 'CIW80_20475', 'CIW80_09220', 'CIW80_15600', 'CIW80_01120', 'CIW80_24160', 'CIW80_06200', 'CIW80_00855', 'CIW80_24675', 'CIW80_12220', 'CIW80_16955', 'CIW80_08565', 'CIW80_06660', 'CIW80_16735', 'CIW80_20290', 'CIW80_03575', 'CIW80_13635', 'CIW80_19450', 'CIW80_13375', 'CIW80_12125', 'CIW80_17850', 'CIW80_21155', 'CIW80_23805', 'CIW80_20810', 'CIW80_09430', 'CIW80_19430', 'CIW80_12395', 'CIW80_24715', 'CIW80_03815', 'CIW80_13930', 'CIW80_01480', 'CIW80_25600', 'CIW80_12455', 'CIW80_25685', 'CIW80_12425', 'CIW80_06625', 'CIW80_14550', 'CIW80_06440', 'CIW80_09860', 'CIW80_17105', 'CIW80_00285', 'CIW80_23055', 'CIW80_11290', 'CIW80_06320', 'CIW80_09780', 'CIW80_22430', 'CIW80_02920', 'CIW80_20540', 'CIW80_16905', 'CIW80_25155', 'CIW80_20905', 'CIW80_22985', 'CIW80_12295', 'CIW80_21140', 'CIW80_11555', 'CIW80_04395', 'CIW80_12720', 'CIW80_15920', 'CIW80_11880', 'CIW80_00515', 'CIW80_24825', 'CIW80_04345', 'CIW80_18255', 'CIW80_09820', 'CIW80_17345', 'CIW80_25765', 'CIW80_08625', 'CIW80_12310', 'CIW80_00185', 'CIW80_15835', 'CIW80_25555', 'CIW80_15985', 'CIW80_18315', 'CIW80_20745', 'CIW80_20845', 'CIW80_20800', 'CIW80_14935', 'CIW80_22090', 'CIW80_01720', 'CIW80_17245', 'CIW80_20805', 'CIW80_17135', 'CIW80_04560', 'CIW80_00800', 'CIW80_09845', 'CIW80_11320', 'CIW80_24565', 'CIW80_03820', 'CIW80_24710', 'CIW80_10705', 'CIW80_23845', 'CIW80_21120', 'CIW80_04480', 'CIW80_05380', 'CIW80_02035', 'CIW80_00680', 'CIW80_02675', 'CIW80_01730', 'CIW80_16750', 'CIW80_03535', 'CIW80_23800', 'CIW80_01390', 'CIW80_09160', 'CIW80_17320', 'CIW80_24750', 'CIW80_20300', 'CIW80_03340', 'CIW80_06770', 'CIW80_00160', 'CIW80_00720', 'CIW80_00020', 'CIW80_14320', 'CIW80_12920', 'CIW80_02010', 'CIW80_10825', 'CIW80_12080', 'CIW80_22775', 'CIW80_09390', 'CIW80_10605', 'CIW80_04900', 'CIW80_03540', 'CIW80_00670', 'CIW80_15255', 'CIW80_21575', 'CIW80_15740', 'CIW80_05655'}\n",
      "CP001637 {'CIW80_22445', 'CIW80_06330', 'CIW80_08295', 'CIW80_15510', 'CIW80_15855', 'CIW80_05090', 'CIW80_04745', 'CIW80_11570', 'CIW80_09000', 'CIW80_08630', 'CIW80_10280', 'CIW80_09630', 'CIW80_05030', 'CIW80_06735', 'CIW80_09805', 'CIW80_01880', 'CIW80_04490', 'CIW80_25340', 'CIW80_01570', 'CIW80_12380', 'CIW80_05650', 'CIW80_24680', 'CIW80_13175', 'CIW80_16405', 'CIW80_12135', 'CIW80_13695', 'CIW80_19755', 'CIW80_08720', 'CIW80_22470', 'CIW80_19765', 'CIW80_10845', 'CIW80_23170', 'CIW80_25115', 'CIW80_17790', 'CIW80_02595', 'CIW80_15595', 'CIW80_10730', 'CIW80_16470', 'CIW80_02835', 'CIW80_15525', 'CIW80_25220', 'CIW80_24670', 'CIW80_19975', 'CIW80_22910', 'CIW80_09510', 'CIW80_18050', 'CIW80_03320', 'CIW80_11525', 'CIW80_18910', 'CIW80_17670', 'CIW80_25400', 'CIW80_12320', 'CIW80_18415', 'CIW80_13630', 'CIW80_09790', 'CIW80_06025', 'CIW80_01845', 'CIW80_00550', 'CIW80_16060', 'CIW80_12115', 'CIW80_00210', 'CIW80_04210', 'CIW80_10710', 'CIW80_09230', 'CIW80_08180', 'CIW80_20505', 'CIW80_09400', 'CIW80_10530', 'CIW80_10590', 'CIW80_21745', 'CIW80_21785', 'CIW80_01355', 'CIW80_15895', 'CIW80_21580', 'CIW80_13215', 'CIW80_24665', 'CIW80_17415', 'CIW80_00055', 'CIW80_01145', 'CIW80_08155', 'CIW80_23045', 'CIW80_25650', 'CIW80_24640', 'CIW80_00065', 'CIW80_00830', 'CIW80_01115', 'CIW80_06145', 'CIW80_08365', 'CIW80_09745', 'CIW80_21060', 'CIW80_17275', 'CIW80_03040', 'CIW80_18605', 'CIW80_10135', 'CIW80_09875', 'CIW80_04365', 'CIW80_19580', 'CIW80_01150', 'CIW80_18005', 'CIW80_12390', 'CIW80_13240', 'CIW80_00205', 'CIW80_19990', 'CIW80_14985', 'CIW80_12435', 'CIW80_19600', 'CIW80_20555', 'CIW80_19695', 'CIW80_24700', 'CIW80_18570', 'CIW80_17110', 'CIW80_07305', 'CIW80_07750', 'CIW80_18080', 'CIW80_10850', 'CIW80_24685', 'CIW80_23040', 'CIW80_04675', 'CIW80_22085', 'CIW80_14930', 'CIW80_25265', 'CIW80_12235', 'CIW80_06595', 'CIW80_17755', 'CIW80_17145', 'CIW80_13705', 'CIW80_20060', 'CIW80_02030', 'CIW80_05665', 'CIW80_21165', 'CIW80_04230', 'CIW80_14845', 'CIW80_06175', 'CIW80_06630', 'CIW80_08290', 'CIW80_23095', 'CIW80_03045', 'CIW80_10855', 'CIW80_07550', 'CIW80_22055', 'CIW80_16130', 'CIW80_20795', 'CIW80_05025', 'CIW80_17835', 'CIW80_25310', 'CIW80_00395', 'CIW80_23850', 'CIW80_13755', 'CIW80_16440', 'CIW80_03550', 'CIW80_03995', 'CIW80_08045', 'CIW80_13895', 'CIW80_01455', 'CIW80_14340', 'CIW80_00540', 'CIW80_03050', 'CIW80_02055', 'CIW80_10725', 'CIW80_04760', 'CIW80_11590', 'CIW80_13390', 'CIW80_14290', 'CIW80_24735', 'CIW80_07045', 'CIW80_15975', 'CIW80_08710', 'CIW80_14490', 'CIW80_16795', 'CIW80_00965', 'CIW80_02710', 'CIW80_15545', 'CIW80_06335', 'CIW80_00430', 'CIW80_04485', 'CIW80_11215', 'CIW80_04575', 'CIW80_11125', 'CIW80_20080', 'CIW80_01625', 'CIW80_12770', 'CIW80_07475', 'CIW80_24250', 'CIW80_23070', 'CIW80_10535', 'CIW80_03530', 'CIW80_03885', 'CIW80_25320', 'CIW80_18100', 'CIW80_17130', 'CIW80_01885', 'CIW80_17170', 'CIW80_02730', 'CIW80_03545', 'CIW80_07065', 'CIW80_06290', 'CIW80_17350', 'CIW80_11810', 'CIW80_02865', 'CIW80_18110', 'CIW80_03890', 'CIW80_06155', 'CIW80_04265', 'CIW80_21440', 'CIW80_17200', 'CIW80_08270', 'CIW80_21800', 'CIW80_04580', 'CIW80_03000', 'CIW80_15640', 'CIW80_04495', 'CIW80_04605', 'CIW80_01980', 'CIW80_19640', 'CIW80_20900', 'CIW80_06815', 'CIW80_15105', 'CIW80_13405', 'CIW80_22060', 'CIW80_15550', 'CIW80_14500', 'CIW80_24035', 'CIW80_08780', 'CIW80_15250', 'CIW80_16590', 'CIW80_17260', 'CIW80_15810', 'CIW80_19660', 'CIW80_18835', 'CIW80_18340', 'CIW80_16755', 'CIW80_11790', 'CIW80_06900', 'CIW80_17150', 'CIW80_19945', 'CIW80_04595', 'CIW80_21340', 'CIW80_08595', 'CIW80_24980', 'CIW80_22275', 'CIW80_22385', 'CIW80_14305', 'CIW80_14605', 'CIW80_16800', 'CIW80_00585', 'CIW80_17615', 'CIW80_01985', 'CIW80_21510', 'CIW80_20450', 'CIW80_08320', 'CIW80_02725', 'CIW80_25185', 'CIW80_20475', 'CIW80_09220', 'CIW80_15600', 'CIW80_01120', 'CIW80_24160', 'CIW80_06200', 'CIW80_00855', 'CIW80_24675', 'CIW80_16955', 'CIW80_08565', 'CIW80_19575', 'CIW80_06660', 'CIW80_00810', 'CIW80_16735', 'CIW80_20290', 'CIW80_00155', 'CIW80_19450', 'CIW80_13375', 'CIW80_12125', 'CIW80_17850', 'CIW80_21155', 'CIW80_19690', 'CIW80_23805', 'CIW80_09430', 'CIW80_12395', 'CIW80_24715', 'CIW80_03815', 'CIW80_01480', 'CIW80_25600', 'CIW80_12455', 'CIW80_12425', 'CIW80_19535', 'CIW80_06625', 'CIW80_24705', 'CIW80_14550', 'CIW80_18665', 'CIW80_06440', 'CIW80_09860', 'CIW80_17105', 'CIW80_00285', 'CIW80_23055', 'CIW80_11290', 'CIW80_09780', 'CIW80_22430', 'CIW80_02920', 'CIW80_20540', 'CIW80_16905', 'CIW80_08645', 'CIW80_20905', 'CIW80_22985', 'CIW80_04245', 'CIW80_12295', 'CIW80_21140', 'CIW80_11555', 'CIW80_12720', 'CIW80_15920', 'CIW80_11880', 'CIW80_00515', 'CIW80_24825', 'CIW80_04345', 'CIW80_18255', 'CIW80_09820', 'CIW80_17345', 'CIW80_25765', 'CIW80_08625', 'CIW80_12310', 'CIW80_13700', 'CIW80_00185', 'CIW80_15835', 'CIW80_25555', 'CIW80_15985', 'CIW80_18315', 'CIW80_20745', 'CIW80_20845', 'CIW80_20800', 'CIW80_14935', 'CIW80_19650', 'CIW80_01720', 'CIW80_17245', 'CIW80_20805', 'CIW80_17135', 'CIW80_04560', 'CIW80_00800', 'CIW80_09845', 'CIW80_11320', 'CIW80_24565', 'CIW80_03820', 'CIW80_08455', 'CIW80_24710', 'CIW80_10705', 'CIW80_23845', 'CIW80_25030', 'CIW80_21120', 'CIW80_04480', 'CIW80_05380', 'CIW80_02035', 'CIW80_07105', 'CIW80_00680', 'CIW80_01730', 'CIW80_03535', 'CIW80_23800', 'CIW80_01390', 'CIW80_19785', 'CIW80_19585', 'CIW80_19940', 'CIW80_24750', 'CIW80_20300', 'CIW80_03340', 'CIW80_06770', 'CIW80_00160', 'CIW80_00720', 'CIW80_00020', 'CIW80_12920', 'CIW80_02010', 'CIW80_10825', 'CIW80_12080', 'CIW80_22775', 'CIW80_09390', 'CIW80_10605', 'CIW80_04900', 'CIW80_03540', 'CIW80_00670', 'CIW80_15255', 'CIW80_21575', 'CIW80_15740', 'CIW80_15970', 'CIW80_05655'}\n",
      "AP012030 {'CIW80_22445', 'CIW80_06330', 'CIW80_05045', 'CIW80_08295', 'CIW80_15510', 'CIW80_15855', 'CIW80_04745', 'CIW80_11570', 'CIW80_09000', 'CIW80_25150', 'CIW80_10280', 'CIW80_05030', 'CIW80_06735', 'CIW80_09805', 'CIW80_01880', 'CIW80_04490', 'CIW80_25340', 'CIW80_01570', 'CIW80_12380', 'CIW80_05650', 'CIW80_13175', 'CIW80_16405', 'CIW80_12135', 'CIW80_21115', 'CIW80_13695', 'CIW80_19755', 'CIW80_08720', 'CIW80_22470', 'CIW80_10845', 'CIW80_23170', 'CIW80_25115', 'CIW80_02595', 'CIW80_15595', 'CIW80_10730', 'CIW80_16470', 'CIW80_02835', 'CIW80_15525', 'CIW80_25220', 'CIW80_22910', 'CIW80_09510', 'CIW80_18050', 'CIW80_11525', 'CIW80_18910', 'CIW80_17195', 'CIW80_25400', 'CIW80_12320', 'CIW80_18415', 'CIW80_13630', 'CIW80_09790', 'CIW80_06025', 'CIW80_00550', 'CIW80_12115', 'CIW80_20075', 'CIW80_00210', 'CIW80_04210', 'CIW80_10710', 'CIW80_08165', 'CIW80_13415', 'CIW80_08180', 'CIW80_20505', 'CIW80_10530', 'CIW80_10590', 'CIW80_21745', 'CIW80_21785', 'CIW80_01355', 'CIW80_15895', 'CIW80_21580', 'CIW80_13215', 'CIW80_24665', 'CIW80_15310', 'CIW80_17415', 'CIW80_00055', 'CIW80_01145', 'CIW80_08155', 'CIW80_23045', 'CIW80_25650', 'CIW80_00065', 'CIW80_00830', 'CIW80_01115', 'CIW80_06145', 'CIW80_08365', 'CIW80_09745', 'CIW80_21060', 'CIW80_17275', 'CIW80_03040', 'CIW80_22810', 'CIW80_18605', 'CIW80_10135', 'CIW80_09875', 'CIW80_19580', 'CIW80_01150', 'CIW80_18005', 'CIW80_12390', 'CIW80_00205', 'CIW80_19990', 'CIW80_14985', 'CIW80_12435', 'CIW80_19600', 'CIW80_20555', 'CIW80_19695', 'CIW80_24700', 'CIW80_18570', 'CIW80_17110', 'CIW80_07305', 'CIW80_07750', 'CIW80_10850', 'CIW80_04675', 'CIW80_22085', 'CIW80_14930', 'CIW80_25265', 'CIW80_12235', 'CIW80_14485', 'CIW80_06595', 'CIW80_17755', 'CIW80_20060', 'CIW80_05665', 'CIW80_21165', 'CIW80_14845', 'CIW80_06175', 'CIW80_06630', 'CIW80_08290', 'CIW80_03045', 'CIW80_07550', 'CIW80_22055', 'CIW80_16130', 'CIW80_20795', 'CIW80_05025', 'CIW80_17835', 'CIW80_25310', 'CIW80_00395', 'CIW80_23850', 'CIW80_13755', 'CIW80_16440', 'CIW80_03550', 'CIW80_03995', 'CIW80_08045', 'CIW80_13895', 'CIW80_01455', 'CIW80_14340', 'CIW80_00540', 'CIW80_03050', 'CIW80_02055', 'CIW80_10725', 'CIW80_04760', 'CIW80_11590', 'CIW80_14290', 'CIW80_24735', 'CIW80_07045', 'CIW80_15975', 'CIW80_08710', 'CIW80_14490', 'CIW80_16795', 'CIW80_00965', 'CIW80_01015', 'CIW80_02710', 'CIW80_15545', 'CIW80_06335', 'CIW80_00430', 'CIW80_04485', 'CIW80_11215', 'CIW80_04575', 'CIW80_11125', 'CIW80_01625', 'CIW80_12770', 'CIW80_07475', 'CIW80_24250', 'CIW80_23070', 'CIW80_10535', 'CIW80_03530', 'CIW80_03885', 'CIW80_25320', 'CIW80_18100', 'CIW80_17130', 'CIW80_01885', 'CIW80_17170', 'CIW80_02730', 'CIW80_03545', 'CIW80_06290', 'CIW80_11810', 'CIW80_02865', 'CIW80_18110', 'CIW80_03890', 'CIW80_06155', 'CIW80_04265', 'CIW80_21440', 'CIW80_17200', 'CIW80_08270', 'CIW80_21800', 'CIW80_04580', 'CIW80_03000', 'CIW80_24255', 'CIW80_15640', 'CIW80_18055', 'CIW80_04605', 'CIW80_01980', 'CIW80_04495', 'CIW80_19640', 'CIW80_20900', 'CIW80_06815', 'CIW80_15105', 'CIW80_22060', 'CIW80_15550', 'CIW80_14500', 'CIW80_08780', 'CIW80_15250', 'CIW80_17260', 'CIW80_18340', 'CIW80_11790', 'CIW80_06900', 'CIW80_00655', 'CIW80_17150', 'CIW80_19945', 'CIW80_04595', 'CIW80_21340', 'CIW80_08595', 'CIW80_15080', 'CIW80_24980', 'CIW80_22275', 'CIW80_22385', 'CIW80_14305', 'CIW80_14605', 'CIW80_15285', 'CIW80_00585', 'CIW80_17615', 'CIW80_01985', 'CIW80_21510', 'CIW80_20450', 'CIW80_08320', 'CIW80_02725', 'CIW80_25185', 'CIW80_20475', 'CIW80_09220', 'CIW80_15600', 'CIW80_01120', 'CIW80_24160', 'CIW80_06200', 'CIW80_00855', 'CIW80_12220', 'CIW80_16955', 'CIW80_08565', 'CIW80_19575', 'CIW80_19605', 'CIW80_06660', 'CIW80_00810', 'CIW80_16735', 'CIW80_20290', 'CIW80_00155', 'CIW80_19450', 'CIW80_13375', 'CIW80_12125', 'CIW80_21155', 'CIW80_19690', 'CIW80_09430', 'CIW80_12395', 'CIW80_24715', 'CIW80_03815', 'CIW80_01480', 'CIW80_25600', 'CIW80_12455', 'CIW80_25685', 'CIW80_12425', 'CIW80_19535', 'CIW80_06625', 'CIW80_24705', 'CIW80_14550', 'CIW80_06440', 'CIW80_09860', 'CIW80_17105', 'CIW80_11290', 'CIW80_09780', 'CIW80_22430', 'CIW80_20540', 'CIW80_16905', 'CIW80_22890', 'CIW80_20905', 'CIW80_22985', 'CIW80_04245', 'CIW80_12295', 'CIW80_11555', 'CIW80_12720', 'CIW80_15920', 'CIW80_11880', 'CIW80_00515', 'CIW80_24825', 'CIW80_04345', 'CIW80_18255', 'CIW80_09820', 'CIW80_17345', 'CIW80_25765', 'CIW80_02195', 'CIW80_08625', 'CIW80_12310', 'CIW80_00185', 'CIW80_15835', 'CIW80_15985', 'CIW80_18315', 'CIW80_20745', 'CIW80_20845', 'CIW80_20800', 'CIW80_14935', 'CIW80_22090', 'CIW80_19650', 'CIW80_01720', 'CIW80_17245', 'CIW80_18235', 'CIW80_20805', 'CIW80_17135', 'CIW80_04560', 'CIW80_00800', 'CIW80_09845', 'CIW80_11320', 'CIW80_24565', 'CIW80_22155', 'CIW80_10705', 'CIW80_23845', 'CIW80_25030', 'CIW80_21120', 'CIW80_05380', 'CIW80_02035', 'CIW80_07105', 'CIW80_00680', 'CIW80_01730', 'CIW80_03535', 'CIW80_01390', 'CIW80_19785', 'CIW80_17320', 'CIW80_24750', 'CIW80_20300', 'CIW80_03340', 'CIW80_06770', 'CIW80_10960', 'CIW80_00160', 'CIW80_00720', 'CIW80_00020', 'CIW80_14320', 'CIW80_12920', 'CIW80_02010', 'CIW80_10825', 'CIW80_12080', 'CIW80_22775', 'CIW80_09390', 'CIW80_10605', 'CIW80_04900', 'CIW80_03540', 'CIW80_00670', 'CIW80_15255', 'CIW80_21575', 'CIW80_15740', 'CIW80_15970', 'CIW80_05655'}\n"
     ]
    },
    {
     "name": "stdout",
     "output_type": "stream",
     "text": [
      "CU928162 {'CIW80_22445', 'CIW80_06330', 'CIW80_08295', 'CIW80_15510', 'CIW80_15855', 'CIW80_04745', 'CIW80_11570', 'CIW80_10280', 'CIW80_09630', 'CIW80_05030', 'CIW80_09805', 'CIW80_04425', 'CIW80_01880', 'CIW80_04490', 'CIW80_25340', 'CIW80_12160', 'CIW80_01570', 'CIW80_12380', 'CIW80_02890', 'CIW80_23630', 'CIW80_24325', 'CIW80_05650', 'CIW80_13175', 'CIW80_16405', 'CIW80_12135', 'CIW80_13695', 'CIW80_08720', 'CIW80_13245', 'CIW80_00385', 'CIW80_22470', 'CIW80_10845', 'CIW80_23170', 'CIW80_02595', 'CIW80_15595', 'CIW80_10730', 'CIW80_16470', 'CIW80_15525', 'CIW80_25220', 'CIW80_22910', 'CIW80_08855', 'CIW80_25710', 'CIW80_12375', 'CIW80_05590', 'CIW80_18910', 'CIW80_17670', 'CIW80_25400', 'CIW80_12320', 'CIW80_21645', 'CIW80_11010', 'CIW80_18415', 'CIW80_06025', 'CIW80_16060', 'CIW80_20075', 'CIW80_17750', 'CIW80_00210', 'CIW80_04210', 'CIW80_09230', 'CIW80_08165', 'CIW80_15195', 'CIW80_08180', 'CIW80_14460', 'CIW80_20505', 'CIW80_14885', 'CIW80_13915', 'CIW80_10530', 'CIW80_10590', 'CIW80_21745', 'CIW80_15895', 'CIW80_21580', 'CIW80_13215', 'CIW80_24665', 'CIW80_03775', 'CIW80_15310', 'CIW80_17415', 'CIW80_00055', 'CIW80_09920', 'CIW80_24530', 'CIW80_11180', 'CIW80_24500', 'CIW80_01145', 'CIW80_08155', 'CIW80_23045', 'CIW80_19710', 'CIW80_25650', 'CIW80_16830', 'CIW80_19590', 'CIW80_19335', 'CIW80_00830', 'CIW80_01115', 'CIW80_06145', 'CIW80_00570', 'CIW80_08850', 'CIW80_24520', 'CIW80_08365', 'CIW80_21060', 'CIW80_03040', 'CIW80_18605', 'CIW80_10135', 'CIW80_24875', 'CIW80_09875', 'CIW80_19580', 'CIW80_01150', 'CIW80_18005', 'CIW80_12390', 'CIW80_12050', 'CIW80_00205', 'CIW80_19990', 'CIW80_12385', 'CIW80_14985', 'CIW80_12435', 'CIW80_19600', 'CIW80_16850', 'CIW80_20555', 'CIW80_24700', 'CIW80_18570', 'CIW80_00255', 'CIW80_07305', 'CIW80_07750', 'CIW80_23040', 'CIW80_08955', 'CIW80_04675', 'CIW80_22085', 'CIW80_14930', 'CIW80_12235', 'CIW80_00295', 'CIW80_06595', 'CIW80_00230', 'CIW80_17755', 'CIW80_24420', 'CIW80_20060', 'CIW80_21165', 'CIW80_14845', 'CIW80_24330', 'CIW80_06175', 'CIW80_05905', 'CIW80_08290', 'CIW80_13220', 'CIW80_08755', 'CIW80_24385', 'CIW80_16915', 'CIW80_22055', 'CIW80_16130', 'CIW80_01090', 'CIW80_05025', 'CIW80_17835', 'CIW80_25310', 'CIW80_00395', 'CIW80_03810', 'CIW80_03550', 'CIW80_03995', 'CIW80_08045', 'CIW80_13895', 'CIW80_01455', 'CIW80_16855', 'CIW80_00540', 'CIW80_23445', 'CIW80_16345', 'CIW80_03050', 'CIW80_19390', 'CIW80_04760', 'CIW80_18220', 'CIW80_11590', 'CIW80_14290', 'CIW80_24735', 'CIW80_07045', 'CIW80_08810', 'CIW80_08860', 'CIW80_15975', 'CIW80_08710', 'CIW80_15700', 'CIW80_14490', 'CIW80_21480', 'CIW80_16795', 'CIW80_00965', 'CIW80_16810', 'CIW80_01015', 'CIW80_02710', 'CIW80_15545', 'CIW80_06335', 'CIW80_00430', 'CIW80_04485', 'CIW80_11215', 'CIW80_04575', 'CIW80_02265', 'CIW80_11125', 'CIW80_01625', 'CIW80_12770', 'CIW80_07475', 'CIW80_23185', 'CIW80_23070', 'CIW80_10535', 'CIW80_02915', 'CIW80_25320', 'CIW80_18100', 'CIW80_20940', 'CIW80_01885', 'CIW80_17170', 'CIW80_02730', 'CIW80_03545', 'CIW80_06290', 'CIW80_06325', 'CIW80_11810', 'CIW80_02865', 'CIW80_18110', 'CIW80_04655', 'CIW80_03890', 'CIW80_04810', 'CIW80_06155', 'CIW80_21440', 'CIW80_06940', 'CIW80_17200', 'CIW80_08270', 'CIW80_21800', 'CIW80_08715', 'CIW80_15640', 'CIW80_18055', 'CIW80_04605', 'CIW80_01980', 'CIW80_04495', 'CIW80_20900', 'CIW80_06815', 'CIW80_15105', 'CIW80_24435', 'CIW80_22060', 'CIW80_08910', 'CIW80_00665', 'CIW80_15550', 'CIW80_24035', 'CIW80_08780', 'CIW80_23900', 'CIW80_16865', 'CIW80_15250', 'CIW80_17260', 'CIW80_20565', 'CIW80_18340', 'CIW80_11790', 'CIW80_15330', 'CIW80_06900', 'CIW80_00655', 'CIW80_19945', 'CIW80_04595', 'CIW80_21340', 'CIW80_08595', 'CIW80_15080', 'CIW80_24980', 'CIW80_03505', 'CIW80_22275', 'CIW80_22385', 'CIW80_14305', 'CIW80_18890', 'CIW80_14605', 'CIW80_00585', 'CIW80_17615', 'CIW80_16965', 'CIW80_03660', 'CIW80_01985', 'CIW80_21510', 'CIW80_20450', 'CIW80_08320', 'CIW80_08965', 'CIW80_20475', 'CIW80_12505', 'CIW80_09220', 'CIW80_15600', 'CIW80_01120', 'CIW80_24160', 'CIW80_06200', 'CIW80_00855', 'CIW80_15265', 'CIW80_24675', 'CIW80_21630', 'CIW80_12220', 'CIW80_08565', 'CIW80_19575', 'CIW80_16360', 'CIW80_19605', 'CIW80_06660', 'CIW80_00810', 'CIW80_16735', 'CIW80_20290', 'CIW80_13145', 'CIW80_00155', 'CIW80_13375', 'CIW80_21155', 'CIW80_19690', 'CIW80_23805', 'CIW80_24715', 'CIW80_12455', 'CIW80_12425', 'CIW80_06625', 'CIW80_23700', 'CIW80_24705', 'CIW80_14550', 'CIW80_24525', 'CIW80_06440', 'CIW80_09860', 'CIW80_12155', 'CIW80_11290', 'CIW80_06320', 'CIW80_09780', 'CIW80_22430', 'CIW80_02920', 'CIW80_02640', 'CIW80_22890', 'CIW80_23130', 'CIW80_20905', 'CIW80_04895', 'CIW80_12295', 'CIW80_11555', 'CIW80_00190', 'CIW80_12720', 'CIW80_15920', 'CIW80_11880', 'CIW80_19540', 'CIW80_00515', 'CIW80_00035', 'CIW80_24825', 'CIW80_04345', 'CIW80_01685', 'CIW80_18255', 'CIW80_09820', 'CIW80_08625', 'CIW80_19120', 'CIW80_12310', 'CIW80_00185', 'CIW80_15835', 'CIW80_19890', 'CIW80_19090', 'CIW80_18315', 'CIW80_20745', 'CIW80_01485', 'CIW80_20845', 'CIW80_02885', 'CIW80_14935', 'CIW80_17240', 'CIW80_22090', 'CIW80_04875', 'CIW80_17245', 'CIW80_20805', 'CIW80_00800', 'CIW80_09845', 'CIW80_02230', 'CIW80_25705', 'CIW80_24710', 'CIW80_10705', 'CIW80_21120', 'CIW80_03635', 'CIW80_05380', 'CIW80_02035', 'CIW80_22915', 'CIW80_00680', 'CIW80_23800', 'CIW80_01390', 'CIW80_19585', 'CIW80_24750', 'CIW80_09015', 'CIW80_22705', 'CIW80_14450', 'CIW80_06770', 'CIW80_00160', 'CIW80_00720', 'CIW80_03185', 'CIW80_14320', 'CIW80_12920', 'CIW80_02010', 'CIW80_10825', 'CIW80_25475', 'CIW80_12080', 'CIW80_22775', 'CIW80_10605', 'CIW80_04900', 'CIW80_03540', 'CIW80_00670', 'CIW80_15255', 'CIW80_21575', 'CIW80_15740'}\n",
      "CP000802 {'CIW80_22445', 'CIW80_06330', 'CIW80_08295', 'CIW80_15510', 'CIW80_15855', 'CIW80_04745', 'CIW80_11570', 'CIW80_11350', 'CIW80_10280', 'CIW80_09630', 'CIW80_05030', 'CIW80_06735', 'CIW80_09805', 'CIW80_04490', 'CIW80_15380', 'CIW80_25340', 'CIW80_01570', 'CIW80_12380', 'CIW80_23740', 'CIW80_05650', 'CIW80_13175', 'CIW80_16405', 'CIW80_12135', 'CIW80_21115', 'CIW80_21180', 'CIW80_13695', 'CIW80_19755', 'CIW80_22470', 'CIW80_10845', 'CIW80_23170', 'CIW80_02595', 'CIW80_15595', 'CIW80_08460', 'CIW80_10730', 'CIW80_16470', 'CIW80_15525', 'CIW80_25220', 'CIW80_06765', 'CIW80_04685', 'CIW80_22910', 'CIW80_25400', 'CIW80_12320', 'CIW80_18415', 'CIW80_13630', 'CIW80_06025', 'CIW80_01950', 'CIW80_00550', 'CIW80_12115', 'CIW80_20075', 'CIW80_00210', 'CIW80_01340', 'CIW80_04210', 'CIW80_22515', 'CIW80_08165', 'CIW80_16900', 'CIW80_22920', 'CIW80_10420', 'CIW80_12930', 'CIW80_16880', 'CIW80_08180', 'CIW80_20505', 'CIW80_22830', 'CIW80_09400', 'CIW80_10530', 'CIW80_10590', 'CIW80_21745', 'CIW80_21785', 'CIW80_18250', 'CIW80_15895', 'CIW80_21580', 'CIW80_13215', 'CIW80_24665', 'CIW80_05835', 'CIW80_15310', 'CIW80_17415', 'CIW80_00055', 'CIW80_16685', 'CIW80_24635', 'CIW80_08155', 'CIW80_19710', 'CIW80_25650', 'CIW80_24640', 'CIW80_23385', 'CIW80_00065', 'CIW80_21270', 'CIW80_19335', 'CIW80_00830', 'CIW80_01115', 'CIW80_06145', 'CIW80_03310', 'CIW80_08365', 'CIW80_09745', 'CIW80_21060', 'CIW80_17275', 'CIW80_25335', 'CIW80_18605', 'CIW80_10135', 'CIW80_09875', 'CIW80_19565', 'CIW80_01150', 'CIW80_18005', 'CIW80_12390', 'CIW80_01555', 'CIW80_14985', 'CIW80_12435', 'CIW80_19600', 'CIW80_16850', 'CIW80_20555', 'CIW80_19695', 'CIW80_18570', 'CIW80_07305', 'CIW80_00620', 'CIW80_07750', 'CIW80_02720', 'CIW80_16945', 'CIW80_24685', 'CIW80_23040', 'CIW80_08955', 'CIW80_04675', 'CIW80_22085', 'CIW80_14930', 'CIW80_12235', 'CIW80_06595', 'CIW80_17755', 'CIW80_20060', 'CIW80_21165', 'CIW80_14845', 'CIW80_06175', 'CIW80_00465', 'CIW80_08290', 'CIW80_23095', 'CIW80_05765', 'CIW80_07550', 'CIW80_10430', 'CIW80_04105', 'CIW80_22055', 'CIW80_16130', 'CIW80_01090', 'CIW80_21675', 'CIW80_05025', 'CIW80_04420', 'CIW80_17835', 'CIW80_25310', 'CIW80_03650', 'CIW80_00395', 'CIW80_23850', 'CIW80_24770', 'CIW80_13755', 'CIW80_19105', 'CIW80_20775', 'CIW80_04350', 'CIW80_08045', 'CIW80_13895', 'CIW80_01455', 'CIW80_14340', 'CIW80_16855', 'CIW80_03315', 'CIW80_20070', 'CIW80_00540', 'CIW80_03050', 'CIW80_10725', 'CIW80_04760', 'CIW80_11590', 'CIW80_08950', 'CIW80_04510', 'CIW80_24735', 'CIW80_07045', 'CIW80_15975', 'CIW80_14490', 'CIW80_18920', 'CIW80_00965', 'CIW80_01015', 'CIW80_02710', 'CIW80_15545', 'CIW80_06335', 'CIW80_13870', 'CIW80_00430', 'CIW80_23355', 'CIW80_04485', 'CIW80_11215', 'CIW80_04575', 'CIW80_03645', 'CIW80_11125', 'CIW80_01625', 'CIW80_24250', 'CIW80_07475', 'CIW80_23070', 'CIW80_10535', 'CIW80_02820', 'CIW80_05405', 'CIW80_02915', 'CIW80_24195', 'CIW80_25320', 'CIW80_18100', 'CIW80_00605', 'CIW80_01885', 'CIW80_17170', 'CIW80_02730', 'CIW80_13460', 'CIW80_06290', 'CIW80_11810', 'CIW80_16875', 'CIW80_02865', 'CIW80_15945', 'CIW80_18110', 'CIW80_03890', 'CIW80_06155', 'CIW80_03495', 'CIW80_04265', 'CIW80_21440', 'CIW80_06940', 'CIW80_17200', 'CIW80_08270', 'CIW80_21800', 'CIW80_04580', 'CIW80_03000', 'CIW80_09085', 'CIW80_15640', 'CIW80_18055', 'CIW80_04605', 'CIW80_01980', 'CIW80_04495', 'CIW80_20900', 'CIW80_06815', 'CIW80_15105', 'CIW80_09045', 'CIW80_16885', 'CIW80_24435', 'CIW80_22060', 'CIW80_14500', 'CIW80_24035', 'CIW80_01775', 'CIW80_16865', 'CIW80_15250', 'CIW80_10865', 'CIW80_08210', 'CIW80_19660', 'CIW80_18340', 'CIW80_11790', 'CIW80_06900', 'CIW80_17150', 'CIW80_21340', 'CIW80_17580', 'CIW80_08595', 'CIW80_15080', 'CIW80_24980', 'CIW80_22275', 'CIW80_23730', 'CIW80_22385', 'CIW80_14305', 'CIW80_14605', 'CIW80_00585', 'CIW80_17615', 'CIW80_04125', 'CIW80_01985', 'CIW80_18470', 'CIW80_21510', 'CIW80_20450', 'CIW80_08320', 'CIW80_25185', 'CIW80_06510', 'CIW80_08965', 'CIW80_20475', 'CIW80_09220', 'CIW80_15600', 'CIW80_01120', 'CIW80_24160', 'CIW80_01210', 'CIW80_06200', 'CIW80_08465', 'CIW80_22580', 'CIW80_00855', 'CIW80_00610', 'CIW80_12220', 'CIW80_08565', 'CIW80_19575', 'CIW80_19605', 'CIW80_06660', 'CIW80_00810', 'CIW80_06315', 'CIW80_15490', 'CIW80_13375', 'CIW80_12125', 'CIW80_19690', 'CIW80_09430', 'CIW80_24715', 'CIW80_04985', 'CIW80_01480', 'CIW80_25600', 'CIW80_12455', 'CIW80_25685', 'CIW80_12425', 'CIW80_06625', 'CIW80_24705', 'CIW80_14550', 'CIW80_06440', 'CIW80_09860', 'CIW80_03615', 'CIW80_21265', 'CIW80_11290', 'CIW80_02995', 'CIW80_22430', 'CIW80_02920', 'CIW80_20540', 'CIW80_20905', 'CIW80_04215', 'CIW80_22985', 'CIW80_12295', 'CIW80_11555', 'CIW80_19075', 'CIW80_12720', 'CIW80_15920', 'CIW80_24390', 'CIW80_00515', 'CIW80_24825', 'CIW80_04345', 'CIW80_08575', 'CIW80_18255', 'CIW80_09820', 'CIW80_17345', 'CIW80_25765', 'CIW80_08625', 'CIW80_19120', 'CIW80_12310', 'CIW80_17700', 'CIW80_00185', 'CIW80_15835', 'CIW80_05195', 'CIW80_19090', 'CIW80_15985', 'CIW80_18315', 'CIW80_20745', 'CIW80_03585', 'CIW80_20845', 'CIW80_01485', 'CIW80_20800', 'CIW80_14935', 'CIW80_01720', 'CIW80_03800', 'CIW80_17245', 'CIW80_02150', 'CIW80_09715', 'CIW80_04560', 'CIW80_00800', 'CIW80_22190', 'CIW80_06730', 'CIW80_09845', 'CIW80_11320', 'CIW80_19825', 'CIW80_24710', 'CIW80_10705', 'CIW80_15750', 'CIW80_21120', 'CIW80_05380', 'CIW80_03305', 'CIW80_02035', 'CIW80_00680', 'CIW80_01730', 'CIW80_23800', 'CIW80_19730', 'CIW80_19585', 'CIW80_11470', 'CIW80_17320', 'CIW80_00695', 'CIW80_24750', 'CIW80_03340', 'CIW80_06770', 'CIW80_00160', 'CIW80_00720', 'CIW80_12920', 'CIW80_02010', 'CIW80_10825', 'CIW80_12080', 'CIW80_22775', 'CIW80_09390', 'CIW80_10605', 'CIW80_04900', 'CIW80_03540', 'CIW80_00670', 'CIW80_15255', 'CIW80_21575', 'CIW80_05655'}\n",
      "CU928160 {'CIW80_12425', 'CIW80_22445', 'CIW80_03530', 'CIW80_19535', 'CIW80_21060', 'CIW80_06625', 'CIW80_06330', 'CIW80_24705', 'CIW80_12110', 'CIW80_25320', 'CIW80_18100', 'CIW80_14550', 'CIW80_08295', 'CIW80_15510', 'CIW80_15855', 'CIW80_04745', 'CIW80_11570', 'CIW80_03040', 'CIW80_01885', 'CIW80_06440', 'CIW80_16065', 'CIW80_02730', 'CIW80_09860', 'CIW80_10280', 'CIW80_09630', 'CIW80_24410', 'CIW80_05030', 'CIW80_10135', 'CIW80_09805', 'CIW80_06290', 'CIW80_01880', 'CIW80_04490', 'CIW80_09875', 'CIW80_06325', 'CIW80_19580', 'CIW80_11810', 'CIW80_01570', 'CIW80_11290', 'CIW80_12380', 'CIW80_18005', 'CIW80_12390', 'CIW80_01150', 'CIW80_06320', 'CIW80_09780', 'CIW80_02920', 'CIW80_00205', 'CIW80_20540', 'CIW80_02865', 'CIW80_14985', 'CIW80_18110', 'CIW80_12435', 'CIW80_22890', 'CIW80_19600', 'CIW80_03890', 'CIW80_05650', 'CIW80_13175', 'CIW80_20905', 'CIW80_16405', 'CIW80_20555', 'CIW80_12135', 'CIW80_06155', 'CIW80_04265', 'CIW80_21440', 'CIW80_24700', 'CIW80_06940', 'CIW80_08270', 'CIW80_17200', 'CIW80_13695', 'CIW80_19755', 'CIW80_11555', 'CIW80_18570', 'CIW80_21800', 'CIW80_00385', 'CIW80_15640', 'CIW80_22470', 'CIW80_07305', 'CIW80_10845', 'CIW80_07750', 'CIW80_04495', 'CIW80_04605', 'CIW80_01980', 'CIW80_12720', 'CIW80_23170', 'CIW80_15920', 'CIW80_20900', 'CIW80_06815', 'CIW80_02595', 'CIW80_15105', 'CIW80_11880', 'CIW80_15595', 'CIW80_23040', 'CIW80_19540', 'CIW80_22085', 'CIW80_14930', 'CIW80_24825', 'CIW80_10730', 'CIW80_16470', 'CIW80_12235', 'CIW80_22060', 'CIW80_02835', 'CIW80_15525', 'CIW80_06595', 'CIW80_15550', 'CIW80_17755', 'CIW80_14500', 'CIW80_04345', 'CIW80_25220', 'CIW80_24035', 'CIW80_18255', 'CIW80_09820', 'CIW80_24670', 'CIW80_19975', 'CIW80_17345', 'CIW80_12310', 'CIW80_20060', 'CIW80_15250', 'CIW80_00185', 'CIW80_21165', 'CIW80_15835', 'CIW80_14845', 'CIW80_06175', 'CIW80_08290', 'CIW80_20745', 'CIW80_17260', 'CIW80_01485', 'CIW80_20845', 'CIW80_02830', 'CIW80_03045', 'CIW80_20800', 'CIW80_14935', 'CIW80_18340', 'CIW80_22090', 'CIW80_17670', 'CIW80_19650', 'CIW80_25400', 'CIW80_07240', 'CIW80_12320', 'CIW80_21645', 'CIW80_11790', 'CIW80_22055', 'CIW80_18415', 'CIW80_11010', 'CIW80_17245', 'CIW80_16130', 'CIW80_06900', 'CIW80_00655', 'CIW80_06025', 'CIW80_05025', 'CIW80_19945', 'CIW80_21340', 'CIW80_17835', 'CIW80_00800', 'CIW80_08595', 'CIW80_09845', 'CIW80_00395', 'CIW80_00550', 'CIW80_15080', 'CIW80_24565', 'CIW80_24980', 'CIW80_22275', 'CIW80_22385', 'CIW80_14305', 'CIW80_00210', 'CIW80_13755', 'CIW80_04210', 'CIW80_14605', 'CIW80_10705', 'CIW80_08045', 'CIW80_08165', 'CIW80_13895', 'CIW80_00585', 'CIW80_01455', 'CIW80_17615', 'CIW80_21120', 'CIW80_12930', 'CIW80_00540', 'CIW80_01985', 'CIW80_05380', 'CIW80_02035', 'CIW80_21510', 'CIW80_08180', 'CIW80_20505', 'CIW80_03050', 'CIW80_08320', 'CIW80_20450', 'CIW80_10725', 'CIW80_22915', 'CIW80_24370', 'CIW80_00680', 'CIW80_20475', 'CIW80_12505', 'CIW80_09220', 'CIW80_15600', 'CIW80_04760', 'CIW80_01120', 'CIW80_24160', 'CIW80_18220', 'CIW80_11590', 'CIW80_10530', 'CIW80_06200', 'CIW80_23800', 'CIW80_14290', 'CIW80_10590', 'CIW80_00855', 'CIW80_15265', 'CIW80_19785', 'CIW80_21745', 'CIW80_21785', 'CIW80_24735', 'CIW80_15895', 'CIW80_21580', 'CIW80_13215', 'CIW80_24665', 'CIW80_07045', 'CIW80_19585', 'CIW80_15310', 'CIW80_12220', 'CIW80_00055', 'CIW80_09920', 'CIW80_24750', 'CIW80_08565', 'CIW80_15975', 'CIW80_19575', 'CIW80_19605', 'CIW80_06660', 'CIW80_14490', 'CIW80_00810', 'CIW80_14450', 'CIW80_06770', 'CIW80_20290', 'CIW80_01145', 'CIW80_08155', 'CIW80_00965', 'CIW80_21480', 'CIW80_25650', 'CIW80_00160', 'CIW80_00720', 'CIW80_19590', 'CIW80_01015', 'CIW80_02710', 'CIW80_00155', 'CIW80_14320', 'CIW80_12920', 'CIW80_10825', 'CIW80_15545', 'CIW80_06335', 'CIW80_21270', 'CIW80_13375', 'CIW80_12125', 'CIW80_12080', 'CIW80_13870', 'CIW80_21155', 'CIW80_22775', 'CIW80_19690', 'CIW80_00430', 'CIW80_10605', 'CIW80_04485', 'CIW80_00830', 'CIW80_11215', 'CIW80_01115', 'CIW80_04575', 'CIW80_23805', 'CIW80_24715', 'CIW80_06145', 'CIW80_01625', 'CIW80_12770', 'CIW80_07475', 'CIW80_00670', 'CIW80_15255', 'CIW80_21575', 'CIW80_23070', 'CIW80_01480', 'CIW80_05655', 'CIW80_10535', 'CIW80_12455', 'CIW80_08365'}\n",
      "CP002516 {'CIW80_22445', 'CIW80_06330', 'CIW80_08295', 'CIW80_15510', 'CIW80_15855', 'CIW80_04745', 'CIW80_11570', 'CIW80_10280', 'CIW80_09630', 'CIW80_05030', 'CIW80_06735', 'CIW80_09805', 'CIW80_19530', 'CIW80_01880', 'CIW80_04490', 'CIW80_25340', 'CIW80_01570', 'CIW80_02890', 'CIW80_05650', 'CIW80_13175', 'CIW80_16405', 'CIW80_12135', 'CIW80_13695', 'CIW80_19755', 'CIW80_22470', 'CIW80_10845', 'CIW80_23170', 'CIW80_02595', 'CIW80_15595', 'CIW80_08460', 'CIW80_10730', 'CIW80_16470', 'CIW80_02835', 'CIW80_15525', 'CIW80_25220', 'CIW80_24670', 'CIW80_19975', 'CIW80_22910', 'CIW80_02830', 'CIW80_11525', 'CIW80_17670', 'CIW80_25400', 'CIW80_12320', 'CIW80_18415', 'CIW80_06025', 'CIW80_00550', 'CIW80_20075', 'CIW80_00210', 'CIW80_04210', 'CIW80_10710', 'CIW80_09230', 'CIW80_11595', 'CIW80_08180', 'CIW80_20505', 'CIW80_10530', 'CIW80_10590', 'CIW80_21745', 'CIW80_21785', 'CIW80_01355', 'CIW80_15895', 'CIW80_21580', 'CIW80_13215', 'CIW80_24665', 'CIW80_17415', 'CIW80_00055', 'CIW80_09920', 'CIW80_01145', 'CIW80_08155', 'CIW80_23045', 'CIW80_25650', 'CIW80_07745', 'CIW80_00065', 'CIW80_21270', 'CIW80_01115', 'CIW80_06145', 'CIW80_03310', 'CIW80_08365', 'CIW80_09745', 'CIW80_21060', 'CIW80_17275', 'CIW80_03040', 'CIW80_18605', 'CIW80_10135', 'CIW80_09875', 'CIW80_19580', 'CIW80_18005', 'CIW80_13240', 'CIW80_00205', 'CIW80_19990', 'CIW80_14985', 'CIW80_12435', 'CIW80_19600', 'CIW80_20555', 'CIW80_19695', 'CIW80_18570', 'CIW80_07305', 'CIW80_07750', 'CIW80_18080', 'CIW80_10850', 'CIW80_23040', 'CIW80_04675', 'CIW80_22085', 'CIW80_14930', 'CIW80_06595', 'CIW80_17755', 'CIW80_24420', 'CIW80_20060', 'CIW80_21165', 'CIW80_14845', 'CIW80_06175', 'CIW80_06630', 'CIW80_07805', 'CIW80_08290', 'CIW80_22055', 'CIW80_16295', 'CIW80_16130', 'CIW80_01090', 'CIW80_05025', 'CIW80_17835', 'CIW80_25310', 'CIW80_14185', 'CIW80_00395', 'CIW80_23850', 'CIW80_24770', 'CIW80_13755', 'CIW80_03995', 'CIW80_08045', 'CIW80_13895', 'CIW80_01455', 'CIW80_14340', 'CIW80_03315', 'CIW80_00540', 'CIW80_03050', 'CIW80_10725', 'CIW80_04760', 'CIW80_11590', 'CIW80_24735', 'CIW80_07045', 'CIW80_15975', 'CIW80_14490', 'CIW80_21480', 'CIW80_00965', 'CIW80_02710', 'CIW80_15545', 'CIW80_06335', 'CIW80_13870', 'CIW80_00430', 'CIW80_04485', 'CIW80_11215', 'CIW80_04575', 'CIW80_01625', 'CIW80_12770', 'CIW80_07475', 'CIW80_24250', 'CIW80_23070', 'CIW80_11625', 'CIW80_10535', 'CIW80_14635', 'CIW80_02915', 'CIW80_03885', 'CIW80_12110', 'CIW80_25320', 'CIW80_01885', 'CIW80_17170', 'CIW80_02730', 'CIW80_06290', 'CIW80_11810', 'CIW80_02865', 'CIW80_18110', 'CIW80_03890', 'CIW80_06155', 'CIW80_04265', 'CIW80_21440', 'CIW80_17200', 'CIW80_08270', 'CIW80_21800', 'CIW80_04580', 'CIW80_03000', 'CIW80_15640', 'CIW80_04495', 'CIW80_04605', 'CIW80_20900', 'CIW80_06815', 'CIW80_15105', 'CIW80_24435', 'CIW80_22060', 'CIW80_15550', 'CIW80_14500', 'CIW80_24035', 'CIW80_15250', 'CIW80_17260', 'CIW80_15810', 'CIW80_18340', 'CIW80_11790', 'CIW80_06900', 'CIW80_05300', 'CIW80_17150', 'CIW80_19945', 'CIW80_04595', 'CIW80_21340', 'CIW80_17580', 'CIW80_08595', 'CIW80_24980', 'CIW80_22275', 'CIW80_22385', 'CIW80_14305', 'CIW80_14605', 'CIW80_15285', 'CIW80_00585', 'CIW80_17615', 'CIW80_01985', 'CIW80_21510', 'CIW80_20450', 'CIW80_08320', 'CIW80_02725', 'CIW80_20475', 'CIW80_09220', 'CIW80_15600', 'CIW80_01120', 'CIW80_24160', 'CIW80_02045', 'CIW80_06200', 'CIW80_00855', 'CIW80_15265', 'CIW80_21795', 'CIW80_08565', 'CIW80_19575', 'CIW80_06660', 'CIW80_00810', 'CIW80_20290', 'CIW80_00155', 'CIW80_13375', 'CIW80_12125', 'CIW80_21155', 'CIW80_19690', 'CIW80_23805', 'CIW80_09430', 'CIW80_12395', 'CIW80_24715', 'CIW80_01480', 'CIW80_12455', 'CIW80_12425', 'CIW80_19535', 'CIW80_06625', 'CIW80_24705', 'CIW80_14550', 'CIW80_06440', 'CIW80_09860', 'CIW80_00285', 'CIW80_21265', 'CIW80_11290', 'CIW80_09780', 'CIW80_22430', 'CIW80_02920', 'CIW80_20540', 'CIW80_20905', 'CIW80_04895', 'CIW80_22985', 'CIW80_12295', 'CIW80_24080', 'CIW80_11555', 'CIW80_12720', 'CIW80_15920', 'CIW80_24390', 'CIW80_11880', 'CIW80_00515', 'CIW80_24825', 'CIW80_13070', 'CIW80_04345', 'CIW80_18255', 'CIW80_09820', 'CIW80_17345', 'CIW80_12310', 'CIW80_13700', 'CIW80_00185', 'CIW80_15835', 'CIW80_18315', 'CIW80_20745', 'CIW80_20845', 'CIW80_20800', 'CIW80_14935', 'CIW80_01720', 'CIW80_17245', 'CIW80_04560', 'CIW80_00800', 'CIW80_09845', 'CIW80_11320', 'CIW80_19825', 'CIW80_24565', 'CIW80_03820', 'CIW80_08455', 'CIW80_10705', 'CIW80_23845', 'CIW80_21120', 'CIW80_04480', 'CIW80_03305', 'CIW80_02035', 'CIW80_00680', 'CIW80_01730', 'CIW80_23800', 'CIW80_01390', 'CIW80_19785', 'CIW80_19585', 'CIW80_24750', 'CIW80_20300', 'CIW80_03340', 'CIW80_06770', 'CIW80_00160', 'CIW80_00720', 'CIW80_12920', 'CIW80_02010', 'CIW80_10825', 'CIW80_07605', 'CIW80_12080', 'CIW80_22775', 'CIW80_09390', 'CIW80_10605', 'CIW80_04900', 'CIW80_00670', 'CIW80_15255', 'CIW80_21575', 'CIW80_15740', 'CIW80_05655'}\n",
      "AP009240 {'CIW80_12425', 'CIW80_22445', 'CIW80_03530', 'CIW80_09745', 'CIW80_19535', 'CIW80_21060', 'CIW80_06625', 'CIW80_02915', 'CIW80_06330', 'CIW80_24705', 'CIW80_17275', 'CIW80_09780', 'CIW80_25320', 'CIW80_18100', 'CIW80_14550', 'CIW80_08295', 'CIW80_15510', 'CIW80_15855', 'CIW80_17130', 'CIW80_04745', 'CIW80_11570', 'CIW80_03040', 'CIW80_01885', 'CIW80_17170', 'CIW80_06440', 'CIW80_02730', 'CIW80_18605', 'CIW80_09860', 'CIW80_10280', 'CIW80_09630', 'CIW80_05030', 'CIW80_10135', 'CIW80_06735', 'CIW80_09805', 'CIW80_04425', 'CIW80_01880', 'CIW80_04490', 'CIW80_25340', 'CIW80_09875', 'CIW80_06290', 'CIW80_06325', 'CIW80_19580', 'CIW80_11810', 'CIW80_01570', 'CIW80_22430', 'CIW80_12380', 'CIW80_18005', 'CIW80_12390', 'CIW80_01150', 'CIW80_11290', 'CIW80_06320', 'CIW80_02920', 'CIW80_03490', 'CIW80_00205', 'CIW80_20540', 'CIW80_02865', 'CIW80_24575', 'CIW80_14985', 'CIW80_18110', 'CIW80_12435', 'CIW80_22890', 'CIW80_03890', 'CIW80_05650', 'CIW80_13175', 'CIW80_20905', 'CIW80_16405', 'CIW80_20555', 'CIW80_12135', 'CIW80_06155', 'CIW80_22985', 'CIW80_19695', 'CIW80_04265', 'CIW80_21440', 'CIW80_17200', 'CIW80_08270', 'CIW80_12295', 'CIW80_13695', 'CIW80_19755', 'CIW80_11555', 'CIW80_18570', 'CIW80_04580', 'CIW80_21800', 'CIW80_03000', 'CIW80_15640', 'CIW80_22470', 'CIW80_19765', 'CIW80_07305', 'CIW80_07750', 'CIW80_18055', 'CIW80_04605', 'CIW80_01980', 'CIW80_04495', 'CIW80_23170', 'CIW80_12720', 'CIW80_10850', 'CIW80_20900', 'CIW80_06815', 'CIW80_02595', 'CIW80_15105', 'CIW80_15920', 'CIW80_15595', 'CIW80_23040', 'CIW80_08310', 'CIW80_04675', 'CIW80_22085', 'CIW80_00515', 'CIW80_08460', 'CIW80_14930', 'CIW80_24825', 'CIW80_10730', 'CIW80_16470', 'CIW80_12235', 'CIW80_22060', 'CIW80_02835', 'CIW80_15525', 'CIW80_06595', 'CIW80_17755', 'CIW80_14500', 'CIW80_04345', 'CIW80_25220', 'CIW80_25685', 'CIW80_18255', 'CIW80_24670', 'CIW80_08780', 'CIW80_17345', 'CIW80_04685', 'CIW80_08625', 'CIW80_12310', 'CIW80_22910', 'CIW80_20060', 'CIW80_15250', 'CIW80_00185', 'CIW80_21165', 'CIW80_15835', 'CIW80_14845', 'CIW80_06175', 'CIW80_06630', 'CIW80_15985', 'CIW80_08290', 'CIW80_18315', 'CIW80_20745', 'CIW80_17260', 'CIW80_02830', 'CIW80_20845', 'CIW80_02885', 'CIW80_03045', 'CIW80_20800', 'CIW80_14935', 'CIW80_18340', 'CIW80_25400', 'CIW80_12320', 'CIW80_01720', 'CIW80_21645', 'CIW80_11790', 'CIW80_22055', 'CIW80_18415', 'CIW80_17245', 'CIW80_16130', 'CIW80_06900', 'CIW80_00655', 'CIW80_06025', 'CIW80_05025', 'CIW80_19945', 'CIW80_21340', 'CIW80_25310', 'CIW80_04560', 'CIW80_17835', 'CIW80_08595', 'CIW80_00800', 'CIW80_09845', 'CIW80_00395', 'CIW80_11320', 'CIW80_00550', 'CIW80_23850', 'CIW80_24565', 'CIW80_24980', 'CIW80_22275', 'CIW80_22385', 'CIW80_14305', 'CIW80_20075', 'CIW80_00210', 'CIW80_13755', 'CIW80_04210', 'CIW80_14605', 'CIW80_10705', 'CIW80_03995', 'CIW80_08045', 'CIW80_15285', 'CIW80_08165', 'CIW80_13895', 'CIW80_00585', 'CIW80_01455', 'CIW80_17615', 'CIW80_14340', 'CIW80_21120', 'CIW80_00540', 'CIW80_01985', 'CIW80_00560', 'CIW80_05380', 'CIW80_02035', 'CIW80_21510', 'CIW80_08180', 'CIW80_20505', 'CIW80_03050', 'CIW80_08320', 'CIW80_20450', 'CIW80_02725', 'CIW80_00680', 'CIW80_20475', 'CIW80_09220', 'CIW80_15600', 'CIW80_04760', 'CIW80_01120', 'CIW80_24160', 'CIW80_01730', 'CIW80_11590', 'CIW80_10530', 'CIW80_06200', 'CIW80_16750', 'CIW80_13390', 'CIW80_23800', 'CIW80_10590', 'CIW80_19730', 'CIW80_00855', 'CIW80_19785', 'CIW80_21745', 'CIW80_21785', 'CIW80_15895', 'CIW80_21580', 'CIW80_13215', 'CIW80_24665', 'CIW80_07045', 'CIW80_19585', 'CIW80_15310', 'CIW80_17320', 'CIW80_12220', 'CIW80_17415', 'CIW80_00055', 'CIW80_09920', 'CIW80_24750', 'CIW80_08565', 'CIW80_15975', 'CIW80_19575', 'CIW80_19605', 'CIW80_06660', 'CIW80_14490', 'CIW80_00810', 'CIW80_14450', 'CIW80_03340', 'CIW80_20290', 'CIW80_06770', 'CIW80_08155', 'CIW80_00965', 'CIW80_01145', 'CIW80_21480', 'CIW80_19710', 'CIW80_25650', 'CIW80_00160', 'CIW80_00720', 'CIW80_02710', 'CIW80_00155', 'CIW80_14320', 'CIW80_12920', 'CIW80_02010', 'CIW80_10825', 'CIW80_15545', 'CIW80_00065', 'CIW80_06335', 'CIW80_21270', 'CIW80_13375', 'CIW80_12125', 'CIW80_12080', 'CIW80_13870', 'CIW80_21155', 'CIW80_09390', 'CIW80_19690', 'CIW80_00430', 'CIW80_10605', 'CIW80_04485', 'CIW80_00830', 'CIW80_11215', 'CIW80_01115', 'CIW80_04575', 'CIW80_24715', 'CIW80_06145', 'CIW80_04985', 'CIW80_01625', 'CIW80_12770', 'CIW80_07475', 'CIW80_00670', 'CIW80_15255', 'CIW80_24250', 'CIW80_15740', 'CIW80_01480', 'CIW80_05655', 'CIW80_10535', 'CIW80_12455', 'CIW80_08365'}\n"
     ]
    },
    {
     "name": "stdout",
     "output_type": "stream",
     "text": [
      "AP009378 {'CIW80_03090', 'CIW80_22445', 'CIW80_06330', 'CIW80_08295', 'CIW80_15510', 'CIW80_15855', 'CIW80_04745', 'CIW80_11570', 'CIW80_10280', 'CIW80_09630', 'CIW80_05030', 'CIW80_06735', 'CIW80_09805', 'CIW80_04425', 'CIW80_01880', 'CIW80_04490', 'CIW80_25340', 'CIW80_12160', 'CIW80_01570', 'CIW80_12380', 'CIW80_05650', 'CIW80_16405', 'CIW80_23165', 'CIW80_12135', 'CIW80_13695', 'CIW80_19755', 'CIW80_13245', 'CIW80_22470', 'CIW80_19765', 'CIW80_10845', 'CIW80_23170', 'CIW80_02595', 'CIW80_15595', 'CIW80_08460', 'CIW80_10730', 'CIW80_16470', 'CIW80_15525', 'CIW80_03375', 'CIW80_25220', 'CIW80_24670', 'CIW80_23750', 'CIW80_22910', 'CIW80_25710', 'CIW80_11525', 'CIW80_18910', 'CIW80_18425', 'CIW80_25400', 'CIW80_07240', 'CIW80_12320', 'CIW80_21645', 'CIW80_18415', 'CIW80_03670', 'CIW80_06025', 'CIW80_00550', 'CIW80_12115', 'CIW80_20075', 'CIW80_00210', 'CIW80_04210', 'CIW80_09230', 'CIW80_08165', 'CIW80_15195', 'CIW80_19045', 'CIW80_08180', 'CIW80_14460', 'CIW80_20505', 'CIW80_13915', 'CIW80_17020', 'CIW80_18290', 'CIW80_10530', 'CIW80_10590', 'CIW80_21745', 'CIW80_21785', 'CIW80_01355', 'CIW80_15895', 'CIW80_21580', 'CIW80_13215', 'CIW80_24665', 'CIW80_03775', 'CIW80_15310', 'CIW80_17415', 'CIW80_00055', 'CIW80_01145', 'CIW80_08155', 'CIW80_23045', 'CIW80_19710', 'CIW80_25650', 'CIW80_16830', 'CIW80_00065', 'CIW80_21270', 'CIW80_19335', 'CIW80_01115', 'CIW80_06145', 'CIW80_08365', 'CIW80_09745', 'CIW80_21060', 'CIW80_17275', 'CIW80_03040', 'CIW80_18605', 'CIW80_10135', 'CIW80_24875', 'CIW80_09875', 'CIW80_04365', 'CIW80_01150', 'CIW80_12390', 'CIW80_12050', 'CIW80_00205', 'CIW80_14985', 'CIW80_12435', 'CIW80_19600', 'CIW80_16850', 'CIW80_20555', 'CIW80_19695', 'CIW80_18570', 'CIW80_07305', 'CIW80_07750', 'CIW80_10850', 'CIW80_04675', 'CIW80_22085', 'CIW80_14930', 'CIW80_19525', 'CIW80_12235', 'CIW80_06595', 'CIW80_17755', 'CIW80_20060', 'CIW80_21165', 'CIW80_14845', 'CIW80_06175', 'CIW80_06630', 'CIW80_07805', 'CIW80_08290', 'CIW80_13220', 'CIW80_16915', 'CIW80_22055', 'CIW80_16130', 'CIW80_20795', 'CIW80_05025', 'CIW80_17835', 'CIW80_25310', 'CIW80_03650', 'CIW80_00395', 'CIW80_23850', 'CIW80_13755', 'CIW80_08045', 'CIW80_19735', 'CIW80_13895', 'CIW80_01455', 'CIW80_14340', 'CIW80_00540', 'CIW80_16345', 'CIW80_03050', 'CIW80_04760', 'CIW80_11590', 'CIW80_13390', 'CIW80_08950', 'CIW80_24735', 'CIW80_07045', 'CIW80_15975', 'CIW80_08710', 'CIW80_14490', 'CIW80_21480', 'CIW80_00965', 'CIW80_16810', 'CIW80_02710', 'CIW80_15545', 'CIW80_06335', 'CIW80_00430', 'CIW80_04485', 'CIW80_11215', 'CIW80_04575', 'CIW80_03645', 'CIW80_11125', 'CIW80_01625', 'CIW80_12770', 'CIW80_07475', 'CIW80_24250', 'CIW80_23070', 'CIW80_10535', 'CIW80_03530', 'CIW80_02915', 'CIW80_12110', 'CIW80_25320', 'CIW80_17130', 'CIW80_01885', 'CIW80_17170', 'CIW80_02730', 'CIW80_03545', 'CIW80_24410', 'CIW80_23525', 'CIW80_06290', 'CIW80_06325', 'CIW80_16875', 'CIW80_02865', 'CIW80_18110', 'CIW80_03705', 'CIW80_04655', 'CIW80_03890', 'CIW80_06155', 'CIW80_04265', 'CIW80_21440', 'CIW80_06940', 'CIW80_17200', 'CIW80_08270', 'CIW80_21800', 'CIW80_04580', 'CIW80_03000', 'CIW80_09085', 'CIW80_19065', 'CIW80_15640', 'CIW80_18055', 'CIW80_04605', 'CIW80_01980', 'CIW80_04495', 'CIW80_06815', 'CIW80_15105', 'CIW80_22060', 'CIW80_00665', 'CIW80_15550', 'CIW80_19070', 'CIW80_16865', 'CIW80_15250', 'CIW80_17260', 'CIW80_20565', 'CIW80_18340', 'CIW80_11790', 'CIW80_15330', 'CIW80_06900', 'CIW80_00655', 'CIW80_07260', 'CIW80_17150', 'CIW80_19945', 'CIW80_21340', 'CIW80_18300', 'CIW80_15080', 'CIW80_24980', 'CIW80_22275', 'CIW80_22385', 'CIW80_14305', 'CIW80_14605', 'CIW80_19055', 'CIW80_15285', 'CIW80_00585', 'CIW80_17615', 'CIW80_16965', 'CIW80_01985', 'CIW80_03720', 'CIW80_21510', 'CIW80_20450', 'CIW80_08320', 'CIW80_02725', 'CIW80_25185', 'CIW80_08965', 'CIW80_20475', 'CIW80_09220', 'CIW80_15600', 'CIW80_01120', 'CIW80_24160', 'CIW80_06200', 'CIW80_00855', 'CIW80_15265', 'CIW80_03675', 'CIW80_21630', 'CIW80_12220', 'CIW80_08565', 'CIW80_19575', 'CIW80_16360', 'CIW80_19605', 'CIW80_06660', 'CIW80_12715', 'CIW80_00810', 'CIW80_20290', 'CIW80_13145', 'CIW80_00155', 'CIW80_21155', 'CIW80_03695', 'CIW80_19690', 'CIW80_12395', 'CIW80_24715', 'CIW80_12455', 'CIW80_25685', 'CIW80_12425', 'CIW80_19535', 'CIW80_06625', 'CIW80_23700', 'CIW80_24705', 'CIW80_14550', 'CIW80_06440', 'CIW80_09860', 'CIW80_17105', 'CIW80_12155', 'CIW80_00285', 'CIW80_11290', 'CIW80_06320', 'CIW80_09780', 'CIW80_22430', 'CIW80_02920', 'CIW80_20540', 'CIW80_02640', 'CIW80_03690', 'CIW80_22890', 'CIW80_20905', 'CIW80_04895', 'CIW80_22985', 'CIW80_12295', 'CIW80_11555', 'CIW80_19075', 'CIW80_00190', 'CIW80_12720', 'CIW80_15920', 'CIW80_11880', 'CIW80_00515', 'CIW80_24825', 'CIW80_01910', 'CIW80_04345', 'CIW80_18255', 'CIW80_09820', 'CIW80_25765', 'CIW80_08625', 'CIW80_19120', 'CIW80_12310', 'CIW80_00185', 'CIW80_15835', 'CIW80_19890', 'CIW80_19090', 'CIW80_15985', 'CIW80_18315', 'CIW80_20745', 'CIW80_03585', 'CIW80_20845', 'CIW80_14935', 'CIW80_22090', 'CIW80_01720', 'CIW80_17245', 'CIW80_20805', 'CIW80_04560', 'CIW80_15175', 'CIW80_00800', 'CIW80_09845', 'CIW80_11320', 'CIW80_19825', 'CIW80_20595', 'CIW80_14730', 'CIW80_02230', 'CIW80_25705', 'CIW80_24710', 'CIW80_10705', 'CIW80_23845', 'CIW80_21120', 'CIW80_03635', 'CIW80_05380', 'CIW80_03305', 'CIW80_02035', 'CIW80_03700', 'CIW80_00680', 'CIW80_01730', 'CIW80_23800', 'CIW80_19730', 'CIW80_19785', 'CIW80_19585', 'CIW80_17320', 'CIW80_24750', 'CIW80_22705', 'CIW80_14450', 'CIW80_06770', 'CIW80_02880', 'CIW80_00160', 'CIW80_00720', 'CIW80_14320', 'CIW80_12920', 'CIW80_02010', 'CIW80_10825', 'CIW80_25475', 'CIW80_12080', 'CIW80_22775', 'CIW80_09390', 'CIW80_10605', 'CIW80_03540', 'CIW80_00670', 'CIW80_15255', 'CIW80_21575', 'CIW80_15740'}\n",
      "CP000948 {'CIW80_11210', 'CIW80_22445', 'CIW80_06330', 'CIW80_08295', 'CIW80_15510', 'CIW80_15855', 'CIW80_05090', 'CIW80_04745', 'CIW80_11570', 'CIW80_04670', 'CIW80_19885', 'CIW80_09000', 'CIW80_10280', 'CIW80_05030', 'CIW80_06735', 'CIW80_09805', 'CIW80_01880', 'CIW80_04490', 'CIW80_25340', 'CIW80_01570', 'CIW80_12380', 'CIW80_12665', 'CIW80_05650', 'CIW80_13175', 'CIW80_16405', 'CIW80_12135', 'CIW80_05290', 'CIW80_13695', 'CIW80_19755', 'CIW80_08720', 'CIW80_22470', 'CIW80_19765', 'CIW80_10845', 'CIW80_23170', 'CIW80_02595', 'CIW80_08485', 'CIW80_15595', 'CIW80_19805', 'CIW80_10730', 'CIW80_16470', 'CIW80_02835', 'CIW80_15525', 'CIW80_25220', 'CIW80_22910', 'CIW80_25020', 'CIW80_03320', 'CIW80_13510', 'CIW80_02830', 'CIW80_12315', 'CIW80_11525', 'CIW80_18910', 'CIW80_25400', 'CIW80_12320', 'CIW80_18415', 'CIW80_13630', 'CIW80_06025', 'CIW80_16095', 'CIW80_01770', 'CIW80_00550', 'CIW80_12115', 'CIW80_20075', 'CIW80_00210', 'CIW80_01340', 'CIW80_04210', 'CIW80_10710', 'CIW80_09230', 'CIW80_08165', 'CIW80_13310', 'CIW80_11595', 'CIW80_11235', 'CIW80_08180', 'CIW80_20505', 'CIW80_14015', 'CIW80_10530', 'CIW80_10590', 'CIW80_21745', 'CIW80_21785', 'CIW80_25390', 'CIW80_01355', 'CIW80_15895', 'CIW80_21580', 'CIW80_13215', 'CIW80_24665', 'CIW80_15310', 'CIW80_00055', 'CIW80_02670', 'CIW80_01145', 'CIW80_07080', 'CIW80_08155', 'CIW80_23045', 'CIW80_25650', 'CIW80_00065', 'CIW80_00830', 'CIW80_12515', 'CIW80_01115', 'CIW80_06145', 'CIW80_08365', 'CIW80_09745', 'CIW80_21060', 'CIW80_08325', 'CIW80_08415', 'CIW80_03040', 'CIW80_18605', 'CIW80_10135', 'CIW80_10415', 'CIW80_09875', 'CIW80_04365', 'CIW80_19580', 'CIW80_01150', 'CIW80_12390', 'CIW80_16050', 'CIW80_15880', 'CIW80_00205', 'CIW80_19990', 'CIW80_14985', 'CIW80_12435', 'CIW80_19600', 'CIW80_20555', 'CIW80_19695', 'CIW80_18570', 'CIW80_17110', 'CIW80_07305', 'CIW80_07750', 'CIW80_01065', 'CIW80_10850', 'CIW80_02655', 'CIW80_23040', 'CIW80_04675', 'CIW80_22085', 'CIW80_14930', 'CIW80_12235', 'CIW80_05735', 'CIW80_06595', 'CIW80_17755', 'CIW80_17145', 'CIW80_13705', 'CIW80_20060', 'CIW80_05665', 'CIW80_21165', 'CIW80_04230', 'CIW80_07380', 'CIW80_14845', 'CIW80_06175', 'CIW80_00465', 'CIW80_05905', 'CIW80_06630', 'CIW80_08290', 'CIW80_03045', 'CIW80_07550', 'CIW80_22055', 'CIW80_16130', 'CIW80_05025', 'CIW80_17835', 'CIW80_25310', 'CIW80_13880', 'CIW80_00395', 'CIW80_23850', 'CIW80_13755', 'CIW80_08420', 'CIW80_13595', 'CIW80_03550', 'CIW80_03995', 'CIW80_08045', 'CIW80_13895', 'CIW80_01455', 'CIW80_14340', 'CIW80_00540', 'CIW80_03050', 'CIW80_10725', 'CIW80_04760', 'CIW80_11590', 'CIW80_14290', 'CIW80_24735', 'CIW80_07045', 'CIW80_04325', 'CIW80_15975', 'CIW80_08710', 'CIW80_15700', 'CIW80_14490', 'CIW80_16795', 'CIW80_00965', 'CIW80_01015', 'CIW80_02710', 'CIW80_15545', 'CIW80_00485', 'CIW80_06335', 'CIW80_06635', 'CIW80_00430', 'CIW80_04485', 'CIW80_11215', 'CIW80_04575', 'CIW80_16510', 'CIW80_11125', 'CIW80_13720', 'CIW80_01625', 'CIW80_12770', 'CIW80_07475', 'CIW80_24250', 'CIW80_23070', 'CIW80_10535', 'CIW80_03530', 'CIW80_12110', 'CIW80_08145', 'CIW80_25320', 'CIW80_17130', 'CIW80_08475', 'CIW80_01885', 'CIW80_17170', 'CIW80_07485', 'CIW80_02730', 'CIW80_03545', 'CIW80_07065', 'CIW80_06290', 'CIW80_06885', 'CIW80_11810', 'CIW80_02865', 'CIW80_18110', 'CIW80_03890', 'CIW80_06155', 'CIW80_04265', 'CIW80_21440', 'CIW80_08270', 'CIW80_12360', 'CIW80_21800', 'CIW80_04580', 'CIW80_03000', 'CIW80_15640', 'CIW80_04495', 'CIW80_04605', 'CIW80_01980', 'CIW80_19640', 'CIW80_20900', 'CIW80_06815', 'CIW80_15105', 'CIW80_09225', 'CIW80_01155', 'CIW80_22060', 'CIW80_00545', 'CIW80_15550', 'CIW80_14500', 'CIW80_07050', 'CIW80_08780', 'CIW80_24485', 'CIW80_15250', 'CIW80_15810', 'CIW80_18340', 'CIW80_13900', 'CIW80_11790', 'CIW80_06900', 'CIW80_00655', 'CIW80_17150', 'CIW80_19945', 'CIW80_04595', 'CIW80_21340', 'CIW80_16330', 'CIW80_08595', 'CIW80_15080', 'CIW80_24980', 'CIW80_22275', 'CIW80_22385', 'CIW80_15925', 'CIW80_14305', 'CIW80_01470', 'CIW80_14605', 'CIW80_15285', 'CIW80_00585', 'CIW80_17615', 'CIW80_01985', 'CIW80_21510', 'CIW80_20450', 'CIW80_08320', 'CIW80_04545', 'CIW80_02725', 'CIW80_25185', 'CIW80_20475', 'CIW80_09220', 'CIW80_15600', 'CIW80_01120', 'CIW80_24160', 'CIW80_10695', 'CIW80_12915', 'CIW80_06200', 'CIW80_03075', 'CIW80_00855', 'CIW80_10650', 'CIW80_12220', 'CIW80_16955', 'CIW80_08565', 'CIW80_01955', 'CIW80_19575', 'CIW80_19605', 'CIW80_06660', 'CIW80_00810', 'CIW80_16735', 'CIW80_20290', 'CIW80_00155', 'CIW80_19450', 'CIW80_13375', 'CIW80_12125', 'CIW80_17850', 'CIW80_21155', 'CIW80_19690', 'CIW80_08585', 'CIW80_23805', 'CIW80_20810', 'CIW80_09430', 'CIW80_12395', 'CIW80_05295', 'CIW80_24715', 'CIW80_03815', 'CIW80_04985', 'CIW80_13930', 'CIW80_01480', 'CIW80_25600', 'CIW80_12455', 'CIW80_25685', 'CIW80_12425', 'CIW80_19535', 'CIW80_04255', 'CIW80_06625', 'CIW80_14550', 'CIW80_12045', 'CIW80_15505', 'CIW80_06440', 'CIW80_09860', 'CIW80_17105', 'CIW80_15530', 'CIW80_00285', 'CIW80_13370', 'CIW80_23055', 'CIW80_05395', 'CIW80_15610', 'CIW80_11290', 'CIW80_06320', 'CIW80_09780', 'CIW80_22430', 'CIW80_20540', 'CIW80_16905', 'CIW80_22890', 'CIW80_20905', 'CIW80_22985', 'CIW80_11085', 'CIW80_16445', 'CIW80_12295', 'CIW80_21140', 'CIW80_11555', 'CIW80_12720', 'CIW80_15920', 'CIW80_11880', 'CIW80_00515', 'CIW80_07165', 'CIW80_24825', 'CIW80_04345', 'CIW80_18255', 'CIW80_09820', 'CIW80_25765', 'CIW80_08625', 'CIW80_12310', 'CIW80_00185', 'CIW80_15835', 'CIW80_08245', 'CIW80_15985', 'CIW80_18315', 'CIW80_20745', 'CIW80_20845', 'CIW80_20800', 'CIW80_14935', 'CIW80_22090', 'CIW80_19650', 'CIW80_01720', 'CIW80_20805', 'CIW80_17135', 'CIW80_04560', 'CIW80_06955', 'CIW80_00800', 'CIW80_09845', 'CIW80_11320', 'CIW80_24565', 'CIW80_24710', 'CIW80_10705', 'CIW80_23845', 'CIW80_21120', 'CIW80_05380', 'CIW80_02035', 'CIW80_00680', 'CIW80_01730', 'CIW80_03535', 'CIW80_23800', 'CIW80_01390', 'CIW80_19785', 'CIW80_24750', 'CIW80_20300', 'CIW80_03340', 'CIW80_06770', 'CIW80_07010', 'CIW80_10960', 'CIW80_00160', 'CIW80_00720', 'CIW80_14320', 'CIW80_12920', 'CIW80_02010', 'CIW80_10825', 'CIW80_13355', 'CIW80_12080', 'CIW80_22775', 'CIW80_09390', 'CIW80_10605', 'CIW80_04900', 'CIW80_03540', 'CIW80_00670', 'CIW80_15255', 'CIW80_15885', 'CIW80_21575', 'CIW80_15740', 'CIW80_05655'}\n",
      "U00096 {'CIW80_22445', 'CIW80_06330', 'CIW80_08295', 'CIW80_15510', 'CIW80_04745', 'CIW80_11570', 'CIW80_09000', 'CIW80_05030', 'CIW80_06735', 'CIW80_09805', 'CIW80_25340', 'CIW80_01570', 'CIW80_12380', 'CIW80_05650', 'CIW80_13175', 'CIW80_16405', 'CIW80_12135', 'CIW80_13695', 'CIW80_19755', 'CIW80_08720', 'CIW80_22470', 'CIW80_19765', 'CIW80_10845', 'CIW80_23170', 'CIW80_02595', 'CIW80_15595', 'CIW80_10730', 'CIW80_16470', 'CIW80_02835', 'CIW80_15525', 'CIW80_25220', 'CIW80_25020', 'CIW80_11525', 'CIW80_18910', 'CIW80_12320', 'CIW80_18415', 'CIW80_08765', 'CIW80_06025', 'CIW80_00550', 'CIW80_12115', 'CIW80_20075', 'CIW80_00210', 'CIW80_04210', 'CIW80_10710', 'CIW80_09230', 'CIW80_08180', 'CIW80_20505', 'CIW80_10530', 'CIW80_10590', 'CIW80_21745', 'CIW80_21785', 'CIW80_01355', 'CIW80_15895', 'CIW80_21580', 'CIW80_13215', 'CIW80_24665', 'CIW80_15310', 'CIW80_17415', 'CIW80_00055', 'CIW80_08155', 'CIW80_23045', 'CIW80_25650', 'CIW80_00065', 'CIW80_00830', 'CIW80_01115', 'CIW80_06145', 'CIW80_08365', 'CIW80_09745', 'CIW80_21060', 'CIW80_17275', 'CIW80_03040', 'CIW80_18605', 'CIW80_10135', 'CIW80_09875', 'CIW80_04365', 'CIW80_19580', 'CIW80_01150', 'CIW80_18005', 'CIW80_12390', 'CIW80_00205', 'CIW80_19990', 'CIW80_14985', 'CIW80_12435', 'CIW80_19600', 'CIW80_20555', 'CIW80_19695', 'CIW80_18570', 'CIW80_17110', 'CIW80_07305', 'CIW80_07750', 'CIW80_10850', 'CIW80_04675', 'CIW80_22085', 'CIW80_14930', 'CIW80_12235', 'CIW80_06595', 'CIW80_17755', 'CIW80_20060', 'CIW80_05665', 'CIW80_21165', 'CIW80_14845', 'CIW80_06175', 'CIW80_05905', 'CIW80_06630', 'CIW80_08290', 'CIW80_03045', 'CIW80_10855', 'CIW80_07550', 'CIW80_22055', 'CIW80_16130', 'CIW80_05025', 'CIW80_17835', 'CIW80_25310', 'CIW80_00395', 'CIW80_23850', 'CIW80_13755', 'CIW80_03550', 'CIW80_03995', 'CIW80_08045', 'CIW80_13895', 'CIW80_01455', 'CIW80_14340', 'CIW80_00540', 'CIW80_03050', 'CIW80_10725', 'CIW80_04760', 'CIW80_11590', 'CIW80_14290', 'CIW80_24735', 'CIW80_07045', 'CIW80_15975', 'CIW80_08710', 'CIW80_14490', 'CIW80_16795', 'CIW80_00965', 'CIW80_01015', 'CIW80_02710', 'CIW80_15545', 'CIW80_06335', 'CIW80_00430', 'CIW80_04485', 'CIW80_11215', 'CIW80_04575', 'CIW80_11125', 'CIW80_01625', 'CIW80_12770', 'CIW80_07475', 'CIW80_24250', 'CIW80_23070', 'CIW80_10535', 'CIW80_03530', 'CIW80_25320', 'CIW80_18100', 'CIW80_17130', 'CIW80_17170', 'CIW80_02730', 'CIW80_03545', 'CIW80_07065', 'CIW80_06290', 'CIW80_11810', 'CIW80_02865', 'CIW80_18110', 'CIW80_03890', 'CIW80_06155', 'CIW80_04265', 'CIW80_17200', 'CIW80_08270', 'CIW80_21800', 'CIW80_04580', 'CIW80_03000', 'CIW80_15640', 'CIW80_04495', 'CIW80_04605', 'CIW80_19640', 'CIW80_20900', 'CIW80_06815', 'CIW80_15105', 'CIW80_22060', 'CIW80_15550', 'CIW80_14500', 'CIW80_08780', 'CIW80_15250', 'CIW80_17260', 'CIW80_18340', 'CIW80_16540', 'CIW80_11790', 'CIW80_06900', 'CIW80_17150', 'CIW80_19945', 'CIW80_04595', 'CIW80_21340', 'CIW80_08595', 'CIW80_15080', 'CIW80_24980', 'CIW80_22275', 'CIW80_22385', 'CIW80_14305', 'CIW80_14605', 'CIW80_00585', 'CIW80_17615', 'CIW80_01985', 'CIW80_21510', 'CIW80_20450', 'CIW80_08320', 'CIW80_02725', 'CIW80_20475', 'CIW80_09220', 'CIW80_15600', 'CIW80_01120', 'CIW80_24160', 'CIW80_06200', 'CIW80_00855', 'CIW80_12220', 'CIW80_16955', 'CIW80_08565', 'CIW80_19575', 'CIW80_06660', 'CIW80_16735', 'CIW80_20290', 'CIW80_19450', 'CIW80_13375', 'CIW80_12125', 'CIW80_17850', 'CIW80_21155', 'CIW80_19690', 'CIW80_23805', 'CIW80_20810', 'CIW80_09430', 'CIW80_12395', 'CIW80_24715', 'CIW80_03815', 'CIW80_01480', 'CIW80_25600', 'CIW80_12455', 'CIW80_12425', 'CIW80_19535', 'CIW80_14550', 'CIW80_06440', 'CIW80_09860', 'CIW80_17105', 'CIW80_00285', 'CIW80_23055', 'CIW80_11290', 'CIW80_06320', 'CIW80_09780', 'CIW80_22430', 'CIW80_20540', 'CIW80_16905', 'CIW80_20905', 'CIW80_22985', 'CIW80_12295', 'CIW80_21140', 'CIW80_11555', 'CIW80_12720', 'CIW80_15920', 'CIW80_11880', 'CIW80_00515', 'CIW80_24825', 'CIW80_04345', 'CIW80_18255', 'CIW80_09820', 'CIW80_17345', 'CIW80_25765', 'CIW80_08625', 'CIW80_12310', 'CIW80_00185', 'CIW80_15835', 'CIW80_11650', 'CIW80_15985', 'CIW80_18315', 'CIW80_20745', 'CIW80_20845', 'CIW80_20800', 'CIW80_14935', 'CIW80_19650', 'CIW80_01720', 'CIW80_17245', 'CIW80_20805', 'CIW80_04560', 'CIW80_00800', 'CIW80_09845', 'CIW80_11320', 'CIW80_24565', 'CIW80_24710', 'CIW80_10705', 'CIW80_23845', 'CIW80_21120', 'CIW80_04480', 'CIW80_05380', 'CIW80_02035', 'CIW80_00680', 'CIW80_01730', 'CIW80_03535', 'CIW80_23800', 'CIW80_01390', 'CIW80_19785', 'CIW80_24750', 'CIW80_20300', 'CIW80_03340', 'CIW80_06770', 'CIW80_00160', 'CIW80_00720', 'CIW80_12920', 'CIW80_02010', 'CIW80_10825', 'CIW80_12080', 'CIW80_22775', 'CIW80_09390', 'CIW80_10605', 'CIW80_04900', 'CIW80_03540', 'CIW80_00670', 'CIW80_15255', 'CIW80_21575', 'CIW80_15740', 'CIW80_05655'}\n",
      "AP009048 {'CIW80_22445', 'CIW80_06330', 'CIW80_08295', 'CIW80_15510', 'CIW80_15855', 'CIW80_04745', 'CIW80_11570', 'CIW80_09000', 'CIW80_10280', 'CIW80_05030', 'CIW80_06735', 'CIW80_09805', 'CIW80_01880', 'CIW80_04490', 'CIW80_25340', 'CIW80_01570', 'CIW80_12380', 'CIW80_05650', 'CIW80_24680', 'CIW80_13175', 'CIW80_16405', 'CIW80_12135', 'CIW80_13695', 'CIW80_19755', 'CIW80_08720', 'CIW80_22470', 'CIW80_19765', 'CIW80_10845', 'CIW80_23170', 'CIW80_02595', 'CIW80_15595', 'CIW80_10730', 'CIW80_16470', 'CIW80_02835', 'CIW80_15525', 'CIW80_25220', 'CIW80_24670', 'CIW80_22910', 'CIW80_25020', 'CIW80_11525', 'CIW80_18910', 'CIW80_25400', 'CIW80_12320', 'CIW80_18415', 'CIW80_06025', 'CIW80_00550', 'CIW80_12115', 'CIW80_20075', 'CIW80_00210', 'CIW80_04210', 'CIW80_10710', 'CIW80_09230', 'CIW80_08165', 'CIW80_08180', 'CIW80_20505', 'CIW80_10530', 'CIW80_10590', 'CIW80_21745', 'CIW80_21785', 'CIW80_25390', 'CIW80_01355', 'CIW80_15895', 'CIW80_21580', 'CIW80_13215', 'CIW80_24665', 'CIW80_15310', 'CIW80_17415', 'CIW80_00055', 'CIW80_01145', 'CIW80_08155', 'CIW80_23045', 'CIW80_25650', 'CIW80_00065', 'CIW80_00830', 'CIW80_01115', 'CIW80_06145', 'CIW80_08365', 'CIW80_09745', 'CIW80_21060', 'CIW80_17275', 'CIW80_03040', 'CIW80_18605', 'CIW80_10135', 'CIW80_09875', 'CIW80_19580', 'CIW80_01150', 'CIW80_18005', 'CIW80_12390', 'CIW80_00205', 'CIW80_19990', 'CIW80_14985', 'CIW80_12435', 'CIW80_19600', 'CIW80_20555', 'CIW80_19695', 'CIW80_24700', 'CIW80_18570', 'CIW80_17110', 'CIW80_07305', 'CIW80_07750', 'CIW80_10850', 'CIW80_23040', 'CIW80_04675', 'CIW80_22085', 'CIW80_14930', 'CIW80_12235', 'CIW80_06595', 'CIW80_17755', 'CIW80_20060', 'CIW80_05665', 'CIW80_21165', 'CIW80_14845', 'CIW80_06175', 'CIW80_00465', 'CIW80_05905', 'CIW80_06630', 'CIW80_08290', 'CIW80_03045', 'CIW80_07550', 'CIW80_22055', 'CIW80_16130', 'CIW80_05025', 'CIW80_17835', 'CIW80_25310', 'CIW80_00395', 'CIW80_23850', 'CIW80_13755', 'CIW80_03550', 'CIW80_03995', 'CIW80_08045', 'CIW80_13895', 'CIW80_01455', 'CIW80_14340', 'CIW80_00540', 'CIW80_03050', 'CIW80_10725', 'CIW80_04760', 'CIW80_11590', 'CIW80_14290', 'CIW80_24735', 'CIW80_07045', 'CIW80_15975', 'CIW80_15700', 'CIW80_14490', 'CIW80_16795', 'CIW80_00965', 'CIW80_01015', 'CIW80_02710', 'CIW80_15545', 'CIW80_06335', 'CIW80_00430', 'CIW80_04485', 'CIW80_11215', 'CIW80_04575', 'CIW80_11125', 'CIW80_01625', 'CIW80_12770', 'CIW80_07475', 'CIW80_24250', 'CIW80_23070', 'CIW80_10535', 'CIW80_03530', 'CIW80_12110', 'CIW80_25320', 'CIW80_18100', 'CIW80_17130', 'CIW80_01885', 'CIW80_17170', 'CIW80_02730', 'CIW80_03545', 'CIW80_06290', 'CIW80_11810', 'CIW80_02865', 'CIW80_18110', 'CIW80_03890', 'CIW80_06155', 'CIW80_04265', 'CIW80_21440', 'CIW80_17200', 'CIW80_08270', 'CIW80_21800', 'CIW80_04580', 'CIW80_03000', 'CIW80_15640', 'CIW80_18055', 'CIW80_04605', 'CIW80_01980', 'CIW80_04495', 'CIW80_19640', 'CIW80_20900', 'CIW80_06815', 'CIW80_15105', 'CIW80_22060', 'CIW80_15550', 'CIW80_14500', 'CIW80_08780', 'CIW80_15250', 'CIW80_17260', 'CIW80_18340', 'CIW80_11790', 'CIW80_06900', 'CIW80_00655', 'CIW80_17150', 'CIW80_19945', 'CIW80_04595', 'CIW80_21340', 'CIW80_08595', 'CIW80_15080', 'CIW80_24980', 'CIW80_22275', 'CIW80_22385', 'CIW80_14305', 'CIW80_14605', 'CIW80_15285', 'CIW80_00585', 'CIW80_17615', 'CIW80_01985', 'CIW80_21510', 'CIW80_20450', 'CIW80_08320', 'CIW80_02725', 'CIW80_25185', 'CIW80_20475', 'CIW80_09220', 'CIW80_15600', 'CIW80_01120', 'CIW80_24160', 'CIW80_06200', 'CIW80_00855', 'CIW80_24675', 'CIW80_12220', 'CIW80_16955', 'CIW80_08565', 'CIW80_19575', 'CIW80_19605', 'CIW80_06660', 'CIW80_00810', 'CIW80_16735', 'CIW80_20290', 'CIW80_00155', 'CIW80_19450', 'CIW80_13375', 'CIW80_12125', 'CIW80_17850', 'CIW80_21155', 'CIW80_19690', 'CIW80_23805', 'CIW80_09430', 'CIW80_12395', 'CIW80_24715', 'CIW80_03815', 'CIW80_04985', 'CIW80_25600', 'CIW80_12455', 'CIW80_25685', 'CIW80_12425', 'CIW80_19535', 'CIW80_06625', 'CIW80_24705', 'CIW80_14550', 'CIW80_06440', 'CIW80_09860', 'CIW80_17105', 'CIW80_00285', 'CIW80_11290', 'CIW80_06320', 'CIW80_09780', 'CIW80_22430', 'CIW80_20540', 'CIW80_16905', 'CIW80_22890', 'CIW80_20905', 'CIW80_22985', 'CIW80_12295', 'CIW80_11555', 'CIW80_12720', 'CIW80_15920', 'CIW80_11880', 'CIW80_00515', 'CIW80_24825', 'CIW80_04345', 'CIW80_18255', 'CIW80_09820', 'CIW80_17345', 'CIW80_25765', 'CIW80_08625', 'CIW80_12310', 'CIW80_00185', 'CIW80_15835', 'CIW80_15985', 'CIW80_18315', 'CIW80_20745', 'CIW80_20845', 'CIW80_20800', 'CIW80_14935', 'CIW80_22090', 'CIW80_19650', 'CIW80_01720', 'CIW80_17245', 'CIW80_20805', 'CIW80_17135', 'CIW80_04560', 'CIW80_00800', 'CIW80_09845', 'CIW80_11320', 'CIW80_24565', 'CIW80_10705', 'CIW80_23845', 'CIW80_21120', 'CIW80_05380', 'CIW80_02035', 'CIW80_00680', 'CIW80_01730', 'CIW80_03535', 'CIW80_23800', 'CIW80_01390', 'CIW80_19785', 'CIW80_17320', 'CIW80_24750', 'CIW80_20300', 'CIW80_03340', 'CIW80_06770', 'CIW80_00160', 'CIW80_00720', 'CIW80_14320', 'CIW80_12920', 'CIW80_02010', 'CIW80_10825', 'CIW80_12080', 'CIW80_22775', 'CIW80_09390', 'CIW80_10605', 'CIW80_04900', 'CIW80_03540', 'CIW80_00670', 'CIW80_15255', 'CIW80_21575', 'CIW80_15740', 'CIW80_05655'}\n",
      "CP002185 {'CIW80_22445', 'CIW80_06330', 'CIW80_08295', 'CIW80_15510', 'CIW80_15855', 'CIW80_04745', 'CIW80_11570', 'CIW80_10280', 'CIW80_09630', 'CIW80_05030', 'CIW80_06735', 'CIW80_09805', 'CIW80_01880', 'CIW80_04490', 'CIW80_25340', 'CIW80_01570', 'CIW80_12380', 'CIW80_02890', 'CIW80_05650', 'CIW80_13175', 'CIW80_16405', 'CIW80_12135', 'CIW80_13695', 'CIW80_19755', 'CIW80_22470', 'CIW80_10845', 'CIW80_23170', 'CIW80_17790', 'CIW80_02595', 'CIW80_15595', 'CIW80_08460', 'CIW80_10730', 'CIW80_16470', 'CIW80_02835', 'CIW80_15525', 'CIW80_25220', 'CIW80_24670', 'CIW80_19975', 'CIW80_22910', 'CIW80_02830', 'CIW80_11525', 'CIW80_17670', 'CIW80_25400', 'CIW80_12320', 'CIW80_18415', 'CIW80_06025', 'CIW80_01845', 'CIW80_00550', 'CIW80_20075', 'CIW80_00210', 'CIW80_04210', 'CIW80_10710', 'CIW80_09230', 'CIW80_08180', 'CIW80_20505', 'CIW80_10530', 'CIW80_10590', 'CIW80_21745', 'CIW80_21785', 'CIW80_01355', 'CIW80_15895', 'CIW80_21580', 'CIW80_13215', 'CIW80_24665', 'CIW80_17415', 'CIW80_00055', 'CIW80_09920', 'CIW80_13770', 'CIW80_01145', 'CIW80_08155', 'CIW80_23045', 'CIW80_25650', 'CIW80_24640', 'CIW80_00065', 'CIW80_21270', 'CIW80_00830', 'CIW80_01115', 'CIW80_06145', 'CIW80_03310', 'CIW80_08365', 'CIW80_09745', 'CIW80_21060', 'CIW80_17275', 'CIW80_03040', 'CIW80_18605', 'CIW80_10135', 'CIW80_09875', 'CIW80_19580', 'CIW80_01150', 'CIW80_18005', 'CIW80_12390', 'CIW80_00205', 'CIW80_19990', 'CIW80_14985', 'CIW80_12435', 'CIW80_19600', 'CIW80_20555', 'CIW80_19695', 'CIW80_24700', 'CIW80_18570', 'CIW80_07305', 'CIW80_07750', 'CIW80_10850', 'CIW80_04675', 'CIW80_22085', 'CIW80_14930', 'CIW80_12235', 'CIW80_06595', 'CIW80_17755', 'CIW80_24420', 'CIW80_20060', 'CIW80_02030', 'CIW80_05665', 'CIW80_21165', 'CIW80_14845', 'CIW80_06175', 'CIW80_06630', 'CIW80_07805', 'CIW80_08290', 'CIW80_24385', 'CIW80_22055', 'CIW80_16130', 'CIW80_01090', 'CIW80_05025', 'CIW80_17835', 'CIW80_00395', 'CIW80_23850', 'CIW80_24770', 'CIW80_13755', 'CIW80_03995', 'CIW80_08045', 'CIW80_13895', 'CIW80_01455', 'CIW80_14340', 'CIW80_03315', 'CIW80_00540', 'CIW80_03050', 'CIW80_10725', 'CIW80_04760', 'CIW80_11590', 'CIW80_13390', 'CIW80_24735', 'CIW80_07045', 'CIW80_15975', 'CIW80_14490', 'CIW80_21480', 'CIW80_00965', 'CIW80_02710', 'CIW80_15545', 'CIW80_06335', 'CIW80_13870', 'CIW80_00430', 'CIW80_04485', 'CIW80_11215', 'CIW80_04575', 'CIW80_09550', 'CIW80_01625', 'CIW80_12770', 'CIW80_07475', 'CIW80_24250', 'CIW80_23070', 'CIW80_10535', 'CIW80_02915', 'CIW80_12110', 'CIW80_25320', 'CIW80_18100', 'CIW80_01885', 'CIW80_17170', 'CIW80_02730', 'CIW80_06290', 'CIW80_11810', 'CIW80_02865', 'CIW80_18110', 'CIW80_03890', 'CIW80_06155', 'CIW80_04265', 'CIW80_17200', 'CIW80_08270', 'CIW80_21800', 'CIW80_04580', 'CIW80_03000', 'CIW80_15640', 'CIW80_18055', 'CIW80_04605', 'CIW80_01980', 'CIW80_04495', 'CIW80_20900', 'CIW80_06815', 'CIW80_15105', 'CIW80_24435', 'CIW80_22060', 'CIW80_15550', 'CIW80_14500', 'CIW80_24035', 'CIW80_15250', 'CIW80_19660', 'CIW80_18340', 'CIW80_11790', 'CIW80_19930', 'CIW80_06900', 'CIW80_00655', 'CIW80_17150', 'CIW80_19945', 'CIW80_04595', 'CIW80_21340', 'CIW80_08595', 'CIW80_03035', 'CIW80_24980', 'CIW80_22275', 'CIW80_22385', 'CIW80_14305', 'CIW80_14605', 'CIW80_15285', 'CIW80_00585', 'CIW80_17615', 'CIW80_01985', 'CIW80_21510', 'CIW80_20450', 'CIW80_08320', 'CIW80_02725', 'CIW80_25185', 'CIW80_20475', 'CIW80_09220', 'CIW80_15600', 'CIW80_01120', 'CIW80_24160', 'CIW80_06200', 'CIW80_00855', 'CIW80_08565', 'CIW80_19575', 'CIW80_06660', 'CIW80_00810', 'CIW80_20290', 'CIW80_00155', 'CIW80_03575', 'CIW80_13375', 'CIW80_12125', 'CIW80_21155', 'CIW80_19690', 'CIW80_23805', 'CIW80_09430', 'CIW80_12395', 'CIW80_24715', 'CIW80_01480', 'CIW80_12455', 'CIW80_25685', 'CIW80_12425', 'CIW80_19535', 'CIW80_06625', 'CIW80_24705', 'CIW80_14550', 'CIW80_06440', 'CIW80_09860', 'CIW80_11290', 'CIW80_09780', 'CIW80_22430', 'CIW80_02920', 'CIW80_20540', 'CIW80_20905', 'CIW80_22985', 'CIW80_12295', 'CIW80_11555', 'CIW80_12720', 'CIW80_15920', 'CIW80_24390', 'CIW80_11880', 'CIW80_19540', 'CIW80_00515', 'CIW80_24825', 'CIW80_13070', 'CIW80_04345', 'CIW80_18255', 'CIW80_09820', 'CIW80_17345', 'CIW80_12310', 'CIW80_00185', 'CIW80_15835', 'CIW80_15985', 'CIW80_18315', 'CIW80_20745', 'CIW80_20845', 'CIW80_20800', 'CIW80_14935', 'CIW80_01720', 'CIW80_17245', 'CIW80_04560', 'CIW80_00800', 'CIW80_09845', 'CIW80_11320', 'CIW80_24565', 'CIW80_03820', 'CIW80_08455', 'CIW80_24710', 'CIW80_10705', 'CIW80_23845', 'CIW80_21120', 'CIW80_00560', 'CIW80_05380', 'CIW80_03305', 'CIW80_02035', 'CIW80_22915', 'CIW80_00680', 'CIW80_01730', 'CIW80_23800', 'CIW80_01390', 'CIW80_19785', 'CIW80_19585', 'CIW80_24750', 'CIW80_20300', 'CIW80_03340', 'CIW80_06770', 'CIW80_00160', 'CIW80_00720', 'CIW80_12920', 'CIW80_02010', 'CIW80_10825', 'CIW80_12080', 'CIW80_22775', 'CIW80_09390', 'CIW80_10605', 'CIW80_04900', 'CIW80_00670', 'CIW80_15255', 'CIW80_21575', 'CIW80_05655'}\n"
     ]
    },
    {
     "name": "stdout",
     "output_type": "stream",
     "text": [
      "CP002967 {'CIW80_12425', 'CIW80_22445', 'CIW80_19535', 'CIW80_09745', 'CIW80_21060', 'CIW80_06625', 'CIW80_06330', 'CIW80_24705', 'CIW80_17275', 'CIW80_12110', 'CIW80_25320', 'CIW80_18100', 'CIW80_14550', 'CIW80_08295', 'CIW80_15510', 'CIW80_15855', 'CIW80_04745', 'CIW80_11570', 'CIW80_03040', 'CIW80_01885', 'CIW80_17170', 'CIW80_06440', 'CIW80_02730', 'CIW80_18605', 'CIW80_09860', 'CIW80_10280', 'CIW80_09630', 'CIW80_05030', 'CIW80_10135', 'CIW80_06735', 'CIW80_09805', 'CIW80_06290', 'CIW80_01880', 'CIW80_04490', 'CIW80_25340', 'CIW80_09875', 'CIW80_21265', 'CIW80_11290', 'CIW80_19580', 'CIW80_11810', 'CIW80_01570', 'CIW80_22430', 'CIW80_12380', 'CIW80_18005', 'CIW80_12390', 'CIW80_01150', 'CIW80_02890', 'CIW80_09780', 'CIW80_02920', 'CIW80_00205', 'CIW80_20540', 'CIW80_19990', 'CIW80_02865', 'CIW80_14985', 'CIW80_18110', 'CIW80_12435', 'CIW80_19600', 'CIW80_03890', 'CIW80_05650', 'CIW80_13175', 'CIW80_20905', 'CIW80_16405', 'CIW80_20555', 'CIW80_12135', 'CIW80_06155', 'CIW80_22985', 'CIW80_19695', 'CIW80_04265', 'CIW80_21440', 'CIW80_24700', 'CIW80_17200', 'CIW80_08270', 'CIW80_12295', 'CIW80_13695', 'CIW80_19755', 'CIW80_11555', 'CIW80_18570', 'CIW80_04580', 'CIW80_21800', 'CIW80_03000', 'CIW80_15640', 'CIW80_22470', 'CIW80_07305', 'CIW80_10845', 'CIW80_07750', 'CIW80_04495', 'CIW80_04605', 'CIW80_01980', 'CIW80_12720', 'CIW80_23170', 'CIW80_15920', 'CIW80_10850', 'CIW80_20900', 'CIW80_06815', 'CIW80_02595', 'CIW80_15105', 'CIW80_11880', 'CIW80_24390', 'CIW80_15595', 'CIW80_04675', 'CIW80_22085', 'CIW80_00515', 'CIW80_24435', 'CIW80_08460', 'CIW80_14930', 'CIW80_10730', 'CIW80_12235', 'CIW80_22060', 'CIW80_24825', 'CIW80_13070', 'CIW80_02835', 'CIW80_15525', 'CIW80_06595', 'CIW80_15550', 'CIW80_17755', 'CIW80_14500', 'CIW80_04345', 'CIW80_25220', 'CIW80_25685', 'CIW80_18255', 'CIW80_09820', 'CIW80_24670', 'CIW80_19975', 'CIW80_24420', 'CIW80_17345', 'CIW80_12310', 'CIW80_22910', 'CIW80_20060', 'CIW80_25020', 'CIW80_05665', 'CIW80_15250', 'CIW80_21165', 'CIW80_15835', 'CIW80_14845', 'CIW80_00185', 'CIW80_06175', 'CIW80_06630', 'CIW80_07805', 'CIW80_08290', 'CIW80_18315', 'CIW80_20745', 'CIW80_02830', 'CIW80_20845', 'CIW80_20800', 'CIW80_14935', 'CIW80_18340', 'CIW80_11525', 'CIW80_17670', 'CIW80_25400', 'CIW80_00960', 'CIW80_12320', 'CIW80_01720', 'CIW80_11790', 'CIW80_22055', 'CIW80_18415', 'CIW80_17245', 'CIW80_16130', 'CIW80_06900', 'CIW80_06025', 'CIW80_05025', 'CIW80_17150', 'CIW80_19945', 'CIW80_04595', 'CIW80_21340', 'CIW80_25310', 'CIW80_04560', 'CIW80_17835', 'CIW80_08595', 'CIW80_00800', 'CIW80_09845', 'CIW80_00395', 'CIW80_11320', 'CIW80_00550', 'CIW80_23850', 'CIW80_24565', 'CIW80_15080', 'CIW80_22275', 'CIW80_22385', 'CIW80_24980', 'CIW80_14305', 'CIW80_20075', 'CIW80_00210', 'CIW80_13755', 'CIW80_24710', 'CIW80_04210', 'CIW80_14605', 'CIW80_10710', 'CIW80_09230', 'CIW80_03995', 'CIW80_10705', 'CIW80_08045', 'CIW80_23845', 'CIW80_11595', 'CIW80_13895', 'CIW80_00585', 'CIW80_01455', 'CIW80_17615', 'CIW80_14340', 'CIW80_21120', 'CIW80_03315', 'CIW80_00540', 'CIW80_01985', 'CIW80_05380', 'CIW80_03305', 'CIW80_02035', 'CIW80_21510', 'CIW80_08180', 'CIW80_20505', 'CIW80_03050', 'CIW80_08320', 'CIW80_20450', 'CIW80_10725', 'CIW80_02725', 'CIW80_25185', 'CIW80_00680', 'CIW80_20475', 'CIW80_09220', 'CIW80_15600', 'CIW80_04760', 'CIW80_01120', 'CIW80_24160', 'CIW80_01730', 'CIW80_11590', 'CIW80_10530', 'CIW80_06200', 'CIW80_23800', 'CIW80_01390', 'CIW80_10590', 'CIW80_00855', 'CIW80_19785', 'CIW80_21745', 'CIW80_21785', 'CIW80_01355', 'CIW80_24735', 'CIW80_15895', 'CIW80_21580', 'CIW80_13215', 'CIW80_24665', 'CIW80_07045', 'CIW80_12220', 'CIW80_17415', 'CIW80_00055', 'CIW80_24750', 'CIW80_08565', 'CIW80_15975', 'CIW80_19575', 'CIW80_06660', 'CIW80_14490', 'CIW80_00810', 'CIW80_03340', 'CIW80_06770', 'CIW80_20290', 'CIW80_21480', 'CIW80_08155', 'CIW80_00965', 'CIW80_02050', 'CIW80_23045', 'CIW80_25650', 'CIW80_00160', 'CIW80_00720', 'CIW80_02710', 'CIW80_00155', 'CIW80_12920', 'CIW80_02010', 'CIW80_10825', 'CIW80_07605', 'CIW80_15545', 'CIW80_00065', 'CIW80_06335', 'CIW80_21270', 'CIW80_13375', 'CIW80_12125', 'CIW80_12080', 'CIW80_13870', 'CIW80_21155', 'CIW80_22775', 'CIW80_17850', 'CIW80_09390', 'CIW80_19690', 'CIW80_00430', 'CIW80_10605', 'CIW80_04485', 'CIW80_00830', 'CIW80_04900', 'CIW80_01115', 'CIW80_11215', 'CIW80_04575', 'CIW80_23805', 'CIW80_12395', 'CIW80_24715', 'CIW80_06145', 'CIW80_12770', 'CIW80_07475', 'CIW80_00670', 'CIW80_15255', 'CIW80_21575', 'CIW80_03310', 'CIW80_24250', 'CIW80_05655', 'CIW80_23070', 'CIW80_01480', 'CIW80_10535', 'CIW80_12455', 'CIW80_08365'}\n",
      "FN554766 {'CIW80_01895', 'CIW80_03090', 'CIW80_22445', 'CIW80_06330', 'CIW80_08295', 'CIW80_15510', 'CIW80_15855', 'CIW80_04745', 'CIW80_11570', 'CIW80_11350', 'CIW80_16065', 'CIW80_10280', 'CIW80_09630', 'CIW80_05030', 'CIW80_06735', 'CIW80_09805', 'CIW80_04425', 'CIW80_01880', 'CIW80_04490', 'CIW80_25340', 'CIW80_12160', 'CIW80_01570', 'CIW80_12380', 'CIW80_23630', 'CIW80_19205', 'CIW80_05650', 'CIW80_23420', 'CIW80_13175', 'CIW80_16405', 'CIW80_12135', 'CIW80_23695', 'CIW80_13695', 'CIW80_19755', 'CIW80_00385', 'CIW80_22470', 'CIW80_10845', 'CIW80_23170', 'CIW80_17790', 'CIW80_02595', 'CIW80_15595', 'CIW80_08310', 'CIW80_08460', 'CIW80_10730', 'CIW80_16470', 'CIW80_02835', 'CIW80_15525', 'CIW80_25220', 'CIW80_04685', 'CIW80_22910', 'CIW80_02830', 'CIW80_10400', 'CIW80_11525', 'CIW80_18910', 'CIW80_17670', 'CIW80_18425', 'CIW80_25400', 'CIW80_12320', 'CIW80_21645', 'CIW80_18415', 'CIW80_06025', 'CIW80_01845', 'CIW80_00550', 'CIW80_16060', 'CIW80_12115', 'CIW80_20075', 'CIW80_00210', 'CIW80_04210', 'CIW80_10710', 'CIW80_08165', 'CIW80_16900', 'CIW80_15195', 'CIW80_18870', 'CIW80_08180', 'CIW80_20505', 'CIW80_13915', 'CIW80_10530', 'CIW80_10590', 'CIW80_21745', 'CIW80_21785', 'CIW80_01355', 'CIW80_15895', 'CIW80_21580', 'CIW80_24665', 'CIW80_03775', 'CIW80_15310', 'CIW80_17415', 'CIW80_00055', 'CIW80_13770', 'CIW80_24500', 'CIW80_06420', 'CIW80_01145', 'CIW80_08155', 'CIW80_23045', 'CIW80_25650', 'CIW80_16830', 'CIW80_00065', 'CIW80_21270', 'CIW80_00830', 'CIW80_06145', 'CIW80_08365', 'CIW80_21060', 'CIW80_17275', 'CIW80_03040', 'CIW80_18605', 'CIW80_10135', 'CIW80_24875', 'CIW80_09875', 'CIW80_04365', 'CIW80_19580', 'CIW80_01150', 'CIW80_18005', 'CIW80_12390', 'CIW80_00205', 'CIW80_14985', 'CIW80_16850', 'CIW80_22750', 'CIW80_20555', 'CIW80_19695', 'CIW80_18570', 'CIW80_07305', 'CIW80_07750', 'CIW80_18080', 'CIW80_10850', 'CIW80_23040', 'CIW80_08955', 'CIW80_04675', 'CIW80_22085', 'CIW80_14930', 'CIW80_25265', 'CIW80_12235', 'CIW80_00295', 'CIW80_06595', 'CIW80_17755', 'CIW80_20060', 'CIW80_02030', 'CIW80_05665', 'CIW80_21165', 'CIW80_14845', 'CIW80_06175', 'CIW80_06630', 'CIW80_08290', 'CIW80_25330', 'CIW80_07575', 'CIW80_16915', 'CIW80_22055', 'CIW80_16130', 'CIW80_01090', 'CIW80_05025', 'CIW80_17835', 'CIW80_25310', 'CIW80_03650', 'CIW80_00395', 'CIW80_23850', 'CIW80_13755', 'CIW80_08045', 'CIW80_13895', 'CIW80_01455', 'CIW80_14340', 'CIW80_16855', 'CIW80_00540', 'CIW80_03050', 'CIW80_10725', 'CIW80_08980', 'CIW80_04760', 'CIW80_18220', 'CIW80_17405', 'CIW80_11590', 'CIW80_25755', 'CIW80_07045', 'CIW80_08810', 'CIW80_10235', 'CIW80_15975', 'CIW80_08710', 'CIW80_14490', 'CIW80_16795', 'CIW80_00965', 'CIW80_16810', 'CIW80_02710', 'CIW80_06335', 'CIW80_00430', 'CIW80_04485', 'CIW80_11215', 'CIW80_04575', 'CIW80_03645', 'CIW80_01625', 'CIW80_12770', 'CIW80_07475', 'CIW80_23070', 'CIW80_10535', 'CIW80_03530', 'CIW80_03885', 'CIW80_12110', 'CIW80_25320', 'CIW80_18100', 'CIW80_01885', 'CIW80_17170', 'CIW80_02730', 'CIW80_06290', 'CIW80_06325', 'CIW80_16875', 'CIW80_02865', 'CIW80_18110', 'CIW80_03890', 'CIW80_04810', 'CIW80_06155', 'CIW80_04265', 'CIW80_21440', 'CIW80_08270', 'CIW80_21800', 'CIW80_04580', 'CIW80_03000', 'CIW80_09085', 'CIW80_15640', 'CIW80_18055', 'CIW80_04605', 'CIW80_01980', 'CIW80_04495', 'CIW80_20900', 'CIW80_06815', 'CIW80_15105', 'CIW80_13405', 'CIW80_22060', 'CIW80_00665', 'CIW80_15550', 'CIW80_14500', 'CIW80_24035', 'CIW80_08780', 'CIW80_23900', 'CIW80_16865', 'CIW80_15250', 'CIW80_16590', 'CIW80_17260', 'CIW80_24055', 'CIW80_18340', 'CIW80_11790', 'CIW80_06900', 'CIW80_00655', 'CIW80_19945', 'CIW80_21340', 'CIW80_08595', 'CIW80_15080', 'CIW80_24980', 'CIW80_22275', 'CIW80_22385', 'CIW80_14305', 'CIW80_14605', 'CIW80_00585', 'CIW80_17615', 'CIW80_16965', 'CIW80_01985', 'CIW80_21510', 'CIW80_20450', 'CIW80_08320', 'CIW80_02725', 'CIW80_25185', 'CIW80_08965', 'CIW80_20475', 'CIW80_12505', 'CIW80_09220', 'CIW80_15600', 'CIW80_24160', 'CIW80_02045', 'CIW80_00855', 'CIW80_21795', 'CIW80_25735', 'CIW80_12220', 'CIW80_06980', 'CIW80_08565', 'CIW80_19575', 'CIW80_19605', 'CIW80_06660', 'CIW80_12715', 'CIW80_00810', 'CIW80_16735', 'CIW80_10970', 'CIW80_20290', 'CIW80_00155', 'CIW80_23565', 'CIW80_12125', 'CIW80_17850', 'CIW80_21155', 'CIW80_19690', 'CIW80_23805', 'CIW80_09430', 'CIW80_12395', 'CIW80_24715', 'CIW80_04985', 'CIW80_01480', 'CIW80_12455', 'CIW80_25685', 'CIW80_12425', 'CIW80_06625', 'CIW80_23700', 'CIW80_24705', 'CIW80_14550', 'CIW80_06440', 'CIW80_09860', 'CIW80_12155', 'CIW80_00285', 'CIW80_01240', 'CIW80_11290', 'CIW80_06320', 'CIW80_09780', 'CIW80_22430', 'CIW80_02920', 'CIW80_20540', 'CIW80_22890', 'CIW80_20905', 'CIW80_22985', 'CIW80_12295', 'CIW80_11555', 'CIW80_19075', 'CIW80_22900', 'CIW80_04855', 'CIW80_12720', 'CIW80_15920', 'CIW80_11880', 'CIW80_24825', 'CIW80_15020', 'CIW80_04345', 'CIW80_03200', 'CIW80_18255', 'CIW80_09820', 'CIW80_08625', 'CIW80_19120', 'CIW80_12310', 'CIW80_00185', 'CIW80_15835', 'CIW80_19890', 'CIW80_19090', 'CIW80_15985', 'CIW80_18315', 'CIW80_20745', 'CIW80_03585', 'CIW80_20845', 'CIW80_01485', 'CIW80_14935', 'CIW80_22090', 'CIW80_01720', 'CIW80_17245', 'CIW80_20805', 'CIW80_04560', 'CIW80_00800', 'CIW80_19825', 'CIW80_24565', 'CIW80_14730', 'CIW80_08455', 'CIW80_24710', 'CIW80_10705', 'CIW80_21120', 'CIW80_05380', 'CIW80_03305', 'CIW80_22915', 'CIW80_00680', 'CIW80_01730', 'CIW80_23800', 'CIW80_01390', 'CIW80_13380', 'CIW80_19585', 'CIW80_24750', 'CIW80_09015', 'CIW80_20300', 'CIW80_22705', 'CIW80_03340', 'CIW80_06770', 'CIW80_00160', 'CIW80_00720', 'CIW80_10395', 'CIW80_14320', 'CIW80_12920', 'CIW80_02010', 'CIW80_10825', 'CIW80_12080', 'CIW80_10605', 'CIW80_04900', 'CIW80_25105', 'CIW80_03540', 'CIW80_00670', 'CIW80_15255', 'CIW80_21575', 'CIW80_05655'}\n",
      "CU928145 {'CIW80_03090', 'CIW80_22445', 'CIW80_06330', 'CIW80_08295', 'CIW80_15510', 'CIW80_15855', 'CIW80_04745', 'CIW80_11570', 'CIW80_10280', 'CIW80_09630', 'CIW80_05030', 'CIW80_09805', 'CIW80_01880', 'CIW80_04490', 'CIW80_01570', 'CIW80_12380', 'CIW80_23630', 'CIW80_19205', 'CIW80_05650', 'CIW80_13175', 'CIW80_16405', 'CIW80_12135', 'CIW80_23695', 'CIW80_13695', 'CIW80_19755', 'CIW80_00385', 'CIW80_22470', 'CIW80_10845', 'CIW80_23170', 'CIW80_02595', 'CIW80_15595', 'CIW80_10730', 'CIW80_16470', 'CIW80_15525', 'CIW80_25220', 'CIW80_24670', 'CIW80_19975', 'CIW80_22910', 'CIW80_25020', 'CIW80_08855', 'CIW80_18910', 'CIW80_17670', 'CIW80_25400', 'CIW80_07240', 'CIW80_12320', 'CIW80_21645', 'CIW80_11010', 'CIW80_18415', 'CIW80_17360', 'CIW80_06025', 'CIW80_00550', 'CIW80_17750', 'CIW80_00210', 'CIW80_04210', 'CIW80_08165', 'CIW80_18870', 'CIW80_08180', 'CIW80_20505', 'CIW80_10530', 'CIW80_10590', 'CIW80_21745', 'CIW80_15895', 'CIW80_21580', 'CIW80_13215', 'CIW80_24665', 'CIW80_03775', 'CIW80_15310', 'CIW80_17415', 'CIW80_00055', 'CIW80_24500', 'CIW80_01145', 'CIW80_08155', 'CIW80_23045', 'CIW80_25650', 'CIW80_16830', 'CIW80_19590', 'CIW80_21270', 'CIW80_00830', 'CIW80_06145', 'CIW80_08850', 'CIW80_08365', 'CIW80_21060', 'CIW80_03040', 'CIW80_10135', 'CIW80_09875', 'CIW80_19580', 'CIW80_01150', 'CIW80_18005', 'CIW80_12390', 'CIW80_00205', 'CIW80_14985', 'CIW80_12435', 'CIW80_19600', 'CIW80_16850', 'CIW80_20555', 'CIW80_24700', 'CIW80_18570', 'CIW80_07305', 'CIW80_07750', 'CIW80_23040', 'CIW80_08955', 'CIW80_04675', 'CIW80_22085', 'CIW80_14930', 'CIW80_12235', 'CIW80_06595', 'CIW80_17755', 'CIW80_20060', 'CIW80_21165', 'CIW80_14845', 'CIW80_06175', 'CIW80_05905', 'CIW80_08290', 'CIW80_08755', 'CIW80_07550', 'CIW80_24385', 'CIW80_16915', 'CIW80_22055', 'CIW80_16130', 'CIW80_05025', 'CIW80_17835', 'CIW80_00395', 'CIW80_13755', 'CIW80_08045', 'CIW80_13895', 'CIW80_01455', 'CIW80_16855', 'CIW80_00540', 'CIW80_03050', 'CIW80_10725', 'CIW80_04760', 'CIW80_18220', 'CIW80_11590', 'CIW80_14290', 'CIW80_08950', 'CIW80_24735', 'CIW80_07045', 'CIW80_08810', 'CIW80_15975', 'CIW80_08710', 'CIW80_15700', 'CIW80_14490', 'CIW80_21480', 'CIW80_16795', 'CIW80_00965', 'CIW80_16810', 'CIW80_01015', 'CIW80_02710', 'CIW80_15545', 'CIW80_06335', 'CIW80_13870', 'CIW80_00430', 'CIW80_04485', 'CIW80_11215', 'CIW80_04575', 'CIW80_03645', 'CIW80_01625', 'CIW80_12770', 'CIW80_07475', 'CIW80_10535', 'CIW80_02915', 'CIW80_25320', 'CIW80_18100', 'CIW80_01885', 'CIW80_02730', 'CIW80_24410', 'CIW80_06290', 'CIW80_06325', 'CIW80_11810', 'CIW80_16875', 'CIW80_02865', 'CIW80_18110', 'CIW80_03705', 'CIW80_03890', 'CIW80_06155', 'CIW80_04265', 'CIW80_21440', 'CIW80_08270', 'CIW80_21800', 'CIW80_19065', 'CIW80_15640', 'CIW80_18055', 'CIW80_04605', 'CIW80_01980', 'CIW80_04495', 'CIW80_20900', 'CIW80_06815', 'CIW80_15105', 'CIW80_16885', 'CIW80_22060', 'CIW80_15550', 'CIW80_14500', 'CIW80_24035', 'CIW80_08780', 'CIW80_19070', 'CIW80_23900', 'CIW80_15250', 'CIW80_17260', 'CIW80_18340', 'CIW80_11790', 'CIW80_06900', 'CIW80_00655', 'CIW80_19945', 'CIW80_21340', 'CIW80_08595', 'CIW80_15080', 'CIW80_24980', 'CIW80_22275', 'CIW80_22385', 'CIW80_14305', 'CIW80_14605', 'CIW80_19055', 'CIW80_00585', 'CIW80_17615', 'CIW80_16965', 'CIW80_01985', 'CIW80_21510', 'CIW80_20450', 'CIW80_08320', 'CIW80_20475', 'CIW80_12505', 'CIW80_09220', 'CIW80_15600', 'CIW80_24160', 'CIW80_06200', 'CIW80_00855', 'CIW80_15265', 'CIW80_03675', 'CIW80_12220', 'CIW80_08565', 'CIW80_19575', 'CIW80_19605', 'CIW80_06660', 'CIW80_00810', 'CIW80_16735', 'CIW80_20290', 'CIW80_00155', 'CIW80_13375', 'CIW80_12125', 'CIW80_21155', 'CIW80_03695', 'CIW80_19690', 'CIW80_23805', 'CIW80_24715', 'CIW80_01480', 'CIW80_25600', 'CIW80_12455', 'CIW80_03710', 'CIW80_12425', 'CIW80_19535', 'CIW80_06625', 'CIW80_23700', 'CIW80_24705', 'CIW80_14550', 'CIW80_06440', 'CIW80_09860', 'CIW80_11290', 'CIW80_06320', 'CIW80_09780', 'CIW80_22430', 'CIW80_02920', 'CIW80_20540', 'CIW80_03690', 'CIW80_22890', 'CIW80_20905', 'CIW80_11555', 'CIW80_19075', 'CIW80_12720', 'CIW80_15920', 'CIW80_11880', 'CIW80_19540', 'CIW80_00515', 'CIW80_24825', 'CIW80_04345', 'CIW80_01685', 'CIW80_18255', 'CIW80_09820', 'CIW80_17345', 'CIW80_08625', 'CIW80_19120', 'CIW80_12310', 'CIW80_00185', 'CIW80_15835', 'CIW80_19090', 'CIW80_18315', 'CIW80_20745', 'CIW80_01485', 'CIW80_20845', 'CIW80_14935', 'CIW80_22090', 'CIW80_19650', 'CIW80_20805', 'CIW80_00800', 'CIW80_09845', 'CIW80_24565', 'CIW80_10705', 'CIW80_21120', 'CIW80_03635', 'CIW80_05380', 'CIW80_02035', 'CIW80_22915', 'CIW80_03700', 'CIW80_00680', 'CIW80_23800', 'CIW80_01390', 'CIW80_19785', 'CIW80_24750', 'CIW80_09015', 'CIW80_20300', 'CIW80_14450', 'CIW80_03340', 'CIW80_06770', 'CIW80_00160', 'CIW80_00720', 'CIW80_14320', 'CIW80_12920', 'CIW80_10825', 'CIW80_12080', 'CIW80_22775', 'CIW80_10605', 'CIW80_04900', 'CIW80_00670', 'CIW80_15255', 'CIW80_21575', 'CIW80_05655'}\n",
      "AP010958 {'CIW80_22445', 'CIW80_06330', 'CIW80_08295', 'CIW80_15510', 'CIW80_15855', 'CIW80_04745', 'CIW80_11570', 'CIW80_10280', 'CIW80_05030', 'CIW80_06735', 'CIW80_09805', 'CIW80_04425', 'CIW80_01880', 'CIW80_04490', 'CIW80_25340', 'CIW80_01570', 'CIW80_12380', 'CIW80_05650', 'CIW80_13175', 'CIW80_16405', 'CIW80_12135', 'CIW80_13695', 'CIW80_19755', 'CIW80_08720', 'CIW80_22470', 'CIW80_10845', 'CIW80_23170', 'CIW80_02595', 'CIW80_15595', 'CIW80_08310', 'CIW80_10730', 'CIW80_16470', 'CIW80_15525', 'CIW80_25220', 'CIW80_24670', 'CIW80_19975', 'CIW80_22910', 'CIW80_25020', 'CIW80_11525', 'CIW80_18910', 'CIW80_25400', 'CIW80_07240', 'CIW80_12320', 'CIW80_18415', 'CIW80_06025', 'CIW80_00550', 'CIW80_20075', 'CIW80_00210', 'CIW80_04210', 'CIW80_10710', 'CIW80_09230', 'CIW80_16900', 'CIW80_08180', 'CIW80_20505', 'CIW80_10530', 'CIW80_10590', 'CIW80_21745', 'CIW80_21785', 'CIW80_01355', 'CIW80_15895', 'CIW80_21580', 'CIW80_13215', 'CIW80_24665', 'CIW80_03775', 'CIW80_15310', 'CIW80_17415', 'CIW80_00055', 'CIW80_08155', 'CIW80_23045', 'CIW80_25650', 'CIW80_00065', 'CIW80_21270', 'CIW80_19335', 'CIW80_00830', 'CIW80_06145', 'CIW80_08365', 'CIW80_09745', 'CIW80_21060', 'CIW80_17000', 'CIW80_17275', 'CIW80_03040', 'CIW80_18605', 'CIW80_10135', 'CIW80_09875', 'CIW80_01150', 'CIW80_18005', 'CIW80_12390', 'CIW80_07640', 'CIW80_08915', 'CIW80_00205', 'CIW80_19990', 'CIW80_14985', 'CIW80_12435', 'CIW80_19600', 'CIW80_16850', 'CIW80_20555', 'CIW80_19695', 'CIW80_24700', 'CIW80_18570', 'CIW80_08960', 'CIW80_07305', 'CIW80_07750', 'CIW80_24310', 'CIW80_10850', 'CIW80_23040', 'CIW80_04675', 'CIW80_22085', 'CIW80_14930', 'CIW80_12235', 'CIW80_06595', 'CIW80_17755', 'CIW80_08775', 'CIW80_20060', 'CIW80_05665', 'CIW80_21165', 'CIW80_14845', 'CIW80_06175', 'CIW80_05905', 'CIW80_06630', 'CIW80_07805', 'CIW80_08290', 'CIW80_16915', 'CIW80_22055', 'CIW80_02130', 'CIW80_16130', 'CIW80_05025', 'CIW80_17835', 'CIW80_25310', 'CIW80_00395', 'CIW80_15950', 'CIW80_23850', 'CIW80_13230', 'CIW80_13755', 'CIW80_03550', 'CIW80_03995', 'CIW80_08045', 'CIW80_13895', 'CIW80_01455', 'CIW80_14340', 'CIW80_00540', 'CIW80_03050', 'CIW80_10725', 'CIW80_04760', 'CIW80_11590', 'CIW80_03640', 'CIW80_13390', 'CIW80_14290', 'CIW80_23600', 'CIW80_08950', 'CIW80_24735', 'CIW80_07045', 'CIW80_00500', 'CIW80_15975', 'CIW80_08710', 'CIW80_14490', 'CIW80_21480', 'CIW80_00965', 'CIW80_01015', 'CIW80_02710', 'CIW80_15545', 'CIW80_06335', 'CIW80_13870', 'CIW80_19140', 'CIW80_00430', 'CIW80_04485', 'CIW80_11215', 'CIW80_04575', 'CIW80_03645', 'CIW80_02265', 'CIW80_01625', 'CIW80_12770', 'CIW80_07475', 'CIW80_24250', 'CIW80_23070', 'CIW80_10535', 'CIW80_03530', 'CIW80_03885', 'CIW80_25320', 'CIW80_17170', 'CIW80_02730', 'CIW80_03545', 'CIW80_06290', 'CIW80_11810', 'CIW80_16875', 'CIW80_02865', 'CIW80_18110', 'CIW80_03890', 'CIW80_04810', 'CIW80_06155', 'CIW80_04265', 'CIW80_17200', 'CIW80_08270', 'CIW80_21800', 'CIW80_04580', 'CIW80_03000', 'CIW80_19065', 'CIW80_15640', 'CIW80_04495', 'CIW80_04605', 'CIW80_20900', 'CIW80_06815', 'CIW80_15105', 'CIW80_22060', 'CIW80_15550', 'CIW80_14500', 'CIW80_19070', 'CIW80_17140', 'CIW80_16865', 'CIW80_15250', 'CIW80_17260', 'CIW80_18340', 'CIW80_11790', 'CIW80_06900', 'CIW80_00655', 'CIW80_19945', 'CIW80_04595', 'CIW80_21340', 'CIW80_16330', 'CIW80_08595', 'CIW80_15080', 'CIW80_24980', 'CIW80_22275', 'CIW80_22385', 'CIW80_14305', 'CIW80_14605', 'CIW80_15285', 'CIW80_00585', 'CIW80_17615', 'CIW80_01985', 'CIW80_21510', 'CIW80_20450', 'CIW80_08320', 'CIW80_02725', 'CIW80_20475', 'CIW80_15600', 'CIW80_24160', 'CIW80_06200', 'CIW80_00855', 'CIW80_03675', 'CIW80_12220', 'CIW80_08565', 'CIW80_19575', 'CIW80_19605', 'CIW80_06660', 'CIW80_20290', 'CIW80_00155', 'CIW80_13635', 'CIW80_13375', 'CIW80_12125', 'CIW80_21155', 'CIW80_03695', 'CIW80_09430', 'CIW80_12395', 'CIW80_24715', 'CIW80_01480', 'CIW80_12455', 'CIW80_25685', 'CIW80_03710', 'CIW80_12425', 'CIW80_19535', 'CIW80_06625', 'CIW80_23700', 'CIW80_24705', 'CIW80_14550', 'CIW80_06440', 'CIW80_09860', 'CIW80_23145', 'CIW80_24375', 'CIW80_11290', 'CIW80_06320', 'CIW80_09780', 'CIW80_22430', 'CIW80_02920', 'CIW80_20540', 'CIW80_03690', 'CIW80_22890', 'CIW80_23130', 'CIW80_20905', 'CIW80_22985', 'CIW80_12295', 'CIW80_18885', 'CIW80_11555', 'CIW80_19075', 'CIW80_12720', 'CIW80_15920', 'CIW80_11880', 'CIW80_04850', 'CIW80_00515', 'CIW80_24825', 'CIW80_04345', 'CIW80_16910', 'CIW80_18255', 'CIW80_09820', 'CIW80_17345', 'CIW80_08625', 'CIW80_19120', 'CIW80_12310', 'CIW80_00185', 'CIW80_15835', 'CIW80_19890', 'CIW80_19090', 'CIW80_15985', 'CIW80_18315', 'CIW80_20745', 'CIW80_20845', 'CIW80_20800', 'CIW80_14935', 'CIW80_22090', 'CIW80_04875', 'CIW80_01720', 'CIW80_17245', 'CIW80_04560', 'CIW80_00800', 'CIW80_09845', 'CIW80_11320', 'CIW80_19825', 'CIW80_24565', 'CIW80_24710', 'CIW80_10705', 'CIW80_23845', 'CIW80_21120', 'CIW80_05380', 'CIW80_02035', 'CIW80_03700', 'CIW80_16860', 'CIW80_00680', 'CIW80_01730', 'CIW80_03535', 'CIW80_23800', 'CIW80_01390', 'CIW80_19785', 'CIW80_19585', 'CIW80_24750', 'CIW80_09015', 'CIW80_20300', 'CIW80_14450', 'CIW80_03340', 'CIW80_06770', 'CIW80_00160', 'CIW80_00720', 'CIW80_14320', 'CIW80_12920', 'CIW80_02010', 'CIW80_10825', 'CIW80_12080', 'CIW80_22775', 'CIW80_09390', 'CIW80_10605', 'CIW80_04900', 'CIW80_03540', 'CIW80_00670', 'CIW80_15255', 'CIW80_21575', 'CIW80_15740', 'CIW80_05655'}\n",
      "AP010960 {'CIW80_22445', 'CIW80_06330', 'CIW80_08295', 'CIW80_15510', 'CIW80_15855', 'CIW80_04745', 'CIW80_11570', 'CIW80_10280', 'CIW80_05030', 'CIW80_06735', 'CIW80_09805', 'CIW80_04425', 'CIW80_01880', 'CIW80_04490', 'CIW80_25340', 'CIW80_01570', 'CIW80_12380', 'CIW80_02890', 'CIW80_24325', 'CIW80_05650', 'CIW80_13175', 'CIW80_16405', 'CIW80_12135', 'CIW80_13695', 'CIW80_19755', 'CIW80_08720', 'CIW80_22470', 'CIW80_10845', 'CIW80_23170', 'CIW80_23115', 'CIW80_02595', 'CIW80_15595', 'CIW80_08310', 'CIW80_07255', 'CIW80_10730', 'CIW80_16470', 'CIW80_15525', 'CIW80_25220', 'CIW80_24670', 'CIW80_19975', 'CIW80_22910', 'CIW80_25020', 'CIW80_08855', 'CIW80_08790', 'CIW80_11525', 'CIW80_18910', 'CIW80_25400', 'CIW80_12320', 'CIW80_18415', 'CIW80_06025', 'CIW80_00550', 'CIW80_20075', 'CIW80_00210', 'CIW80_04210', 'CIW80_10710', 'CIW80_09230', 'CIW80_15195', 'CIW80_08180', 'CIW80_20505', 'CIW80_10530', 'CIW80_10590', 'CIW80_21745', 'CIW80_21785', 'CIW80_01355', 'CIW80_15895', 'CIW80_21580', 'CIW80_13215', 'CIW80_24665', 'CIW80_03775', 'CIW80_15310', 'CIW80_17415', 'CIW80_00055', 'CIW80_08155', 'CIW80_23045', 'CIW80_25650', 'CIW80_00065', 'CIW80_21270', 'CIW80_19200', 'CIW80_00830', 'CIW80_01115', 'CIW80_06145', 'CIW80_08850', 'CIW80_08365', 'CIW80_09745', 'CIW80_21060', 'CIW80_17275', 'CIW80_03040', 'CIW80_18605', 'CIW80_10135', 'CIW80_09875', 'CIW80_01150', 'CIW80_18005', 'CIW80_12390', 'CIW80_00205', 'CIW80_19990', 'CIW80_14985', 'CIW80_12435', 'CIW80_19600', 'CIW80_20555', 'CIW80_19695', 'CIW80_24700', 'CIW80_18570', 'CIW80_07305', 'CIW80_07750', 'CIW80_10850', 'CIW80_23040', 'CIW80_04675', 'CIW80_22085', 'CIW80_14930', 'CIW80_12235', 'CIW80_06595', 'CIW80_17755', 'CIW80_24420', 'CIW80_20060', 'CIW80_05665', 'CIW80_21165', 'CIW80_23120', 'CIW80_14845', 'CIW80_06175', 'CIW80_05905', 'CIW80_06630', 'CIW80_08290', 'CIW80_03045', 'CIW80_08755', 'CIW80_22055', 'CIW80_16130', 'CIW80_05025', 'CIW80_17835', 'CIW80_25310', 'CIW80_00395', 'CIW80_15950', 'CIW80_23850', 'CIW80_13755', 'CIW80_03550', 'CIW80_08045', 'CIW80_13895', 'CIW80_01455', 'CIW80_14340', 'CIW80_00540', 'CIW80_23445', 'CIW80_03050', 'CIW80_10725', 'CIW80_04760', 'CIW80_11590', 'CIW80_13390', 'CIW80_14290', 'CIW80_23600', 'CIW80_24735', 'CIW80_07045', 'CIW80_08710', 'CIW80_14490', 'CIW80_21480', 'CIW80_00965', 'CIW80_01015', 'CIW80_02710', 'CIW80_24560', 'CIW80_15545', 'CIW80_06335', 'CIW80_13870', 'CIW80_00430', 'CIW80_04485', 'CIW80_11215', 'CIW80_04575', 'CIW80_01625', 'CIW80_12770', 'CIW80_07475', 'CIW80_23185', 'CIW80_24250', 'CIW80_23070', 'CIW80_10535', 'CIW80_03530', 'CIW80_02915', 'CIW80_25320', 'CIW80_01885', 'CIW80_17170', 'CIW80_02730', 'CIW80_03545', 'CIW80_06290', 'CIW80_11810', 'CIW80_02865', 'CIW80_18110', 'CIW80_03890', 'CIW80_06155', 'CIW80_04265', 'CIW80_17200', 'CIW80_08270', 'CIW80_21800', 'CIW80_04580', 'CIW80_03000', 'CIW80_15640', 'CIW80_04495', 'CIW80_04605', 'CIW80_20900', 'CIW80_06815', 'CIW80_15105', 'CIW80_24435', 'CIW80_22060', 'CIW80_15550', 'CIW80_14500', 'CIW80_08780', 'CIW80_15250', 'CIW80_17260', 'CIW80_18340', 'CIW80_11790', 'CIW80_06900', 'CIW80_00655', 'CIW80_17150', 'CIW80_19945', 'CIW80_04595', 'CIW80_21340', 'CIW80_08595', 'CIW80_15080', 'CIW80_24980', 'CIW80_22275', 'CIW80_22385', 'CIW80_14305', 'CIW80_14605', 'CIW80_15285', 'CIW80_00585', 'CIW80_17615', 'CIW80_01985', 'CIW80_21510', 'CIW80_23440', 'CIW80_20450', 'CIW80_08320', 'CIW80_02725', 'CIW80_20475', 'CIW80_09220', 'CIW80_15600', 'CIW80_01120', 'CIW80_24160', 'CIW80_06200', 'CIW80_00855', 'CIW80_15265', 'CIW80_12220', 'CIW80_08565', 'CIW80_19605', 'CIW80_06660', 'CIW80_16735', 'CIW80_20290', 'CIW80_13375', 'CIW80_12125', 'CIW80_21155', 'CIW80_09430', 'CIW80_12395', 'CIW80_24715', 'CIW80_01480', 'CIW80_12455', 'CIW80_25685', 'CIW80_12425', 'CIW80_06625', 'CIW80_23700', 'CIW80_24705', 'CIW80_14550', 'CIW80_06440', 'CIW80_09860', 'CIW80_23145', 'CIW80_11290', 'CIW80_06320', 'CIW80_09780', 'CIW80_22430', 'CIW80_02920', 'CIW80_20540', 'CIW80_22890', 'CIW80_23130', 'CIW80_20905', 'CIW80_22985', 'CIW80_12295', 'CIW80_11555', 'CIW80_12720', 'CIW80_15920', 'CIW80_24390', 'CIW80_11880', 'CIW80_02555', 'CIW80_00515', 'CIW80_24825', 'CIW80_04345', 'CIW80_18255', 'CIW80_09820', 'CIW80_17345', 'CIW80_08625', 'CIW80_12310', 'CIW80_00185', 'CIW80_15835', 'CIW80_18315', 'CIW80_20745', 'CIW80_03585', 'CIW80_20845', 'CIW80_02885', 'CIW80_14935', 'CIW80_22090', 'CIW80_01720', 'CIW80_17245', 'CIW80_04560', 'CIW80_00800', 'CIW80_11320', 'CIW80_19825', 'CIW80_24565', 'CIW80_03820', 'CIW80_10705', 'CIW80_23845', 'CIW80_21120', 'CIW80_05380', 'CIW80_02035', 'CIW80_00680', 'CIW80_01730', 'CIW80_03535', 'CIW80_23800', 'CIW80_01390', 'CIW80_19785', 'CIW80_09015', 'CIW80_20300', 'CIW80_14450', 'CIW80_03340', 'CIW80_06770', 'CIW80_00160', 'CIW80_00720', 'CIW80_14320', 'CIW80_12920', 'CIW80_02010', 'CIW80_10825', 'CIW80_12080', 'CIW80_22775', 'CIW80_09390', 'CIW80_10605', 'CIW80_04900', 'CIW80_03540', 'CIW80_00670', 'CIW80_15255', 'CIW80_21575', 'CIW80_08705', 'CIW80_05655'}\n"
     ]
    },
    {
     "name": "stdout",
     "output_type": "stream",
     "text": [
      "CP001164 {'CIW80_22445', 'CIW80_06330', 'CIW80_08295', 'CIW80_15510', 'CIW80_15855', 'CIW80_04745', 'CIW80_11570', 'CIW80_08630', 'CIW80_10835', 'CIW80_02905', 'CIW80_10280', 'CIW80_09630', 'CIW80_05030', 'CIW80_06735', 'CIW80_09805', 'CIW80_04425', 'CIW80_01880', 'CIW80_04490', 'CIW80_25340', 'CIW80_12160', 'CIW80_01570', 'CIW80_12380', 'CIW80_07180', 'CIW80_24325', 'CIW80_05650', 'CIW80_13175', 'CIW80_16405', 'CIW80_23165', 'CIW80_03525', 'CIW80_12135', 'CIW80_15680', 'CIW80_13695', 'CIW80_19755', 'CIW80_08720', 'CIW80_22470', 'CIW80_00300', 'CIW80_00715', 'CIW80_23170', 'CIW80_17790', 'CIW80_23115', 'CIW80_15595', 'CIW80_07515', 'CIW80_08460', 'CIW80_10730', 'CIW80_02835', 'CIW80_00920', 'CIW80_15525', 'CIW80_19145', 'CIW80_25220', 'CIW80_25510', 'CIW80_19975', 'CIW80_24610', 'CIW80_20310', 'CIW80_08855', 'CIW80_24975', 'CIW80_02830', 'CIW80_19150', 'CIW80_11760', 'CIW80_11525', 'CIW80_18910', 'CIW80_17670', 'CIW80_25400', 'CIW80_04825', 'CIW80_06025', 'CIW80_00550', 'CIW80_12115', 'CIW80_20075', 'CIW80_00210', 'CIW80_07525', 'CIW80_01085', 'CIW80_04210', 'CIW80_10710', 'CIW80_16900', 'CIW80_15195', 'CIW80_22920', 'CIW80_19780', 'CIW80_25215', 'CIW80_08180', 'CIW80_20505', 'CIW80_14015', 'CIW80_10530', 'CIW80_10590', 'CIW80_21745', 'CIW80_21785', 'CIW80_15895', 'CIW80_21580', 'CIW80_03775', 'CIW80_15310', 'CIW80_17305', 'CIW80_25395', 'CIW80_17415', 'CIW80_00055', 'CIW80_16685', 'CIW80_13770', 'CIW80_08155', 'CIW80_23045', 'CIW80_25650', 'CIW80_00065', 'CIW80_19200', 'CIW80_00830', 'CIW80_06145', 'CIW80_08365', 'CIW80_21060', 'CIW80_03040', 'CIW80_05085', 'CIW80_18605', 'CIW80_10135', 'CIW80_09875', 'CIW80_04365', 'CIW80_19580', 'CIW80_01150', 'CIW80_18005', 'CIW80_12390', 'CIW80_13240', 'CIW80_25515', 'CIW80_09460', 'CIW80_00205', 'CIW80_11280', 'CIW80_19990', 'CIW80_14985', 'CIW80_12435', 'CIW80_19600', 'CIW80_22750', 'CIW80_20555', 'CIW80_24350', 'CIW80_18570', 'CIW80_07305', 'CIW80_19725', 'CIW80_16505', 'CIW80_07750', 'CIW80_18080', 'CIW80_10850', 'CIW80_23040', 'CIW80_04675', 'CIW80_22085', 'CIW80_25265', 'CIW80_12235', 'CIW80_14485', 'CIW80_06595', 'CIW80_00345', 'CIW80_17755', 'CIW80_00350', 'CIW80_20060', 'CIW80_05665', 'CIW80_21165', 'CIW80_23120', 'CIW80_14845', 'CIW80_24330', 'CIW80_06175', 'CIW80_06630', 'CIW80_08290', 'CIW80_05765', 'CIW80_03045', 'CIW80_24050', 'CIW80_07550', 'CIW80_24385', 'CIW80_07575', 'CIW80_22055', 'CIW80_16130', 'CIW80_08840', 'CIW80_01090', 'CIW80_05025', 'CIW80_17835', 'CIW80_25310', 'CIW80_05170', 'CIW80_00395', 'CIW80_23850', 'CIW80_13755', 'CIW80_15215', 'CIW80_08045', 'CIW80_13895', 'CIW80_01455', 'CIW80_14340', 'CIW80_03315', 'CIW80_00540', 'CIW80_07185', 'CIW80_00075', 'CIW80_23445', 'CIW80_03050', 'CIW80_04760', 'CIW80_11590', 'CIW80_13390', 'CIW80_23600', 'CIW80_21985', 'CIW80_06530', 'CIW80_24735', 'CIW80_07045', 'CIW80_07615', 'CIW80_15975', 'CIW80_14490', 'CIW80_00965', 'CIW80_00100', 'CIW80_01015', 'CIW80_02710', 'CIW80_19700', 'CIW80_16020', 'CIW80_04385', 'CIW80_15545', 'CIW80_06335', 'CIW80_00430', 'CIW80_04485', 'CIW80_11215', 'CIW80_04575', 'CIW80_20080', 'CIW80_01625', 'CIW80_24250', 'CIW80_12770', 'CIW80_23185', 'CIW80_07475', 'CIW80_23070', 'CIW80_23260', 'CIW80_10535', 'CIW80_03530', 'CIW80_08145', 'CIW80_25320', 'CIW80_18100', 'CIW80_12350', 'CIW80_17170', 'CIW80_21425', 'CIW80_03545', 'CIW80_06290', 'CIW80_17350', 'CIW80_22145', 'CIW80_02865', 'CIW80_18110', 'CIW80_04655', 'CIW80_03890', 'CIW80_06155', 'CIW80_04265', 'CIW80_21440', 'CIW80_06940', 'CIW80_17200', 'CIW80_08270', 'CIW80_21800', 'CIW80_04580', 'CIW80_03000', 'CIW80_15640', 'CIW80_15760', 'CIW80_18055', 'CIW80_04605', 'CIW80_01980', 'CIW80_00405', 'CIW80_04495', 'CIW80_20900', 'CIW80_06815', 'CIW80_15105', 'CIW80_13405', 'CIW80_22060', 'CIW80_15550', 'CIW80_14500', 'CIW80_24035', 'CIW80_00910', 'CIW80_19775', 'CIW80_15250', 'CIW80_08795', 'CIW80_16590', 'CIW80_17260', 'CIW80_16700', 'CIW80_18340', 'CIW80_11790', 'CIW80_06900', 'CIW80_00655', 'CIW80_05300', 'CIW80_17150', 'CIW80_12790', 'CIW80_04595', 'CIW80_21340', 'CIW80_16330', 'CIW80_08595', 'CIW80_03035', 'CIW80_24980', 'CIW80_22275', 'CIW80_22385', 'CIW80_14305', 'CIW80_08330', 'CIW80_14605', 'CIW80_16800', 'CIW80_00585', 'CIW80_17615', 'CIW80_04125', 'CIW80_22120', 'CIW80_01985', 'CIW80_13170', 'CIW80_25725', 'CIW80_21510', 'CIW80_23440', 'CIW80_09710', 'CIW80_20450', 'CIW80_08320', 'CIW80_20475', 'CIW80_15600', 'CIW80_24160', 'CIW80_24465', 'CIW80_06200', 'CIW80_17555', 'CIW80_08465', 'CIW80_00855', 'CIW80_06890', 'CIW80_12220', 'CIW80_08565', 'CIW80_19575', 'CIW80_19605', 'CIW80_06660', 'CIW80_00810', 'CIW80_10970', 'CIW80_05980', 'CIW80_00155', 'CIW80_19450', 'CIW80_21155', 'CIW80_19690', 'CIW80_23805', 'CIW80_20810', 'CIW80_09430', 'CIW80_19720', 'CIW80_24715', 'CIW80_01480', 'CIW80_23125', 'CIW80_12455', 'CIW80_25685', 'CIW80_12425', 'CIW80_19535', 'CIW80_14540', 'CIW80_06625', 'CIW80_23700', 'CIW80_24705', 'CIW80_14550', 'CIW80_00305', 'CIW80_23875', 'CIW80_06440', 'CIW80_09860', 'CIW80_23145', 'CIW80_00285', 'CIW80_11290', 'CIW80_09780', 'CIW80_22430', 'CIW80_24320', 'CIW80_02920', 'CIW80_20540', 'CIW80_08645', 'CIW80_22890', 'CIW80_23130', 'CIW80_17285', 'CIW80_20905', 'CIW80_18905', 'CIW80_22985', 'CIW80_12295', 'CIW80_11555', 'CIW80_04855', 'CIW80_10195', 'CIW80_12720', 'CIW80_15920', 'CIW80_19540', 'CIW80_04850', 'CIW80_00515', 'CIW80_24825', 'CIW80_16695', 'CIW80_09820', 'CIW80_18255', 'CIW80_08625', 'CIW80_12310', 'CIW80_13700', 'CIW80_00185', 'CIW80_13185', 'CIW80_15835', 'CIW80_19890', 'CIW80_25430', 'CIW80_15985', 'CIW80_20685', 'CIW80_20745', 'CIW80_03585', 'CIW80_03005', 'CIW80_20800', 'CIW80_14935', 'CIW80_22090', 'CIW80_21555', 'CIW80_04875', 'CIW80_00960', 'CIW80_01720', 'CIW80_17245', 'CIW80_10185', 'CIW80_04560', 'CIW80_00800', 'CIW80_09845', 'CIW80_11320', 'CIW80_19825', 'CIW80_24565', 'CIW80_23015', 'CIW80_24710', 'CIW80_10705', 'CIW80_23845', 'CIW80_15750', 'CIW80_21120', 'CIW80_05740', 'CIW80_05380', 'CIW80_02035', 'CIW80_22915', 'CIW80_07565', 'CIW80_00680', 'CIW80_01730', 'CIW80_23800', 'CIW80_19785', 'CIW80_19585', 'CIW80_09015', 'CIW80_24470', 'CIW80_00160', 'CIW80_00720', 'CIW80_14320', 'CIW80_12920', 'CIW80_10825', 'CIW80_11485', 'CIW80_22775', 'CIW80_09390', 'CIW80_10605', 'CIW80_04900', 'CIW80_00455', 'CIW80_03540', 'CIW80_00670', 'CIW80_15255', 'CIW80_21575', 'CIW80_08705', 'CIW80_05655', 'CIW80_01380'}\n",
      "AE005174 {'CIW80_22445', 'CIW80_21005', 'CIW80_06330', 'CIW80_08295', 'CIW80_15510', 'CIW80_15855', 'CIW80_04745', 'CIW80_11570', 'CIW80_08630', 'CIW80_10280', 'CIW80_05030', 'CIW80_09805', 'CIW80_04425', 'CIW80_01880', 'CIW80_04490', 'CIW80_25340', 'CIW80_12160', 'CIW80_01570', 'CIW80_12380', 'CIW80_05650', 'CIW80_13175', 'CIW80_16405', 'CIW80_12135', 'CIW80_13695', 'CIW80_19755', 'CIW80_08720', 'CIW80_22470', 'CIW80_10845', 'CIW80_00715', 'CIW80_23170', 'CIW80_23115', 'CIW80_02595', 'CIW80_15595', 'CIW80_10730', 'CIW80_16470', 'CIW80_02835', 'CIW80_15525', 'CIW80_25220', 'CIW80_19975', 'CIW80_24610', 'CIW80_04685', 'CIW80_22910', 'CIW80_25020', 'CIW80_08855', 'CIW80_02830', 'CIW80_18910', 'CIW80_25400', 'CIW80_12320', 'CIW80_21645', 'CIW80_18415', 'CIW80_06025', 'CIW80_00550', 'CIW80_12115', 'CIW80_20075', 'CIW80_00210', 'CIW80_04210', 'CIW80_10710', 'CIW80_08165', 'CIW80_16900', 'CIW80_15195', 'CIW80_22920', 'CIW80_08180', 'CIW80_20505', 'CIW80_10530', 'CIW80_10590', 'CIW80_21745', 'CIW80_21785', 'CIW80_01355', 'CIW80_15895', 'CIW80_21580', 'CIW80_03775', 'CIW80_15310', 'CIW80_17415', 'CIW80_00055', 'CIW80_24900', 'CIW80_16685', 'CIW80_01145', 'CIW80_08155', 'CIW80_23045', 'CIW80_25650', 'CIW80_19590', 'CIW80_19200', 'CIW80_00830', 'CIW80_06145', 'CIW80_08850', 'CIW80_08365', 'CIW80_09745', 'CIW80_21060', 'CIW80_12700', 'CIW80_17275', 'CIW80_03040', 'CIW80_18605', 'CIW80_10135', 'CIW80_09875', 'CIW80_19580', 'CIW80_01150', 'CIW80_18005', 'CIW80_12390', 'CIW80_00205', 'CIW80_19990', 'CIW80_14985', 'CIW80_12435', 'CIW80_19600', 'CIW80_20555', 'CIW80_19695', 'CIW80_18715', 'CIW80_18570', 'CIW80_07305', 'CIW80_07750', 'CIW80_02720', 'CIW80_10850', 'CIW80_23040', 'CIW80_04675', 'CIW80_22085', 'CIW80_14930', 'CIW80_12235', 'CIW80_06595', 'CIW80_17755', 'CIW80_20060', 'CIW80_05665', 'CIW80_21165', 'CIW80_23120', 'CIW80_14845', 'CIW80_06175', 'CIW80_08290', 'CIW80_17485', 'CIW80_03045', 'CIW80_07550', 'CIW80_24385', 'CIW80_07575', 'CIW80_22055', 'CIW80_16130', 'CIW80_08840', 'CIW80_05025', 'CIW80_17835', 'CIW80_25310', 'CIW80_00395', 'CIW80_23850', 'CIW80_13755', 'CIW80_08045', 'CIW80_02075', 'CIW80_13895', 'CIW80_01455', 'CIW80_14340', 'CIW80_03315', 'CIW80_00540', 'CIW80_23445', 'CIW80_03050', 'CIW80_10725', 'CIW80_04760', 'CIW80_11590', 'CIW80_13390', 'CIW80_14290', 'CIW80_23600', 'CIW80_21985', 'CIW80_24735', 'CIW80_07045', 'CIW80_15975', 'CIW80_08710', 'CIW80_15700', 'CIW80_14490', 'CIW80_21480', 'CIW80_00965', 'CIW80_01015', 'CIW80_02710', 'CIW80_15545', 'CIW80_06335', 'CIW80_00430', 'CIW80_04485', 'CIW80_11215', 'CIW80_04575', 'CIW80_01625', 'CIW80_12770', 'CIW80_23185', 'CIW80_07475', 'CIW80_24250', 'CIW80_23070', 'CIW80_10535', 'CIW80_03530', 'CIW80_12110', 'CIW80_25320', 'CIW80_01885', 'CIW80_17170', 'CIW80_02730', 'CIW80_03545', 'CIW80_06290', 'CIW80_02865', 'CIW80_18110', 'CIW80_04655', 'CIW80_03890', 'CIW80_04810', 'CIW80_06155', 'CIW80_04265', 'CIW80_21440', 'CIW80_06940', 'CIW80_17200', 'CIW80_08270', 'CIW80_21800', 'CIW80_04580', 'CIW80_03000', 'CIW80_15640', 'CIW80_18055', 'CIW80_04605', 'CIW80_01980', 'CIW80_04495', 'CIW80_20900', 'CIW80_06815', 'CIW80_15105', 'CIW80_22060', 'CIW80_15550', 'CIW80_14500', 'CIW80_15250', 'CIW80_17260', 'CIW80_16700', 'CIW80_18340', 'CIW80_11790', 'CIW80_06900', 'CIW80_00655', 'CIW80_17150', 'CIW80_04595', 'CIW80_21340', 'CIW80_08595', 'CIW80_15080', 'CIW80_24980', 'CIW80_22275', 'CIW80_22385', 'CIW80_14605', 'CIW80_15285', 'CIW80_16800', 'CIW80_00585', 'CIW80_17615', 'CIW80_01985', 'CIW80_21510', 'CIW80_23440', 'CIW80_24400', 'CIW80_20450', 'CIW80_08320', 'CIW80_02725', 'CIW80_25185', 'CIW80_20475', 'CIW80_15600', 'CIW80_24160', 'CIW80_06200', 'CIW80_00855', 'CIW80_25735', 'CIW80_12220', 'CIW80_08565', 'CIW80_19605', 'CIW80_00810', 'CIW80_10970', 'CIW80_20290', 'CIW80_00155', 'CIW80_19450', 'CIW80_13375', 'CIW80_21155', 'CIW80_23805', 'CIW80_12395', 'CIW80_24715', 'CIW80_04985', 'CIW80_01480', 'CIW80_06500', 'CIW80_12455', 'CIW80_25685', 'CIW80_12425', 'CIW80_19535', 'CIW80_06625', 'CIW80_23700', 'CIW80_24705', 'CIW80_14550', 'CIW80_06440', 'CIW80_09860', 'CIW80_12155', 'CIW80_23145', 'CIW80_00285', 'CIW80_11290', 'CIW80_09780', 'CIW80_22430', 'CIW80_02920', 'CIW80_20540', 'CIW80_08645', 'CIW80_22890', 'CIW80_20905', 'CIW80_22985', 'CIW80_12295', 'CIW80_11555', 'CIW80_12720', 'CIW80_15920', 'CIW80_11880', 'CIW80_04850', 'CIW80_00515', 'CIW80_24825', 'CIW80_16695', 'CIW80_09820', 'CIW80_18255', 'CIW80_17345', 'CIW80_08625', 'CIW80_12310', 'CIW80_00185', 'CIW80_15835', 'CIW80_19890', 'CIW80_04835', 'CIW80_15985', 'CIW80_18315', 'CIW80_20745', 'CIW80_03585', 'CIW80_20845', 'CIW80_01485', 'CIW80_20800', 'CIW80_22090', 'CIW80_04875', 'CIW80_00960', 'CIW80_01720', 'CIW80_17245', 'CIW80_04560', 'CIW80_00800', 'CIW80_09845', 'CIW80_11320', 'CIW80_19825', 'CIW80_24565', 'CIW80_24710', 'CIW80_10705', 'CIW80_23845', 'CIW80_21120', 'CIW80_05380', 'CIW80_02035', 'CIW80_00680', 'CIW80_01730', 'CIW80_03535', 'CIW80_23800', 'CIW80_01390', 'CIW80_19785', 'CIW80_17320', 'CIW80_24750', 'CIW80_09015', 'CIW80_20300', 'CIW80_03340', 'CIW80_06770', 'CIW80_00160', 'CIW80_00720', 'CIW80_14320', 'CIW80_12920', 'CIW80_02010', 'CIW80_10825', 'CIW80_12080', 'CIW80_22775', 'CIW80_09390', 'CIW80_10605', 'CIW80_04900', 'CIW80_03540', 'CIW80_00670', 'CIW80_15255', 'CIW80_21575', 'CIW80_08705', 'CIW80_05655'}\n",
      "BA000007 {'CIW80_22445', 'CIW80_06330', 'CIW80_08295', 'CIW80_15510', 'CIW80_15855', 'CIW80_04745', 'CIW80_11570', 'CIW80_10280', 'CIW80_09630', 'CIW80_05030', 'CIW80_06735', 'CIW80_09805', 'CIW80_04425', 'CIW80_01880', 'CIW80_04490', 'CIW80_25340', 'CIW80_12160', 'CIW80_01570', 'CIW80_12380', 'CIW80_05650', 'CIW80_13175', 'CIW80_16405', 'CIW80_23165', 'CIW80_12135', 'CIW80_13695', 'CIW80_19755', 'CIW80_08720', 'CIW80_22470', 'CIW80_10845', 'CIW80_00715', 'CIW80_23170', 'CIW80_17790', 'CIW80_23115', 'CIW80_02595', 'CIW80_15595', 'CIW80_10730', 'CIW80_16470', 'CIW80_02835', 'CIW80_15525', 'CIW80_19145', 'CIW80_25220', 'CIW80_25510', 'CIW80_19975', 'CIW80_24610', 'CIW80_22910', 'CIW80_25020', 'CIW80_08855', 'CIW80_02830', 'CIW80_11760', 'CIW80_11525', 'CIW80_18910', 'CIW80_17670', 'CIW80_25400', 'CIW80_12320', 'CIW80_18415', 'CIW80_06025', 'CIW80_01845', 'CIW80_00550', 'CIW80_00915', 'CIW80_12115', 'CIW80_20075', 'CIW80_00210', 'CIW80_04210', 'CIW80_10710', 'CIW80_16900', 'CIW80_15195', 'CIW80_22920', 'CIW80_08180', 'CIW80_20505', 'CIW80_10530', 'CIW80_10590', 'CIW80_21745', 'CIW80_21785', 'CIW80_01355', 'CIW80_15895', 'CIW80_21580', 'CIW80_03775', 'CIW80_15310', 'CIW80_17305', 'CIW80_17415', 'CIW80_00055', 'CIW80_24900', 'CIW80_16685', 'CIW80_08155', 'CIW80_23045', 'CIW80_25650', 'CIW80_00065', 'CIW80_12330', 'CIW80_19200', 'CIW80_00830', 'CIW80_06145', 'CIW80_08850', 'CIW80_03310', 'CIW80_08365', 'CIW80_09745', 'CIW80_21060', 'CIW80_17275', 'CIW80_03040', 'CIW80_18605', 'CIW80_10135', 'CIW80_09875', 'CIW80_04365', 'CIW80_19580', 'CIW80_01150', 'CIW80_18005', 'CIW80_12390', 'CIW80_09460', 'CIW80_00205', 'CIW80_19990', 'CIW80_14985', 'CIW80_12435', 'CIW80_19600', 'CIW80_20555', 'CIW80_19695', 'CIW80_18570', 'CIW80_07305', 'CIW80_07750', 'CIW80_10850', 'CIW80_23040', 'CIW80_04675', 'CIW80_22085', 'CIW80_14930', 'CIW80_12235', 'CIW80_06595', 'CIW80_17755', 'CIW80_20060', 'CIW80_02030', 'CIW80_05665', 'CIW80_21165', 'CIW80_23120', 'CIW80_14845', 'CIW80_24330', 'CIW80_06175', 'CIW80_06630', 'CIW80_08290', 'CIW80_03045', 'CIW80_07550', 'CIW80_07575', 'CIW80_22055', 'CIW80_16130', 'CIW80_08840', 'CIW80_05025', 'CIW80_17835', 'CIW80_25310', 'CIW80_00395', 'CIW80_23850', 'CIW80_13755', 'CIW80_08045', 'CIW80_13895', 'CIW80_01455', 'CIW80_14340', 'CIW80_03315', 'CIW80_00540', 'CIW80_23445', 'CIW80_03050', 'CIW80_10725', 'CIW80_04760', 'CIW80_11590', 'CIW80_13390', 'CIW80_14290', 'CIW80_23600', 'CIW80_21985', 'CIW80_24735', 'CIW80_07045', 'CIW80_15975', 'CIW80_08710', 'CIW80_14490', 'CIW80_21480', 'CIW80_00965', 'CIW80_01015', 'CIW80_02710', 'CIW80_15545', 'CIW80_06335', 'CIW80_00430', 'CIW80_04485', 'CIW80_11215', 'CIW80_04575', 'CIW80_20080', 'CIW80_01625', 'CIW80_24250', 'CIW80_12770', 'CIW80_23185', 'CIW80_07475', 'CIW80_23070', 'CIW80_10535', 'CIW80_03530', 'CIW80_12110', 'CIW80_25320', 'CIW80_01885', 'CIW80_17170', 'CIW80_02730', 'CIW80_03545', 'CIW80_06290', 'CIW80_02865', 'CIW80_18110', 'CIW80_04655', 'CIW80_03890', 'CIW80_04810', 'CIW80_06155', 'CIW80_04265', 'CIW80_21440', 'CIW80_06940', 'CIW80_17200', 'CIW80_08270', 'CIW80_21800', 'CIW80_04580', 'CIW80_03000', 'CIW80_15640', 'CIW80_18055', 'CIW80_04605', 'CIW80_01980', 'CIW80_04495', 'CIW80_20900', 'CIW80_06815', 'CIW80_15105', 'CIW80_22060', 'CIW80_15550', 'CIW80_14500', 'CIW80_24035', 'CIW80_15250', 'CIW80_17260', 'CIW80_16700', 'CIW80_19660', 'CIW80_18340', 'CIW80_11790', 'CIW80_06900', 'CIW80_05300', 'CIW80_17150', 'CIW80_04595', 'CIW80_21340', 'CIW80_08595', 'CIW80_03035', 'CIW80_15080', 'CIW80_24980', 'CIW80_22275', 'CIW80_22385', 'CIW80_14305', 'CIW80_14605', 'CIW80_15285', 'CIW80_00585', 'CIW80_17615', 'CIW80_04125', 'CIW80_22120', 'CIW80_01985', 'CIW80_21510', 'CIW80_23440', 'CIW80_20450', 'CIW80_08320', 'CIW80_02725', 'CIW80_25185', 'CIW80_20475', 'CIW80_15600', 'CIW80_24160', 'CIW80_02045', 'CIW80_24465', 'CIW80_06200', 'CIW80_00855', 'CIW80_08565', 'CIW80_19575', 'CIW80_19605', 'CIW80_06660', 'CIW80_00810', 'CIW80_20290', 'CIW80_00155', 'CIW80_19450', 'CIW80_13375', 'CIW80_21155', 'CIW80_19690', 'CIW80_23805', 'CIW80_09430', 'CIW80_19720', 'CIW80_12395', 'CIW80_24715', 'CIW80_01480', 'CIW80_12455', 'CIW80_25685', 'CIW80_12425', 'CIW80_19535', 'CIW80_06625', 'CIW80_23700', 'CIW80_24705', 'CIW80_14550', 'CIW80_06440', 'CIW80_09860', 'CIW80_12155', 'CIW80_23145', 'CIW80_00285', 'CIW80_11290', 'CIW80_06320', 'CIW80_09780', 'CIW80_22430', 'CIW80_02920', 'CIW80_20540', 'CIW80_22890', 'CIW80_23130', 'CIW80_20905', 'CIW80_22985', 'CIW80_12295', 'CIW80_11555', 'CIW80_22900', 'CIW80_12720', 'CIW80_15920', 'CIW80_11880', 'CIW80_19540', 'CIW80_04850', 'CIW80_00515', 'CIW80_24825', 'CIW80_16695', 'CIW80_09820', 'CIW80_18255', 'CIW80_17345', 'CIW80_08625', 'CIW80_12310', 'CIW80_00185', 'CIW80_15835', 'CIW80_19890', 'CIW80_04835', 'CIW80_15985', 'CIW80_18315', 'CIW80_20745', 'CIW80_03585', 'CIW80_20845', 'CIW80_01485', 'CIW80_20800', 'CIW80_14935', 'CIW80_22090', 'CIW80_04875', 'CIW80_01720', 'CIW80_17245', 'CIW80_04560', 'CIW80_00800', 'CIW80_09845', 'CIW80_11320', 'CIW80_19825', 'CIW80_24565', 'CIW80_24710', 'CIW80_10705', 'CIW80_23845', 'CIW80_21120', 'CIW80_05740', 'CIW80_05380', 'CIW80_03305', 'CIW80_02035', 'CIW80_22915', 'CIW80_00680', 'CIW80_01730', 'CIW80_03535', 'CIW80_23800', 'CIW80_01390', 'CIW80_19785', 'CIW80_09015', 'CIW80_20300', 'CIW80_03340', 'CIW80_06770', 'CIW80_04840', 'CIW80_00160', 'CIW80_00720', 'CIW80_14320', 'CIW80_12920', 'CIW80_02010', 'CIW80_10825', 'CIW80_12080', 'CIW80_22775', 'CIW80_09390', 'CIW80_10605', 'CIW80_04900', 'CIW80_03540', 'CIW80_00670', 'CIW80_15255', 'CIW80_21575', 'CIW80_08705', 'CIW80_05655'}\n",
      "CP001368 {'CIW80_22445', 'CIW80_06330', 'CIW80_08295', 'CIW80_15510', 'CIW80_15855', 'CIW80_04745', 'CIW80_11570', 'CIW80_22010', 'CIW80_10835', 'CIW80_10280', 'CIW80_09630', 'CIW80_05030', 'CIW80_09805', 'CIW80_01880', 'CIW80_04490', 'CIW80_25340', 'CIW80_12160', 'CIW80_01570', 'CIW80_12380', 'CIW80_07180', 'CIW80_24325', 'CIW80_05650', 'CIW80_13175', 'CIW80_16405', 'CIW80_23165', 'CIW80_12135', 'CIW80_13695', 'CIW80_19755', 'CIW80_08720', 'CIW80_22470', 'CIW80_10845', 'CIW80_00715', 'CIW80_23170', 'CIW80_23115', 'CIW80_02595', 'CIW80_15595', 'CIW80_07515', 'CIW80_10730', 'CIW80_16470', 'CIW80_02835', 'CIW80_00920', 'CIW80_15525', 'CIW80_19145', 'CIW80_25220', 'CIW80_25510', 'CIW80_19975', 'CIW80_24610', 'CIW80_22910', 'CIW80_08855', 'CIW80_02830', 'CIW80_11760', 'CIW80_18910', 'CIW80_25400', 'CIW80_12320', 'CIW80_21645', 'CIW80_18415', 'CIW80_06025', 'CIW80_00550', 'CIW80_12115', 'CIW80_20075', 'CIW80_00210', 'CIW80_07525', 'CIW80_04210', 'CIW80_10710', 'CIW80_08165', 'CIW80_16900', 'CIW80_15195', 'CIW80_22920', 'CIW80_08180', 'CIW80_20505', 'CIW80_10530', 'CIW80_10590', 'CIW80_21745', 'CIW80_21785', 'CIW80_01355', 'CIW80_15895', 'CIW80_21580', 'CIW80_03775', 'CIW80_15310', 'CIW80_17415', 'CIW80_00055', 'CIW80_16685', 'CIW80_13770', 'CIW80_08155', 'CIW80_23045', 'CIW80_25650', 'CIW80_00065', 'CIW80_19200', 'CIW80_00830', 'CIW80_06145', 'CIW80_08365', 'CIW80_09745', 'CIW80_21060', 'CIW80_17275', 'CIW80_03040', 'CIW80_05085', 'CIW80_18605', 'CIW80_10135', 'CIW80_09875', 'CIW80_04365', 'CIW80_19580', 'CIW80_01150', 'CIW80_18005', 'CIW80_12390', 'CIW80_13240', 'CIW80_25515', 'CIW80_00205', 'CIW80_19990', 'CIW80_14985', 'CIW80_12435', 'CIW80_19600', 'CIW80_22750', 'CIW80_20555', 'CIW80_18715', 'CIW80_18570', 'CIW80_07305', 'CIW80_19725', 'CIW80_07750', 'CIW80_10850', 'CIW80_23040', 'CIW80_04675', 'CIW80_22085', 'CIW80_14930', 'CIW80_25265', 'CIW80_12235', 'CIW80_06595', 'CIW80_17755', 'CIW80_00350', 'CIW80_20060', 'CIW80_05665', 'CIW80_21165', 'CIW80_23120', 'CIW80_14845', 'CIW80_24330', 'CIW80_06175', 'CIW80_00465', 'CIW80_08290', 'CIW80_03045', 'CIW80_07550', 'CIW80_07575', 'CIW80_22055', 'CIW80_16130', 'CIW80_08840', 'CIW80_05025', 'CIW80_17835', 'CIW80_25310', 'CIW80_00395', 'CIW80_23850', 'CIW80_13755', 'CIW80_08045', 'CIW80_13895', 'CIW80_01455', 'CIW80_14340', 'CIW80_03315', 'CIW80_00540', 'CIW80_07185', 'CIW80_00075', 'CIW80_23445', 'CIW80_03050', 'CIW80_04760', 'CIW80_11590', 'CIW80_13390', 'CIW80_14290', 'CIW80_23600', 'CIW80_21985', 'CIW80_06530', 'CIW80_24735', 'CIW80_07045', 'CIW80_07615', 'CIW80_15975', 'CIW80_08710', 'CIW80_14490', 'CIW80_00965', 'CIW80_00100', 'CIW80_01015', 'CIW80_02710', 'CIW80_19700', 'CIW80_04385', 'CIW80_15545', 'CIW80_06335', 'CIW80_00430', 'CIW80_04485', 'CIW80_11215', 'CIW80_04575', 'CIW80_01625', 'CIW80_12770', 'CIW80_23185', 'CIW80_07475', 'CIW80_24250', 'CIW80_23070', 'CIW80_10535', 'CIW80_03530', 'CIW80_12110', 'CIW80_25320', 'CIW80_18100', 'CIW80_01885', 'CIW80_17170', 'CIW80_02730', 'CIW80_21425', 'CIW80_03545', 'CIW80_06290', 'CIW80_17350', 'CIW80_22145', 'CIW80_02865', 'CIW80_18110', 'CIW80_04655', 'CIW80_03890', 'CIW80_06155', 'CIW80_04265', 'CIW80_21440', 'CIW80_06940', 'CIW80_17200', 'CIW80_08270', 'CIW80_21800', 'CIW80_04580', 'CIW80_03000', 'CIW80_15640', 'CIW80_18055', 'CIW80_04605', 'CIW80_01980', 'CIW80_00405', 'CIW80_04495', 'CIW80_20900', 'CIW80_06815', 'CIW80_15105', 'CIW80_22060', 'CIW80_15550', 'CIW80_14500', 'CIW80_19775', 'CIW80_15250', 'CIW80_17260', 'CIW80_16700', 'CIW80_18340', 'CIW80_11790', 'CIW80_06900', 'CIW80_00655', 'CIW80_17150', 'CIW80_04595', 'CIW80_21340', 'CIW80_08595', 'CIW80_15080', 'CIW80_24980', 'CIW80_22275', 'CIW80_22385', 'CIW80_08330', 'CIW80_14605', 'CIW80_00585', 'CIW80_17615', 'CIW80_04125', 'CIW80_22120', 'CIW80_01985', 'CIW80_25725', 'CIW80_21510', 'CIW80_23440', 'CIW80_20450', 'CIW80_08320', 'CIW80_25185', 'CIW80_20475', 'CIW80_15600', 'CIW80_24160', 'CIW80_24465', 'CIW80_06200', 'CIW80_00855', 'CIW80_12220', 'CIW80_08565', 'CIW80_19605', 'CIW80_00810', 'CIW80_20290', 'CIW80_00155', 'CIW80_19450', 'CIW80_13375', 'CIW80_21155', 'CIW80_19690', 'CIW80_09430', 'CIW80_12395', 'CIW80_24715', 'CIW80_04985', 'CIW80_01480', 'CIW80_12455', 'CIW80_25685', 'CIW80_12425', 'CIW80_19535', 'CIW80_06625', 'CIW80_23700', 'CIW80_24705', 'CIW80_14550', 'CIW80_00305', 'CIW80_23875', 'CIW80_06440', 'CIW80_09860', 'CIW80_12155', 'CIW80_23145', 'CIW80_00285', 'CIW80_11290', 'CIW80_09780', 'CIW80_22430', 'CIW80_02920', 'CIW80_20540', 'CIW80_17285', 'CIW80_20905', 'CIW80_22985', 'CIW80_12295', 'CIW80_11555', 'CIW80_04855', 'CIW80_10195', 'CIW80_12720', 'CIW80_15920', 'CIW80_04850', 'CIW80_00515', 'CIW80_24825', 'CIW80_15020', 'CIW80_16695', 'CIW80_18255', 'CIW80_17345', 'CIW80_08625', 'CIW80_12310', 'CIW80_00185', 'CIW80_13185', 'CIW80_15835', 'CIW80_19890', 'CIW80_15985', 'CIW80_18315', 'CIW80_20685', 'CIW80_20745', 'CIW80_03585', 'CIW80_20845', 'CIW80_20800', 'CIW80_14935', 'CIW80_04875', 'CIW80_01720', 'CIW80_17245', 'CIW80_04560', 'CIW80_00800', 'CIW80_09845', 'CIW80_11320', 'CIW80_19825', 'CIW80_24565', 'CIW80_24710', 'CIW80_10705', 'CIW80_23845', 'CIW80_21120', 'CIW80_05740', 'CIW80_00560', 'CIW80_05380', 'CIW80_02035', 'CIW80_00680', 'CIW80_01730', 'CIW80_23800', 'CIW80_01390', 'CIW80_19785', 'CIW80_17320', 'CIW80_24750', 'CIW80_09015', 'CIW80_20300', 'CIW80_06770', 'CIW80_00160', 'CIW80_00720', 'CIW80_12920', 'CIW80_02010', 'CIW80_10825', 'CIW80_12080', 'CIW80_22775', 'CIW80_09390', 'CIW80_10605', 'CIW80_04900', 'CIW80_05100', 'CIW80_03540', 'CIW80_00670', 'CIW80_15255', 'CIW80_21575', 'CIW80_08705', 'CIW80_05655'}\n"
     ]
    },
    {
     "name": "stdout",
     "output_type": "stream",
     "text": [
      "AP010953 {'CIW80_03090', 'CIW80_22445', 'CIW80_06330', 'CIW80_08295', 'CIW80_15510', 'CIW80_15855', 'CIW80_04745', 'CIW80_11570', 'CIW80_10280', 'CIW80_05030', 'CIW80_06735', 'CIW80_09805', 'CIW80_04425', 'CIW80_01880', 'CIW80_04490', 'CIW80_25340', 'CIW80_01570', 'CIW80_12380', 'CIW80_05650', 'CIW80_13175', 'CIW80_16405', 'CIW80_12135', 'CIW80_23695', 'CIW80_13695', 'CIW80_19755', 'CIW80_22470', 'CIW80_10845', 'CIW80_23170', 'CIW80_23115', 'CIW80_02595', 'CIW80_15595', 'CIW80_08310', 'CIW80_07255', 'CIW80_10730', 'CIW80_16470', 'CIW80_15525', 'CIW80_19145', 'CIW80_25220', 'CIW80_24670', 'CIW80_22910', 'CIW80_25020', 'CIW80_08855', 'CIW80_11525', 'CIW80_18910', 'CIW80_25400', 'CIW80_12320', 'CIW80_18415', 'CIW80_06025', 'CIW80_00550', 'CIW80_20075', 'CIW80_00210', 'CIW80_04210', 'CIW80_10710', 'CIW80_16900', 'CIW80_15195', 'CIW80_03245', 'CIW80_08180', 'CIW80_20505', 'CIW80_10530', 'CIW80_10590', 'CIW80_21745', 'CIW80_21785', 'CIW80_01355', 'CIW80_15895', 'CIW80_21580', 'CIW80_13215', 'CIW80_24665', 'CIW80_03775', 'CIW80_15310', 'CIW80_17415', 'CIW80_00055', 'CIW80_08155', 'CIW80_23045', 'CIW80_25650', 'CIW80_16830', 'CIW80_00065', 'CIW80_21270', 'CIW80_19200', 'CIW80_00830', 'CIW80_01115', 'CIW80_06145', 'CIW80_08850', 'CIW80_08365', 'CIW80_09745', 'CIW80_21060', 'CIW80_17275', 'CIW80_18605', 'CIW80_10135', 'CIW80_09875', 'CIW80_19580', 'CIW80_01150', 'CIW80_18005', 'CIW80_12390', 'CIW80_00205', 'CIW80_19990', 'CIW80_14985', 'CIW80_12435', 'CIW80_19600', 'CIW80_16850', 'CIW80_20555', 'CIW80_19695', 'CIW80_24700', 'CIW80_18570', 'CIW80_07305', 'CIW80_07750', 'CIW80_10850', 'CIW80_23040', 'CIW80_08955', 'CIW80_04675', 'CIW80_22085', 'CIW80_14930', 'CIW80_12235', 'CIW80_06595', 'CIW80_17755', 'CIW80_17145', 'CIW80_20060', 'CIW80_05665', 'CIW80_21165', 'CIW80_23120', 'CIW80_14845', 'CIW80_24330', 'CIW80_06175', 'CIW80_05905', 'CIW80_06630', 'CIW80_08290', 'CIW80_08755', 'CIW80_07550', 'CIW80_16915', 'CIW80_22055', 'CIW80_16130', 'CIW80_05025', 'CIW80_17835', 'CIW80_25310', 'CIW80_03650', 'CIW80_00395', 'CIW80_15950', 'CIW80_23850', 'CIW80_13755', 'CIW80_03995', 'CIW80_08045', 'CIW80_13895', 'CIW80_01455', 'CIW80_14340', 'CIW80_16855', 'CIW80_00540', 'CIW80_23445', 'CIW80_10725', 'CIW80_08980', 'CIW80_04760', 'CIW80_11590', 'CIW80_13390', 'CIW80_14290', 'CIW80_08950', 'CIW80_24735', 'CIW80_07045', 'CIW80_15975', 'CIW80_08710', 'CIW80_14490', 'CIW80_21480', 'CIW80_16795', 'CIW80_00965', 'CIW80_16810', 'CIW80_01015', 'CIW80_02710', 'CIW80_15545', 'CIW80_06335', 'CIW80_13870', 'CIW80_00430', 'CIW80_04485', 'CIW80_11215', 'CIW80_04575', 'CIW80_01625', 'CIW80_12770', 'CIW80_07475', 'CIW80_23185', 'CIW80_24250', 'CIW80_23070', 'CIW80_10535', 'CIW80_03530', 'CIW80_25320', 'CIW80_01885', 'CIW80_17170', 'CIW80_02730', 'CIW80_24410', 'CIW80_06290', 'CIW80_11810', 'CIW80_16730', 'CIW80_02865', 'CIW80_18110', 'CIW80_04655', 'CIW80_03890', 'CIW80_04810', 'CIW80_06155', 'CIW80_17200', 'CIW80_08270', 'CIW80_21800', 'CIW80_04580', 'CIW80_03000', 'CIW80_09085', 'CIW80_15640', 'CIW80_04495', 'CIW80_04605', 'CIW80_20900', 'CIW80_06815', 'CIW80_15105', 'CIW80_22060', 'CIW80_15550', 'CIW80_14500', 'CIW80_08780', 'CIW80_16865', 'CIW80_15250', 'CIW80_17260', 'CIW80_18340', 'CIW80_11790', 'CIW80_06900', 'CIW80_00655', 'CIW80_19945', 'CIW80_04595', 'CIW80_21340', 'CIW80_08595', 'CIW80_15080', 'CIW80_24980', 'CIW80_22275', 'CIW80_22385', 'CIW80_14305', 'CIW80_14605', 'CIW80_15285', 'CIW80_00585', 'CIW80_17615', 'CIW80_16965', 'CIW80_01985', 'CIW80_21510', 'CIW80_23440', 'CIW80_20450', 'CIW80_08320', 'CIW80_02725', 'CIW80_08965', 'CIW80_20475', 'CIW80_15600', 'CIW80_01120', 'CIW80_24160', 'CIW80_24465', 'CIW80_06200', 'CIW80_00855', 'CIW80_12220', 'CIW80_08565', 'CIW80_19575', 'CIW80_19605', 'CIW80_06660', 'CIW80_16735', 'CIW80_20290', 'CIW80_02050', 'CIW80_00155', 'CIW80_13375', 'CIW80_12125', 'CIW80_21155', 'CIW80_09430', 'CIW80_12395', 'CIW80_24715', 'CIW80_01480', 'CIW80_12455', 'CIW80_25685', 'CIW80_12425', 'CIW80_19535', 'CIW80_06625', 'CIW80_23700', 'CIW80_24705', 'CIW80_14550', 'CIW80_06440', 'CIW80_09860', 'CIW80_11290', 'CIW80_06320', 'CIW80_09780', 'CIW80_22430', 'CIW80_02920', 'CIW80_20540', 'CIW80_22890', 'CIW80_23130', 'CIW80_20905', 'CIW80_12295', 'CIW80_11555', 'CIW80_12720', 'CIW80_15920', 'CIW80_11880', 'CIW80_04850', 'CIW80_00515', 'CIW80_24825', 'CIW80_04345', 'CIW80_18255', 'CIW80_09820', 'CIW80_17345', 'CIW80_08625', 'CIW80_12310', 'CIW80_00185', 'CIW80_15835', 'CIW80_19090', 'CIW80_15985', 'CIW80_18315', 'CIW80_20745', 'CIW80_03585', 'CIW80_20845', 'CIW80_20800', 'CIW80_14935', 'CIW80_17240', 'CIW80_22090', 'CIW80_04875', 'CIW80_01720', 'CIW80_17245', 'CIW80_20805', 'CIW80_04560', 'CIW80_00800', 'CIW80_11320', 'CIW80_19825', 'CIW80_24565', 'CIW80_03820', 'CIW80_24710', 'CIW80_10705', 'CIW80_23845', 'CIW80_21120', 'CIW80_03635', 'CIW80_05380', 'CIW80_03305', 'CIW80_02035', 'CIW80_00680', 'CIW80_01730', 'CIW80_03535', 'CIW80_23800', 'CIW80_01390', 'CIW80_19785', 'CIW80_09015', 'CIW80_20300', 'CIW80_14450', 'CIW80_03340', 'CIW80_06770', 'CIW80_00160', 'CIW80_00720', 'CIW80_14320', 'CIW80_12920', 'CIW80_02010', 'CIW80_10825', 'CIW80_12080', 'CIW80_22775', 'CIW80_09390', 'CIW80_10605', 'CIW80_04900', 'CIW80_03540', 'CIW80_00670', 'CIW80_15255', 'CIW80_21575', 'CIW80_08705', 'CIW80_05655'}\n",
      "CP001846 {'CIW80_22445', 'CIW80_06330', 'CIW80_08295', 'CIW80_15510', 'CIW80_15855', 'CIW80_05090', 'CIW80_04745', 'CIW80_11570', 'CIW80_10280', 'CIW80_05030', 'CIW80_09805', 'CIW80_04425', 'CIW80_01880', 'CIW80_04490', 'CIW80_15695', 'CIW80_25340', 'CIW80_12160', 'CIW80_01570', 'CIW80_12380', 'CIW80_24325', 'CIW80_05650', 'CIW80_13175', 'CIW80_16405', 'CIW80_23165', 'CIW80_12135', 'CIW80_15680', 'CIW80_13695', 'CIW80_19755', 'CIW80_22470', 'CIW80_10845', 'CIW80_23170', 'CIW80_02595', 'CIW80_15595', 'CIW80_07515', 'CIW80_10730', 'CIW80_16470', 'CIW80_02835', 'CIW80_15525', 'CIW80_25220', 'CIW80_25510', 'CIW80_24670', 'CIW80_19975', 'CIW80_04685', 'CIW80_22910', 'CIW80_02830', 'CIW80_11760', 'CIW80_18910', 'CIW80_25400', 'CIW80_12320', 'CIW80_18415', 'CIW80_03670', 'CIW80_06025', 'CIW80_00550', 'CIW80_12115', 'CIW80_16845', 'CIW80_20075', 'CIW80_00210', 'CIW80_04210', 'CIW80_10710', 'CIW80_08165', 'CIW80_16900', 'CIW80_15195', 'CIW80_22920', 'CIW80_19780', 'CIW80_08180', 'CIW80_20505', 'CIW80_10530', 'CIW80_10590', 'CIW80_21745', 'CIW80_21785', 'CIW80_01355', 'CIW80_15895', 'CIW80_21580', 'CIW80_24665', 'CIW80_03775', 'CIW80_15310', 'CIW80_17415', 'CIW80_00055', 'CIW80_01145', 'CIW80_08155', 'CIW80_23045', 'CIW80_25650', 'CIW80_00830', 'CIW80_06145', 'CIW80_08365', 'CIW80_09745', 'CIW80_21060', 'CIW80_12700', 'CIW80_17275', 'CIW80_03040', 'CIW80_05085', 'CIW80_18605', 'CIW80_10135', 'CIW80_09875', 'CIW80_19580', 'CIW80_01150', 'CIW80_18005', 'CIW80_12390', 'CIW80_08915', 'CIW80_00205', 'CIW80_19990', 'CIW80_14985', 'CIW80_12435', 'CIW80_19600', 'CIW80_20555', 'CIW80_19695', 'CIW80_18245', 'CIW80_18570', 'CIW80_08960', 'CIW80_07305', 'CIW80_19725', 'CIW80_07750', 'CIW80_10850', 'CIW80_23040', 'CIW80_04675', 'CIW80_22085', 'CIW80_14930', 'CIW80_12235', 'CIW80_14485', 'CIW80_06595', 'CIW80_00345', 'CIW80_17755', 'CIW80_00350', 'CIW80_20060', 'CIW80_05665', 'CIW80_21165', 'CIW80_14845', 'CIW80_24330', 'CIW80_06175', 'CIW80_08290', 'CIW80_03045', 'CIW80_07575', 'CIW80_16915', 'CIW80_22055', 'CIW80_16130', 'CIW80_05025', 'CIW80_17835', 'CIW80_25310', 'CIW80_03650', 'CIW80_00395', 'CIW80_23850', 'CIW80_13755', 'CIW80_08045', 'CIW80_13895', 'CIW80_01455', 'CIW80_14340', 'CIW80_03315', 'CIW80_00540', 'CIW80_03050', 'CIW80_10725', 'CIW80_04760', 'CIW80_11590', 'CIW80_13390', 'CIW80_23600', 'CIW80_04330', 'CIW80_21985', 'CIW80_24735', 'CIW80_07045', 'CIW80_15975', 'CIW80_14490', 'CIW80_21480', 'CIW80_00965', 'CIW80_01015', 'CIW80_02710', 'CIW80_19700', 'CIW80_15545', 'CIW80_06335', 'CIW80_19140', 'CIW80_00430', 'CIW80_04485', 'CIW80_11215', 'CIW80_04575', 'CIW80_20080', 'CIW80_01625', 'CIW80_12770', 'CIW80_07475', 'CIW80_24250', 'CIW80_23070', 'CIW80_10535', 'CIW80_03530', 'CIW80_23100', 'CIW80_12110', 'CIW80_25320', 'CIW80_01885', 'CIW80_17170', 'CIW80_02730', 'CIW80_03545', 'CIW80_06290', 'CIW80_16875', 'CIW80_02865', 'CIW80_18110', 'CIW80_03705', 'CIW80_04655', 'CIW80_03890', 'CIW80_06155', 'CIW80_04265', 'CIW80_21440', 'CIW80_06940', 'CIW80_17200', 'CIW80_08270', 'CIW80_21800', 'CIW80_04580', 'CIW80_03000', 'CIW80_19065', 'CIW80_15640', 'CIW80_18055', 'CIW80_04605', 'CIW80_04495', 'CIW80_20900', 'CIW80_15105', 'CIW80_04335', 'CIW80_22060', 'CIW80_15550', 'CIW80_14500', 'CIW80_19070', 'CIW80_00910', 'CIW80_19775', 'CIW80_16865', 'CIW80_15250', 'CIW80_17260', 'CIW80_10865', 'CIW80_18340', 'CIW80_23090', 'CIW80_11790', 'CIW80_06900', 'CIW80_00655', 'CIW80_17150', 'CIW80_17730', 'CIW80_04595', 'CIW80_21340', 'CIW80_08595', 'CIW80_15080', 'CIW80_24980', 'CIW80_22385', 'CIW80_14305', 'CIW80_08330', 'CIW80_14605', 'CIW80_19055', 'CIW80_15285', 'CIW80_00585', 'CIW80_17615', 'CIW80_01985', 'CIW80_21510', 'CIW80_20450', 'CIW80_08320', 'CIW80_02725', 'CIW80_20475', 'CIW80_09220', 'CIW80_15600', 'CIW80_24160', 'CIW80_06200', 'CIW80_00855', 'CIW80_03675', 'CIW80_12220', 'CIW80_08565', 'CIW80_19605', 'CIW80_00810', 'CIW80_10970', 'CIW80_20290', 'CIW80_00155', 'CIW80_19450', 'CIW80_13375', 'CIW80_21155', 'CIW80_03695', 'CIW80_12395', 'CIW80_24715', 'CIW80_04985', 'CIW80_01480', 'CIW80_21110', 'CIW80_12455', 'CIW80_25685', 'CIW80_03710', 'CIW80_12425', 'CIW80_19535', 'CIW80_14540', 'CIW80_06625', 'CIW80_23700', 'CIW80_14550', 'CIW80_08945', 'CIW80_06440', 'CIW80_09860', 'CIW80_12155', 'CIW80_23145', 'CIW80_00285', 'CIW80_11290', 'CIW80_09780', 'CIW80_22430', 'CIW80_02920', 'CIW80_20540', 'CIW80_22890', 'CIW80_20905', 'CIW80_18905', 'CIW80_22985', 'CIW80_12295', 'CIW80_11555', 'CIW80_19075', 'CIW80_04855', 'CIW80_10195', 'CIW80_12720', 'CIW80_15920', 'CIW80_11880', 'CIW80_17590', 'CIW80_04850', 'CIW80_00515', 'CIW80_24825', 'CIW80_04345', 'CIW80_18255', 'CIW80_09820', 'CIW80_17345', 'CIW80_19120', 'CIW80_12310', 'CIW80_00185', 'CIW80_13185', 'CIW80_15835', 'CIW80_19890', 'CIW80_19090', 'CIW80_15985', 'CIW80_18315', 'CIW80_20745', 'CIW80_17535', 'CIW80_20845', 'CIW80_01485', 'CIW80_20800', 'CIW80_22090', 'CIW80_04875', 'CIW80_01720', 'CIW80_03620', 'CIW80_17245', 'CIW80_20805', 'CIW80_04560', 'CIW80_00800', 'CIW80_09845', 'CIW80_11320', 'CIW80_19825', 'CIW80_24710', 'CIW80_10705', 'CIW80_23845', 'CIW80_21120', 'CIW80_05380', 'CIW80_02035', 'CIW80_16860', 'CIW80_00680', 'CIW80_01730', 'CIW80_03535', 'CIW80_23800', 'CIW80_01390', 'CIW80_19785', 'CIW80_03630', 'CIW80_09015', 'CIW80_20300', 'CIW80_03340', 'CIW80_06770', 'CIW80_00160', 'CIW80_00720', 'CIW80_14320', 'CIW80_12920', 'CIW80_02010', 'CIW80_24630', 'CIW80_10825', 'CIW80_12080', 'CIW80_22775', 'CIW80_09390', 'CIW80_10605', 'CIW80_04900', 'CIW80_03540', 'CIW80_00670', 'CIW80_17585', 'CIW80_15255', 'CIW80_21575', 'CIW80_05655'}\n",
      "CP000970 {'CIW80_22445', 'CIW80_06330', 'CIW80_08295', 'CIW80_15510', 'CIW80_15855', 'CIW80_04745', 'CIW80_11570', 'CIW80_11350', 'CIW80_10835', 'CIW80_10280', 'CIW80_09630', 'CIW80_05030', 'CIW80_06735', 'CIW80_09805', 'CIW80_04425', 'CIW80_04490', 'CIW80_25340', 'CIW80_12160', 'CIW80_01570', 'CIW80_18900', 'CIW80_05650', 'CIW80_13175', 'CIW80_16405', 'CIW80_23165', 'CIW80_12135', 'CIW80_13695', 'CIW80_19755', 'CIW80_08720', 'CIW80_22470', 'CIW80_19765', 'CIW80_10845', 'CIW80_23170', 'CIW80_17790', 'CIW80_02595', 'CIW80_15595', 'CIW80_08460', 'CIW80_10730', 'CIW80_02835', 'CIW80_15525', 'CIW80_19145', 'CIW80_25220', 'CIW80_02830', 'CIW80_11525', 'CIW80_18910', 'CIW80_17670', 'CIW80_18425', 'CIW80_25400', 'CIW80_18415', 'CIW80_03670', 'CIW80_06025', 'CIW80_00550', 'CIW80_19520', 'CIW80_12115', 'CIW80_20075', 'CIW80_17750', 'CIW80_00210', 'CIW80_04210', 'CIW80_10710', 'CIW80_09230', 'CIW80_13415', 'CIW80_08180', 'CIW80_20505', 'CIW80_13915', 'CIW80_10530', 'CIW80_13010', 'CIW80_10590', 'CIW80_04890', 'CIW80_08800', 'CIW80_21745', 'CIW80_21785', 'CIW80_15895', 'CIW80_21580', 'CIW80_24665', 'CIW80_03775', 'CIW80_15310', 'CIW80_17415', 'CIW80_00055', 'CIW80_13770', 'CIW80_24635', 'CIW80_08155', 'CIW80_23045', 'CIW80_25650', 'CIW80_24640', 'CIW80_23385', 'CIW80_00065', 'CIW80_00830', 'CIW80_02275', 'CIW80_06145', 'CIW80_18895', 'CIW80_08365', 'CIW80_21060', 'CIW80_17000', 'CIW80_21125', 'CIW80_08415', 'CIW80_03040', 'CIW80_18605', 'CIW80_08600', 'CIW80_10135', 'CIW80_24875', 'CIW80_09875', 'CIW80_19580', 'CIW80_01150', 'CIW80_18005', 'CIW80_13240', 'CIW80_07640', 'CIW80_08915', 'CIW80_00205', 'CIW80_03390', 'CIW80_14985', 'CIW80_19600', 'CIW80_16850', 'CIW80_22750', 'CIW80_20555', 'CIW80_18570', 'CIW80_07305', 'CIW80_07750', 'CIW80_18080', 'CIW80_24310', 'CIW80_10850', 'CIW80_04675', 'CIW80_22085', 'CIW80_19125', 'CIW80_19525', 'CIW80_25265', 'CIW80_12235', 'CIW80_06595', 'CIW80_17755', 'CIW80_08775', 'CIW80_08680', 'CIW80_20060', 'CIW80_21165', 'CIW80_14845', 'CIW80_06175', 'CIW80_06630', 'CIW80_08290', 'CIW80_03045', 'CIW80_08755', 'CIW80_14435', 'CIW80_16915', 'CIW80_22055', 'CIW80_16130', 'CIW80_05025', 'CIW80_17835', 'CIW80_25310', 'CIW80_03650', 'CIW80_00395', 'CIW80_13755', 'CIW80_13005', 'CIW80_03550', 'CIW80_16840', 'CIW80_08045', 'CIW80_13895', 'CIW80_01455', 'CIW80_14340', 'CIW80_00540', 'CIW80_01205', 'CIW80_03050', 'CIW80_17180', 'CIW80_10725', 'CIW80_04760', 'CIW80_11590', 'CIW80_03640', 'CIW80_13390', 'CIW80_23600', 'CIW80_21985', 'CIW80_24735', 'CIW80_07045', 'CIW80_15975', 'CIW80_08710', 'CIW80_00965', 'CIW80_01015', 'CIW80_02710', 'CIW80_19700', 'CIW80_15545', 'CIW80_06335', 'CIW80_00430', 'CIW80_04485', 'CIW80_11215', 'CIW80_03645', 'CIW80_01625', 'CIW80_12770', 'CIW80_07475', 'CIW80_23185', 'CIW80_23070', 'CIW80_10535', 'CIW80_23570', 'CIW80_03885', 'CIW80_25320', 'CIW80_18100', 'CIW80_01885', 'CIW80_17170', 'CIW80_02730', 'CIW80_03545', 'CIW80_19310', 'CIW80_02865', 'CIW80_16970', 'CIW80_18110', 'CIW80_03705', 'CIW80_03890', 'CIW80_04810', 'CIW80_06155', 'CIW80_03495', 'CIW80_04265', 'CIW80_21440', 'CIW80_06940', 'CIW80_17200', 'CIW80_08270', 'CIW80_21800', 'CIW80_04580', 'CIW80_03000', 'CIW80_19065', 'CIW80_15640', 'CIW80_04495', 'CIW80_04605', 'CIW80_01980', 'CIW80_06815', 'CIW80_15105', 'CIW80_04335', 'CIW80_24435', 'CIW80_22060', 'CIW80_00665', 'CIW80_15550', 'CIW80_14500', 'CIW80_24035', 'CIW80_19070', 'CIW80_17140', 'CIW80_16865', 'CIW80_15250', 'CIW80_15140', 'CIW80_16590', 'CIW80_18340', 'CIW80_03840', 'CIW80_11790', 'CIW80_06900', 'CIW80_00655', 'CIW80_17150', 'CIW80_04595', 'CIW80_21340', 'CIW80_16330', 'CIW80_08595', 'CIW80_24980', 'CIW80_22275', 'CIW80_22385', 'CIW80_08940', 'CIW80_14305', 'CIW80_14605', 'CIW80_19055', 'CIW80_24905', 'CIW80_00585', 'CIW80_16965', 'CIW80_01985', 'CIW80_20175', 'CIW80_21510', 'CIW80_21735', 'CIW80_20450', 'CIW80_08320', 'CIW80_25185', 'CIW80_20475', 'CIW80_09220', 'CIW80_15600', 'CIW80_24160', 'CIW80_06200', 'CIW80_00855', 'CIW80_03675', 'CIW80_12220', 'CIW80_14020', 'CIW80_08565', 'CIW80_19605', 'CIW80_06660', 'CIW80_12715', 'CIW80_00810', 'CIW80_10970', 'CIW80_03680', 'CIW80_00155', 'CIW80_13635', 'CIW80_09500', 'CIW80_23565', 'CIW80_12125', 'CIW80_21155', 'CIW80_03695', 'CIW80_19690', 'CIW80_09430', 'CIW80_12395', 'CIW80_24715', 'CIW80_03815', 'CIW80_01480', 'CIW80_00755', 'CIW80_12455', 'CIW80_25685', 'CIW80_08925', 'CIW80_12425', 'CIW80_03710', 'CIW80_23680', 'CIW80_06625', 'CIW80_23700', 'CIW80_24705', 'CIW80_14550', 'CIW80_03685', 'CIW80_06440', 'CIW80_09860', 'CIW80_12155', 'CIW80_11290', 'CIW80_09780', 'CIW80_22430', 'CIW80_03625', 'CIW80_02920', 'CIW80_20540', 'CIW80_03690', 'CIW80_22890', 'CIW80_20905', 'CIW80_04895', 'CIW80_22985', 'CIW80_12295', 'CIW80_18885', 'CIW80_11555', 'CIW80_12720', 'CIW80_15920', 'CIW80_19540', 'CIW80_00515', 'CIW80_24825', 'CIW80_04345', 'CIW80_18255', 'CIW80_09820', 'CIW80_17345', 'CIW80_08625', 'CIW80_19120', 'CIW80_12310', 'CIW80_13700', 'CIW80_17700', 'CIW80_00185', 'CIW80_15835', 'CIW80_19890', 'CIW80_19090', 'CIW80_15985', 'CIW80_20745', 'CIW80_03585', 'CIW80_14935', 'CIW80_00960', 'CIW80_01720', 'CIW80_17245', 'CIW80_04560', 'CIW80_00800', 'CIW80_09845', 'CIW80_11320', 'CIW80_19825', 'CIW80_24565', 'CIW80_02230', 'CIW80_24710', 'CIW80_10705', 'CIW80_21120', 'CIW80_03635', 'CIW80_05380', 'CIW80_24555', 'CIW80_02035', 'CIW80_20690', 'CIW80_22915', 'CIW80_03700', 'CIW80_00680', 'CIW80_01730', 'CIW80_23800', 'CIW80_19785', 'CIW80_14280', 'CIW80_19585', 'CIW80_24750', 'CIW80_09015', 'CIW80_03340', 'CIW80_06770', 'CIW80_00160', 'CIW80_00720', 'CIW80_23670', 'CIW80_14320', 'CIW80_12920', 'CIW80_02010', 'CIW80_10825', 'CIW80_12080', 'CIW80_09390', 'CIW80_10605', 'CIW80_04900', 'CIW80_03540', 'CIW80_00670', 'CIW80_15255', 'CIW80_21575', 'CIW80_15740', 'CIW80_05655'}\n"
     ]
    },
    {
     "name": "stdout",
     "output_type": "stream",
     "text": [
      "FM180568 {'CIW80_03090', 'CIW80_22445', 'CIW80_06330', 'CIW80_08295', 'CIW80_15510', 'CIW80_15855', 'CIW80_04745', 'CIW80_11570', 'CIW80_10280', 'CIW80_05030', 'CIW80_06735', 'CIW80_09805', 'CIW80_01880', 'CIW80_04490', 'CIW80_25340', 'CIW80_12160', 'CIW80_01570', 'CIW80_12380', 'CIW80_23630', 'CIW80_24325', 'CIW80_24680', 'CIW80_13175', 'CIW80_16405', 'CIW80_05650', 'CIW80_12135', 'CIW80_13695', 'CIW80_19755', 'CIW80_08720', 'CIW80_13245', 'CIW80_22470', 'CIW80_19765', 'CIW80_10845', 'CIW80_23170', 'CIW80_02595', 'CIW80_15595', 'CIW80_08310', 'CIW80_07255', 'CIW80_10730', 'CIW80_16470', 'CIW80_02835', 'CIW80_15525', 'CIW80_25220', 'CIW80_24670', 'CIW80_19975', 'CIW80_12710', 'CIW80_22910', 'CIW80_25020', 'CIW80_25710', 'CIW80_02830', 'CIW80_11525', 'CIW80_18910', 'CIW80_25400', 'CIW80_07240', 'CIW80_12320', 'CIW80_18415', 'CIW80_17360', 'CIW80_06025', 'CIW80_00550', 'CIW80_12115', 'CIW80_20075', 'CIW80_00210', 'CIW80_04210', 'CIW80_22515', 'CIW80_10710', 'CIW80_09230', 'CIW80_17355', 'CIW80_15195', 'CIW80_14090', 'CIW80_08180', 'CIW80_20505', 'CIW80_10530', 'CIW80_10590', 'CIW80_21745', 'CIW80_21785', 'CIW80_01355', 'CIW80_24665', 'CIW80_21580', 'CIW80_13215', 'CIW80_19820', 'CIW80_03775', 'CIW80_15310', 'CIW80_17415', 'CIW80_00055', 'CIW80_09920', 'CIW80_24530', 'CIW80_08155', 'CIW80_23045', 'CIW80_25650', 'CIW80_00065', 'CIW80_21270', 'CIW80_00830', 'CIW80_01115', 'CIW80_06145', 'CIW80_24520', 'CIW80_08365', 'CIW80_09745', 'CIW80_21060', 'CIW80_17275', 'CIW80_03040', 'CIW80_00120', 'CIW80_18605', 'CIW80_10135', 'CIW80_24875', 'CIW80_09875', 'CIW80_19900', 'CIW80_01150', 'CIW80_18005', 'CIW80_12390', 'CIW80_12050', 'CIW80_08915', 'CIW80_00205', 'CIW80_19990', 'CIW80_14985', 'CIW80_12435', 'CIW80_19600', 'CIW80_20555', 'CIW80_19695', 'CIW80_07015', 'CIW80_18570', 'CIW80_07305', 'CIW80_07750', 'CIW80_16355', 'CIW80_10850', 'CIW80_25715', 'CIW80_24685', 'CIW80_23040', 'CIW80_04675', 'CIW80_22085', 'CIW80_14930', 'CIW80_19525', 'CIW80_12235', 'CIW80_06595', 'CIW80_17755', 'CIW80_00370', 'CIW80_20060', 'CIW80_05665', 'CIW80_21165', 'CIW80_14845', 'CIW80_24330', 'CIW80_06175', 'CIW80_05905', 'CIW80_16895', 'CIW80_06630', 'CIW80_02530', 'CIW80_08290', 'CIW80_13220', 'CIW80_22055', 'CIW80_08110', 'CIW80_16130', 'CIW80_05025', 'CIW80_03745', 'CIW80_17835', 'CIW80_25310', 'CIW80_00395', 'CIW80_15950', 'CIW80_23850', 'CIW80_13755', 'CIW80_03810', 'CIW80_08045', 'CIW80_13895', 'CIW80_01455', 'CIW80_14340', 'CIW80_03315', 'CIW80_00540', 'CIW80_16345', 'CIW80_03050', 'CIW80_10725', 'CIW80_04760', 'CIW80_11590', 'CIW80_13390', 'CIW80_14290', 'CIW80_08990', 'CIW80_24735', 'CIW80_25645', 'CIW80_07045', 'CIW80_08860', 'CIW80_15975', 'CIW80_08710', 'CIW80_14490', 'CIW80_00965', 'CIW80_01015', 'CIW80_02710', 'CIW80_15545', 'CIW80_06335', 'CIW80_00430', 'CIW80_04485', 'CIW80_11215', 'CIW80_04575', 'CIW80_23450', 'CIW80_01625', 'CIW80_12770', 'CIW80_24250', 'CIW80_23070', 'CIW80_10535', 'CIW80_03530', 'CIW80_25320', 'CIW80_01885', 'CIW80_17170', 'CIW80_02730', 'CIW80_06290', 'CIW80_02865', 'CIW80_18110', 'CIW80_04655', 'CIW80_03890', 'CIW80_06155', 'CIW80_04265', 'CIW80_20785', 'CIW80_17200', 'CIW80_08270', 'CIW80_21800', 'CIW80_04580', 'CIW80_03000', 'CIW80_08715', 'CIW80_15640', 'CIW80_18055', 'CIW80_04605', 'CIW80_04495', 'CIW80_20900', 'CIW80_06815', 'CIW80_15105', 'CIW80_24435', 'CIW80_19010', 'CIW80_22060', 'CIW80_00665', 'CIW80_15550', 'CIW80_08780', 'CIW80_15250', 'CIW80_23575', 'CIW80_17260', 'CIW80_18340', 'CIW80_11790', 'CIW80_15330', 'CIW80_06900', 'CIW80_17150', 'CIW80_04595', 'CIW80_21340', 'CIW80_08595', 'CIW80_15080', 'CIW80_24980', 'CIW80_22275', 'CIW80_22385', 'CIW80_14305', 'CIW80_14605', 'CIW80_25700', 'CIW80_24905', 'CIW80_00585', 'CIW80_17615', 'CIW80_04125', 'CIW80_01985', 'CIW80_21510', 'CIW80_20450', 'CIW80_08320', 'CIW80_02725', 'CIW80_20475', 'CIW80_09220', 'CIW80_15600', 'CIW80_01120', 'CIW80_24160', 'CIW80_06200', 'CIW80_00195', 'CIW80_00855', 'CIW80_24675', 'CIW80_18465', 'CIW80_12220', 'CIW80_18995', 'CIW80_08565', 'CIW80_19575', 'CIW80_16360', 'CIW80_19605', 'CIW80_06660', 'CIW80_12715', 'CIW80_16735', 'CIW80_20290', 'CIW80_18440', 'CIW80_13375', 'CIW80_23565', 'CIW80_12125', 'CIW80_21155', 'CIW80_09430', 'CIW80_12395', 'CIW80_24715', 'CIW80_01480', 'CIW80_12455', 'CIW80_25685', 'CIW80_12425', 'CIW80_19535', 'CIW80_06625', 'CIW80_23700', 'CIW80_14550', 'CIW80_24525', 'CIW80_06440', 'CIW80_09860', 'CIW80_12155', 'CIW80_23145', 'CIW80_11290', 'CIW80_06320', 'CIW80_09780', 'CIW80_22430', 'CIW80_02920', 'CIW80_20540', 'CIW80_02640', 'CIW80_22890', 'CIW80_18515', 'CIW80_20905', 'CIW80_22985', 'CIW80_12295', 'CIW80_11555', 'CIW80_12720', 'CIW80_15920', 'CIW80_24390', 'CIW80_11880', 'CIW80_00515', 'CIW80_24825', 'CIW80_04345', 'CIW80_18255', 'CIW80_09820', 'CIW80_12310', 'CIW80_00185', 'CIW80_15835', 'CIW80_12460', 'CIW80_19890', 'CIW80_15985', 'CIW80_18315', 'CIW80_20745', 'CIW80_20845', 'CIW80_20800', 'CIW80_14935', 'CIW80_17240', 'CIW80_22090', 'CIW80_01720', 'CIW80_17245', 'CIW80_20805', 'CIW80_04560', 'CIW80_00800', 'CIW80_09845', 'CIW80_11320', 'CIW80_19825', 'CIW80_20595', 'CIW80_24565', 'CIW80_02230', 'CIW80_25705', 'CIW80_24710', 'CIW80_10705', 'CIW80_23845', 'CIW80_21120', 'CIW80_05380', 'CIW80_24555', 'CIW80_02035', 'CIW80_23675', 'CIW80_00680', 'CIW80_01730', 'CIW80_23800', 'CIW80_01390', 'CIW80_19785', 'CIW80_24750', 'CIW80_09015', 'CIW80_11535', 'CIW80_20300', 'CIW80_22705', 'CIW80_03340', 'CIW80_06770', 'CIW80_00160', 'CIW80_00720', 'CIW80_14320', 'CIW80_12920', 'CIW80_02010', 'CIW80_10825', 'CIW80_25475', 'CIW80_00410', 'CIW80_03170', 'CIW80_12080', 'CIW80_22775', 'CIW80_09390', 'CIW80_10605', 'CIW80_04900', 'CIW80_05100', 'CIW80_25665', 'CIW80_00670', 'CIW80_15255', 'CIW80_21575', 'CIW80_08705', 'CIW80_15740', 'CIW80_07470'}\n",
      "CP000800 {'CIW80_01895', 'CIW80_22445', 'CIW80_06330', 'CIW80_08295', 'CIW80_15510', 'CIW80_15855', 'CIW80_04745', 'CIW80_11570', 'CIW80_11350', 'CIW80_16065', 'CIW80_02905', 'CIW80_10280', 'CIW80_05030', 'CIW80_06735', 'CIW80_09805', 'CIW80_04490', 'CIW80_25340', 'CIW80_01570', 'CIW80_12255', 'CIW80_12380', 'CIW80_05650', 'CIW80_13175', 'CIW80_16405', 'CIW80_12135', 'CIW80_01970', 'CIW80_13695', 'CIW80_19755', 'CIW80_08720', 'CIW80_22470', 'CIW80_10845', 'CIW80_23170', 'CIW80_02595', 'CIW80_15595', 'CIW80_08460', 'CIW80_10730', 'CIW80_16470', 'CIW80_02835', 'CIW80_15525', 'CIW80_19145', 'CIW80_25220', 'CIW80_24670', 'CIW80_04685', 'CIW80_22910', 'CIW80_18945', 'CIW80_02830', 'CIW80_01900', 'CIW80_18910', 'CIW80_25400', 'CIW80_07240', 'CIW80_12320', 'CIW80_09070', 'CIW80_14465', 'CIW80_25625', 'CIW80_06025', 'CIW80_00550', 'CIW80_20075', 'CIW80_17750', 'CIW80_00210', 'CIW80_04210', 'CIW80_16900', 'CIW80_20425', 'CIW80_16880', 'CIW80_06270', 'CIW80_08180', 'CIW80_20505', 'CIW80_22830', 'CIW80_10530', 'CIW80_10590', 'CIW80_21745', 'CIW80_21785', 'CIW80_15895', 'CIW80_21580', 'CIW80_13215', 'CIW80_24665', 'CIW80_15310', 'CIW80_17415', 'CIW80_00055', 'CIW80_13770', 'CIW80_03715', 'CIW80_24635', 'CIW80_08155', 'CIW80_23045', 'CIW80_25650', 'CIW80_16830', 'CIW80_00065', 'CIW80_21270', 'CIW80_00830', 'CIW80_25640', 'CIW80_06145', 'CIW80_09745', 'CIW80_21060', 'CIW80_17000', 'CIW80_03040', 'CIW80_18605', 'CIW80_10135', 'CIW80_09875', 'CIW80_19580', 'CIW80_01150', 'CIW80_18005', 'CIW80_12390', 'CIW80_13240', 'CIW80_07640', 'CIW80_14985', 'CIW80_12435', 'CIW80_19600', 'CIW80_22750', 'CIW80_20555', 'CIW80_20830', 'CIW80_04375', 'CIW80_18570', 'CIW80_06360', 'CIW80_07305', 'CIW80_07750', 'CIW80_02720', 'CIW80_18080', 'CIW80_24310', 'CIW80_08955', 'CIW80_04675', 'CIW80_22085', 'CIW80_14930', 'CIW80_25265', 'CIW80_12235', 'CIW80_14485', 'CIW80_06595', 'CIW80_00345', 'CIW80_17755', 'CIW80_19115', 'CIW80_08775', 'CIW80_20060', 'CIW80_21165', 'CIW80_14845', 'CIW80_06175', 'CIW80_00465', 'CIW80_06630', 'CIW80_07805', 'CIW80_08290', 'CIW80_07550', 'CIW80_16915', 'CIW80_22055', 'CIW80_16295', 'CIW80_16130', 'CIW80_01090', 'CIW80_01855', 'CIW80_05025', 'CIW80_17835', 'CIW80_25310', 'CIW80_00490', 'CIW80_03650', 'CIW80_00395', 'CIW80_23850', 'CIW80_24770', 'CIW80_13755', 'CIW80_19105', 'CIW80_03810', 'CIW80_04370', 'CIW80_04350', 'CIW80_03995', 'CIW80_08045', 'CIW80_13895', 'CIW80_01455', 'CIW80_14340', 'CIW80_16855', 'CIW80_00225', 'CIW80_00540', 'CIW80_01205', 'CIW80_23445', 'CIW80_03050', 'CIW80_10725', 'CIW80_04760', 'CIW80_11590', 'CIW80_13390', 'CIW80_23760', 'CIW80_24735', 'CIW80_07045', 'CIW80_15975', 'CIW80_08710', 'CIW80_21480', 'CIW80_16795', 'CIW80_00965', 'CIW80_16810', 'CIW80_01015', 'CIW80_02710', 'CIW80_15545', 'CIW80_06335', 'CIW80_20910', 'CIW80_22410', 'CIW80_13870', 'CIW80_00430', 'CIW80_04485', 'CIW80_11215', 'CIW80_04575', 'CIW80_03645', 'CIW80_09550', 'CIW80_01625', 'CIW80_12770', 'CIW80_07475', 'CIW80_23185', 'CIW80_24250', 'CIW80_10535', 'CIW80_03530', 'CIW80_02915', 'CIW80_03885', 'CIW80_25320', 'CIW80_18100', 'CIW80_01885', 'CIW80_04625', 'CIW80_17170', 'CIW80_02730', 'CIW80_06290', 'CIW80_11810', 'CIW80_16875', 'CIW80_02865', 'CIW80_18110', 'CIW80_03705', 'CIW80_03890', 'CIW80_06155', 'CIW80_21440', 'CIW80_06940', 'CIW80_08270', 'CIW80_21800', 'CIW80_04580', 'CIW80_03000', 'CIW80_19065', 'CIW80_15640', 'CIW80_18055', 'CIW80_04605', 'CIW80_01980', 'CIW80_04495', 'CIW80_20900', 'CIW80_19955', 'CIW80_16925', 'CIW80_06815', 'CIW80_15105', 'CIW80_16885', 'CIW80_13405', 'CIW80_24435', 'CIW80_22060', 'CIW80_14500', 'CIW80_24035', 'CIW80_19060', 'CIW80_19070', 'CIW80_17140', 'CIW80_16865', 'CIW80_15250', 'CIW80_16590', 'CIW80_13565', 'CIW80_24055', 'CIW80_18340', 'CIW80_11790', 'CIW80_06900', 'CIW80_05300', 'CIW80_17150', 'CIW80_21340', 'CIW80_19100', 'CIW80_24215', 'CIW80_08595', 'CIW80_17580', 'CIW80_24980', 'CIW80_22275', 'CIW80_22385', 'CIW80_14305', 'CIW80_23075', 'CIW80_01465', 'CIW80_14605', 'CIW80_19055', 'CIW80_10225', 'CIW80_00585', 'CIW80_17615', 'CIW80_16965', 'CIW80_01985', 'CIW80_15915', 'CIW80_21510', 'CIW80_20450', 'CIW80_08320', 'CIW80_25185', 'CIW80_08965', 'CIW80_09220', 'CIW80_15600', 'CIW80_24160', 'CIW80_24465', 'CIW80_06200', 'CIW80_08465', 'CIW80_00855', 'CIW80_15265', 'CIW80_12220', 'CIW80_08565', 'CIW80_19575', 'CIW80_06660', 'CIW80_00810', 'CIW80_20290', 'CIW80_00155', 'CIW80_21560', 'CIW80_13635', 'CIW80_13375', 'CIW80_12125', 'CIW80_03695', 'CIW80_19690', 'CIW80_18745', 'CIW80_09430', 'CIW80_24715', 'CIW80_04985', 'CIW80_01480', 'CIW80_12455', 'CIW80_25685', 'CIW80_03710', 'CIW80_12425', 'CIW80_23700', 'CIW80_24705', 'CIW80_06440', 'CIW80_09860', 'CIW80_00285', 'CIW80_17270', 'CIW80_11290', 'CIW80_09780', 'CIW80_22430', 'CIW80_02920', 'CIW80_20540', 'CIW80_03690', 'CIW80_20905', 'CIW80_04895', 'CIW80_22985', 'CIW80_12295', 'CIW80_11555', 'CIW80_19075', 'CIW80_12720', 'CIW80_15920', 'CIW80_19540', 'CIW80_24825', 'CIW80_04345', 'CIW80_18255', 'CIW80_09820', 'CIW80_08625', 'CIW80_19120', 'CIW80_12310', 'CIW80_13700', 'CIW80_17700', 'CIW80_00185', 'CIW80_15835', 'CIW80_07025', 'CIW80_19090', 'CIW80_15985', 'CIW80_18315', 'CIW80_20745', 'CIW80_01485', 'CIW80_20845', 'CIW80_02885', 'CIW80_14935', 'CIW80_00960', 'CIW80_01720', 'CIW80_17245', 'CIW80_20805', 'CIW80_00800', 'CIW80_09845', 'CIW80_11320', 'CIW80_19825', 'CIW80_24565', 'CIW80_24710', 'CIW80_10705', 'CIW80_21120', 'CIW80_03635', 'CIW80_05380', 'CIW80_02035', 'CIW80_22915', 'CIW80_00680', 'CIW80_16750', 'CIW80_04315', 'CIW80_23800', 'CIW80_18240', 'CIW80_19585', 'CIW80_24750', 'CIW80_03340', 'CIW80_06770', 'CIW80_00160', 'CIW80_21100', 'CIW80_00520', 'CIW80_00720', 'CIW80_12920', 'CIW80_02010', 'CIW80_10825', 'CIW80_12080', 'CIW80_09390', 'CIW80_10605', 'CIW80_04900', 'CIW80_00455', 'CIW80_00670', 'CIW80_15255', 'CIW80_21575', 'CIW80_05655', 'CIW80_07470'}\n",
      "FN649414 {'CIW80_03090', 'CIW80_22445', 'CIW80_21005', 'CIW80_06330', 'CIW80_08295', 'CIW80_15510', 'CIW80_15855', 'CIW80_04745', 'CIW80_11570', 'CIW80_10280', 'CIW80_05030', 'CIW80_06735', 'CIW80_09805', 'CIW80_01880', 'CIW80_04490', 'CIW80_25340', 'CIW80_01570', 'CIW80_12380', 'CIW80_05650', 'CIW80_13175', 'CIW80_16405', 'CIW80_12135', 'CIW80_04405', 'CIW80_13695', 'CIW80_19755', 'CIW80_19455', 'CIW80_22470', 'CIW80_19765', 'CIW80_10845', 'CIW80_23170', 'CIW80_02595', 'CIW80_15595', 'CIW80_10730', 'CIW80_16470', 'CIW80_15525', 'CIW80_19145', 'CIW80_25220', 'CIW80_21515', 'CIW80_22910', 'CIW80_25020', 'CIW80_11525', 'CIW80_25400', 'CIW80_12320', 'CIW80_18415', 'CIW80_06025', 'CIW80_00550', 'CIW80_12115', 'CIW80_20075', 'CIW80_00210', 'CIW80_04210', 'CIW80_10710', 'CIW80_09230', 'CIW80_08165', 'CIW80_16900', 'CIW80_16880', 'CIW80_08180', 'CIW80_20505', 'CIW80_23020', 'CIW80_10530', 'CIW80_10590', 'CIW80_21745', 'CIW80_21785', 'CIW80_25390', 'CIW80_01355', 'CIW80_15895', 'CIW80_21580', 'CIW80_13215', 'CIW80_24665', 'CIW80_17395', 'CIW80_03775', 'CIW80_23820', 'CIW80_15310', 'CIW80_17415', 'CIW80_00055', 'CIW80_01145', 'CIW80_08155', 'CIW80_23045', 'CIW80_11585', 'CIW80_25650', 'CIW80_24640', 'CIW80_16830', 'CIW80_00065', 'CIW80_19335', 'CIW80_00830', 'CIW80_01115', 'CIW80_06145', 'CIW80_00765', 'CIW80_08365', 'CIW80_09745', 'CIW80_21060', 'CIW80_17275', 'CIW80_03040', 'CIW80_18605', 'CIW80_10135', 'CIW80_09875', 'CIW80_19580', 'CIW80_01150', 'CIW80_18005', 'CIW80_12390', 'CIW80_08915', 'CIW80_00205', 'CIW80_19990', 'CIW80_14985', 'CIW80_12435', 'CIW80_19600', 'CIW80_16850', 'CIW80_20555', 'CIW80_19695', 'CIW80_24700', 'CIW80_18570', 'CIW80_07305', 'CIW80_07750', 'CIW80_24830', 'CIW80_10850', 'CIW80_23040', 'CIW80_08955', 'CIW80_04675', 'CIW80_22085', 'CIW80_14930', 'CIW80_12235', 'CIW80_06595', 'CIW80_17755', 'CIW80_20060', 'CIW80_05665', 'CIW80_16740', 'CIW80_21165', 'CIW80_14845', 'CIW80_06175', 'CIW80_00465', 'CIW80_05905', 'CIW80_06630', 'CIW80_02530', 'CIW80_08290', 'CIW80_24385', 'CIW80_16915', 'CIW80_22055', 'CIW80_16130', 'CIW80_05025', 'CIW80_17835', 'CIW80_25310', 'CIW80_03650', 'CIW80_00395', 'CIW80_23850', 'CIW80_00365', 'CIW80_13755', 'CIW80_08045', 'CIW80_13895', 'CIW80_01455', 'CIW80_14340', 'CIW80_16855', 'CIW80_00540', 'CIW80_03050', 'CIW80_10725', 'CIW80_04760', 'CIW80_11590', 'CIW80_14290', 'CIW80_08950', 'CIW80_24735', 'CIW80_07045', 'CIW80_12355', 'CIW80_15975', 'CIW80_08710', 'CIW80_12500', 'CIW80_14490', 'CIW80_16795', 'CIW80_00965', 'CIW80_02710', 'CIW80_02845', 'CIW80_15545', 'CIW80_06335', 'CIW80_00430', 'CIW80_04485', 'CIW80_11215', 'CIW80_04575', 'CIW80_03645', 'CIW80_11125', 'CIW80_09550', 'CIW80_01625', 'CIW80_12770', 'CIW80_07475', 'CIW80_24250', 'CIW80_23070', 'CIW80_10535', 'CIW80_03530', 'CIW80_03885', 'CIW80_12110', 'CIW80_25320', 'CIW80_18100', 'CIW80_01885', 'CIW80_17170', 'CIW80_02730', 'CIW80_02520', 'CIW80_06290', 'CIW80_11810', 'CIW80_16875', 'CIW80_02865', 'CIW80_18110', 'CIW80_03705', 'CIW80_03890', 'CIW80_06155', 'CIW80_21440', 'CIW80_17200', 'CIW80_08270', 'CIW80_21800', 'CIW80_04580', 'CIW80_03000', 'CIW80_09085', 'CIW80_19065', 'CIW80_15640', 'CIW80_18055', 'CIW80_04605', 'CIW80_01980', 'CIW80_04495', 'CIW80_20900', 'CIW80_06815', 'CIW80_15105', 'CIW80_16885', 'CIW80_24435', 'CIW80_22060', 'CIW80_15550', 'CIW80_14500', 'CIW80_19070', 'CIW80_15250', 'CIW80_17260', 'CIW80_18340', 'CIW80_11790', 'CIW80_06900', 'CIW80_00655', 'CIW80_17150', 'CIW80_19945', 'CIW80_04595', 'CIW80_21340', 'CIW80_17580', 'CIW80_08595', 'CIW80_15080', 'CIW80_24980', 'CIW80_22275', 'CIW80_22385', 'CIW80_14305', 'CIW80_14605', 'CIW80_19055', 'CIW80_15285', 'CIW80_00585', 'CIW80_17615', 'CIW80_01985', 'CIW80_21510', 'CIW80_24400', 'CIW80_20450', 'CIW80_08320', 'CIW80_02725', 'CIW80_25185', 'CIW80_20475', 'CIW80_09220', 'CIW80_15600', 'CIW80_01120', 'CIW80_24160', 'CIW80_24465', 'CIW80_06200', 'CIW80_21495', 'CIW80_08465', 'CIW80_00855', 'CIW80_12220', 'CIW80_08565', 'CIW80_19575', 'CIW80_19605', 'CIW80_06660', 'CIW80_00810', 'CIW80_20290', 'CIW80_24395', 'CIW80_00155', 'CIW80_19450', 'CIW80_13375', 'CIW80_12125', 'CIW80_17850', 'CIW80_21155', 'CIW80_03695', 'CIW80_19690', 'CIW80_23805', 'CIW80_09430', 'CIW80_12395', 'CIW80_24715', 'CIW80_04985', 'CIW80_01480', 'CIW80_25600', 'CIW80_12455', 'CIW80_05560', 'CIW80_25685', 'CIW80_03710', 'CIW80_12425', 'CIW80_19535', 'CIW80_06625', 'CIW80_23700', 'CIW80_24705', 'CIW80_14550', 'CIW80_06440', 'CIW80_09860', 'CIW80_00285', 'CIW80_11290', 'CIW80_06320', 'CIW80_09780', 'CIW80_22430', 'CIW80_02920', 'CIW80_20540', 'CIW80_03690', 'CIW80_22890', 'CIW80_20905', 'CIW80_22985', 'CIW80_23280', 'CIW80_12295', 'CIW80_18885', 'CIW80_11555', 'CIW80_19075', 'CIW80_12720', 'CIW80_15920', 'CIW80_11880', 'CIW80_00745', 'CIW80_00515', 'CIW80_24825', 'CIW80_04345', 'CIW80_18255', 'CIW80_09820', 'CIW80_11250', 'CIW80_25765', 'CIW80_08625', 'CIW80_19120', 'CIW80_12310', 'CIW80_00185', 'CIW80_15835', 'CIW80_19090', 'CIW80_15985', 'CIW80_18315', 'CIW80_20745', 'CIW80_03585', 'CIW80_20845', 'CIW80_20800', 'CIW80_14935', 'CIW80_22090', 'CIW80_19650', 'CIW80_01720', 'CIW80_17245', 'CIW80_20805', 'CIW80_20260', 'CIW80_04560', 'CIW80_00800', 'CIW80_09845', 'CIW80_11320', 'CIW80_24565', 'CIW80_03820', 'CIW80_08455', 'CIW80_10705', 'CIW80_23845', 'CIW80_21120', 'CIW80_05380', 'CIW80_03305', 'CIW80_02035', 'CIW80_03700', 'CIW80_00680', 'CIW80_01730', 'CIW80_23800', 'CIW80_01390', 'CIW80_19785', 'CIW80_17320', 'CIW80_21095', 'CIW80_24750', 'CIW80_09015', 'CIW80_20300', 'CIW80_24130', 'CIW80_03340', 'CIW80_06770', 'CIW80_00160', 'CIW80_00720', 'CIW80_14320', 'CIW80_12920', 'CIW80_02010', 'CIW80_10825', 'CIW80_12080', 'CIW80_22775', 'CIW80_09390', 'CIW80_10605', 'CIW80_04900', 'CIW80_03540', 'CIW80_00670', 'CIW80_15255', 'CIW80_21575', 'CIW80_15740', 'CIW80_05655'}\n"
     ]
    },
    {
     "name": "stdout",
     "output_type": "stream",
     "text": [
      "CP002729 {'CIW80_22445', 'CIW80_06330', 'CIW80_08295', 'CIW80_15510', 'CIW80_15855', 'CIW80_04745', 'CIW80_11570', 'CIW80_08630', 'CIW80_02905', 'CIW80_10280', 'CIW80_09630', 'CIW80_05030', 'CIW80_06735', 'CIW80_09805', 'CIW80_16235', 'CIW80_04425', 'CIW80_19530', 'CIW80_04490', 'CIW80_25340', 'CIW80_01570', 'CIW80_12380', 'CIW80_02890', 'CIW80_09010', 'CIW80_05650', 'CIW80_24680', 'CIW80_13175', 'CIW80_16405', 'CIW80_12135', 'CIW80_23695', 'CIW80_13475', 'CIW80_13695', 'CIW80_19755', 'CIW80_08720', 'CIW80_22470', 'CIW80_19765', 'CIW80_10845', 'CIW80_23170', 'CIW80_17790', 'CIW80_23115', 'CIW80_02595', 'CIW80_15595', 'CIW80_08460', 'CIW80_10730', 'CIW80_16470', 'CIW80_02835', 'CIW80_15525', 'CIW80_25220', 'CIW80_19975', 'CIW80_24610', 'CIW80_22910', 'CIW80_08855', 'CIW80_12375', 'CIW80_11525', 'CIW80_18910', 'CIW80_17670', 'CIW80_25400', 'CIW80_18415', 'CIW80_03670', 'CIW80_06025', 'CIW80_00550', 'CIW80_20075', 'CIW80_17750', 'CIW80_00210', 'CIW80_04210', 'CIW80_13030', 'CIW80_10710', 'CIW80_15195', 'CIW80_18870', 'CIW80_08180', 'CIW80_20505', 'CIW80_10530', 'CIW80_03600', 'CIW80_10590', 'CIW80_21745', 'CIW80_21785', 'CIW80_01355', 'CIW80_15895', 'CIW80_21580', 'CIW80_13215', 'CIW80_24665', 'CIW80_15310', 'CIW80_17415', 'CIW80_00055', 'CIW80_13770', 'CIW80_24635', 'CIW80_08155', 'CIW80_23045', 'CIW80_25650', 'CIW80_24640', 'CIW80_16830', 'CIW80_00065', 'CIW80_21270', 'CIW80_19335', 'CIW80_19200', 'CIW80_00830', 'CIW80_01115', 'CIW80_06145', 'CIW80_08850', 'CIW80_03310', 'CIW80_08365', 'CIW80_21060', 'CIW80_03040', 'CIW80_18605', 'CIW80_10135', 'CIW80_09875', 'CIW80_04365', 'CIW80_19580', 'CIW80_01150', 'CIW80_18005', 'CIW80_12390', 'CIW80_13240', 'CIW80_16825', 'CIW80_00205', 'CIW80_12385', 'CIW80_14985', 'CIW80_19600', 'CIW80_16850', 'CIW80_22750', 'CIW80_20555', 'CIW80_04375', 'CIW80_18570', 'CIW80_07305', 'CIW80_07750', 'CIW80_18080', 'CIW80_10850', 'CIW80_24685', 'CIW80_04675', 'CIW80_22085', 'CIW80_25265', 'CIW80_12235', 'CIW80_06595', 'CIW80_17755', 'CIW80_24420', 'CIW80_20060', 'CIW80_21165', 'CIW80_23120', 'CIW80_14845', 'CIW80_24330', 'CIW80_06175', 'CIW80_00465', 'CIW80_06630', 'CIW80_08290', 'CIW80_05765', 'CIW80_24385', 'CIW80_22055', 'CIW80_16130', 'CIW80_08840', 'CIW80_01090', 'CIW80_05025', 'CIW80_17835', 'CIW80_25310', 'CIW80_03650', 'CIW80_00395', 'CIW80_24770', 'CIW80_13755', 'CIW80_03995', 'CIW80_08045', 'CIW80_13895', 'CIW80_01455', 'CIW80_14340', 'CIW80_03315', 'CIW80_00540', 'CIW80_23445', 'CIW80_03050', 'CIW80_10725', 'CIW80_04760', 'CIW80_11590', 'CIW80_03640', 'CIW80_13390', 'CIW80_24745', 'CIW80_24735', 'CIW80_07045', 'CIW80_15975', 'CIW80_08710', 'CIW80_16795', 'CIW80_00965', 'CIW80_16810', 'CIW80_01015', 'CIW80_02710', 'CIW80_15545', 'CIW80_06335', 'CIW80_00430', 'CIW80_23355', 'CIW80_04485', 'CIW80_11215', 'CIW80_04575', 'CIW80_03645', 'CIW80_11125', 'CIW80_09550', 'CIW80_01625', 'CIW80_12770', 'CIW80_07475', 'CIW80_23185', 'CIW80_23070', 'CIW80_10535', 'CIW80_02915', 'CIW80_03885', 'CIW80_25320', 'CIW80_18100', 'CIW80_01885', 'CIW80_11810', 'CIW80_02865', 'CIW80_18110', 'CIW80_03705', 'CIW80_03890', 'CIW80_06155', 'CIW80_21440', 'CIW80_08270', 'CIW80_21800', 'CIW80_04580', 'CIW80_03000', 'CIW80_19065', 'CIW80_15640', 'CIW80_04495', 'CIW80_04605', 'CIW80_01980', 'CIW80_20900', 'CIW80_06815', 'CIW80_15105', 'CIW80_16885', 'CIW80_13405', 'CIW80_24435', 'CIW80_22060', 'CIW80_15550', 'CIW80_14500', 'CIW80_24035', 'CIW80_16865', 'CIW80_08795', 'CIW80_15250', 'CIW80_16590', 'CIW80_17260', 'CIW80_18340', 'CIW80_11790', 'CIW80_18955', 'CIW80_00655', 'CIW80_04595', 'CIW80_21340', 'CIW80_16330', 'CIW80_08595', 'CIW80_24980', 'CIW80_22275', 'CIW80_22385', 'CIW80_23135', 'CIW80_14305', 'CIW80_14605', 'CIW80_19055', 'CIW80_15285', 'CIW80_16800', 'CIW80_00585', 'CIW80_17615', 'CIW80_01985', 'CIW80_18470', 'CIW80_21510', 'CIW80_23440', 'CIW80_16250', 'CIW80_20450', 'CIW80_08320', 'CIW80_25185', 'CIW80_20475', 'CIW80_09220', 'CIW80_15600', 'CIW80_01120', 'CIW80_24160', 'CIW80_06200', 'CIW80_08465', 'CIW80_22580', 'CIW80_00855', 'CIW80_03675', 'CIW80_12220', 'CIW80_14020', 'CIW80_08565', 'CIW80_19575', 'CIW80_19605', 'CIW80_06660', 'CIW80_00810', 'CIW80_10970', 'CIW80_20290', 'CIW80_02050', 'CIW80_00155', 'CIW80_19450', 'CIW80_13375', 'CIW80_12125', 'CIW80_21155', 'CIW80_03695', 'CIW80_19690', 'CIW80_20810', 'CIW80_09430', 'CIW80_12395', 'CIW80_24715', 'CIW80_01480', 'CIW80_23125', 'CIW80_25600', 'CIW80_12455', 'CIW80_25685', 'CIW80_03710', 'CIW80_12425', 'CIW80_19535', 'CIW80_06625', 'CIW80_23700', 'CIW80_24705', 'CIW80_14550', 'CIW80_18460', 'CIW80_06440', 'CIW80_09860', 'CIW80_03615', 'CIW80_00285', 'CIW80_21265', 'CIW80_11290', 'CIW80_09780', 'CIW80_22430', 'CIW80_02920', 'CIW80_20540', 'CIW80_08645', 'CIW80_03690', 'CIW80_22890', 'CIW80_23130', 'CIW80_20905', 'CIW80_22985', 'CIW80_12295', 'CIW80_11555', 'CIW80_12720', 'CIW80_15920', 'CIW80_24390', 'CIW80_19540', 'CIW80_00515', 'CIW80_24825', 'CIW80_04345', 'CIW80_18255', 'CIW80_08625', 'CIW80_19120', 'CIW80_12310', 'CIW80_13700', 'CIW80_00185', 'CIW80_15835', 'CIW80_19090', 'CIW80_15985', 'CIW80_18315', 'CIW80_20745', 'CIW80_20845', 'CIW80_02885', 'CIW80_14935', 'CIW80_19650', 'CIW80_00960', 'CIW80_01720', 'CIW80_17245', 'CIW80_20805', 'CIW80_04560', 'CIW80_05095', 'CIW80_00800', 'CIW80_09845', 'CIW80_11320', 'CIW80_19825', 'CIW80_24565', 'CIW80_24710', 'CIW80_10705', 'CIW80_21120', 'CIW80_03635', 'CIW80_05380', 'CIW80_03305', 'CIW80_02035', 'CIW80_23110', 'CIW80_22915', 'CIW80_03700', 'CIW80_00680', 'CIW80_01730', 'CIW80_23800', 'CIW80_01390', 'CIW80_11135', 'CIW80_19785', 'CIW80_19585', 'CIW80_24750', 'CIW80_03340', 'CIW80_06770', 'CIW80_00160', 'CIW80_00720', 'CIW80_14320', 'CIW80_12920', 'CIW80_10825', 'CIW80_12080', 'CIW80_22775', 'CIW80_09390', 'CIW80_10605', 'CIW80_04900', 'CIW80_15255', 'CIW80_21575', 'CIW80_08705', 'CIW80_15740', 'CIW80_05655'}\n",
      "CP001969 {'CIW80_03090', 'CIW80_22445', 'CIW80_06330', 'CIW80_08295', 'CIW80_15510', 'CIW80_15855', 'CIW80_04745', 'CIW80_11570', 'CIW80_11350', 'CIW80_16155', 'CIW80_02905', 'CIW80_10280', 'CIW80_09630', 'CIW80_05030', 'CIW80_06735', 'CIW80_09805', 'CIW80_04425', 'CIW80_04490', 'CIW80_25340', 'CIW80_12160', 'CIW80_23660', 'CIW80_01570', 'CIW80_24460', 'CIW80_23630', 'CIW80_03475', 'CIW80_24325', 'CIW80_05650', 'CIW80_13175', 'CIW80_16405', 'CIW80_12135', 'CIW80_23555', 'CIW80_23655', 'CIW80_13695', 'CIW80_19755', 'CIW80_13245', 'CIW80_22470', 'CIW80_19765', 'CIW80_10845', 'CIW80_00300', 'CIW80_23170', 'CIW80_17790', 'CIW80_23115', 'CIW80_02595', 'CIW80_22995', 'CIW80_15595', 'CIW80_08460', 'CIW80_10730', 'CIW80_16470', 'CIW80_02835', 'CIW80_15525', 'CIW80_25220', 'CIW80_03465', 'CIW80_24610', 'CIW80_12710', 'CIW80_22910', 'CIW80_25710', 'CIW80_02830', 'CIW80_05590', 'CIW80_11525', 'CIW80_18910', 'CIW80_17670', 'CIW80_25400', 'CIW80_11010', 'CIW80_18415', 'CIW80_03670', 'CIW80_23650', 'CIW80_06025', 'CIW80_00550', 'CIW80_19520', 'CIW80_12115', 'CIW80_08665', 'CIW80_14440', 'CIW80_17750', 'CIW80_00210', 'CIW80_04210', 'CIW80_10710', 'CIW80_09230', 'CIW80_16900', 'CIW80_11595', 'CIW80_15195', 'CIW80_03300', 'CIW80_19045', 'CIW80_00290', 'CIW80_25215', 'CIW80_03245', 'CIW80_08180', 'CIW80_14460', 'CIW80_20505', 'CIW80_03380', 'CIW80_14885', 'CIW80_23605', 'CIW80_10530', 'CIW80_03600', 'CIW80_10590', 'CIW80_21745', 'CIW80_21785', 'CIW80_01355', 'CIW80_15895', 'CIW80_21580', 'CIW80_13215', 'CIW80_24665', 'CIW80_24445', 'CIW80_03775', 'CIW80_15310', 'CIW80_17305', 'CIW80_17415', 'CIW80_00055', 'CIW80_24635', 'CIW80_08155', 'CIW80_23045', 'CIW80_19710', 'CIW80_25650', 'CIW80_24640', 'CIW80_25135', 'CIW80_14030', 'CIW80_00065', 'CIW80_21270', 'CIW80_24455', 'CIW80_19335', 'CIW80_00830', 'CIW80_01115', 'CIW80_06145', 'CIW80_03310', 'CIW80_03480', 'CIW80_03470', 'CIW80_08365', 'CIW80_21060', 'CIW80_08655', 'CIW80_20720', 'CIW80_17275', 'CIW80_03040', 'CIW80_18605', 'CIW80_10135', 'CIW80_22425', 'CIW80_24875', 'CIW80_09875', 'CIW80_19900', 'CIW80_19580', 'CIW80_01150', 'CIW80_18005', 'CIW80_00205', 'CIW80_19990', 'CIW80_14985', 'CIW80_12435', 'CIW80_19600', 'CIW80_16850', 'CIW80_22750', 'CIW80_13640', 'CIW80_20555', 'CIW80_24350', 'CIW80_19695', 'CIW80_23590', 'CIW80_04375', 'CIW80_18570', 'CIW80_23580', 'CIW80_07305', 'CIW80_07750', 'CIW80_10850', 'CIW80_25715', 'CIW80_04675', 'CIW80_22085', 'CIW80_19125', 'CIW80_19525', 'CIW80_12235', 'CIW80_00295', 'CIW80_06595', 'CIW80_17755', 'CIW80_00370', 'CIW80_20060', 'CIW80_02030', 'CIW80_03850', 'CIW80_21165', 'CIW80_23120', 'CIW80_14845', 'CIW80_24330', 'CIW80_06175', 'CIW80_00465', 'CIW80_06630', 'CIW80_07805', 'CIW80_08290', 'CIW80_05765', 'CIW80_13220', 'CIW80_07550', 'CIW80_24385', 'CIW80_07575', 'CIW80_16915', 'CIW80_19840', 'CIW80_22055', 'CIW80_00675', 'CIW80_16130', 'CIW80_19515', 'CIW80_01090', 'CIW80_05025', 'CIW80_17835', 'CIW80_25310', 'CIW80_03650', 'CIW80_00395', 'CIW80_23850', 'CIW80_13755', 'CIW80_16840', 'CIW80_03995', 'CIW80_08045', 'CIW80_19735', 'CIW80_13895', 'CIW80_01455', 'CIW80_14340', 'CIW80_14045', 'CIW80_00225', 'CIW80_00540', 'CIW80_23445', 'CIW80_16345', 'CIW80_03050', 'CIW80_19390', 'CIW80_04760', 'CIW80_11590', 'CIW80_03640', 'CIW80_13390', 'CIW80_03485', 'CIW80_24745', 'CIW80_24735', 'CIW80_07045', 'CIW80_08810', 'CIW80_05065', 'CIW80_23645', 'CIW80_15975', 'CIW80_08710', 'CIW80_00965', 'CIW80_04695', 'CIW80_01015', 'CIW80_02710', 'CIW80_23510', 'CIW80_15545', 'CIW80_06335', 'CIW80_24340', 'CIW80_23635', 'CIW80_23355', 'CIW80_14455', 'CIW80_11215', 'CIW80_04485', 'CIW80_03645', 'CIW80_11125', 'CIW80_09550', 'CIW80_01625', 'CIW80_12770', 'CIW80_07475', 'CIW80_23185', 'CIW80_24250', 'CIW80_23070', 'CIW80_10535', 'CIW80_15720', 'CIW80_02915', 'CIW80_25320', 'CIW80_01885', 'CIW80_17170', 'CIW80_02730', 'CIW80_13460', 'CIW80_21425', 'CIW80_03545', 'CIW80_23525', 'CIW80_06290', 'CIW80_11810', 'CIW80_02865', 'CIW80_15945', 'CIW80_18110', 'CIW80_03705', 'CIW80_04655', 'CIW80_03890', 'CIW80_02475', 'CIW80_06155', 'CIW80_24450', 'CIW80_03495', 'CIW80_04265', 'CIW80_21440', 'CIW80_06940', 'CIW80_17200', 'CIW80_08270', 'CIW80_21800', 'CIW80_04580', 'CIW80_03000', 'CIW80_19065', 'CIW80_15640', 'CIW80_04495', 'CIW80_04605', 'CIW80_01980', 'CIW80_20900', 'CIW80_06815', 'CIW80_15105', 'CIW80_18295', 'CIW80_11800', 'CIW80_08405', 'CIW80_18025', 'CIW80_22060', 'CIW80_15550', 'CIW80_03405', 'CIW80_14500', 'CIW80_24035', 'CIW80_19070', 'CIW80_03565', 'CIW80_19775', 'CIW80_16865', 'CIW80_15250', 'CIW80_23575', 'CIW80_07405', 'CIW80_17260', 'CIW80_20565', 'CIW80_18340', 'CIW80_11790', 'CIW80_03500', 'CIW80_00655', 'CIW80_07260', 'CIW80_04595', 'CIW80_21340', 'CIW80_16330', 'CIW80_08595', 'CIW80_18300', 'CIW80_15080', 'CIW80_24980', 'CIW80_03505', 'CIW80_22275', 'CIW80_22385', 'CIW80_08940', 'CIW80_14305', 'CIW80_23075', 'CIW80_23665', 'CIW80_14605', 'CIW80_19055', 'CIW80_15285', 'CIW80_18695', 'CIW80_00705', 'CIW80_01985', 'CIW80_03720', 'CIW80_21510', 'CIW80_24400', 'CIW80_20450', 'CIW80_08320', 'CIW80_25185', 'CIW80_20475', 'CIW80_09220', 'CIW80_15600', 'CIW80_01120', 'CIW80_24160', 'CIW80_09555', 'CIW80_06200', 'CIW80_08465', 'CIW80_22580', 'CIW80_00855', 'CIW80_24675', 'CIW80_03675', 'CIW80_12220', 'CIW80_14020', 'CIW80_08565', 'CIW80_15625', 'CIW80_19575', 'CIW80_16360', 'CIW80_19605', 'CIW80_06660', 'CIW80_00810', 'CIW80_10970', 'CIW80_03590', 'CIW80_24395', 'CIW80_14725', 'CIW80_00155', 'CIW80_13375', 'CIW80_23565', 'CIW80_12125', 'CIW80_17850', 'CIW80_21155', 'CIW80_03695', 'CIW80_19690', 'CIW80_23805', 'CIW80_09430', 'CIW80_12395', 'CIW80_24715', 'CIW80_04985', 'CIW80_01480', 'CIW80_12455', 'CIW80_10930', 'CIW80_25685', 'CIW80_12425', 'CIW80_03710', 'CIW80_19535', 'CIW80_06625', 'CIW80_23700', 'CIW80_03435', 'CIW80_24705', 'CIW80_14550', 'CIW80_06440', 'CIW80_02895', 'CIW80_09860', 'CIW80_12155', 'CIW80_03615', 'CIW80_23145', 'CIW80_00285', 'CIW80_11290', 'CIW80_09780', 'CIW80_22430', 'CIW80_03625', 'CIW80_24320', 'CIW80_02920', 'CIW80_20540', 'CIW80_02640', 'CIW80_03690', 'CIW80_22890', 'CIW80_23130', 'CIW80_17285', 'CIW80_20905', 'CIW80_04895', 'CIW80_22985', 'CIW80_12295', 'CIW80_11555', 'CIW80_01230', 'CIW80_00190', 'CIW80_12720', 'CIW80_15920', 'CIW80_24390', 'CIW80_23455', 'CIW80_19540', 'CIW80_00515', 'CIW80_00035', 'CIW80_24825', 'CIW80_04345', 'CIW80_18255', 'CIW80_21390', 'CIW80_08625', 'CIW80_12310', 'CIW80_17700', 'CIW80_00185', 'CIW80_15835', 'CIW80_19890', 'CIW80_04835', 'CIW80_19090', 'CIW80_21160', 'CIW80_15985', 'CIW80_18315', 'CIW80_20745', 'CIW80_03005', 'CIW80_20845', 'CIW80_02885', 'CIW80_14935', 'CIW80_17240', 'CIW80_04875', 'CIW80_00960', 'CIW80_01720', 'CIW80_17245', 'CIW80_20805', 'CIW80_10185', 'CIW80_04560', 'CIW80_15175', 'CIW80_00800', 'CIW80_11320', 'CIW80_19825', 'CIW80_16385', 'CIW80_03820', 'CIW80_02230', 'CIW80_25705', 'CIW80_24710', 'CIW80_10705', 'CIW80_21120', 'CIW80_05380', 'CIW80_03305', 'CIW80_02035', 'CIW80_22915', 'CIW80_13325', 'CIW80_03700', 'CIW80_16860', 'CIW80_00680', 'CIW80_23495', 'CIW80_01730', 'CIW80_23800', 'CIW80_01390', 'CIW80_19730', 'CIW80_19785', 'CIW80_19585', 'CIW80_24600', 'CIW80_24750', 'CIW80_22705', 'CIW80_14450', 'CIW80_06770', 'CIW80_00160', 'CIW80_00720', 'CIW80_14320', 'CIW80_12920', 'CIW80_02010', 'CIW80_10825', 'CIW80_25475', 'CIW80_12080', 'CIW80_09390', 'CIW80_17935', 'CIW80_10605', 'CIW80_00750', 'CIW80_04900', 'CIW80_03540', 'CIW80_00670', 'CIW80_15255', 'CIW80_15885', 'CIW80_21575', 'CIW80_15740', 'CIW80_05655'}\n",
      "CU928161 {'CIW80_03090', 'CIW80_22445', 'CIW80_06330', 'CIW80_08295', 'CIW80_15510', 'CIW80_15855', 'CIW80_04745', 'CIW80_11570', 'CIW80_10280', 'CIW80_09630', 'CIW80_05030', 'CIW80_09805', 'CIW80_01880', 'CIW80_04490', 'CIW80_25340', 'CIW80_12160', 'CIW80_01570', 'CIW80_12380', 'CIW80_24325', 'CIW80_05650', 'CIW80_13175', 'CIW80_16405', 'CIW80_12135', 'CIW80_13695', 'CIW80_19755', 'CIW80_13245', 'CIW80_00385', 'CIW80_22470', 'CIW80_10845', 'CIW80_23170', 'CIW80_02595', 'CIW80_15595', 'CIW80_10730', 'CIW80_16470', 'CIW80_02835', 'CIW80_15525', 'CIW80_25220', 'CIW80_22910', 'CIW80_25710', 'CIW80_02830', 'CIW80_05590', 'CIW80_18910', 'CIW80_17670', 'CIW80_25400', 'CIW80_12320', 'CIW80_21645', 'CIW80_11010', 'CIW80_18415', 'CIW80_06025', 'CIW80_00550', 'CIW80_12115', 'CIW80_20075', 'CIW80_00210', 'CIW80_04210', 'CIW80_09230', 'CIW80_08165', 'CIW80_16900', 'CIW80_15195', 'CIW80_08180', 'CIW80_14460', 'CIW80_20505', 'CIW80_23605', 'CIW80_17020', 'CIW80_10530', 'CIW80_10590', 'CIW80_21745', 'CIW80_21785', 'CIW80_15895', 'CIW80_21580', 'CIW80_13215', 'CIW80_24665', 'CIW80_03775', 'CIW80_15310', 'CIW80_17415', 'CIW80_00055', 'CIW80_01145', 'CIW80_23045', 'CIW80_19710', 'CIW80_25650', 'CIW80_16830', 'CIW80_19590', 'CIW80_21270', 'CIW80_24455', 'CIW80_00830', 'CIW80_06145', 'CIW80_08365', 'CIW80_21060', 'CIW80_03040', 'CIW80_18605', 'CIW80_10135', 'CIW80_24875', 'CIW80_09875', 'CIW80_19900', 'CIW80_08635', 'CIW80_19580', 'CIW80_01150', 'CIW80_18005', 'CIW80_12390', 'CIW80_12050', 'CIW80_08915', 'CIW80_00205', 'CIW80_10085', 'CIW80_14985', 'CIW80_12435', 'CIW80_19600', 'CIW80_16850', 'CIW80_20555', 'CIW80_24700', 'CIW80_04375', 'CIW80_18570', 'CIW80_17110', 'CIW80_07305', 'CIW80_07750', 'CIW80_23040', 'CIW80_08955', 'CIW80_04675', 'CIW80_22085', 'CIW80_14930', 'CIW80_19525', 'CIW80_12235', 'CIW80_00295', 'CIW80_06595', 'CIW80_17755', 'CIW80_20060', 'CIW80_21165', 'CIW80_14845', 'CIW80_24330', 'CIW80_06175', 'CIW80_05905', 'CIW80_07805', 'CIW80_08290', 'CIW80_05765', 'CIW80_13220', 'CIW80_07550', 'CIW80_24385', 'CIW80_07575', 'CIW80_16915', 'CIW80_22055', 'CIW80_16130', 'CIW80_19515', 'CIW80_05025', 'CIW80_17835', 'CIW80_00395', 'CIW80_15950', 'CIW80_03995', 'CIW80_08045', 'CIW80_13895', 'CIW80_01455', 'CIW80_14340', 'CIW80_16855', 'CIW80_00540', 'CIW80_23445', 'CIW80_16345', 'CIW80_03050', 'CIW80_10725', 'CIW80_19390', 'CIW80_08620', 'CIW80_04760', 'CIW80_11590', 'CIW80_14290', 'CIW80_23600', 'CIW80_24735', 'CIW80_07045', 'CIW80_08860', 'CIW80_15975', 'CIW80_08710', 'CIW80_14490', 'CIW80_21480', 'CIW80_16795', 'CIW80_00965', 'CIW80_16810', 'CIW80_01015', 'CIW80_02710', 'CIW80_15545', 'CIW80_06335', 'CIW80_24340', 'CIW80_00430', 'CIW80_04485', 'CIW80_11215', 'CIW80_04575', 'CIW80_03645', 'CIW80_11125', 'CIW80_01625', 'CIW80_12770', 'CIW80_07475', 'CIW80_23185', 'CIW80_23070', 'CIW80_10535', 'CIW80_02915', 'CIW80_25320', 'CIW80_18100', 'CIW80_17130', 'CIW80_01885', 'CIW80_17170', 'CIW80_02730', 'CIW80_24410', 'CIW80_06290', 'CIW80_06325', 'CIW80_11810', 'CIW80_16875', 'CIW80_02865', 'CIW80_18110', 'CIW80_03705', 'CIW80_04655', 'CIW80_03890', 'CIW80_06155', 'CIW80_24450', 'CIW80_04265', 'CIW80_21440', 'CIW80_06940', 'CIW80_17200', 'CIW80_08270', 'CIW80_21800', 'CIW80_08715', 'CIW80_19505', 'CIW80_19065', 'CIW80_15640', 'CIW80_04495', 'CIW80_01980', 'CIW80_20900', 'CIW80_06815', 'CIW80_15105', 'CIW80_16885', 'CIW80_22060', 'CIW80_00665', 'CIW80_15550', 'CIW80_24035', 'CIW80_08780', 'CIW80_19070', 'CIW80_15250', 'CIW80_17260', 'CIW80_20565', 'CIW80_18340', 'CIW80_11790', 'CIW80_15330', 'CIW80_06900', 'CIW80_00655', 'CIW80_07260', 'CIW80_17150', 'CIW80_19945', 'CIW80_04595', 'CIW80_21340', 'CIW80_08595', 'CIW80_15080', 'CIW80_24980', 'CIW80_22275', 'CIW80_22385', 'CIW80_14305', 'CIW80_14605', 'CIW80_19055', 'CIW80_00585', 'CIW80_17615', 'CIW80_00705', 'CIW80_01985', 'CIW80_21510', 'CIW80_24400', 'CIW80_20450', 'CIW80_08320', 'CIW80_20475', 'CIW80_12505', 'CIW80_09220', 'CIW80_15600', 'CIW80_01120', 'CIW80_24160', 'CIW80_06200', 'CIW80_08465', 'CIW80_00855', 'CIW80_15265', 'CIW80_24675', 'CIW80_03675', 'CIW80_21630', 'CIW80_12220', 'CIW80_08565', 'CIW80_19575', 'CIW80_16360', 'CIW80_19605', 'CIW80_06660', 'CIW80_00810', 'CIW80_16735', 'CIW80_20290', 'CIW80_13145', 'CIW80_24395', 'CIW80_00155', 'CIW80_13375', 'CIW80_17850', 'CIW80_21155', 'CIW80_03695', 'CIW80_19690', 'CIW80_23805', 'CIW80_09430', 'CIW80_24715', 'CIW80_12455', 'CIW80_03710', 'CIW80_12425', 'CIW80_19535', 'CIW80_06625', 'CIW80_23700', 'CIW80_24705', 'CIW80_14550', 'CIW80_06440', 'CIW80_02895', 'CIW80_09860', 'CIW80_17105', 'CIW80_12155', 'CIW80_11290', 'CIW80_06320', 'CIW80_09780', 'CIW80_22430', 'CIW80_24320', 'CIW80_02920', 'CIW80_20540', 'CIW80_02640', 'CIW80_03690', 'CIW80_22890', 'CIW80_20905', 'CIW80_04895', 'CIW80_11555', 'CIW80_19075', 'CIW80_12720', 'CIW80_15920', 'CIW80_11880', 'CIW80_19540', 'CIW80_00515', 'CIW80_00035', 'CIW80_24825', 'CIW80_04345', 'CIW80_01685', 'CIW80_18255', 'CIW80_09820', 'CIW80_17345', 'CIW80_08625', 'CIW80_19120', 'CIW80_12310', 'CIW80_00185', 'CIW80_15835', 'CIW80_19890', 'CIW80_19090', 'CIW80_20745', 'CIW80_03005', 'CIW80_20845', 'CIW80_02885', 'CIW80_14935', 'CIW80_17245', 'CIW80_20805', 'CIW80_00800', 'CIW80_02230', 'CIW80_25705', 'CIW80_24710', 'CIW80_10705', 'CIW80_21120', 'CIW80_03635', 'CIW80_05380', 'CIW80_02035', 'CIW80_22915', 'CIW80_03700', 'CIW80_00680', 'CIW80_23800', 'CIW80_01390', 'CIW80_19730', 'CIW80_19785', 'CIW80_19585', 'CIW80_24600', 'CIW80_24750', 'CIW80_09015', 'CIW80_22705', 'CIW80_14450', 'CIW80_03340', 'CIW80_06770', 'CIW80_00160', 'CIW80_00720', 'CIW80_14320', 'CIW80_12920', 'CIW80_02010', 'CIW80_10825', 'CIW80_12080', 'CIW80_10605', 'CIW80_04900', 'CIW80_03540', 'CIW80_00670', 'CIW80_15255', 'CIW80_21575', 'CIW80_15740', 'CIW80_05655'}\n"
     ]
    },
    {
     "name": "stdout",
     "output_type": "stream",
     "text": [
      "CP000247 {'CIW80_22445', 'CIW80_06330', 'CIW80_08295', 'CIW80_15510', 'CIW80_15855', 'CIW80_04745', 'CIW80_11570', 'CIW80_10280', 'CIW80_09630', 'CIW80_05030', 'CIW80_06735', 'CIW80_09805', 'CIW80_01880', 'CIW80_04490', 'CIW80_25340', 'CIW80_01570', 'CIW80_12380', 'CIW80_23630', 'CIW80_03475', 'CIW80_19205', 'CIW80_05650', 'CIW80_23420', 'CIW80_13175', 'CIW80_16405', 'CIW80_12135', 'CIW80_23325', 'CIW80_23555', 'CIW80_13695', 'CIW80_13245', 'CIW80_22470', 'CIW80_19765', 'CIW80_10845', 'CIW80_23170', 'CIW80_17790', 'CIW80_23360', 'CIW80_15595', 'CIW80_08460', 'CIW80_10730', 'CIW80_16470', 'CIW80_02835', 'CIW80_15525', 'CIW80_19145', 'CIW80_25220', 'CIW80_25710', 'CIW80_18945', 'CIW80_02830', 'CIW80_05590', 'CIW80_11525', 'CIW80_18910', 'CIW80_17670', 'CIW80_25400', 'CIW80_12320', 'CIW80_18415', 'CIW80_06025', 'CIW80_01845', 'CIW80_00550', 'CIW80_23625', 'CIW80_12115', 'CIW80_08665', 'CIW80_20075', 'CIW80_17750', 'CIW80_00210', 'CIW80_04210', 'CIW80_02815', 'CIW80_08165', 'CIW80_16900', 'CIW80_15195', 'CIW80_19045', 'CIW80_08180', 'CIW80_20505', 'CIW80_03380', 'CIW80_13915', 'CIW80_18880', 'CIW80_10530', 'CIW80_23585', 'CIW80_21745', 'CIW80_21785', 'CIW80_01355', 'CIW80_15895', 'CIW80_21580', 'CIW80_13215', 'CIW80_24665', 'CIW80_03775', 'CIW80_15310', 'CIW80_17415', 'CIW80_00055', 'CIW80_13770', 'CIW80_08155', 'CIW80_23045', 'CIW80_19710', 'CIW80_25650', 'CIW80_00065', 'CIW80_21270', 'CIW80_24455', 'CIW80_19335', 'CIW80_19200', 'CIW80_00830', 'CIW80_01115', 'CIW80_06145', 'CIW80_08365', 'CIW80_09745', 'CIW80_21060', 'CIW80_17275', 'CIW80_03040', 'CIW80_18605', 'CIW80_10135', 'CIW80_24875', 'CIW80_19900', 'CIW80_08635', 'CIW80_18005', 'CIW80_12390', 'CIW80_13240', 'CIW80_00205', 'CIW80_19990', 'CIW80_21380', 'CIW80_14985', 'CIW80_19600', 'CIW80_16850', 'CIW80_20555', 'CIW80_23590', 'CIW80_18570', 'CIW80_23580', 'CIW80_07305', 'CIW80_07750', 'CIW80_04675', 'CIW80_14930', 'CIW80_19525', 'CIW80_25265', 'CIW80_12235', 'CIW80_00295', 'CIW80_06595', 'CIW80_17755', 'CIW80_05665', 'CIW80_21165', 'CIW80_14845', 'CIW80_06175', 'CIW80_06630', 'CIW80_07805', 'CIW80_08290', 'CIW80_13220', 'CIW80_16915', 'CIW80_22055', 'CIW80_16130', 'CIW80_19515', 'CIW80_05025', 'CIW80_00395', 'CIW80_23850', 'CIW80_13755', 'CIW80_19105', 'CIW80_03995', 'CIW80_08045', 'CIW80_01455', 'CIW80_14340', 'CIW80_00540', 'CIW80_19390', 'CIW80_04760', 'CIW80_11590', 'CIW80_13390', 'CIW80_25645', 'CIW80_08650', 'CIW80_08860', 'CIW80_15975', 'CIW80_08710', 'CIW80_14490', 'CIW80_21480', 'CIW80_03130', 'CIW80_00965', 'CIW80_01015', 'CIW80_15545', 'CIW80_06335', 'CIW80_00430', 'CIW80_04485', 'CIW80_11215', 'CIW80_04575', 'CIW80_11125', 'CIW80_01625', 'CIW80_12770', 'CIW80_07475', 'CIW80_11265', 'CIW80_23290', 'CIW80_23070', 'CIW80_10535', 'CIW80_03530', 'CIW80_02915', 'CIW80_03885', 'CIW80_12110', 'CIW80_25320', 'CIW80_13710', 'CIW80_01885', 'CIW80_17170', 'CIW80_02730', 'CIW80_03545', 'CIW80_24410', 'CIW80_23525', 'CIW80_06290', 'CIW80_06325', 'CIW80_11810', 'CIW80_16875', 'CIW80_02865', 'CIW80_18110', 'CIW80_04655', 'CIW80_03890', 'CIW80_06155', 'CIW80_24450', 'CIW80_04265', 'CIW80_21440', 'CIW80_08270', 'CIW80_04580', 'CIW80_03000', 'CIW80_08715', 'CIW80_09085', 'CIW80_19065', 'CIW80_15640', 'CIW80_18055', 'CIW80_04605', 'CIW80_01980', 'CIW80_04495', 'CIW80_20900', 'CIW80_06815', 'CIW80_16925', 'CIW80_15105', 'CIW80_13405', 'CIW80_22060', 'CIW80_00665', 'CIW80_15550', 'CIW80_14500', 'CIW80_19060', 'CIW80_08780', 'CIW80_19070', 'CIW80_23900', 'CIW80_16865', 'CIW80_15250', 'CIW80_16590', 'CIW80_17260', 'CIW80_20565', 'CIW80_18340', 'CIW80_11790', 'CIW80_15330', 'CIW80_06900', 'CIW80_00655', 'CIW80_07260', 'CIW80_19945', 'CIW80_04595', 'CIW80_21340', 'CIW80_08595', 'CIW80_15080', 'CIW80_24980', 'CIW80_22275', 'CIW80_22385', 'CIW80_14305', 'CIW80_18890', 'CIW80_14605', 'CIW80_15285', 'CIW80_00585', 'CIW80_17615', 'CIW80_16965', 'CIW80_01985', 'CIW80_03720', 'CIW80_23440', 'CIW80_20450', 'CIW80_08320', 'CIW80_08965', 'CIW80_20475', 'CIW80_09220', 'CIW80_01120', 'CIW80_24160', 'CIW80_02045', 'CIW80_24465', 'CIW80_00855', 'CIW80_24675', 'CIW80_03675', 'CIW80_12220', 'CIW80_08565', 'CIW80_19575', 'CIW80_16360', 'CIW80_19605', 'CIW80_06660', 'CIW80_12715', 'CIW80_00810', 'CIW80_16735', 'CIW80_20290', 'CIW80_18440', 'CIW80_00155', 'CIW80_13375', 'CIW80_21155', 'CIW80_19690', 'CIW80_09430', 'CIW80_12395', 'CIW80_03815', 'CIW80_12455', 'CIW80_03710', 'CIW80_12425', 'CIW80_19535', 'CIW80_06625', 'CIW80_23700', 'CIW80_14550', 'CIW80_06440', 'CIW80_02895', 'CIW80_09860', 'CIW80_12155', 'CIW80_11290', 'CIW80_06320', 'CIW80_09780', 'CIW80_22430', 'CIW80_02920', 'CIW80_20540', 'CIW80_02640', 'CIW80_24365', 'CIW80_03690', 'CIW80_22890', 'CIW80_20905', 'CIW80_18905', 'CIW80_22985', 'CIW80_12295', 'CIW80_11555', 'CIW80_19075', 'CIW80_00190', 'CIW80_12720', 'CIW80_15920', 'CIW80_23455', 'CIW80_11880', 'CIW80_00515', 'CIW80_00035', 'CIW80_24825', 'CIW80_04345', 'CIW80_18255', 'CIW80_09820', 'CIW80_25765', 'CIW80_19120', 'CIW80_12310', 'CIW80_13700', 'CIW80_00185', 'CIW80_23375', 'CIW80_19890', 'CIW80_19090', 'CIW80_20745', 'CIW80_01485', 'CIW80_20845', 'CIW80_14935', 'CIW80_17240', 'CIW80_22090', 'CIW80_01720', 'CIW80_20805', 'CIW80_00800', 'CIW80_09845', 'CIW80_11320', 'CIW80_19825', 'CIW80_02230', 'CIW80_25705', 'CIW80_08455', 'CIW80_24710', 'CIW80_10705', 'CIW80_23845', 'CIW80_21120', 'CIW80_03635', 'CIW80_05380', 'CIW80_02035', 'CIW80_22915', 'CIW80_00680', 'CIW80_23495', 'CIW80_01730', 'CIW80_23800', 'CIW80_19730', 'CIW80_13380', 'CIW80_19585', 'CIW80_17320', 'CIW80_24750', 'CIW80_09015', 'CIW80_22705', 'CIW80_03340', 'CIW80_06770', 'CIW80_00160', 'CIW80_00720', 'CIW80_12920', 'CIW80_02010', 'CIW80_25475', 'CIW80_03170', 'CIW80_12080', 'CIW80_09390', 'CIW80_10605', 'CIW80_04900', 'CIW80_00670', 'CIW80_15255', 'CIW80_15740', 'CIW80_05655'}\n",
      "CP001671 {'CIW80_03090', 'CIW80_22445', 'CIW80_06330', 'CIW80_08295', 'CIW80_15510', 'CIW80_15855', 'CIW80_04745', 'CIW80_11570', 'CIW80_14995', 'CIW80_19380', 'CIW80_10280', 'CIW80_09630', 'CIW80_05030', 'CIW80_06735', 'CIW80_09805', 'CIW80_01880', 'CIW80_25340', 'CIW80_12160', 'CIW80_23660', 'CIW80_01570', 'CIW80_24460', 'CIW80_12380', 'CIW80_23630', 'CIW80_03475', 'CIW80_19205', 'CIW80_24325', 'CIW80_05650', 'CIW80_13175', 'CIW80_16405', 'CIW80_12135', 'CIW80_23325', 'CIW80_23555', 'CIW80_23655', 'CIW80_13695', 'CIW80_19755', 'CIW80_08720', 'CIW80_13245', 'CIW80_22470', 'CIW80_19765', 'CIW80_10845', 'CIW80_23170', 'CIW80_23390', 'CIW80_23115', 'CIW80_02595', 'CIW80_15595', 'CIW80_08310', 'CIW80_08460', 'CIW80_10730', 'CIW80_16470', 'CIW80_02835', 'CIW80_15525', 'CIW80_19145', 'CIW80_25220', 'CIW80_24610', 'CIW80_08855', 'CIW80_25710', 'CIW80_23380', 'CIW80_05590', 'CIW80_18910', 'CIW80_17670', 'CIW80_25400', 'CIW80_07240', 'CIW80_12320', 'CIW80_04825', 'CIW80_08675', 'CIW80_03670', 'CIW80_06025', 'CIW80_00550', 'CIW80_12115', 'CIW80_08665', 'CIW80_20075', 'CIW80_17750', 'CIW80_00210', 'CIW80_04210', 'CIW80_08165', 'CIW80_15195', 'CIW80_19045', 'CIW80_18870', 'CIW80_08180', 'CIW80_14460', 'CIW80_20505', 'CIW80_03380', 'CIW80_23605', 'CIW80_10530', 'CIW80_21745', 'CIW80_21785', 'CIW80_05690', 'CIW80_01355', 'CIW80_15895', 'CIW80_21580', 'CIW80_13215', 'CIW80_24665', 'CIW80_03775', 'CIW80_15310', 'CIW80_17415', 'CIW80_00055', 'CIW80_09920', 'CIW80_13770', 'CIW80_20760', 'CIW80_08155', 'CIW80_19710', 'CIW80_25650', 'CIW80_24640', 'CIW80_00065', 'CIW80_21270', 'CIW80_24455', 'CIW80_19335', 'CIW80_19200', 'CIW80_00830', 'CIW80_01115', 'CIW80_08985', 'CIW80_06145', 'CIW80_08850', 'CIW80_03480', 'CIW80_03470', 'CIW80_08365', 'CIW80_08815', 'CIW80_09745', 'CIW80_21060', 'CIW80_21125', 'CIW80_17275', 'CIW80_03040', 'CIW80_18605', 'CIW80_10135', 'CIW80_24875', 'CIW80_09875', 'CIW80_19900', 'CIW80_08635', 'CIW80_19580', 'CIW80_01150', 'CIW80_18005', 'CIW80_12390', 'CIW80_13240', 'CIW80_16825', 'CIW80_00205', 'CIW80_21380', 'CIW80_14985', 'CIW80_12435', 'CIW80_19600', 'CIW80_16850', 'CIW80_20555', 'CIW80_24350', 'CIW80_23590', 'CIW80_04375', 'CIW80_18570', 'CIW80_23580', 'CIW80_07305', 'CIW80_07750', 'CIW80_18080', 'CIW80_23040', 'CIW80_08955', 'CIW80_04675', 'CIW80_22085', 'CIW80_14930', 'CIW80_19525', 'CIW80_25265', 'CIW80_12235', 'CIW80_00295', 'CIW80_17755', 'CIW80_20060', 'CIW80_02030', 'CIW80_05665', 'CIW80_21165', 'CIW80_23120', 'CIW80_14845', 'CIW80_24330', 'CIW80_08830', 'CIW80_06175', 'CIW80_06630', 'CIW80_08290', 'CIW80_13220', 'CIW80_08755', 'CIW80_07550', 'CIW80_24385', 'CIW80_16915', 'CIW80_22055', 'CIW80_16130', 'CIW80_19515', 'CIW80_05025', 'CIW80_17835', 'CIW80_25310', 'CIW80_03650', 'CIW80_00395', 'CIW80_23850', 'CIW80_13755', 'CIW80_19105', 'CIW80_03995', 'CIW80_08045', 'CIW80_19735', 'CIW80_13050', 'CIW80_13895', 'CIW80_01455', 'CIW80_14340', 'CIW80_16855', 'CIW80_00540', 'CIW80_13060', 'CIW80_03050', 'CIW80_19390', 'CIW80_04760', 'CIW80_11590', 'CIW80_08950', 'CIW80_07045', 'CIW80_08810', 'CIW80_15975', 'CIW80_08710', 'CIW80_14490', 'CIW80_21480', 'CIW80_16795', 'CIW80_00965', 'CIW80_01015', 'CIW80_02710', 'CIW80_23510', 'CIW80_15545', 'CIW80_06335', 'CIW80_00430', 'CIW80_23635', 'CIW80_04485', 'CIW80_11215', 'CIW80_04575', 'CIW80_03645', 'CIW80_11125', 'CIW80_01625', 'CIW80_12770', 'CIW80_07475', 'CIW80_24250', 'CIW80_09130', 'CIW80_23070', 'CIW80_10535', 'CIW80_03530', 'CIW80_02915', 'CIW80_03885', 'CIW80_25320', 'CIW80_18100', 'CIW80_20940', 'CIW80_01885', 'CIW80_17170', 'CIW80_02730', 'CIW80_03545', 'CIW80_24410', 'CIW80_23525', 'CIW80_06290', 'CIW80_11810', 'CIW80_19310', 'CIW80_16875', 'CIW80_02865', 'CIW80_18110', 'CIW80_03705', 'CIW80_04655', 'CIW80_03890', 'CIW80_06155', 'CIW80_04265', 'CIW80_21440', 'CIW80_20785', 'CIW80_06940', 'CIW80_08270', 'CIW80_04580', 'CIW80_03000', 'CIW80_09085', 'CIW80_15640', 'CIW80_18055', 'CIW80_04605', 'CIW80_01980', 'CIW80_04495', 'CIW80_20900', 'CIW80_06815', 'CIW80_15105', 'CIW80_13405', 'CIW80_07095', 'CIW80_22060', 'CIW80_08910', 'CIW80_00665', 'CIW80_15550', 'CIW80_24035', 'CIW80_19060', 'CIW80_19070', 'CIW80_23900', 'CIW80_16865', 'CIW80_08795', 'CIW80_15250', 'CIW80_16590', 'CIW80_17260', 'CIW80_19660', 'CIW80_20565', 'CIW80_18340', 'CIW80_16755', 'CIW80_11790', 'CIW80_03500', 'CIW80_15330', 'CIW80_18955', 'CIW80_06900', 'CIW80_00655', 'CIW80_19945', 'CIW80_04595', 'CIW80_21340', 'CIW80_19100', 'CIW80_08595', 'CIW80_16120', 'CIW80_15080', 'CIW80_24980', 'CIW80_23365', 'CIW80_03505', 'CIW80_22275', 'CIW80_22385', 'CIW80_14305', 'CIW80_23665', 'CIW80_14605', 'CIW80_19055', 'CIW80_15285', 'CIW80_00585', 'CIW80_17615', 'CIW80_16965', 'CIW80_01985', 'CIW80_03720', 'CIW80_21510', 'CIW80_23440', 'CIW80_24400', 'CIW80_20450', 'CIW80_08320', 'CIW80_02725', 'CIW80_19340', 'CIW80_08965', 'CIW80_20475', 'CIW80_12505', 'CIW80_09220', 'CIW80_15600', 'CIW80_01120', 'CIW80_13140', 'CIW80_24160', 'CIW80_02045', 'CIW80_06200', 'CIW80_00855', 'CIW80_24675', 'CIW80_03675', 'CIW80_21795', 'CIW80_12220', 'CIW80_08565', 'CIW80_08685', 'CIW80_16360', 'CIW80_19605', 'CIW80_06660', 'CIW80_00810', 'CIW80_20290', 'CIW80_24395', 'CIW80_00155', 'CIW80_18500', 'CIW80_13375', 'CIW80_23565', 'CIW80_21155', 'CIW80_23310', 'CIW80_03695', 'CIW80_19295', 'CIW80_19690', 'CIW80_23805', 'CIW80_09430', 'CIW80_01480', 'CIW80_19300', 'CIW80_12455', 'CIW80_03710', 'CIW80_12425', 'CIW80_19535', 'CIW80_06625', 'CIW80_23700', 'CIW80_24705', 'CIW80_14550', 'CIW80_06440', 'CIW80_02895', 'CIW80_09860', 'CIW80_12155', 'CIW80_23145', 'CIW80_11290', 'CIW80_06320', 'CIW80_09780', 'CIW80_22430', 'CIW80_02920', 'CIW80_23345', 'CIW80_20540', 'CIW80_16905', 'CIW80_02640', 'CIW80_03690', 'CIW80_23130', 'CIW80_20905', 'CIW80_04895', 'CIW80_22985', 'CIW80_12295', 'CIW80_24080', 'CIW80_11555', 'CIW80_19075', 'CIW80_00190', 'CIW80_12720', 'CIW80_15920', 'CIW80_23455', 'CIW80_11880', 'CIW80_00515', 'CIW80_00035', 'CIW80_24825', 'CIW80_19005', 'CIW80_13070', 'CIW80_04345', 'CIW80_18255', 'CIW80_09820', 'CIW80_19285', 'CIW80_08625', 'CIW80_19120', 'CIW80_12310', 'CIW80_13700', 'CIW80_17700', 'CIW80_00185', 'CIW80_15835', 'CIW80_19890', 'CIW80_19090', 'CIW80_15985', 'CIW80_20745', 'CIW80_20845', 'CIW80_02885', 'CIW80_14935', 'CIW80_22090', 'CIW80_04875', 'CIW80_01720', 'CIW80_17245', 'CIW80_20805', 'CIW80_04560', 'CIW80_15175', 'CIW80_00800', 'CIW80_09845', 'CIW80_11320', 'CIW80_19825', 'CIW80_03820', 'CIW80_02230', 'CIW80_25705', 'CIW80_24710', 'CIW80_23300', 'CIW80_10705', 'CIW80_23845', 'CIW80_21120', 'CIW80_03635', 'CIW80_05380', 'CIW80_03305', 'CIW80_02035', 'CIW80_22915', 'CIW80_03700', 'CIW80_00680', 'CIW80_01730', 'CIW80_23800', 'CIW80_19730', 'CIW80_13380', 'CIW80_19585', 'CIW80_24600', 'CIW80_17320', 'CIW80_24750', 'CIW80_09015', 'CIW80_19330', 'CIW80_22705', 'CIW80_23425', 'CIW80_14450', 'CIW80_23320', 'CIW80_03340', 'CIW80_06770', 'CIW80_04840', 'CIW80_00160', 'CIW80_00720', 'CIW80_10395', 'CIW80_12920', 'CIW80_02010', 'CIW80_10825', 'CIW80_25475', 'CIW80_12080', 'CIW80_22775', 'CIW80_09390', 'CIW80_10605', 'CIW80_04900', 'CIW80_11095', 'CIW80_03540', 'CIW80_00670', 'CIW80_15255', 'CIW80_08705', 'CIW80_15740', 'CIW80_19365'}\n",
      "AE014075 {'CIW80_03090', 'CIW80_22445', 'CIW80_06330', 'CIW80_08295', 'CIW80_15510', 'CIW80_15855', 'CIW80_05480', 'CIW80_04745', 'CIW80_11570', 'CIW80_07510', 'CIW80_08630', 'CIW80_07220', 'CIW80_19380', 'CIW80_10280', 'CIW80_05030', 'CIW80_06735', 'CIW80_09805', 'CIW80_04425', 'CIW80_01880', 'CIW80_04490', 'CIW80_25340', 'CIW80_23660', 'CIW80_01570', 'CIW80_24460', 'CIW80_23630', 'CIW80_03475', 'CIW80_24325', 'CIW80_24680', 'CIW80_13175', 'CIW80_23420', 'CIW80_16405', 'CIW80_05650', 'CIW80_23325', 'CIW80_23555', 'CIW80_23655', 'CIW80_13695', 'CIW80_19755', 'CIW80_08720', 'CIW80_13245', 'CIW80_22470', 'CIW80_19765', 'CIW80_10845', 'CIW80_23170', 'CIW80_23390', 'CIW80_23360', 'CIW80_23115', 'CIW80_02595', 'CIW80_15595', 'CIW80_08460', 'CIW80_19805', 'CIW80_10730', 'CIW80_16470', 'CIW80_02835', 'CIW80_15525', 'CIW80_25220', 'CIW80_24670', 'CIW80_24610', 'CIW80_22910', 'CIW80_08855', 'CIW80_25710', 'CIW80_23380', 'CIW80_05590', 'CIW80_10400', 'CIW80_18910', 'CIW80_25400', 'CIW80_18280', 'CIW80_12320', 'CIW80_21645', 'CIW80_11010', 'CIW80_09250', 'CIW80_08675', 'CIW80_23650', 'CIW80_03670', 'CIW80_06025', 'CIW80_00550', 'CIW80_11795', 'CIW80_12115', 'CIW80_08665', 'CIW80_10360', 'CIW80_17750', 'CIW80_00210', 'CIW80_04210', 'CIW80_15195', 'CIW80_19045', 'CIW80_18870', 'CIW80_00290', 'CIW80_08180', 'CIW80_14460', 'CIW80_20505', 'CIW80_03380', 'CIW80_23605', 'CIW80_18290', 'CIW80_10530', 'CIW80_21745', 'CIW80_21785', 'CIW80_15895', 'CIW80_21580', 'CIW80_13215', 'CIW80_24665', 'CIW80_03775', 'CIW80_15310', 'CIW80_18325', 'CIW80_17305', 'CIW80_17415', 'CIW80_00055', 'CIW80_25250', 'CIW80_01145', 'CIW80_23950', 'CIW80_08155', 'CIW80_19710', 'CIW80_25650', 'CIW80_24640', 'CIW80_00065', 'CIW80_13320', 'CIW80_21270', 'CIW80_24455', 'CIW80_19335', 'CIW80_19200', 'CIW80_00830', 'CIW80_08985', 'CIW80_06145', 'CIW80_08850', 'CIW80_03480', 'CIW80_17895', 'CIW80_09255', 'CIW80_03470', 'CIW80_08365', 'CIW80_08815', 'CIW80_09745', 'CIW80_21060', 'CIW80_17000', 'CIW80_15905', 'CIW80_08655', 'CIW80_17275', 'CIW80_22990', 'CIW80_14295', 'CIW80_03040', 'CIW80_18605', 'CIW80_10135', 'CIW80_24875', 'CIW80_19900', 'CIW80_19580', 'CIW80_01150', 'CIW80_18005', 'CIW80_12390', 'CIW80_12050', 'CIW80_07640', 'CIW80_00205', 'CIW80_19235', 'CIW80_14985', 'CIW80_19600', 'CIW80_16850', 'CIW80_22750', 'CIW80_20555', 'CIW80_19695', 'CIW80_18570', 'CIW80_23580', 'CIW80_15765', 'CIW80_07305', 'CIW80_07750', 'CIW80_24310', 'CIW80_10850', 'CIW80_08955', 'CIW80_04675', 'CIW80_22085', 'CIW80_14930', 'CIW80_19525', 'CIW80_12235', 'CIW80_00295', 'CIW80_06595', 'CIW80_17755', 'CIW80_08775', 'CIW80_20060', 'CIW80_16740', 'CIW80_21165', 'CIW80_23120', 'CIW80_14845', 'CIW80_24330', 'CIW80_18630', 'CIW80_06630', 'CIW80_08290', 'CIW80_13220', 'CIW80_23285', 'CIW80_08755', 'CIW80_07550', 'CIW80_24385', 'CIW80_16915', 'CIW80_16130', 'CIW80_20795', 'CIW80_05025', 'CIW80_17835', 'CIW80_25310', 'CIW80_03650', 'CIW80_00395', 'CIW80_23850', 'CIW80_13755', 'CIW80_16440', 'CIW80_19105', 'CIW80_03995', 'CIW80_08045', 'CIW80_08870', 'CIW80_19735', 'CIW80_13895', 'CIW80_23340', 'CIW80_01455', 'CIW80_14340', 'CIW80_16855', 'CIW80_00540', 'CIW80_16345', 'CIW80_03050', 'CIW80_07695', 'CIW80_19390', 'CIW80_04760', 'CIW80_11590', 'CIW80_13390', 'CIW80_07155', 'CIW80_08950', 'CIW80_07045', 'CIW80_08650', 'CIW80_08810', 'CIW80_22590', 'CIW80_15975', 'CIW80_08710', 'CIW80_21480', 'CIW80_00965', 'CIW80_01015', 'CIW80_02710', 'CIW80_23510', 'CIW80_15545', 'CIW80_06335', 'CIW80_20910', 'CIW80_22410', 'CIW80_19895', 'CIW80_00430', 'CIW80_23635', 'CIW80_04485', 'CIW80_11215', 'CIW80_17820', 'CIW80_04575', 'CIW80_11125', 'CIW80_09550', 'CIW80_01445', 'CIW80_01625', 'CIW80_12770', 'CIW80_07475', 'CIW80_10535', 'CIW80_25595', 'CIW80_02915', 'CIW80_25320', 'CIW80_20615', 'CIW80_20940', 'CIW80_01885', 'CIW80_17170', 'CIW80_02730', 'CIW80_03545', 'CIW80_06325', 'CIW80_11810', 'CIW80_19310', 'CIW80_02865', 'CIW80_15945', 'CIW80_18110', 'CIW80_03705', 'CIW80_04655', 'CIW80_03890', 'CIW80_06155', 'CIW80_24650', 'CIW80_24450', 'CIW80_04265', 'CIW80_21440', 'CIW80_06940', 'CIW80_17200', 'CIW80_08270', 'CIW80_04580', 'CIW80_15640', 'CIW80_18055', 'CIW80_04605', 'CIW80_01980', 'CIW80_04495', 'CIW80_20900', 'CIW80_06815', 'CIW80_15105', 'CIW80_18295', 'CIW80_10015', 'CIW80_22060', 'CIW80_08910', 'CIW80_00665', 'CIW80_19320', 'CIW80_00545', 'CIW80_15550', 'CIW80_08780', 'CIW80_19070', 'CIW80_17140', 'CIW80_16865', 'CIW80_15250', 'CIW80_17260', 'CIW80_24055', 'CIW80_20565', 'CIW80_18340', 'CIW80_11790', 'CIW80_00655', 'CIW80_21340', 'CIW80_19100', 'CIW80_16330', 'CIW80_18300', 'CIW80_24980', 'CIW80_23365', 'CIW80_03505', 'CIW80_22385', 'CIW80_14305', 'CIW80_23665', 'CIW80_01465', 'CIW80_14605', 'CIW80_19055', 'CIW80_16800', 'CIW80_19275', 'CIW80_00585', 'CIW80_17615', 'CIW80_01985', 'CIW80_03140', 'CIW80_03720', 'CIW80_21510', 'CIW80_23440', 'CIW80_24400', 'CIW80_20450', 'CIW80_08320', 'CIW80_19340', 'CIW80_08965', 'CIW80_20475', 'CIW80_12505', 'CIW80_19315', 'CIW80_01120', 'CIW80_24160', 'CIW80_24075', 'CIW80_06200', 'CIW80_00855', 'CIW80_24675', 'CIW80_03675', 'CIW80_12220', 'CIW80_04645', 'CIW80_08565', 'CIW80_08685', 'CIW80_19575', 'CIW80_16360', 'CIW80_19605', 'CIW80_06660', 'CIW80_00810', 'CIW80_16735', 'CIW80_24395', 'CIW80_00155', 'CIW80_13635', 'CIW80_23565', 'CIW80_21155', 'CIW80_23310', 'CIW80_03695', 'CIW80_19295', 'CIW80_19690', 'CIW80_09430', 'CIW80_19300', 'CIW80_12455', 'CIW80_25685', 'CIW80_03710', 'CIW80_19535', 'CIW80_06625', 'CIW80_23700', 'CIW80_24705', 'CIW80_14550', 'CIW80_02895', 'CIW80_13370', 'CIW80_11290', 'CIW80_09780', 'CIW80_24320', 'CIW80_02920', 'CIW80_20540', 'CIW80_16905', 'CIW80_08645', 'CIW80_03690', 'CIW80_22890', 'CIW80_23130', 'CIW80_20905', 'CIW80_22985', 'CIW80_19170', 'CIW80_23280', 'CIW80_00190', 'CIW80_10065', 'CIW80_00200', 'CIW80_12720', 'CIW80_15920', 'CIW80_23455', 'CIW80_19540', 'CIW80_00515', 'CIW80_00035', 'CIW80_14690', 'CIW80_19005', 'CIW80_04345', 'CIW80_18255', 'CIW80_19285', 'CIW80_25765', 'CIW80_08625', 'CIW80_19120', 'CIW80_12310', 'CIW80_00185', 'CIW80_15835', 'CIW80_19890', 'CIW80_19090', 'CIW80_15985', 'CIW80_02165', 'CIW80_20745', 'CIW80_01485', 'CIW80_20845', 'CIW80_02885', 'CIW80_14935', 'CIW80_04875', 'CIW80_00960', 'CIW80_01720', 'CIW80_03215', 'CIW80_17245', 'CIW80_00800', 'CIW80_09845', 'CIW80_11320', 'CIW80_19825', 'CIW80_03820', 'CIW80_02230', 'CIW80_25705', 'CIW80_19270', 'CIW80_24710', 'CIW80_23300', 'CIW80_10705', 'CIW80_21120', 'CIW80_03635', 'CIW80_05380', 'CIW80_02035', 'CIW80_13325', 'CIW80_00680', 'CIW80_23800', 'CIW80_01390', 'CIW80_19730', 'CIW80_22530', 'CIW80_19585', 'CIW80_09160', 'CIW80_24600', 'CIW80_21095', 'CIW80_24750', 'CIW80_09015', 'CIW80_19330', 'CIW80_22705', 'CIW80_23425', 'CIW80_14450', 'CIW80_03340', 'CIW80_06770', 'CIW80_00160', 'CIW80_00720', 'CIW80_14320', 'CIW80_12920', 'CIW80_02010', 'CIW80_10825', 'CIW80_05540', 'CIW80_25475', 'CIW80_03170', 'CIW80_09390', 'CIW80_10605', 'CIW80_04900', 'CIW80_03540', 'CIW80_10045', 'CIW80_00670', 'CIW80_15255', 'CIW80_15740', 'CIW80_07470'}\n"
     ]
    },
    {
     "name": "stdout",
     "output_type": "stream",
     "text": [
      "CU928164 {'CIW80_03090', 'CIW80_22445', 'CIW80_06330', 'CIW80_08295', 'CIW80_15510', 'CIW80_15855', 'CIW80_04745', 'CIW80_11570', 'CIW80_16065', 'CIW80_10280', 'CIW80_09630', 'CIW80_05030', 'CIW80_06735', 'CIW80_09805', 'CIW80_01880', 'CIW80_04490', 'CIW80_25340', 'CIW80_12160', 'CIW80_01570', 'CIW80_12380', 'CIW80_05650', 'CIW80_13175', 'CIW80_16405', 'CIW80_23165', 'CIW80_12135', 'CIW80_13695', 'CIW80_19755', 'CIW80_08720', 'CIW80_00385', 'CIW80_22470', 'CIW80_19765', 'CIW80_10845', 'CIW80_23170', 'CIW80_17790', 'CIW80_02595', 'CIW80_15595', 'CIW80_08460', 'CIW80_10730', 'CIW80_16470', 'CIW80_02835', 'CIW80_15525', 'CIW80_25220', 'CIW80_24610', 'CIW80_22910', 'CIW80_08790', 'CIW80_18945', 'CIW80_12375', 'CIW80_02830', 'CIW80_10915', 'CIW80_11525', 'CIW80_17670', 'CIW80_18425', 'CIW80_25400', 'CIW80_07240', 'CIW80_12320', 'CIW80_21645', 'CIW80_11010', 'CIW80_18415', 'CIW80_08675', 'CIW80_06025', 'CIW80_00550', 'CIW80_16060', 'CIW80_12115', 'CIW80_08665', 'CIW80_20075', 'CIW80_17750', 'CIW80_04210', 'CIW80_10710', 'CIW80_08165', 'CIW80_08180', 'CIW80_20505', 'CIW80_10530', 'CIW80_10590', 'CIW80_21745', 'CIW80_21785', 'CIW80_05690', 'CIW80_01355', 'CIW80_15895', 'CIW80_21580', 'CIW80_24665', 'CIW80_03775', 'CIW80_15310', 'CIW80_17415', 'CIW80_24500', 'CIW80_01145', 'CIW80_23045', 'CIW80_25650', 'CIW80_24455', 'CIW80_00830', 'CIW80_06145', 'CIW80_08365', 'CIW80_09745', 'CIW80_21060', 'CIW80_17275', 'CIW80_03040', 'CIW80_18605', 'CIW80_10135', 'CIW80_24875', 'CIW80_09875', 'CIW80_08635', 'CIW80_19580', 'CIW80_01150', 'CIW80_18005', 'CIW80_12390', 'CIW80_12385', 'CIW80_14985', 'CIW80_12435', 'CIW80_19600', 'CIW80_24305', 'CIW80_19695', 'CIW80_18570', 'CIW80_07305', 'CIW80_07750', 'CIW80_10850', 'CIW80_23040', 'CIW80_04675', 'CIW80_22085', 'CIW80_14930', 'CIW80_19525', 'CIW80_12235', 'CIW80_06595', 'CIW80_17755', 'CIW80_20060', 'CIW80_05665', 'CIW80_21165', 'CIW80_14845', 'CIW80_06175', 'CIW80_08290', 'CIW80_13220', 'CIW80_08755', 'CIW80_16915', 'CIW80_22055', 'CIW80_16130', 'CIW80_01090', 'CIW80_05025', 'CIW80_17835', 'CIW80_25310', 'CIW80_00395', 'CIW80_23850', 'CIW80_13755', 'CIW80_08045', 'CIW80_13895', 'CIW80_01455', 'CIW80_14340', 'CIW80_03050', 'CIW80_10725', 'CIW80_08620', 'CIW80_04760', 'CIW80_18220', 'CIW80_11590', 'CIW80_14290', 'CIW80_21985', 'CIW80_24735', 'CIW80_07045', 'CIW80_15975', 'CIW80_08710', 'CIW80_14490', 'CIW80_16795', 'CIW80_00965', 'CIW80_02710', 'CIW80_15545', 'CIW80_06335', 'CIW80_00430', 'CIW80_04485', 'CIW80_11215', 'CIW80_04575', 'CIW80_01625', 'CIW80_12770', 'CIW80_07475', 'CIW80_24250', 'CIW80_23070', 'CIW80_10535', 'CIW80_03530', 'CIW80_25320', 'CIW80_18100', 'CIW80_01885', 'CIW80_17170', 'CIW80_02730', 'CIW80_03545', 'CIW80_06290', 'CIW80_06325', 'CIW80_11810', 'CIW80_02865', 'CIW80_18110', 'CIW80_03705', 'CIW80_03890', 'CIW80_04810', 'CIW80_06155', 'CIW80_24450', 'CIW80_04265', 'CIW80_04980', 'CIW80_21440', 'CIW80_06940', 'CIW80_08270', 'CIW80_21800', 'CIW80_04580', 'CIW80_19065', 'CIW80_15640', 'CIW80_18055', 'CIW80_04605', 'CIW80_01980', 'CIW80_04495', 'CIW80_20900', 'CIW80_06815', 'CIW80_16925', 'CIW80_24435', 'CIW80_22060', 'CIW80_00665', 'CIW80_15550', 'CIW80_14500', 'CIW80_24035', 'CIW80_08780', 'CIW80_19070', 'CIW80_15250', 'CIW80_17260', 'CIW80_18340', 'CIW80_11790', 'CIW80_06900', 'CIW80_00655', 'CIW80_17150', 'CIW80_19945', 'CIW80_04595', 'CIW80_21340', 'CIW80_16330', 'CIW80_08595', 'CIW80_15080', 'CIW80_24980', 'CIW80_22275', 'CIW80_22385', 'CIW80_14305', 'CIW80_14605', 'CIW80_19055', 'CIW80_15285', 'CIW80_00585', 'CIW80_17615', 'CIW80_01985', 'CIW80_21510', 'CIW80_20450', 'CIW80_08320', 'CIW80_20475', 'CIW80_12505', 'CIW80_09220', 'CIW80_15600', 'CIW80_24160', 'CIW80_02045', 'CIW80_06200', 'CIW80_08465', 'CIW80_00855', 'CIW80_15265', 'CIW80_12220', 'CIW80_08565', 'CIW80_08685', 'CIW80_19575', 'CIW80_19605', 'CIW80_06660', 'CIW80_00810', 'CIW80_16735', 'CIW80_20290', 'CIW80_13375', 'CIW80_12125', 'CIW80_17850', 'CIW80_21155', 'CIW80_03695', 'CIW80_19690', 'CIW80_23805', 'CIW80_09430', 'CIW80_24715', 'CIW80_03815', 'CIW80_04985', 'CIW80_01480', 'CIW80_12455', 'CIW80_03710', 'CIW80_12425', 'CIW80_06625', 'CIW80_23700', 'CIW80_24705', 'CIW80_14550', 'CIW80_06440', 'CIW80_09860', 'CIW80_11290', 'CIW80_09780', 'CIW80_02920', 'CIW80_02640', 'CIW80_22890', 'CIW80_20905', 'CIW80_22985', 'CIW80_01220', 'CIW80_12295', 'CIW80_11555', 'CIW80_12720', 'CIW80_15920', 'CIW80_11880', 'CIW80_19540', 'CIW80_00515', 'CIW80_24825', 'CIW80_04345', 'CIW80_01685', 'CIW80_18255', 'CIW80_09820', 'CIW80_08625', 'CIW80_12310', 'CIW80_15835', 'CIW80_19890', 'CIW80_04835', 'CIW80_15985', 'CIW80_18315', 'CIW80_20745', 'CIW80_20845', 'CIW80_14935', 'CIW80_22090', 'CIW80_17245', 'CIW80_20805', 'CIW80_04560', 'CIW80_00800', 'CIW80_09845', 'CIW80_19825', 'CIW80_24565', 'CIW80_03820', 'CIW80_02230', 'CIW80_10705', 'CIW80_23845', 'CIW80_21120', 'CIW80_05380', 'CIW80_22915', 'CIW80_03700', 'CIW80_00680', 'CIW80_01730', 'CIW80_23800', 'CIW80_01390', 'CIW80_19785', 'CIW80_19585', 'CIW80_24600', 'CIW80_24750', 'CIW80_09015', 'CIW80_20300', 'CIW80_03340', 'CIW80_06770', 'CIW80_00720', 'CIW80_14320', 'CIW80_12920', 'CIW80_02010', 'CIW80_10825', 'CIW80_24660', 'CIW80_12080', 'CIW80_10605', 'CIW80_04900', 'CIW80_03540', 'CIW80_00670', 'CIW80_15255', 'CIW80_21575', 'CIW80_08705', 'CIW80_15740', 'CIW80_05655'}\n",
      "CP002797 {'CIW80_22445', 'CIW80_06330', 'CIW80_08295', 'CIW80_15510', 'CIW80_15855', 'CIW80_04745', 'CIW80_11570', 'CIW80_11350', 'CIW80_02905', 'CIW80_10280', 'CIW80_09630', 'CIW80_05030', 'CIW80_06735', 'CIW80_09805', 'CIW80_04425', 'CIW80_04490', 'CIW80_25340', 'CIW80_12160', 'CIW80_01570', 'CIW80_24460', 'CIW80_12380', 'CIW80_15940', 'CIW80_19205', 'CIW80_05650', 'CIW80_24680', 'CIW80_16405', 'CIW80_23165', 'CIW80_12135', 'CIW80_23695', 'CIW80_23325', 'CIW80_13695', 'CIW80_19755', 'CIW80_02900', 'CIW80_08720', 'CIW80_13245', 'CIW80_22470', 'CIW80_10845', 'CIW80_23170', 'CIW80_17790', 'CIW80_14255', 'CIW80_02595', 'CIW80_15595', 'CIW80_08460', 'CIW80_10730', 'CIW80_15525', 'CIW80_25220', 'CIW80_22910', 'CIW80_12245', 'CIW80_08855', 'CIW80_03320', 'CIW80_18945', 'CIW80_11525', 'CIW80_18910', 'CIW80_17670', 'CIW80_18425', 'CIW80_25400', 'CIW80_07240', 'CIW80_18415', 'CIW80_03670', 'CIW80_06025', 'CIW80_14915', 'CIW80_00550', 'CIW80_12115', 'CIW80_08665', 'CIW80_14440', 'CIW80_17750', 'CIW80_00210', 'CIW80_04210', 'CIW80_10710', 'CIW80_15195', 'CIW80_19045', 'CIW80_08180', 'CIW80_14460', 'CIW80_20505', 'CIW80_13915', 'CIW80_14015', 'CIW80_23605', 'CIW80_17020', 'CIW80_10530', 'CIW80_16985', 'CIW80_10590', 'CIW80_21745', 'CIW80_21785', 'CIW80_01355', 'CIW80_15895', 'CIW80_21580', 'CIW80_13215', 'CIW80_03775', 'CIW80_15310', 'CIW80_17415', 'CIW80_00055', 'CIW80_13770', 'CIW80_23815', 'CIW80_13150', 'CIW80_08155', 'CIW80_23045', 'CIW80_19710', 'CIW80_25650', 'CIW80_16830', 'CIW80_00065', 'CIW80_21270', 'CIW80_24455', 'CIW80_19335', 'CIW80_00830', 'CIW80_01115', 'CIW80_06145', 'CIW80_08850', 'CIW80_17015', 'CIW80_08365', 'CIW80_08815', 'CIW80_09745', 'CIW80_21060', 'CIW80_08655', 'CIW80_22990', 'CIW80_18605', 'CIW80_09080', 'CIW80_10135', 'CIW80_24875', 'CIW80_09875', 'CIW80_04365', 'CIW80_01150', 'CIW80_13240', 'CIW80_12390', 'CIW80_16825', 'CIW80_12050', 'CIW80_00205', 'CIW80_14985', 'CIW80_22750', 'CIW80_20555', 'CIW80_19695', 'CIW80_24700', 'CIW80_04375', 'CIW80_18570', 'CIW80_08960', 'CIW80_07305', 'CIW80_07750', 'CIW80_18080', 'CIW80_10850', 'CIW80_25715', 'CIW80_08955', 'CIW80_04675', 'CIW80_22085', 'CIW80_14930', 'CIW80_19525', 'CIW80_25265', 'CIW80_12235', 'CIW80_06595', 'CIW80_17755', 'CIW80_20060', 'CIW80_21165', 'CIW80_14845', 'CIW80_08830', 'CIW80_06175', 'CIW80_00465', 'CIW80_06630', 'CIW80_08290', 'CIW80_13220', 'CIW80_08755', 'CIW80_16915', 'CIW80_22055', 'CIW80_16130', 'CIW80_01090', 'CIW80_20795', 'CIW80_17835', 'CIW80_25310', 'CIW80_03650', 'CIW80_00395', 'CIW80_13755', 'CIW80_18940', 'CIW80_08935', 'CIW80_08045', 'CIW80_14920', 'CIW80_19735', 'CIW80_13895', 'CIW80_01455', 'CIW80_14340', 'CIW80_16855', 'CIW80_00540', 'CIW80_16345', 'CIW80_03050', 'CIW80_04760', 'CIW80_11590', 'CIW80_03640', 'CIW80_13390', 'CIW80_23600', 'CIW80_24735', 'CIW80_07045', 'CIW80_04325', 'CIW80_08650', 'CIW80_08810', 'CIW80_08860', 'CIW80_08710', 'CIW80_16795', 'CIW80_00965', 'CIW80_16810', 'CIW80_01015', 'CIW80_02710', 'CIW80_15545', 'CIW80_06335', 'CIW80_04485', 'CIW80_11215', 'CIW80_23465', 'CIW80_03645', 'CIW80_11125', 'CIW80_09550', 'CIW80_14925', 'CIW80_01625', 'CIW80_12770', 'CIW80_07475', 'CIW80_24250', 'CIW80_09130', 'CIW80_23070', 'CIW80_19130', 'CIW80_10535', 'CIW80_16930', 'CIW80_09125', 'CIW80_02915', 'CIW80_03885', 'CIW80_25320', 'CIW80_18100', 'CIW80_17130', 'CIW80_20940', 'CIW80_01885', 'CIW80_02730', 'CIW80_03545', 'CIW80_16875', 'CIW80_02865', 'CIW80_18110', 'CIW80_03705', 'CIW80_04655', 'CIW80_03890', 'CIW80_06155', 'CIW80_24450', 'CIW80_04265', 'CIW80_21440', 'CIW80_06940', 'CIW80_17200', 'CIW80_08270', 'CIW80_21800', 'CIW80_04580', 'CIW80_03000', 'CIW80_08715', 'CIW80_19065', 'CIW80_15640', 'CIW80_04495', 'CIW80_04605', 'CIW80_01980', 'CIW80_06815', 'CIW80_16925', 'CIW80_18295', 'CIW80_15105', 'CIW80_16885', 'CIW80_13405', 'CIW80_22060', 'CIW80_08910', 'CIW80_00665', 'CIW80_15550', 'CIW80_15025', 'CIW80_24035', 'CIW80_08780', 'CIW80_19070', 'CIW80_08905', 'CIW80_23710', 'CIW80_16865', 'CIW80_08795', 'CIW80_15250', 'CIW80_16590', 'CIW80_20565', 'CIW80_18340', 'CIW80_11790', 'CIW80_06900', 'CIW80_00655', 'CIW80_07260', 'CIW80_17150', 'CIW80_19945', 'CIW80_04595', 'CIW80_21340', 'CIW80_16330', 'CIW80_08595', 'CIW80_03035', 'CIW80_04220', 'CIW80_22275', 'CIW80_22385', 'CIW80_24980', 'CIW80_14305', 'CIW80_14605', 'CIW80_19055', 'CIW80_15285', 'CIW80_16965', 'CIW80_01985', 'CIW80_03720', 'CIW80_21510', 'CIW80_20450', 'CIW80_08320', 'CIW80_25185', 'CIW80_08965', 'CIW80_20475', 'CIW80_09220', 'CIW80_15600', 'CIW80_01120', 'CIW80_24160', 'CIW80_09555', 'CIW80_06200', 'CIW80_00855', 'CIW80_24675', 'CIW80_25735', 'CIW80_12220', 'CIW80_08565', 'CIW80_08685', 'CIW80_16360', 'CIW80_19605', 'CIW80_06660', 'CIW80_12715', 'CIW80_00810', 'CIW80_16735', 'CIW80_10970', 'CIW80_20290', 'CIW80_13145', 'CIW80_00155', 'CIW80_13375', 'CIW80_23565', 'CIW80_12125', 'CIW80_21155', 'CIW80_03695', 'CIW80_19690', 'CIW80_24605', 'CIW80_23805', 'CIW80_09430', 'CIW80_24715', 'CIW80_04570', 'CIW80_01480', 'CIW80_12455', 'CIW80_25685', 'CIW80_03710', 'CIW80_12425', 'CIW80_19535', 'CIW80_06625', 'CIW80_23700', 'CIW80_24705', 'CIW80_14550', 'CIW80_06440', 'CIW80_09860', 'CIW80_17105', 'CIW80_00285', 'CIW80_13225', 'CIW80_17270', 'CIW80_11290', 'CIW80_09780', 'CIW80_22430', 'CIW80_02920', 'CIW80_20540', 'CIW80_03690', 'CIW80_22890', 'CIW80_20905', 'CIW80_22985', 'CIW80_11555', 'CIW80_19075', 'CIW80_00190', 'CIW80_12720', 'CIW80_15920', 'CIW80_23455', 'CIW80_11880', 'CIW80_19540', 'CIW80_24440', 'CIW80_24825', 'CIW80_15020', 'CIW80_04345', 'CIW80_18255', 'CIW80_17345', 'CIW80_25765', 'CIW80_08625', 'CIW80_19120', 'CIW80_12310', 'CIW80_13700', 'CIW80_00185', 'CIW80_15835', 'CIW80_19890', 'CIW80_19090', 'CIW80_18315', 'CIW80_20745', 'CIW80_03005', 'CIW80_20845', 'CIW80_14935', 'CIW80_01720', 'CIW80_17245', 'CIW80_17135', 'CIW80_04560', 'CIW80_15175', 'CIW80_00800', 'CIW80_09845', 'CIW80_17010', 'CIW80_11320', 'CIW80_19825', 'CIW80_14730', 'CIW80_03820', 'CIW80_02230', 'CIW80_24710', 'CIW80_17370', 'CIW80_10705', 'CIW80_21120', 'CIW80_05380', 'CIW80_24555', 'CIW80_25370', 'CIW80_02035', 'CIW80_22915', 'CIW80_03700', 'CIW80_16860', 'CIW80_00680', 'CIW80_01730', 'CIW80_23800', 'CIW80_01390', 'CIW80_19785', 'CIW80_24600', 'CIW80_17320', 'CIW80_24750', 'CIW80_09015', 'CIW80_22705', 'CIW80_14450', 'CIW80_06770', 'CIW80_00160', 'CIW80_00720', 'CIW80_14320', 'CIW80_12920', 'CIW80_02010', 'CIW80_10825', 'CIW80_25475', 'CIW80_12080', 'CIW80_09390', 'CIW80_10605', 'CIW80_04900', 'CIW80_20715', 'CIW80_03540', 'CIW80_00670', 'CIW80_15255', 'CIW80_21575', 'CIW80_08705', 'CIW80_15740'}\n",
      "CU928163 {'CIW80_03090', 'CIW80_22445', 'CIW80_06330', 'CIW80_08295', 'CIW80_15510', 'CIW80_15855', 'CIW80_04745', 'CIW80_11570', 'CIW80_16065', 'CIW80_10280', 'CIW80_09630', 'CIW80_05030', 'CIW80_09805', 'CIW80_04425', 'CIW80_01880', 'CIW80_04490', 'CIW80_12160', 'CIW80_01570', 'CIW80_12380', 'CIW80_23630', 'CIW80_09010', 'CIW80_05650', 'CIW80_13175', 'CIW80_16405', 'CIW80_12135', 'CIW80_13695', 'CIW80_19755', 'CIW80_08720', 'CIW80_00385', 'CIW80_22470', 'CIW80_10845', 'CIW80_23170', 'CIW80_02595', 'CIW80_15595', 'CIW80_10730', 'CIW80_16470', 'CIW80_02835', 'CIW80_15525', 'CIW80_25220', 'CIW80_22910', 'CIW80_25020', 'CIW80_08855', 'CIW80_12375', 'CIW80_02830', 'CIW80_18910', 'CIW80_17670', 'CIW80_18425', 'CIW80_25400', 'CIW80_12320', 'CIW80_21645', 'CIW80_11010', 'CIW80_18415', 'CIW80_17360', 'CIW80_00550', 'CIW80_16060', 'CIW80_12115', 'CIW80_08665', 'CIW80_20075', 'CIW80_17750', 'CIW80_00210', 'CIW80_04210', 'CIW80_09230', 'CIW80_08165', 'CIW80_16900', 'CIW80_15195', 'CIW80_18870', 'CIW80_08180', 'CIW80_20505', 'CIW80_13915', 'CIW80_17020', 'CIW80_10530', 'CIW80_10590', 'CIW80_21745', 'CIW80_15895', 'CIW80_21580', 'CIW80_24665', 'CIW80_03775', 'CIW80_15310', 'CIW80_00055', 'CIW80_01145', 'CIW80_08155', 'CIW80_23045', 'CIW80_25650', 'CIW80_16830', 'CIW80_19590', 'CIW80_00830', 'CIW80_08985', 'CIW80_06145', 'CIW80_08850', 'CIW80_08365', 'CIW80_21060', 'CIW80_03040', 'CIW80_18605', 'CIW80_10135', 'CIW80_24875', 'CIW80_09875', 'CIW80_04365', 'CIW80_19580', 'CIW80_01150', 'CIW80_18005', 'CIW80_12390', 'CIW80_00205', 'CIW80_12385', 'CIW80_14985', 'CIW80_12435', 'CIW80_16850', 'CIW80_24700', 'CIW80_18570', 'CIW80_17110', 'CIW80_07305', 'CIW80_07750', 'CIW80_23040', 'CIW80_08955', 'CIW80_04675', 'CIW80_22085', 'CIW80_14930', 'CIW80_12235', 'CIW80_06595', 'CIW80_17755', 'CIW80_20060', 'CIW80_21165', 'CIW80_14845', 'CIW80_06175', 'CIW80_08290', 'CIW80_03045', 'CIW80_07550', 'CIW80_24385', 'CIW80_07575', 'CIW80_16915', 'CIW80_22055', 'CIW80_16130', 'CIW80_01090', 'CIW80_05025', 'CIW80_17835', 'CIW80_03650', 'CIW80_00395', 'CIW80_13755', 'CIW80_08935', 'CIW80_08045', 'CIW80_13895', 'CIW80_01455', 'CIW80_16855', 'CIW80_00540', 'CIW80_03050', 'CIW80_10725', 'CIW80_08980', 'CIW80_19390', 'CIW80_08620', 'CIW80_04760', 'CIW80_00280', 'CIW80_18220', 'CIW80_11590', 'CIW80_14290', 'CIW80_08950', 'CIW80_24735', 'CIW80_07045', 'CIW80_08650', 'CIW80_08810', 'CIW80_15975', 'CIW80_08710', 'CIW80_15700', 'CIW80_14490', 'CIW80_16795', 'CIW80_00965', 'CIW80_16810', 'CIW80_01015', 'CIW80_02710', 'CIW80_15545', 'CIW80_06335', 'CIW80_00430', 'CIW80_04485', 'CIW80_11215', 'CIW80_04575', 'CIW80_03645', 'CIW80_01625', 'CIW80_12770', 'CIW80_07475', 'CIW80_19130', 'CIW80_10535', 'CIW80_12110', 'CIW80_25320', 'CIW80_18100', 'CIW80_17130', 'CIW80_01885', 'CIW80_02730', 'CIW80_24410', 'CIW80_06290', 'CIW80_06325', 'CIW80_11810', 'CIW80_02865', 'CIW80_18110', 'CIW80_03890', 'CIW80_06155', 'CIW80_21440', 'CIW80_17200', 'CIW80_08270', 'CIW80_21800', 'CIW80_15640', 'CIW80_18055', 'CIW80_04605', 'CIW80_01980', 'CIW80_04495', 'CIW80_20900', 'CIW80_06815', 'CIW80_15105', 'CIW80_22060', 'CIW80_08910', 'CIW80_00665', 'CIW80_15550', 'CIW80_14500', 'CIW80_24035', 'CIW80_08780', 'CIW80_23900', 'CIW80_15250', 'CIW80_17260', 'CIW80_18340', 'CIW80_06900', 'CIW80_00655', 'CIW80_17150', 'CIW80_19945', 'CIW80_21340', 'CIW80_08595', 'CIW80_15080', 'CIW80_24980', 'CIW80_22275', 'CIW80_22385', 'CIW80_14305', 'CIW80_14605', 'CIW80_00585', 'CIW80_17615', 'CIW80_01985', 'CIW80_21510', 'CIW80_20450', 'CIW80_08320', 'CIW80_08965', 'CIW80_20475', 'CIW80_12505', 'CIW80_09220', 'CIW80_15600', 'CIW80_24160', 'CIW80_06200', 'CIW80_00855', 'CIW80_15265', 'CIW80_12220', 'CIW80_08565', 'CIW80_08685', 'CIW80_19575', 'CIW80_19605', 'CIW80_06660', 'CIW80_00810', 'CIW80_16735', 'CIW80_20290', 'CIW80_24395', 'CIW80_00155', 'CIW80_13375', 'CIW80_12125', 'CIW80_21155', 'CIW80_19690', 'CIW80_23805', 'CIW80_09430', 'CIW80_24715', 'CIW80_01480', 'CIW80_12455', 'CIW80_12425', 'CIW80_06625', 'CIW80_23700', 'CIW80_24705', 'CIW80_14550', 'CIW80_06440', 'CIW80_09860', 'CIW80_17105', 'CIW80_12155', 'CIW80_00285', 'CIW80_11290', 'CIW80_06320', 'CIW80_09780', 'CIW80_02920', 'CIW80_03490', 'CIW80_20540', 'CIW80_16905', 'CIW80_22890', 'CIW80_20905', 'CIW80_18905', 'CIW80_11555', 'CIW80_12720', 'CIW80_15920', 'CIW80_23455', 'CIW80_11880', 'CIW80_19540', 'CIW80_00515', 'CIW80_24825', 'CIW80_04345', 'CIW80_01685', 'CIW80_18255', 'CIW80_09820', 'CIW80_17345', 'CIW80_08625', 'CIW80_19120', 'CIW80_12310', 'CIW80_00185', 'CIW80_15835', 'CIW80_19890', 'CIW80_19090', 'CIW80_18315', 'CIW80_20745', 'CIW80_01485', 'CIW80_20845', 'CIW80_20800', 'CIW80_14935', 'CIW80_22090', 'CIW80_20805', 'CIW80_00800', 'CIW80_24565', 'CIW80_02230', 'CIW80_10705', 'CIW80_21120', 'CIW80_03635', 'CIW80_05380', 'CIW80_02035', 'CIW80_22915', 'CIW80_00680', 'CIW80_23800', 'CIW80_19785', 'CIW80_19585', 'CIW80_24600', 'CIW80_24750', 'CIW80_09015', 'CIW80_22705', 'CIW80_06770', 'CIW80_00160', 'CIW80_00720', 'CIW80_14320', 'CIW80_12920', 'CIW80_10825', 'CIW80_12080', 'CIW80_10605', 'CIW80_04900', 'CIW80_00670', 'CIW80_15255', 'CIW80_21575', 'CIW80_05655'}\n",
      "CP000243 {'CIW80_22445', 'CIW80_06330', 'CIW80_08295', 'CIW80_15510', 'CIW80_15855', 'CIW80_04745', 'CIW80_11570', 'CIW80_10280', 'CIW80_05030', 'CIW80_01880', 'CIW80_04490', 'CIW80_25340', 'CIW80_01570', 'CIW80_23630', 'CIW80_24680', 'CIW80_13175', 'CIW80_16405', 'CIW80_23555', 'CIW80_23655', 'CIW80_15680', 'CIW80_13695', 'CIW80_15090', 'CIW80_19755', 'CIW80_13245', 'CIW80_22470', 'CIW80_19765', 'CIW80_10845', 'CIW80_23115', 'CIW80_02595', 'CIW80_22995', 'CIW80_15595', 'CIW80_16470', 'CIW80_02835', 'CIW80_15525', 'CIW80_25220', 'CIW80_24670', 'CIW80_24610', 'CIW80_12710', 'CIW80_22910', 'CIW80_24975', 'CIW80_25710', 'CIW80_02830', 'CIW80_05590', 'CIW80_18910', 'CIW80_25400', 'CIW80_12320', 'CIW80_09250', 'CIW80_23650', 'CIW80_06025', 'CIW80_00550', 'CIW80_12115', 'CIW80_08665', 'CIW80_00210', 'CIW80_04210', 'CIW80_16900', 'CIW80_15195', 'CIW80_00290', 'CIW80_08180', 'CIW80_14460', 'CIW80_20505', 'CIW80_23605', 'CIW80_10205', 'CIW80_10530', 'CIW80_03600', 'CIW80_23585', 'CIW80_21745', 'CIW80_21785', 'CIW80_15895', 'CIW80_21580', 'CIW80_13215', 'CIW80_24665', 'CIW80_03775', 'CIW80_15310', 'CIW80_17305', 'CIW80_17415', 'CIW80_00055', 'CIW80_07360', 'CIW80_01145', 'CIW80_13150', 'CIW80_08155', 'CIW80_23045', 'CIW80_19710', 'CIW80_25650', 'CIW80_23385', 'CIW80_00065', 'CIW80_24455', 'CIW80_05920', 'CIW80_19335', 'CIW80_00830', 'CIW80_06145', 'CIW80_03480', 'CIW80_09255', 'CIW80_03470', 'CIW80_08365', 'CIW80_09745', 'CIW80_21060', 'CIW80_17275', 'CIW80_03040', 'CIW80_18605', 'CIW80_24875', 'CIW80_08635', 'CIW80_13445', 'CIW80_01150', 'CIW80_18005', 'CIW80_13240', 'CIW80_12050', 'CIW80_00205', 'CIW80_14985', 'CIW80_13270', 'CIW80_19600', 'CIW80_16850', 'CIW80_20555', 'CIW80_24350', 'CIW80_19695', 'CIW80_18570', 'CIW80_23580', 'CIW80_07305', 'CIW80_07750', 'CIW80_10850', 'CIW80_25715', 'CIW80_04675', 'CIW80_22085', 'CIW80_14930', 'CIW80_19525', 'CIW80_25265', 'CIW80_12235', 'CIW80_14485', 'CIW80_00295', 'CIW80_17755', 'CIW80_20060', 'CIW80_03850', 'CIW80_21165', 'CIW80_23120', 'CIW80_14845', 'CIW80_24330', 'CIW80_07805', 'CIW80_08290', 'CIW80_13220', 'CIW80_07550', 'CIW80_07575', 'CIW80_16915', 'CIW80_19840', 'CIW80_22055', 'CIW80_07845', 'CIW80_16130', 'CIW80_05025', 'CIW80_17835', 'CIW80_25310', 'CIW80_03650', 'CIW80_00395', 'CIW80_23850', 'CIW80_13755', 'CIW80_08045', 'CIW80_13895', 'CIW80_14340', 'CIW80_14045', 'CIW80_00540', 'CIW80_16345', 'CIW80_03050', 'CIW80_19390', 'CIW80_04760', 'CIW80_11590', 'CIW80_07045', 'CIW80_08810', 'CIW80_08860', 'CIW80_08010', 'CIW80_23645', 'CIW80_15975', 'CIW80_08710', 'CIW80_21480', 'CIW80_02710', 'CIW80_23510', 'CIW80_04385', 'CIW80_06335', 'CIW80_00430', 'CIW80_23635', 'CIW80_23355', 'CIW80_11215', 'CIW80_04485', 'CIW80_04575', 'CIW80_11125', 'CIW80_01625', 'CIW80_12770', 'CIW80_07475', 'CIW80_23290', 'CIW80_23070', 'CIW80_10535', 'CIW80_15720', 'CIW80_02915', 'CIW80_03885', 'CIW80_25320', 'CIW80_01885', 'CIW80_17170', 'CIW80_02730', 'CIW80_03545', 'CIW80_23525', 'CIW80_06290', 'CIW80_11810', 'CIW80_02865', 'CIW80_18110', 'CIW80_03705', 'CIW80_04655', 'CIW80_03890', 'CIW80_06155', 'CIW80_04265', 'CIW80_21440', 'CIW80_06940', 'CIW80_17200', 'CIW80_04580', 'CIW80_08715', 'CIW80_19065', 'CIW80_15640', 'CIW80_18055', 'CIW80_04495', 'CIW80_20900', 'CIW80_15105', 'CIW80_11800', 'CIW80_00665', 'CIW80_15550', 'CIW80_14500', 'CIW80_19070', 'CIW80_16865', 'CIW80_15250', 'CIW80_17260', 'CIW80_20565', 'CIW80_18340', 'CIW80_11790', 'CIW80_00655', 'CIW80_07260', 'CIW80_21340', 'CIW80_18300', 'CIW80_15080', 'CIW80_03505', 'CIW80_22385', 'CIW80_14305', 'CIW80_14605', 'CIW80_19055', 'CIW80_17615', 'CIW80_16965', 'CIW80_18740', 'CIW80_00705', 'CIW80_01985', 'CIW80_18210', 'CIW80_21510', 'CIW80_24400', 'CIW80_20450', 'CIW80_08320', 'CIW80_02725', 'CIW80_20475', 'CIW80_09220', 'CIW80_15600', 'CIW80_01120', 'CIW80_24160', 'CIW80_06200', 'CIW80_00855', 'CIW80_15265', 'CIW80_24675', 'CIW80_03675', 'CIW80_12220', 'CIW80_08565', 'CIW80_16360', 'CIW80_19605', 'CIW80_00810', 'CIW80_03590', 'CIW80_00155', 'CIW80_23565', 'CIW80_21155', 'CIW80_03695', 'CIW80_12455', 'CIW80_25685', 'CIW80_03710', 'CIW80_12425', 'CIW80_19535', 'CIW80_06625', 'CIW80_23700', 'CIW80_13340', 'CIW80_24705', 'CIW80_14550', 'CIW80_06440', 'CIW80_02895', 'CIW80_09860', 'CIW80_03615', 'CIW80_11290', 'CIW80_09780', 'CIW80_02920', 'CIW80_20540', 'CIW80_02640', 'CIW80_07840', 'CIW80_23130', 'CIW80_04895', 'CIW80_22985', 'CIW80_19510', 'CIW80_12295', 'CIW80_00190', 'CIW80_12720', 'CIW80_15920', 'CIW80_23455', 'CIW80_00515', 'CIW80_14690', 'CIW80_01910', 'CIW80_04345', 'CIW80_18255', 'CIW80_21390', 'CIW80_08625', 'CIW80_12310', 'CIW80_13700', 'CIW80_00185', 'CIW80_15835', 'CIW80_19890', 'CIW80_19090', 'CIW80_21160', 'CIW80_15985', 'CIW80_20745', 'CIW80_03005', 'CIW80_20845', 'CIW80_01485', 'CIW80_02885', 'CIW80_17240', 'CIW80_01720', 'CIW80_17245', 'CIW80_20805', 'CIW80_00800', 'CIW80_11320', 'CIW80_02230', 'CIW80_25705', 'CIW80_24710', 'CIW80_10705', 'CIW80_21120', 'CIW80_03635', 'CIW80_00680', 'CIW80_23495', 'CIW80_23800', 'CIW80_01390', 'CIW80_19730', 'CIW80_19585', 'CIW80_24750', 'CIW80_09015', 'CIW80_22705', 'CIW80_14450', 'CIW80_03340', 'CIW80_06770', 'CIW80_00720', 'CIW80_00520', 'CIW80_23670', 'CIW80_14320', 'CIW80_12920', 'CIW80_02010', 'CIW80_10825', 'CIW80_25475', 'CIW80_12080', 'CIW80_09390', 'CIW80_17935', 'CIW80_10605', 'CIW80_03540', 'CIW80_00670', 'CIW80_15255', 'CIW80_15740', 'CIW80_05655'}\n"
     ]
    },
    {
     "name": "stdout",
     "output_type": "stream",
     "text": [
      "CP001063 {'CIW80_22445', 'CIW80_12600', 'CIW80_13615', 'CIW80_08295', 'CIW80_15510', 'CIW80_05090', 'CIW80_04745', 'CIW80_11570', 'CIW80_11350', 'CIW80_09205', 'CIW80_10835', 'CIW80_09165', 'CIW80_07705', 'CIW80_09195', 'CIW80_10280', 'CIW80_09630', 'CIW80_22935', 'CIW80_05030', 'CIW80_05800', 'CIW80_14390', 'CIW80_06735', 'CIW80_09805', 'CIW80_04425', 'CIW80_01880', 'CIW80_25340', 'CIW80_25760', 'CIW80_01570', 'CIW80_24000', 'CIW80_12380', 'CIW80_05650', 'CIW80_13175', 'CIW80_16405', 'CIW80_12135', 'CIW80_04750', 'CIW80_13695', 'CIW80_08720', 'CIW80_22470', 'CIW80_16290', 'CIW80_06185', 'CIW80_02595', 'CIW80_15595', 'CIW80_11395', 'CIW80_22170', 'CIW80_01280', 'CIW80_08460', 'CIW80_18375', 'CIW80_10730', 'CIW80_02835', 'CIW80_15525', 'CIW80_12540', 'CIW80_25220', 'CIW80_25510', 'CIW80_17330', 'CIW80_22910', 'CIW80_04445', 'CIW80_22945', 'CIW80_08855', 'CIW80_09895', 'CIW80_24975', 'CIW80_02830', 'CIW80_04555', 'CIW80_02715', 'CIW80_20670', 'CIW80_01900', 'CIW80_11525', 'CIW80_18910', 'CIW80_05135', 'CIW80_25400', 'CIW80_12320', 'CIW80_11010', 'CIW80_18415', 'CIW80_14465', 'CIW80_17360', 'CIW80_09790', 'CIW80_25625', 'CIW80_05245', 'CIW80_06025', 'CIW80_17425', 'CIW80_01845', 'CIW80_00550', 'CIW80_00915', 'CIW80_06555', 'CIW80_12115', 'CIW80_06960', 'CIW80_17750', 'CIW80_00210', 'CIW80_07675', 'CIW80_04210', 'CIW80_22515', 'CIW80_10110', 'CIW80_10025', 'CIW80_15195', 'CIW80_04885', 'CIW80_13610', 'CIW80_05115', 'CIW80_15590', 'CIW80_23885', 'CIW80_25215', 'CIW80_08180', 'CIW80_24015', 'CIW80_20505', 'CIW80_14885', 'CIW80_01945', 'CIW80_10530', 'CIW80_10590', 'CIW80_07885', 'CIW80_21745', 'CIW80_21785', 'CIW80_01355', 'CIW80_18250', 'CIW80_15895', 'CIW80_21580', 'CIW80_13215', 'CIW80_04500', 'CIW80_17295', 'CIW80_17415', 'CIW80_00055', 'CIW80_09920', 'CIW80_13770', 'CIW80_24500', 'CIW80_24635', 'CIW80_07360', 'CIW80_10335', 'CIW80_23950', 'CIW80_23045', 'CIW80_25650', 'CIW80_24640', 'CIW80_00065', 'CIW80_12330', 'CIW80_21270', 'CIW80_24175', 'CIW80_00830', 'CIW80_01115', 'CIW80_22175', 'CIW80_06145', 'CIW80_17220', 'CIW80_08850', 'CIW80_03310', 'CIW80_25345', 'CIW80_24520', 'CIW80_08365', 'CIW80_09745', 'CIW80_20390', 'CIW80_21060', 'CIW80_05940', 'CIW80_21125', 'CIW80_17275', 'CIW80_08325', 'CIW80_20370', 'CIW80_03040', 'CIW80_11820', 'CIW80_23025', 'CIW80_18605', 'CIW80_09795', 'CIW80_07375', 'CIW80_04365', 'CIW80_15900', 'CIW80_14775', 'CIW80_01150', 'CIW80_18005', 'CIW80_12390', 'CIW80_16825', 'CIW80_17230', 'CIW80_00205', 'CIW80_15820', 'CIW80_19990', 'CIW80_14985', 'CIW80_12435', 'CIW80_20555', 'CIW80_16110', 'CIW80_22215', 'CIW80_21015', 'CIW80_01680', 'CIW80_18245', 'CIW80_24700', 'CIW80_18570', 'CIW80_07210', 'CIW80_07305', 'CIW80_16505', 'CIW80_07750', 'CIW80_18080', 'CIW80_01065', 'CIW80_10850', 'CIW80_24685', 'CIW80_04675', 'CIW80_22085', 'CIW80_12235', 'CIW80_14485', 'CIW80_06595', 'CIW80_00345', 'CIW80_17755', 'CIW80_22680', 'CIW80_10755', 'CIW80_04085', 'CIW80_00350', 'CIW80_20060', 'CIW80_02030', 'CIW80_03850', 'CIW80_05665', 'CIW80_21165', 'CIW80_14845', 'CIW80_17475', 'CIW80_06175', 'CIW80_00465', 'CIW80_06630', 'CIW80_24780', 'CIW80_08290', 'CIW80_05765', 'CIW80_14800', 'CIW80_08755', 'CIW80_10510', 'CIW80_20025', 'CIW80_22055', 'CIW80_16130', 'CIW80_08840', 'CIW80_20430', 'CIW80_01090', 'CIW80_01855', 'CIW80_05025', 'CIW80_02615', 'CIW80_08410', 'CIW80_17835', 'CIW80_17430', 'CIW80_25310', 'CIW80_05170', 'CIW80_00395', 'CIW80_23850', 'CIW80_01820', 'CIW80_13755', 'CIW80_09775', 'CIW80_15215', 'CIW80_03810', 'CIW80_21025', 'CIW80_03995', 'CIW80_14375', 'CIW80_13895', 'CIW80_01455', 'CIW80_14340', 'CIW80_13800', 'CIW80_01905', 'CIW80_14045', 'CIW80_00540', 'CIW80_01205', 'CIW80_09865', 'CIW80_22035', 'CIW80_03050', 'CIW80_07695', 'CIW80_10725', 'CIW80_01255', 'CIW80_04760', 'CIW80_11805', 'CIW80_11590', 'CIW80_13390', 'CIW80_24745', 'CIW80_24735', 'CIW80_07045', 'CIW80_07615', 'CIW80_22950', 'CIW80_15870', 'CIW80_18580', 'CIW80_00375', 'CIW80_19935', 'CIW80_14490', 'CIW80_22685', 'CIW80_10860', 'CIW80_00965', 'CIW80_18555', 'CIW80_02710', 'CIW80_15545', 'CIW80_13870', 'CIW80_00430', 'CIW80_04485', 'CIW80_07315', 'CIW80_11215', 'CIW80_04575', 'CIW80_01625', 'CIW80_12770', 'CIW80_07475', 'CIW80_24250', 'CIW80_12430', 'CIW80_10535', 'CIW80_03530', 'CIW80_03885', 'CIW80_12940', 'CIW80_21840', 'CIW80_18100', 'CIW80_25785', 'CIW80_01885', 'CIW80_02730', 'CIW80_04590', 'CIW80_06290', 'CIW80_11810', 'CIW80_02865', 'CIW80_02645', 'CIW80_18110', 'CIW80_03890', 'CIW80_06155', 'CIW80_04265', 'CIW80_21440', 'CIW80_06940', 'CIW80_10655', 'CIW80_08270', 'CIW80_21800', 'CIW80_04580', 'CIW80_16635', 'CIW80_03000', 'CIW80_06195', 'CIW80_15640', 'CIW80_18055', 'CIW80_04605', 'CIW80_01980', 'CIW80_04495', 'CIW80_20900', 'CIW80_06815', 'CIW80_15105', 'CIW80_13405', 'CIW80_04335', 'CIW80_10745', 'CIW80_24435', 'CIW80_08405', 'CIW80_22060', 'CIW80_00615', 'CIW80_00545', 'CIW80_00165', 'CIW80_15550', 'CIW80_15025', 'CIW80_14500', 'CIW80_24035', 'CIW80_08780', 'CIW80_01795', 'CIW80_11630', 'CIW80_15250', 'CIW80_08795', 'CIW80_15140', 'CIW80_07405', 'CIW80_09750', 'CIW80_19660', 'CIW80_18340', 'CIW80_11790', 'CIW80_06900', 'CIW80_19945', 'CIW80_04595', 'CIW80_21340', 'CIW80_17580', 'CIW80_08595', 'CIW80_15080', 'CIW80_04220', 'CIW80_22275', 'CIW80_22385', 'CIW80_24980', 'CIW80_14305', 'CIW80_14605', 'CIW80_15285', 'CIW80_17910', 'CIW80_07875', 'CIW80_00585', 'CIW80_17615', 'CIW80_01985', 'CIW80_13170', 'CIW80_24810', 'CIW80_21510', 'CIW80_03365', 'CIW80_20450', 'CIW80_08320', 'CIW80_25290', 'CIW80_25185', 'CIW80_20475', 'CIW80_05805', 'CIW80_19965', 'CIW80_15600', 'CIW80_24160', 'CIW80_06200', 'CIW80_21495', 'CIW80_17555', 'CIW80_01675', 'CIW80_00855', 'CIW80_14040', 'CIW80_25735', 'CIW80_12220', 'CIW80_07295', 'CIW80_14020', 'CIW80_21260', 'CIW80_03610', 'CIW80_08565', 'CIW80_16955', 'CIW80_01315', 'CIW80_06660', 'CIW80_00810', 'CIW80_10970', 'CIW80_20290', 'CIW80_06315', 'CIW80_18405', 'CIW80_00155', 'CIW80_21565', 'CIW80_16410', 'CIW80_13375', 'CIW80_12125', 'CIW80_15240', 'CIW80_21155', 'CIW80_03570', 'CIW80_19690', 'CIW80_09430', 'CIW80_24880', 'CIW80_22690', 'CIW80_24715', 'CIW80_21845', 'CIW80_01480', 'CIW80_00555', 'CIW80_12455', 'CIW80_10930', 'CIW80_25685', 'CIW80_12425', 'CIW80_02610', 'CIW80_06625', 'CIW80_24705', 'CIW80_14550', 'CIW80_18090', 'CIW80_07275', 'CIW80_24525', 'CIW80_20730', 'CIW80_23875', 'CIW80_06440', 'CIW80_09860', 'CIW80_00285', 'CIW80_11290', 'CIW80_09780', 'CIW80_22430', 'CIW80_02735', 'CIW80_20540', 'CIW80_22890', 'CIW80_20905', 'CIW80_04895', 'CIW80_12295', 'CIW80_13620', 'CIW80_11555', 'CIW80_22020', 'CIW80_09905', 'CIW80_12720', 'CIW80_02160', 'CIW80_01640', 'CIW80_02110', 'CIW80_11880', 'CIW80_19540', 'CIW80_00515', 'CIW80_24825', 'CIW80_01910', 'CIW80_18255', 'CIW80_09820', 'CIW80_15200', 'CIW80_17345', 'CIW80_08625', 'CIW80_22500', 'CIW80_09200', 'CIW80_12310', 'CIW80_02850', 'CIW80_13700', 'CIW80_17700', 'CIW80_00185', 'CIW80_15835', 'CIW80_21160', 'CIW80_18315', 'CIW80_02145', 'CIW80_20745', 'CIW80_03005', 'CIW80_07880', 'CIW80_14935', 'CIW80_17240', 'CIW80_04875', 'CIW80_01720', 'CIW80_15805', 'CIW80_17245', 'CIW80_21210', 'CIW80_20805', 'CIW80_22970', 'CIW80_02560', 'CIW80_04560', 'CIW80_06955', 'CIW80_00800', 'CIW80_09845', 'CIW80_11320', 'CIW80_24565', 'CIW80_16385', 'CIW80_03820', 'CIW80_02230', 'CIW80_24710', 'CIW80_10705', 'CIW80_20865', 'CIW80_25030', 'CIW80_21070', 'CIW80_21120', 'CIW80_00560', 'CIW80_05380', 'CIW80_03305', 'CIW80_24555', 'CIW80_02035', 'CIW80_20130', 'CIW80_00795', 'CIW80_07340', 'CIW80_22915', 'CIW80_25630', 'CIW80_00680', 'CIW80_20470', 'CIW80_01730', 'CIW80_01390', 'CIW80_24010', 'CIW80_23780', 'CIW80_21105', 'CIW80_24750', 'CIW80_08590', 'CIW80_00095', 'CIW80_03340', 'CIW80_06770', 'CIW80_16660', 'CIW80_00160', 'CIW80_14595', 'CIW80_14320', 'CIW80_01030', 'CIW80_12920', 'CIW80_02010', 'CIW80_24630', 'CIW80_10825', 'CIW80_12080', 'CIW80_22775', 'CIW80_09390', 'CIW80_10605', 'CIW80_04900', 'CIW80_05100', 'CIW80_20715', 'CIW80_00670', 'CIW80_24210', 'CIW80_15255', 'CIW80_10765', 'CIW80_21575', 'CIW80_05655', 'CIW80_02825'}\n",
      "CP000036 {'CIW80_00445', 'CIW80_22445', 'CIW80_01660', 'CIW80_08295', 'CIW80_15510', 'CIW80_15855', 'CIW80_05090', 'CIW80_04745', 'CIW80_11570', 'CIW80_09205', 'CIW80_22505', 'CIW80_08630', 'CIW80_16065', 'CIW80_10280', 'CIW80_21470', 'CIW80_05030', 'CIW80_06735', 'CIW80_09805', 'CIW80_04425', 'CIW80_01880', 'CIW80_04490', 'CIW80_25340', 'CIW80_15155', 'CIW80_01570', 'CIW80_12380', 'CIW80_05650', 'CIW80_13175', 'CIW80_16405', 'CIW80_03525', 'CIW80_12135', 'CIW80_04750', 'CIW80_00760', 'CIW80_15680', 'CIW80_13695', 'CIW80_22470', 'CIW80_10845', 'CIW80_02595', 'CIW80_19555', 'CIW80_15595', 'CIW80_11395', 'CIW80_15685', 'CIW80_10730', 'CIW80_16470', 'CIW80_02835', 'CIW80_00920', 'CIW80_15525', 'CIW80_25220', 'CIW80_25510', 'CIW80_02665', 'CIW80_04685', 'CIW80_22910', 'CIW80_25020', 'CIW80_08855', 'CIW80_08790', 'CIW80_12375', 'CIW80_02830', 'CIW80_20670', 'CIW80_11525', 'CIW80_05135', 'CIW80_25400', 'CIW80_12320', 'CIW80_21645', 'CIW80_18415', 'CIW80_20620', 'CIW80_14465', 'CIW80_06025', 'CIW80_17425', 'CIW80_00550', 'CIW80_16060', 'CIW80_12115', 'CIW80_20075', 'CIW80_06960', 'CIW80_11240', 'CIW80_07675', 'CIW80_00210', 'CIW80_01340', 'CIW80_04210', 'CIW80_10710', 'CIW80_10110', 'CIW80_08165', 'CIW80_15195', 'CIW80_22920', 'CIW80_08030', 'CIW80_03070', 'CIW80_17325', 'CIW80_13610', 'CIW80_03875', 'CIW80_05235', 'CIW80_15590', 'CIW80_08180', 'CIW80_11850', 'CIW80_20505', 'CIW80_24015', 'CIW80_14885', 'CIW80_09400', 'CIW80_10530', 'CIW80_10590', 'CIW80_21745', 'CIW80_21785', 'CIW80_25390', 'CIW80_01355', 'CIW80_15895', 'CIW80_21580', 'CIW80_13215', 'CIW80_18250', 'CIW80_04500', 'CIW80_23820', 'CIW80_17415', 'CIW80_00055', 'CIW80_04830', 'CIW80_02940', 'CIW80_01145', 'CIW80_08155', 'CIW80_23045', 'CIW80_25650', 'CIW80_19590', 'CIW80_14030', 'CIW80_21270', 'CIW80_04225', 'CIW80_00830', 'CIW80_01115', 'CIW80_13645', 'CIW80_06165', 'CIW80_06145', 'CIW80_00570', 'CIW80_07200', 'CIW80_17220', 'CIW80_08850', 'CIW80_25345', 'CIW80_18185', 'CIW80_01330', 'CIW80_22335', 'CIW80_08365', 'CIW80_09745', 'CIW80_21060', 'CIW80_17275', 'CIW80_08325', 'CIW80_22560', 'CIW80_01360', 'CIW80_03040', 'CIW80_22025', 'CIW80_25335', 'CIW80_11840', 'CIW80_23025', 'CIW80_18605', 'CIW80_09875', 'CIW80_19580', 'CIW80_01150', 'CIW80_18005', 'CIW80_12390', 'CIW80_17710', 'CIW80_00205', 'CIW80_19990', 'CIW80_01555', 'CIW80_12385', 'CIW80_14985', 'CIW80_05185', 'CIW80_12435', 'CIW80_19600', 'CIW80_20555', 'CIW80_16110', 'CIW80_21015', 'CIW80_04800', 'CIW80_13955', 'CIW80_18245', 'CIW80_24700', 'CIW80_04040', 'CIW80_18570', 'CIW80_16505', 'CIW80_07750', 'CIW80_01065', 'CIW80_10850', 'CIW80_23040', 'CIW80_04675', 'CIW80_22085', 'CIW80_14930', 'CIW80_13555', 'CIW80_12235', 'CIW80_19405', 'CIW80_06595', 'CIW80_17755', 'CIW80_22680', 'CIW80_04090', 'CIW80_20060', 'CIW80_05665', 'CIW80_21165', 'CIW80_14845', 'CIW80_17475', 'CIW80_02955', 'CIW80_06175', 'CIW80_06630', 'CIW80_24780', 'CIW80_08290', 'CIW80_03045', 'CIW80_08755', 'CIW80_25330', 'CIW80_22055', 'CIW80_16130', 'CIW80_15840', 'CIW80_05025', 'CIW80_17835', 'CIW80_25310', 'CIW80_00395', 'CIW80_23850', 'CIW80_13755', 'CIW80_09775', 'CIW80_03995', 'CIW80_08045', 'CIW80_13895', 'CIW80_01455', 'CIW80_14340', 'CIW80_14045', 'CIW80_12195', 'CIW80_07695', 'CIW80_10725', 'CIW80_22200', 'CIW80_04760', 'CIW80_03350', 'CIW80_11590', 'CIW80_14290', 'CIW80_24735', 'CIW80_07045', 'CIW80_22950', 'CIW80_08010', 'CIW80_00375', 'CIW80_08070', 'CIW80_14490', 'CIW80_22685', 'CIW80_10860', 'CIW80_00965', 'CIW80_11275', 'CIW80_01015', 'CIW80_02710', 'CIW80_10485', 'CIW80_20910', 'CIW80_13870', 'CIW80_02705', 'CIW80_00430', 'CIW80_04485', 'CIW80_11215', 'CIW80_04575', 'CIW80_01625', 'CIW80_12770', 'CIW80_07475', 'CIW80_24250', 'CIW80_23070', 'CIW80_12430', 'CIW80_10535', 'CIW80_21035', 'CIW80_03530', 'CIW80_12110', 'CIW80_12940', 'CIW80_01885', 'CIW80_15845', 'CIW80_17170', 'CIW80_02730', 'CIW80_21425', 'CIW80_02015', 'CIW80_04590', 'CIW80_06290', 'CIW80_11810', 'CIW80_02865', 'CIW80_15945', 'CIW80_23975', 'CIW80_18110', 'CIW80_03890', 'CIW80_04810', 'CIW80_06155', 'CIW80_06095', 'CIW80_04265', 'CIW80_21440', 'CIW80_06940', 'CIW80_10655', 'CIW80_08270', 'CIW80_17200', 'CIW80_21800', 'CIW80_04580', 'CIW80_03000', 'CIW80_06195', 'CIW80_15640', 'CIW80_18055', 'CIW80_04605', 'CIW80_01980', 'CIW80_04495', 'CIW80_19640', 'CIW80_06160', 'CIW80_20900', 'CIW80_16370', 'CIW80_15105', 'CIW80_13405', 'CIW80_01100', 'CIW80_23860', 'CIW80_22060', 'CIW80_02580', 'CIW80_00545', 'CIW80_15025', 'CIW80_14500', 'CIW80_15250', 'CIW80_17260', 'CIW80_20650', 'CIW80_18340', 'CIW80_11790', 'CIW80_06900', 'CIW80_05300', 'CIW80_17150', 'CIW80_12790', 'CIW80_19945', 'CIW80_04595', 'CIW80_21340', 'CIW80_25565', 'CIW80_17580', 'CIW80_08595', 'CIW80_12825', 'CIW80_02945', 'CIW80_15080', 'CIW80_24980', 'CIW80_22275', 'CIW80_22385', 'CIW80_14305', 'CIW80_14605', 'CIW80_16800', 'CIW80_21940', 'CIW80_20640', 'CIW80_17615', 'CIW80_18695', 'CIW80_04125', 'CIW80_01985', 'CIW80_18470', 'CIW80_24810', 'CIW80_16005', 'CIW80_20450', 'CIW80_08320', 'CIW80_02725', 'CIW80_00045', 'CIW80_25185', 'CIW80_20475', 'CIW80_15600', 'CIW80_01120', 'CIW80_24160', 'CIW80_06200', 'CIW80_21495', 'CIW80_03075', 'CIW80_08465', 'CIW80_14210', 'CIW80_23910', 'CIW80_00855', 'CIW80_06695', 'CIW80_16315', 'CIW80_14040', 'CIW80_25735', 'CIW80_09960', 'CIW80_12220', 'CIW80_20090', 'CIW80_08565', 'CIW80_19575', 'CIW80_19605', 'CIW80_06660', 'CIW80_00810', 'CIW80_20290', 'CIW80_02050', 'CIW80_06315', 'CIW80_18405', 'CIW80_00155', 'CIW80_16410', 'CIW80_13375', 'CIW80_12125', 'CIW80_21155', 'CIW80_23805', 'CIW80_24880', 'CIW80_22690', 'CIW80_12395', 'CIW80_24715', 'CIW80_04985', 'CIW80_01480', 'CIW80_12455', 'CIW80_25685', 'CIW80_12425', 'CIW80_04255', 'CIW80_06625', 'CIW80_24705', 'CIW80_14550', 'CIW80_20730', 'CIW80_23875', 'CIW80_06440', 'CIW80_09860', 'CIW80_04535', 'CIW80_23055', 'CIW80_07930', 'CIW80_11290', 'CIW80_02995', 'CIW80_22430', 'CIW80_09780', 'CIW80_00040', 'CIW80_02920', 'CIW80_20540', 'CIW80_02120', 'CIW80_08645', 'CIW80_02685', 'CIW80_02690', 'CIW80_20905', 'CIW80_11815', 'CIW80_12295', 'CIW80_13620', 'CIW80_11555', 'CIW80_05975', 'CIW80_22020', 'CIW80_00190', 'CIW80_09905', 'CIW80_12720', 'CIW80_15920', 'CIW80_19540', 'CIW80_04850', 'CIW80_13920', 'CIW80_00515', 'CIW80_24825', 'CIW80_18255', 'CIW80_09820', 'CIW80_17345', 'CIW80_21945', 'CIW80_08625', 'CIW80_09200', 'CIW80_12310', 'CIW80_08065', 'CIW80_02850', 'CIW80_00185', 'CIW80_13185', 'CIW80_15835', 'CIW80_15650', 'CIW80_04835', 'CIW80_18315', 'CIW80_02145', 'CIW80_19550', 'CIW80_20745', 'CIW80_17535', 'CIW80_02885', 'CIW80_07880', 'CIW80_17240', 'CIW80_22090', 'CIW80_04875', 'CIW80_20535', 'CIW80_00960', 'CIW80_01720', 'CIW80_17245', 'CIW80_21210', 'CIW80_23790', 'CIW80_04560', 'CIW80_06955', 'CIW80_00800', 'CIW80_09845', 'CIW80_11320', 'CIW80_24565', 'CIW80_02230', 'CIW80_24710', 'CIW80_10705', 'CIW80_23845', 'CIW80_21120', 'CIW80_04480', 'CIW80_00560', 'CIW80_05380', 'CIW80_24555', 'CIW80_02035', 'CIW80_05390', 'CIW80_02935', 'CIW80_20130', 'CIW80_00795', 'CIW80_00680', 'CIW80_01730', 'CIW80_23800', 'CIW80_01390', 'CIW80_23780', 'CIW80_21105', 'CIW80_14280', 'CIW80_20415', 'CIW80_04820', 'CIW80_17530', 'CIW80_24750', 'CIW80_08590', 'CIW80_20300', 'CIW80_03340', 'CIW80_06770', 'CIW80_02980', 'CIW80_19425', 'CIW80_00160', 'CIW80_14320', 'CIW80_12920', 'CIW80_02010', 'CIW80_10825', 'CIW80_16230', 'CIW80_12080', 'CIW80_22775', 'CIW80_09390', 'CIW80_21830', 'CIW80_10605', 'CIW80_00750', 'CIW80_04900', 'CIW80_05100', 'CIW80_20715', 'CIW80_10045', 'CIW80_00670', 'CIW80_15255', 'CIW80_21575', 'CIW80_05655', 'CIW80_07470'}\n",
      "CP000034 {'CIW80_00170', 'CIW80_22445', 'CIW80_07090', 'CIW80_06330', 'CIW80_08295', 'CIW80_15510', 'CIW80_15855', 'CIW80_04745', 'CIW80_11570', 'CIW80_16065', 'CIW80_10280', 'CIW80_05030', 'CIW80_05800', 'CIW80_06735', 'CIW80_09805', 'CIW80_01880', 'CIW80_04490', 'CIW80_25340', 'CIW80_12160', 'CIW80_24430', 'CIW80_24000', 'CIW80_12380', 'CIW80_24885', 'CIW80_00145', 'CIW80_05650', 'CIW80_13175', 'CIW80_16405', 'CIW80_12135', 'CIW80_23555', 'CIW80_13695', 'CIW80_08720', 'CIW80_22470', 'CIW80_00715', 'CIW80_13865', 'CIW80_02595', 'CIW80_15980', 'CIW80_08310', 'CIW80_11395', 'CIW80_07515', 'CIW80_10810', 'CIW80_18375', 'CIW80_10730', 'CIW80_16470', 'CIW80_02835', 'CIW80_00920', 'CIW80_15525', 'CIW80_25220', 'CIW80_25510', 'CIW80_17330', 'CIW80_04685', 'CIW80_06545', 'CIW80_20105', 'CIW80_22945', 'CIW80_03320', 'CIW80_22780', 'CIW80_08790', 'CIW80_18945', 'CIW80_12335', 'CIW80_12375', 'CIW80_02830', 'CIW80_12370', 'CIW80_11465', 'CIW80_00335', 'CIW80_11525', 'CIW80_16500', 'CIW80_18910', 'CIW80_21820', 'CIW80_25400', 'CIW80_12320', 'CIW80_11930', 'CIW80_18415', 'CIW80_09790', 'CIW80_00330', 'CIW80_25625', 'CIW80_06025', 'CIW80_20580', 'CIW80_01995', 'CIW80_01365', 'CIW80_00550', 'CIW80_00380', 'CIW80_11795', 'CIW80_12115', 'CIW80_20075', 'CIW80_06960', 'CIW80_00210', 'CIW80_01340', 'CIW80_04210', 'CIW80_13030', 'CIW80_10710', 'CIW80_10110', 'CIW80_16775', 'CIW80_15195', 'CIW80_13610', 'CIW80_05235', 'CIW80_21505', 'CIW80_08180', 'CIW80_20505', 'CIW80_04435', 'CIW80_23020', 'CIW80_19880', 'CIW80_22760', 'CIW80_09400', 'CIW80_10530', 'CIW80_10590', 'CIW80_21785', 'CIW80_01355', 'CIW80_21580', 'CIW80_03775', 'CIW80_25395', 'CIW80_17415', 'CIW80_00055', 'CIW80_09920', 'CIW80_22310', 'CIW80_21430', 'CIW80_01145', 'CIW80_23045', 'CIW80_20115', 'CIW80_15190', 'CIW80_16830', 'CIW80_10965', 'CIW80_12330', 'CIW80_12000', 'CIW80_00830', 'CIW80_03835', 'CIW80_01115', 'CIW80_06165', 'CIW80_06145', 'CIW80_25345', 'CIW80_22070', 'CIW80_08365', 'CIW80_11605', 'CIW80_09745', 'CIW80_20390', 'CIW80_15905', 'CIW80_22990', 'CIW80_08325', 'CIW80_14865', 'CIW80_01360', 'CIW80_05565', 'CIW80_18605', 'CIW80_05795', 'CIW80_08600', 'CIW80_05850', 'CIW80_24875', 'CIW80_09875', 'CIW80_01150', 'CIW80_18005', 'CIW80_12390', 'CIW80_16825', 'CIW80_00205', 'CIW80_17335', 'CIW80_19990', 'CIW80_21530', 'CIW80_12385', 'CIW80_00115', 'CIW80_14985', 'CIW80_12435', 'CIW80_00735', 'CIW80_17420', 'CIW80_20555', 'CIW80_12575', 'CIW80_22215', 'CIW80_11400', 'CIW80_06135', 'CIW80_18570', 'CIW80_23580', 'CIW80_07305', 'CIW80_07750', 'CIW80_07540', 'CIW80_25005', 'CIW80_23040', 'CIW80_20520', 'CIW80_17655', 'CIW80_04675', 'CIW80_22085', 'CIW80_14930', 'CIW80_12235', 'CIW80_19405', 'CIW80_06595', 'CIW80_17755', 'CIW80_14350', 'CIW80_25690', 'CIW80_00350', 'CIW80_20060', 'CIW80_15800', 'CIW80_05665', 'CIW80_21165', 'CIW80_14845', 'CIW80_17475', 'CIW80_06175', 'CIW80_09470', 'CIW80_06630', 'CIW80_08290', 'CIW80_09900', 'CIW80_24385', 'CIW80_20025', 'CIW80_16915', 'CIW80_22055', 'CIW80_16130', 'CIW80_15840', 'CIW80_05025', 'CIW80_17835', 'CIW80_25310', 'CIW80_14185', 'CIW80_18505', 'CIW80_15950', 'CIW80_23850', 'CIW80_16785', 'CIW80_13755', 'CIW80_03810', 'CIW80_03995', 'CIW80_13895', 'CIW80_13025', 'CIW80_01455', 'CIW80_14340', 'CIW80_02660', 'CIW80_13800', 'CIW80_00540', 'CIW80_07185', 'CIW80_24020', 'CIW80_11960', 'CIW80_12195', 'CIW80_09865', 'CIW80_09935', 'CIW80_01670', 'CIW80_22035', 'CIW80_05925', 'CIW80_15865', 'CIW80_10725', 'CIW80_04760', 'CIW80_18565', 'CIW80_11590', 'CIW80_14290', 'CIW80_21985', 'CIW80_08230', 'CIW80_05790', 'CIW80_24735', 'CIW80_21000', 'CIW80_25645', 'CIW80_07615', 'CIW80_00710', 'CIW80_22950', 'CIW80_09965', 'CIW80_13435', 'CIW80_14490', 'CIW80_07520', 'CIW80_10860', 'CIW80_00965', 'CIW80_11420', 'CIW80_16810', 'CIW80_00100', 'CIW80_01015', 'CIW80_15545', 'CIW80_06335', 'CIW80_20910', 'CIW80_00430', 'CIW80_04485', 'CIW80_11215', 'CIW80_04575', 'CIW80_20080', 'CIW80_20095', 'CIW80_01625', 'CIW80_12770', 'CIW80_24250', 'CIW80_25780', 'CIW80_10535', 'CIW80_21035', 'CIW80_03530', 'CIW80_03885', 'CIW80_12940', 'CIW80_12110', 'CIW80_25320', 'CIW80_22930', 'CIW80_15965', 'CIW80_01750', 'CIW80_12350', 'CIW80_02730', 'CIW80_23525', 'CIW80_04590', 'CIW80_06290', 'CIW80_19310', 'CIW80_02865', 'CIW80_15945', 'CIW80_24045', 'CIW80_18110', 'CIW80_03890', 'CIW80_06155', 'CIW80_21440', 'CIW80_06940', 'CIW80_08270', 'CIW80_12360', 'CIW80_25145', 'CIW80_21800', 'CIW80_04580', 'CIW80_03000', 'CIW80_15825', 'CIW80_05830', 'CIW80_18055', 'CIW80_04605', 'CIW80_01980', 'CIW80_04495', 'CIW80_06160', 'CIW80_20900', 'CIW80_06815', 'CIW80_16925', 'CIW80_15105', 'CIW80_10870', 'CIW80_15890', 'CIW80_18010', 'CIW80_24435', 'CIW80_08405', 'CIW80_07060', 'CIW80_22060', 'CIW80_02580', 'CIW80_00545', 'CIW80_15550', 'CIW80_14500', 'CIW80_08780', 'CIW80_00910', 'CIW80_14745', 'CIW80_15250', 'CIW80_08795', 'CIW80_11675', 'CIW80_01200', 'CIW80_15150', 'CIW80_04185', 'CIW80_12240', 'CIW80_18340', 'CIW80_11835', 'CIW80_04250', 'CIW80_11790', 'CIW80_06900', 'CIW80_00655', 'CIW80_23995', 'CIW80_04240', 'CIW80_07260', 'CIW80_04595', 'CIW80_21340', 'CIW80_25565', 'CIW80_16320', 'CIW80_08595', 'CIW80_13280', 'CIW80_23035', 'CIW80_15080', 'CIW80_14520', 'CIW80_22275', 'CIW80_22385', 'CIW80_24980', 'CIW80_14305', 'CIW80_14605', 'CIW80_09660', 'CIW80_15285', 'CIW80_10225', 'CIW80_20640', 'CIW80_00585', 'CIW80_17615', 'CIW80_17660', 'CIW80_16965', 'CIW80_18695', 'CIW80_00700', 'CIW80_04125', 'CIW80_01985', 'CIW80_24810', 'CIW80_25725', 'CIW80_21510', 'CIW80_09710', 'CIW80_20450', 'CIW80_08320', 'CIW80_04545', 'CIW80_02725', 'CIW80_25185', 'CIW80_20475', 'CIW80_06430', 'CIW80_01120', 'CIW80_24160', 'CIW80_06200', 'CIW80_00855', 'CIW80_21255', 'CIW80_25740', 'CIW80_12220', 'CIW80_07295', 'CIW80_08565', 'CIW80_05180', 'CIW80_06660', 'CIW80_00810', 'CIW80_16735', 'CIW80_10970', 'CIW80_20290', 'CIW80_06315', 'CIW80_00155', 'CIW80_23960', 'CIW80_02795', 'CIW80_15490', 'CIW80_15280', 'CIW80_19450', 'CIW80_12170', 'CIW80_13375', 'CIW80_23565', 'CIW80_17850', 'CIW80_21155', 'CIW80_09785', 'CIW80_19430', 'CIW80_12395', 'CIW80_07685', 'CIW80_24715', 'CIW80_04985', 'CIW80_00755', 'CIW80_12455', 'CIW80_25685', 'CIW80_12425', 'CIW80_25420', 'CIW80_20825', 'CIW80_04255', 'CIW80_06625', 'CIW80_23700', 'CIW80_24705', 'CIW80_14550', 'CIW80_07275', 'CIW80_20730', 'CIW80_09860', 'CIW80_17470', 'CIW80_12155', 'CIW80_04535', 'CIW80_11290', 'CIW80_06320', 'CIW80_22430', 'CIW80_20540', 'CIW80_21245', 'CIW80_02690', 'CIW80_20905', 'CIW80_04895', 'CIW80_19445', 'CIW80_10055', 'CIW80_22985', 'CIW80_04440', 'CIW80_12295', 'CIW80_13620', 'CIW80_11555', 'CIW80_12300', 'CIW80_15225', 'CIW80_12720', 'CIW80_11880', 'CIW80_00515', 'CIW80_24825', 'CIW80_07610', 'CIW80_12470', 'CIW80_13605', 'CIW80_16910', 'CIW80_18255', 'CIW80_09820', 'CIW80_17345', 'CIW80_08625', 'CIW80_13690', 'CIW80_12310', 'CIW80_02850', 'CIW80_00185', 'CIW80_13185', 'CIW80_15835', 'CIW80_12460', 'CIW80_19890', 'CIW80_00140', 'CIW80_15985', 'CIW80_18315', 'CIW80_20745', 'CIW80_17535', 'CIW80_04990', 'CIW80_22090', 'CIW80_20535', 'CIW80_00960', 'CIW80_01620', 'CIW80_11415', 'CIW80_01720', 'CIW80_21210', 'CIW80_21500', 'CIW80_04560', 'CIW80_00800', 'CIW80_09845', 'CIW80_05810', 'CIW80_11320', 'CIW80_03820', 'CIW80_21490', 'CIW80_24710', 'CIW80_10705', 'CIW80_23845', 'CIW80_05380', 'CIW80_02035', 'CIW80_20130', 'CIW80_17315', 'CIW80_07340', 'CIW80_00680', 'CIW80_10830', 'CIW80_01730', 'CIW80_17985', 'CIW80_18240', 'CIW80_01390', 'CIW80_14280', 'CIW80_09885', 'CIW80_13275', 'CIW80_00770', 'CIW80_24750', 'CIW80_06770', 'CIW80_00160', 'CIW80_00720', 'CIW80_14595', 'CIW80_00020', 'CIW80_16310', 'CIW80_14320', 'CIW80_12920', 'CIW80_02010', 'CIW80_17465', 'CIW80_12080', 'CIW80_22775', 'CIW80_09390', 'CIW80_11310', 'CIW80_06425', 'CIW80_10605', 'CIW80_00750', 'CIW80_04900', 'CIW80_25665', 'CIW80_07620', 'CIW80_05175', 'CIW80_11830', 'CIW80_00670', 'CIW80_15255', 'CIW80_21575', 'CIW80_15970', 'CIW80_05655', 'CIW80_01380'}\n"
     ]
    },
    {
     "name": "stdout",
     "output_type": "stream",
     "text": [
      "CP001383 {'CIW80_03090', 'CIW80_00445', 'CIW80_22445', 'CIW80_01660', 'CIW80_06330', 'CIW80_08295', 'CIW80_15510', 'CIW80_15855', 'CIW80_05090', 'CIW80_04745', 'CIW80_11570', 'CIW80_07510', 'CIW80_02095', 'CIW80_20975', 'CIW80_10280', 'CIW80_09630', 'CIW80_05030', 'CIW80_06735', 'CIW80_09805', 'CIW80_04425', 'CIW80_01880', 'CIW80_04490', 'CIW80_25340', 'CIW80_01570', 'CIW80_12380', 'CIW80_07715', 'CIW80_07180', 'CIW80_09010', 'CIW80_05650', 'CIW80_13175', 'CIW80_16405', 'CIW80_23165', 'CIW80_12135', 'CIW80_04405', 'CIW80_14770', 'CIW80_15680', 'CIW80_13695', 'CIW80_22470', 'CIW80_23170', 'CIW80_02595', 'CIW80_15595', 'CIW80_08525', 'CIW80_22170', 'CIW80_10730', 'CIW80_16470', 'CIW80_02835', 'CIW80_03375', 'CIW80_00180', 'CIW80_12345', 'CIW80_25220', 'CIW80_24670', 'CIW80_19975', 'CIW80_06545', 'CIW80_15520', 'CIW80_24975', 'CIW80_18945', 'CIW80_02830', 'CIW80_16500', 'CIW80_12495', 'CIW80_18910', 'CIW80_25400', 'CIW80_12320', 'CIW80_14555', 'CIW80_09250', 'CIW80_00330', 'CIW80_25625', 'CIW80_06025', 'CIW80_02875', 'CIW80_00550', 'CIW80_00380', 'CIW80_16060', 'CIW80_07935', 'CIW80_16845', 'CIW80_20075', 'CIW80_04210', 'CIW80_13030', 'CIW80_10710', 'CIW80_12580', 'CIW80_08165', 'CIW80_04995', 'CIW80_15195', 'CIW80_25560', 'CIW80_05115', 'CIW80_15590', 'CIW80_07085', 'CIW80_04475', 'CIW80_08180', 'CIW80_20505', 'CIW80_10530', 'CIW80_10590', 'CIW80_10010', 'CIW80_21745', 'CIW80_21785', 'CIW80_01355', 'CIW80_15895', 'CIW80_21580', 'CIW80_13215', 'CIW80_24665', 'CIW80_05835', 'CIW80_03775', 'CIW80_23820', 'CIW80_15310', 'CIW80_25395', 'CIW80_06215', 'CIW80_17415', 'CIW80_00055', 'CIW80_01525', 'CIW80_13770', 'CIW80_23815', 'CIW80_07360', 'CIW80_12545', 'CIW80_01145', 'CIW80_08155', 'CIW80_10105', 'CIW80_25650', 'CIW80_00930', 'CIW80_05305', 'CIW80_13320', 'CIW80_12330', 'CIW80_12230', 'CIW80_08380', 'CIW80_00830', 'CIW80_25640', 'CIW80_01115', 'CIW80_06145', 'CIW80_17220', 'CIW80_17895', 'CIW80_09255', 'CIW80_08365', 'CIW80_25535', 'CIW80_09745', 'CIW80_21060', 'CIW80_23980', 'CIW80_22990', 'CIW80_21350', 'CIW80_11270', 'CIW80_05655', 'CIW80_18605', 'CIW80_04320', 'CIW80_10135', 'CIW80_07375', 'CIW80_05850', 'CIW80_09875', 'CIW80_13445', 'CIW80_01150', 'CIW80_18005', 'CIW80_12390', 'CIW80_13240', 'CIW80_25515', 'CIW80_17710', 'CIW80_17230', 'CIW80_19990', 'CIW80_14985', 'CIW80_13270', 'CIW80_25540', 'CIW80_20555', 'CIW80_16110', 'CIW80_18245', 'CIW80_06135', 'CIW80_18570', 'CIW80_07305', 'CIW80_07750', 'CIW80_02720', 'CIW80_15515', 'CIW80_18080', 'CIW80_04675', 'CIW80_22085', 'CIW80_01635', 'CIW80_14930', 'CIW80_21670', 'CIW80_25265', 'CIW80_12235', 'CIW80_14485', 'CIW80_00345', 'CIW80_17755', 'CIW80_01075', 'CIW80_18335', 'CIW80_04085', 'CIW80_06550', 'CIW80_00350', 'CIW80_20060', 'CIW80_05665', 'CIW80_21165', 'CIW80_14845', 'CIW80_06175', 'CIW80_09770', 'CIW80_06630', 'CIW80_08150', 'CIW80_08290', 'CIW80_13425', 'CIW80_08755', 'CIW80_09900', 'CIW80_10510', 'CIW80_22055', 'CIW80_16130', 'CIW80_01855', 'CIW80_05025', 'CIW80_25790', 'CIW80_17835', 'CIW80_25310', 'CIW80_09840', 'CIW80_23850', 'CIW80_24770', 'CIW80_04585', 'CIW80_13755', 'CIW80_08420', 'CIW80_20775', 'CIW80_21025', 'CIW80_03810', 'CIW80_08045', 'CIW80_13895', 'CIW80_01455', 'CIW80_14340', 'CIW80_01605', 'CIW80_00540', 'CIW80_24020', 'CIW80_12195', 'CIW80_09870', 'CIW80_01670', 'CIW80_16835', 'CIW80_03050', 'CIW80_07695', 'CIW80_10725', 'CIW80_22200', 'CIW80_04760', 'CIW80_11590', 'CIW80_23760', 'CIW80_24735', 'CIW80_22545', 'CIW80_22950', 'CIW80_18580', 'CIW80_08710', 'CIW80_13910', 'CIW80_14490', 'CIW80_21480', 'CIW80_22685', 'CIW80_10860', 'CIW80_00965', 'CIW80_01015', 'CIW80_02710', 'CIW80_15545', 'CIW80_06335', 'CIW80_02705', 'CIW80_19140', 'CIW80_00430', 'CIW80_04485', 'CIW80_11215', 'CIW80_04575', 'CIW80_02265', 'CIW80_01625', 'CIW80_12770', 'CIW80_07475', 'CIW80_04930', 'CIW80_24250', 'CIW80_23070', 'CIW80_10535', 'CIW80_21970', 'CIW80_02915', 'CIW80_03885', 'CIW80_12110', 'CIW80_25320', 'CIW80_18100', 'CIW80_22930', 'CIW80_01885', 'CIW80_17170', 'CIW80_02730', 'CIW80_15050', 'CIW80_04770', 'CIW80_07065', 'CIW80_04590', 'CIW80_06290', 'CIW80_02930', 'CIW80_02865', 'CIW80_18110', 'CIW80_03890', 'CIW80_04810', 'CIW80_06155', 'CIW80_21440', 'CIW80_17200', 'CIW80_08270', 'CIW80_21800', 'CIW80_04580', 'CIW80_03000', 'CIW80_15640', 'CIW80_03940', 'CIW80_18055', 'CIW80_04605', 'CIW80_01980', 'CIW80_04495', 'CIW80_16925', 'CIW80_15105', 'CIW80_24205', 'CIW80_22060', 'CIW80_20270', 'CIW80_15550', 'CIW80_04160', 'CIW80_23900', 'CIW80_01775', 'CIW80_11630', 'CIW80_16865', 'CIW80_15250', 'CIW80_21485', 'CIW80_15150', 'CIW80_24845', 'CIW80_15810', 'CIW80_18340', 'CIW80_16540', 'CIW80_11790', 'CIW80_06900', 'CIW80_23995', 'CIW80_17150', 'CIW80_04595', 'CIW80_21340', 'CIW80_08595', 'CIW80_15080', 'CIW80_09270', 'CIW80_21925', 'CIW80_22385', 'CIW80_24980', 'CIW80_14305', 'CIW80_14605', 'CIW80_00585', 'CIW80_17615', 'CIW80_12565', 'CIW80_04125', 'CIW80_01985', 'CIW80_15160', 'CIW80_21510', 'CIW80_03365', 'CIW80_20450', 'CIW80_13265', 'CIW80_08320', 'CIW80_12555', 'CIW80_08965', 'CIW80_20475', 'CIW80_15600', 'CIW80_01120', 'CIW80_24160', 'CIW80_06200', 'CIW80_03075', 'CIW80_22580', 'CIW80_00855', 'CIW80_15265', 'CIW80_06695', 'CIW80_12220', 'CIW80_08565', 'CIW80_07370', 'CIW80_07280', 'CIW80_06660', 'CIW80_12715', 'CIW80_00810', 'CIW80_20290', 'CIW80_06315', 'CIW80_01870', 'CIW80_00155', 'CIW80_21565', 'CIW80_13375', 'CIW80_12125', 'CIW80_15240', 'CIW80_17850', 'CIW80_21155', 'CIW80_25670', 'CIW80_23805', 'CIW80_12395', 'CIW80_24715', 'CIW80_21145', 'CIW80_04570', 'CIW80_01480', 'CIW80_12455', 'CIW80_25685', 'CIW80_12425', 'CIW80_02610', 'CIW80_20825', 'CIW80_04255', 'CIW80_06625', 'CIW80_23700', 'CIW80_14550', 'CIW80_23875', 'CIW80_08945', 'CIW80_06440', 'CIW80_02895', 'CIW80_09860', 'CIW80_08005', 'CIW80_15530', 'CIW80_04535', 'CIW80_01240', 'CIW80_11290', 'CIW80_02995', 'CIW80_22430', 'CIW80_09780', 'CIW80_02920', 'CIW80_20540', 'CIW80_15935', 'CIW80_02120', 'CIW80_22890', 'CIW80_02685', 'CIW80_20905', 'CIW80_12295', 'CIW80_13620', 'CIW80_02135', 'CIW80_11555', 'CIW80_22020', 'CIW80_12720', 'CIW80_02160', 'CIW80_14615', 'CIW80_15920', 'CIW80_11880', 'CIW80_24825', 'CIW80_15020', 'CIW80_14760', 'CIW80_18255', 'CIW80_09820', 'CIW80_16560', 'CIW80_08625', 'CIW80_08050', 'CIW80_19120', 'CIW80_13690', 'CIW80_12310', 'CIW80_13700', 'CIW80_17700', 'CIW80_00185', 'CIW80_15835', 'CIW80_20420', 'CIW80_19090', 'CIW80_15985', 'CIW80_18315', 'CIW80_20745', 'CIW80_17535', 'CIW80_20845', 'CIW80_19980', 'CIW80_06190', 'CIW80_25605', 'CIW80_02260', 'CIW80_22090', 'CIW80_01620', 'CIW80_01720', 'CIW80_17245', 'CIW80_24025', 'CIW80_21500', 'CIW80_20700', 'CIW80_04560', 'CIW80_06955', 'CIW80_00800', 'CIW80_14765', 'CIW80_09845', 'CIW80_11320', 'CIW80_15630', 'CIW80_14650', 'CIW80_21490', 'CIW80_24710', 'CIW80_10705', 'CIW80_04525', 'CIW80_14840', 'CIW80_21070', 'CIW80_21120', 'CIW80_24120', 'CIW80_22955', 'CIW80_20045', 'CIW80_05380', 'CIW80_02035', 'CIW80_04175', 'CIW80_16515', 'CIW80_00805', 'CIW80_00795', 'CIW80_13325', 'CIW80_00680', 'CIW80_02090', 'CIW80_09855', 'CIW80_25675', 'CIW80_01730', 'CIW80_04315', 'CIW80_23800', 'CIW80_01390', 'CIW80_23780', 'CIW80_01655', 'CIW80_20945', 'CIW80_13380', 'CIW80_21105', 'CIW80_21545', 'CIW80_04820', 'CIW80_24750', 'CIW80_03630', 'CIW80_09015', 'CIW80_14450', 'CIW80_03340', 'CIW80_06770', 'CIW80_02980', 'CIW80_07010', 'CIW80_02880', 'CIW80_09260', 'CIW80_00160', 'CIW80_00720', 'CIW80_00020', 'CIW80_10620', 'CIW80_14320', 'CIW80_12920', 'CIW80_00410', 'CIW80_12080', 'CIW80_22775', 'CIW80_09390', 'CIW80_21020', 'CIW80_21830', 'CIW80_10605', 'CIW80_00750', 'CIW80_04900', 'CIW80_05100', 'CIW80_06520', 'CIW80_21475', 'CIW80_00670', 'CIW80_17585', 'CIW80_15255', 'CIW80_16260', 'CIW80_02825'}\n",
      "AE014073 {'CIW80_03090', 'CIW80_00445', 'CIW80_22445', 'CIW80_01660', 'CIW80_21005', 'CIW80_12600', 'CIW80_06330', 'CIW80_08295', 'CIW80_15510', 'CIW80_15855', 'CIW80_05090', 'CIW80_04745', 'CIW80_11570', 'CIW80_07510', 'CIW80_02095', 'CIW80_16065', 'CIW80_20975', 'CIW80_10280', 'CIW80_16960', 'CIW80_05030', 'CIW80_06735', 'CIW80_09805', 'CIW80_01880', 'CIW80_04490', 'CIW80_25340', 'CIW80_01570', 'CIW80_12380', 'CIW80_07180', 'CIW80_09010', 'CIW80_05650', 'CIW80_13175', 'CIW80_23165', 'CIW80_16405', 'CIW80_03525', 'CIW80_04405', 'CIW80_23695', 'CIW80_12135', 'CIW80_14770', 'CIW80_15680', 'CIW80_13695', 'CIW80_22470', 'CIW80_06850', 'CIW80_23170', 'CIW80_02595', 'CIW80_15595', 'CIW80_22170', 'CIW80_10730', 'CIW80_16470', 'CIW80_02835', 'CIW80_15525', 'CIW80_03375', 'CIW80_12345', 'CIW80_25220', 'CIW80_25510', 'CIW80_09060', 'CIW80_24670', 'CIW80_19975', 'CIW80_04685', 'CIW80_19095', 'CIW80_06545', 'CIW80_22910', 'CIW80_25020', 'CIW80_24975', 'CIW80_08790', 'CIW80_18945', 'CIW80_12375', 'CIW80_02830', 'CIW80_11525', 'CIW80_16500', 'CIW80_18910', 'CIW80_25400', 'CIW80_12320', 'CIW80_04825', 'CIW80_21645', 'CIW80_18415', 'CIW80_09250', 'CIW80_00330', 'CIW80_25625', 'CIW80_05245', 'CIW80_06025', 'CIW80_20350', 'CIW80_00550', 'CIW80_16060', 'CIW80_07935', 'CIW80_16845', 'CIW80_20075', 'CIW80_04210', 'CIW80_13030', 'CIW80_10710', 'CIW80_02815', 'CIW80_08165', 'CIW80_04995', 'CIW80_15195', 'CIW80_22920', 'CIW80_25560', 'CIW80_13610', 'CIW80_03875', 'CIW80_05115', 'CIW80_15590', 'CIW80_07085', 'CIW80_04135', 'CIW80_04475', 'CIW80_08180', 'CIW80_12520', 'CIW80_20505', 'CIW80_10530', 'CIW80_23745', 'CIW80_10590', 'CIW80_10010', 'CIW80_21745', 'CIW80_21785', 'CIW80_25390', 'CIW80_01355', 'CIW80_15895', 'CIW80_21580', 'CIW80_13215', 'CIW80_24665', 'CIW80_15310', 'CIW80_25395', 'CIW80_06215', 'CIW80_17415', 'CIW80_00055', 'CIW80_04830', 'CIW80_01525', 'CIW80_25470', 'CIW80_23815', 'CIW80_07360', 'CIW80_12545', 'CIW80_01145', 'CIW80_08155', 'CIW80_10105', 'CIW80_25650', 'CIW80_00930', 'CIW80_05305', 'CIW80_13320', 'CIW80_12330', 'CIW80_20630', 'CIW80_04155', 'CIW80_12230', 'CIW80_00830', 'CIW80_01115', 'CIW80_06145', 'CIW80_17220', 'CIW80_17895', 'CIW80_09255', 'CIW80_08365', 'CIW80_25535', 'CIW80_09745', 'CIW80_21060', 'CIW80_12700', 'CIW80_23980', 'CIW80_17275', 'CIW80_21350', 'CIW80_05655', 'CIW80_25335', 'CIW80_18605', 'CIW80_04320', 'CIW80_10135', 'CIW80_07375', 'CIW80_05850', 'CIW80_09875', 'CIW80_04365', 'CIW80_01150', 'CIW80_18005', 'CIW80_12390', 'CIW80_25515', 'CIW80_20860', 'CIW80_17710', 'CIW80_19990', 'CIW80_12385', 'CIW80_14985', 'CIW80_12435', 'CIW80_13270', 'CIW80_00735', 'CIW80_20555', 'CIW80_16110', 'CIW80_20830', 'CIW80_19695', 'CIW80_18715', 'CIW80_24700', 'CIW80_18245', 'CIW80_04375', 'CIW80_18570', 'CIW80_20210', 'CIW80_07305', 'CIW80_07750', 'CIW80_02720', 'CIW80_10850', 'CIW80_08395', 'CIW80_04675', 'CIW80_22085', 'CIW80_04075', 'CIW80_14930', 'CIW80_12235', 'CIW80_06595', 'CIW80_17755', 'CIW80_01075', 'CIW80_18335', 'CIW80_04085', 'CIW80_24740', 'CIW80_06550', 'CIW80_20060', 'CIW80_05665', 'CIW80_21165', 'CIW80_14845', 'CIW80_06175', 'CIW80_06630', 'CIW80_08150', 'CIW80_08290', 'CIW80_17485', 'CIW80_00435', 'CIW80_13425', 'CIW80_08755', 'CIW80_09900', 'CIW80_10510', 'CIW80_25330', 'CIW80_22055', 'CIW80_16130', 'CIW80_01855', 'CIW80_05025', 'CIW80_25790', 'CIW80_04420', 'CIW80_17835', 'CIW80_25310', 'CIW80_09840', 'CIW80_23850', 'CIW80_24770', 'CIW80_04585', 'CIW80_13755', 'CIW80_03810', 'CIW80_21025', 'CIW80_04370', 'CIW80_08420', 'CIW80_14750', 'CIW80_08045', 'CIW80_02075', 'CIW80_13895', 'CIW80_01455', 'CIW80_14340', 'CIW80_01605', 'CIW80_03030', 'CIW80_00540', 'CIW80_24020', 'CIW80_01205', 'CIW80_12195', 'CIW80_17630', 'CIW80_09870', 'CIW80_01670', 'CIW80_16835', 'CIW80_22035', 'CIW80_03050', 'CIW80_07695', 'CIW80_10725', 'CIW80_22200', 'CIW80_04760', 'CIW80_11590', 'CIW80_13390', 'CIW80_14290', 'CIW80_24745', 'CIW80_23760', 'CIW80_24735', 'CIW80_25645', 'CIW80_07045', 'CIW80_04325', 'CIW80_22545', 'CIW80_22950', 'CIW80_18580', 'CIW80_08710', 'CIW80_05935', 'CIW80_13910', 'CIW80_14490', 'CIW80_21480', 'CIW80_22685', 'CIW80_10860', 'CIW80_00965', 'CIW80_11275', 'CIW80_01015', 'CIW80_02710', 'CIW80_15545', 'CIW80_06335', 'CIW80_02705', 'CIW80_00430', 'CIW80_04485', 'CIW80_11215', 'CIW80_04575', 'CIW80_02265', 'CIW80_01625', 'CIW80_12770', 'CIW80_07475', 'CIW80_24250', 'CIW80_23070', 'CIW80_10535', 'CIW80_02915', 'CIW80_03885', 'CIW80_12110', 'CIW80_25320', 'CIW80_22930', 'CIW80_01885', 'CIW80_17170', 'CIW80_02730', 'CIW80_04590', 'CIW80_06290', 'CIW80_02930', 'CIW80_12085', 'CIW80_02865', 'CIW80_18110', 'CIW80_03890', 'CIW80_04810', 'CIW80_06155', 'CIW80_21440', 'CIW80_17200', 'CIW80_08270', 'CIW80_21800', 'CIW80_04580', 'CIW80_16635', 'CIW80_03000', 'CIW80_01690', 'CIW80_15640', 'CIW80_03940', 'CIW80_18055', 'CIW80_04605', 'CIW80_01980', 'CIW80_04495', 'CIW80_16925', 'CIW80_15105', 'CIW80_17435', 'CIW80_04335', 'CIW80_24435', 'CIW80_05745', 'CIW80_22060', 'CIW80_20270', 'CIW80_15550', 'CIW80_04160', 'CIW80_01775', 'CIW80_11630', 'CIW80_16865', 'CIW80_15250', 'CIW80_21485', 'CIW80_15150', 'CIW80_07405', 'CIW80_04070', 'CIW80_17260', 'CIW80_24845', 'CIW80_15810', 'CIW80_18340', 'CIW80_09990', 'CIW80_11835', 'CIW80_16540', 'CIW80_11790', 'CIW80_06900', 'CIW80_00655', 'CIW80_05300', 'CIW80_23995', 'CIW80_17150', 'CIW80_00475', 'CIW80_04595', 'CIW80_21340', 'CIW80_08595', 'CIW80_15080', 'CIW80_09270', 'CIW80_22275', 'CIW80_22385', 'CIW80_24980', 'CIW80_14305', 'CIW80_23075', 'CIW80_14605', 'CIW80_15285', 'CIW80_08225', 'CIW80_20640', 'CIW80_00585', 'CIW80_06130', 'CIW80_17615', 'CIW80_12565', 'CIW80_04125', 'CIW80_01985', 'CIW80_09830', 'CIW80_15160', 'CIW80_25725', 'CIW80_21510', 'CIW80_03365', 'CIW80_20450', 'CIW80_08320', 'CIW80_02725', 'CIW80_25185', 'CIW80_08965', 'CIW80_20475', 'CIW80_12505', 'CIW80_15600', 'CIW80_01120', 'CIW80_24160', 'CIW80_06200', 'CIW80_03075', 'CIW80_22580', 'CIW80_00855', 'CIW80_06695', 'CIW80_25740', 'CIW80_25735', 'CIW80_12220', 'CIW80_08760', 'CIW80_02235', 'CIW80_08565', 'CIW80_07370', 'CIW80_07280', 'CIW80_06660', 'CIW80_12715', 'CIW80_00810', 'CIW80_14755', 'CIW80_20290', 'CIW80_02050', 'CIW80_06315', 'CIW80_00155', 'CIW80_21565', 'CIW80_16410', 'CIW80_13375', 'CIW80_12125', 'CIW80_15240', 'CIW80_17850', 'CIW80_21155', 'CIW80_01550', 'CIW80_25670', 'CIW80_23805', 'CIW80_20810', 'CIW80_12395', 'CIW80_24715', 'CIW80_03815', 'CIW80_04985', 'CIW80_01480', 'CIW80_00755', 'CIW80_12455', 'CIW80_25685', 'CIW80_12425', 'CIW80_02610', 'CIW80_20825', 'CIW80_14540', 'CIW80_06625', 'CIW80_23700', 'CIW80_24705', 'CIW80_14550', 'CIW80_23875', 'CIW80_08945', 'CIW80_06440', 'CIW80_02895', 'CIW80_09860', 'CIW80_01560', 'CIW80_20930', 'CIW80_17365', 'CIW80_15530', 'CIW80_04535', 'CIW80_17270', 'CIW80_11290', 'CIW80_06320', 'CIW80_02995', 'CIW80_22430', 'CIW80_09780', 'CIW80_02920', 'CIW80_20540', 'CIW80_15935', 'CIW80_02120', 'CIW80_22890', 'CIW80_02685', 'CIW80_20905', 'CIW80_12295', 'CIW80_13620', 'CIW80_11555', 'CIW80_22020', 'CIW80_01230', 'CIW80_12720', 'CIW80_02160', 'CIW80_14615', 'CIW80_15920', 'CIW80_02110', 'CIW80_11880', 'CIW80_06250', 'CIW80_24825', 'CIW80_15020', 'CIW80_14760', 'CIW80_18255', 'CIW80_09820', 'CIW80_08625', 'CIW80_04280', 'CIW80_19120', 'CIW80_13690', 'CIW80_12310', 'CIW80_00185', 'CIW80_15835', 'CIW80_20420', 'CIW80_19090', 'CIW80_15985', 'CIW80_18315', 'CIW80_20745', 'CIW80_17535', 'CIW80_20845', 'CIW80_01485', 'CIW80_02885', 'CIW80_19980', 'CIW80_06190', 'CIW80_25605', 'CIW80_02260', 'CIW80_22090', 'CIW80_00960', 'CIW80_01620', 'CIW80_01720', 'CIW80_17245', 'CIW80_24025', 'CIW80_21500', 'CIW80_04560', 'CIW80_06955', 'CIW80_00800', 'CIW80_22190', 'CIW80_14765', 'CIW80_09845', 'CIW80_05810', 'CIW80_11320', 'CIW80_01835', 'CIW80_03820', 'CIW80_14110', 'CIW80_00325', 'CIW80_21490', 'CIW80_24710', 'CIW80_10705', 'CIW80_23845', 'CIW80_14840', 'CIW80_21070', 'CIW80_21120', 'CIW80_24120', 'CIW80_04140', 'CIW80_04480', 'CIW80_22955', 'CIW80_00560', 'CIW80_05380', 'CIW80_24555', 'CIW80_02035', 'CIW80_16515', 'CIW80_00795', 'CIW80_13325', 'CIW80_00680', 'CIW80_02090', 'CIW80_09855', 'CIW80_25675', 'CIW80_01730', 'CIW80_06055', 'CIW80_04315', 'CIW80_23800', 'CIW80_01390', 'CIW80_23780', 'CIW80_12225', 'CIW80_01655', 'CIW80_20945', 'CIW80_21105', 'CIW80_21545', 'CIW80_11470', 'CIW80_04820', 'CIW80_24750', 'CIW80_03630', 'CIW80_09015', 'CIW80_10815', 'CIW80_20300', 'CIW80_14450', 'CIW80_03340', 'CIW80_06770', 'CIW80_02980', 'CIW80_07010', 'CIW80_02880', 'CIW80_09260', 'CIW80_00160', 'CIW80_00720', 'CIW80_00020', 'CIW80_10620', 'CIW80_14320', 'CIW80_12920', 'CIW80_02010', 'CIW80_17465', 'CIW80_05785', 'CIW80_24660', 'CIW80_20135', 'CIW80_00410', 'CIW80_12080', 'CIW80_22775', 'CIW80_09390', 'CIW80_21020', 'CIW80_21830', 'CIW80_06425', 'CIW80_10605', 'CIW80_00750', 'CIW80_04900', 'CIW80_05100', 'CIW80_00455', 'CIW80_25665', 'CIW80_21475', 'CIW80_00670', 'CIW80_17585', 'CIW80_15255', 'CIW80_21575', 'CIW80_16260', 'CIW80_02825'}\n",
      "AE005674 {'CIW80_03090', 'CIW80_22445', 'CIW80_06330', 'CIW80_12600', 'CIW80_08295', 'CIW80_15510', 'CIW80_15855', 'CIW80_04745', 'CIW80_11570', 'CIW80_10280', 'CIW80_05030', 'CIW80_06735', 'CIW80_09805', 'CIW80_04425', 'CIW80_01880', 'CIW80_04490', 'CIW80_25340', 'CIW80_01570', 'CIW80_12380', 'CIW80_09010', 'CIW80_05650', 'CIW80_13175', 'CIW80_16405', 'CIW80_23165', 'CIW80_12135', 'CIW80_23695', 'CIW80_13695', 'CIW80_22470', 'CIW80_23170', 'CIW80_17790', 'CIW80_02595', 'CIW80_15595', 'CIW80_22170', 'CIW80_08460', 'CIW80_10730', 'CIW80_16470', 'CIW80_02835', 'CIW80_03375', 'CIW80_12345', 'CIW80_25220', 'CIW80_24670', 'CIW80_19975', 'CIW80_04685', 'CIW80_22910', 'CIW80_25020', 'CIW80_24975', 'CIW80_18945', 'CIW80_12335', 'CIW80_02830', 'CIW80_20670', 'CIW80_12495', 'CIW80_18910', 'CIW80_17670', 'CIW80_25400', 'CIW80_12320', 'CIW80_04825', 'CIW80_21645', 'CIW80_18415', 'CIW80_25625', 'CIW80_06025', 'CIW80_00550', 'CIW80_16845', 'CIW80_20075', 'CIW80_17750', 'CIW80_04210', 'CIW80_13030', 'CIW80_10710', 'CIW80_08165', 'CIW80_15195', 'CIW80_05235', 'CIW80_20505', 'CIW80_10530', 'CIW80_10590', 'CIW80_10010', 'CIW80_21745', 'CIW80_21785', 'CIW80_01355', 'CIW80_15895', 'CIW80_21580', 'CIW80_13215', 'CIW80_24665', 'CIW80_15310', 'CIW80_17415', 'CIW80_00055', 'CIW80_04830', 'CIW80_23815', 'CIW80_10335', 'CIW80_01145', 'CIW80_08155', 'CIW80_25650', 'CIW80_25135', 'CIW80_17995', 'CIW80_05305', 'CIW80_13320', 'CIW80_00830', 'CIW80_01115', 'CIW80_06145', 'CIW80_17220', 'CIW80_08365', 'CIW80_09745', 'CIW80_21060', 'CIW80_12700', 'CIW80_23980', 'CIW80_17275', 'CIW80_18605', 'CIW80_10135', 'CIW80_07375', 'CIW80_09875', 'CIW80_04365', 'CIW80_01150', 'CIW80_18005', 'CIW80_12390', 'CIW80_20860', 'CIW80_19990', 'CIW80_14985', 'CIW80_12435', 'CIW80_13270', 'CIW80_22750', 'CIW80_20555', 'CIW80_19695', 'CIW80_13955', 'CIW80_24700', 'CIW80_18570', 'CIW80_07305', 'CIW80_16455', 'CIW80_07750', 'CIW80_02720', 'CIW80_04675', 'CIW80_22085', 'CIW80_14930', 'CIW80_12235', 'CIW80_06595', 'CIW80_17755', 'CIW80_24740', 'CIW80_20060', 'CIW80_05665', 'CIW80_21165', 'CIW80_14845', 'CIW80_06175', 'CIW80_00465', 'CIW80_06630', 'CIW80_08150', 'CIW80_08290', 'CIW80_05765', 'CIW80_08755', 'CIW80_22055', 'CIW80_16130', 'CIW80_01855', 'CIW80_05025', 'CIW80_04420', 'CIW80_17835', 'CIW80_25310', 'CIW80_23850', 'CIW80_24770', 'CIW80_13755', 'CIW80_03810', 'CIW80_21025', 'CIW80_08420', 'CIW80_04350', 'CIW80_08045', 'CIW80_13895', 'CIW80_01455', 'CIW80_14340', 'CIW80_00540', 'CIW80_09870', 'CIW80_16835', 'CIW80_03050', 'CIW80_07695', 'CIW80_10725', 'CIW80_04760', 'CIW80_11590', 'CIW80_13390', 'CIW80_14290', 'CIW80_24745', 'CIW80_24735', 'CIW80_25645', 'CIW80_07045', 'CIW80_08710', 'CIW80_04290', 'CIW80_05935', 'CIW80_14490', 'CIW80_21480', 'CIW80_00965', 'CIW80_01015', 'CIW80_02710', 'CIW80_15545', 'CIW80_06335', 'CIW80_20910', 'CIW80_00430', 'CIW80_04485', 'CIW80_11215', 'CIW80_04575', 'CIW80_02265', 'CIW80_09550', 'CIW80_01625', 'CIW80_12770', 'CIW80_07475', 'CIW80_24250', 'CIW80_23070', 'CIW80_10535', 'CIW80_03240', 'CIW80_03885', 'CIW80_12110', 'CIW80_25320', 'CIW80_01885', 'CIW80_17170', 'CIW80_02730', 'CIW80_21075', 'CIW80_06290', 'CIW80_02865', 'CIW80_18110', 'CIW80_03890', 'CIW80_04810', 'CIW80_06155', 'CIW80_21440', 'CIW80_17200', 'CIW80_08270', 'CIW80_21800', 'CIW80_04580', 'CIW80_03000', 'CIW80_15640', 'CIW80_18055', 'CIW80_04605', 'CIW80_01980', 'CIW80_04495', 'CIW80_06815', 'CIW80_16925', 'CIW80_15105', 'CIW80_17435', 'CIW80_10660', 'CIW80_24435', 'CIW80_08405', 'CIW80_22060', 'CIW80_15550', 'CIW80_16865', 'CIW80_15250', 'CIW80_17260', 'CIW80_15810', 'CIW80_18340', 'CIW80_11790', 'CIW80_06900', 'CIW80_00655', 'CIW80_05300', 'CIW80_17150', 'CIW80_04595', 'CIW80_21340', 'CIW80_16330', 'CIW80_16320', 'CIW80_08595', 'CIW80_15080', 'CIW80_09270', 'CIW80_22275', 'CIW80_22385', 'CIW80_24980', 'CIW80_14305', 'CIW80_14605', 'CIW80_15285', 'CIW80_08225', 'CIW80_00585', 'CIW80_17615', 'CIW80_04125', 'CIW80_01985', 'CIW80_21510', 'CIW80_03365', 'CIW80_20450', 'CIW80_08320', 'CIW80_02725', 'CIW80_25185', 'CIW80_08965', 'CIW80_20475', 'CIW80_12505', 'CIW80_23785', 'CIW80_15600', 'CIW80_01120', 'CIW80_24160', 'CIW80_06200', 'CIW80_21495', 'CIW80_08465', 'CIW80_23910', 'CIW80_00855', 'CIW80_12220', 'CIW80_05645', 'CIW80_06980', 'CIW80_05990', 'CIW80_08565', 'CIW80_07280', 'CIW80_06660', 'CIW80_00810', 'CIW80_20290', 'CIW80_00155', 'CIW80_13375', 'CIW80_12125', 'CIW80_15240', 'CIW80_17850', 'CIW80_21155', 'CIW80_23805', 'CIW80_12395', 'CIW80_24715', 'CIW80_03815', 'CIW80_04985', 'CIW80_01480', 'CIW80_12455', 'CIW80_25685', 'CIW80_12425', 'CIW80_06625', 'CIW80_23700', 'CIW80_24705', 'CIW80_14550', 'CIW80_23875', 'CIW80_08945', 'CIW80_06440', 'CIW80_02895', 'CIW80_09860', 'CIW80_20930', 'CIW80_15530', 'CIW80_07930', 'CIW80_11290', 'CIW80_06320', 'CIW80_09780', 'CIW80_22430', 'CIW80_02920', 'CIW80_20540', 'CIW80_15935', 'CIW80_22890', 'CIW80_02685', 'CIW80_20905', 'CIW80_22985', 'CIW80_12295', 'CIW80_11555', 'CIW80_22020', 'CIW80_12720', 'CIW80_02160', 'CIW80_15920', 'CIW80_11880', 'CIW80_24825', 'CIW80_15020', 'CIW80_18255', 'CIW80_09820', 'CIW80_08625', 'CIW80_04280', 'CIW80_19120', 'CIW80_12310', 'CIW80_00185', 'CIW80_15835', 'CIW80_19090', 'CIW80_15985', 'CIW80_18315', 'CIW80_20745', 'CIW80_01485', 'CIW80_20845', 'CIW80_02885', 'CIW80_19980', 'CIW80_14935', 'CIW80_02260', 'CIW80_22090', 'CIW80_00960', 'CIW80_01720', 'CIW80_17245', 'CIW80_04560', 'CIW80_00800', 'CIW80_09845', 'CIW80_11320', 'CIW80_01835', 'CIW80_03820', 'CIW80_24710', 'CIW80_10705', 'CIW80_23845', 'CIW80_14840', 'CIW80_20880', 'CIW80_21120', 'CIW80_00560', 'CIW80_05380', 'CIW80_24555', 'CIW80_02035', 'CIW80_00680', 'CIW80_01730', 'CIW80_23800', 'CIW80_01390', 'CIW80_23780', 'CIW80_21105', 'CIW80_11470', 'CIW80_25660', 'CIW80_04820', 'CIW80_24750', 'CIW80_03630', 'CIW80_09015', 'CIW80_14450', 'CIW80_03340', 'CIW80_06770', 'CIW80_00160', 'CIW80_00720', 'CIW80_14320', 'CIW80_01405', 'CIW80_12920', 'CIW80_02010', 'CIW80_05785', 'CIW80_24660', 'CIW80_00410', 'CIW80_12080', 'CIW80_24475', 'CIW80_22775', 'CIW80_09390', 'CIW80_21020', 'CIW80_10605', 'CIW80_04900', 'CIW80_00670', 'CIW80_15255', 'CIW80_21575', 'CIW80_05655', 'CIW80_07470'}\n",
      "CP000266 {'CIW80_03090', 'CIW80_00445', 'CIW80_22445', 'CIW80_01660', 'CIW80_06330', 'CIW80_12600', 'CIW80_08295', 'CIW80_15510', 'CIW80_15855', 'CIW80_05090', 'CIW80_04745', 'CIW80_11570', 'CIW80_07510', 'CIW80_04030', 'CIW80_02905', 'CIW80_20975', 'CIW80_10280', 'CIW80_09630', 'CIW80_20545', 'CIW80_05030', 'CIW80_02575', 'CIW80_09805', 'CIW80_06735', 'CIW80_04490', 'CIW80_25340', 'CIW80_22785', 'CIW80_25760', 'CIW80_01570', 'CIW80_12380', 'CIW80_25305', 'CIW80_05650', 'CIW80_13175', 'CIW80_16405', 'CIW80_12135', 'CIW80_14770', 'CIW80_15680', 'CIW80_13695', 'CIW80_19755', 'CIW80_08720', 'CIW80_19455', 'CIW80_22470', 'CIW80_17790', 'CIW80_02595', 'CIW80_15595', 'CIW80_07255', 'CIW80_08460', 'CIW80_10730', 'CIW80_16470', 'CIW80_02835', 'CIW80_15525', 'CIW80_03375', 'CIW80_00180', 'CIW80_12345', 'CIW80_25220', 'CIW80_25510', 'CIW80_24670', 'CIW80_19975', 'CIW80_04685', 'CIW80_22910', 'CIW80_25020', 'CIW80_08790', 'CIW80_12375', 'CIW80_02830', 'CIW80_20670', 'CIW80_11525', 'CIW80_16500', 'CIW80_17670', 'CIW80_25400', 'CIW80_25610', 'CIW80_12320', 'CIW80_04825', 'CIW80_21645', 'CIW80_18415', 'CIW80_09250', 'CIW80_05245', 'CIW80_06025', 'CIW80_00550', 'CIW80_16060', 'CIW80_00915', 'CIW80_11910', 'CIW80_07935', 'CIW80_20075', 'CIW80_17750', 'CIW80_04210', 'CIW80_13030', 'CIW80_10710', 'CIW80_08165', 'CIW80_04995', 'CIW80_15195', 'CIW80_08030', 'CIW80_20425', 'CIW80_25560', 'CIW80_13610', 'CIW80_05115', 'CIW80_07085', 'CIW80_04475', 'CIW80_08180', 'CIW80_20505', 'CIW80_22830', 'CIW80_10530', 'CIW80_10590', 'CIW80_10010', 'CIW80_21745', 'CIW80_21785', 'CIW80_01355', 'CIW80_21580', 'CIW80_13215', 'CIW80_12415', 'CIW80_23820', 'CIW80_15310', 'CIW80_25395', 'CIW80_17415', 'CIW80_00055', 'CIW80_04830', 'CIW80_13770', 'CIW80_01525', 'CIW80_23815', 'CIW80_07360', 'CIW80_10335', 'CIW80_12545', 'CIW80_01145', 'CIW80_08155', 'CIW80_25650', 'CIW80_00930', 'CIW80_21955', 'CIW80_00065', 'CIW80_12330', 'CIW80_13320', 'CIW80_20630', 'CIW80_00830', 'CIW80_01115', 'CIW80_06145', 'CIW80_20255', 'CIW80_17895', 'CIW80_09255', 'CIW80_08365', 'CIW80_25535', 'CIW80_09745', 'CIW80_21060', 'CIW80_23980', 'CIW80_17275', 'CIW80_20500', 'CIW80_18605', 'CIW80_07375', 'CIW80_06620', 'CIW80_09875', 'CIW80_01150', 'CIW80_18005', 'CIW80_12390', 'CIW80_13240', 'CIW80_25515', 'CIW80_20860', 'CIW80_17710', 'CIW80_19990', 'CIW80_12385', 'CIW80_14985', 'CIW80_12435', 'CIW80_22750', 'CIW80_00735', 'CIW80_25540', 'CIW80_20555', 'CIW80_16110', 'CIW80_19695', 'CIW80_24700', 'CIW80_18245', 'CIW80_18570', 'CIW80_07305', 'CIW80_16455', 'CIW80_07750', 'CIW80_18080', 'CIW80_04675', 'CIW80_22085', 'CIW80_14930', 'CIW80_25265', 'CIW80_12235', 'CIW80_17755', 'CIW80_24740', 'CIW80_06550', 'CIW80_20060', 'CIW80_02030', 'CIW80_05665', 'CIW80_21165', 'CIW80_14845', 'CIW80_06175', 'CIW80_00465', 'CIW80_09470', 'CIW80_06630', 'CIW80_08290', 'CIW80_00435', 'CIW80_23095', 'CIW80_05765', 'CIW80_09900', 'CIW80_08755', 'CIW80_10510', 'CIW80_24385', 'CIW80_22055', 'CIW80_16130', 'CIW80_05025', 'CIW80_25790', 'CIW80_04420', 'CIW80_17835', 'CIW80_25310', 'CIW80_09840', 'CIW80_12885', 'CIW80_23850', 'CIW80_01820', 'CIW80_24770', 'CIW80_13755', 'CIW80_04350', 'CIW80_08045', 'CIW80_13895', 'CIW80_01455', 'CIW80_14340', 'CIW80_16255', 'CIW80_01605', 'CIW80_00540', 'CIW80_07185', 'CIW80_24020', 'CIW80_12195', 'CIW80_09870', 'CIW80_01670', 'CIW80_03050', 'CIW80_07695', 'CIW80_10725', 'CIW80_04005', 'CIW80_22200', 'CIW80_04760', 'CIW80_22165', 'CIW80_11590', 'CIW80_13390', 'CIW80_14290', 'CIW80_23760', 'CIW80_24735', 'CIW80_25645', 'CIW80_22545', 'CIW80_18580', 'CIW80_00375', 'CIW80_03950', 'CIW80_08710', 'CIW80_14490', 'CIW80_21480', 'CIW80_06925', 'CIW80_10860', 'CIW80_00965', 'CIW80_01015', 'CIW80_02710', 'CIW80_04845', 'CIW80_15545', 'CIW80_06335', 'CIW80_20910', 'CIW80_22410', 'CIW80_09445', 'CIW80_00430', 'CIW80_04485', 'CIW80_11215', 'CIW80_04575', 'CIW80_18705', 'CIW80_02265', 'CIW80_09550', 'CIW80_01625', 'CIW80_24250', 'CIW80_07475', 'CIW80_23070', 'CIW80_12560', 'CIW80_10535', 'CIW80_03530', 'CIW80_23100', 'CIW80_02915', 'CIW80_03885', 'CIW80_12110', 'CIW80_25320', 'CIW80_22285', 'CIW80_01750', 'CIW80_17170', 'CIW80_02730', 'CIW80_06290', 'CIW80_02930', 'CIW80_12085', 'CIW80_18400', 'CIW80_02865', 'CIW80_18110', 'CIW80_03890', 'CIW80_04810', 'CIW80_06155', 'CIW80_04980', 'CIW80_21440', 'CIW80_17200', 'CIW80_08270', 'CIW80_12360', 'CIW80_21800', 'CIW80_04580', 'CIW80_03000', 'CIW80_15640', 'CIW80_03940', 'CIW80_18055', 'CIW80_04605', 'CIW80_01980', 'CIW80_04495', 'CIW80_06815', 'CIW80_15105', 'CIW80_19010', 'CIW80_22060', 'CIW80_20270', 'CIW80_15550', 'CIW80_24035', 'CIW80_08780', 'CIW80_01775', 'CIW80_15250', 'CIW80_16590', 'CIW80_15150', 'CIW80_17260', 'CIW80_24055', 'CIW80_24845', 'CIW80_15810', 'CIW80_18340', 'CIW80_23090', 'CIW80_11835', 'CIW80_04250', 'CIW80_11790', 'CIW80_06900', 'CIW80_00655', 'CIW80_17150', 'CIW80_04595', 'CIW80_21340', 'CIW80_16330', 'CIW80_08595', 'CIW80_15080', 'CIW80_24980', 'CIW80_22385', 'CIW80_14305', 'CIW80_23075', 'CIW80_14605', 'CIW80_15285', 'CIW80_00585', 'CIW80_17615', 'CIW80_12565', 'CIW80_04125', 'CIW80_01985', 'CIW80_15160', 'CIW80_25725', 'CIW80_21510', 'CIW80_20450', 'CIW80_08320', 'CIW80_02725', 'CIW80_25185', 'CIW80_20475', 'CIW80_12505', 'CIW80_15600', 'CIW80_01120', 'CIW80_24160', 'CIW80_06200', 'CIW80_03075', 'CIW80_23910', 'CIW80_00855', 'CIW80_15265', 'CIW80_06695', 'CIW80_25735', 'CIW80_12220', 'CIW80_08565', 'CIW80_06660', 'CIW80_12715', 'CIW80_00810', 'CIW80_16735', 'CIW80_20290', 'CIW80_02050', 'CIW80_06315', 'CIW80_00155', 'CIW80_21560', 'CIW80_13375', 'CIW80_12125', 'CIW80_17850', 'CIW80_21155', 'CIW80_01550', 'CIW80_23805', 'CIW80_09430', 'CIW80_12395', 'CIW80_24715', 'CIW80_04985', 'CIW80_01480', 'CIW80_00755', 'CIW80_20850', 'CIW80_23835', 'CIW80_12455', 'CIW80_10930', 'CIW80_25685', 'CIW80_12425', 'CIW80_02610', 'CIW80_20825', 'CIW80_14540', 'CIW80_06625', 'CIW80_24705', 'CIW80_14550', 'CIW80_23875', 'CIW80_06440', 'CIW80_02895', 'CIW80_09860', 'CIW80_04535', 'CIW80_24375', 'CIW80_11290', 'CIW80_06320', 'CIW80_13335', 'CIW80_22430', 'CIW80_09780', 'CIW80_11765', 'CIW80_02920', 'CIW80_20540', 'CIW80_15935', 'CIW80_22890', 'CIW80_02685', 'CIW80_20905', 'CIW80_12295', 'CIW80_13620', 'CIW80_11555', 'CIW80_22020', 'CIW80_09905', 'CIW80_12720', 'CIW80_02160', 'CIW80_15920', 'CIW80_02110', 'CIW80_20295', 'CIW80_11880', 'CIW80_14690', 'CIW80_24825', 'CIW80_04345', 'CIW80_14760', 'CIW80_18255', 'CIW80_09820', 'CIW80_16560', 'CIW80_08625', 'CIW80_04280', 'CIW80_22500', 'CIW80_12310', 'CIW80_13700', 'CIW80_00185', 'CIW80_15835', 'CIW80_15985', 'CIW80_18315', 'CIW80_20745', 'CIW80_17535', 'CIW80_03005', 'CIW80_20845', 'CIW80_02885', 'CIW80_19980', 'CIW80_06190', 'CIW80_14935', 'CIW80_02260', 'CIW80_22090', 'CIW80_00960', 'CIW80_01620', 'CIW80_01720', 'CIW80_17245', 'CIW80_21500', 'CIW80_04560', 'CIW80_06955', 'CIW80_00800', 'CIW80_22190', 'CIW80_14765', 'CIW80_04235', 'CIW80_09845', 'CIW80_05810', 'CIW80_11320', 'CIW80_21490', 'CIW80_24710', 'CIW80_10705', 'CIW80_23845', 'CIW80_14840', 'CIW80_21120', 'CIW80_22955', 'CIW80_05380', 'CIW80_24555', 'CIW80_02035', 'CIW80_00795', 'CIW80_13325', 'CIW80_22915', 'CIW80_17210', 'CIW80_00680', 'CIW80_09855', 'CIW80_02675', 'CIW80_01730', 'CIW80_03535', 'CIW80_23800', 'CIW80_01390', 'CIW80_23780', 'CIW80_12225', 'CIW80_20945', 'CIW80_14280', 'CIW80_21545', 'CIW80_04820', 'CIW80_00770', 'CIW80_24750', 'CIW80_10815', 'CIW80_20300', 'CIW80_14450', 'CIW80_03340', 'CIW80_06770', 'CIW80_02880', 'CIW80_09260', 'CIW80_00160', 'CIW80_21100', 'CIW80_00720', 'CIW80_14320', 'CIW80_12920', 'CIW80_20135', 'CIW80_00410', 'CIW80_12080', 'CIW80_24475', 'CIW80_22775', 'CIW80_09390', 'CIW80_21830', 'CIW80_10605', 'CIW80_01320', 'CIW80_04900', 'CIW80_11095', 'CIW80_25665', 'CIW80_21475', 'CIW80_00670', 'CIW80_17585', 'CIW80_15255', 'CIW80_21575', 'CIW80_05655', 'CIW80_07470'}\n"
     ]
    },
    {
     "name": "stdout",
     "output_type": "stream",
     "text": [
      "CP000038 {'CIW80_11210', 'CIW80_22445', 'CIW80_01660', 'CIW80_06330', 'CIW80_08295', 'CIW80_15510', 'CIW80_15855', 'CIW80_14785', 'CIW80_04745', 'CIW80_11570', 'CIW80_10835', 'CIW80_10280', 'CIW80_09630', 'CIW80_05030', 'CIW80_05800', 'CIW80_06735', 'CIW80_09805', 'CIW80_01880', 'CIW80_04490', 'CIW80_25340', 'CIW80_25760', 'CIW80_01570', 'CIW80_24000', 'CIW80_12380', 'CIW80_07195', 'CIW80_05650', 'CIW80_13175', 'CIW80_16405', 'CIW80_08610', 'CIW80_12135', 'CIW80_04750', 'CIW80_15680', 'CIW80_13695', 'CIW80_08720', 'CIW80_22470', 'CIW80_10845', 'CIW80_16290', 'CIW80_11520', 'CIW80_02595', 'CIW80_15980', 'CIW80_15595', 'CIW80_08310', 'CIW80_22170', 'CIW80_07030', 'CIW80_10730', 'CIW80_16470', 'CIW80_15525', 'CIW80_12345', 'CIW80_25220', 'CIW80_25510', 'CIW80_19975', 'CIW80_04685', 'CIW80_06080', 'CIW80_22910', 'CIW80_15520', 'CIW80_08790', 'CIW80_12375', 'CIW80_11525', 'CIW80_25400', 'CIW80_12320', 'CIW80_21645', 'CIW80_18415', 'CIW80_17425', 'CIW80_00550', 'CIW80_06555', 'CIW80_12115', 'CIW80_20075', 'CIW80_00210', 'CIW80_01340', 'CIW80_04210', 'CIW80_10710', 'CIW80_10025', 'CIW80_08165', 'CIW80_11595', 'CIW80_15195', 'CIW80_25560', 'CIW80_05115', 'CIW80_05235', 'CIW80_08180', 'CIW80_11850', 'CIW80_20505', 'CIW80_19880', 'CIW80_10530', 'CIW80_10590', 'CIW80_00565', 'CIW80_16070', 'CIW80_21745', 'CIW80_21785', 'CIW80_25390', 'CIW80_15895', 'CIW80_21580', 'CIW80_13215', 'CIW80_15310', 'CIW80_25395', 'CIW80_17415', 'CIW80_00055', 'CIW80_07360', 'CIW80_01145', 'CIW80_15230', 'CIW80_08155', 'CIW80_23045', 'CIW80_25650', 'CIW80_14030', 'CIW80_13320', 'CIW80_12330', 'CIW80_21270', 'CIW80_00830', 'CIW80_01115', 'CIW80_22175', 'CIW80_06145', 'CIW80_03310', 'CIW80_25410', 'CIW80_17875', 'CIW80_08365', 'CIW80_21935', 'CIW80_09745', 'CIW80_21060', 'CIW80_22990', 'CIW80_08415', 'CIW80_03040', 'CIW80_23025', 'CIW80_18605', 'CIW80_05850', 'CIW80_06020', 'CIW80_09875', 'CIW80_04365', 'CIW80_01150', 'CIW80_18005', 'CIW80_12390', 'CIW80_16825', 'CIW80_17710', 'CIW80_00205', 'CIW80_19990', 'CIW80_12385', 'CIW80_14985', 'CIW80_12435', 'CIW80_17420', 'CIW80_20555', 'CIW80_16110', 'CIW80_22215', 'CIW80_13955', 'CIW80_18245', 'CIW80_24700', 'CIW80_18570', 'CIW80_07305', 'CIW80_02100', 'CIW80_07750', 'CIW80_02720', 'CIW80_10850', 'CIW80_23040', 'CIW80_04675', 'CIW80_22085', 'CIW80_14930', 'CIW80_12235', 'CIW80_06595', 'CIW80_17755', 'CIW80_06550', 'CIW80_20060', 'CIW80_02030', 'CIW80_05665', 'CIW80_16740', 'CIW80_21165', 'CIW80_14845', 'CIW80_06175', 'CIW80_24780', 'CIW80_08290', 'CIW80_11410', 'CIW80_03045', 'CIW80_08755', 'CIW80_22055', 'CIW80_08110', 'CIW80_16130', 'CIW80_07535', 'CIW80_25525', 'CIW80_05025', 'CIW80_15585', 'CIW80_17835', 'CIW80_25310', 'CIW80_00395', 'CIW80_15950', 'CIW80_23850', 'CIW80_07545', 'CIW80_24770', 'CIW80_00015', 'CIW80_13755', 'CIW80_09775', 'CIW80_15215', 'CIW80_21025', 'CIW80_08045', 'CIW80_13895', 'CIW80_13025', 'CIW80_01455', 'CIW80_24965', 'CIW80_14340', 'CIW80_03315', 'CIW80_14045', 'CIW80_00540', 'CIW80_03325', 'CIW80_03050', 'CIW80_10725', 'CIW80_22200', 'CIW80_04760', 'CIW80_18565', 'CIW80_08085', 'CIW80_11590', 'CIW80_14290', 'CIW80_04330', 'CIW80_24735', 'CIW80_07045', 'CIW80_22950', 'CIW80_13435', 'CIW80_00375', 'CIW80_19935', 'CIW80_15975', 'CIW80_14490', 'CIW80_11670', 'CIW80_21480', 'CIW80_16795', 'CIW80_10860', 'CIW80_00965', 'CIW80_00390', 'CIW80_11480', 'CIW80_00100', 'CIW80_01015', 'CIW80_02710', 'CIW80_04385', 'CIW80_15545', 'CIW80_06335', 'CIW80_20910', 'CIW80_13870', 'CIW80_00430', 'CIW80_04485', 'CIW80_11215', 'CIW80_04575', 'CIW80_02265', 'CIW80_11125', 'CIW80_01625', 'CIW80_12770', 'CIW80_07475', 'CIW80_24250', 'CIW80_25780', 'CIW80_23070', 'CIW80_20890', 'CIW80_10535', 'CIW80_04530', 'CIW80_02820', 'CIW80_02915', 'CIW80_12110', 'CIW80_25320', 'CIW80_15965', 'CIW80_01885', 'CIW80_17170', 'CIW80_02730', 'CIW80_13460', 'CIW80_13970', 'CIW80_06290', 'CIW80_21725', 'CIW80_19325', 'CIW80_25280', 'CIW80_02865', 'CIW80_18725', 'CIW80_18110', 'CIW80_12890', 'CIW80_04655', 'CIW80_03890', 'CIW80_04810', 'CIW80_06155', 'CIW80_24650', 'CIW80_21440', 'CIW80_08270', 'CIW80_21800', 'CIW80_04580', 'CIW80_03000', 'CIW80_15825', 'CIW80_19065', 'CIW80_15640', 'CIW80_18055', 'CIW80_04605', 'CIW80_01980', 'CIW80_04495', 'CIW80_15105', 'CIW80_22060', 'CIW80_03510', 'CIW80_15550', 'CIW80_14500', 'CIW80_08780', 'CIW80_13455', 'CIW80_15250', 'CIW80_08795', 'CIW80_17260', 'CIW80_20650', 'CIW80_18340', 'CIW80_04250', 'CIW80_11790', 'CIW80_06900', 'CIW80_11140', 'CIW80_17150', 'CIW80_12790', 'CIW80_19945', 'CIW80_04595', 'CIW80_21340', 'CIW80_17580', 'CIW80_08595', 'CIW80_15080', 'CIW80_24980', 'CIW80_14535', 'CIW80_22275', 'CIW80_22385', 'CIW80_14305', 'CIW80_00535', 'CIW80_08330', 'CIW80_14605', 'CIW80_20725', 'CIW80_15285', 'CIW80_17910', 'CIW80_00585', 'CIW80_17615', 'CIW80_05400', 'CIW80_01985', 'CIW80_16250', 'CIW80_20450', 'CIW80_22860', 'CIW80_08320', 'CIW80_02725', 'CIW80_25185', 'CIW80_20475', 'CIW80_15600', 'CIW80_01120', 'CIW80_24160', 'CIW80_06200', 'CIW80_01675', 'CIW80_00855', 'CIW80_06695', 'CIW80_14040', 'CIW80_10120', 'CIW80_12220', 'CIW80_08565', 'CIW80_06660', 'CIW80_00810', 'CIW80_16735', 'CIW80_20290', 'CIW80_02050', 'CIW80_14780', 'CIW80_00155', 'CIW80_16410', 'CIW80_19450', 'CIW80_13375', 'CIW80_12125', 'CIW80_17850', 'CIW80_21155', 'CIW80_03570', 'CIW80_10665', 'CIW80_23805', 'CIW80_22690', 'CIW80_12395', 'CIW80_24715', 'CIW80_04985', 'CIW80_11645', 'CIW80_01480', 'CIW80_12455', 'CIW80_10930', 'CIW80_25685', 'CIW80_12425', 'CIW80_02610', 'CIW80_04255', 'CIW80_06625', 'CIW80_24705', 'CIW80_14550', 'CIW80_06440', 'CIW80_17470', 'CIW80_09860', 'CIW80_08005', 'CIW80_00285', 'CIW80_11290', 'CIW80_22925', 'CIW80_06320', 'CIW80_22430', 'CIW80_09780', 'CIW80_02920', 'CIW80_20540', 'CIW80_12530', 'CIW80_22825', 'CIW80_01025', 'CIW80_20905', 'CIW80_04895', 'CIW80_12295', 'CIW80_01610', 'CIW80_13620', 'CIW80_11555', 'CIW80_09970', 'CIW80_22020', 'CIW80_12720', 'CIW80_15920', 'CIW80_02110', 'CIW80_11880', 'CIW80_25620', 'CIW80_13965', 'CIW80_24825', 'CIW80_03015', 'CIW80_18255', 'CIW80_09820', 'CIW80_08625', 'CIW80_13690', 'CIW80_12310', 'CIW80_08540', 'CIW80_00185', 'CIW80_13185', 'CIW80_15835', 'CIW80_00140', 'CIW80_25555', 'CIW80_15985', 'CIW80_18315', 'CIW80_20685', 'CIW80_20745', 'CIW80_20845', 'CIW80_02885', 'CIW80_07690', 'CIW80_17240', 'CIW80_22090', 'CIW80_00960', 'CIW80_11415', 'CIW80_01720', 'CIW80_17245', 'CIW80_20805', 'CIW80_04560', 'CIW80_00800', 'CIW80_02060', 'CIW80_09845', 'CIW80_05810', 'CIW80_11320', 'CIW80_24565', 'CIW80_23015', 'CIW80_24710', 'CIW80_10705', 'CIW80_23845', 'CIW80_22955', 'CIW80_00560', 'CIW80_05380', 'CIW80_03305', 'CIW80_02035', 'CIW80_20690', 'CIW80_13325', 'CIW80_07340', 'CIW80_00680', 'CIW80_01730', 'CIW80_23795', 'CIW80_23800', 'CIW80_01390', 'CIW80_11135', 'CIW80_24750', 'CIW80_00095', 'CIW80_20300', 'CIW80_13470', 'CIW80_03340', 'CIW80_06770', 'CIW80_00160', 'CIW80_21100', 'CIW80_00520', 'CIW80_14320', 'CIW80_12920', 'CIW80_02010', 'CIW80_24630', 'CIW80_10825', 'CIW80_05785', 'CIW80_12080', 'CIW80_22775', 'CIW80_09390', 'CIW80_10605', 'CIW80_01320', 'CIW80_04900', 'CIW80_06520', 'CIW80_00670', 'CIW80_15255', 'CIW80_21575', 'CIW80_15970', 'CIW80_05655', 'CIW80_07470'}\n"
     ]
    }
   ],
   "source": [
    "#For each strain in the ortho_matrix, identify genes that meet threshold of SEQ similarity, but missing from\n",
    "#annotated ORFS. Additionally, look at the sequence to ensure that these cases do not have early stop codons indicating\n",
    "#nonfunctional even if the NA seqs meet the threshold\n",
    "\n",
    "pseudogenes = {}\n",
    "\n",
    "for c in ortho_matrix.columns:\n",
    "    \n",
    "    orfs = ortho_matrix[c]\n",
    "    genes = na_model_genes[c]\n",
    "    # All the Model Genes that met the BLASTp Requirements\n",
    "    orfs2 = orfs[orfs==1].index.tolist()\n",
    "    # All the Model Genes based off of BLASTn similarity above threshold of 80\n",
    "    genes2 = genes[genes>=80].index.tolist()\n",
    "    # By Definition find the genes that pass sequence threshold but were NOT in annotated ORFs:\n",
    "    unannotated = set(genes2) -set(orfs2)\n",
    "    \n",
    "    # Obtain sequences of this list to check for premature stop codons:\n",
    "    data = '../data/nucleotides/CP022686.1_vs_%s.txt'%c\n",
    "    cols = ['gene', 'subject', 'PID', 'alnLength', 'mismatchCount', 'gapOpenCount', 'queryStart', 'queryEnd', 'subjectStart', 'subjectEnd', 'eVal', 'bitScore']\n",
    "    data = pd.read_csv(data, sep='\\t', names=cols)\n",
    "    #\n",
    "    pseudogenes[c] = {}\n",
    "    unannotated_data = data[data['gene'].isin(list(unannotated))]\n",
    "    for i in unannotated_data.index:\n",
    "        gene = data.loc[i,'gene']\n",
    "        contig = data.loc[i,'subject'] \n",
    "        start = data.loc[i,'subjectStart']\n",
    "        end = data.loc[i,'subjectEnd']\n",
    "        seq = extract_seq('../data/genomes_gb/%s.fna'%c,contig, start, end)\n",
    "        # check for early stop codons - these are likely nonfunctional and shouldn't be included\n",
    "        if '*' in seq:\n",
    "            print (seq)\n",
    "            pseudogenes[c][gene]=seq\n",
    "            # Remove the gene from list of unannotated genes\n",
    "            unannotated-set([gene])\n",
    "            \n",
    "    \n",
    "    print (c, unannotated)\n",
    "    \n",
    "    # For pertinent genes, retain those based off of nucleotide similarity within the orthology matrix and geneIDs matrix\n",
    "    ortho_matrix_w_unannotated.loc[unannotated,c]=1\n",
    "    for g in unannotated:\n",
    "        geneIDs_matrix_w_unannotated.loc[g,c] = '%s_ortholog'%g\n",
    "    "
   ]
  },
  {
   "cell_type": "code",
   "execution_count": 18,
   "metadata": {},
   "outputs": [],
   "source": [
    "#Save the Presence/Absence Matrix and geneIDs Matrix for future use\n",
    "ortho_matrix_w_unannotated.to_csv('../tables/ortho_matrix_unan.csv')\n",
    "geneIDs_matrix_w_unannotated.to_csv('../tables/geneIDs_matrix_unan.csv')"
   ]
  }
 ],
 "metadata": {
  "kernelspec": {
   "display_name": "Python 3",
   "language": "python",
   "name": "python3"
  },
  "language_info": {
   "codemirror_mode": {
    "name": "ipython",
    "version": 3
   },
   "file_extension": ".py",
   "mimetype": "text/x-python",
   "name": "python",
   "nbconvert_exporter": "python",
   "pygments_lexer": "ipython3",
   "version": "3.7.9"
  }
 },
 "nbformat": 4,
 "nbformat_minor": 2
}
