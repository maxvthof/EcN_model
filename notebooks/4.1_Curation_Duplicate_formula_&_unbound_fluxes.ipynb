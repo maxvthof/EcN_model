{
 "cells": [
  {
   "cell_type": "markdown",
   "metadata": {},
   "source": [
    "## 4.1 Removal of duplicate reactions\n",
    "\n",
    "The draft EcN model has a too high growth on glucose. Find duplicate reactions to remove all unwanted redundancies. Within this notebook the model is checked for\n",
    "- Copies of the same reaction\n",
    "- Different versions of reactions\n",
    "- Energy generating cycles\n",
    "- Other causes of inflated growth\n",
    "- Remaining duplicates"
   ]
  },
  {
   "cell_type": "code",
   "execution_count": 1,
   "metadata": {},
   "outputs": [],
   "source": [
    "#import package needed\n",
    "import cobra\n",
    "import pandas as pd\n",
    "from cobra.io import load_json_model\n",
    "from glob import glob\n",
    "from cobra.manipulation.delete import delete_model_genes"
   ]
  },
  {
   "cell_type": "code",
   "execution_count": 2,
   "metadata": {},
   "outputs": [],
   "source": [
    "#Load EcN model \n",
    "EcN_ID = 'CP022686.1'\n",
    "model = load_json_model('../data/models/%s.json'%EcN_ID)\n",
    "modelCopy = model.copy()"
   ]
  },
  {
   "cell_type": "code",
   "execution_count": 3,
   "metadata": {},
   "outputs": [
    {
     "data": {
      "text/html": [
       "<div>\n",
       "<style scoped>\n",
       "    .dataframe tbody tr th:only-of-type {\n",
       "        vertical-align: middle;\n",
       "    }\n",
       "\n",
       "    .dataframe tbody tr th {\n",
       "        vertical-align: top;\n",
       "    }\n",
       "\n",
       "    .dataframe thead th {\n",
       "        text-align: right;\n",
       "    }\n",
       "</style>\n",
       "<table border=\"1\" class=\"dataframe\">\n",
       "  <thead>\n",
       "    <tr style=\"text-align: right;\">\n",
       "      <th></th>\n",
       "      <th>origin</th>\n",
       "      <th>added</th>\n",
       "      <th>notebook</th>\n",
       "      <th>notes</th>\n",
       "    </tr>\n",
       "    <tr>\n",
       "      <th>reaction</th>\n",
       "      <th></th>\n",
       "      <th></th>\n",
       "      <th></th>\n",
       "      <th></th>\n",
       "    </tr>\n",
       "  </thead>\n",
       "  <tbody>\n",
       "    <tr>\n",
       "      <th>ALATA_D2</th>\n",
       "      <td>iML1515</td>\n",
       "      <td>automatic</td>\n",
       "      <td>3.1</td>\n",
       "      <td>none</td>\n",
       "    </tr>\n",
       "    <tr>\n",
       "      <th>SHCHD2</th>\n",
       "      <td>iML1515</td>\n",
       "      <td>automatic</td>\n",
       "      <td>3.1</td>\n",
       "      <td>none</td>\n",
       "    </tr>\n",
       "    <tr>\n",
       "      <th>CPPPGO</th>\n",
       "      <td>iML1515</td>\n",
       "      <td>automatic</td>\n",
       "      <td>3.1</td>\n",
       "      <td>none</td>\n",
       "    </tr>\n",
       "    <tr>\n",
       "      <th>GTHOr</th>\n",
       "      <td>iML1515</td>\n",
       "      <td>automatic</td>\n",
       "      <td>3.1</td>\n",
       "      <td>none</td>\n",
       "    </tr>\n",
       "    <tr>\n",
       "      <th>DHORD5</th>\n",
       "      <td>iML1515</td>\n",
       "      <td>automatic</td>\n",
       "      <td>3.1</td>\n",
       "      <td>none</td>\n",
       "    </tr>\n",
       "  </tbody>\n",
       "</table>\n",
       "</div>"
      ],
      "text/plain": [
       "           origin      added  notebook notes\n",
       "reaction                                    \n",
       "ALATA_D2  iML1515  automatic       3.1  none\n",
       "SHCHD2    iML1515  automatic       3.1  none\n",
       "CPPPGO    iML1515  automatic       3.1  none\n",
       "GTHOr     iML1515  automatic       3.1  none\n",
       "DHORD5    iML1515  automatic       3.1  none"
      ]
     },
     "execution_count": 3,
     "metadata": {},
     "output_type": "execute_result"
    }
   ],
   "source": [
    "# Load the table with information on origin of reactions\n",
    "rxn_origin_df = pd.read_csv('../tables/rxn_origin.csv')\n",
    "rxn_origin_df.set_index('reaction', inplace=True)\n",
    "rxn_origin_df.head()"
   ]
  },
  {
   "cell_type": "markdown",
   "metadata": {},
   "source": [
    "## 1. Reaction overview"
   ]
  },
  {
   "cell_type": "code",
   "execution_count": 4,
   "metadata": {},
   "outputs": [
    {
     "data": {
      "text/html": [
       "<div>\n",
       "<style scoped>\n",
       "    .dataframe tbody tr th:only-of-type {\n",
       "        vertical-align: middle;\n",
       "    }\n",
       "\n",
       "    .dataframe tbody tr th {\n",
       "        vertical-align: top;\n",
       "    }\n",
       "\n",
       "    .dataframe thead th {\n",
       "        text-align: right;\n",
       "    }\n",
       "</style>\n",
       "<table border=\"1\" class=\"dataframe\">\n",
       "  <thead>\n",
       "    <tr style=\"text-align: right;\">\n",
       "      <th></th>\n",
       "      <th>ID</th>\n",
       "      <th>formula</th>\n",
       "      <th>compartment</th>\n",
       "      <th>genes</th>\n",
       "    </tr>\n",
       "  </thead>\n",
       "  <tbody>\n",
       "    <tr>\n",
       "      <th>0</th>\n",
       "      <td>ALATA_D2</td>\n",
       "      <td>ala__D_c + pydx5p_c --&gt; pyam5p_c + pyr_c</td>\n",
       "      <td>{c}</td>\n",
       "      <td>(CIW80_22360, CIW80_06560)</td>\n",
       "    </tr>\n",
       "    <tr>\n",
       "      <th>1</th>\n",
       "      <td>SHCHD2</td>\n",
       "      <td>dscl_c + nad_c --&gt; h_c + nadh_c + scl_c</td>\n",
       "      <td>{c}</td>\n",
       "      <td>(CIW80_11380)</td>\n",
       "    </tr>\n",
       "    <tr>\n",
       "      <th>2</th>\n",
       "      <td>CPPPGO</td>\n",
       "      <td>cpppg3_c + 2.0 h_c + o2_c --&gt; 2.0 co2_c + 2.0 ...</td>\n",
       "      <td>{c}</td>\n",
       "      <td>(CIW80_06055)</td>\n",
       "    </tr>\n",
       "    <tr>\n",
       "      <th>3</th>\n",
       "      <td>GTHOr</td>\n",
       "      <td>gthox_c + h_c + nadph_c &lt;=&gt; 2.0 gthrd_c + nadp_c</td>\n",
       "      <td>{c}</td>\n",
       "      <td>(CIW80_12105)</td>\n",
       "    </tr>\n",
       "    <tr>\n",
       "      <th>4</th>\n",
       "      <td>DHORD5</td>\n",
       "      <td>dhor__S_c + mqn8_c --&gt; mql8_c + orot_c</td>\n",
       "      <td>{c}</td>\n",
       "      <td>(CIW80_22710)</td>\n",
       "    </tr>\n",
       "  </tbody>\n",
       "</table>\n",
       "</div>"
      ],
      "text/plain": [
       "         ID                                            formula compartment  \\\n",
       "0  ALATA_D2           ala__D_c + pydx5p_c --> pyam5p_c + pyr_c         {c}   \n",
       "1    SHCHD2            dscl_c + nad_c --> h_c + nadh_c + scl_c         {c}   \n",
       "2    CPPPGO  cpppg3_c + 2.0 h_c + o2_c --> 2.0 co2_c + 2.0 ...         {c}   \n",
       "3     GTHOr   gthox_c + h_c + nadph_c <=> 2.0 gthrd_c + nadp_c         {c}   \n",
       "4    DHORD5             dhor__S_c + mqn8_c --> mql8_c + orot_c         {c}   \n",
       "\n",
       "                        genes  \n",
       "0  (CIW80_22360, CIW80_06560)  \n",
       "1               (CIW80_11380)  \n",
       "2               (CIW80_06055)  \n",
       "3               (CIW80_12105)  \n",
       "4               (CIW80_22710)  "
      ]
     },
     "execution_count": 4,
     "metadata": {},
     "output_type": "execute_result"
    }
   ],
   "source": [
    "# Create a dataframe with the ID, formula, compartment and associated genes of all reactions\n",
    "reaction_df = pd.DataFrame(columns=['ID','formula', 'compartment', 'genes'])\n",
    "\n",
    "for reaction in modelCopy.reactions:\n",
    "    formula = reaction.reaction\n",
    "    ID = reaction.id\n",
    "    compartment = reaction.compartments\n",
    "    genes = reaction.genes\n",
    "    data = {'ID': ID, 'formula': formula, 'compartment': compartment, 'genes': genes}\n",
    "    reaction_df = reaction_df.append(data, ignore_index=True)\n",
    "\n",
    "reaction_df.head()"
   ]
  },
  {
   "cell_type": "markdown",
   "metadata": {},
   "source": [
    "## 2. Identify duplicate reactions\n",
    "As a result of the construction method, some reactions were added multiple times. These will be indentified based on their similarity in formula and reduced to one."
   ]
  },
  {
   "cell_type": "code",
   "execution_count": 5,
   "metadata": {
    "scrolled": true
   },
   "outputs": [
    {
     "data": {
      "text/html": [
       "<div>\n",
       "<style scoped>\n",
       "    .dataframe tbody tr th:only-of-type {\n",
       "        vertical-align: middle;\n",
       "    }\n",
       "\n",
       "    .dataframe tbody tr th {\n",
       "        vertical-align: top;\n",
       "    }\n",
       "\n",
       "    .dataframe thead th {\n",
       "        text-align: right;\n",
       "    }\n",
       "</style>\n",
       "<table border=\"1\" class=\"dataframe\">\n",
       "  <thead>\n",
       "    <tr style=\"text-align: right;\">\n",
       "      <th></th>\n",
       "      <th>ID</th>\n",
       "      <th>formula</th>\n",
       "      <th>compartment</th>\n",
       "      <th>genes</th>\n",
       "    </tr>\n",
       "  </thead>\n",
       "  <tbody>\n",
       "    <tr>\n",
       "      <th>2862</th>\n",
       "      <td>12PPDStpp_copy2</td>\n",
       "      <td>12ppd__S_p &lt;=&gt; 12ppd__S_c</td>\n",
       "      <td>{c, p}</td>\n",
       "      <td>(CIW80_14645)</td>\n",
       "    </tr>\n",
       "    <tr>\n",
       "      <th>2807</th>\n",
       "      <td>ADNt2pp</td>\n",
       "      <td>adn_p + h_p --&gt; adn_c + h_c</td>\n",
       "      <td>{c, p}</td>\n",
       "      <td>(CIW80_08585, CIW80_05845)</td>\n",
       "    </tr>\n",
       "    <tr>\n",
       "      <th>2760</th>\n",
       "      <td>ALAt2pp_copy1</td>\n",
       "      <td>ala__L_p + h_p --&gt; ala__L_c + h_c</td>\n",
       "      <td>{c, p}</td>\n",
       "      <td>(CIW80_16415)</td>\n",
       "    </tr>\n",
       "    <tr>\n",
       "      <th>2756</th>\n",
       "      <td>ASPt2pp_copy1</td>\n",
       "      <td>asp__L_p + h_p --&gt; asp__L_c + h_c</td>\n",
       "      <td>{c, p}</td>\n",
       "      <td>(CIW80_15645)</td>\n",
       "    </tr>\n",
       "    <tr>\n",
       "      <th>2744</th>\n",
       "      <td>CTECOAI6_copy1</td>\n",
       "      <td>tdecoa_c &lt;=&gt; td2coa_c</td>\n",
       "      <td>{c}</td>\n",
       "      <td>(CIW80_14210)</td>\n",
       "    </tr>\n",
       "    <tr>\n",
       "      <th>2746</th>\n",
       "      <td>CTECOAI7_copy1</td>\n",
       "      <td>hdcoa_c &lt;=&gt; hdd2coa_c</td>\n",
       "      <td>{c}</td>\n",
       "      <td>(CIW80_14210)</td>\n",
       "    </tr>\n",
       "    <tr>\n",
       "      <th>2742</th>\n",
       "      <td>CTECOAI8_copy1</td>\n",
       "      <td>odecoa_c &lt;=&gt; od2coa_c</td>\n",
       "      <td>{c}</td>\n",
       "      <td>(CIW80_14210)</td>\n",
       "    </tr>\n",
       "    <tr>\n",
       "      <th>2772</th>\n",
       "      <td>DADK_copy1</td>\n",
       "      <td>atp_c + damp_c &lt;=&gt; adp_c + dadp_c</td>\n",
       "      <td>{c}</td>\n",
       "      <td>(CIW80_20510)</td>\n",
       "    </tr>\n",
       "    <tr>\n",
       "      <th>2771</th>\n",
       "      <td>DADK_copy2</td>\n",
       "      <td>atp_c + damp_c &lt;=&gt; adp_c + dadp_c</td>\n",
       "      <td>{c}</td>\n",
       "      <td>(CIW80_20510)</td>\n",
       "    </tr>\n",
       "    <tr>\n",
       "      <th>2808</th>\n",
       "      <td>FADRx_copy1</td>\n",
       "      <td>fad_c + h_c + nadh_c --&gt; fadh2_c + nad_c</td>\n",
       "      <td>{c}</td>\n",
       "      <td>(CIW80_14200)</td>\n",
       "    </tr>\n",
       "    <tr>\n",
       "      <th>2842</th>\n",
       "      <td>FADRx_copy2</td>\n",
       "      <td>fad_c + h_c + nadh_c --&gt; fadh2_c + nad_c</td>\n",
       "      <td>{c}</td>\n",
       "      <td>(CIW80_04305)</td>\n",
       "    </tr>\n",
       "    <tr>\n",
       "      <th>2811</th>\n",
       "      <td>FEENTERtex_copy1</td>\n",
       "      <td>enter_p + h_p --&gt; enter_e + h_c</td>\n",
       "      <td>{e, c, p}</td>\n",
       "      <td>(CIW80_09625)</td>\n",
       "    </tr>\n",
       "    <tr>\n",
       "      <th>2857</th>\n",
       "      <td>FEENTERtex_copy2</td>\n",
       "      <td>enter_p + h_p --&gt; enter_e + h_c</td>\n",
       "      <td>{e, c, p}</td>\n",
       "      <td>(CIW80_13505)</td>\n",
       "    </tr>\n",
       "    <tr>\n",
       "      <th>2860</th>\n",
       "      <td>GLCtex</td>\n",
       "      <td>glc__D_e &lt;=&gt; glc__D_p</td>\n",
       "      <td>{e, p}</td>\n",
       "      <td>(CIW80_25725, CIW80_22660, CIW80_05020, CIW80_...</td>\n",
       "    </tr>\n",
       "    <tr>\n",
       "      <th>2757</th>\n",
       "      <td>GLYBt2pp_copy1</td>\n",
       "      <td>glyb_p + h_p --&gt; glyb_c + h_c</td>\n",
       "      <td>{c, p}</td>\n",
       "      <td>(CIW80_15850)</td>\n",
       "    </tr>\n",
       "    <tr>\n",
       "      <th>2761</th>\n",
       "      <td>GLYt2pp_copy1</td>\n",
       "      <td>gly_p + h_p --&gt; gly_c + h_c</td>\n",
       "      <td>{c, p}</td>\n",
       "      <td>(CIW80_16415)</td>\n",
       "    </tr>\n",
       "    <tr>\n",
       "      <th>2617</th>\n",
       "      <td>GTHPi_copy1</td>\n",
       "      <td>2.0 gthrd_c + h2o2_c --&gt; gthox_c + 2.0 h2o_c</td>\n",
       "      <td>{c}</td>\n",
       "      <td>(CIW80_01430)</td>\n",
       "    </tr>\n",
       "    <tr>\n",
       "      <th>2618</th>\n",
       "      <td>GTHPi_copy2</td>\n",
       "      <td>2.0 gthrd_c + h2o2_c --&gt; gthox_c + 2.0 h2o_c</td>\n",
       "      <td>{c}</td>\n",
       "      <td>(CIW80_01430)</td>\n",
       "    </tr>\n",
       "    <tr>\n",
       "      <th>2861</th>\n",
       "      <td>ICHORS</td>\n",
       "      <td>chor_c &lt;=&gt; ichor_c</td>\n",
       "      <td>{c}</td>\n",
       "      <td>(CIW80_05275)</td>\n",
       "    </tr>\n",
       "    <tr>\n",
       "      <th>2705</th>\n",
       "      <td>INSt2pp_copy1</td>\n",
       "      <td>h_p + ins_p --&gt; h_c + ins_c</td>\n",
       "      <td>{c, p}</td>\n",
       "      <td>(CIW80_08585)</td>\n",
       "    </tr>\n",
       "    <tr>\n",
       "      <th>1498</th>\n",
       "      <td>NTP1</td>\n",
       "      <td>atp_c + h2o_c --&gt; adp_c + h_c + pi_c</td>\n",
       "      <td>{c}</td>\n",
       "      <td>(CIW80_16125)</td>\n",
       "    </tr>\n",
       "    <tr>\n",
       "      <th>2687</th>\n",
       "      <td>PRASCSi_copy1</td>\n",
       "      <td>5aizc_c + asp__L_c + atp_c --&gt; 25aics_c + adp_...</td>\n",
       "      <td>{c}</td>\n",
       "      <td>(CIW80_06235)</td>\n",
       "    </tr>\n",
       "    <tr>\n",
       "      <th>2806</th>\n",
       "      <td>THMDt2pp</td>\n",
       "      <td>h_p + thymd_p --&gt; h_c + thymd_c</td>\n",
       "      <td>{c, p}</td>\n",
       "      <td>(CIW80_08585, CIW80_05845)</td>\n",
       "    </tr>\n",
       "    <tr>\n",
       "      <th>2820</th>\n",
       "      <td>UAG4Ei_copy1</td>\n",
       "      <td>uacgam_c --&gt; udpacgal_c</td>\n",
       "      <td>{c}</td>\n",
       "      <td>(CIW80_03965)</td>\n",
       "    </tr>\n",
       "    <tr>\n",
       "      <th>2689</th>\n",
       "      <td>URAt2pp_copy1</td>\n",
       "      <td>h_p + ura_p --&gt; h_c + ura_c</td>\n",
       "      <td>{c, p}</td>\n",
       "      <td>(CIW80_06280)</td>\n",
       "    </tr>\n",
       "    <tr>\n",
       "      <th>2719</th>\n",
       "      <td>VPAMTr_copy1</td>\n",
       "      <td>3mob_c + ala__L_c &lt;=&gt; pyr_c + val__L_c</td>\n",
       "      <td>{c}</td>\n",
       "      <td>(CIW80_12580)</td>\n",
       "    </tr>\n",
       "  </tbody>\n",
       "</table>\n",
       "</div>"
      ],
      "text/plain": [
       "                    ID                                            formula  \\\n",
       "2862   12PPDStpp_copy2                          12ppd__S_p <=> 12ppd__S_c   \n",
       "2807           ADNt2pp                        adn_p + h_p --> adn_c + h_c   \n",
       "2760     ALAt2pp_copy1                  ala__L_p + h_p --> ala__L_c + h_c   \n",
       "2756     ASPt2pp_copy1                  asp__L_p + h_p --> asp__L_c + h_c   \n",
       "2744    CTECOAI6_copy1                              tdecoa_c <=> td2coa_c   \n",
       "2746    CTECOAI7_copy1                              hdcoa_c <=> hdd2coa_c   \n",
       "2742    CTECOAI8_copy1                              odecoa_c <=> od2coa_c   \n",
       "2772        DADK_copy1                  atp_c + damp_c <=> adp_c + dadp_c   \n",
       "2771        DADK_copy2                  atp_c + damp_c <=> adp_c + dadp_c   \n",
       "2808       FADRx_copy1           fad_c + h_c + nadh_c --> fadh2_c + nad_c   \n",
       "2842       FADRx_copy2           fad_c + h_c + nadh_c --> fadh2_c + nad_c   \n",
       "2811  FEENTERtex_copy1                    enter_p + h_p --> enter_e + h_c   \n",
       "2857  FEENTERtex_copy2                    enter_p + h_p --> enter_e + h_c   \n",
       "2860            GLCtex                              glc__D_e <=> glc__D_p   \n",
       "2757    GLYBt2pp_copy1                      glyb_p + h_p --> glyb_c + h_c   \n",
       "2761     GLYt2pp_copy1                        gly_p + h_p --> gly_c + h_c   \n",
       "2617       GTHPi_copy1       2.0 gthrd_c + h2o2_c --> gthox_c + 2.0 h2o_c   \n",
       "2618       GTHPi_copy2       2.0 gthrd_c + h2o2_c --> gthox_c + 2.0 h2o_c   \n",
       "2861            ICHORS                                 chor_c <=> ichor_c   \n",
       "2705     INSt2pp_copy1                        h_p + ins_p --> h_c + ins_c   \n",
       "1498              NTP1               atp_c + h2o_c --> adp_c + h_c + pi_c   \n",
       "2687     PRASCSi_copy1  5aizc_c + asp__L_c + atp_c --> 25aics_c + adp_...   \n",
       "2806          THMDt2pp                    h_p + thymd_p --> h_c + thymd_c   \n",
       "2820      UAG4Ei_copy1                            uacgam_c --> udpacgal_c   \n",
       "2689     URAt2pp_copy1                        h_p + ura_p --> h_c + ura_c   \n",
       "2719      VPAMTr_copy1             3mob_c + ala__L_c <=> pyr_c + val__L_c   \n",
       "\n",
       "     compartment                                              genes  \n",
       "2862      {c, p}                                      (CIW80_14645)  \n",
       "2807      {c, p}                         (CIW80_08585, CIW80_05845)  \n",
       "2760      {c, p}                                      (CIW80_16415)  \n",
       "2756      {c, p}                                      (CIW80_15645)  \n",
       "2744         {c}                                      (CIW80_14210)  \n",
       "2746         {c}                                      (CIW80_14210)  \n",
       "2742         {c}                                      (CIW80_14210)  \n",
       "2772         {c}                                      (CIW80_20510)  \n",
       "2771         {c}                                      (CIW80_20510)  \n",
       "2808         {c}                                      (CIW80_14200)  \n",
       "2842         {c}                                      (CIW80_04305)  \n",
       "2811   {e, c, p}                                      (CIW80_09625)  \n",
       "2857   {e, c, p}                                      (CIW80_13505)  \n",
       "2860      {e, p}  (CIW80_25725, CIW80_22660, CIW80_05020, CIW80_...  \n",
       "2757      {c, p}                                      (CIW80_15850)  \n",
       "2761      {c, p}                                      (CIW80_16415)  \n",
       "2617         {c}                                      (CIW80_01430)  \n",
       "2618         {c}                                      (CIW80_01430)  \n",
       "2861         {c}                                      (CIW80_05275)  \n",
       "2705      {c, p}                                      (CIW80_08585)  \n",
       "1498         {c}                                      (CIW80_16125)  \n",
       "2687         {c}                                      (CIW80_06235)  \n",
       "2806      {c, p}                         (CIW80_08585, CIW80_05845)  \n",
       "2820         {c}                                      (CIW80_03965)  \n",
       "2689      {c, p}                                      (CIW80_06280)  \n",
       "2719         {c}                                      (CIW80_12580)  "
      ]
     },
     "execution_count": 5,
     "metadata": {},
     "output_type": "execute_result"
    }
   ],
   "source": [
    "# Find all formulas which are present more than once in the model\n",
    "duplicates = reaction_df[reaction_df['formula'].duplicated()].sort_values('ID')\n",
    "duplicates"
   ]
  },
  {
   "cell_type": "code",
   "execution_count": 6,
   "metadata": {
    "scrolled": true
   },
   "outputs": [
    {
     "data": {
      "text/html": [
       "<div>\n",
       "<style scoped>\n",
       "    .dataframe tbody tr th:only-of-type {\n",
       "        vertical-align: middle;\n",
       "    }\n",
       "\n",
       "    .dataframe tbody tr th {\n",
       "        vertical-align: top;\n",
       "    }\n",
       "\n",
       "    .dataframe thead th {\n",
       "        text-align: right;\n",
       "    }\n",
       "</style>\n",
       "<table border=\"1\" class=\"dataframe\">\n",
       "  <thead>\n",
       "    <tr style=\"text-align: right;\">\n",
       "      <th></th>\n",
       "      <th>ID</th>\n",
       "      <th>formula</th>\n",
       "      <th>compartment</th>\n",
       "      <th>genes</th>\n",
       "    </tr>\n",
       "  </thead>\n",
       "  <tbody>\n",
       "    <tr>\n",
       "      <th>2862</th>\n",
       "      <td>12PPDStpp_copy2</td>\n",
       "      <td>12ppd__S_p &lt;=&gt; 12ppd__S_c</td>\n",
       "      <td>{c, p}</td>\n",
       "      <td>(CIW80_14645)</td>\n",
       "    </tr>\n",
       "    <tr>\n",
       "      <th>2833</th>\n",
       "      <td>2HH24DDH1_copy1</td>\n",
       "      <td>2hh24dd_c + h2o_c --&gt; 24dhhed_c</td>\n",
       "      <td>{c}</td>\n",
       "      <td>(CIW80_04280)</td>\n",
       "    </tr>\n",
       "    <tr>\n",
       "      <th>2834</th>\n",
       "      <td>2HH24DDH1_copy2</td>\n",
       "      <td>2hh24dd_c + h2o_c &lt;=&gt; 24dhhed_c</td>\n",
       "      <td>{c}</td>\n",
       "      <td>(CIW80_04280)</td>\n",
       "    </tr>\n",
       "    <tr>\n",
       "      <th>825</th>\n",
       "      <td>ADNt2pp_copy1</td>\n",
       "      <td>adn_p + h_p --&gt; adn_c + h_c</td>\n",
       "      <td>{c, p}</td>\n",
       "      <td>(CIW80_08585, CIW80_05845)</td>\n",
       "    </tr>\n",
       "    <tr>\n",
       "      <th>826</th>\n",
       "      <td>ADNt2pp_copy2</td>\n",
       "      <td>adn_p + h_p &lt;=&gt; adn_c + h_c</td>\n",
       "      <td>{c, p}</td>\n",
       "      <td>(CIW80_05910)</td>\n",
       "    </tr>\n",
       "    <tr>\n",
       "      <th>2760</th>\n",
       "      <td>ALAt2pp_copy1</td>\n",
       "      <td>ala__L_p + h_p --&gt; ala__L_c + h_c</td>\n",
       "      <td>{c, p}</td>\n",
       "      <td>(CIW80_16415)</td>\n",
       "    </tr>\n",
       "    <tr>\n",
       "      <th>2756</th>\n",
       "      <td>ASPt2pp_copy1</td>\n",
       "      <td>asp__L_p + h_p --&gt; asp__L_c + h_c</td>\n",
       "      <td>{c, p}</td>\n",
       "      <td>(CIW80_15645)</td>\n",
       "    </tr>\n",
       "    <tr>\n",
       "      <th>2744</th>\n",
       "      <td>CTECOAI6_copy1</td>\n",
       "      <td>tdecoa_c &lt;=&gt; td2coa_c</td>\n",
       "      <td>{c}</td>\n",
       "      <td>(CIW80_14210)</td>\n",
       "    </tr>\n",
       "    <tr>\n",
       "      <th>2743</th>\n",
       "      <td>CTECOAI6_copy2</td>\n",
       "      <td>tdecoa_c --&gt; td2coa_c</td>\n",
       "      <td>{c}</td>\n",
       "      <td>(CIW80_14210)</td>\n",
       "    </tr>\n",
       "    <tr>\n",
       "      <th>2746</th>\n",
       "      <td>CTECOAI7_copy1</td>\n",
       "      <td>hdcoa_c &lt;=&gt; hdd2coa_c</td>\n",
       "      <td>{c}</td>\n",
       "      <td>(CIW80_14210)</td>\n",
       "    </tr>\n",
       "    <tr>\n",
       "      <th>2747</th>\n",
       "      <td>CTECOAI7_copy2</td>\n",
       "      <td>hdcoa_c --&gt; hdd2coa_c</td>\n",
       "      <td>{c}</td>\n",
       "      <td>(CIW80_14210)</td>\n",
       "    </tr>\n",
       "    <tr>\n",
       "      <th>2742</th>\n",
       "      <td>CTECOAI8_copy1</td>\n",
       "      <td>odecoa_c &lt;=&gt; od2coa_c</td>\n",
       "      <td>{c}</td>\n",
       "      <td>(CIW80_14210)</td>\n",
       "    </tr>\n",
       "    <tr>\n",
       "      <th>2745</th>\n",
       "      <td>CTECOAI8_copy2</td>\n",
       "      <td>odecoa_c --&gt; od2coa_c</td>\n",
       "      <td>{c}</td>\n",
       "      <td>(CIW80_14210)</td>\n",
       "    </tr>\n",
       "    <tr>\n",
       "      <th>864</th>\n",
       "      <td>CYTDt2pp_copy1</td>\n",
       "      <td>cytd_p + h_p --&gt; cytd_c + h_c</td>\n",
       "      <td>{c, p}</td>\n",
       "      <td>(CIW80_08585, CIW80_05845)</td>\n",
       "    </tr>\n",
       "    <tr>\n",
       "      <th>865</th>\n",
       "      <td>CYTDt2pp_copy2</td>\n",
       "      <td>cytd_p + h_p &lt;=&gt; cytd_c + h_c</td>\n",
       "      <td>{c, p}</td>\n",
       "      <td>(CIW80_05910)</td>\n",
       "    </tr>\n",
       "    <tr>\n",
       "      <th>2772</th>\n",
       "      <td>DADK_copy1</td>\n",
       "      <td>atp_c + damp_c &lt;=&gt; adp_c + dadp_c</td>\n",
       "      <td>{c}</td>\n",
       "      <td>(CIW80_20510)</td>\n",
       "    </tr>\n",
       "    <tr>\n",
       "      <th>2771</th>\n",
       "      <td>DADK_copy2</td>\n",
       "      <td>atp_c + damp_c &lt;=&gt; adp_c + dadp_c</td>\n",
       "      <td>{c}</td>\n",
       "      <td>(CIW80_20510)</td>\n",
       "    </tr>\n",
       "    <tr>\n",
       "      <th>2808</th>\n",
       "      <td>FADRx_copy1</td>\n",
       "      <td>fad_c + h_c + nadh_c --&gt; fadh2_c + nad_c</td>\n",
       "      <td>{c}</td>\n",
       "      <td>(CIW80_14200)</td>\n",
       "    </tr>\n",
       "    <tr>\n",
       "      <th>2842</th>\n",
       "      <td>FADRx_copy2</td>\n",
       "      <td>fad_c + h_c + nadh_c --&gt; fadh2_c + nad_c</td>\n",
       "      <td>{c}</td>\n",
       "      <td>(CIW80_04305)</td>\n",
       "    </tr>\n",
       "    <tr>\n",
       "      <th>2811</th>\n",
       "      <td>FEENTERtex_copy1</td>\n",
       "      <td>enter_p + h_p --&gt; enter_e + h_c</td>\n",
       "      <td>{e, c, p}</td>\n",
       "      <td>(CIW80_09625)</td>\n",
       "    </tr>\n",
       "    <tr>\n",
       "      <th>2857</th>\n",
       "      <td>FEENTERtex_copy2</td>\n",
       "      <td>enter_p + h_p --&gt; enter_e + h_c</td>\n",
       "      <td>{e, c, p}</td>\n",
       "      <td>(CIW80_13505)</td>\n",
       "    </tr>\n",
       "    <tr>\n",
       "      <th>875</th>\n",
       "      <td>GLCtex_copy1</td>\n",
       "      <td>glc__D_e --&gt; glc__D_p</td>\n",
       "      <td>{e, p}</td>\n",
       "      <td>(CIW80_15320)</td>\n",
       "    </tr>\n",
       "    <tr>\n",
       "      <th>1849</th>\n",
       "      <td>GLCtex_copy2</td>\n",
       "      <td>glc__D_e &lt;=&gt; glc__D_p</td>\n",
       "      <td>{e, p}</td>\n",
       "      <td>(CIW80_25725, CIW80_22660, CIW80_05020, CIW80_...</td>\n",
       "    </tr>\n",
       "    <tr>\n",
       "      <th>2757</th>\n",
       "      <td>GLYBt2pp_copy1</td>\n",
       "      <td>glyb_p + h_p --&gt; glyb_c + h_c</td>\n",
       "      <td>{c, p}</td>\n",
       "      <td>(CIW80_15850)</td>\n",
       "    </tr>\n",
       "    <tr>\n",
       "      <th>2758</th>\n",
       "      <td>GLYBt2pp_copy2</td>\n",
       "      <td>glyb_p + h_p &lt;=&gt; glyb_c + h_c</td>\n",
       "      <td>{c, p}</td>\n",
       "      <td>(CIW80_15850)</td>\n",
       "    </tr>\n",
       "    <tr>\n",
       "      <th>2761</th>\n",
       "      <td>GLYt2pp_copy1</td>\n",
       "      <td>gly_p + h_p --&gt; gly_c + h_c</td>\n",
       "      <td>{c, p}</td>\n",
       "      <td>(CIW80_16415)</td>\n",
       "    </tr>\n",
       "    <tr>\n",
       "      <th>2617</th>\n",
       "      <td>GTHPi_copy1</td>\n",
       "      <td>2.0 gthrd_c + h2o2_c --&gt; gthox_c + 2.0 h2o_c</td>\n",
       "      <td>{c}</td>\n",
       "      <td>(CIW80_01430)</td>\n",
       "    </tr>\n",
       "    <tr>\n",
       "      <th>2618</th>\n",
       "      <td>GTHPi_copy2</td>\n",
       "      <td>2.0 gthrd_c + h2o2_c --&gt; gthox_c + 2.0 h2o_c</td>\n",
       "      <td>{c}</td>\n",
       "      <td>(CIW80_01430)</td>\n",
       "    </tr>\n",
       "    <tr>\n",
       "      <th>241</th>\n",
       "      <td>ICHORS_copy1</td>\n",
       "      <td>chor_c --&gt; ichor_c</td>\n",
       "      <td>{c}</td>\n",
       "      <td>(CIW80_20975)</td>\n",
       "    </tr>\n",
       "    <tr>\n",
       "      <th>267</th>\n",
       "      <td>ICHORS_copy2</td>\n",
       "      <td>chor_c &lt;=&gt; ichor_c</td>\n",
       "      <td>{c}</td>\n",
       "      <td>(CIW80_05275)</td>\n",
       "    </tr>\n",
       "    <tr>\n",
       "      <th>2705</th>\n",
       "      <td>INSt2pp_copy1</td>\n",
       "      <td>h_p + ins_p --&gt; h_c + ins_c</td>\n",
       "      <td>{c, p}</td>\n",
       "      <td>(CIW80_08585)</td>\n",
       "    </tr>\n",
       "    <tr>\n",
       "      <th>2683</th>\n",
       "      <td>INSt2pp_copy2</td>\n",
       "      <td>h_p + ins_p &lt;=&gt; h_c + ins_c</td>\n",
       "      <td>{c, p}</td>\n",
       "      <td>(CIW80_05910)</td>\n",
       "    </tr>\n",
       "    <tr>\n",
       "      <th>2687</th>\n",
       "      <td>PRASCSi_copy1</td>\n",
       "      <td>5aizc_c + asp__L_c + atp_c --&gt; 25aics_c + adp_...</td>\n",
       "      <td>{c}</td>\n",
       "      <td>(CIW80_06235)</td>\n",
       "    </tr>\n",
       "    <tr>\n",
       "      <th>2688</th>\n",
       "      <td>PRASCSi_copy2</td>\n",
       "      <td>5aizc_c + asp__L_c + atp_c &lt;=&gt; 25aics_c + adp_...</td>\n",
       "      <td>{c}</td>\n",
       "      <td>(CIW80_06235)</td>\n",
       "    </tr>\n",
       "    <tr>\n",
       "      <th>722</th>\n",
       "      <td>THMDt2pp_copy1</td>\n",
       "      <td>h_p + thymd_p --&gt; h_c + thymd_c</td>\n",
       "      <td>{c, p}</td>\n",
       "      <td>(CIW80_08585, CIW80_05845)</td>\n",
       "    </tr>\n",
       "    <tr>\n",
       "      <th>742</th>\n",
       "      <td>THMDt2pp_copy2</td>\n",
       "      <td>h_p + thymd_p &lt;=&gt; h_c + thymd_c</td>\n",
       "      <td>{c, p}</td>\n",
       "      <td>(CIW80_05910)</td>\n",
       "    </tr>\n",
       "    <tr>\n",
       "      <th>2820</th>\n",
       "      <td>UAG4Ei_copy1</td>\n",
       "      <td>uacgam_c --&gt; udpacgal_c</td>\n",
       "      <td>{c}</td>\n",
       "      <td>(CIW80_03965)</td>\n",
       "    </tr>\n",
       "    <tr>\n",
       "      <th>2819</th>\n",
       "      <td>UAG4Ei_copy2</td>\n",
       "      <td>uacgam_c --&gt; udpacgal_c</td>\n",
       "      <td>{c}</td>\n",
       "      <td>(CIW80_03965)</td>\n",
       "    </tr>\n",
       "    <tr>\n",
       "      <th>2689</th>\n",
       "      <td>URAt2pp_copy1</td>\n",
       "      <td>h_p + ura_p --&gt; h_c + ura_c</td>\n",
       "      <td>{c, p}</td>\n",
       "      <td>(CIW80_06280)</td>\n",
       "    </tr>\n",
       "    <tr>\n",
       "      <th>2790</th>\n",
       "      <td>URAt2pp_copy2</td>\n",
       "      <td>h_p + ura_p &lt;=&gt; h_c + ura_c</td>\n",
       "      <td>{c, p}</td>\n",
       "      <td>(CIW80_22995)</td>\n",
       "    </tr>\n",
       "    <tr>\n",
       "      <th>747</th>\n",
       "      <td>URIt2pp_copy1</td>\n",
       "      <td>h_p + uri_p --&gt; h_c + uri_c</td>\n",
       "      <td>{c, p}</td>\n",
       "      <td>(CIW80_08585, CIW80_05845)</td>\n",
       "    </tr>\n",
       "    <tr>\n",
       "      <th>748</th>\n",
       "      <td>URIt2pp_copy2</td>\n",
       "      <td>h_p + uri_p &lt;=&gt; h_c + uri_c</td>\n",
       "      <td>{c, p}</td>\n",
       "      <td>(CIW80_05910)</td>\n",
       "    </tr>\n",
       "    <tr>\n",
       "      <th>2719</th>\n",
       "      <td>VPAMTr_copy1</td>\n",
       "      <td>3mob_c + ala__L_c &lt;=&gt; pyr_c + val__L_c</td>\n",
       "      <td>{c}</td>\n",
       "      <td>(CIW80_12580)</td>\n",
       "    </tr>\n",
       "    <tr>\n",
       "      <th>2720</th>\n",
       "      <td>VPAMTr_copy2</td>\n",
       "      <td>3mob_c + ala__L_c --&gt; pyr_c + val__L_c</td>\n",
       "      <td>{c}</td>\n",
       "      <td>(CIW80_12580)</td>\n",
       "    </tr>\n",
       "  </tbody>\n",
       "</table>\n",
       "</div>"
      ],
      "text/plain": [
       "                    ID                                            formula  \\\n",
       "2862   12PPDStpp_copy2                          12ppd__S_p <=> 12ppd__S_c   \n",
       "2833   2HH24DDH1_copy1                    2hh24dd_c + h2o_c --> 24dhhed_c   \n",
       "2834   2HH24DDH1_copy2                    2hh24dd_c + h2o_c <=> 24dhhed_c   \n",
       "825      ADNt2pp_copy1                        adn_p + h_p --> adn_c + h_c   \n",
       "826      ADNt2pp_copy2                        adn_p + h_p <=> adn_c + h_c   \n",
       "2760     ALAt2pp_copy1                  ala__L_p + h_p --> ala__L_c + h_c   \n",
       "2756     ASPt2pp_copy1                  asp__L_p + h_p --> asp__L_c + h_c   \n",
       "2744    CTECOAI6_copy1                              tdecoa_c <=> td2coa_c   \n",
       "2743    CTECOAI6_copy2                              tdecoa_c --> td2coa_c   \n",
       "2746    CTECOAI7_copy1                              hdcoa_c <=> hdd2coa_c   \n",
       "2747    CTECOAI7_copy2                              hdcoa_c --> hdd2coa_c   \n",
       "2742    CTECOAI8_copy1                              odecoa_c <=> od2coa_c   \n",
       "2745    CTECOAI8_copy2                              odecoa_c --> od2coa_c   \n",
       "864     CYTDt2pp_copy1                      cytd_p + h_p --> cytd_c + h_c   \n",
       "865     CYTDt2pp_copy2                      cytd_p + h_p <=> cytd_c + h_c   \n",
       "2772        DADK_copy1                  atp_c + damp_c <=> adp_c + dadp_c   \n",
       "2771        DADK_copy2                  atp_c + damp_c <=> adp_c + dadp_c   \n",
       "2808       FADRx_copy1           fad_c + h_c + nadh_c --> fadh2_c + nad_c   \n",
       "2842       FADRx_copy2           fad_c + h_c + nadh_c --> fadh2_c + nad_c   \n",
       "2811  FEENTERtex_copy1                    enter_p + h_p --> enter_e + h_c   \n",
       "2857  FEENTERtex_copy2                    enter_p + h_p --> enter_e + h_c   \n",
       "875       GLCtex_copy1                              glc__D_e --> glc__D_p   \n",
       "1849      GLCtex_copy2                              glc__D_e <=> glc__D_p   \n",
       "2757    GLYBt2pp_copy1                      glyb_p + h_p --> glyb_c + h_c   \n",
       "2758    GLYBt2pp_copy2                      glyb_p + h_p <=> glyb_c + h_c   \n",
       "2761     GLYt2pp_copy1                        gly_p + h_p --> gly_c + h_c   \n",
       "2617       GTHPi_copy1       2.0 gthrd_c + h2o2_c --> gthox_c + 2.0 h2o_c   \n",
       "2618       GTHPi_copy2       2.0 gthrd_c + h2o2_c --> gthox_c + 2.0 h2o_c   \n",
       "241       ICHORS_copy1                                 chor_c --> ichor_c   \n",
       "267       ICHORS_copy2                                 chor_c <=> ichor_c   \n",
       "2705     INSt2pp_copy1                        h_p + ins_p --> h_c + ins_c   \n",
       "2683     INSt2pp_copy2                        h_p + ins_p <=> h_c + ins_c   \n",
       "2687     PRASCSi_copy1  5aizc_c + asp__L_c + atp_c --> 25aics_c + adp_...   \n",
       "2688     PRASCSi_copy2  5aizc_c + asp__L_c + atp_c <=> 25aics_c + adp_...   \n",
       "722     THMDt2pp_copy1                    h_p + thymd_p --> h_c + thymd_c   \n",
       "742     THMDt2pp_copy2                    h_p + thymd_p <=> h_c + thymd_c   \n",
       "2820      UAG4Ei_copy1                            uacgam_c --> udpacgal_c   \n",
       "2819      UAG4Ei_copy2                            uacgam_c --> udpacgal_c   \n",
       "2689     URAt2pp_copy1                        h_p + ura_p --> h_c + ura_c   \n",
       "2790     URAt2pp_copy2                        h_p + ura_p <=> h_c + ura_c   \n",
       "747      URIt2pp_copy1                        h_p + uri_p --> h_c + uri_c   \n",
       "748      URIt2pp_copy2                        h_p + uri_p <=> h_c + uri_c   \n",
       "2719      VPAMTr_copy1             3mob_c + ala__L_c <=> pyr_c + val__L_c   \n",
       "2720      VPAMTr_copy2             3mob_c + ala__L_c --> pyr_c + val__L_c   \n",
       "\n",
       "     compartment                                              genes  \n",
       "2862      {c, p}                                      (CIW80_14645)  \n",
       "2833         {c}                                      (CIW80_04280)  \n",
       "2834         {c}                                      (CIW80_04280)  \n",
       "825       {c, p}                         (CIW80_08585, CIW80_05845)  \n",
       "826       {c, p}                                      (CIW80_05910)  \n",
       "2760      {c, p}                                      (CIW80_16415)  \n",
       "2756      {c, p}                                      (CIW80_15645)  \n",
       "2744         {c}                                      (CIW80_14210)  \n",
       "2743         {c}                                      (CIW80_14210)  \n",
       "2746         {c}                                      (CIW80_14210)  \n",
       "2747         {c}                                      (CIW80_14210)  \n",
       "2742         {c}                                      (CIW80_14210)  \n",
       "2745         {c}                                      (CIW80_14210)  \n",
       "864       {c, p}                         (CIW80_08585, CIW80_05845)  \n",
       "865       {c, p}                                      (CIW80_05910)  \n",
       "2772         {c}                                      (CIW80_20510)  \n",
       "2771         {c}                                      (CIW80_20510)  \n",
       "2808         {c}                                      (CIW80_14200)  \n",
       "2842         {c}                                      (CIW80_04305)  \n",
       "2811   {e, c, p}                                      (CIW80_09625)  \n",
       "2857   {e, c, p}                                      (CIW80_13505)  \n",
       "875       {e, p}                                      (CIW80_15320)  \n",
       "1849      {e, p}  (CIW80_25725, CIW80_22660, CIW80_05020, CIW80_...  \n",
       "2757      {c, p}                                      (CIW80_15850)  \n",
       "2758      {c, p}                                      (CIW80_15850)  \n",
       "2761      {c, p}                                      (CIW80_16415)  \n",
       "2617         {c}                                      (CIW80_01430)  \n",
       "2618         {c}                                      (CIW80_01430)  \n",
       "241          {c}                                      (CIW80_20975)  \n",
       "267          {c}                                      (CIW80_05275)  \n",
       "2705      {c, p}                                      (CIW80_08585)  \n",
       "2683      {c, p}                                      (CIW80_05910)  \n",
       "2687         {c}                                      (CIW80_06235)  \n",
       "2688         {c}                                      (CIW80_06235)  \n",
       "722       {c, p}                         (CIW80_08585, CIW80_05845)  \n",
       "742       {c, p}                                      (CIW80_05910)  \n",
       "2820         {c}                                      (CIW80_03965)  \n",
       "2819         {c}                                      (CIW80_03965)  \n",
       "2689      {c, p}                                      (CIW80_06280)  \n",
       "2790      {c, p}                                      (CIW80_22995)  \n",
       "747       {c, p}                         (CIW80_08585, CIW80_05845)  \n",
       "748       {c, p}                                      (CIW80_05910)  \n",
       "2719         {c}                                      (CIW80_12580)  \n",
       "2720         {c}                                      (CIW80_12580)  "
      ]
     },
     "execution_count": 6,
     "metadata": {},
     "output_type": "execute_result"
    }
   ],
   "source": [
    "# There might be more reactions that are similar, but have different reversibility\n",
    "# Therefore, instead find all the genes that are labelled \"copy\"\n",
    "gene_copies = reaction_df[reaction_df['ID'].str.contains(\"copy\")].sort_values('ID')\n",
    "gene_copies"
   ]
  },
  {
   "cell_type": "markdown",
   "metadata": {},
   "source": [
    "## 3. Remove duplicates (copies)"
   ]
  },
  {
   "cell_type": "markdown",
   "metadata": {},
   "source": [
    "### 12PPDStpp\n",
    "\n",
    "There are two versions:\n",
    "- Original: Reversible reaction, but without GPR\n",
    "- Copy2: Reversible reaction, but with gene"
   ]
  },
  {
   "cell_type": "code",
   "execution_count": 7,
   "metadata": {},
   "outputs": [
    {
     "data": {
      "text/html": [
       "\n",
       "        <table>\n",
       "            <tr>\n",
       "                <td><strong>Reaction identifier</strong></td><td>12PPDStpp</td>\n",
       "            </tr><tr>\n",
       "                <td><strong>Name</strong></td><td>(S)-Propane-1,2-diol facilitated transport (periplasm)</td>\n",
       "            </tr><tr>\n",
       "                <td><strong>Memory address</strong></td>\n",
       "                <td>0x01ed41bc5d48</td>\n",
       "            </tr><tr>\n",
       "                <td><strong>Stoichiometry</strong></td>\n",
       "                <td>\n",
       "                    <p style='text-align:right'>12ppd__S_p <=> 12ppd__S_c</p>\n",
       "                    <p style='text-align:right'>(S)-Propane-1,2-diol <=> (S)-Propane-1,2-diol</p>\n",
       "                </td>\n",
       "            </tr><tr>\n",
       "                <td><strong>GPR</strong></td><td></td>\n",
       "            </tr><tr>\n",
       "                <td><strong>Lower bound</strong></td><td>-1000.0</td>\n",
       "            </tr><tr>\n",
       "                <td><strong>Upper bound</strong></td><td>1000.0</td>\n",
       "            </tr>\n",
       "        </table>\n",
       "        "
      ],
      "text/plain": [
       "<Reaction 12PPDStpp at 0x1ed41bc5d48>"
      ]
     },
     "execution_count": 7,
     "metadata": {},
     "output_type": "execute_result"
    }
   ],
   "source": [
    "modelCopy.reactions.get_by_id('12PPDStpp')"
   ]
  },
  {
   "cell_type": "code",
   "execution_count": 8,
   "metadata": {},
   "outputs": [
    {
     "data": {
      "text/html": [
       "\n",
       "        <table>\n",
       "            <tr>\n",
       "                <td><strong>Reaction identifier</strong></td><td>12PPDStpp_copy2</td>\n",
       "            </tr><tr>\n",
       "                <td><strong>Name</strong></td><td>(S)-Propane-1,2-diol facilitated transport (periplasm)</td>\n",
       "            </tr><tr>\n",
       "                <td><strong>Memory address</strong></td>\n",
       "                <td>0x01ed41b0c7c8</td>\n",
       "            </tr><tr>\n",
       "                <td><strong>Stoichiometry</strong></td>\n",
       "                <td>\n",
       "                    <p style='text-align:right'>12ppd__S_p <=> 12ppd__S_c</p>\n",
       "                    <p style='text-align:right'>(S)-Propane-1,2-diol <=> (S)-Propane-1,2-diol</p>\n",
       "                </td>\n",
       "            </tr><tr>\n",
       "                <td><strong>GPR</strong></td><td>CIW80_14645</td>\n",
       "            </tr><tr>\n",
       "                <td><strong>Lower bound</strong></td><td>-1000.0</td>\n",
       "            </tr><tr>\n",
       "                <td><strong>Upper bound</strong></td><td>1000.0</td>\n",
       "            </tr>\n",
       "        </table>\n",
       "        "
      ],
      "text/plain": [
       "<Reaction 12PPDStpp_copy2 at 0x1ed41b0c7c8>"
      ]
     },
     "execution_count": 8,
     "metadata": {},
     "output_type": "execute_result"
    }
   ],
   "source": [
    "modelCopy.reactions.get_by_id('12PPDStpp_copy2')"
   ]
  },
  {
   "cell_type": "markdown",
   "metadata": {},
   "source": [
    "The reactions are exactly the same, except that the original is lacking a GPR. Remove the original version and rename copy2"
   ]
  },
  {
   "cell_type": "code",
   "execution_count": 9,
   "metadata": {},
   "outputs": [],
   "source": [
    "# Remove the original reaction lacking the GPR\n",
    "modelCopy.remove_reactions(['12PPDStpp'])\n",
    "\n",
    "# Rename copy2\n",
    "modelCopy.reactions.get_by_id('12PPDStpp_copy2').id = '12PPDStpp'"
   ]
  },
  {
   "cell_type": "code",
   "execution_count": 10,
   "metadata": {},
   "outputs": [],
   "source": [
    "# Edit in reaction overview\n",
    "rxn_origin_df.loc['12PPDStpp', 'added'] = 'removed'\n",
    "rxn_origin_df.loc['12PPDStpp', 'notes'] = 'GPR was missing. Removed in 4.1. \"_copy2\" was kept as correct reaction and renamed \"12PPDStpp\".'\n",
    "\n",
    "rxn_origin_df.loc['12PPDStpp_copy2', 'notes'] = 'Renamed to 12PPDStpp in 4.1. Original reaction missed GPR and was removed'"
   ]
  },
  {
   "cell_type": "code",
   "execution_count": 11,
   "metadata": {
    "scrolled": true
   },
   "outputs": [
    {
     "data": {
      "text/html": [
       "\n",
       "        <table>\n",
       "            <tr>\n",
       "                <td><strong>Reaction identifier</strong></td><td>12PPDStpp</td>\n",
       "            </tr><tr>\n",
       "                <td><strong>Name</strong></td><td>(S)-Propane-1,2-diol facilitated transport (periplasm)</td>\n",
       "            </tr><tr>\n",
       "                <td><strong>Memory address</strong></td>\n",
       "                <td>0x01ed41b0c7c8</td>\n",
       "            </tr><tr>\n",
       "                <td><strong>Stoichiometry</strong></td>\n",
       "                <td>\n",
       "                    <p style='text-align:right'>12ppd__S_p <=> 12ppd__S_c</p>\n",
       "                    <p style='text-align:right'>(S)-Propane-1,2-diol <=> (S)-Propane-1,2-diol</p>\n",
       "                </td>\n",
       "            </tr><tr>\n",
       "                <td><strong>GPR</strong></td><td>CIW80_14645</td>\n",
       "            </tr><tr>\n",
       "                <td><strong>Lower bound</strong></td><td>-1000.0</td>\n",
       "            </tr><tr>\n",
       "                <td><strong>Upper bound</strong></td><td>1000.0</td>\n",
       "            </tr>\n",
       "        </table>\n",
       "        "
      ],
      "text/plain": [
       "<Reaction 12PPDStpp at 0x1ed41b0c7c8>"
      ]
     },
     "execution_count": 11,
     "metadata": {},
     "output_type": "execute_result"
    }
   ],
   "source": [
    "modelCopy.reactions.get_by_id('12PPDStpp')"
   ]
  },
  {
   "cell_type": "markdown",
   "metadata": {},
   "source": [
    "### 2HH24DDH1\n",
    "\n",
    "There are two versions:\n",
    "- Copy1: One-direction reaction, same gene as original\n",
    "- Copy2: Reversible reaction, same gene as original\n",
    "\n",
    "The reaction 2HH24DDH has a different reaction product"
   ]
  },
  {
   "cell_type": "code",
   "execution_count": 12,
   "metadata": {},
   "outputs": [
    {
     "data": {
      "text/html": [
       "\n",
       "        <table>\n",
       "            <tr>\n",
       "                <td><strong>Reaction identifier</strong></td><td>2HH24DDH</td>\n",
       "            </tr><tr>\n",
       "                <td><strong>Name</strong></td><td>2hh24dd hydratase</td>\n",
       "            </tr><tr>\n",
       "                <td><strong>Memory address</strong></td>\n",
       "                <td>0x01ed41b1a488</td>\n",
       "            </tr><tr>\n",
       "                <td><strong>Stoichiometry</strong></td>\n",
       "                <td>\n",
       "                    <p style='text-align:right'>2hh24dd_c + h2o_c --> 4h2kpi_c</p>\n",
       "                    <p style='text-align:right'>2-Hydroxyhepta-2-4-dienedioate + H2O H2O --> 4-Hydroxy-2-ketopimelate</p>\n",
       "                </td>\n",
       "            </tr><tr>\n",
       "                <td><strong>GPR</strong></td><td>CIW80_04280</td>\n",
       "            </tr><tr>\n",
       "                <td><strong>Lower bound</strong></td><td>0.0</td>\n",
       "            </tr><tr>\n",
       "                <td><strong>Upper bound</strong></td><td>1000.0</td>\n",
       "            </tr>\n",
       "        </table>\n",
       "        "
      ],
      "text/plain": [
       "<Reaction 2HH24DDH at 0x1ed41b1a488>"
      ]
     },
     "execution_count": 12,
     "metadata": {},
     "output_type": "execute_result"
    }
   ],
   "source": [
    "modelCopy.reactions.get_by_id('2HH24DDH')"
   ]
  },
  {
   "cell_type": "code",
   "execution_count": 13,
   "metadata": {},
   "outputs": [
    {
     "data": {
      "text/html": [
       "\n",
       "        <table>\n",
       "            <tr>\n",
       "                <td><strong>Reaction identifier</strong></td><td>2HH24DDH1_copy1</td>\n",
       "            </tr><tr>\n",
       "                <td><strong>Name</strong></td><td>2hh24dd hydratase</td>\n",
       "            </tr><tr>\n",
       "                <td><strong>Memory address</strong></td>\n",
       "                <td>0x01ed41b1a308</td>\n",
       "            </tr><tr>\n",
       "                <td><strong>Stoichiometry</strong></td>\n",
       "                <td>\n",
       "                    <p style='text-align:right'>2hh24dd_c + h2o_c --> 24dhhed_c</p>\n",
       "                    <p style='text-align:right'>2-Hydroxyhepta-2-4-dienedioate + H2O H2O --> 2,4-Dihydroxyhept-2-enedioate</p>\n",
       "                </td>\n",
       "            </tr><tr>\n",
       "                <td><strong>GPR</strong></td><td>CIW80_04280</td>\n",
       "            </tr><tr>\n",
       "                <td><strong>Lower bound</strong></td><td>0.0</td>\n",
       "            </tr><tr>\n",
       "                <td><strong>Upper bound</strong></td><td>1000.0</td>\n",
       "            </tr>\n",
       "        </table>\n",
       "        "
      ],
      "text/plain": [
       "<Reaction 2HH24DDH1_copy1 at 0x1ed41b1a308>"
      ]
     },
     "execution_count": 13,
     "metadata": {},
     "output_type": "execute_result"
    }
   ],
   "source": [
    "modelCopy.reactions.get_by_id('2HH24DDH1_copy1')"
   ]
  },
  {
   "cell_type": "code",
   "execution_count": 14,
   "metadata": {
    "scrolled": true
   },
   "outputs": [
    {
     "data": {
      "text/html": [
       "\n",
       "        <table>\n",
       "            <tr>\n",
       "                <td><strong>Reaction identifier</strong></td><td>2HH24DDH1_copy2</td>\n",
       "            </tr><tr>\n",
       "                <td><strong>Name</strong></td><td>2hh24dd hydratase</td>\n",
       "            </tr><tr>\n",
       "                <td><strong>Memory address</strong></td>\n",
       "                <td>0x01ed41b1a408</td>\n",
       "            </tr><tr>\n",
       "                <td><strong>Stoichiometry</strong></td>\n",
       "                <td>\n",
       "                    <p style='text-align:right'>2hh24dd_c + h2o_c <=> 24dhhed_c</p>\n",
       "                    <p style='text-align:right'>2-Hydroxyhepta-2-4-dienedioate + H2O H2O <=> 2,4-Dihydroxyhept-2-enedioate</p>\n",
       "                </td>\n",
       "            </tr><tr>\n",
       "                <td><strong>GPR</strong></td><td>CIW80_04280</td>\n",
       "            </tr><tr>\n",
       "                <td><strong>Lower bound</strong></td><td>-1000.0</td>\n",
       "            </tr><tr>\n",
       "                <td><strong>Upper bound</strong></td><td>1000.0</td>\n",
       "            </tr>\n",
       "        </table>\n",
       "        "
      ],
      "text/plain": [
       "<Reaction 2HH24DDH1_copy2 at 0x1ed41b1a408>"
      ]
     },
     "execution_count": 14,
     "metadata": {},
     "output_type": "execute_result"
    }
   ],
   "source": [
    "modelCopy.reactions.get_by_id('2HH24DDH1_copy2')"
   ]
  },
  {
   "cell_type": "markdown",
   "metadata": {},
   "source": [
    "All models on the BiGG database have the reaction in one direction. Remove the second copy"
   ]
  },
  {
   "cell_type": "code",
   "execution_count": 15,
   "metadata": {},
   "outputs": [],
   "source": [
    "# Remove the second copy\n",
    "modelCopy.remove_reactions(['2HH24DDH1_copy2'])\n",
    "\n",
    "# Rename copy1\n",
    "modelCopy.reactions.get_by_id('2HH24DDH1_copy1').id = '2HH24DDH1'"
   ]
  },
  {
   "cell_type": "code",
   "execution_count": 16,
   "metadata": {},
   "outputs": [],
   "source": [
    "# Edit in reaction overview\n",
    "rxn_origin_df.loc['2HH24DDH1_copy2', 'added'] = 'removed'\n",
    "rxn_origin_df.loc['2HH24DDH1_copy2', 'notes'] = 'Removed in 4.1. \"_copy1\" was kept as correct reaction and renamed \"2HH24DDH1\".'\n",
    "\n",
    "rxn_origin_df.loc['2HH24DDH1_copy1', 'notes'] = 'Renamed to 2HH24DDH1 in 4.1.'"
   ]
  },
  {
   "cell_type": "markdown",
   "metadata": {},
   "source": [
    "### ADNt2pp, CYTDt2pp, INSt2pp, THMDt2pp & URIt2pp\n",
    "\n",
    "For ADNt2pp there are three versions:\n",
    "- Original: One-direction reaction (fwd)\n",
    "- Copy1: One-direction reaction (fwd), same genes as original\n",
    "- Copy2: Reversible reaction (but different gene)\n",
    "\n",
    "All three genes have the product \"nucleoside permease\" in the genbank file > https://www.ncbi.nlm.nih.gov/nuccore/CP007799.1/\n",
    "\n",
    "For CYTDt2pp there are two versions:\n",
    "- Copy1: One-direction reaction\n",
    "- Copy2: Reversible reaction\n",
    "\n",
    "For INSt2pp there are three versions:\n",
    "- Original: One-direction reaction (fwd)\n",
    "- Copy1: One-direction reaction (fwd), same gene as original, but also missing two that the original has\n",
    "- Copy2: Bi-directional reaction, same gene as original (other than copy1), but also missing two that the original has\n",
    "\n",
    "For THMDt2pp there are three versions:\n",
    "- Original:  One-direction reaction (fwd), with two genes\n",
    "- Copy1: One-direction reaction (fwd), with same genes as original\n",
    "- Copy2: Bi-directional reaction, with different genes as original and copy1\n",
    "\n",
    "For URIt2pp there are two versions:\n",
    "- Copy1: One-direction reaction\n",
    "- Copy2: Reversible reaction\n",
    "\n",
    "All four symport systems are performed by the same genes ('CIW80_08585 or CIW80_05910 or CIW80_05845')"
   ]
  },
  {
   "cell_type": "code",
   "execution_count": 17,
   "metadata": {},
   "outputs": [
    {
     "data": {
      "text/html": [
       "\n",
       "        <table>\n",
       "            <tr>\n",
       "                <td><strong>Reaction identifier</strong></td><td>INSt2pp</td>\n",
       "            </tr><tr>\n",
       "                <td><strong>Name</strong></td><td>Inosine transport in via proton symport (periplasm)</td>\n",
       "            </tr><tr>\n",
       "                <td><strong>Memory address</strong></td>\n",
       "                <td>0x01ed41c33c08</td>\n",
       "            </tr><tr>\n",
       "                <td><strong>Stoichiometry</strong></td>\n",
       "                <td>\n",
       "                    <p style='text-align:right'>h_p + ins_p --> h_c + ins_c</p>\n",
       "                    <p style='text-align:right'>H+ + Inosine --> H+ + Inosine</p>\n",
       "                </td>\n",
       "            </tr><tr>\n",
       "                <td><strong>GPR</strong></td><td>CIW80_08585 or CIW80_05910 or CIW80_05845</td>\n",
       "            </tr><tr>\n",
       "                <td><strong>Lower bound</strong></td><td>0.0</td>\n",
       "            </tr><tr>\n",
       "                <td><strong>Upper bound</strong></td><td>1000.0</td>\n",
       "            </tr>\n",
       "        </table>\n",
       "        "
      ],
      "text/plain": [
       "<Reaction INSt2pp at 0x1ed41c33c08>"
      ]
     },
     "execution_count": 17,
     "metadata": {},
     "output_type": "execute_result"
    }
   ],
   "source": [
    "modelCopy.reactions.INSt2pp"
   ]
  },
  {
   "cell_type": "code",
   "execution_count": 18,
   "metadata": {},
   "outputs": [
    {
     "data": {
      "text/html": [
       "\n",
       "        <table>\n",
       "            <tr>\n",
       "                <td><strong>Reaction identifier</strong></td><td>INSt2pp_copy1</td>\n",
       "            </tr><tr>\n",
       "                <td><strong>Name</strong></td><td>Inosine transport in via proton symport (periplasm)</td>\n",
       "            </tr><tr>\n",
       "                <td><strong>Memory address</strong></td>\n",
       "                <td>0x01ed41b2c508</td>\n",
       "            </tr><tr>\n",
       "                <td><strong>Stoichiometry</strong></td>\n",
       "                <td>\n",
       "                    <p style='text-align:right'>h_p + ins_p --> h_c + ins_c</p>\n",
       "                    <p style='text-align:right'>H+ + Inosine --> H+ + Inosine</p>\n",
       "                </td>\n",
       "            </tr><tr>\n",
       "                <td><strong>GPR</strong></td><td>CIW80_08585</td>\n",
       "            </tr><tr>\n",
       "                <td><strong>Lower bound</strong></td><td>0.0</td>\n",
       "            </tr><tr>\n",
       "                <td><strong>Upper bound</strong></td><td>1000.0</td>\n",
       "            </tr>\n",
       "        </table>\n",
       "        "
      ],
      "text/plain": [
       "<Reaction INSt2pp_copy1 at 0x1ed41b2c508>"
      ]
     },
     "execution_count": 18,
     "metadata": {},
     "output_type": "execute_result"
    }
   ],
   "source": [
    "modelCopy.reactions.INSt2pp_copy1"
   ]
  },
  {
   "cell_type": "code",
   "execution_count": 19,
   "metadata": {},
   "outputs": [
    {
     "data": {
      "text/html": [
       "\n",
       "        <table>\n",
       "            <tr>\n",
       "                <td><strong>Reaction identifier</strong></td><td>INSt2pp_copy2</td>\n",
       "            </tr><tr>\n",
       "                <td><strong>Name</strong></td><td>Inosine transport in via proton symport (periplasm)</td>\n",
       "            </tr><tr>\n",
       "                <td><strong>Memory address</strong></td>\n",
       "                <td>0x01ed41b2c6c8</td>\n",
       "            </tr><tr>\n",
       "                <td><strong>Stoichiometry</strong></td>\n",
       "                <td>\n",
       "                    <p style='text-align:right'>h_p + ins_p <=> h_c + ins_c</p>\n",
       "                    <p style='text-align:right'>H+ + Inosine <=> H+ + Inosine</p>\n",
       "                </td>\n",
       "            </tr><tr>\n",
       "                <td><strong>GPR</strong></td><td>CIW80_05910</td>\n",
       "            </tr><tr>\n",
       "                <td><strong>Lower bound</strong></td><td>-1000.0</td>\n",
       "            </tr><tr>\n",
       "                <td><strong>Upper bound</strong></td><td>1000.0</td>\n",
       "            </tr>\n",
       "        </table>\n",
       "        "
      ],
      "text/plain": [
       "<Reaction INSt2pp_copy2 at 0x1ed41b2c6c8>"
      ]
     },
     "execution_count": 19,
     "metadata": {},
     "output_type": "execute_result"
    }
   ],
   "source": [
    "modelCopy.reactions.INSt2pp_copy2"
   ]
  },
  {
   "cell_type": "markdown",
   "metadata": {},
   "source": [
    "ADNt2pp: Bi-directional, since it's a nucleoside (https://biocyc.org/compound?orgid=GCF_000714595&id=ADENOSINE#tab=RXNS)<br>\n",
    "CYTDt2pp: Bi-directional, since it's a nucleoside (https://biocyc.org/compound?orgid=GCF_000714595&id=CYTIDINE#tab=RXNS)<br>\n",
    "INSt2pp: Bi-directional, since it's a nucleoside (https://biocyc.org/compound?orgid=GCF_000714595&id=INOSINE#tab=RXNS)<br>\n",
    "THMDt2pp: Bi-directional, since it's a nucleoside (https://biocyc.org/compound?orgid=GCF_000714595&id=THYMIDINE#tab=RXNS)<br>\n",
    "URIt2pp: Bi-directional, since it's a nucleoside (https://biocyc.org/compound?orgid=GCF_000714595&id=URIDINE#tab=RXNS)<br>"
   ]
  },
  {
   "cell_type": "code",
   "execution_count": 20,
   "metadata": {},
   "outputs": [],
   "source": [
    "# Remove the one-directional reactions\n",
    "modelCopy.remove_reactions(['ADNt2pp', 'ADNt2pp_copy1',\n",
    "                            'CYTDt2pp_copy1', \n",
    "                            'INSt2pp', 'INSt2pp_copy1', \n",
    "                            'THMDt2pp','THMDt2pp_copy1',\n",
    "                            'URIt2pp_copy1'])\n",
    "\n",
    "# Rename the bi-directional reactions\n",
    "modelCopy.reactions.ADNt2pp_copy2.id = 'ADNt2pp'\n",
    "modelCopy.reactions.CYTDt2pp_copy2.id = 'CYTDt2pp'\n",
    "modelCopy.reactions.INSt2pp_copy2.id = 'INSt2pp'\n",
    "modelCopy.reactions.THMDt2pp_copy2.id = 'THMDt2pp'\n",
    "modelCopy.reactions.URIt2pp_copy2.id = 'URIt2pp'\n",
    "\n",
    "# Update the GPR\n",
    "modelCopy.reactions.ADNt2pp.gene_reaction_rule = 'CIW80_08585 or CIW80_05910 or CIW80_05845'\n",
    "modelCopy.reactions.CYTDt2pp.gene_reaction_rule = 'CIW80_08585 or CIW80_05910 or CIW80_05845'\n",
    "modelCopy.reactions.INSt2pp.gene_reaction_rule = 'CIW80_08585 or CIW80_05910 or CIW80_05845'\n",
    "modelCopy.reactions.THMDt2pp.gene_reaction_rule = 'CIW80_08585 or CIW80_05910 or CIW80_05845'\n",
    "modelCopy.reactions.URIt2pp.gene_reaction_rule = 'CIW80_08585 or CIW80_05910 or CIW80_05845'"
   ]
  },
  {
   "cell_type": "code",
   "execution_count": 21,
   "metadata": {},
   "outputs": [],
   "source": [
    "# Update the reaction overview\n",
    "\n",
    "# \"delete\" the incorrect genes\n",
    "for rxn in ['ADNt2pp', 'ADNt2pp_copy1','CYTDt2pp_copy1','INSt2pp', 'INSt2pp_copy1',\n",
    "            'THMDt2pp','THMDt2pp_copy1', 'URIt2pp_copy1']:\n",
    "    rxn_origin_df.loc[rxn, 'added'] = 'removed'\n",
    "    rxn_origin_df.loc[rxn, 'notes'] = 'Duplicate reaction. Removed in 4.1.\"%s_copy2\" was kept as correct reaction.'%rxn\n",
    "    \n",
    "# Update the note of \"_copy2\"\n",
    "for rxn in ['ADNt2pp_copy2', 'CYTDt2pp_copy2', 'INSt2pp_copy2', 'THMDt2pp_copy2', 'URIt2pp_copy2']:\n",
    "    rxn_origin_df.loc[rxn, 'notes'] = 'Renamed to %s in 4.1. Original reaction and/or \"_copy1\" was removed'%rxn"
   ]
  },
  {
   "cell_type": "markdown",
   "metadata": {},
   "source": [
    "### ALAt2pp, ASPt2pp, and GLYt2pp\n",
    "ALAt2pp, ASPt2pp, and GLYt2pp each have one copy. In all three cases the original and its copy are completely identical. Therefore the copies are removed"
   ]
  },
  {
   "cell_type": "code",
   "execution_count": 22,
   "metadata": {
    "scrolled": true
   },
   "outputs": [],
   "source": [
    "# Remove copies\n",
    "modelCopy.remove_reactions(['ALAt2pp_copy1', 'ASPt2pp_copy1', 'GLYt2pp_copy1'])\n",
    "\n",
    "# Edit in reaction overview\n",
    "for rxn in ['ALAt2pp_copy1', 'ASPt2pp_copy1', 'GLYt2pp_copy1']:\n",
    "    rxn_origin_df.loc[rxn, 'added'] = 'removed'\n",
    "    rxn_origin_df.loc[rxn, 'notes'] = 'Duplicate reaction. Removed in 4.1. Original was kept'"
   ]
  },
  {
   "cell_type": "markdown",
   "metadata": {},
   "source": [
    "### CTECOAI6, CTECOAI7, CTECOAI8\n",
    "All three reactions (CTECOAI6, CTECOAI7, CTECOAI8) are linked to the same gene (CIW80_14210 - fabB). In all cases there are three versions:\n",
    "- Original: Reversible reaction\n",
    "- Copy1: Reversible reaction, same as original\n",
    "- Copy2: One-direction reaction (fwd), same gene as copy1"
   ]
  },
  {
   "cell_type": "code",
   "execution_count": 23,
   "metadata": {},
   "outputs": [
    {
     "data": {
      "text/html": [
       "\n",
       "        <table>\n",
       "            <tr>\n",
       "                <td><strong>Reaction identifier</strong></td><td>CTECOAI7</td>\n",
       "            </tr><tr>\n",
       "                <td><strong>Name</strong></td><td>3-cis-2-trans-enoyl-CoA isomerase</td>\n",
       "            </tr><tr>\n",
       "                <td><strong>Memory address</strong></td>\n",
       "                <td>0x01ed41b68408</td>\n",
       "            </tr><tr>\n",
       "                <td><strong>Stoichiometry</strong></td>\n",
       "                <td>\n",
       "                    <p style='text-align:right'>hdcoa_c <=> hdd2coa_c</p>\n",
       "                    <p style='text-align:right'>Hexadecenoyl-CoA (n-C16:1CoA) <=> Trans-Hexadec-2-enoyl-CoA</p>\n",
       "                </td>\n",
       "            </tr><tr>\n",
       "                <td><strong>GPR</strong></td><td>CIW80_14210</td>\n",
       "            </tr><tr>\n",
       "                <td><strong>Lower bound</strong></td><td>-1000.0</td>\n",
       "            </tr><tr>\n",
       "                <td><strong>Upper bound</strong></td><td>1000.0</td>\n",
       "            </tr>\n",
       "        </table>\n",
       "        "
      ],
      "text/plain": [
       "<Reaction CTECOAI7 at 0x1ed41b68408>"
      ]
     },
     "execution_count": 23,
     "metadata": {},
     "output_type": "execute_result"
    }
   ],
   "source": [
    "modelCopy.reactions.CTECOAI7"
   ]
  },
  {
   "cell_type": "code",
   "execution_count": 24,
   "metadata": {},
   "outputs": [
    {
     "data": {
      "text/html": [
       "\n",
       "        <table>\n",
       "            <tr>\n",
       "                <td><strong>Reaction identifier</strong></td><td>CTECOAI8_copy1</td>\n",
       "            </tr><tr>\n",
       "                <td><strong>Name</strong></td><td>3-cis-2-trans-enoyl-CoA isomerase</td>\n",
       "            </tr><tr>\n",
       "                <td><strong>Memory address</strong></td>\n",
       "                <td>0x01ed41b23dc8</td>\n",
       "            </tr><tr>\n",
       "                <td><strong>Stoichiometry</strong></td>\n",
       "                <td>\n",
       "                    <p style='text-align:right'>odecoa_c <=> od2coa_c</p>\n",
       "                    <p style='text-align:right'>Octadecenoyl-CoA (n-C18:1CoA) <=> Trans-Octadec-2-enoyl-CoA</p>\n",
       "                </td>\n",
       "            </tr><tr>\n",
       "                <td><strong>GPR</strong></td><td>CIW80_14210</td>\n",
       "            </tr><tr>\n",
       "                <td><strong>Lower bound</strong></td><td>-1000.0</td>\n",
       "            </tr><tr>\n",
       "                <td><strong>Upper bound</strong></td><td>1000.0</td>\n",
       "            </tr>\n",
       "        </table>\n",
       "        "
      ],
      "text/plain": [
       "<Reaction CTECOAI8_copy1 at 0x1ed41b23dc8>"
      ]
     },
     "execution_count": 24,
     "metadata": {},
     "output_type": "execute_result"
    }
   ],
   "source": [
    "modelCopy.reactions.CTECOAI8_copy1"
   ]
  },
  {
   "cell_type": "code",
   "execution_count": 25,
   "metadata": {},
   "outputs": [
    {
     "data": {
      "text/html": [
       "\n",
       "        <table>\n",
       "            <tr>\n",
       "                <td><strong>Reaction identifier</strong></td><td>CTECOAI8_copy2</td>\n",
       "            </tr><tr>\n",
       "                <td><strong>Name</strong></td><td>3-cis-2-trans-enoyl-CoA isomerase</td>\n",
       "            </tr><tr>\n",
       "                <td><strong>Memory address</strong></td>\n",
       "                <td>0x01ed41b23848</td>\n",
       "            </tr><tr>\n",
       "                <td><strong>Stoichiometry</strong></td>\n",
       "                <td>\n",
       "                    <p style='text-align:right'>odecoa_c --> od2coa_c</p>\n",
       "                    <p style='text-align:right'>Octadecenoyl-CoA (n-C18:1CoA) --> Trans-Octadec-2-enoyl-CoA</p>\n",
       "                </td>\n",
       "            </tr><tr>\n",
       "                <td><strong>GPR</strong></td><td>CIW80_14210</td>\n",
       "            </tr><tr>\n",
       "                <td><strong>Lower bound</strong></td><td>0.0</td>\n",
       "            </tr><tr>\n",
       "                <td><strong>Upper bound</strong></td><td>1000.0</td>\n",
       "            </tr>\n",
       "        </table>\n",
       "        "
      ],
      "text/plain": [
       "<Reaction CTECOAI8_copy2 at 0x1ed41b23848>"
      ]
     },
     "execution_count": 25,
     "metadata": {},
     "output_type": "execute_result"
    }
   ],
   "source": [
    "modelCopy.reactions.CTECOAI8_copy2"
   ]
  },
  {
   "cell_type": "markdown",
   "metadata": {},
   "source": [
    "The gene \"CIW80_14210\" is present in the Nissle genome (https://www.ncbi.nlm.nih.gov/nuccore/CP007799.1/) and annotated as \"fadB\". FadB is a multifunctional enzyme that is involved in the degradation of fatty acids via the β-oxidation cycle. Four enzymatic activities are associated with FadB: enoyl-CoA hydratase, 3-hydroxyacyl-CoA epimerase, 3-hydroxyacyl-CoA dehydrogenase, and Δ3-cis- Δ2-trans-enoyl-CoA isomerase. https://biocyc.org/gene?orgid=GCF_003546975&id=CIW80_RS14105\n",
    "\n",
    "The reactions that do not include cofactors are revisible on BioCyc. Only keep the original reaction."
   ]
  },
  {
   "cell_type": "code",
   "execution_count": 26,
   "metadata": {},
   "outputs": [],
   "source": [
    "# Remove the copies\n",
    "modelCopy.remove_reactions(['CTECOAI6_copy1', 'CTECOAI6_copy2', \n",
    "                            'CTECOAI7_copy1', 'CTECOAI7_copy2', \n",
    "                            'CTECOAI8_copy1', 'CTECOAI8_copy2'])"
   ]
  },
  {
   "cell_type": "code",
   "execution_count": 27,
   "metadata": {},
   "outputs": [],
   "source": [
    "# Update in reaction overview\n",
    "for rxn in ['CTECOAI6_copy1', 'CTECOAI6_copy2', \n",
    "            'CTECOAI7_copy1', 'CTECOAI7_copy2', \n",
    "            'CTECOAI8_copy1', 'CTECOAI8_copy2']:\n",
    "    rxn_origin_df.loc[rxn, 'added'] = 'removed'\n",
    "    rxn_origin_df.loc[rxn, 'notes'] = 'Duplicate reaction. Removed in 4.1. Original was kept'"
   ]
  },
  {
   "cell_type": "markdown",
   "metadata": {},
   "source": [
    "### DADK\n",
    "\n",
    "All three version are exactly the same"
   ]
  },
  {
   "cell_type": "code",
   "execution_count": 28,
   "metadata": {},
   "outputs": [
    {
     "data": {
      "text/html": [
       "\n",
       "        <table>\n",
       "            <tr>\n",
       "                <td><strong>Reaction identifier</strong></td><td>DADK</td>\n",
       "            </tr><tr>\n",
       "                <td><strong>Name</strong></td><td>Deoxyadenylate kinase</td>\n",
       "            </tr><tr>\n",
       "                <td><strong>Memory address</strong></td>\n",
       "                <td>0x01ed41c07a88</td>\n",
       "            </tr><tr>\n",
       "                <td><strong>Stoichiometry</strong></td>\n",
       "                <td>\n",
       "                    <p style='text-align:right'>atp_c + damp_c <=> adp_c + dadp_c</p>\n",
       "                    <p style='text-align:right'>ATP C10H12N5O13P3 + DAMP C10H12N5O6P <=> ADP C10H12N5O10P2 + DADP C10H12N5O9P2</p>\n",
       "                </td>\n",
       "            </tr><tr>\n",
       "                <td><strong>GPR</strong></td><td>CIW80_20510</td>\n",
       "            </tr><tr>\n",
       "                <td><strong>Lower bound</strong></td><td>-1000.0</td>\n",
       "            </tr><tr>\n",
       "                <td><strong>Upper bound</strong></td><td>1000.0</td>\n",
       "            </tr>\n",
       "        </table>\n",
       "        "
      ],
      "text/plain": [
       "<Reaction DADK at 0x1ed41c07a88>"
      ]
     },
     "execution_count": 28,
     "metadata": {},
     "output_type": "execute_result"
    }
   ],
   "source": [
    "modelCopy.reactions.DADK"
   ]
  },
  {
   "cell_type": "code",
   "execution_count": 29,
   "metadata": {},
   "outputs": [
    {
     "data": {
      "text/html": [
       "\n",
       "        <table>\n",
       "            <tr>\n",
       "                <td><strong>Reaction identifier</strong></td><td>DADK_copy1</td>\n",
       "            </tr><tr>\n",
       "                <td><strong>Name</strong></td><td>Deoxyadenylate kinase</td>\n",
       "            </tr><tr>\n",
       "                <td><strong>Memory address</strong></td>\n",
       "                <td>0x01ed41b23748</td>\n",
       "            </tr><tr>\n",
       "                <td><strong>Stoichiometry</strong></td>\n",
       "                <td>\n",
       "                    <p style='text-align:right'>atp_c + damp_c <=> adp_c + dadp_c</p>\n",
       "                    <p style='text-align:right'>ATP C10H12N5O13P3 + DAMP C10H12N5O6P <=> ADP C10H12N5O10P2 + DADP C10H12N5O9P2</p>\n",
       "                </td>\n",
       "            </tr><tr>\n",
       "                <td><strong>GPR</strong></td><td>CIW80_20510</td>\n",
       "            </tr><tr>\n",
       "                <td><strong>Lower bound</strong></td><td>-1000.0</td>\n",
       "            </tr><tr>\n",
       "                <td><strong>Upper bound</strong></td><td>1000.0</td>\n",
       "            </tr>\n",
       "        </table>\n",
       "        "
      ],
      "text/plain": [
       "<Reaction DADK_copy1 at 0x1ed41b23748>"
      ]
     },
     "execution_count": 29,
     "metadata": {},
     "output_type": "execute_result"
    }
   ],
   "source": [
    "modelCopy.reactions.DADK_copy1"
   ]
  },
  {
   "cell_type": "code",
   "execution_count": 30,
   "metadata": {},
   "outputs": [
    {
     "data": {
      "text/html": [
       "\n",
       "        <table>\n",
       "            <tr>\n",
       "                <td><strong>Reaction identifier</strong></td><td>DADK_copy2</td>\n",
       "            </tr><tr>\n",
       "                <td><strong>Name</strong></td><td>Deoxyadenylate kinase</td>\n",
       "            </tr><tr>\n",
       "                <td><strong>Memory address</strong></td>\n",
       "                <td>0x01ed41b23308</td>\n",
       "            </tr><tr>\n",
       "                <td><strong>Stoichiometry</strong></td>\n",
       "                <td>\n",
       "                    <p style='text-align:right'>atp_c + damp_c <=> adp_c + dadp_c</p>\n",
       "                    <p style='text-align:right'>ATP C10H12N5O13P3 + DAMP C10H12N5O6P <=> ADP C10H12N5O10P2 + DADP C10H12N5O9P2</p>\n",
       "                </td>\n",
       "            </tr><tr>\n",
       "                <td><strong>GPR</strong></td><td>CIW80_20510</td>\n",
       "            </tr><tr>\n",
       "                <td><strong>Lower bound</strong></td><td>-1000.0</td>\n",
       "            </tr><tr>\n",
       "                <td><strong>Upper bound</strong></td><td>1000.0</td>\n",
       "            </tr>\n",
       "        </table>\n",
       "        "
      ],
      "text/plain": [
       "<Reaction DADK_copy2 at 0x1ed41b23308>"
      ]
     },
     "execution_count": 30,
     "metadata": {},
     "output_type": "execute_result"
    }
   ],
   "source": [
    "modelCopy.reactions.DADK_copy2"
   ]
  },
  {
   "cell_type": "code",
   "execution_count": 31,
   "metadata": {},
   "outputs": [],
   "source": [
    "# Remove the two copies\n",
    "modelCopy.remove_reactions(['DADK_copy1', 'DADK_copy2'])"
   ]
  },
  {
   "cell_type": "code",
   "execution_count": 32,
   "metadata": {},
   "outputs": [],
   "source": [
    "# Update in reaction overview\n",
    "for rxn in ['DADK_copy1', 'DADK_copy2']:\n",
    "    rxn_origin_df.loc[rxn, 'added'] = 'removed'\n",
    "    rxn_origin_df.loc[rxn, 'notes'] = 'Duplicate reaction. Removed in 4.1. Original was kept'"
   ]
  },
  {
   "cell_type": "markdown",
   "metadata": {},
   "source": [
    "### FADRx\n",
    "\n",
    "There are three versions:\n",
    "- Original: One-direction reaction (fwd)\n",
    "- Copy1: One-direction reaction (fwd), same genes as original\n",
    "- Copy2: One-direction reaction (fwd), but different gene"
   ]
  },
  {
   "cell_type": "code",
   "execution_count": 33,
   "metadata": {},
   "outputs": [
    {
     "data": {
      "text/html": [
       "\n",
       "        <table>\n",
       "            <tr>\n",
       "                <td><strong>Reaction identifier</strong></td><td>FADRx</td>\n",
       "            </tr><tr>\n",
       "                <td><strong>Name</strong></td><td>FAD reductase</td>\n",
       "            </tr><tr>\n",
       "                <td><strong>Memory address</strong></td>\n",
       "                <td>0x01ed41cb6648</td>\n",
       "            </tr><tr>\n",
       "                <td><strong>Stoichiometry</strong></td>\n",
       "                <td>\n",
       "                    <p style='text-align:right'>fad_c + h_c + nadh_c --> fadh2_c + nad_c</p>\n",
       "                    <p style='text-align:right'>Flavin adenine dinucleotide oxidized + H+ + Nicotinamide adenine dinucleotide - reduced --> Flavin adenine dinucleotide reduced + Nicotinamide adenine dinucleotide</p>\n",
       "                </td>\n",
       "            </tr><tr>\n",
       "                <td><strong>GPR</strong></td><td>CIW80_14200</td>\n",
       "            </tr><tr>\n",
       "                <td><strong>Lower bound</strong></td><td>0.0</td>\n",
       "            </tr><tr>\n",
       "                <td><strong>Upper bound</strong></td><td>1000.0</td>\n",
       "            </tr>\n",
       "        </table>\n",
       "        "
      ],
      "text/plain": [
       "<Reaction FADRx at 0x1ed41cb6648>"
      ]
     },
     "execution_count": 33,
     "metadata": {},
     "output_type": "execute_result"
    }
   ],
   "source": [
    "modelCopy.reactions.FADRx"
   ]
  },
  {
   "cell_type": "code",
   "execution_count": 34,
   "metadata": {},
   "outputs": [
    {
     "data": {
      "text/html": [
       "\n",
       "        <table>\n",
       "            <tr>\n",
       "                <td><strong>Reaction identifier</strong></td><td>FADRx_copy1</td>\n",
       "            </tr><tr>\n",
       "                <td><strong>Name</strong></td><td>FAD reductase</td>\n",
       "            </tr><tr>\n",
       "                <td><strong>Memory address</strong></td>\n",
       "                <td>0x01ed41b1aa48</td>\n",
       "            </tr><tr>\n",
       "                <td><strong>Stoichiometry</strong></td>\n",
       "                <td>\n",
       "                    <p style='text-align:right'>fad_c + h_c + nadh_c --> fadh2_c + nad_c</p>\n",
       "                    <p style='text-align:right'>Flavin adenine dinucleotide oxidized + H+ + Nicotinamide adenine dinucleotide - reduced --> Flavin adenine dinucleotide reduced + Nicotinamide adenine dinucleotide</p>\n",
       "                </td>\n",
       "            </tr><tr>\n",
       "                <td><strong>GPR</strong></td><td>CIW80_14200</td>\n",
       "            </tr><tr>\n",
       "                <td><strong>Lower bound</strong></td><td>0.0</td>\n",
       "            </tr><tr>\n",
       "                <td><strong>Upper bound</strong></td><td>1000.0</td>\n",
       "            </tr>\n",
       "        </table>\n",
       "        "
      ],
      "text/plain": [
       "<Reaction FADRx_copy1 at 0x1ed41b1aa48>"
      ]
     },
     "execution_count": 34,
     "metadata": {},
     "output_type": "execute_result"
    }
   ],
   "source": [
    "modelCopy.reactions.FADRx_copy1"
   ]
  },
  {
   "cell_type": "code",
   "execution_count": 35,
   "metadata": {},
   "outputs": [
    {
     "data": {
      "text/html": [
       "\n",
       "        <table>\n",
       "            <tr>\n",
       "                <td><strong>Reaction identifier</strong></td><td>FADRx_copy2</td>\n",
       "            </tr><tr>\n",
       "                <td><strong>Name</strong></td><td>FAD reductase</td>\n",
       "            </tr><tr>\n",
       "                <td><strong>Memory address</strong></td>\n",
       "                <td>0x01ed41b1a1c8</td>\n",
       "            </tr><tr>\n",
       "                <td><strong>Stoichiometry</strong></td>\n",
       "                <td>\n",
       "                    <p style='text-align:right'>fad_c + h_c + nadh_c --> fadh2_c + nad_c</p>\n",
       "                    <p style='text-align:right'>Flavin adenine dinucleotide oxidized + H+ + Nicotinamide adenine dinucleotide - reduced --> Flavin adenine dinucleotide reduced + Nicotinamide adenine dinucleotide</p>\n",
       "                </td>\n",
       "            </tr><tr>\n",
       "                <td><strong>GPR</strong></td><td>CIW80_04305</td>\n",
       "            </tr><tr>\n",
       "                <td><strong>Lower bound</strong></td><td>0.0</td>\n",
       "            </tr><tr>\n",
       "                <td><strong>Upper bound</strong></td><td>1000.0</td>\n",
       "            </tr>\n",
       "        </table>\n",
       "        "
      ],
      "text/plain": [
       "<Reaction FADRx_copy2 at 0x1ed41b1a1c8>"
      ]
     },
     "execution_count": 35,
     "metadata": {},
     "output_type": "execute_result"
    }
   ],
   "source": [
    "modelCopy.reactions.FADRx_copy2"
   ]
  },
  {
   "cell_type": "code",
   "execution_count": 36,
   "metadata": {},
   "outputs": [
    {
     "data": {
      "text/html": [
       "\n",
       "        <table>\n",
       "            <tr>\n",
       "                <td><strong>Gene identifier</strong></td><td>CIW80_14200</td>\n",
       "            </tr><tr>\n",
       "                <td><strong>Name</strong></td><td>fre</td>\n",
       "            </tr><tr>\n",
       "                <td><strong>Memory address</strong></td>\n",
       "                <td>0x01ed41dbf808</td>\n",
       "            </tr><tr>\n",
       "                <td><strong>Functional</strong></td><td>True</td>\n",
       "            </tr><tr>\n",
       "                <td><strong>In 7 reaction(s)</strong></td><td>\n",
       "                    FMNRx2, FADRx, FADRx_copy1, FLVRx, FLVR, FE3Ri, FMNRx</td>\n",
       "            </tr>\n",
       "        </table>"
      ],
      "text/plain": [
       "<Gene CIW80_14200 at 0x1ed41dbf808>"
      ]
     },
     "execution_count": 36,
     "metadata": {},
     "output_type": "execute_result"
    }
   ],
   "source": [
    "modelCopy.genes.CIW80_14200"
   ]
  },
  {
   "cell_type": "markdown",
   "metadata": {},
   "source": [
    "In BioCyc CIW80_14200 is annotated as Flavin reductase (fre). https://biocyc.org/gene?orgid=GCF_003546975&id=CIW80_RS14095\n",
    "<br>CIW80_04305 is annotated as hydroxyethylthiazole kinase (thiM), a hydroxyethylthiazole kinase that catalyses a completely different reaction.https://biocyc.org/gene?orgid=GCF_003546975&id=CIW80_RS04300\n",
    "\n",
    "Only keep the original reaction."
   ]
  },
  {
   "cell_type": "code",
   "execution_count": 37,
   "metadata": {},
   "outputs": [],
   "source": [
    "# Remove the duplicates\n",
    "modelCopy.remove_reactions(['FADRx_copy1', 'FADRx_copy2'])"
   ]
  },
  {
   "cell_type": "code",
   "execution_count": 38,
   "metadata": {},
   "outputs": [],
   "source": [
    "# Update in reaction overview\n",
    "rxn_origin_df.loc['FADRx_copy1', 'added'] = 'removed'\n",
    "rxn_origin_df.loc['FADRx_copy1', 'notes'] = 'Duplicate reaction. Removed in 4.1. Original was kept.'\n",
    "\n",
    "rxn_origin_df.loc['FADRx_copy2', 'added'] = 'removed'\n",
    "rxn_origin_df.loc['FADRx_copy2', 'notes'] = 'Incorrect gene. Removed in 4.1. Original was kept.'"
   ]
  },
  {
   "cell_type": "markdown",
   "metadata": {},
   "source": [
    "### FEENTERtex\n",
    "\n",
    "There are three versions:\n",
    "- Original: One-direction reaction (fwd)\n",
    "- Copy1: One-direction reaction (fwd), same genes as original\n",
    "- Copy2: One-direction reaction (fwd), but different gene"
   ]
  },
  {
   "cell_type": "code",
   "execution_count": 39,
   "metadata": {},
   "outputs": [
    {
     "data": {
      "text/html": [
       "\n",
       "        <table>\n",
       "            <tr>\n",
       "                <td><strong>Reaction identifier</strong></td><td>FEENTERtex</td>\n",
       "            </tr><tr>\n",
       "                <td><strong>Name</strong></td><td>Enterochelin transport (secretion periplasm)</td>\n",
       "            </tr><tr>\n",
       "                <td><strong>Memory address</strong></td>\n",
       "                <td>0x01ed41c4dfc8</td>\n",
       "            </tr><tr>\n",
       "                <td><strong>Stoichiometry</strong></td>\n",
       "                <td>\n",
       "                    <p style='text-align:right'>enter_p + h_p --> enter_e + h_c</p>\n",
       "                    <p style='text-align:right'>Enterochelin + H+ --> Enterochelin + H+</p>\n",
       "                </td>\n",
       "            </tr><tr>\n",
       "                <td><strong>GPR</strong></td><td>CIW80_09625</td>\n",
       "            </tr><tr>\n",
       "                <td><strong>Lower bound</strong></td><td>0.0</td>\n",
       "            </tr><tr>\n",
       "                <td><strong>Upper bound</strong></td><td>1000.0</td>\n",
       "            </tr>\n",
       "        </table>\n",
       "        "
      ],
      "text/plain": [
       "<Reaction FEENTERtex at 0x1ed41c4dfc8>"
      ]
     },
     "execution_count": 39,
     "metadata": {},
     "output_type": "execute_result"
    }
   ],
   "source": [
    "modelCopy.reactions.FEENTERtex"
   ]
  },
  {
   "cell_type": "code",
   "execution_count": 40,
   "metadata": {},
   "outputs": [
    {
     "data": {
      "text/html": [
       "\n",
       "        <table>\n",
       "            <tr>\n",
       "                <td><strong>Reaction identifier</strong></td><td>FEENTERtex_copy1</td>\n",
       "            </tr><tr>\n",
       "                <td><strong>Name</strong></td><td>Enterochelin transport (secretion periplasm)</td>\n",
       "            </tr><tr>\n",
       "                <td><strong>Memory address</strong></td>\n",
       "                <td>0x01ed41b1a9c8</td>\n",
       "            </tr><tr>\n",
       "                <td><strong>Stoichiometry</strong></td>\n",
       "                <td>\n",
       "                    <p style='text-align:right'>enter_p + h_p --> enter_e + h_c</p>\n",
       "                    <p style='text-align:right'>Enterochelin + H+ --> Enterochelin + H+</p>\n",
       "                </td>\n",
       "            </tr><tr>\n",
       "                <td><strong>GPR</strong></td><td>CIW80_09625</td>\n",
       "            </tr><tr>\n",
       "                <td><strong>Lower bound</strong></td><td>0.0</td>\n",
       "            </tr><tr>\n",
       "                <td><strong>Upper bound</strong></td><td>1000.0</td>\n",
       "            </tr>\n",
       "        </table>\n",
       "        "
      ],
      "text/plain": [
       "<Reaction FEENTERtex_copy1 at 0x1ed41b1a9c8>"
      ]
     },
     "execution_count": 40,
     "metadata": {},
     "output_type": "execute_result"
    }
   ],
   "source": [
    "modelCopy.reactions.FEENTERtex_copy1"
   ]
  },
  {
   "cell_type": "code",
   "execution_count": 41,
   "metadata": {},
   "outputs": [
    {
     "data": {
      "text/html": [
       "\n",
       "        <table>\n",
       "            <tr>\n",
       "                <td><strong>Reaction identifier</strong></td><td>FEENTERtex_copy2</td>\n",
       "            </tr><tr>\n",
       "                <td><strong>Name</strong></td><td>Enterochelin transport (secretion periplasm)</td>\n",
       "            </tr><tr>\n",
       "                <td><strong>Memory address</strong></td>\n",
       "                <td>0x01ed41b0cd48</td>\n",
       "            </tr><tr>\n",
       "                <td><strong>Stoichiometry</strong></td>\n",
       "                <td>\n",
       "                    <p style='text-align:right'>enter_p + h_p --> enter_e + h_c</p>\n",
       "                    <p style='text-align:right'>Enterochelin + H+ --> Enterochelin + H+</p>\n",
       "                </td>\n",
       "            </tr><tr>\n",
       "                <td><strong>GPR</strong></td><td>CIW80_13505</td>\n",
       "            </tr><tr>\n",
       "                <td><strong>Lower bound</strong></td><td>0.0</td>\n",
       "            </tr><tr>\n",
       "                <td><strong>Upper bound</strong></td><td>1000.0</td>\n",
       "            </tr>\n",
       "        </table>\n",
       "        "
      ],
      "text/plain": [
       "<Reaction FEENTERtex_copy2 at 0x1ed41b0cd48>"
      ]
     },
     "execution_count": 41,
     "metadata": {},
     "output_type": "execute_result"
    }
   ],
   "source": [
    "modelCopy.reactions.FEENTERtex_copy2"
   ]
  },
  {
   "cell_type": "markdown",
   "metadata": {},
   "source": [
    "On Biocyc, CIW80_09625 is annotated as outer membrane channel protein TolC (tolC). https://biocyc.org/gene?orgid=GCF_003546975&id=CIW80_RS09575\n",
    "<br>CIW80_13505 is annotated as a \"phosphate ABC transporter periplasmic binding protein\". https://biocyc.org/gene?orgid=GCF_003546975&id=CIW80_RS13390\n",
    "\n",
    "The latter does not seem to be related to iron transport. Both copies will be removed."
   ]
  },
  {
   "cell_type": "code",
   "execution_count": 42,
   "metadata": {},
   "outputs": [],
   "source": [
    "# Remove the two copies\n",
    "modelCopy.remove_reactions(['FEENTERtex_copy1', 'FEENTERtex_copy2'])"
   ]
  },
  {
   "cell_type": "code",
   "execution_count": 43,
   "metadata": {},
   "outputs": [],
   "source": [
    "# Update in reaction overview\n",
    "rxn_origin_df.loc['FEENTERtex_copy1', 'added'] = 'removed'\n",
    "rxn_origin_df.loc['FEENTERtex_copy1', 'notes'] = 'Duplicate reaction. Removed in 4.1. Original was kept.'\n",
    "\n",
    "rxn_origin_df.loc['FEENTERtex_copy2', 'added'] = 'removed'\n",
    "rxn_origin_df.loc['FEENTERtex_copy2', 'notes'] = 'Incorrect gene. Removed in 4.1. Original was kept.'"
   ]
  },
  {
   "cell_type": "markdown",
   "metadata": {},
   "source": [
    "### GLCtex\n",
    "\n",
    "There are three versions:\n",
    "- Original: Bidirectional reaction\n",
    "- Copy1: One-direction reaction (fwd), with different gene\n",
    "- Copy2: Bidirectional reaction, with same genes as original"
   ]
  },
  {
   "cell_type": "code",
   "execution_count": 44,
   "metadata": {},
   "outputs": [
    {
     "data": {
      "text/html": [
       "\n",
       "        <table>\n",
       "            <tr>\n",
       "                <td><strong>Reaction identifier</strong></td><td>GLCtex</td>\n",
       "            </tr><tr>\n",
       "                <td><strong>Name</strong></td><td>Glucose transport via diffusion (extracellular to periplasm)</td>\n",
       "            </tr><tr>\n",
       "                <td><strong>Memory address</strong></td>\n",
       "                <td>0x01ed41b0c908</td>\n",
       "            </tr><tr>\n",
       "                <td><strong>Stoichiometry</strong></td>\n",
       "                <td>\n",
       "                    <p style='text-align:right'>glc__D_e <=> glc__D_p</p>\n",
       "                    <p style='text-align:right'>D-Glucose <=> D-Glucose</p>\n",
       "                </td>\n",
       "            </tr><tr>\n",
       "                <td><strong>GPR</strong></td><td>CIW80_19480 or CIW80_22660 or CIW80_25725 or CIW80_05020</td>\n",
       "            </tr><tr>\n",
       "                <td><strong>Lower bound</strong></td><td>-1000.0</td>\n",
       "            </tr><tr>\n",
       "                <td><strong>Upper bound</strong></td><td>1000.0</td>\n",
       "            </tr>\n",
       "        </table>\n",
       "        "
      ],
      "text/plain": [
       "<Reaction GLCtex at 0x1ed41b0c908>"
      ]
     },
     "execution_count": 44,
     "metadata": {},
     "output_type": "execute_result"
    }
   ],
   "source": [
    "modelCopy.reactions.GLCtex"
   ]
  },
  {
   "cell_type": "code",
   "execution_count": 45,
   "metadata": {},
   "outputs": [
    {
     "data": {
      "text/html": [
       "\n",
       "        <table>\n",
       "            <tr>\n",
       "                <td><strong>Reaction identifier</strong></td><td>GLCtex_copy1</td>\n",
       "            </tr><tr>\n",
       "                <td><strong>Name</strong></td><td>Glucose transport via diffusion (extracellular to periplasm)</td>\n",
       "            </tr><tr>\n",
       "                <td><strong>Memory address</strong></td>\n",
       "                <td>0x01ed41c62248</td>\n",
       "            </tr><tr>\n",
       "                <td><strong>Stoichiometry</strong></td>\n",
       "                <td>\n",
       "                    <p style='text-align:right'>glc__D_e --> glc__D_p</p>\n",
       "                    <p style='text-align:right'>D-Glucose --> D-Glucose</p>\n",
       "                </td>\n",
       "            </tr><tr>\n",
       "                <td><strong>GPR</strong></td><td>CIW80_15320</td>\n",
       "            </tr><tr>\n",
       "                <td><strong>Lower bound</strong></td><td>0.0</td>\n",
       "            </tr><tr>\n",
       "                <td><strong>Upper bound</strong></td><td>1000.0</td>\n",
       "            </tr>\n",
       "        </table>\n",
       "        "
      ],
      "text/plain": [
       "<Reaction GLCtex_copy1 at 0x1ed41c62248>"
      ]
     },
     "execution_count": 45,
     "metadata": {},
     "output_type": "execute_result"
    }
   ],
   "source": [
    "modelCopy.reactions.GLCtex_copy1"
   ]
  },
  {
   "cell_type": "code",
   "execution_count": 46,
   "metadata": {},
   "outputs": [
    {
     "data": {
      "text/html": [
       "\n",
       "        <table>\n",
       "            <tr>\n",
       "                <td><strong>Reaction identifier</strong></td><td>GLCtex_copy2</td>\n",
       "            </tr><tr>\n",
       "                <td><strong>Name</strong></td><td>Glucose transport via diffusion (extracellular to periplasm)</td>\n",
       "            </tr><tr>\n",
       "                <td><strong>Memory address</strong></td>\n",
       "                <td>0x01ed41bc5408</td>\n",
       "            </tr><tr>\n",
       "                <td><strong>Stoichiometry</strong></td>\n",
       "                <td>\n",
       "                    <p style='text-align:right'>glc__D_e <=> glc__D_p</p>\n",
       "                    <p style='text-align:right'>D-Glucose <=> D-Glucose</p>\n",
       "                </td>\n",
       "            </tr><tr>\n",
       "                <td><strong>GPR</strong></td><td>CIW80_19480 or CIW80_22660 or CIW80_25725 or CIW80_05020</td>\n",
       "            </tr><tr>\n",
       "                <td><strong>Lower bound</strong></td><td>-1000.0</td>\n",
       "            </tr><tr>\n",
       "                <td><strong>Upper bound</strong></td><td>1000.0</td>\n",
       "            </tr>\n",
       "        </table>\n",
       "        "
      ],
      "text/plain": [
       "<Reaction GLCtex_copy2 at 0x1ed41bc5408>"
      ]
     },
     "execution_count": 46,
     "metadata": {},
     "output_type": "execute_result"
    }
   ],
   "source": [
    "modelCopy.reactions.GLCtex_copy2"
   ]
  },
  {
   "cell_type": "markdown",
   "metadata": {},
   "source": [
    "CIW80_19480 outer membrane porin PhoE \"_Induced by phosphate limitation, PhoE facilitates efficient diffusion of phosphate and phosphorus-containing compounds across the outer membrane_\"https://biocyc.org/gene?orgid=GCF_003546975&id=CIW80_RS19290\n",
    "<br> CIW80_22660 outer membrane porin F. \"_OmpF is a general outer membrane (OM) porin which mediates the non-specific diffusion of small solutes such as sugars, ions and amino acids_\" https://biocyc.org/gene?orgid=GCF_003546975&id=CIW80_RS22425\n",
    "<br> CIW80_25725 outer membrane porin N. \"_Though under typical laboratory growth conditions OmpN is not highly expressed, when overexpressed it operates as a porin with single-channel conductance properties similar to those of OmpC_\" https://biocyc.org/gene?orgid=GCF_003546975&id=CIW80_RS25485\n",
    "<br> CIW80_05020 outer membrane porin C. \"_OmpC is a general outer membrane (OM) porin which mediates the non-specific diffusion of small solutes such as sugars, ions and amino acids_\" https://biocyc.org/gene?orgid=GCF_003546975&id=CIW80_RS05000\n",
    "<br> \n",
    "<br> CIW80_15320 maltose outer membrane channel / phage lambda receptor protein. \"_LamB is a member of the Sugar Porin (SP) family. It specifically facilitates the diffusion of maltose and other maltodextrins (α1-4 linked polyglucosyls) across the outer membrane_\" https://biocyc.org/gene?orgid=GCF_003546975&id=CIW80_RS15170\n",
    "\n",
    "The gene of the first copy facilitates the diffusion of maltose, not glucose. Therefore only the original reaction is kept"
   ]
  },
  {
   "cell_type": "code",
   "execution_count": 47,
   "metadata": {},
   "outputs": [],
   "source": [
    "# Remove the two copies\n",
    "modelCopy.remove_reactions(['GLCtex_copy1', 'GLCtex_copy2'])"
   ]
  },
  {
   "cell_type": "code",
   "execution_count": 48,
   "metadata": {},
   "outputs": [],
   "source": [
    "# Update in reaction overview\n",
    "rxn_origin_df.loc['GLCtex_copy1', 'added'] = 'removed'\n",
    "rxn_origin_df.loc['GLCtex_copy1', 'notes'] = 'Incorrect gene. Removed in 4.1. Original was kept.'\n",
    "\n",
    "rxn_origin_df.loc['GLCtex_copy2', 'added'] = 'removed'\n",
    "rxn_origin_df.loc['GLCtex_copy2', 'notes'] = 'Duplicate reaction. Removed in 4.1. Original was kept.'"
   ]
  },
  {
   "cell_type": "markdown",
   "metadata": {},
   "source": [
    "### GLYBt2pp\n",
    "\n",
    "There are three versions:\n",
    "- Original: One-direction reaction (fwd)\n",
    "- Copy1: One-direction reaction (fwd), same gene as original\n",
    "- Copy2: Bi-directional reaction, same gene as original"
   ]
  },
  {
   "cell_type": "code",
   "execution_count": 49,
   "metadata": {},
   "outputs": [
    {
     "data": {
      "text/html": [
       "\n",
       "        <table>\n",
       "            <tr>\n",
       "                <td><strong>Reaction identifier</strong></td><td>GLYBt2pp</td>\n",
       "            </tr><tr>\n",
       "                <td><strong>Name</strong></td><td>Glycine betaine transport via proton symport (periplasm)</td>\n",
       "            </tr><tr>\n",
       "                <td><strong>Memory address</strong></td>\n",
       "                <td>0x01ed41b82ec8</td>\n",
       "            </tr><tr>\n",
       "                <td><strong>Stoichiometry</strong></td>\n",
       "                <td>\n",
       "                    <p style='text-align:right'>glyb_p + h_p --> glyb_c + h_c</p>\n",
       "                    <p style='text-align:right'>Glycine betaine + H+ --> Glycine betaine + H+</p>\n",
       "                </td>\n",
       "            </tr><tr>\n",
       "                <td><strong>GPR</strong></td><td>CIW80_15850</td>\n",
       "            </tr><tr>\n",
       "                <td><strong>Lower bound</strong></td><td>0.0</td>\n",
       "            </tr><tr>\n",
       "                <td><strong>Upper bound</strong></td><td>1000.0</td>\n",
       "            </tr>\n",
       "        </table>\n",
       "        "
      ],
      "text/plain": [
       "<Reaction GLYBt2pp at 0x1ed41b82ec8>"
      ]
     },
     "execution_count": 49,
     "metadata": {},
     "output_type": "execute_result"
    }
   ],
   "source": [
    "modelCopy.reactions.GLYBt2pp"
   ]
  },
  {
   "cell_type": "code",
   "execution_count": 50,
   "metadata": {},
   "outputs": [
    {
     "data": {
      "text/html": [
       "\n",
       "        <table>\n",
       "            <tr>\n",
       "                <td><strong>Reaction identifier</strong></td><td>GLYBt2pp_copy1</td>\n",
       "            </tr><tr>\n",
       "                <td><strong>Name</strong></td><td>Glycine betaine transport via proton symport (periplasm)</td>\n",
       "            </tr><tr>\n",
       "                <td><strong>Memory address</strong></td>\n",
       "                <td>0x01ed41b23b48</td>\n",
       "            </tr><tr>\n",
       "                <td><strong>Stoichiometry</strong></td>\n",
       "                <td>\n",
       "                    <p style='text-align:right'>glyb_p + h_p --> glyb_c + h_c</p>\n",
       "                    <p style='text-align:right'>Glycine betaine + H+ --> Glycine betaine + H+</p>\n",
       "                </td>\n",
       "            </tr><tr>\n",
       "                <td><strong>GPR</strong></td><td>CIW80_15850</td>\n",
       "            </tr><tr>\n",
       "                <td><strong>Lower bound</strong></td><td>0.0</td>\n",
       "            </tr><tr>\n",
       "                <td><strong>Upper bound</strong></td><td>1000.0</td>\n",
       "            </tr>\n",
       "        </table>\n",
       "        "
      ],
      "text/plain": [
       "<Reaction GLYBt2pp_copy1 at 0x1ed41b23b48>"
      ]
     },
     "execution_count": 50,
     "metadata": {},
     "output_type": "execute_result"
    }
   ],
   "source": [
    "modelCopy.reactions.GLYBt2pp_copy1"
   ]
  },
  {
   "cell_type": "code",
   "execution_count": 51,
   "metadata": {},
   "outputs": [
    {
     "data": {
      "text/html": [
       "\n",
       "        <table>\n",
       "            <tr>\n",
       "                <td><strong>Reaction identifier</strong></td><td>GLYBt2pp_copy2</td>\n",
       "            </tr><tr>\n",
       "                <td><strong>Name</strong></td><td>Glycine betaine transport via proton symport (periplasm)</td>\n",
       "            </tr><tr>\n",
       "                <td><strong>Memory address</strong></td>\n",
       "                <td>0x01ed41b23c48</td>\n",
       "            </tr><tr>\n",
       "                <td><strong>Stoichiometry</strong></td>\n",
       "                <td>\n",
       "                    <p style='text-align:right'>glyb_p + h_p <=> glyb_c + h_c</p>\n",
       "                    <p style='text-align:right'>Glycine betaine + H+ <=> Glycine betaine + H+</p>\n",
       "                </td>\n",
       "            </tr><tr>\n",
       "                <td><strong>GPR</strong></td><td>CIW80_15850</td>\n",
       "            </tr><tr>\n",
       "                <td><strong>Lower bound</strong></td><td>-1000.0</td>\n",
       "            </tr><tr>\n",
       "                <td><strong>Upper bound</strong></td><td>1000.0</td>\n",
       "            </tr>\n",
       "        </table>\n",
       "        "
      ],
      "text/plain": [
       "<Reaction GLYBt2pp_copy2 at 0x1ed41b23c48>"
      ]
     },
     "execution_count": 51,
     "metadata": {},
     "output_type": "execute_result"
    }
   ],
   "source": [
    "modelCopy.reactions.GLYBt2pp_copy2"
   ]
  },
  {
   "cell_type": "markdown",
   "metadata": {},
   "source": [
    "Based on the name \"transport IN\" and the biocyc description of this process, it seems that this reaction should be one-directional (fwd). (https://biocyc.org/compound?orgid=GCF_003546975&id=BETAINE#tab=RXNS)"
   ]
  },
  {
   "cell_type": "code",
   "execution_count": 52,
   "metadata": {},
   "outputs": [],
   "source": [
    "# Remove copy1 and copy2\n",
    "modelCopy.remove_reactions(['GLYBt2pp_copy1', 'GLYBt2pp_copy2'])"
   ]
  },
  {
   "cell_type": "code",
   "execution_count": 53,
   "metadata": {},
   "outputs": [],
   "source": [
    "# Update in reaction overview\n",
    "rxn_origin_df.loc['GLYBt2pp_copy1', 'added'] = 'removed'\n",
    "rxn_origin_df.loc['GLYBt2pp_copy1', 'notes'] = 'Duplicate reaction. Removed in 4.1. Original was kept.'\n",
    "\n",
    "rxn_origin_df.loc['GLYBt2pp_copy2', 'added'] = 'removed'\n",
    "rxn_origin_df.loc['GLYBt2pp_copy2', 'notes'] = 'Duplicate reaction. Removed in 4.1. Original was kept.'"
   ]
  },
  {
   "cell_type": "markdown",
   "metadata": {},
   "source": [
    "### GTHPi\n",
    "\n",
    "There are three versions:\n",
    "- Original: One-direction reaction (fwd)\n",
    "- Copy1: One-direction reaction (fwd), same gene as original\n",
    "- Copy2: one-direction reaction, same gene as original"
   ]
  },
  {
   "cell_type": "code",
   "execution_count": 54,
   "metadata": {},
   "outputs": [
    {
     "data": {
      "text/html": [
       "\n",
       "        <table>\n",
       "            <tr>\n",
       "                <td><strong>Reaction identifier</strong></td><td>GTHPi</td>\n",
       "            </tr><tr>\n",
       "                <td><strong>Name</strong></td><td>Glutathione peridoxase</td>\n",
       "            </tr><tr>\n",
       "                <td><strong>Memory address</strong></td>\n",
       "                <td>0x01ed41b68988</td>\n",
       "            </tr><tr>\n",
       "                <td><strong>Stoichiometry</strong></td>\n",
       "                <td>\n",
       "                    <p style='text-align:right'>2.0 gthrd_c + h2o2_c --> gthox_c + 2.0 h2o_c</p>\n",
       "                    <p style='text-align:right'>2.0 Reduced glutathione + Hydrogen peroxide --> Oxidized glutathione + 2.0 H2O H2O</p>\n",
       "                </td>\n",
       "            </tr><tr>\n",
       "                <td><strong>GPR</strong></td><td>CIW80_01430</td>\n",
       "            </tr><tr>\n",
       "                <td><strong>Lower bound</strong></td><td>0.0</td>\n",
       "            </tr><tr>\n",
       "                <td><strong>Upper bound</strong></td><td>1000.0</td>\n",
       "            </tr>\n",
       "        </table>\n",
       "        "
      ],
      "text/plain": [
       "<Reaction GTHPi at 0x1ed41b68988>"
      ]
     },
     "execution_count": 54,
     "metadata": {},
     "output_type": "execute_result"
    }
   ],
   "source": [
    "modelCopy.reactions.GTHPi"
   ]
  },
  {
   "cell_type": "code",
   "execution_count": 55,
   "metadata": {},
   "outputs": [
    {
     "data": {
      "text/html": [
       "\n",
       "        <table>\n",
       "            <tr>\n",
       "                <td><strong>Reaction identifier</strong></td><td>GTHPi_copy1</td>\n",
       "            </tr><tr>\n",
       "                <td><strong>Name</strong></td><td>Glutathione peridoxase</td>\n",
       "            </tr><tr>\n",
       "                <td><strong>Memory address</strong></td>\n",
       "                <td>0x01ed41b38c48</td>\n",
       "            </tr><tr>\n",
       "                <td><strong>Stoichiometry</strong></td>\n",
       "                <td>\n",
       "                    <p style='text-align:right'>2.0 gthrd_c + h2o2_c --> gthox_c + 2.0 h2o_c</p>\n",
       "                    <p style='text-align:right'>2.0 Reduced glutathione + Hydrogen peroxide --> Oxidized glutathione + 2.0 H2O H2O</p>\n",
       "                </td>\n",
       "            </tr><tr>\n",
       "                <td><strong>GPR</strong></td><td>CIW80_01430</td>\n",
       "            </tr><tr>\n",
       "                <td><strong>Lower bound</strong></td><td>0.0</td>\n",
       "            </tr><tr>\n",
       "                <td><strong>Upper bound</strong></td><td>1000.0</td>\n",
       "            </tr>\n",
       "        </table>\n",
       "        "
      ],
      "text/plain": [
       "<Reaction GTHPi_copy1 at 0x1ed41b38c48>"
      ]
     },
     "execution_count": 55,
     "metadata": {},
     "output_type": "execute_result"
    }
   ],
   "source": [
    "modelCopy.reactions.GTHPi_copy1"
   ]
  },
  {
   "cell_type": "code",
   "execution_count": 56,
   "metadata": {},
   "outputs": [
    {
     "data": {
      "text/html": [
       "\n",
       "        <table>\n",
       "            <tr>\n",
       "                <td><strong>Reaction identifier</strong></td><td>GTHPi_copy2</td>\n",
       "            </tr><tr>\n",
       "                <td><strong>Name</strong></td><td>Glutathione peridoxase</td>\n",
       "            </tr><tr>\n",
       "                <td><strong>Memory address</strong></td>\n",
       "                <td>0x01ed41b38f88</td>\n",
       "            </tr><tr>\n",
       "                <td><strong>Stoichiometry</strong></td>\n",
       "                <td>\n",
       "                    <p style='text-align:right'>2.0 gthrd_c + h2o2_c --> gthox_c + 2.0 h2o_c</p>\n",
       "                    <p style='text-align:right'>2.0 Reduced glutathione + Hydrogen peroxide --> Oxidized glutathione + 2.0 H2O H2O</p>\n",
       "                </td>\n",
       "            </tr><tr>\n",
       "                <td><strong>GPR</strong></td><td>CIW80_01430</td>\n",
       "            </tr><tr>\n",
       "                <td><strong>Lower bound</strong></td><td>0.0</td>\n",
       "            </tr><tr>\n",
       "                <td><strong>Upper bound</strong></td><td>1000.0</td>\n",
       "            </tr>\n",
       "        </table>\n",
       "        "
      ],
      "text/plain": [
       "<Reaction GTHPi_copy2 at 0x1ed41b38f88>"
      ]
     },
     "execution_count": 56,
     "metadata": {},
     "output_type": "execute_result"
    }
   ],
   "source": [
    "modelCopy.reactions.GTHPi_copy2"
   ]
  },
  {
   "cell_type": "code",
   "execution_count": 57,
   "metadata": {},
   "outputs": [],
   "source": [
    "# All the same. Remove copy1 and copy2\n",
    "modelCopy.remove_reactions(['GTHPi_copy1', 'GTHPi_copy2'])"
   ]
  },
  {
   "cell_type": "code",
   "execution_count": 58,
   "metadata": {},
   "outputs": [],
   "source": [
    "# Update in reaction overview\n",
    "rxn_origin_df.loc['GTHPi_copy1', 'added'] = 'removed'\n",
    "rxn_origin_df.loc['GTHPi_copy1', 'notes'] = 'Duplicate reaction. Removed in 4.1. Original was kept.'\n",
    "\n",
    "rxn_origin_df.loc['GTHPi_copy2', 'added'] = 'removed'\n",
    "rxn_origin_df.loc['GTHPi_copy2', 'notes'] = 'Duplicate reaction. Removed in 4.1. Original was kept.'"
   ]
  },
  {
   "cell_type": "markdown",
   "metadata": {},
   "source": [
    "### ICHORS\n",
    "\n",
    "There are three versions:\n",
    "- Original: Bi-directional reaction\n",
    "- Copy1: One-direction reaction (fwd), with different gene\n",
    "- Copy2: Bi-directional reaction, with same genes as original"
   ]
  },
  {
   "cell_type": "code",
   "execution_count": 59,
   "metadata": {},
   "outputs": [
    {
     "data": {
      "text/html": [
       "\n",
       "        <table>\n",
       "            <tr>\n",
       "                <td><strong>Reaction identifier</strong></td><td>ICHORS</td>\n",
       "            </tr><tr>\n",
       "                <td><strong>Name</strong></td><td>Isochorismate synthase</td>\n",
       "            </tr><tr>\n",
       "                <td><strong>Memory address</strong></td>\n",
       "                <td>0x01ed41b0ccc8</td>\n",
       "            </tr><tr>\n",
       "                <td><strong>Stoichiometry</strong></td>\n",
       "                <td>\n",
       "                    <p style='text-align:right'>chor_c <=> ichor_c</p>\n",
       "                    <p style='text-align:right'>Chorismate <=> Isochorismate</p>\n",
       "                </td>\n",
       "            </tr><tr>\n",
       "                <td><strong>GPR</strong></td><td>CIW80_05275</td>\n",
       "            </tr><tr>\n",
       "                <td><strong>Lower bound</strong></td><td>-1000.0</td>\n",
       "            </tr><tr>\n",
       "                <td><strong>Upper bound</strong></td><td>1000.0</td>\n",
       "            </tr>\n",
       "        </table>\n",
       "        "
      ],
      "text/plain": [
       "<Reaction ICHORS at 0x1ed41b0ccc8>"
      ]
     },
     "execution_count": 59,
     "metadata": {},
     "output_type": "execute_result"
    }
   ],
   "source": [
    "modelCopy.reactions.ICHORS"
   ]
  },
  {
   "cell_type": "code",
   "execution_count": 60,
   "metadata": {},
   "outputs": [
    {
     "data": {
      "text/html": [
       "\n",
       "        <table>\n",
       "            <tr>\n",
       "                <td><strong>Reaction identifier</strong></td><td>ICHORS_copy1</td>\n",
       "            </tr><tr>\n",
       "                <td><strong>Name</strong></td><td>Isochorismate synthase</td>\n",
       "            </tr><tr>\n",
       "                <td><strong>Memory address</strong></td>\n",
       "                <td>0x01ed41cd7408</td>\n",
       "            </tr><tr>\n",
       "                <td><strong>Stoichiometry</strong></td>\n",
       "                <td>\n",
       "                    <p style='text-align:right'>chor_c --> ichor_c</p>\n",
       "                    <p style='text-align:right'>Chorismate --> Isochorismate</p>\n",
       "                </td>\n",
       "            </tr><tr>\n",
       "                <td><strong>GPR</strong></td><td>CIW80_20975</td>\n",
       "            </tr><tr>\n",
       "                <td><strong>Lower bound</strong></td><td>0.0</td>\n",
       "            </tr><tr>\n",
       "                <td><strong>Upper bound</strong></td><td>1000.0</td>\n",
       "            </tr>\n",
       "        </table>\n",
       "        "
      ],
      "text/plain": [
       "<Reaction ICHORS_copy1 at 0x1ed41cd7408>"
      ]
     },
     "execution_count": 60,
     "metadata": {},
     "output_type": "execute_result"
    }
   ],
   "source": [
    "modelCopy.reactions.ICHORS_copy1"
   ]
  },
  {
   "cell_type": "code",
   "execution_count": 61,
   "metadata": {},
   "outputs": [
    {
     "data": {
      "text/html": [
       "\n",
       "        <table>\n",
       "            <tr>\n",
       "                <td><strong>Reaction identifier</strong></td><td>ICHORS_copy2</td>\n",
       "            </tr><tr>\n",
       "                <td><strong>Name</strong></td><td>Isochorismate synthase</td>\n",
       "            </tr><tr>\n",
       "                <td><strong>Memory address</strong></td>\n",
       "                <td>0x01ed41ccbd88</td>\n",
       "            </tr><tr>\n",
       "                <td><strong>Stoichiometry</strong></td>\n",
       "                <td>\n",
       "                    <p style='text-align:right'>chor_c <=> ichor_c</p>\n",
       "                    <p style='text-align:right'>Chorismate <=> Isochorismate</p>\n",
       "                </td>\n",
       "            </tr><tr>\n",
       "                <td><strong>GPR</strong></td><td>CIW80_05275</td>\n",
       "            </tr><tr>\n",
       "                <td><strong>Lower bound</strong></td><td>-1000.0</td>\n",
       "            </tr><tr>\n",
       "                <td><strong>Upper bound</strong></td><td>1000.0</td>\n",
       "            </tr>\n",
       "        </table>\n",
       "        "
      ],
      "text/plain": [
       "<Reaction ICHORS_copy2 at 0x1ed41ccbd88>"
      ]
     },
     "execution_count": 61,
     "metadata": {},
     "output_type": "execute_result"
    }
   ],
   "source": [
    "modelCopy.reactions.ICHORS_copy2"
   ]
  },
  {
   "cell_type": "markdown",
   "metadata": {},
   "source": [
    "CIW80_05275: isochorismate synthase MenF. https://biocyc.org/gene?orgid=GCF_003546975&id=CIW80_RS05245\n",
    "<br> CIW80_20975 isochorismate synthase EntC. https://biocyc.org/gene?orgid=GCF_003546975&id=CIW80_RS20755\n",
    "\n",
    "On BioCyc the first reaction is favoured in the forward direction, the other is reversible. Therefore the bi-directional reaction will be kept with both genes in the GPR."
   ]
  },
  {
   "cell_type": "code",
   "execution_count": 62,
   "metadata": {},
   "outputs": [],
   "source": [
    "# Change GPR of original reaction\n",
    "modelCopy.reactions.ICHORS.gene_reaction_rule = 'CIW80_05275 or CIW80_20975'\n",
    "\n",
    "# Remove both copies\n",
    "modelCopy.remove_reactions(['ICHORS_copy1', 'ICHORS_copy2'])"
   ]
  },
  {
   "cell_type": "code",
   "execution_count": 63,
   "metadata": {},
   "outputs": [],
   "source": [
    "# Update in reaction overview\n",
    "rxn_origin_df.loc['ICHORS_copy1', 'added'] = 'removed'\n",
    "rxn_origin_df.loc['ICHORS_copy1', 'notes'] = 'Combined with original reaction \"ICHORS\". Removed in 4.1. Adapted original was kept.'\n",
    "\n",
    "rxn_origin_df.loc['ICHORS_copy2', 'added'] = 'removed'\n",
    "rxn_origin_df.loc['ICHORS_copy2', 'notes'] = 'Duplicate reaction. Removed in 4.1. Original was kept.'"
   ]
  },
  {
   "cell_type": "markdown",
   "metadata": {},
   "source": [
    "### PRASCSi\n",
    "\n",
    "There are three versions:\n",
    "- Original:  One-direction reaction (fwd)\n",
    "- Copy1: One-direction reaction (fwd), with same gene\n",
    "- Copy2: Bi-directional reaction, with same genes as original and copy1"
   ]
  },
  {
   "cell_type": "code",
   "execution_count": 64,
   "metadata": {},
   "outputs": [
    {
     "data": {
      "text/html": [
       "\n",
       "        <table>\n",
       "            <tr>\n",
       "                <td><strong>Reaction identifier</strong></td><td>PRASCSi</td>\n",
       "            </tr><tr>\n",
       "                <td><strong>Name</strong></td><td>Phosphoribosylaminoimidazolesuccinocarboxamide synthase</td>\n",
       "            </tr><tr>\n",
       "                <td><strong>Memory address</strong></td>\n",
       "                <td>0x01ed41c63ac8</td>\n",
       "            </tr><tr>\n",
       "                <td><strong>Stoichiometry</strong></td>\n",
       "                <td>\n",
       "                    <p style='text-align:right'>5aizc_c + asp__L_c + atp_c --> 25aics_c + adp_c + h_c + pi_c</p>\n",
       "                    <p style='text-align:right'>5-amino-1-(5-phospho-D-ribosyl)imidazole-4-carboxylate + L-Aspartate + ATP C10H12N5O13P3 --> (S)-2-[5-Amino-1-(5-phospho-D-ribosyl)imidazole-4-carboxamido]succinate + ADP C10H12N5O10P2 + H+ +...</p>\n",
       "                </td>\n",
       "            </tr><tr>\n",
       "                <td><strong>GPR</strong></td><td>CIW80_06235</td>\n",
       "            </tr><tr>\n",
       "                <td><strong>Lower bound</strong></td><td>0.0</td>\n",
       "            </tr><tr>\n",
       "                <td><strong>Upper bound</strong></td><td>1000.0</td>\n",
       "            </tr>\n",
       "        </table>\n",
       "        "
      ],
      "text/plain": [
       "<Reaction PRASCSi at 0x1ed41c63ac8>"
      ]
     },
     "execution_count": 64,
     "metadata": {},
     "output_type": "execute_result"
    }
   ],
   "source": [
    "modelCopy.reactions.PRASCSi"
   ]
  },
  {
   "cell_type": "code",
   "execution_count": 65,
   "metadata": {},
   "outputs": [
    {
     "data": {
      "text/html": [
       "\n",
       "        <table>\n",
       "            <tr>\n",
       "                <td><strong>Reaction identifier</strong></td><td>PRASCSi_copy1</td>\n",
       "            </tr><tr>\n",
       "                <td><strong>Name</strong></td><td>Phosphoribosylaminoimidazolesuccinocarboxamide synthase</td>\n",
       "            </tr><tr>\n",
       "                <td><strong>Memory address</strong></td>\n",
       "                <td>0x01ed41b2cf48</td>\n",
       "            </tr><tr>\n",
       "                <td><strong>Stoichiometry</strong></td>\n",
       "                <td>\n",
       "                    <p style='text-align:right'>5aizc_c + asp__L_c + atp_c --> 25aics_c + adp_c + h_c + pi_c</p>\n",
       "                    <p style='text-align:right'>5-amino-1-(5-phospho-D-ribosyl)imidazole-4-carboxylate + L-Aspartate + ATP C10H12N5O13P3 --> (S)-2-[5-Amino-1-(5-phospho-D-ribosyl)imidazole-4-carboxamido]succinate + ADP C10H12N5O10P2 + H+ +...</p>\n",
       "                </td>\n",
       "            </tr><tr>\n",
       "                <td><strong>GPR</strong></td><td>CIW80_06235</td>\n",
       "            </tr><tr>\n",
       "                <td><strong>Lower bound</strong></td><td>0.0</td>\n",
       "            </tr><tr>\n",
       "                <td><strong>Upper bound</strong></td><td>1000.0</td>\n",
       "            </tr>\n",
       "        </table>\n",
       "        "
      ],
      "text/plain": [
       "<Reaction PRASCSi_copy1 at 0x1ed41b2cf48>"
      ]
     },
     "execution_count": 65,
     "metadata": {},
     "output_type": "execute_result"
    }
   ],
   "source": [
    "modelCopy.reactions.PRASCSi_copy1"
   ]
  },
  {
   "cell_type": "code",
   "execution_count": 66,
   "metadata": {},
   "outputs": [
    {
     "data": {
      "text/html": [
       "\n",
       "        <table>\n",
       "            <tr>\n",
       "                <td><strong>Reaction identifier</strong></td><td>PRASCSi_copy2</td>\n",
       "            </tr><tr>\n",
       "                <td><strong>Name</strong></td><td>Phosphoribosylaminoimidazolesuccinocarboxamide synthase</td>\n",
       "            </tr><tr>\n",
       "                <td><strong>Memory address</strong></td>\n",
       "                <td>0x01ed41b2cc08</td>\n",
       "            </tr><tr>\n",
       "                <td><strong>Stoichiometry</strong></td>\n",
       "                <td>\n",
       "                    <p style='text-align:right'>5aizc_c + asp__L_c + atp_c <=> 25aics_c + adp_c + h_c + pi_c</p>\n",
       "                    <p style='text-align:right'>5-amino-1-(5-phospho-D-ribosyl)imidazole-4-carboxylate + L-Aspartate + ATP C10H12N5O13P3 <=> (S)-2-[5-Amino-1-(5-phospho-D-ribosyl)imidazole-4-carboxamido]succinate + ADP C10H12N5O10P2 + H+ +...</p>\n",
       "                </td>\n",
       "            </tr><tr>\n",
       "                <td><strong>GPR</strong></td><td>CIW80_06235</td>\n",
       "            </tr><tr>\n",
       "                <td><strong>Lower bound</strong></td><td>-1000.0</td>\n",
       "            </tr><tr>\n",
       "                <td><strong>Upper bound</strong></td><td>1000.0</td>\n",
       "            </tr>\n",
       "        </table>\n",
       "        "
      ],
      "text/plain": [
       "<Reaction PRASCSi_copy2 at 0x1ed41b2cc08>"
      ]
     },
     "execution_count": 66,
     "metadata": {},
     "output_type": "execute_result"
    }
   ],
   "source": [
    "modelCopy.reactions.PRASCSi_copy2"
   ]
  },
  {
   "cell_type": "markdown",
   "metadata": {},
   "source": [
    "On BioCyc the reaction is predicted to be favoured in the forward direction (https://biocyc.org/gene?orgid=GCF_003546975&id=CIW80_RS06195#tab=RXNS). Therefore only the original gene was be kept"
   ]
  },
  {
   "cell_type": "code",
   "execution_count": 67,
   "metadata": {},
   "outputs": [],
   "source": [
    "# Remove both copies\n",
    "modelCopy.remove_reactions(['PRASCSi_copy1', 'PRASCSi_copy2'])"
   ]
  },
  {
   "cell_type": "code",
   "execution_count": 68,
   "metadata": {},
   "outputs": [],
   "source": [
    "# Update in reaction overview\n",
    "rxn_origin_df.loc['PRASCSi_copy1', 'added'] = 'removed'\n",
    "rxn_origin_df.loc['PRASCSi_copy1', 'notes'] = 'Duplicate reaction. Removed in 4.1. Original was kept.'\n",
    "\n",
    "rxn_origin_df.loc['PRASCSi_copy2', 'added'] = 'removed'\n",
    "rxn_origin_df.loc['PRASCSi_copy2', 'notes'] = 'Duplicate reaction. Removed in 4.1. Original was kept.'"
   ]
  },
  {
   "cell_type": "markdown",
   "metadata": {},
   "source": [
    "### UAG4Ei\n",
    "\n",
    "There are two versions:\n",
    "- Copy1: One-direction reaction (fwd)\n",
    "- Copy2: One-direction reaction (fwd), with same gene"
   ]
  },
  {
   "cell_type": "code",
   "execution_count": 69,
   "metadata": {},
   "outputs": [
    {
     "data": {
      "text/html": [
       "\n",
       "        <table>\n",
       "            <tr>\n",
       "                <td><strong>Reaction identifier</strong></td><td>UAG4Ei_copy1</td>\n",
       "            </tr><tr>\n",
       "                <td><strong>Name</strong></td><td>UDP-N-acetylglucosamine 4-epimerase</td>\n",
       "            </tr><tr>\n",
       "                <td><strong>Memory address</strong></td>\n",
       "                <td>0x01ed41b1a5c8</td>\n",
       "            </tr><tr>\n",
       "                <td><strong>Stoichiometry</strong></td>\n",
       "                <td>\n",
       "                    <p style='text-align:right'>uacgam_c --> udpacgal_c</p>\n",
       "                    <p style='text-align:right'>UDP-N-acetyl-D-glucosamine --> UDP-N-acetyl-D-galactosamine</p>\n",
       "                </td>\n",
       "            </tr><tr>\n",
       "                <td><strong>GPR</strong></td><td>CIW80_03965</td>\n",
       "            </tr><tr>\n",
       "                <td><strong>Lower bound</strong></td><td>0.0</td>\n",
       "            </tr><tr>\n",
       "                <td><strong>Upper bound</strong></td><td>1000.0</td>\n",
       "            </tr>\n",
       "        </table>\n",
       "        "
      ],
      "text/plain": [
       "<Reaction UAG4Ei_copy1 at 0x1ed41b1a5c8>"
      ]
     },
     "execution_count": 69,
     "metadata": {},
     "output_type": "execute_result"
    }
   ],
   "source": [
    "modelCopy.reactions.UAG4Ei_copy1"
   ]
  },
  {
   "cell_type": "code",
   "execution_count": 70,
   "metadata": {},
   "outputs": [
    {
     "data": {
      "text/html": [
       "\n",
       "        <table>\n",
       "            <tr>\n",
       "                <td><strong>Reaction identifier</strong></td><td>UAG4Ei_copy2</td>\n",
       "            </tr><tr>\n",
       "                <td><strong>Name</strong></td><td>UDP-N-acetylglucosamine 4-epimerase</td>\n",
       "            </tr><tr>\n",
       "                <td><strong>Memory address</strong></td>\n",
       "                <td>0x01ed41b1a708</td>\n",
       "            </tr><tr>\n",
       "                <td><strong>Stoichiometry</strong></td>\n",
       "                <td>\n",
       "                    <p style='text-align:right'>uacgam_c --> udpacgal_c</p>\n",
       "                    <p style='text-align:right'>UDP-N-acetyl-D-glucosamine --> UDP-N-acetyl-D-galactosamine</p>\n",
       "                </td>\n",
       "            </tr><tr>\n",
       "                <td><strong>GPR</strong></td><td>CIW80_03965</td>\n",
       "            </tr><tr>\n",
       "                <td><strong>Lower bound</strong></td><td>0.0</td>\n",
       "            </tr><tr>\n",
       "                <td><strong>Upper bound</strong></td><td>1000.0</td>\n",
       "            </tr>\n",
       "        </table>\n",
       "        "
      ],
      "text/plain": [
       "<Reaction UAG4Ei_copy2 at 0x1ed41b1a708>"
      ]
     },
     "execution_count": 70,
     "metadata": {},
     "output_type": "execute_result"
    }
   ],
   "source": [
    "modelCopy.reactions.UAG4Ei_copy2"
   ]
  },
  {
   "cell_type": "code",
   "execution_count": 71,
   "metadata": {},
   "outputs": [],
   "source": [
    "# Remove the double reaction\n",
    "modelCopy.remove_reactions(['UAG4Ei_copy2'])\n",
    "\n",
    "# Rename copy1\n",
    "modelCopy.reactions.UAG4Ei_copy1.id = 'UAG4Ei'"
   ]
  },
  {
   "cell_type": "code",
   "execution_count": 72,
   "metadata": {},
   "outputs": [],
   "source": [
    "# Update in reaction overview\n",
    "rxn_origin_df.loc['UAG4Ei_copy1', 'notes'] = 'Renamed to UAG4Ei in 4.1.'\n",
    "\n",
    "rxn_origin_df.loc['UAG4Ei_copy2', 'added'] = 'removed'\n",
    "rxn_origin_df.loc['UAG4Ei_copy2', 'notes'] = 'Duplicate reaction. Removed in 4.1. Original was kept.'\n",
    "\n",
    "rxn_origin_df.loc['UAG4Ei', 'origin'] = rxn_origin_df.loc['UAG4Ei_copy1', 'origin']\n",
    "rxn_origin_df.loc['UAG4Ei', 'added'] = rxn_origin_df.loc['UAG4Ei_copy1', 'added']\n",
    "rxn_origin_df.loc['UAG4Ei', 'notebook'] = rxn_origin_df.loc['UAG4Ei_copy1', 'notebook']\n",
    "rxn_origin_df.loc['UAG4Ei', 'notes'] = 'UAG4Ei_copy1 was renamed to UAG4Ei in 4.1.'"
   ]
  },
  {
   "cell_type": "markdown",
   "metadata": {},
   "source": [
    "### URAt2pp\n",
    "\n",
    "There are three versions:\n",
    "- Original:  One-direction reaction (fwd) with two genes\n",
    "- Copy1: One-direction reaction (fwd), with one of the genes from original\n",
    "- Copy2: Bi-directional reaction, with different genes from original and copy1"
   ]
  },
  {
   "cell_type": "code",
   "execution_count": 73,
   "metadata": {},
   "outputs": [
    {
     "data": {
      "text/html": [
       "\n",
       "        <table>\n",
       "            <tr>\n",
       "                <td><strong>Reaction identifier</strong></td><td>URAt2pp</td>\n",
       "            </tr><tr>\n",
       "                <td><strong>Name</strong></td><td>Uracil transport in via proton symport (periplasm)</td>\n",
       "            </tr><tr>\n",
       "                <td><strong>Memory address</strong></td>\n",
       "                <td>0x01ed41bc1a48</td>\n",
       "            </tr><tr>\n",
       "                <td><strong>Stoichiometry</strong></td>\n",
       "                <td>\n",
       "                    <p style='text-align:right'>h_p + ura_p --> h_c + ura_c</p>\n",
       "                    <p style='text-align:right'>H+ + Uracil --> H+ + Uracil</p>\n",
       "                </td>\n",
       "            </tr><tr>\n",
       "                <td><strong>GPR</strong></td><td>CIW80_06280 or CIW80_22995</td>\n",
       "            </tr><tr>\n",
       "                <td><strong>Lower bound</strong></td><td>0.0</td>\n",
       "            </tr><tr>\n",
       "                <td><strong>Upper bound</strong></td><td>1000.0</td>\n",
       "            </tr>\n",
       "        </table>\n",
       "        "
      ],
      "text/plain": [
       "<Reaction URAt2pp at 0x1ed41bc1a48>"
      ]
     },
     "execution_count": 73,
     "metadata": {},
     "output_type": "execute_result"
    }
   ],
   "source": [
    "modelCopy.reactions.URAt2pp"
   ]
  },
  {
   "cell_type": "code",
   "execution_count": 74,
   "metadata": {},
   "outputs": [
    {
     "data": {
      "text/html": [
       "\n",
       "        <table>\n",
       "            <tr>\n",
       "                <td><strong>Reaction identifier</strong></td><td>URAt2pp_copy1</td>\n",
       "            </tr><tr>\n",
       "                <td><strong>Name</strong></td><td>Uracil transport in via proton symport (periplasm)</td>\n",
       "            </tr><tr>\n",
       "                <td><strong>Memory address</strong></td>\n",
       "                <td>0x01ed41b2ccc8</td>\n",
       "            </tr><tr>\n",
       "                <td><strong>Stoichiometry</strong></td>\n",
       "                <td>\n",
       "                    <p style='text-align:right'>h_p + ura_p --> h_c + ura_c</p>\n",
       "                    <p style='text-align:right'>H+ + Uracil --> H+ + Uracil</p>\n",
       "                </td>\n",
       "            </tr><tr>\n",
       "                <td><strong>GPR</strong></td><td>CIW80_06280</td>\n",
       "            </tr><tr>\n",
       "                <td><strong>Lower bound</strong></td><td>0.0</td>\n",
       "            </tr><tr>\n",
       "                <td><strong>Upper bound</strong></td><td>1000.0</td>\n",
       "            </tr>\n",
       "        </table>\n",
       "        "
      ],
      "text/plain": [
       "<Reaction URAt2pp_copy1 at 0x1ed41b2ccc8>"
      ]
     },
     "execution_count": 74,
     "metadata": {},
     "output_type": "execute_result"
    }
   ],
   "source": [
    "modelCopy.reactions.URAt2pp_copy1"
   ]
  },
  {
   "cell_type": "code",
   "execution_count": 75,
   "metadata": {},
   "outputs": [
    {
     "data": {
      "text/html": [
       "\n",
       "        <table>\n",
       "            <tr>\n",
       "                <td><strong>Reaction identifier</strong></td><td>URAt2pp_copy2</td>\n",
       "            </tr><tr>\n",
       "                <td><strong>Name</strong></td><td>Uracil transport in via proton symport (periplasm)</td>\n",
       "            </tr><tr>\n",
       "                <td><strong>Memory address</strong></td>\n",
       "                <td>0x01ed41b1ad08</td>\n",
       "            </tr><tr>\n",
       "                <td><strong>Stoichiometry</strong></td>\n",
       "                <td>\n",
       "                    <p style='text-align:right'>h_p + ura_p <=> h_c + ura_c</p>\n",
       "                    <p style='text-align:right'>H+ + Uracil <=> H+ + Uracil</p>\n",
       "                </td>\n",
       "            </tr><tr>\n",
       "                <td><strong>GPR</strong></td><td>CIW80_22995</td>\n",
       "            </tr><tr>\n",
       "                <td><strong>Lower bound</strong></td><td>-1000.0</td>\n",
       "            </tr><tr>\n",
       "                <td><strong>Upper bound</strong></td><td>1000.0</td>\n",
       "            </tr>\n",
       "        </table>\n",
       "        "
      ],
      "text/plain": [
       "<Reaction URAt2pp_copy2 at 0x1ed41b1ad08>"
      ]
     },
     "execution_count": 75,
     "metadata": {},
     "output_type": "execute_result"
    }
   ],
   "source": [
    "modelCopy.reactions.URAt2pp_copy2"
   ]
  },
  {
   "cell_type": "markdown",
   "metadata": {},
   "source": [
    "URAt2pp: Bi-directional (https://biocyc.org/compound?orgid=GCF_003546975&id=URACIL#tab=RXNS)\n",
    "\n",
    "CIW80_06280: uracil:H+ symporter (uraA). https://biocyc.org/gene?orgid=GCF_003546975&id=CIW80_RS06240\n",
    "<br> CIW80_22995: pyrimidine:H+ symporter (rutG). https://biocyc.org/gene?orgid=GCF_003546975&id=CIW80_RS22760\n",
    "Both can be related to uracil transport. Keep both genes with the bi-directional reaction"
   ]
  },
  {
   "cell_type": "code",
   "execution_count": 76,
   "metadata": {},
   "outputs": [],
   "source": [
    "# Remove the one-directional reactions\n",
    "modelCopy.remove_reactions(['URAt2pp', 'URAt2pp_copy1'])\n",
    "\n",
    "# Rename the bi-directional reactions\n",
    "modelCopy.reactions.URAt2pp_copy2.id = 'URAt2pp'\n",
    "\n",
    "# Update the GPR\n",
    "modelCopy.reactions.URAt2pp.gene_reaction_rule = 'CIW80_06280 or CIW80_22995'"
   ]
  },
  {
   "cell_type": "code",
   "execution_count": 77,
   "metadata": {},
   "outputs": [],
   "source": [
    "# \"delete\" the incorrect genes\n",
    "for rxn in ['URAt2pp', 'URAt2pp_copy1']:\n",
    "    rxn_origin_df.loc[rxn, 'added'] = 'removed'\n",
    "    rxn_origin_df.loc[rxn, 'notes'] = 'Removed in 4.1.\"%s_copy2\" was kept as correct reaction.'%rxn\n",
    "    \n",
    "# Update the note of \"_copy2\"\n",
    "rxn_origin_df.loc['URAt2pp_copy2', 'notes'] = 'Renamed to %s in 4.1. Original reaction and \"URAt2pp_copy1\" were removed'"
   ]
  },
  {
   "cell_type": "markdown",
   "metadata": {},
   "source": [
    "### VPAMTr\n",
    "\n",
    "There are three versions:\n",
    "- Original:  Bi-directional reaction\n",
    "- Copy1: Bi-directional reaction, with same gene as original\n",
    "- Copy2: One-direction reaction (fwd), with same gene as original and copy1"
   ]
  },
  {
   "cell_type": "code",
   "execution_count": 78,
   "metadata": {},
   "outputs": [
    {
     "data": {
      "text/html": [
       "\n",
       "        <table>\n",
       "            <tr>\n",
       "                <td><strong>Reaction identifier</strong></td><td>VPAMTr</td>\n",
       "            </tr><tr>\n",
       "                <td><strong>Name</strong></td><td>Valine-pyruvate aminotransferase</td>\n",
       "            </tr><tr>\n",
       "                <td><strong>Memory address</strong></td>\n",
       "                <td>0x01ed41b52448</td>\n",
       "            </tr><tr>\n",
       "                <td><strong>Stoichiometry</strong></td>\n",
       "                <td>\n",
       "                    <p style='text-align:right'>3mob_c + ala__L_c <=> pyr_c + val__L_c</p>\n",
       "                    <p style='text-align:right'>3-Methyl-2-oxobutanoate + L-Alanine <=> Pyruvate + L-Valine</p>\n",
       "                </td>\n",
       "            </tr><tr>\n",
       "                <td><strong>GPR</strong></td><td>CIW80_12580</td>\n",
       "            </tr><tr>\n",
       "                <td><strong>Lower bound</strong></td><td>-1000.0</td>\n",
       "            </tr><tr>\n",
       "                <td><strong>Upper bound</strong></td><td>1000.0</td>\n",
       "            </tr>\n",
       "        </table>\n",
       "        "
      ],
      "text/plain": [
       "<Reaction VPAMTr at 0x1ed41b52448>"
      ]
     },
     "execution_count": 78,
     "metadata": {},
     "output_type": "execute_result"
    }
   ],
   "source": [
    "modelCopy.reactions.VPAMTr"
   ]
  },
  {
   "cell_type": "code",
   "execution_count": 79,
   "metadata": {},
   "outputs": [
    {
     "data": {
      "text/html": [
       "\n",
       "        <table>\n",
       "            <tr>\n",
       "                <td><strong>Reaction identifier</strong></td><td>VPAMTr_copy1</td>\n",
       "            </tr><tr>\n",
       "                <td><strong>Name</strong></td><td>Valine-pyruvate aminotransferase</td>\n",
       "            </tr><tr>\n",
       "                <td><strong>Memory address</strong></td>\n",
       "                <td>0x01ed41b2c208</td>\n",
       "            </tr><tr>\n",
       "                <td><strong>Stoichiometry</strong></td>\n",
       "                <td>\n",
       "                    <p style='text-align:right'>3mob_c + ala__L_c <=> pyr_c + val__L_c</p>\n",
       "                    <p style='text-align:right'>3-Methyl-2-oxobutanoate + L-Alanine <=> Pyruvate + L-Valine</p>\n",
       "                </td>\n",
       "            </tr><tr>\n",
       "                <td><strong>GPR</strong></td><td>CIW80_12580</td>\n",
       "            </tr><tr>\n",
       "                <td><strong>Lower bound</strong></td><td>-1000.0</td>\n",
       "            </tr><tr>\n",
       "                <td><strong>Upper bound</strong></td><td>1000.0</td>\n",
       "            </tr>\n",
       "        </table>\n",
       "        "
      ],
      "text/plain": [
       "<Reaction VPAMTr_copy1 at 0x1ed41b2c208>"
      ]
     },
     "execution_count": 79,
     "metadata": {},
     "output_type": "execute_result"
    }
   ],
   "source": [
    "modelCopy.reactions.VPAMTr_copy1"
   ]
  },
  {
   "cell_type": "code",
   "execution_count": 80,
   "metadata": {},
   "outputs": [
    {
     "data": {
      "text/html": [
       "\n",
       "        <table>\n",
       "            <tr>\n",
       "                <td><strong>Reaction identifier</strong></td><td>VPAMTr_copy2</td>\n",
       "            </tr><tr>\n",
       "                <td><strong>Name</strong></td><td>Valine-pyruvate aminotransferase</td>\n",
       "            </tr><tr>\n",
       "                <td><strong>Memory address</strong></td>\n",
       "                <td>0x01ed41b2c0c8</td>\n",
       "            </tr><tr>\n",
       "                <td><strong>Stoichiometry</strong></td>\n",
       "                <td>\n",
       "                    <p style='text-align:right'>3mob_c + ala__L_c --> pyr_c + val__L_c</p>\n",
       "                    <p style='text-align:right'>3-Methyl-2-oxobutanoate + L-Alanine --> Pyruvate + L-Valine</p>\n",
       "                </td>\n",
       "            </tr><tr>\n",
       "                <td><strong>GPR</strong></td><td>CIW80_12580</td>\n",
       "            </tr><tr>\n",
       "                <td><strong>Lower bound</strong></td><td>0.0</td>\n",
       "            </tr><tr>\n",
       "                <td><strong>Upper bound</strong></td><td>1000.0</td>\n",
       "            </tr>\n",
       "        </table>\n",
       "        "
      ],
      "text/plain": [
       "<Reaction VPAMTr_copy2 at 0x1ed41b2c0c8>"
      ]
     },
     "execution_count": 80,
     "metadata": {},
     "output_type": "execute_result"
    }
   ],
   "source": [
    "modelCopy.reactions.VPAMTr_copy2"
   ]
  },
  {
   "cell_type": "markdown",
   "metadata": {},
   "source": [
    "This reaction is part of the alanin biosynthesis pathway and is described as a reversible reaction (https://biocyc.org/gene?orgid=GCF_003546975&id=CIW80_RS12475#tab=RXNS). Therefore the bi-directional reaction was kept."
   ]
  },
  {
   "cell_type": "code",
   "execution_count": 81,
   "metadata": {},
   "outputs": [],
   "source": [
    "# Remove copy1 and copy2\n",
    "modelCopy.remove_reactions(['VPAMTr_copy1', 'VPAMTr_copy2'])"
   ]
  },
  {
   "cell_type": "code",
   "execution_count": 82,
   "metadata": {},
   "outputs": [],
   "source": [
    "# Update in reaction overview\n",
    "rxn_origin_df.loc['VPAMTr_copy1', 'added'] = 'removed'\n",
    "rxn_origin_df.loc['VPAMTr_copy1', 'notes'] = 'Duplicate reaction. Removed in 4.1. Original was kept.'\n",
    "\n",
    "rxn_origin_df.loc['VPAMTr_copy2', 'added'] = 'removed'\n",
    "rxn_origin_df.loc['VPAMTr_copy2', 'notes'] = 'Duplicate reaction. Removed in 4.1. Original was kept.'"
   ]
  },
  {
   "cell_type": "markdown",
   "metadata": {},
   "source": [
    "### NTP1 & ATPM"
   ]
  },
  {
   "cell_type": "code",
   "execution_count": 83,
   "metadata": {},
   "outputs": [
    {
     "data": {
      "text/html": [
       "\n",
       "        <table>\n",
       "            <tr>\n",
       "                <td><strong>Reaction identifier</strong></td><td>NTP1</td>\n",
       "            </tr><tr>\n",
       "                <td><strong>Name</strong></td><td>Nucleoside-triphosphatase (ATP)</td>\n",
       "            </tr><tr>\n",
       "                <td><strong>Memory address</strong></td>\n",
       "                <td>0x01ed41bfa2c8</td>\n",
       "            </tr><tr>\n",
       "                <td><strong>Stoichiometry</strong></td>\n",
       "                <td>\n",
       "                    <p style='text-align:right'>atp_c + h2o_c --> adp_c + h_c + pi_c</p>\n",
       "                    <p style='text-align:right'>ATP C10H12N5O13P3 + H2O H2O --> ADP C10H12N5O10P2 + H+ + Phosphate</p>\n",
       "                </td>\n",
       "            </tr><tr>\n",
       "                <td><strong>GPR</strong></td><td>CIW80_16125</td>\n",
       "            </tr><tr>\n",
       "                <td><strong>Lower bound</strong></td><td>0.0</td>\n",
       "            </tr><tr>\n",
       "                <td><strong>Upper bound</strong></td><td>1000.0</td>\n",
       "            </tr>\n",
       "        </table>\n",
       "        "
      ],
      "text/plain": [
       "<Reaction NTP1 at 0x1ed41bfa2c8>"
      ]
     },
     "execution_count": 83,
     "metadata": {},
     "output_type": "execute_result"
    }
   ],
   "source": [
    "modelCopy.reactions.NTP1"
   ]
  },
  {
   "cell_type": "code",
   "execution_count": 84,
   "metadata": {
    "scrolled": true
   },
   "outputs": [
    {
     "data": {
      "text/html": [
       "\n",
       "        <table>\n",
       "            <tr>\n",
       "                <td><strong>Reaction identifier</strong></td><td>ATPM</td>\n",
       "            </tr><tr>\n",
       "                <td><strong>Name</strong></td><td>ATP maintenance requirement</td>\n",
       "            </tr><tr>\n",
       "                <td><strong>Memory address</strong></td>\n",
       "                <td>0x01ed41c15288</td>\n",
       "            </tr><tr>\n",
       "                <td><strong>Stoichiometry</strong></td>\n",
       "                <td>\n",
       "                    <p style='text-align:right'>atp_c + h2o_c --> adp_c + h_c + pi_c</p>\n",
       "                    <p style='text-align:right'>ATP C10H12N5O13P3 + H2O H2O --> ADP C10H12N5O10P2 + H+ + Phosphate</p>\n",
       "                </td>\n",
       "            </tr><tr>\n",
       "                <td><strong>GPR</strong></td><td></td>\n",
       "            </tr><tr>\n",
       "                <td><strong>Lower bound</strong></td><td>6.86</td>\n",
       "            </tr><tr>\n",
       "                <td><strong>Upper bound</strong></td><td>1000.0</td>\n",
       "            </tr>\n",
       "        </table>\n",
       "        "
      ],
      "text/plain": [
       "<Reaction ATPM at 0x1ed41c15288>"
      ]
     },
     "execution_count": 84,
     "metadata": {},
     "output_type": "execute_result"
    }
   ],
   "source": [
    "modelCopy.reactions.ATPM"
   ]
  },
  {
   "cell_type": "markdown",
   "metadata": {},
   "source": [
    "Both reactions for the ATP reaction are also present in MG1655 model and were therefore both kept"
   ]
  },
  {
   "cell_type": "markdown",
   "metadata": {},
   "source": [
    "# 4. Identify different versions of the same reaction"
   ]
  },
  {
   "cell_type": "code",
   "execution_count": 85,
   "metadata": {},
   "outputs": [
    {
     "data": {
      "text/html": [
       "<div>\n",
       "<style scoped>\n",
       "    .dataframe tbody tr th:only-of-type {\n",
       "        vertical-align: middle;\n",
       "    }\n",
       "\n",
       "    .dataframe tbody tr th {\n",
       "        vertical-align: top;\n",
       "    }\n",
       "\n",
       "    .dataframe thead th {\n",
       "        text-align: right;\n",
       "    }\n",
       "</style>\n",
       "<table border=\"1\" class=\"dataframe\">\n",
       "  <thead>\n",
       "    <tr style=\"text-align: right;\">\n",
       "      <th></th>\n",
       "      <th>ID</th>\n",
       "      <th>formula</th>\n",
       "      <th>compartment</th>\n",
       "      <th>genes</th>\n",
       "    </tr>\n",
       "  </thead>\n",
       "  <tbody>\n",
       "    <tr>\n",
       "      <th>2814</th>\n",
       "      <td>3NTD2pp_1</td>\n",
       "      <td>3dhguln_c + 3ump_p + atp_c + h2o_p --&gt; 3dhguln...</td>\n",
       "      <td>{c, p}</td>\n",
       "      <td>(CIW80_16440)</td>\n",
       "    </tr>\n",
       "    <tr>\n",
       "      <th>2615</th>\n",
       "      <td>CELLBpts_1</td>\n",
       "      <td>cellb_e + pep_c --&gt; 6pgg_c + pyr_p</td>\n",
       "      <td>{e, c, p}</td>\n",
       "      <td>(CIW80_00635, CIW80_01555, CIW80_00630)</td>\n",
       "    </tr>\n",
       "    <tr>\n",
       "      <th>2805</th>\n",
       "      <td>MNabc_1</td>\n",
       "      <td>atp_c + h2o_c + mn2_p --&gt; adp_c + h_c + mn2_c ...</td>\n",
       "      <td>{c, p}</td>\n",
       "      <td>(CIW80_24590, CIW80_25715, CIW80_24595, CIW80_...</td>\n",
       "    </tr>\n",
       "    <tr>\n",
       "      <th>2816</th>\n",
       "      <td>MTHFD_1</td>\n",
       "      <td>mlthf_c + nadp_c &lt;=&gt; h_c + methf_c + nadph_c</td>\n",
       "      <td>{c}</td>\n",
       "      <td>(CIW80_20780)</td>\n",
       "    </tr>\n",
       "    <tr>\n",
       "      <th>2817</th>\n",
       "      <td>QULNS_1</td>\n",
       "      <td>dhap_c + iasp_c --&gt; 2.0 h2o_c + h_c + pi_c + q...</td>\n",
       "      <td>{c}</td>\n",
       "      <td>(CIW80_21725)</td>\n",
       "    </tr>\n",
       "  </tbody>\n",
       "</table>\n",
       "</div>"
      ],
      "text/plain": [
       "              ID                                            formula  \\\n",
       "2814   3NTD2pp_1  3dhguln_c + 3ump_p + atp_c + h2o_p --> 3dhguln...   \n",
       "2615  CELLBpts_1                 cellb_e + pep_c --> 6pgg_c + pyr_p   \n",
       "2805     MNabc_1  atp_c + h2o_c + mn2_p --> adp_c + h_c + mn2_c ...   \n",
       "2816     MTHFD_1       mlthf_c + nadp_c <=> h_c + methf_c + nadph_c   \n",
       "2817     QULNS_1  dhap_c + iasp_c --> 2.0 h2o_c + h_c + pi_c + q...   \n",
       "\n",
       "     compartment                                              genes  \n",
       "2814      {c, p}                                      (CIW80_16440)  \n",
       "2615   {e, c, p}            (CIW80_00635, CIW80_01555, CIW80_00630)  \n",
       "2805      {c, p}  (CIW80_24590, CIW80_25715, CIW80_24595, CIW80_...  \n",
       "2816         {c}                                      (CIW80_20780)  \n",
       "2817         {c}                                      (CIW80_21725)  "
      ]
     },
     "execution_count": 85,
     "metadata": {},
     "output_type": "execute_result"
    }
   ],
   "source": [
    "# In addition to copies, there are also different versions of reactions used in different models\n",
    "# Therefore, additionally find reactions with have the appendix \"_1\", \"_2\", and \"_3\"\n",
    "gene_copies_1 = reaction_df[reaction_df['ID'].str.contains(\"_1\")].sort_values('ID')\n",
    "gene_copies_1 = gene_copies_1[~gene_copies_1['ID'].str.contains(\"EX\")].sort_values('ID')\n",
    "gene_copies_1 = gene_copies_1[~gene_copies_1['ID'].str.contains(\"1p\")].sort_values('ID')\n",
    "gene_copies_1"
   ]
  },
  {
   "cell_type": "code",
   "execution_count": 86,
   "metadata": {
    "scrolled": true
   },
   "outputs": [
    {
     "data": {
      "text/html": [
       "<div>\n",
       "<style scoped>\n",
       "    .dataframe tbody tr th:only-of-type {\n",
       "        vertical-align: middle;\n",
       "    }\n",
       "\n",
       "    .dataframe tbody tr th {\n",
       "        vertical-align: top;\n",
       "    }\n",
       "\n",
       "    .dataframe thead th {\n",
       "        text-align: right;\n",
       "    }\n",
       "</style>\n",
       "<table border=\"1\" class=\"dataframe\">\n",
       "  <thead>\n",
       "    <tr style=\"text-align: right;\">\n",
       "      <th></th>\n",
       "      <th>ID</th>\n",
       "      <th>formula</th>\n",
       "      <th>compartment</th>\n",
       "      <th>genes</th>\n",
       "    </tr>\n",
       "  </thead>\n",
       "  <tbody>\n",
       "    <tr>\n",
       "      <th>2739</th>\n",
       "      <td>AMMQT8_2</td>\n",
       "      <td>2dmmq8_c + amet_c --&gt; ahcys_c + h_c + mqn8_c</td>\n",
       "      <td>{c}</td>\n",
       "      <td>(CIW80_14155)</td>\n",
       "    </tr>\n",
       "    <tr>\n",
       "      <th>2818</th>\n",
       "      <td>CYTK2_2</td>\n",
       "      <td>atp_c + ctp_c + dcmp_c &lt;=&gt; adp_c + cdp_c + dcdp_c</td>\n",
       "      <td>{c}</td>\n",
       "      <td>(CIW80_22565)</td>\n",
       "    </tr>\n",
       "    <tr>\n",
       "      <th>2815</th>\n",
       "      <td>GLYOX_2</td>\n",
       "      <td>h2o_c + lgt__S_c --&gt; gthrd_c + h_c + lac__D_c ...</td>\n",
       "      <td>{c}</td>\n",
       "      <td>(CIW80_18840)</td>\n",
       "    </tr>\n",
       "    <tr>\n",
       "      <th>311</th>\n",
       "      <td>PFK_2</td>\n",
       "      <td>atp_c + tag6p__D_c --&gt; adp_c + h_c + tagdp__D_c</td>\n",
       "      <td>{c}</td>\n",
       "      <td>(CIW80_14585)</td>\n",
       "    </tr>\n",
       "  </tbody>\n",
       "</table>\n",
       "</div>"
      ],
      "text/plain": [
       "            ID                                            formula compartment  \\\n",
       "2739  AMMQT8_2       2dmmq8_c + amet_c --> ahcys_c + h_c + mqn8_c         {c}   \n",
       "2818   CYTK2_2  atp_c + ctp_c + dcmp_c <=> adp_c + cdp_c + dcdp_c         {c}   \n",
       "2815   GLYOX_2  h2o_c + lgt__S_c --> gthrd_c + h_c + lac__D_c ...         {c}   \n",
       "311      PFK_2    atp_c + tag6p__D_c --> adp_c + h_c + tagdp__D_c         {c}   \n",
       "\n",
       "              genes  \n",
       "2739  (CIW80_14155)  \n",
       "2818  (CIW80_22565)  \n",
       "2815  (CIW80_18840)  \n",
       "311   (CIW80_14585)  "
      ]
     },
     "execution_count": 86,
     "metadata": {},
     "output_type": "execute_result"
    }
   ],
   "source": [
    "# \"_2\" reactions\n",
    "gene_copies_2 = reaction_df[reaction_df['ID'].str.contains(\"_2\")].sort_values('ID')\n",
    "gene_copies_2 = gene_copies_2[~gene_copies_2['ID'].str.contains(\"EX\")].sort_values('ID')\n",
    "gene_copies_2 = gene_copies_2[~gene_copies_2['ID'].str.contains(\"2pp\")].sort_values('ID')\n",
    "gene_copies_2"
   ]
  },
  {
   "cell_type": "code",
   "execution_count": 87,
   "metadata": {},
   "outputs": [
    {
     "data": {
      "text/html": [
       "<div>\n",
       "<style scoped>\n",
       "    .dataframe tbody tr th:only-of-type {\n",
       "        vertical-align: middle;\n",
       "    }\n",
       "\n",
       "    .dataframe tbody tr th {\n",
       "        vertical-align: top;\n",
       "    }\n",
       "\n",
       "    .dataframe thead th {\n",
       "        text-align: right;\n",
       "    }\n",
       "</style>\n",
       "<table border=\"1\" class=\"dataframe\">\n",
       "  <thead>\n",
       "    <tr style=\"text-align: right;\">\n",
       "      <th></th>\n",
       "      <th>ID</th>\n",
       "      <th>formula</th>\n",
       "      <th>compartment</th>\n",
       "      <th>genes</th>\n",
       "    </tr>\n",
       "  </thead>\n",
       "  <tbody>\n",
       "    <tr>\n",
       "      <th>8</th>\n",
       "      <td>PFK_3</td>\n",
       "      <td>atp_c + s7p_c --&gt; adp_c + h_c + s17bp_c</td>\n",
       "      <td>{c}</td>\n",
       "      <td>(CIW80_14585)</td>\n",
       "    </tr>\n",
       "  </tbody>\n",
       "</table>\n",
       "</div>"
      ],
      "text/plain": [
       "      ID                                  formula compartment          genes\n",
       "8  PFK_3  atp_c + s7p_c --> adp_c + h_c + s17bp_c         {c}  (CIW80_14585)"
      ]
     },
     "execution_count": 87,
     "metadata": {},
     "output_type": "execute_result"
    }
   ],
   "source": [
    "# \"_3\" reactions\n",
    "gene_copies_3 = reaction_df[reaction_df['ID'].str.contains(\"_3\")].sort_values('ID')\n",
    "gene_copies_3 = gene_copies_3[~gene_copies_3['ID'].str.contains(\"EX\")].sort_values('ID')\n",
    "gene_copies_3 = gene_copies_3[~gene_copies_3['ID'].str.contains(\"3pp\")].sort_values('ID')\n",
    "gene_copies_3"
   ]
  },
  {
   "cell_type": "markdown",
   "metadata": {},
   "source": [
    "# 5. Check reactions (different versions)"
   ]
  },
  {
   "cell_type": "markdown",
   "metadata": {},
   "source": [
    "###  3NTD2pp_1\n",
    "This reaction is only present in the model \"iECIAI1_1343\""
   ]
  },
  {
   "cell_type": "code",
   "execution_count": 88,
   "metadata": {},
   "outputs": [
    {
     "data": {
      "text/html": [
       "\n",
       "        <table>\n",
       "            <tr>\n",
       "                <td><strong>Reaction identifier</strong></td><td>3NTD2pp_1</td>\n",
       "            </tr><tr>\n",
       "                <td><strong>Name</strong></td><td>3'-nucleotidase (UMP) (periplasm)</td>\n",
       "            </tr><tr>\n",
       "                <td><strong>Memory address</strong></td>\n",
       "                <td>0x01ed41b1a588</td>\n",
       "            </tr><tr>\n",
       "                <td><strong>Stoichiometry</strong></td>\n",
       "                <td>\n",
       "                    <p style='text-align:right'>3dhguln_c + 3ump_p + atp_c + h2o_p --> 3dhgulnp_c + adp_c + h_c + pi_p + uri_p</p>\n",
       "                    <p style='text-align:right'>3-Dehydro-L-gulonate + 3 UMP C9H11N2O9P + ATP C10H12N5O13P3 + H2O H2O --> 3-keto-L-gulonate-6-phosphate + ADP C10H12N5O10P2 + H+ + Phosphate + Uridine</p>\n",
       "                </td>\n",
       "            </tr><tr>\n",
       "                <td><strong>GPR</strong></td><td>CIW80_16440</td>\n",
       "            </tr><tr>\n",
       "                <td><strong>Lower bound</strong></td><td>0.0</td>\n",
       "            </tr><tr>\n",
       "                <td><strong>Upper bound</strong></td><td>1000.0</td>\n",
       "            </tr>\n",
       "        </table>\n",
       "        "
      ],
      "text/plain": [
       "<Reaction 3NTD2pp_1 at 0x1ed41b1a588>"
      ]
     },
     "execution_count": 88,
     "metadata": {},
     "output_type": "execute_result"
    }
   ],
   "source": [
    "modelCopy.reactions.get_by_id('3NTD2pp_1')"
   ]
  },
  {
   "cell_type": "code",
   "execution_count": 89,
   "metadata": {},
   "outputs": [
    {
     "data": {
      "text/html": [
       "\n",
       "        <table>\n",
       "            <tr>\n",
       "                <td><strong>Reaction identifier</strong></td><td>3NTD2pp</td>\n",
       "            </tr><tr>\n",
       "                <td><strong>Name</strong></td><td>3'-nucleotidase (UMP) (periplasm)</td>\n",
       "            </tr><tr>\n",
       "                <td><strong>Memory address</strong></td>\n",
       "                <td>0x01ed41c15ac8</td>\n",
       "            </tr><tr>\n",
       "                <td><strong>Stoichiometry</strong></td>\n",
       "                <td>\n",
       "                    <p style='text-align:right'>3ump_p + h2o_p --> pi_p + uri_p</p>\n",
       "                    <p style='text-align:right'>3 UMP C9H11N2O9P + H2O H2O --> Phosphate + Uridine</p>\n",
       "                </td>\n",
       "            </tr><tr>\n",
       "                <td><strong>GPR</strong></td><td>CIW80_16440 or CIW80_20025</td>\n",
       "            </tr><tr>\n",
       "                <td><strong>Lower bound</strong></td><td>0.0</td>\n",
       "            </tr><tr>\n",
       "                <td><strong>Upper bound</strong></td><td>1000.0</td>\n",
       "            </tr>\n",
       "        </table>\n",
       "        "
      ],
      "text/plain": [
       "<Reaction 3NTD2pp at 0x1ed41c15ac8>"
      ]
     },
     "execution_count": 89,
     "metadata": {},
     "output_type": "execute_result"
    }
   ],
   "source": [
    "modelCopy.reactions.get_by_id('3NTD2pp')"
   ]
  },
  {
   "cell_type": "markdown",
   "metadata": {},
   "source": [
    "No evidence could be found in BioCyc and literature for the reaction '3NTD2pp_1' in Nissle, which will therefore be removed"
   ]
  },
  {
   "cell_type": "code",
   "execution_count": 90,
   "metadata": {},
   "outputs": [],
   "source": [
    "# Remove the duplicate\n",
    "modelCopy.remove_reactions(['3NTD2pp_1'])"
   ]
  },
  {
   "cell_type": "code",
   "execution_count": 91,
   "metadata": {},
   "outputs": [],
   "source": [
    "# Update in reaction overview\n",
    "rxn_origin_df.loc['3NTD2pp_1', 'added'] = 'removed'\n",
    "rxn_origin_df.loc['3NTD2pp_1', 'notes'] = 'No evidence for presence in EcN. Removed in 4.1. 3NTD2pp was kept.'"
   ]
  },
  {
   "cell_type": "markdown",
   "metadata": {},
   "source": [
    "### CELLBpts_1\n",
    "In the existing models the reactions are not both present in the same model. In both reactions the same metabolites are converted, but the location is different. In 'CELLBpts' extracellular cellobiose is transported and converted by using a periplasmic phosphoenolpyruvate (PEP). In 'CELLBpts_1' cytosolic PEP is used. In the mechanism of the PEP:Pyr PTS the phosphoryl group of PEP is transferred to EI of the transporter complex, thereby converting it to Pyr. So the correct reaction here is CELLBpts, in which periplasmid PEP is converted."
   ]
  },
  {
   "cell_type": "code",
   "execution_count": 92,
   "metadata": {},
   "outputs": [
    {
     "data": {
      "text/html": [
       "\n",
       "        <table>\n",
       "            <tr>\n",
       "                <td><strong>Reaction identifier</strong></td><td>CELLBpts_1</td>\n",
       "            </tr><tr>\n",
       "                <td><strong>Name</strong></td><td>Cellobiose transport via PEP:Pyr PTS</td>\n",
       "            </tr><tr>\n",
       "                <td><strong>Memory address</strong></td>\n",
       "                <td>0x01ed41b38d88</td>\n",
       "            </tr><tr>\n",
       "                <td><strong>Stoichiometry</strong></td>\n",
       "                <td>\n",
       "                    <p style='text-align:right'>cellb_e + pep_c --> 6pgg_c + pyr_p</p>\n",
       "                    <p style='text-align:right'>Cellobiose + Phosphoenolpyruvate --> 6-Phospho-beta-D-glucosyl-(1,4)-D-glucose + Pyruvate</p>\n",
       "                </td>\n",
       "            </tr><tr>\n",
       "                <td><strong>GPR</strong></td><td>CIW80_00635 or (CIW80_01555 and CIW80_00630)</td>\n",
       "            </tr><tr>\n",
       "                <td><strong>Lower bound</strong></td><td>0.0</td>\n",
       "            </tr><tr>\n",
       "                <td><strong>Upper bound</strong></td><td>1000.0</td>\n",
       "            </tr>\n",
       "        </table>\n",
       "        "
      ],
      "text/plain": [
       "<Reaction CELLBpts_1 at 0x1ed41b38d88>"
      ]
     },
     "execution_count": 92,
     "metadata": {},
     "output_type": "execute_result"
    }
   ],
   "source": [
    "modelCopy.reactions.get_by_id('CELLBpts_1')"
   ]
  },
  {
   "cell_type": "code",
   "execution_count": 93,
   "metadata": {},
   "outputs": [
    {
     "data": {
      "text/html": [
       "\n",
       "        <table>\n",
       "            <tr>\n",
       "                <td><strong>Reaction identifier</strong></td><td>CELLBpts</td>\n",
       "            </tr><tr>\n",
       "                <td><strong>Name</strong></td><td>Cellobiose transport via PEP:Pyr PTS</td>\n",
       "            </tr><tr>\n",
       "                <td><strong>Memory address</strong></td>\n",
       "                <td>0x01ed41b0cd08</td>\n",
       "            </tr><tr>\n",
       "                <td><strong>Stoichiometry</strong></td>\n",
       "                <td>\n",
       "                    <p style='text-align:right'>cellb_e + pep_p --> 6pgg_c + pyr_p</p>\n",
       "                    <p style='text-align:right'>Cellobiose + Phosphoenolpyruvate --> 6-Phospho-beta-D-glucosyl-(1,4)-D-glucose + Pyruvate</p>\n",
       "                </td>\n",
       "            </tr><tr>\n",
       "                <td><strong>GPR</strong></td><td>CIW80_00635</td>\n",
       "            </tr><tr>\n",
       "                <td><strong>Lower bound</strong></td><td>0.0</td>\n",
       "            </tr><tr>\n",
       "                <td><strong>Upper bound</strong></td><td>1000.0</td>\n",
       "            </tr>\n",
       "        </table>\n",
       "        "
      ],
      "text/plain": [
       "<Reaction CELLBpts at 0x1ed41b0cd08>"
      ]
     },
     "execution_count": 93,
     "metadata": {},
     "output_type": "execute_result"
    }
   ],
   "source": [
    "modelCopy.reactions.get_by_id('CELLBpts')"
   ]
  },
  {
   "cell_type": "code",
   "execution_count": 94,
   "metadata": {},
   "outputs": [],
   "source": [
    "# Remove the duplicate\n",
    "modelCopy.remove_reactions(['CELLBpts_1'])"
   ]
  },
  {
   "cell_type": "code",
   "execution_count": 95,
   "metadata": {},
   "outputs": [],
   "source": [
    "# Update in reaction overview\n",
    "rxn_origin_df.loc['CELLBpts_1', 'added'] = 'removed'\n",
    "rxn_origin_df.loc['CELLBpts_1', 'notes'] = 'Incorrect location of metabolites. Removed in 4.1. CELLBpts was kept.'"
   ]
  },
  {
   "cell_type": "markdown",
   "metadata": {},
   "source": [
    "### MNabc_1, AMMQT8_2\n",
    "No other version present in the model"
   ]
  },
  {
   "cell_type": "markdown",
   "metadata": {},
   "source": [
    "### MTHFD_1\n",
    "\n",
    "There are two versions:\n",
    "- Original:  Bi-directional reaction\n",
    "- Copy1: Bi-directional reaction, with same gene as original and an additional proton"
   ]
  },
  {
   "cell_type": "code",
   "execution_count": 96,
   "metadata": {},
   "outputs": [
    {
     "data": {
      "text/html": [
       "\n",
       "        <table>\n",
       "            <tr>\n",
       "                <td><strong>Reaction identifier</strong></td><td>MTHFD</td>\n",
       "            </tr><tr>\n",
       "                <td><strong>Name</strong></td><td>Methylenetetrahydrofolate dehydrogenase (NADP)</td>\n",
       "            </tr><tr>\n",
       "                <td><strong>Memory address</strong></td>\n",
       "                <td>0x01ed41c56c08</td>\n",
       "            </tr><tr>\n",
       "                <td><strong>Stoichiometry</strong></td>\n",
       "                <td>\n",
       "                    <p style='text-align:right'>mlthf_c + nadp_c <=> methf_c + nadph_c</p>\n",
       "                    <p style='text-align:right'>5,10-Methylenetetrahydrofolate + Nicotinamide adenine dinucleotide phosphate <=> 5,10-Methenyltetrahydrofolate + Nicotinamide adenine dinucleotide phosphate - reduced</p>\n",
       "                </td>\n",
       "            </tr><tr>\n",
       "                <td><strong>GPR</strong></td><td>CIW80_20780</td>\n",
       "            </tr><tr>\n",
       "                <td><strong>Lower bound</strong></td><td>-1000.0</td>\n",
       "            </tr><tr>\n",
       "                <td><strong>Upper bound</strong></td><td>1000.0</td>\n",
       "            </tr>\n",
       "        </table>\n",
       "        "
      ],
      "text/plain": [
       "<Reaction MTHFD at 0x1ed41c56c08>"
      ]
     },
     "execution_count": 96,
     "metadata": {},
     "output_type": "execute_result"
    }
   ],
   "source": [
    "modelCopy.reactions.MTHFD"
   ]
  },
  {
   "cell_type": "code",
   "execution_count": 97,
   "metadata": {},
   "outputs": [
    {
     "data": {
      "text/html": [
       "\n",
       "        <table>\n",
       "            <tr>\n",
       "                <td><strong>Reaction identifier</strong></td><td>MTHFD_1</td>\n",
       "            </tr><tr>\n",
       "                <td><strong>Name</strong></td><td>Methylenetetrahydrofolate dehydrogenase (NADP)</td>\n",
       "            </tr><tr>\n",
       "                <td><strong>Memory address</strong></td>\n",
       "                <td>0x01ed41b1aa88</td>\n",
       "            </tr><tr>\n",
       "                <td><strong>Stoichiometry</strong></td>\n",
       "                <td>\n",
       "                    <p style='text-align:right'>mlthf_c + nadp_c <=> h_c + methf_c + nadph_c</p>\n",
       "                    <p style='text-align:right'>5,10-Methylenetetrahydrofolate + Nicotinamide adenine dinucleotide phosphate <=> H+ + 5,10-Methenyltetrahydrofolate + Nicotinamide adenine dinucleotide phosphate - reduced</p>\n",
       "                </td>\n",
       "            </tr><tr>\n",
       "                <td><strong>GPR</strong></td><td>CIW80_20780</td>\n",
       "            </tr><tr>\n",
       "                <td><strong>Lower bound</strong></td><td>-1000.0</td>\n",
       "            </tr><tr>\n",
       "                <td><strong>Upper bound</strong></td><td>1000.0</td>\n",
       "            </tr>\n",
       "        </table>\n",
       "        "
      ],
      "text/plain": [
       "<Reaction MTHFD_1 at 0x1ed41b1aa88>"
      ]
     },
     "execution_count": 97,
     "metadata": {},
     "output_type": "execute_result"
    }
   ],
   "source": [
    "modelCopy.reactions.MTHFD_1"
   ]
  },
  {
   "cell_type": "code",
   "execution_count": 98,
   "metadata": {},
   "outputs": [
    {
     "data": {
      "text/plain": [
       "{'charge': 1.0, 'H': 1.0}"
      ]
     },
     "execution_count": 98,
     "metadata": {},
     "output_type": "execute_result"
    }
   ],
   "source": [
    "modelCopy.reactions.MTHFD_1.check_mass_balance()"
   ]
  },
  {
   "cell_type": "markdown",
   "metadata": {},
   "source": [
    "The additional proton should not be present. Therefore only MTHFD was kept"
   ]
  },
  {
   "cell_type": "code",
   "execution_count": 99,
   "metadata": {},
   "outputs": [],
   "source": [
    "# Remove the duplicate\n",
    "modelCopy.remove_reactions(['MTHFD_1'])"
   ]
  },
  {
   "cell_type": "code",
   "execution_count": 100,
   "metadata": {},
   "outputs": [],
   "source": [
    "# Update in reaction overview\n",
    "rxn_origin_df.loc['MTHFD_1', 'added'] = 'removed'\n",
    "rxn_origin_df.loc['MTHFD_1', 'notes'] = 'Incorrect mass balance. Removed in 4.1. MTHFD was kept.'"
   ]
  },
  {
   "cell_type": "markdown",
   "metadata": {},
   "source": [
    "### QULNS_1\n",
    "\n",
    "There are two versions:\n",
    "- Original:  One-directional reaction\n",
    "- Copy1: One-directional reaction, with same gene as original and additional proton"
   ]
  },
  {
   "cell_type": "code",
   "execution_count": 101,
   "metadata": {},
   "outputs": [
    {
     "data": {
      "text/html": [
       "\n",
       "        <table>\n",
       "            <tr>\n",
       "                <td><strong>Reaction identifier</strong></td><td>QULNS</td>\n",
       "            </tr><tr>\n",
       "                <td><strong>Name</strong></td><td>Quinolinate synthase</td>\n",
       "            </tr><tr>\n",
       "                <td><strong>Memory address</strong></td>\n",
       "                <td>0x01ed41c56dc8</td>\n",
       "            </tr><tr>\n",
       "                <td><strong>Stoichiometry</strong></td>\n",
       "                <td>\n",
       "                    <p style='text-align:right'>dhap_c + iasp_c --> 2.0 h2o_c + pi_c + quln_c</p>\n",
       "                    <p style='text-align:right'>Dihydroxyacetone phosphate + Iminoaspartate --> 2.0 H2O H2O + Phosphate + Quinolinate</p>\n",
       "                </td>\n",
       "            </tr><tr>\n",
       "                <td><strong>GPR</strong></td><td>CIW80_21725</td>\n",
       "            </tr><tr>\n",
       "                <td><strong>Lower bound</strong></td><td>0.0</td>\n",
       "            </tr><tr>\n",
       "                <td><strong>Upper bound</strong></td><td>1000.0</td>\n",
       "            </tr>\n",
       "        </table>\n",
       "        "
      ],
      "text/plain": [
       "<Reaction QULNS at 0x1ed41c56dc8>"
      ]
     },
     "execution_count": 101,
     "metadata": {},
     "output_type": "execute_result"
    }
   ],
   "source": [
    "modelCopy.reactions.QULNS"
   ]
  },
  {
   "cell_type": "code",
   "execution_count": 102,
   "metadata": {},
   "outputs": [
    {
     "data": {
      "text/html": [
       "\n",
       "        <table>\n",
       "            <tr>\n",
       "                <td><strong>Reaction identifier</strong></td><td>QULNS_1</td>\n",
       "            </tr><tr>\n",
       "                <td><strong>Name</strong></td><td>Quinolinate synthase</td>\n",
       "            </tr><tr>\n",
       "                <td><strong>Memory address</strong></td>\n",
       "                <td>0x01ed41b1a7c8</td>\n",
       "            </tr><tr>\n",
       "                <td><strong>Stoichiometry</strong></td>\n",
       "                <td>\n",
       "                    <p style='text-align:right'>dhap_c + iasp_c --> 2.0 h2o_c + h_c + pi_c + quln_c</p>\n",
       "                    <p style='text-align:right'>Dihydroxyacetone phosphate + Iminoaspartate --> 2.0 H2O H2O + H+ + Phosphate + Quinolinate</p>\n",
       "                </td>\n",
       "            </tr><tr>\n",
       "                <td><strong>GPR</strong></td><td>CIW80_21725</td>\n",
       "            </tr><tr>\n",
       "                <td><strong>Lower bound</strong></td><td>0.0</td>\n",
       "            </tr><tr>\n",
       "                <td><strong>Upper bound</strong></td><td>1000.0</td>\n",
       "            </tr>\n",
       "        </table>\n",
       "        "
      ],
      "text/plain": [
       "<Reaction QULNS_1 at 0x1ed41b1a7c8>"
      ]
     },
     "execution_count": 102,
     "metadata": {},
     "output_type": "execute_result"
    }
   ],
   "source": [
    "modelCopy.reactions.QULNS_1"
   ]
  },
  {
   "cell_type": "code",
   "execution_count": 103,
   "metadata": {},
   "outputs": [
    {
     "data": {
      "text/plain": [
       "{'charge': 1.0, 'H': 1.0}"
      ]
     },
     "execution_count": 103,
     "metadata": {},
     "output_type": "execute_result"
    }
   ],
   "source": [
    "modelCopy.reactions.QULNS_1.check_mass_balance()"
   ]
  },
  {
   "cell_type": "markdown",
   "metadata": {},
   "source": [
    "The additional proton should not be present. Therefore only QULNS was kept"
   ]
  },
  {
   "cell_type": "code",
   "execution_count": 104,
   "metadata": {},
   "outputs": [],
   "source": [
    "# Remove the duplicate\n",
    "modelCopy.remove_reactions(['QULNS_1'])"
   ]
  },
  {
   "cell_type": "code",
   "execution_count": 105,
   "metadata": {},
   "outputs": [],
   "source": [
    "# Update in reaction overview\n",
    "rxn_origin_df.loc['QULNS_1', 'added'] = 'removed'\n",
    "rxn_origin_df.loc['QULNS_1', 'notes'] = 'Incorrect mass balance. Removed in 4.1. QULNS was kept.'"
   ]
  },
  {
   "cell_type": "markdown",
   "metadata": {},
   "source": [
    "### CYTK2_2\n",
    "This reaction is only present in the model \"iECIAI1_1343\""
   ]
  },
  {
   "cell_type": "code",
   "execution_count": 106,
   "metadata": {},
   "outputs": [
    {
     "data": {
      "text/html": [
       "\n",
       "        <table>\n",
       "            <tr>\n",
       "                <td><strong>Reaction identifier</strong></td><td>CYTK2_2</td>\n",
       "            </tr><tr>\n",
       "                <td><strong>Name</strong></td><td>Cytidylate kinase (dCMP)</td>\n",
       "            </tr><tr>\n",
       "                <td><strong>Memory address</strong></td>\n",
       "                <td>0x01ed41b1a888</td>\n",
       "            </tr><tr>\n",
       "                <td><strong>Stoichiometry</strong></td>\n",
       "                <td>\n",
       "                    <p style='text-align:right'>atp_c + ctp_c + dcmp_c <=> adp_c + cdp_c + dcdp_c</p>\n",
       "                    <p style='text-align:right'>ATP C10H12N5O13P3 + CTP C9H12N3O14P3 + DCMP C9H12N3O7P <=> ADP C10H12N5O10P2 + CDP C9H12N3O11P2 + DCDP C9H12N3O10P2</p>\n",
       "                </td>\n",
       "            </tr><tr>\n",
       "                <td><strong>GPR</strong></td><td>CIW80_22565</td>\n",
       "            </tr><tr>\n",
       "                <td><strong>Lower bound</strong></td><td>-1000.0</td>\n",
       "            </tr><tr>\n",
       "                <td><strong>Upper bound</strong></td><td>1000.0</td>\n",
       "            </tr>\n",
       "        </table>\n",
       "        "
      ],
      "text/plain": [
       "<Reaction CYTK2_2 at 0x1ed41b1a888>"
      ]
     },
     "execution_count": 106,
     "metadata": {},
     "output_type": "execute_result"
    }
   ],
   "source": [
    "modelCopy.reactions.get_by_id('CYTK2_2')"
   ]
  },
  {
   "cell_type": "code",
   "execution_count": 107,
   "metadata": {},
   "outputs": [
    {
     "data": {
      "text/html": [
       "\n",
       "        <table>\n",
       "            <tr>\n",
       "                <td><strong>Reaction identifier</strong></td><td>CYTK2</td>\n",
       "            </tr><tr>\n",
       "                <td><strong>Name</strong></td><td>Cytidylate kinase (dCMP)</td>\n",
       "            </tr><tr>\n",
       "                <td><strong>Memory address</strong></td>\n",
       "                <td>0x01ed41cb6e08</td>\n",
       "            </tr><tr>\n",
       "                <td><strong>Stoichiometry</strong></td>\n",
       "                <td>\n",
       "                    <p style='text-align:right'>atp_c + dcmp_c <=> adp_c + dcdp_c</p>\n",
       "                    <p style='text-align:right'>ATP C10H12N5O13P3 + DCMP C9H12N3O7P <=> ADP C10H12N5O10P2 + DCDP C9H12N3O10P2</p>\n",
       "                </td>\n",
       "            </tr><tr>\n",
       "                <td><strong>GPR</strong></td><td>CIW80_22565</td>\n",
       "            </tr><tr>\n",
       "                <td><strong>Lower bound</strong></td><td>-1000.0</td>\n",
       "            </tr><tr>\n",
       "                <td><strong>Upper bound</strong></td><td>1000.0</td>\n",
       "            </tr>\n",
       "        </table>\n",
       "        "
      ],
      "text/plain": [
       "<Reaction CYTK2 at 0x1ed41cb6e08>"
      ]
     },
     "execution_count": 107,
     "metadata": {},
     "output_type": "execute_result"
    }
   ],
   "source": [
    "modelCopy.reactions.get_by_id('CYTK2')"
   ]
  },
  {
   "cell_type": "markdown",
   "metadata": {},
   "source": [
    "The gene CIW80_22565 (cmk) was predicted to be present in EcN https://biocyc.org/gene?orgid=GCF_003546975&id=CIW80_RS22325. The reaction that is catalysed by the product of cmk is CYTK2. Therefore CYTK2_2 will be removed."
   ]
  },
  {
   "cell_type": "code",
   "execution_count": 108,
   "metadata": {},
   "outputs": [],
   "source": [
    "# Remove the duplicate\n",
    "modelCopy.remove_reactions(['CYTK2_2'])"
   ]
  },
  {
   "cell_type": "code",
   "execution_count": 109,
   "metadata": {},
   "outputs": [],
   "source": [
    "# Update in reaction overview\n",
    "rxn_origin_df.loc['CYTK2_2', 'added'] = 'removed'\n",
    "rxn_origin_df.loc['CYTK2_2', 'notes'] = 'Incorrect reaction. Removed in 4.1. CYTK2 was kept.'"
   ]
  },
  {
   "cell_type": "markdown",
   "metadata": {},
   "source": [
    "### GLYOX_2\n",
    "In the reaction 'GLYOX_2', the metabolite 'mthgxl_c' is added to the original reaction. However, based on the reaction balance it seems that this is a mistake. Therefore GLYOX_2 will be removed."
   ]
  },
  {
   "cell_type": "code",
   "execution_count": 110,
   "metadata": {},
   "outputs": [
    {
     "data": {
      "text/html": [
       "\n",
       "        <table>\n",
       "            <tr>\n",
       "                <td><strong>Reaction identifier</strong></td><td>GLYOX_2</td>\n",
       "            </tr><tr>\n",
       "                <td><strong>Name</strong></td><td>Hydroxyacylglutathione hydrolase</td>\n",
       "            </tr><tr>\n",
       "                <td><strong>Memory address</strong></td>\n",
       "                <td>0x01ed41b1a948</td>\n",
       "            </tr><tr>\n",
       "                <td><strong>Stoichiometry</strong></td>\n",
       "                <td>\n",
       "                    <p style='text-align:right'>h2o_c + lgt__S_c --> gthrd_c + h_c + lac__D_c + mthgxl_c</p>\n",
       "                    <p style='text-align:right'>H2O H2O + (R)-S-Lactoylglutathione --> Reduced glutathione + H+ + D-Lactate + Methylglyoxal</p>\n",
       "                </td>\n",
       "            </tr><tr>\n",
       "                <td><strong>GPR</strong></td><td>CIW80_18840</td>\n",
       "            </tr><tr>\n",
       "                <td><strong>Lower bound</strong></td><td>0.0</td>\n",
       "            </tr><tr>\n",
       "                <td><strong>Upper bound</strong></td><td>1000.0</td>\n",
       "            </tr>\n",
       "        </table>\n",
       "        "
      ],
      "text/plain": [
       "<Reaction GLYOX_2 at 0x1ed41b1a948>"
      ]
     },
     "execution_count": 110,
     "metadata": {},
     "output_type": "execute_result"
    }
   ],
   "source": [
    "modelCopy.reactions.get_by_id('GLYOX_2')"
   ]
  },
  {
   "cell_type": "code",
   "execution_count": 111,
   "metadata": {},
   "outputs": [
    {
     "data": {
      "text/plain": [
       "{'C': 3.0, 'H': 4.0, 'O': 2.0}"
      ]
     },
     "execution_count": 111,
     "metadata": {},
     "output_type": "execute_result"
    }
   ],
   "source": [
    "modelCopy.reactions.get_by_id('GLYOX_2').check_mass_balance()"
   ]
  },
  {
   "cell_type": "code",
   "execution_count": 112,
   "metadata": {},
   "outputs": [
    {
     "data": {
      "text/html": [
       "\n",
       "        <table>\n",
       "            <tr>\n",
       "                <td><strong>Reaction identifier</strong></td><td>GLYOX</td>\n",
       "            </tr><tr>\n",
       "                <td><strong>Name</strong></td><td>Hydroxyacylglutathione hydrolase</td>\n",
       "            </tr><tr>\n",
       "                <td><strong>Memory address</strong></td>\n",
       "                <td>0x01ed41c15488</td>\n",
       "            </tr><tr>\n",
       "                <td><strong>Stoichiometry</strong></td>\n",
       "                <td>\n",
       "                    <p style='text-align:right'>h2o_c + lgt__S_c --> gthrd_c + h_c + lac__D_c</p>\n",
       "                    <p style='text-align:right'>H2O H2O + (R)-S-Lactoylglutathione --> Reduced glutathione + H+ + D-Lactate</p>\n",
       "                </td>\n",
       "            </tr><tr>\n",
       "                <td><strong>GPR</strong></td><td>CIW80_18840</td>\n",
       "            </tr><tr>\n",
       "                <td><strong>Lower bound</strong></td><td>0.0</td>\n",
       "            </tr><tr>\n",
       "                <td><strong>Upper bound</strong></td><td>1000.0</td>\n",
       "            </tr>\n",
       "        </table>\n",
       "        "
      ],
      "text/plain": [
       "<Reaction GLYOX at 0x1ed41c15488>"
      ]
     },
     "execution_count": 112,
     "metadata": {},
     "output_type": "execute_result"
    }
   ],
   "source": [
    "modelCopy.reactions.get_by_id('GLYOX')"
   ]
  },
  {
   "cell_type": "code",
   "execution_count": 113,
   "metadata": {},
   "outputs": [],
   "source": [
    "# Remove the duplicate\n",
    "modelCopy.remove_reactions(['GLYOX_2'])"
   ]
  },
  {
   "cell_type": "code",
   "execution_count": 114,
   "metadata": {},
   "outputs": [],
   "source": [
    "# Update in reaction overview\n",
    "rxn_origin_df.loc['GLYOX_2', 'added'] = 'removed'\n",
    "rxn_origin_df.loc['GLYOX_2', 'notes'] = 'Incorrect mass balance. Removed in 4.1. GLYOX was kept.'"
   ]
  },
  {
   "cell_type": "markdown",
   "metadata": {},
   "source": [
    "### PFK_2 & PFK_3\n",
    "Promiscuous enzyme that can catalyse multiple sugars. Keep all three reactions (PFK, PFK_2, PFK_3)"
   ]
  },
  {
   "cell_type": "code",
   "execution_count": 115,
   "metadata": {},
   "outputs": [
    {
     "data": {
      "text/html": [
       "\n",
       "        <table>\n",
       "            <tr>\n",
       "                <td><strong>Reaction identifier</strong></td><td>PFK</td>\n",
       "            </tr><tr>\n",
       "                <td><strong>Name</strong></td><td>Phosphofructokinase</td>\n",
       "            </tr><tr>\n",
       "                <td><strong>Memory address</strong></td>\n",
       "                <td>0x01ed41bfa148</td>\n",
       "            </tr><tr>\n",
       "                <td><strong>Stoichiometry</strong></td>\n",
       "                <td>\n",
       "                    <p style='text-align:right'>atp_c + f6p_c --> adp_c + fdp_c + h_c</p>\n",
       "                    <p style='text-align:right'>ATP C10H12N5O13P3 + D-Fructose 6-phosphate --> ADP C10H12N5O10P2 + D-Fructose 1,6-bisphosphate + H+</p>\n",
       "                </td>\n",
       "            </tr><tr>\n",
       "                <td><strong>GPR</strong></td><td>CIW80_14585 or CIW80_01495</td>\n",
       "            </tr><tr>\n",
       "                <td><strong>Lower bound</strong></td><td>0.0</td>\n",
       "            </tr><tr>\n",
       "                <td><strong>Upper bound</strong></td><td>1000.0</td>\n",
       "            </tr>\n",
       "        </table>\n",
       "        "
      ],
      "text/plain": [
       "<Reaction PFK at 0x1ed41bfa148>"
      ]
     },
     "execution_count": 115,
     "metadata": {},
     "output_type": "execute_result"
    }
   ],
   "source": [
    "modelCopy.reactions.PFK"
   ]
  },
  {
   "cell_type": "code",
   "execution_count": 116,
   "metadata": {},
   "outputs": [
    {
     "data": {
      "text/plain": [
       "'atp_c + tag6p__D_c --> adp_c + h_c + tagdp__D_c'"
      ]
     },
     "execution_count": 116,
     "metadata": {},
     "output_type": "execute_result"
    }
   ],
   "source": [
    "modelCopy.reactions.get_by_id('PFK_2').reaction"
   ]
  },
  {
   "cell_type": "code",
   "execution_count": 117,
   "metadata": {},
   "outputs": [
    {
     "data": {
      "text/plain": [
       "'atp_c + s7p_c --> adp_c + h_c + s17bp_c'"
      ]
     },
     "execution_count": 117,
     "metadata": {},
     "output_type": "execute_result"
    }
   ],
   "source": [
    "modelCopy.reactions.get_by_id('PFK_3').reaction"
   ]
  },
  {
   "cell_type": "code",
   "execution_count": 118,
   "metadata": {},
   "outputs": [
    {
     "data": {
      "text/plain": [
       "'atp_c + f6p_c --> adp_c + fdp_c + h_c'"
      ]
     },
     "execution_count": 118,
     "metadata": {},
     "output_type": "execute_result"
    }
   ],
   "source": [
    "modelCopy.reactions.get_by_id('PFK').reaction"
   ]
  },
  {
   "cell_type": "markdown",
   "metadata": {},
   "source": [
    "# 6. Test model"
   ]
  },
  {
   "cell_type": "code",
   "execution_count": 119,
   "metadata": {},
   "outputs": [],
   "source": [
    "#Establish a definition that initializes models to an in silico representation of M9 media\n",
    "\n",
    "def m9(model):\n",
    "    for reaction in model.reactions:\n",
    "        if 'EX_' in  reaction.id:\n",
    "            reaction.lower_bound=0 \n",
    "            \n",
    "    model.reactions.EX_ca2_e.lower_bound=-1000\n",
    "    model.reactions.EX_cl_e.lower_bound=-1000\n",
    "    model.reactions.EX_co2_e.lower_bound=-1000\n",
    "    model.reactions.EX_cobalt2_e.lower_bound=-1000\n",
    "    model.reactions.EX_cu2_e.lower_bound=-1000\n",
    "    model.reactions.EX_fe2_e.lower_bound=-1000\n",
    "    model.reactions.EX_fe3_e.lower_bound=-1000\n",
    "    model.reactions.EX_h_e.lower_bound=-1000\n",
    "    model.reactions.EX_h2o_e.lower_bound=-1000\n",
    "    model.reactions.EX_k_e.lower_bound=-1000\n",
    "    model.reactions.EX_mg2_e.lower_bound=-1000\n",
    "    model.reactions.EX_mn2_e.lower_bound=-1000\n",
    "    model.reactions.EX_mobd_e.lower_bound=-1000\n",
    "    model.reactions.EX_na1_e.lower_bound=-1000\n",
    "    model.reactions.EX_tungs_e.lower_bound=-1000\n",
    "    model.reactions.EX_zn2_e.lower_bound=-1000\n",
    "    model.reactions.EX_ni2_e.lower_bound=-1000\n",
    "    model.reactions.EX_sel_e.lower_bound=-1000\n",
    "    model.reactions.EX_slnt_e.lower_bound=-1000\n",
    "    model.reactions.EX_glc__D_e.lower_bound=-20\n",
    "    model.reactions.EX_so4_e.lower_bound=-1000\n",
    "    model.reactions.EX_nh4_e.lower_bound=-1000\n",
    "    model.reactions.EX_pi_e.lower_bound=-1000\n",
    "    model.reactions.EX_cbl1_e.lower_bound=-.01\n",
    "    model.reactions.EX_o2_e.lower_bound=-20\n",
    "       \n",
    "    return model"
   ]
  },
  {
   "cell_type": "code",
   "execution_count": 120,
   "metadata": {},
   "outputs": [
    {
     "data": {
      "text/html": [
       "<strong><em>Optimal</em> solution with objective value 2.701</strong><br><div>\n",
       "<style scoped>\n",
       "    .dataframe tbody tr th:only-of-type {\n",
       "        vertical-align: middle;\n",
       "    }\n",
       "\n",
       "    .dataframe tbody tr th {\n",
       "        vertical-align: top;\n",
       "    }\n",
       "\n",
       "    .dataframe thead th {\n",
       "        text-align: right;\n",
       "    }\n",
       "</style>\n",
       "<table border=\"1\" class=\"dataframe\">\n",
       "  <thead>\n",
       "    <tr style=\"text-align: right;\">\n",
       "      <th></th>\n",
       "      <th>fluxes</th>\n",
       "      <th>reduced_costs</th>\n",
       "    </tr>\n",
       "  </thead>\n",
       "  <tbody>\n",
       "    <tr>\n",
       "      <th>ALATA_D2</th>\n",
       "      <td>0.000000</td>\n",
       "      <td>-7.604370e-03</td>\n",
       "    </tr>\n",
       "    <tr>\n",
       "      <th>SHCHD2</th>\n",
       "      <td>0.000602</td>\n",
       "      <td>5.551115e-17</td>\n",
       "    </tr>\n",
       "    <tr>\n",
       "      <th>CPPPGO</th>\n",
       "      <td>0.000602</td>\n",
       "      <td>0.000000e+00</td>\n",
       "    </tr>\n",
       "    <tr>\n",
       "      <th>GTHOr</th>\n",
       "      <td>0.000000</td>\n",
       "      <td>-6.829559e-17</td>\n",
       "    </tr>\n",
       "    <tr>\n",
       "      <th>DHORD5</th>\n",
       "      <td>0.000000</td>\n",
       "      <td>-1.420500e-16</td>\n",
       "    </tr>\n",
       "    <tr>\n",
       "      <th>...</th>\n",
       "      <td>...</td>\n",
       "      <td>...</td>\n",
       "    </tr>\n",
       "    <tr>\n",
       "      <th>12PPDStpp</th>\n",
       "      <td>0.000000</td>\n",
       "      <td>0.000000e+00</td>\n",
       "    </tr>\n",
       "    <tr>\n",
       "      <th>MALt5</th>\n",
       "      <td>0.000000</td>\n",
       "      <td>3.453838e-17</td>\n",
       "    </tr>\n",
       "    <tr>\n",
       "      <th>SALCHS2FEexs</th>\n",
       "      <td>0.000000</td>\n",
       "      <td>6.199542e-19</td>\n",
       "    </tr>\n",
       "    <tr>\n",
       "      <th>SALCHS4FEexs</th>\n",
       "      <td>0.000000</td>\n",
       "      <td>6.199542e-19</td>\n",
       "    </tr>\n",
       "    <tr>\n",
       "      <th>DHPTDCs</th>\n",
       "      <td>0.000000</td>\n",
       "      <td>0.000000e+00</td>\n",
       "    </tr>\n",
       "  </tbody>\n",
       "</table>\n",
       "<p>2821 rows × 2 columns</p>\n",
       "</div>"
      ],
      "text/plain": [
       "<Solution 2.701 at 0x1ed41b23ec8>"
      ]
     },
     "execution_count": 120,
     "metadata": {},
     "output_type": "execute_result"
    }
   ],
   "source": [
    "# Test whether the EcN model can grown on glucose (EX_glc__D_e)\n",
    "with modelCopy:\n",
    "    m9(modelCopy)\n",
    "    solution = modelCopy.optimize()\n",
    "    \n",
    "solution"
   ]
  },
  {
   "cell_type": "markdown",
   "metadata": {},
   "source": [
    "# 7. Remaining duplicates"
   ]
  },
  {
   "cell_type": "code",
   "execution_count": 121,
   "metadata": {},
   "outputs": [
    {
     "data": {
      "text/html": [
       "<div>\n",
       "<style scoped>\n",
       "    .dataframe tbody tr th:only-of-type {\n",
       "        vertical-align: middle;\n",
       "    }\n",
       "\n",
       "    .dataframe tbody tr th {\n",
       "        vertical-align: top;\n",
       "    }\n",
       "\n",
       "    .dataframe thead th {\n",
       "        text-align: right;\n",
       "    }\n",
       "</style>\n",
       "<table border=\"1\" class=\"dataframe\">\n",
       "  <thead>\n",
       "    <tr style=\"text-align: right;\">\n",
       "      <th></th>\n",
       "      <th>ID</th>\n",
       "      <th>formula</th>\n",
       "      <th>compartment</th>\n",
       "      <th>genes</th>\n",
       "    </tr>\n",
       "  </thead>\n",
       "  <tbody>\n",
       "  </tbody>\n",
       "</table>\n",
       "</div>"
      ],
      "text/plain": [
       "Empty DataFrame\n",
       "Columns: [ID, formula, compartment, genes]\n",
       "Index: []"
      ]
     },
     "execution_count": 121,
     "metadata": {},
     "output_type": "execute_result"
    }
   ],
   "source": [
    "# Double check which reactions still have copies\n",
    "reaction_df = pd.DataFrame(columns=['ID','formula', 'compartment', 'genes'])\n",
    "\n",
    "for reaction in modelCopy.reactions:\n",
    "    formula = reaction.reaction\n",
    "    ID = reaction.id\n",
    "    compartment = reaction.compartments\n",
    "    genes = reaction.genes\n",
    "    data = {'ID': ID, 'formula': formula, 'compartment': compartment, 'genes': genes}\n",
    "    reaction_df = reaction_df.append(data, ignore_index=True)\n",
    "\n",
    "gene_copies = reaction_df[reaction_df['ID'].str.contains(\"copy\")].sort_values('ID')\n",
    "gene_copies"
   ]
  },
  {
   "cell_type": "markdown",
   "metadata": {},
   "source": [
    "All duplicate reactions seem to have been removed."
   ]
  },
  {
   "cell_type": "markdown",
   "metadata": {},
   "source": [
    "# 8. Check other causes elevated growth rate"
   ]
  },
  {
   "cell_type": "code",
   "execution_count": 122,
   "metadata": {},
   "outputs": [
    {
     "name": "stderr",
     "output_type": "stream",
     "text": [
      "C:\\Users\\maxvan\\AppData\\Local\\Continuum\\anaconda3\\envs\\EcN_model\\lib\\site-packages\\cobra\\core\\model.py:745: UserWarning: need to pass in a list\n",
      "  warn(\"need to pass in a list\")\n"
     ]
    },
    {
     "data": {
      "text/html": [
       "<div>\n",
       "<style scoped>\n",
       "    .dataframe tbody tr th:only-of-type {\n",
       "        vertical-align: middle;\n",
       "    }\n",
       "\n",
       "    .dataframe tbody tr th {\n",
       "        vertical-align: top;\n",
       "    }\n",
       "\n",
       "    .dataframe thead th {\n",
       "        text-align: right;\n",
       "    }\n",
       "</style>\n",
       "<table border=\"1\" class=\"dataframe\">\n",
       "  <thead>\n",
       "    <tr style=\"text-align: right;\">\n",
       "      <th></th>\n",
       "      <th>objective_value</th>\n",
       "    </tr>\n",
       "    <tr>\n",
       "      <th>reaction</th>\n",
       "      <th></th>\n",
       "    </tr>\n",
       "  </thead>\n",
       "  <tbody>\n",
       "    <tr>\n",
       "      <th>ALATA_D2</th>\n",
       "      <td>2.701498</td>\n",
       "    </tr>\n",
       "    <tr>\n",
       "      <th>SHCHD2</th>\n",
       "      <td>0.0</td>\n",
       "    </tr>\n",
       "    <tr>\n",
       "      <th>CPPPGO</th>\n",
       "      <td>2.701384</td>\n",
       "    </tr>\n",
       "    <tr>\n",
       "      <th>GTHOr</th>\n",
       "      <td>2.701498</td>\n",
       "    </tr>\n",
       "    <tr>\n",
       "      <th>DHORD5</th>\n",
       "      <td>2.701498</td>\n",
       "    </tr>\n",
       "    <tr>\n",
       "      <th>...</th>\n",
       "      <td>...</td>\n",
       "    </tr>\n",
       "    <tr>\n",
       "      <th>12PPDStpp</th>\n",
       "      <td>2.701498</td>\n",
       "    </tr>\n",
       "    <tr>\n",
       "      <th>MALt5</th>\n",
       "      <td>2.701498</td>\n",
       "    </tr>\n",
       "    <tr>\n",
       "      <th>SALCHS2FEexs</th>\n",
       "      <td>2.701498</td>\n",
       "    </tr>\n",
       "    <tr>\n",
       "      <th>SALCHS4FEexs</th>\n",
       "      <td>2.701498</td>\n",
       "    </tr>\n",
       "    <tr>\n",
       "      <th>DHPTDCs</th>\n",
       "      <td>2.701498</td>\n",
       "    </tr>\n",
       "  </tbody>\n",
       "</table>\n",
       "<p>2821 rows × 1 columns</p>\n",
       "</div>"
      ],
      "text/plain": [
       "             objective_value\n",
       "reaction                    \n",
       "ALATA_D2            2.701498\n",
       "SHCHD2                   0.0\n",
       "CPPPGO              2.701384\n",
       "GTHOr               2.701498\n",
       "DHORD5              2.701498\n",
       "...                      ...\n",
       "12PPDStpp           2.701498\n",
       "MALt5               2.701498\n",
       "SALCHS2FEexs        2.701498\n",
       "SALCHS4FEexs        2.701498\n",
       "DHPTDCs             2.701498\n",
       "\n",
       "[2821 rows x 1 columns]"
      ]
     },
     "execution_count": 122,
     "metadata": {},
     "output_type": "execute_result"
    }
   ],
   "source": [
    "rxn_df = pd.DataFrame(columns=['reaction', 'objective_value'])\n",
    "rxn_df.set_index('reaction', inplace=True)\n",
    "m9(modelCopy)\n",
    "\n",
    "for rxn in reaction_df.ID.values.tolist():\n",
    "    with modelCopy:\n",
    "        modelCopy.remove_reactions(rxn)\n",
    "        rxn_df.loc[rxn, 'objective_value'] = modelCopy.slim_optimize()\n",
    "        \n",
    "rxn_df"
   ]
  },
  {
   "cell_type": "code",
   "execution_count": 123,
   "metadata": {},
   "outputs": [
    {
     "data": {
      "text/html": [
       "<div>\n",
       "<style scoped>\n",
       "    .dataframe tbody tr th:only-of-type {\n",
       "        vertical-align: middle;\n",
       "    }\n",
       "\n",
       "    .dataframe tbody tr th {\n",
       "        vertical-align: top;\n",
       "    }\n",
       "\n",
       "    .dataframe thead th {\n",
       "        text-align: right;\n",
       "    }\n",
       "</style>\n",
       "<table border=\"1\" class=\"dataframe\">\n",
       "  <thead>\n",
       "    <tr style=\"text-align: right;\">\n",
       "      <th></th>\n",
       "      <th>objective_value</th>\n",
       "    </tr>\n",
       "    <tr>\n",
       "      <th>reaction</th>\n",
       "      <th></th>\n",
       "    </tr>\n",
       "  </thead>\n",
       "  <tbody>\n",
       "    <tr>\n",
       "      <th>EX_h_e</th>\n",
       "      <td>1.223074</td>\n",
       "    </tr>\n",
       "    <tr>\n",
       "      <th>Htex</th>\n",
       "      <td>1.223074</td>\n",
       "    </tr>\n",
       "    <tr>\n",
       "      <th>H2Otex</th>\n",
       "      <td>1.665348</td>\n",
       "    </tr>\n",
       "    <tr>\n",
       "      <th>H2Otpp</th>\n",
       "      <td>1.665348</td>\n",
       "    </tr>\n",
       "    <tr>\n",
       "      <th>EX_h2o_e</th>\n",
       "      <td>1.665348</td>\n",
       "    </tr>\n",
       "    <tr>\n",
       "      <th>YUMPS</th>\n",
       "      <td>1.12128</td>\n",
       "    </tr>\n",
       "    <tr>\n",
       "      <th>PSUDS</th>\n",
       "      <td>1.12128</td>\n",
       "    </tr>\n",
       "  </tbody>\n",
       "</table>\n",
       "</div>"
      ],
      "text/plain": [
       "         objective_value\n",
       "reaction                \n",
       "EX_h_e          1.223074\n",
       "Htex            1.223074\n",
       "H2Otex          1.665348\n",
       "H2Otpp          1.665348\n",
       "EX_h2o_e        1.665348\n",
       "YUMPS            1.12128\n",
       "PSUDS            1.12128"
      ]
     },
     "execution_count": 123,
     "metadata": {},
     "output_type": "execute_result"
    }
   ],
   "source": [
    "growth_reduction = rxn_df[rxn_df['objective_value'] < 2.5]\n",
    "growth_reduction = growth_reduction[growth_reduction['objective_value'] > 1]\n",
    "growth_reduction"
   ]
  },
  {
   "cell_type": "code",
   "execution_count": 124,
   "metadata": {},
   "outputs": [
    {
     "data": {
      "text/html": [
       "\n",
       "        <table>\n",
       "            <tr>\n",
       "                <td><strong>Reaction identifier</strong></td><td>YUMPS</td>\n",
       "            </tr><tr>\n",
       "                <td><strong>Name</strong></td><td>YUMP synthetase</td>\n",
       "            </tr><tr>\n",
       "                <td><strong>Memory address</strong></td>\n",
       "                <td>0x01ed41bfa508</td>\n",
       "            </tr><tr>\n",
       "                <td><strong>Stoichiometry</strong></td>\n",
       "                <td>\n",
       "                    <p style='text-align:right'>r5p_c + ura_c <=> h2o_c + psd5p_c</p>\n",
       "                    <p style='text-align:right'>Alpha-D-Ribose 5-phosphate + Uracil <=> H2O H2O + Pseudouridine 5 phosphate C9H11N2O9P</p>\n",
       "                </td>\n",
       "            </tr><tr>\n",
       "                <td><strong>GPR</strong></td><td>CIW80_04645</td>\n",
       "            </tr><tr>\n",
       "                <td><strong>Lower bound</strong></td><td>-1000.0</td>\n",
       "            </tr><tr>\n",
       "                <td><strong>Upper bound</strong></td><td>1000.0</td>\n",
       "            </tr>\n",
       "        </table>\n",
       "        "
      ],
      "text/plain": [
       "<Reaction YUMPS at 0x1ed41bfa508>"
      ]
     },
     "execution_count": 124,
     "metadata": {},
     "output_type": "execute_result"
    }
   ],
   "source": [
    "modelCopy.reactions.YUMPS"
   ]
  },
  {
   "cell_type": "code",
   "execution_count": 125,
   "metadata": {},
   "outputs": [
    {
     "data": {
      "text/html": [
       "\n",
       "        <table>\n",
       "            <tr>\n",
       "                <td><strong>Reaction identifier</strong></td><td>PSUDS</td>\n",
       "            </tr><tr>\n",
       "                <td><strong>Name</strong></td><td>Pseudouridylate synthase</td>\n",
       "            </tr><tr>\n",
       "                <td><strong>Memory address</strong></td>\n",
       "                <td>0x01ed41b2cac8</td>\n",
       "            </tr><tr>\n",
       "                <td><strong>Stoichiometry</strong></td>\n",
       "                <td>\n",
       "                    <p style='text-align:right'>2.0 h_c + r5p_c + ura_c --> h2o_c + psd5p_c</p>\n",
       "                    <p style='text-align:right'>2.0 H+ + Alpha-D-Ribose 5-phosphate + Uracil --> H2O H2O + Pseudouridine 5 phosphate C9H11N2O9P</p>\n",
       "                </td>\n",
       "            </tr><tr>\n",
       "                <td><strong>GPR</strong></td><td>CIW80_06805</td>\n",
       "            </tr><tr>\n",
       "                <td><strong>Lower bound</strong></td><td>0.0</td>\n",
       "            </tr><tr>\n",
       "                <td><strong>Upper bound</strong></td><td>1000.0</td>\n",
       "            </tr>\n",
       "        </table>\n",
       "        "
      ],
      "text/plain": [
       "<Reaction PSUDS at 0x1ed41b2cac8>"
      ]
     },
     "execution_count": 125,
     "metadata": {},
     "output_type": "execute_result"
    }
   ],
   "source": [
    "modelCopy.reactions.PSUDS"
   ]
  },
  {
   "cell_type": "code",
   "execution_count": 126,
   "metadata": {},
   "outputs": [
    {
     "data": {
      "text/plain": [
       "{'charge': -2.0, 'H': -2.0}"
      ]
     },
     "execution_count": 126,
     "metadata": {},
     "output_type": "execute_result"
    }
   ],
   "source": [
    "modelCopy.reactions.PSUDS.check_mass_balance()"
   ]
  },
  {
   "cell_type": "markdown",
   "metadata": {},
   "source": [
    "These two reactions both describe the conversion of alpha-D-Ribose 5- phosphate. However, in the second reaction (PSUDS) additionally two protons are consumed. This is not correct based on the mass balance. Therefore the second reaction will be removed."
   ]
  },
  {
   "cell_type": "code",
   "execution_count": 127,
   "metadata": {},
   "outputs": [],
   "source": [
    "# Remove the duplicate\n",
    "modelCopy.remove_reactions(['PSUDS'])"
   ]
  },
  {
   "cell_type": "code",
   "execution_count": 128,
   "metadata": {},
   "outputs": [],
   "source": [
    "# Update in reaction overview\n",
    "rxn_origin_df.loc['PSUDS', 'added'] = 'removed'\n",
    "rxn_origin_df.loc['PSUDS', 'notes'] = 'Incorrect mass balance. Removed in 4.1. YUMPS was kept.'"
   ]
  },
  {
   "cell_type": "markdown",
   "metadata": {},
   "source": [
    "# 9. Unbound flux cycles\n",
    "Take the reactions with unbound flux from MEMOTE. Remove the reactions already present in iML1515 and check the remaining."
   ]
  },
  {
   "cell_type": "code",
   "execution_count": 129,
   "metadata": {},
   "outputs": [],
   "source": [
    "EcN_flux = [\"ALATA_L\",\"PPM\",\"VALTA\",\"HACD5\",\"HACD6\",\"HACD4\",\"HACD7\",\"ADK1\",\"HACD1\",\"HACD2\",\"FADRx\",\"NDPK1\",\"ACCOAL\",\"HPYRRx\",\"PTA2\",\"PPAKr\",\"ADK3\",\"SUCFUMtpp\",\"ARGAGMt7pp\",\"ABUTt2pp\",\"ACt2rpp\",\"TRSARr\",\"NAtex\",\"CRNt8pp\",\"CRNt2rpp\",\"CRNDt2rpp\",\"INDOLEt2pp\",\"R1PK\",\"R15BPK\",\"PROt2rpp\",\"PROt4pp\",\"GLUABUTt7pp\",\"GLUt2rpp\",\"GLUt4pp\",\"GLBRAN2\",\"GLYCLTt4pp\",\"PTRCORNt7pp\",\"HACD3\",\"GLYCLTt2rpp\",\"ARGORNt7pp\",\"MALtex\",\"HPYRI\",\"NAt3pp\",\"ACOAD7f\",\"ACOAD5f\",\"ACOAD3f\",\"ACOAD4f\",\"ACOAD6f\",\"CAt6pp\",\"CA2t3pp\",\"MN2tpp\",\"GLDBRAN2\",\"HACD8\",\"THFAT\",\"FOMETRi\",\"SUCASPtpp\",\"ACOAD1fr\",\"LEUt2rpp\",\"INDOLEt2rpp\",\"MN2tipp\",\"ASPtpp\",\"FUMt1pp\",\"SUCCt1pp\",\"DMALRED\",\"HACD8i\",\"PPCSCT\",\"LEUt4rpp\",\"AGMPTRCtpp\",\"ACOAD2\",\"HHDDI\",\"OHEDH\",\"2HH24DDH1_copy2\",\"2HH24DDH1_copy1\",\"MALt5\"]\n",
    "iML_flux = [\"ALATA_L\",\"PPM\",\"VALTA\",\"EX_fe2_e\",\"ICHORS_copy1\",\"ICHORS_copy2\",\"ADK1\",\"NDPK1\",\"ACCOAL\",\"HPYRRx\",\"PTA2\",\"PPAKr\",\"ADK3\",\"SUCFUMtpp\",\"THMDt2pp_copy1\",\"THMDt2pp_copy2\",\"URIt2pp_copy1\",\"URIt2pp_copy2\",\"ABUTt2pp\",\"ACt2rpp\",\"ACt4pp\",\"ADNt2pp_copy1\",\"ADNt2pp_copy2\",\"CYTDt2pp_copy1\",\"CYTDt2pp_copy2\",\"GLCtex_copy1\",\"TRSARr\",\"FE2tex\",\"CRNt8pp\",\"CRNt2rpp\",\"CRNDt2rpp\",\"INDOLEt2pp\",\"R1PK\",\"R15BPK\",\"PROt2rpp\",\"PROt4pp\",\"GLUABUTt7pp\",\"GLUt2rpp\",\"GLUt4pp\",\"GLBRAN2\",\"GLYCLTt4pp\",\"GLYCLTt2rpp\",\"SUCOAS\",\"HPYRI\",\"NAt3pp\",\"CAt6pp\",\"CA2t3pp\",\"MN2tpp\",\"GLDBRAN2\",\"THFAT\",\"FOMETRi\",\"SUCASPtpp\",\"ACOAD1fr\",\"INDOLEt2rpp\",\"MN2tipp\",\"ASPtpp\",\"FUMt1pp\",\"SUCCt1pp\"]"
   ]
  },
  {
   "cell_type": "code",
   "execution_count": 130,
   "metadata": {},
   "outputs": [
    {
     "data": {
      "text/plain": [
       "['HACD6',\n",
       " 'NAtex',\n",
       " 'ACOAD5f',\n",
       " 'HACD4',\n",
       " 'HACD3',\n",
       " 'LEUt2rpp',\n",
       " 'HACD8',\n",
       " 'HACD7',\n",
       " 'ACOAD4f',\n",
       " 'MALt5',\n",
       " 'ACOAD3f',\n",
       " 'HACD1',\n",
       " '2HH24DDH1_copy1',\n",
       " 'HHDDI',\n",
       " 'AGMPTRCtpp',\n",
       " 'ARGORNt7pp',\n",
       " 'HACD8i',\n",
       " 'PPCSCT',\n",
       " 'LEUt4rpp',\n",
       " 'ACOAD2',\n",
       " 'PTRCORNt7pp',\n",
       " 'OHEDH',\n",
       " 'MALtex',\n",
       " 'FADRx',\n",
       " 'HACD2',\n",
       " 'HACD5',\n",
       " 'ARGAGMt7pp',\n",
       " '2HH24DDH1_copy2',\n",
       " 'ACOAD7f',\n",
       " 'DMALRED',\n",
       " 'ACOAD6f']"
      ]
     },
     "execution_count": 130,
     "metadata": {},
     "output_type": "execute_result"
    }
   ],
   "source": [
    "flux_list = list(set(EcN_flux) - set(iML_flux))\n",
    "flux_list"
   ]
  },
  {
   "cell_type": "markdown",
   "metadata": {},
   "source": [
    "### HACDx & HACDxi"
   ]
  },
  {
   "cell_type": "code",
   "execution_count": 131,
   "metadata": {},
   "outputs": [
    {
     "data": {
      "text/html": [
       "\n",
       "        <table>\n",
       "            <tr>\n",
       "                <td><strong>Reaction identifier</strong></td><td>HACD8</td>\n",
       "            </tr><tr>\n",
       "                <td><strong>Name</strong></td><td>3-hydroxyacyl-CoA dehydrogenase (3-oxooctadecanoyl-CoA), peroxisomal</td>\n",
       "            </tr><tr>\n",
       "                <td><strong>Memory address</strong></td>\n",
       "                <td>0x01ed41b7d608</td>\n",
       "            </tr><tr>\n",
       "                <td><strong>Stoichiometry</strong></td>\n",
       "                <td>\n",
       "                    <p style='text-align:right'>3ohodcoa_c + h_c + nadh_c <=> 3hodcoa_c + nad_c</p>\n",
       "                    <p style='text-align:right'>3-Oxooctadecanoyl-CoA + H+ + Nicotinamide adenine dinucleotide - reduced <=> (S)-3-Hydroxyoctadecanoyl-CoA + Nicotinamide adenine dinucleotide</p>\n",
       "                </td>\n",
       "            </tr><tr>\n",
       "                <td><strong>GPR</strong></td><td>CIW80_14210 or CIW80_05635</td>\n",
       "            </tr><tr>\n",
       "                <td><strong>Lower bound</strong></td><td>-1000.0</td>\n",
       "            </tr><tr>\n",
       "                <td><strong>Upper bound</strong></td><td>1000.0</td>\n",
       "            </tr>\n",
       "        </table>\n",
       "        "
      ],
      "text/plain": [
       "<Reaction HACD8 at 0x1ed41b7d608>"
      ]
     },
     "execution_count": 131,
     "metadata": {},
     "output_type": "execute_result"
    }
   ],
   "source": [
    "modelCopy.reactions.get_by_id('HACD8')"
   ]
  },
  {
   "cell_type": "code",
   "execution_count": 132,
   "metadata": {},
   "outputs": [
    {
     "data": {
      "text/html": [
       "\n",
       "        <table>\n",
       "            <tr>\n",
       "                <td><strong>Reaction identifier</strong></td><td>HACD8i</td>\n",
       "            </tr><tr>\n",
       "                <td><strong>Name</strong></td><td>3-hydroxyacyl-CoA dehydrogenase (3-oxooctadecanoyl-CoA)</td>\n",
       "            </tr><tr>\n",
       "                <td><strong>Memory address</strong></td>\n",
       "                <td>0x01ed41b2c688</td>\n",
       "            </tr><tr>\n",
       "                <td><strong>Stoichiometry</strong></td>\n",
       "                <td>\n",
       "                    <p style='text-align:right'>3hodcoa_c + nad_c --> 3ohodcoa_c + h_c + nadh_c</p>\n",
       "                    <p style='text-align:right'>(S)-3-Hydroxyoctadecanoyl-CoA + Nicotinamide adenine dinucleotide --> 3-Oxooctadecanoyl-CoA + H+ + Nicotinamide adenine dinucleotide - reduced</p>\n",
       "                </td>\n",
       "            </tr><tr>\n",
       "                <td><strong>GPR</strong></td><td>CIW80_14210 or CIW80_05635</td>\n",
       "            </tr><tr>\n",
       "                <td><strong>Lower bound</strong></td><td>0.0</td>\n",
       "            </tr><tr>\n",
       "                <td><strong>Upper bound</strong></td><td>1000.0</td>\n",
       "            </tr>\n",
       "        </table>\n",
       "        "
      ],
      "text/plain": [
       "<Reaction HACD8i at 0x1ed41b2c688>"
      ]
     },
     "execution_count": 132,
     "metadata": {},
     "output_type": "execute_result"
    }
   ],
   "source": [
    "modelCopy.reactions.get_by_id('HACD8i')"
   ]
  },
  {
   "cell_type": "code",
   "execution_count": 133,
   "metadata": {},
   "outputs": [
    {
     "data": {
      "text/html": [
       "<h3>3hodcoa_c</h3><p>C39H66N7O18P3S</p><h4>Producing Reactions</h4><table border=\"1\" class=\"dataframe\">\n",
       "  <thead>\n",
       "    <tr style=\"text-align: right;\">\n",
       "      <th>Percent</th>\n",
       "      <th>Flux</th>\n",
       "      <th>Reaction</th>\n",
       "      <th>Definition</th>\n",
       "    </tr>\n",
       "  </thead>\n",
       "  <tbody>\n",
       "  </tbody>\n",
       "</table><h4>Consuming Reactions</h4><table border=\"1\" class=\"dataframe\">\n",
       "  <thead>\n",
       "    <tr style=\"text-align: right;\">\n",
       "      <th>Percent</th>\n",
       "      <th>Flux</th>\n",
       "      <th>Reaction</th>\n",
       "      <th>Definition</th>\n",
       "    </tr>\n",
       "  </thead>\n",
       "  <tbody>\n",
       "  </tbody>\n",
       "</table>"
      ],
      "text/plain": [
       "<cobra.summary.metabolite_summary.MetaboliteSummary at 0x1ed4358ffc8>"
      ]
     },
     "execution_count": 133,
     "metadata": {},
     "output_type": "execute_result"
    }
   ],
   "source": [
    "modelCopy.metabolites.get_by_id('3hodcoa_c').summary()"
   ]
  },
  {
   "cell_type": "markdown",
   "metadata": {},
   "source": [
    "This is the case for all reactions of HACD1-8. Remove the reverse reaction (HACDxi) in all cases to prevent energy generating cycles"
   ]
  },
  {
   "cell_type": "code",
   "execution_count": 134,
   "metadata": {},
   "outputs": [],
   "source": [
    "# Remove the reverse reactions\n",
    "modelCopy.remove_reactions(['HACD1i','HACD2i','HACD3i','HACD4i','HACD5i','HACD6i','HACD7i', 'HACD8i'])\n",
    "\n",
    "# Edit in reaction overview\n",
    "for rxn in ['HACD1i','HACD2i','HACD3i','HACD4i','HACD5i','HACD6i','HACD7i', 'HACD8i']:\n",
    "    rxn_origin_df.loc[rxn, 'added'] = 'removed'\n",
    "    rxn_origin_df.loc[rxn, 'notes'] = 'Caused unbound flux. Removed in 4.1. \"HACDx\" (without i) was kept as correct reaction.'"
   ]
  },
  {
   "cell_type": "markdown",
   "metadata": {},
   "source": [
    "### ACOAD & ACOADxf"
   ]
  },
  {
   "cell_type": "code",
   "execution_count": 135,
   "metadata": {},
   "outputs": [
    {
     "data": {
      "text/html": [
       "\n",
       "        <table>\n",
       "            <tr>\n",
       "                <td><strong>Reaction identifier</strong></td><td>ACOAD2</td>\n",
       "            </tr><tr>\n",
       "                <td><strong>Name</strong></td><td>Acyl-CoA dehydrogenase (hexanoyl-CoA)</td>\n",
       "            </tr><tr>\n",
       "                <td><strong>Memory address</strong></td>\n",
       "                <td>0x01ed41b1ae88</td>\n",
       "            </tr><tr>\n",
       "                <td><strong>Stoichiometry</strong></td>\n",
       "                <td>\n",
       "                    <p style='text-align:right'>h_c + hx2coa_c + nadh_c --> hxcoa_c + nad_c</p>\n",
       "                    <p style='text-align:right'>H+ + Trans-Hex-2-enoyl-CoA + Nicotinamide adenine dinucleotide - reduced --> Hexanoyl-CoA (n-C6:0CoA) + Nicotinamide adenine dinucleotide</p>\n",
       "                </td>\n",
       "            </tr><tr>\n",
       "                <td><strong>GPR</strong></td><td>CIW80_19405</td>\n",
       "            </tr><tr>\n",
       "                <td><strong>Lower bound</strong></td><td>0.0</td>\n",
       "            </tr><tr>\n",
       "                <td><strong>Upper bound</strong></td><td>1000.0</td>\n",
       "            </tr>\n",
       "        </table>\n",
       "        "
      ],
      "text/plain": [
       "<Reaction ACOAD2 at 0x1ed41b1ae88>"
      ]
     },
     "execution_count": 135,
     "metadata": {},
     "output_type": "execute_result"
    }
   ],
   "source": [
    "modelCopy.reactions.ACOAD2"
   ]
  },
  {
   "cell_type": "code",
   "execution_count": 136,
   "metadata": {},
   "outputs": [
    {
     "data": {
      "text/html": [
       "\n",
       "        <table>\n",
       "            <tr>\n",
       "                <td><strong>Reaction identifier</strong></td><td>ACOAD2f</td>\n",
       "            </tr><tr>\n",
       "                <td><strong>Name</strong></td><td>Acyl-CoA dehydrogenase (hexanoyl-CoA)</td>\n",
       "            </tr><tr>\n",
       "                <td><strong>Memory address</strong></td>\n",
       "                <td>0x01ed41b82288</td>\n",
       "            </tr><tr>\n",
       "                <td><strong>Stoichiometry</strong></td>\n",
       "                <td>\n",
       "                    <p style='text-align:right'>fad_c + hxcoa_c <=> fadh2_c + hx2coa_c</p>\n",
       "                    <p style='text-align:right'>Flavin adenine dinucleotide oxidized + Hexanoyl-CoA (n-C6:0CoA) <=> Flavin adenine dinucleotide reduced + Trans-Hex-2-enoyl-CoA</p>\n",
       "                </td>\n",
       "            </tr><tr>\n",
       "                <td><strong>GPR</strong></td><td>CIW80_19405</td>\n",
       "            </tr><tr>\n",
       "                <td><strong>Lower bound</strong></td><td>-1000.0</td>\n",
       "            </tr><tr>\n",
       "                <td><strong>Upper bound</strong></td><td>1000.0</td>\n",
       "            </tr>\n",
       "        </table>\n",
       "        "
      ],
      "text/plain": [
       "<Reaction ACOAD2f at 0x1ed41b82288>"
      ]
     },
     "execution_count": 136,
     "metadata": {},
     "output_type": "execute_result"
    }
   ],
   "source": [
    "modelCopy.reactions.ACOAD2f"
   ]
  },
  {
   "cell_type": "code",
   "execution_count": 137,
   "metadata": {},
   "outputs": [
    {
     "data": {
      "text/html": [
       "\n",
       "        <table>\n",
       "            <tr>\n",
       "                <td><strong>Reaction identifier</strong></td><td>FADRx</td>\n",
       "            </tr><tr>\n",
       "                <td><strong>Name</strong></td><td>FAD reductase</td>\n",
       "            </tr><tr>\n",
       "                <td><strong>Memory address</strong></td>\n",
       "                <td>0x01ed41cb6648</td>\n",
       "            </tr><tr>\n",
       "                <td><strong>Stoichiometry</strong></td>\n",
       "                <td>\n",
       "                    <p style='text-align:right'>fad_c + h_c + nadh_c --> fadh2_c + nad_c</p>\n",
       "                    <p style='text-align:right'>Flavin adenine dinucleotide oxidized + H+ + Nicotinamide adenine dinucleotide - reduced --> Flavin adenine dinucleotide reduced + Nicotinamide adenine dinucleotide</p>\n",
       "                </td>\n",
       "            </tr><tr>\n",
       "                <td><strong>GPR</strong></td><td>CIW80_14200</td>\n",
       "            </tr><tr>\n",
       "                <td><strong>Lower bound</strong></td><td>0.0</td>\n",
       "            </tr><tr>\n",
       "                <td><strong>Upper bound</strong></td><td>1000.0</td>\n",
       "            </tr>\n",
       "        </table>\n",
       "        "
      ],
      "text/plain": [
       "<Reaction FADRx at 0x1ed41cb6648>"
      ]
     },
     "execution_count": 137,
     "metadata": {},
     "output_type": "execute_result"
    }
   ],
   "source": [
    "modelCopy.reactions.get_by_id('FADRx')"
   ]
  },
  {
   "cell_type": "code",
   "execution_count": 138,
   "metadata": {},
   "outputs": [
    {
     "data": {
      "text/html": [
       "<h3>hxcoa_c</h3><p>C27H42N7O17P3S</p><h4>Producing Reactions</h4><table border=\"1\" class=\"dataframe\">\n",
       "  <thead>\n",
       "    <tr style=\"text-align: right;\">\n",
       "      <th>Percent</th>\n",
       "      <th>Flux</th>\n",
       "      <th>Reaction</th>\n",
       "      <th>Definition</th>\n",
       "    </tr>\n",
       "  </thead>\n",
       "  <tbody>\n",
       "    <tr>\n",
       "      <td>100.00%</td>\n",
       "      <td>0.399</td>\n",
       "      <td>ACOAD2</td>\n",
       "      <td>h_c + hx2coa_c + nadh_c --&gt; hxcoa_c + nad_c</td>\n",
       "    </tr>\n",
       "  </tbody>\n",
       "</table><h4>Consuming Reactions</h4><table border=\"1\" class=\"dataframe\">\n",
       "  <thead>\n",
       "    <tr style=\"text-align: right;\">\n",
       "      <th>Percent</th>\n",
       "      <th>Flux</th>\n",
       "      <th>Reaction</th>\n",
       "      <th>Definition</th>\n",
       "    </tr>\n",
       "  </thead>\n",
       "  <tbody>\n",
       "    <tr>\n",
       "      <td>100.00%</td>\n",
       "      <td>-0.399</td>\n",
       "      <td>ACACT3r</td>\n",
       "      <td>accoa_c + hxcoa_c &lt;=&gt; 3oocoa_c + coa_c</td>\n",
       "    </tr>\n",
       "  </tbody>\n",
       "</table>"
      ],
      "text/plain": [
       "<cobra.summary.metabolite_summary.MetaboliteSummary at 0x1ed40f03b08>"
      ]
     },
     "execution_count": 138,
     "metadata": {},
     "output_type": "execute_result"
    }
   ],
   "source": [
    "modelCopy.metabolites.hxcoa_c.summary()"
   ]
  },
  {
   "cell_type": "markdown",
   "metadata": {},
   "source": [
    "The cofactor of the Acyl-CoA dehydrogenase is a flavoprotein according to literature. The \"f\" version is kept."
   ]
  },
  {
   "cell_type": "code",
   "execution_count": 139,
   "metadata": {},
   "outputs": [],
   "source": [
    "# Remove the reactions involving NAD/NADH\n",
    "modelCopy.remove_reactions(['ACOAD2','ACOAD3','ACOAD4','ACOAD5','ACOAD6','ACOAD7'])\n",
    "\n",
    "# Edit in reaction overview\n",
    "for rxn in ['ACOAD2','ACOAD3','ACOAD4','ACOAD5','ACOAD6','ACOAD7']:\n",
    "    rxn_origin_df.loc[rxn, 'added'] = 'removed'\n",
    "    rxn_origin_df.loc[rxn, 'notes'] = 'Caused unbound flux. Removed in 4.1. %sf was kept as correct reaction.'%rxn"
   ]
  },
  {
   "cell_type": "markdown",
   "metadata": {},
   "source": [
    "The other reactions did not generate energy in the cycles and were therefore not adapted for the moment."
   ]
  },
  {
   "cell_type": "markdown",
   "metadata": {},
   "source": [
    "# 10. Save updated model"
   ]
  },
  {
   "cell_type": "code",
   "execution_count": 140,
   "metadata": {},
   "outputs": [],
   "source": [
    "# Save the model\n",
    "cobra.io.json.save_json_model(modelCopy, str('../data/models/%s_cur_4.1.json'%EcN_ID), pretty=False)"
   ]
  },
  {
   "cell_type": "code",
   "execution_count": 141,
   "metadata": {},
   "outputs": [],
   "source": [
    "# Save as a table\n",
    "rxn_origin_df.to_csv('../tables/rxn_origin.csv')"
   ]
  },
  {
   "cell_type": "code",
   "execution_count": null,
   "metadata": {},
   "outputs": [],
   "source": []
  }
 ],
 "metadata": {
  "kernelspec": {
   "display_name": "Python 3",
   "language": "python",
   "name": "python3"
  },
  "language_info": {
   "codemirror_mode": {
    "name": "ipython",
    "version": 3
   },
   "file_extension": ".py",
   "mimetype": "text/x-python",
   "name": "python",
   "nbconvert_exporter": "python",
   "pygments_lexer": "ipython3",
   "version": "3.7.9"
  }
 },
 "nbformat": 4,
 "nbformat_minor": 2
}
