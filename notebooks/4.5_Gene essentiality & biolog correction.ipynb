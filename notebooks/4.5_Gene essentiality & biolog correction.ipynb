{
 "cells": [
  {
   "cell_type": "markdown",
   "metadata": {},
   "source": [
    "# 4.5 Gene essentiality & biolog correction\n",
    "\n",
    "During the first round of gene essentiality prediction, several errors in the model were found. These are corrected in this notebook.\n",
    "- proA/B\n",
    "- argI/F"
   ]
  },
  {
   "cell_type": "code",
   "execution_count": 1,
   "metadata": {},
   "outputs": [],
   "source": [
    "import cobra\n",
    "from cobra.io import load_json_model\n",
    "import pandas as pd"
   ]
  },
  {
   "cell_type": "code",
   "execution_count": 2,
   "metadata": {},
   "outputs": [],
   "source": [
    "# Load EcN model\n",
    "EcN_ID = 'CP022686.1'\n",
    "EcN_model = cobra.io.load_json_model('../data/models/%s_cur_4.4.json'%EcN_ID)\n",
    "\n",
    "# Load the tables with information on origin of genes & reactions\n",
    "rxn_origin_df = pd.read_csv('../tables/rxn_origin.csv')\n",
    "rxn_origin_df.set_index('reaction', inplace=True)\n",
    "rxn_origin_df.head()\n",
    "\n",
    "gene_origin_df = pd.read_csv('../tables/gene_origin.csv')\n",
    "gene_origin_df.set_index('gene', inplace=True)"
   ]
  },
  {
   "cell_type": "markdown",
   "metadata": {},
   "source": [
    "### _proA/B_\n",
    "\n",
    "- proB: glutamate 5-kinase. https://ecocyc.org/gene?orgid=ECOLI&id=EG10768\n",
    "- proA: glutamate-5-semialdehyde dehydrogenase. https://ecocyc.org/gene?orgid=ECOLI&id=EG10767\n",
    "\n",
    "proA/B encode for respectively glutamate-5-semialdehyde dehydrogenase and glutamate 5-kinase. Lack of these enzymes prohibit the formation of L-Glutamate 5-semialdehyde. The EcN model has an additional reaction (NACODA - N-acetylornithine deacetylase) for the formation of this compound and acetate from N-Acetyl-L-glutamate 5-semialdehyde. However, this reaction cannot be found in the databases EcoCyc and KeGG, nor in literature, and will therefore be removed. The gene is also linked to another reaction and can stay in the model."
   ]
  },
  {
   "cell_type": "code",
   "execution_count": 3,
   "metadata": {},
   "outputs": [],
   "source": [
    "# Remove NACODA\n",
    "EcN_model.remove_reactions(['NACODA'])"
   ]
  },
  {
   "cell_type": "code",
   "execution_count": 4,
   "metadata": {},
   "outputs": [],
   "source": [
    "# Edit in reaction overview\n",
    "rxn_origin_df.loc['NACODA', 'added'] = 'removed'\n",
    "rxn_origin_df.loc['NACODA', 'notes'] = 'No evidence for existence in literature, EcoCyc & KeGG. Removed in 4.5'"
   ]
  },
  {
   "cell_type": "markdown",
   "metadata": {},
   "source": [
    "### _argI/F_\n",
    "\n",
    "- argI/argF: ornithine carbamoyltransferase. https://ecocyc.org/gene?orgid=ECOLI&id=EG10069\n",
    "\n",
    "EcoCyc: _\"E. coli K-12 contains two structural genes, argF and argI, encoding ornithine carbamoyltransferase, both of which catalyze the sixth step of arginine biosynthesis.\"_\n",
    "\n",
    "EcN also contains two genes, both annotated in the genome as _argF_ (CIW80_16625 and CIW80_16605). The two K12 genes (b0273 & b4254) both have the highest homology to the CIW80_16625 gene and were both linked to this gene in the EcN model. As a result, the 'OCBT' reaction was dependent on 2x this gene, due to which knockout resulted in complete loss of function. Therefore the _argI_ gene will also be added to the model."
   ]
  },
  {
   "cell_type": "code",
   "execution_count": 5,
   "metadata": {},
   "outputs": [],
   "source": [
    "# Add the argI gene\n",
    "EcN_model.reactions.OCBT.gene_reaction_rule = '( CIW80_16625 or CIW80_16605 )'\n",
    "EcN_model.genes.CIW80_16605.name = 'argI'\n",
    "\n",
    "# Add to reaction and gene overview\n",
    "rxn_origin_df.loc['OCBT', 'notes'] = 'CIW80_16605 was added as additional gene in the GPR in notebook 4.5'\n",
    "\n",
    "gene_origin_df.loc['b4254', 'EcN_gene'] = 'CIW80_16605'\n",
    "gene_origin_df.loc['b4254', 'origin'] = 'iML1515'\n",
    "gene_origin_df.loc['b4254', 'added'] = 'manual'\n",
    "gene_origin_df.loc['b4254', 'notebook'] = '4.5'\n",
    "gene_origin_df.loc['b4254', 'notes'] = 'Added as argI in notebook 4.5'"
   ]
  },
  {
   "cell_type": "markdown",
   "metadata": {},
   "source": [
    "### Sucrose catabolism\n",
    "EcN does not have the genes for sucrose catabolism \n",
    "https://journals.plos.org/plosone/article?id=10.1371/journal.pone.0053957\n",
    "\n",
    "Remove reactions associated with sucrose catabolism\n",
    "- SUCtpp\n",
    "- SUCptspp\n",
    "- SUCR\n",
    "- FFSD"
   ]
  },
  {
   "cell_type": "code",
   "execution_count": 6,
   "metadata": {},
   "outputs": [],
   "source": [
    "# Remove sucrose metabolism genes\n",
    "for rxn in ['SUCtpp', 'SUCptspp', 'SUCR', 'FFSD']:\n",
    "    EcN_model.remove_reactions([rxn])\n",
    "\n",
    "    # Edit in reaction overview\n",
    "    rxn_origin_df.loc[rxn, 'added'] = 'removed'\n",
    "    rxn_origin_df.loc[rxn, 'notes'] = 'EcN does not have sucrose catabolism. Removed in 4.5'"
   ]
  },
  {
   "cell_type": "markdown",
   "metadata": {},
   "source": [
    "### Save the adapted model"
   ]
  },
  {
   "cell_type": "code",
   "execution_count": 7,
   "metadata": {},
   "outputs": [],
   "source": [
    "# Save the model\n",
    "cobra.io.json.save_json_model(EcN_model, str('../data/models/%s_cur_4.5.json'%EcN_ID), pretty=False)"
   ]
  },
  {
   "cell_type": "code",
   "execution_count": 8,
   "metadata": {},
   "outputs": [],
   "source": [
    "# Save as a table\n",
    "rxn_origin_df.to_csv('../tables/rxn_origin.csv')\n",
    "gene_origin_df.to_csv('../tables/gene_origin.csv')"
   ]
  }
 ],
 "metadata": {
  "kernelspec": {
   "display_name": "Python 3",
   "language": "python",
   "name": "python3"
  },
  "language_info": {
   "codemirror_mode": {
    "name": "ipython",
    "version": 3
   },
   "file_extension": ".py",
   "mimetype": "text/x-python",
   "name": "python",
   "nbconvert_exporter": "python",
   "pygments_lexer": "ipython3",
   "version": "3.7.9"
  }
 },
 "nbformat": 4,
 "nbformat_minor": 4
}
