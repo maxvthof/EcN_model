{
 "cells": [
  {
   "cell_type": "code",
   "execution_count": 1,
   "metadata": {},
   "outputs": [],
   "source": [
    "import cobra\n",
    "from cobra.io import load_json_model\n",
    "from cobra import Model, Reaction, Metabolite\n",
    "from cobra.flux_analysis import flux_variability_analysis\n",
    "\n",
    "import pandas as pd\n",
    "import numpy as np\n",
    "\n",
    "import escher\n",
    "from escher import Builder"
   ]
  },
  {
   "cell_type": "markdown",
   "metadata": {},
   "source": [
    "# 1. Define medium"
   ]
  },
  {
   "cell_type": "markdown",
   "metadata": {},
   "source": [
    "Synthetic medium from https://www.sciencedirect.com/science/article/pii/S0014579307007235\n",
    "<br>\"minimal synthetic medium containing 48 mM Na2HPO4, 22 mM KH2PO4, 9 mM NaCl, 19 mM NH4Cl, 2 mM MgSO4, 0.1 mM CaCl2, 0.1 g/l of thiamine and 2 g/l of glucose\""
   ]
  },
  {
   "cell_type": "code",
   "execution_count": 35,
   "metadata": {},
   "outputs": [],
   "source": [
    "# Load the model\n",
    "EcN_model = cobra.io.load_json_model('../data/models/CP022686.1_cur_4.8.json')"
   ]
  },
  {
   "cell_type": "code",
   "execution_count": 36,
   "metadata": {},
   "outputs": [],
   "source": [
    "# Define the biolog media\n",
    "medium = EcN_model.medium\n",
    "medium['EX_glc__D_e'] = 15\n",
    "    \n",
    "medium['EX_nh4_e'] = 19 # 19 mM NH4Cl\n",
    "medium['EX_pi_e'] = 60 # 48mM Na2HPO4 + 22 mM KH2PO4  \n",
    "medium['EX_so4_e'] = 2 # 2 mM MgSO4\n",
    "    \n",
    "medium['EX_mg2_e'] = 2 # 2 mM MgSO4\n",
    "medium['EX_ca2_e'] = 0.1 # 0.1 mM CaCl2SS\n",
    "    \n",
    "medium['EX_na1_e'] = 105 # 48 mM Na2HPO4 + 9 mM NaCl\n",
    "medium['EX_k_e'] = 22 # 22 mM KH2PO4\n",
    "medium['EX_cl_e'] = 28 # 9 mM NaCl + 19 mM NH4Cl\n",
    "    \n",
    "medium['EX_thm_e'] = 0.38 # 0.1 g/L > 0.1/265.355 x 1000 = 0.376854 mM\n",
    "\n",
    "# trace elements were not defined in the paper\n",
    "value = 1000 # 0.01\n",
    "medium['EX_fe3_e'] = value\n",
    "medium['EX_mn2_e'] = value\n",
    "medium['EX_fe2_e'] = value\n",
    "medium['EX_zn2_e'] = value\n",
    "medium['EX_ni2_e'] = value\n",
    "medium['EX_cu2_e'] = value\n",
    "medium['EX_cobalt2_e'] = value\n",
    "medium['EX_sel_e'] = value\n",
    "medium['EX_mobd_e'] = value\n",
    "medium['EX_tungs_e'] = value\n",
    "medium['EX_slnt_e'] = value\n",
    "medium['EX_salchsx_e'] = value\n",
    "\n",
    "EcN_model.medium = medium"
   ]
  },
  {
   "cell_type": "code",
   "execution_count": 37,
   "metadata": {},
   "outputs": [],
   "source": [
    "# Adjust the flow through several reactions based on Kim et al. 2021\n",
    "for rxn in ['CELBpts', 'CLBtex', 'HPAtex', '3hoxpactex', 'LCARS', 'PTRCORNt7pp', 'DTARTD', 'SUCTARTtpp', 'TARTD', 'TARTRt7pp']: # CELBpts describes the cellobiose reaction \n",
    "    EcN_model.reactions.get_by_id(rxn).lower_bound = 0\n",
    "    EcN_model.reactions.get_by_id(rxn).upper_bound = 0"
   ]
  },
  {
   "cell_type": "markdown",
   "metadata": {},
   "source": [
    "# 2. FVA"
   ]
  },
  {
   "cell_type": "code",
   "execution_count": 38,
   "metadata": {},
   "outputs": [],
   "source": [
    "# # Set acetate flux > 0.481 ± 0.001 * 15 > \n",
    "# # EcN_model.reactions.EX_ac_e.bounds = (0.480*15, 0.482*15)\n",
    "# EcN_model.reactions.ACKr.bounds = (0.480*15, 0.482*15)"
   ]
  },
  {
   "cell_type": "code",
   "execution_count": 39,
   "metadata": {},
   "outputs": [],
   "source": [
    "# wt_solution = EcN_model.optimize()\n",
    "# wt_growth = wt_solution.fluxes[\"BIOMASS_EcN_iHM1533_core_59p80M\"]\n",
    "# acetate_production = wt_solution.fluxes[\"EX_ac_e\"]"
   ]
  },
  {
   "cell_type": "code",
   "execution_count": 40,
   "metadata": {},
   "outputs": [],
   "source": [
    "# #set growth to 99% of maximum for FVA\n",
    "# FVA_value = 0.90\n",
    "# model_copy = EcN_model.copy()\n",
    "\n",
    "# # Set FVA value as growth boundaries\n",
    "# growth = FVA_value*model_copy.optimize().objective_value\n",
    "# model_copy.reactions.BIOMASS_EcN_iHM1533_core_59p80M.bounds = (growth,growth)\n",
    "\n",
    "# print(growth)"
   ]
  },
  {
   "cell_type": "markdown",
   "metadata": {},
   "source": [
    "### Import flux data"
   ]
  },
  {
   "cell_type": "code",
   "execution_count": 41,
   "metadata": {},
   "outputs": [],
   "source": [
    "# # Import the flux file and set index\n",
    "# flux_df = pd.read_excel('../tables/13C_fluxes.xlsx', usecols=(0,1,2,3))\n",
    "# flux_df = flux_df.dropna()\n",
    "# flux_df.set_index('ID', inplace=True)\n",
    "# flux_df.sort_values(by='glc_flux_mean', ascending=True, inplace=True)\n",
    "# flux_df['Flux_x'] = flux_df['glc_flux_mean'] *15\n",
    "# flux_df['LB'] = (flux_df['glc_flux_mean'] - flux_df['glc_flux_sd']) *15 # normalise for 15 glucose\n",
    "# flux_df['UB'] = (flux_df['glc_flux_mean'] + flux_df['glc_flux_sd']) *15 # normalise for 15 glucose\n",
    "# flux_df.head()"
   ]
  },
  {
   "cell_type": "code",
   "execution_count": 42,
   "metadata": {},
   "outputs": [],
   "source": [
    "# for index, row in flux_df.iterrows():  \n",
    "#     bounds = flux_variability_analysis(model_copy, index)\n",
    "\n",
    "#     # add model_id column\n",
    "#     flux_df.loc[index,'model_id'] = index\n",
    "    \n",
    "#     # Add in silico prediction\n",
    "#     min_b = bounds['minimum'][0]\n",
    "#     max_b = bounds['maximum'][0]\n",
    "#     flux_df.loc[index,'silico_LB'] = min_b#/15\n",
    "#     flux_df.loc[index,'silico_UB'] = max_b#/15\n",
    "#     flux_df.loc[index,'silico_LB_abs'] = abs(min_b)#/15\n",
    "#     flux_df.loc[index,'silico_UB_abs'] = abs(max_b)#/15\n",
    "    \n",
    "#     # Add absolute flux\n",
    "#     flux_df.loc[index,'flux_abs'] = abs(flux_df.loc[index,'glc_flux_mean'])"
   ]
  },
  {
   "cell_type": "code",
   "execution_count": 43,
   "metadata": {},
   "outputs": [],
   "source": [
    "# flux_df"
   ]
  },
  {
   "cell_type": "code",
   "execution_count": 44,
   "metadata": {},
   "outputs": [],
   "source": [
    "# # The values of PGK are negative, as the reaction is defined opposite\n",
    "# flux_df.loc['PGK', 'silico_LB'] = -flux_df.loc['PGK', 'silico_LB']\n",
    "# flux_df.loc['PGK', 'silico_UB'] = -flux_df.loc['PGK', 'silico_UB']\n",
    "\n",
    "# # Save dataframe\n",
    "# flux_df.to_csv('../tables/Outputs/flux_pred_%s.csv'%FVA_value)"
   ]
  },
  {
   "cell_type": "markdown",
   "metadata": {},
   "source": [
    "### Combine all in one"
   ]
  },
  {
   "cell_type": "code",
   "execution_count": 45,
   "metadata": {},
   "outputs": [
    {
     "name": "stdout",
     "output_type": "stream",
     "text": [
      "0.7997902997885831\n",
      "0.844223094221282\n",
      "0.8531096531078218\n",
      "0.8619962119943617\n",
      "0.8708827708809015\n",
      "0.8797693297674414\n"
     ]
    }
   ],
   "source": [
    "### Set model specifications ###\n",
    "\n",
    "# Set acetate flux > 0.481 ± 0.001 * 15 > Model describes flux from AcCoA to Acetate, use ACKr\n",
    "# EcN_model.reactions.EX_ac_e.bounds = (0.480*15, 0.482*15)\n",
    "EcN_model.reactions.ACKr.bounds = (0.480*15, 0.482*15)\n",
    "\n",
    "\n",
    "\n",
    "### Set FVA values ### \n",
    "FVA_range = [0.9, 0.95, 0.96, 0.97, 0.98, 0.99]    \n",
    "for FVA_value in FVA_range:  \n",
    "    #set growth to 99% of maximum for FVA\n",
    "#     FVA_value = 0.90\n",
    "    model_copy = EcN_model.copy()\n",
    "\n",
    "    # Set FVA value as growth boundaries\n",
    "    growth = FVA_value*model_copy.optimize().objective_value\n",
    "    model_copy.reactions.BIOMASS_EcN_iHM1533_core_59p80M.bounds = (growth,growth)\n",
    "\n",
    "    print(growth)\n",
    "    \n",
    "    \n",
    "    \n",
    "### Import flux data ###\n",
    "\n",
    "    # Import the flux file and set index\n",
    "    flux_df = pd.read_excel('../tables/13C_fluxes.xlsx', usecols=(0,1,2,3,7))\n",
    "    flux_df = flux_df.dropna()\n",
    "    flux_df.set_index('ID', inplace=True)\n",
    "    flux_df.sort_values(by='number', ascending=True, inplace=True)\n",
    "    flux_df['Flux_x'] = flux_df['glc_flux_mean'] *15\n",
    "    flux_df['LB'] = (flux_df['glc_flux_mean'] - flux_df['glc_flux_sd']) *15 # normalise for 15 glucose\n",
    "    flux_df['UB'] = (flux_df['glc_flux_mean'] + flux_df['glc_flux_sd']) *15 # normalise for 15 glucose\n",
    "\n",
    "    for index, row in flux_df.iterrows():  \n",
    "        bounds = flux_variability_analysis(model_copy, index)\n",
    "\n",
    "        # add model_id column\n",
    "        flux_df.loc[index,'model_id'] = index\n",
    "\n",
    "        # Add in silico prediction\n",
    "        min_b = bounds['minimum'][0]\n",
    "        max_b = bounds['maximum'][0]\n",
    "        flux_df.loc[index,'silico_LB'] = min_b#/15\n",
    "        flux_df.loc[index,'silico_UB'] = max_b#/15\n",
    "        flux_df.loc[index,'silico_LB_abs'] = abs(min_b)#/15\n",
    "        flux_df.loc[index,'silico_UB_abs'] = abs(max_b)#/15\n",
    "\n",
    "        # Add absolute flux\n",
    "        flux_df.loc[index,'flux_abs'] = abs(flux_df.loc[index,'glc_flux_mean'])\n",
    "\n",
    "        \n",
    "### Correct dataframe and save ###\n",
    "    # The values of PGK are negative, as the reaction is defined opposite\n",
    "    flux_df.loc['PGK', 'silico_LB'] = -flux_df.loc['PGK', 'silico_LB']\n",
    "    flux_df.loc['PGK', 'silico_UB'] = -flux_df.loc['PGK', 'silico_UB']\n",
    "    flux_df.drop(('ACKr'), inplace=True)\n",
    "\n",
    "\n",
    "    # Save dataframe\n",
    "    flux_df.to_csv('../tables/Outputs/flux_pred_%s.csv'%FVA_value)"
   ]
  },
  {
   "cell_type": "markdown",
   "metadata": {},
   "source": [
    "# pFBA"
   ]
  },
  {
   "cell_type": "code",
   "execution_count": 46,
   "metadata": {},
   "outputs": [],
   "source": [
    "model_copy = EcN_model.copy()\n",
    "\n",
    "# Set acetate flux > 0.481 ± 0.001 * 15 > \n",
    "# EcN_model.reactions.EX_ac_e.bounds = (0.480*15, 0.482*15)\n",
    "EcN_model.reactions.ACKr.bounds = (0.480*15, 0.482*15)"
   ]
  },
  {
   "cell_type": "code",
   "execution_count": 47,
   "metadata": {},
   "outputs": [],
   "source": [
    "pfba_solution = cobra.flux_analysis.pfba(model_copy)"
   ]
  },
  {
   "cell_type": "code",
   "execution_count": 48,
   "metadata": {},
   "outputs": [],
   "source": [
    "#set the pfba_factor to 1.01 to find variability of pfba \n",
    "#i.e. this corresponds to 99% FVA\n",
    "pfba_solution_101 = flux_variability_analysis(model_copy,pfba_factor = 1.01)"
   ]
  },
  {
   "cell_type": "code",
   "execution_count": 49,
   "metadata": {},
   "outputs": [],
   "source": [
    "#make a dataframe & export\n",
    "for index, row in flux_df.iterrows():  \n",
    "    pfba = pfba_solution[row['model_id']]\n",
    "    mini = pfba_solution_101.loc[row['model_id']]['minimum']\n",
    "    maxi = pfba_solution_101.loc[row['model_id']]['maximum']\n",
    "    flux_df.loc[index,'pfba'] = pfba\n",
    "    flux_df.loc[index,'pfba_101_min'] = mini\n",
    "    flux_df.loc[index,'pfba_101_max'] = maxi"
   ]
  },
  {
   "cell_type": "code",
   "execution_count": 50,
   "metadata": {},
   "outputs": [],
   "source": [
    "flux_df.to_csv('../tables/Outputs/flux_pred_pfba.csv')"
   ]
  },
  {
   "cell_type": "markdown",
   "metadata": {},
   "source": [
    "# Gluconate"
   ]
  },
  {
   "cell_type": "code",
   "execution_count": 18,
   "metadata": {},
   "outputs": [],
   "source": [
    "# Load the model\n",
    "EcN_model = cobra.io.load_json_model('../data/models/CP022686.1_cur_4.8.json')\n",
    "\n",
    "# Define the biolog media\n",
    "medium = EcN_model.medium\n",
    "medium['EX_glc__D_e'] = 0\n",
    "medium['EX_glcn_e'] = 15\n",
    "    \n",
    "medium['EX_nh4_e'] = 19 # 19 mM NH4Cl\n",
    "medium['EX_pi_e'] = 60 # 48mM Na2HPO4 + 22 mM KH2PO4  \n",
    "medium['EX_so4_e'] = 2 # 2 mM MgSO4\n",
    "    \n",
    "medium['EX_mg2_e'] = 2 # 2 mM MgSO4\n",
    "medium['EX_ca2_e'] = 0.1 # 0.1 mM CaCl2SS\n",
    "    \n",
    "medium['EX_na1_e'] = 105 # 48 mM Na2HPO4 + 9 mM NaCl\n",
    "medium['EX_k_e'] = 22 # 22 mM KH2PO4\n",
    "medium['EX_cl_e'] = 28 # 9 mM NaCl + 19 mM NH4Cl\n",
    "    \n",
    "medium['EX_thm_e'] = 0.38 # 0.1 g/L > 0.1/265.355 x 1000 = 0.376854 mM\n",
    "\n",
    "# trace elements were not defined in the paper\n",
    "value = 1000 # 0.01\n",
    "medium['EX_fe3_e'] = value\n",
    "medium['EX_mn2_e'] = value\n",
    "medium['EX_fe2_e'] = value\n",
    "medium['EX_zn2_e'] = value\n",
    "medium['EX_ni2_e'] = value\n",
    "medium['EX_cu2_e'] = value\n",
    "medium['EX_cobalt2_e'] = value\n",
    "medium['EX_sel_e'] = value\n",
    "medium['EX_mobd_e'] = value\n",
    "medium['EX_tungs_e'] = value\n",
    "medium['EX_slnt_e'] = value\n",
    "medium['EX_salchsx_e'] = value\n",
    "\n",
    "EcN_model.medium = medium"
   ]
  },
  {
   "cell_type": "markdown",
   "metadata": {},
   "source": [
    "### FVA"
   ]
  },
  {
   "cell_type": "code",
   "execution_count": 19,
   "metadata": {},
   "outputs": [
    {
     "name": "stdout",
     "output_type": "stream",
     "text": [
      "0.7484378102180383\n",
      "0.7900176885634849\n",
      "0.7983336642325742\n",
      "0.8066496399016635\n",
      "0.8149656155707529\n",
      "0.8232815912398421\n"
     ]
    }
   ],
   "source": [
    "### Set model specifications ###\n",
    "\n",
    "# Set acetate flux > 0.481 ± 0.001 * 15 > Model describes flux from AcCoA to Acetate, use ACKr\n",
    "# EcN_model.reactions.EX_ac_e.bounds = (0.480*15, 0.482*15)\n",
    "EcN_model.reactions.ACKr.bounds = (0.480*15, 0.482*15)\n",
    "\n",
    "\n",
    "\n",
    "### Set FVA values ### \n",
    "FVA_range = [0.9, 0.95, 0.96, 0.97, 0.98, 0.99]    \n",
    "for FVA_value in FVA_range:  \n",
    "    #set growth to 99% of maximum for FVA\n",
    "#     FVA_value = 0.90\n",
    "    model_copy = EcN_model.copy()\n",
    "\n",
    "    # Set FVA value as growth boundaries\n",
    "    growth = FVA_value*model_copy.optimize().objective_value\n",
    "    model_copy.reactions.BIOMASS_EcN_iHM1533_core_59p80M.bounds = (growth,growth)\n",
    "\n",
    "    print(growth)\n",
    "    \n",
    "    \n",
    "    \n",
    "### Import flux data ###\n",
    "\n",
    "    # Import the flux file and set index\n",
    "    flux_df = pd.read_excel('../tables/13C_fluxes.xlsx', usecols=(0,1,4,5,7))\n",
    "    flux_df = flux_df.dropna()\n",
    "    flux_df.set_index('ID', inplace=True)\n",
    "    flux_df.sort_values(by='number', ascending=True, inplace=True)\n",
    "    flux_df['Flux_x'] = flux_df['glcn_flux_mean'] *15\n",
    "    flux_df['LB'] = (flux_df['glcn_flux_mean'] - flux_df['glcn_flux_sd']) *15 # normalise for 15 glucose\n",
    "    flux_df['UB'] = (flux_df['glcn_flux_mean'] + flux_df['glcn_flux_sd']) *15 # normalise for 15 glucose\n",
    "\n",
    "    for index, row in flux_df.iterrows():  \n",
    "        bounds = flux_variability_analysis(model_copy, index)\n",
    "\n",
    "        # add model_id column\n",
    "        flux_df.loc[index,'model_id'] = index\n",
    "\n",
    "        # Add in silico prediction\n",
    "        min_b = bounds['minimum'][0]\n",
    "        max_b = bounds['maximum'][0]\n",
    "        flux_df.loc[index,'silico_LB'] = min_b#/15\n",
    "        flux_df.loc[index,'silico_UB'] = max_b#/15\n",
    "        flux_df.loc[index,'silico_LB_abs'] = abs(min_b)#/15\n",
    "        flux_df.loc[index,'silico_UB_abs'] = abs(max_b)#/15\n",
    "\n",
    "        # Add absolute flux\n",
    "        flux_df.loc[index,'flux_abs'] = abs(flux_df.loc[index,'glcn_flux_mean'])\n",
    "\n",
    "        \n",
    "### Correct dataframe and save ###\n",
    "    # The values of PGK are negative, as the reaction is defined opposite\n",
    "    flux_df.loc['PGK', 'silico_LB'] = -flux_df.loc['PGK', 'silico_LB']\n",
    "    flux_df.loc['PGK', 'silico_UB'] = -flux_df.loc['PGK', 'silico_UB']\n",
    "    flux_df.drop(('ACKr'), inplace=True)\n",
    "\n",
    "\n",
    "    # Save dataframe\n",
    "    flux_df.to_csv('../tables/Outputs/glcn_flux_pred_%s.csv'%FVA_value)"
   ]
  },
  {
   "cell_type": "markdown",
   "metadata": {},
   "source": [
    "### pFBA"
   ]
  },
  {
   "cell_type": "code",
   "execution_count": 20,
   "metadata": {},
   "outputs": [],
   "source": [
    "model_copy = EcN_model.copy()\n",
    "\n",
    "# Set acetate flux > 0.481 ± 0.001 * 15 > \n",
    "# EcN_model.reactions.EX_ac_e.bounds = (0.480*15, 0.482*15)\n",
    "EcN_model.reactions.ACKr.bounds = (0.480*15, 0.482*15)\n",
    "\n",
    "pfba_solution = cobra.flux_analysis.pfba(model_copy)\n",
    "\n",
    "#set the pfba_factor to 1.01 to find variability of pfba \n",
    "#i.e. this corresponds to 99% FVA\n",
    "pfba_solution_101 = flux_variability_analysis(model_copy,pfba_factor = 1.01)\n",
    "\n",
    "#make a dataframe & export\n",
    "for index, row in flux_df.iterrows():  \n",
    "    pfba = pfba_solution[row['model_id']]\n",
    "    mini = pfba_solution_101.loc[row['model_id']]['minimum']\n",
    "    maxi = pfba_solution_101.loc[row['model_id']]['maximum']\n",
    "    flux_df.loc[index,'pfba'] = pfba\n",
    "    flux_df.loc[index,'pfba_101_min'] = mini\n",
    "    flux_df.loc[index,'pfba_101_max'] = maxi\n",
    "    \n",
    "flux_df.to_csv('../tables/Outputs/glcn_flux_pred_pfba.csv')"
   ]
  },
  {
   "cell_type": "code",
   "execution_count": null,
   "metadata": {},
   "outputs": [],
   "source": []
  }
 ],
 "metadata": {
  "kernelspec": {
   "display_name": "Python 3",
   "language": "python",
   "name": "python3"
  },
  "language_info": {
   "codemirror_mode": {
    "name": "ipython",
    "version": 3
   },
   "file_extension": ".py",
   "mimetype": "text/x-python",
   "name": "python",
   "nbconvert_exporter": "python",
   "pygments_lexer": "ipython3",
   "version": "3.7.9"
  }
 },
 "nbformat": 4,
 "nbformat_minor": 4
}
