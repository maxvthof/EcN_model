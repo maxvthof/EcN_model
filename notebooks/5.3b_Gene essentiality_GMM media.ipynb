{
 "cells": [
  {
   "cell_type": "code",
   "execution_count": 1,
   "metadata": {},
   "outputs": [],
   "source": [
    "import pandas as pd\n",
    "import cobra\n",
    "from cobra.io import load_json_model\n",
    "from cobra.flux_analysis import single_gene_deletion, single_reaction_deletion, double_gene_deletion\n",
    "import numpy as np\n",
    "\n",
    "import re\n",
    "from glob import glob\n",
    "from Bio import Entrez, SeqIO"
   ]
  },
  {
   "cell_type": "markdown",
   "metadata": {},
   "source": [
    "# I. Gene comparison EcN aerobic vs. anaerobic"
   ]
  },
  {
   "cell_type": "code",
   "execution_count": 2,
   "metadata": {},
   "outputs": [],
   "source": [
    "# Load EcN model\n",
    "EcN_ID = 'CP022686.1'\n",
    "EcN_model = cobra.io.load_json_model('../data/models/%s_cur_4.8.json'%EcN_ID)"
   ]
  },
  {
   "cell_type": "code",
   "execution_count": 3,
   "metadata": {},
   "outputs": [],
   "source": [
    "#Establish a definition that initializes models to an in silico representation of gut microbiome media\n",
    "def M1(model):\n",
    "    \n",
    "    medium = model.medium\n",
    "    \n",
    "    # Set exchange to zero\n",
    "    for rxn in medium:\n",
    "        medium[rxn] = 0.0 # Remove all current media components\n",
    "\n",
    "    # Read medias - FROM AGORA\n",
    "    media_db = pd.read_table(\"../tables/media_db.txt\", comment=\"#\")\n",
    "    media_db[\"compound\"] = [cpd.strip() for cpd in media_db[\"compound\"]]\n",
    "    media_db = media_db[[\"medium\", \"compound\"]].groupby(\"medium\").agg(lambda x: list(x)).to_dict()['compound']\n",
    "\n",
    "\n",
    "    # Add compounds to media composition\n",
    "    for compound in media_db['M1']: # M1 > Gut microbium media, GMM\n",
    "        try:\n",
    "            model.reactions.get_by_id('EX_%s_e'%compound)\n",
    "            medium['EX_%s_e'%compound]= 1000\n",
    "        except:\n",
    "#             print(compound, 'is missing in the model')\n",
    "            pass\n",
    "    \n",
    "    medium['EX_o2_e']= 1000 # Make aerobic, so we can analyse the differences between aerobic and anaerobic\n",
    "        \n",
    "    # Update medium\n",
    "    model.medium = medium\n",
    "    \n",
    "    return model"
   ]
  },
  {
   "cell_type": "code",
   "execution_count": 4,
   "metadata": {},
   "outputs": [
    {
     "data": {
      "text/html": [
       "<div>\n",
       "<style scoped>\n",
       "    .dataframe tbody tr th:only-of-type {\n",
       "        vertical-align: middle;\n",
       "    }\n",
       "\n",
       "    .dataframe tbody tr th {\n",
       "        vertical-align: top;\n",
       "    }\n",
       "\n",
       "    .dataframe thead th {\n",
       "        text-align: right;\n",
       "    }\n",
       "</style>\n",
       "<table border=\"1\" class=\"dataframe\">\n",
       "  <thead>\n",
       "    <tr style=\"text-align: right;\">\n",
       "      <th></th>\n",
       "      <th>ids</th>\n",
       "      <th>growth</th>\n",
       "      <th>status</th>\n",
       "    </tr>\n",
       "  </thead>\n",
       "  <tbody>\n",
       "    <tr>\n",
       "      <th>0</th>\n",
       "      <td>{CIW80_25350}</td>\n",
       "      <td>3.365587e-10</td>\n",
       "      <td>optimal</td>\n",
       "    </tr>\n",
       "    <tr>\n",
       "      <th>1</th>\n",
       "      <td>{CIW80_24880}</td>\n",
       "      <td>3.555409e+01</td>\n",
       "      <td>optimal</td>\n",
       "    </tr>\n",
       "    <tr>\n",
       "      <th>2</th>\n",
       "      <td>{CIW80_15725}</td>\n",
       "      <td>3.555409e+01</td>\n",
       "      <td>optimal</td>\n",
       "    </tr>\n",
       "    <tr>\n",
       "      <th>3</th>\n",
       "      <td>{CIW80_23550}</td>\n",
       "      <td>3.555409e+01</td>\n",
       "      <td>optimal</td>\n",
       "    </tr>\n",
       "    <tr>\n",
       "      <th>4</th>\n",
       "      <td>{CIW80_06285}</td>\n",
       "      <td>3.555409e+01</td>\n",
       "      <td>optimal</td>\n",
       "    </tr>\n",
       "  </tbody>\n",
       "</table>\n",
       "</div>"
      ],
      "text/plain": [
       "             ids        growth   status\n",
       "0  {CIW80_25350}  3.365587e-10  optimal\n",
       "1  {CIW80_24880}  3.555409e+01  optimal\n",
       "2  {CIW80_15725}  3.555409e+01  optimal\n",
       "3  {CIW80_23550}  3.555409e+01  optimal\n",
       "4  {CIW80_06285}  3.555409e+01  optimal"
      ]
     },
     "execution_count": 4,
     "metadata": {},
     "output_type": "execute_result"
    }
   ],
   "source": [
    "# Get growth rate for each single gene knockout\n",
    "with EcN_model:\n",
    "    M1(EcN_model)\n",
    "    wt_growth_ae = EcN_model.optimize().objective_value\n",
    "    ae_results = single_gene_deletion(EcN_model) \n",
    "    \n",
    "with EcN_model:\n",
    "    M1(EcN_model)\n",
    "    \n",
    "    # Make anaerobic\n",
    "    medium = EcN_model.medium\n",
    "    medium['EX_o2_e']= 0.0\n",
    "    EcN_model.medium = medium\n",
    "    \n",
    "    wt_growth_an = EcN_model.optimize().objective_value\n",
    "    an_results = single_gene_deletion(EcN_model)\n",
    "\n",
    "ae_results.head()"
   ]
  },
  {
   "cell_type": "code",
   "execution_count": 5,
   "metadata": {},
   "outputs": [],
   "source": [
    "# Get binary representation of gene essentiality\n",
    "ae_results['binary_ae']= ae_results['growth'].map(lambda x: 0 if x < (0.05 * wt_growth_ae) else 1)\n",
    "an_results['binary_an']= an_results['growth'].map(lambda x: 0 if x < (0.05 * wt_growth_an) else 1)"
   ]
  },
  {
   "cell_type": "code",
   "execution_count": 6,
   "metadata": {},
   "outputs": [
    {
     "data": {
      "text/html": [
       "<div>\n",
       "<style scoped>\n",
       "    .dataframe tbody tr th:only-of-type {\n",
       "        vertical-align: middle;\n",
       "    }\n",
       "\n",
       "    .dataframe tbody tr th {\n",
       "        vertical-align: top;\n",
       "    }\n",
       "\n",
       "    .dataframe thead th {\n",
       "        text-align: right;\n",
       "    }\n",
       "</style>\n",
       "<table border=\"1\" class=\"dataframe\">\n",
       "  <thead>\n",
       "    <tr style=\"text-align: right;\">\n",
       "      <th></th>\n",
       "      <th>ids</th>\n",
       "      <th>growth</th>\n",
       "      <th>status</th>\n",
       "      <th>binary_ae</th>\n",
       "    </tr>\n",
       "  </thead>\n",
       "  <tbody>\n",
       "  </tbody>\n",
       "</table>\n",
       "</div>"
      ],
      "text/plain": [
       "Empty DataFrame\n",
       "Columns: [ids, growth, status, binary_ae]\n",
       "Index: []"
      ]
     },
     "execution_count": 6,
     "metadata": {},
     "output_type": "execute_result"
    }
   ],
   "source": [
    "# Check whether there are genes for which the status is not \"optimal\"\n",
    "ae_results[ae_results.status != 'optimal']"
   ]
  },
  {
   "cell_type": "code",
   "execution_count": 7,
   "metadata": {},
   "outputs": [
    {
     "data": {
      "text/html": [
       "<div>\n",
       "<style scoped>\n",
       "    .dataframe tbody tr th:only-of-type {\n",
       "        vertical-align: middle;\n",
       "    }\n",
       "\n",
       "    .dataframe tbody tr th {\n",
       "        vertical-align: top;\n",
       "    }\n",
       "\n",
       "    .dataframe thead th {\n",
       "        text-align: right;\n",
       "    }\n",
       "</style>\n",
       "<table border=\"1\" class=\"dataframe\">\n",
       "  <thead>\n",
       "    <tr style=\"text-align: right;\">\n",
       "      <th></th>\n",
       "      <th>ids</th>\n",
       "      <th>growth</th>\n",
       "      <th>status</th>\n",
       "      <th>binary_an</th>\n",
       "    </tr>\n",
       "  </thead>\n",
       "  <tbody>\n",
       "  </tbody>\n",
       "</table>\n",
       "</div>"
      ],
      "text/plain": [
       "Empty DataFrame\n",
       "Columns: [ids, growth, status, binary_an]\n",
       "Index: []"
      ]
     },
     "execution_count": 7,
     "metadata": {},
     "output_type": "execute_result"
    }
   ],
   "source": [
    "# Check whether there are genes for which the status is not \"optimal\"\n",
    "infeasible_an = an_results[an_results.status != 'optimal'].index.tolist()\n",
    "\n",
    "# Assume infeasible result as growth deficient\n",
    "for gene in infeasible_an:\n",
    "    an_results.loc[gene, 'binary_an'] = 0\n",
    "    \n",
    "an_results[an_results.status != 'optimal']"
   ]
  },
  {
   "cell_type": "code",
   "execution_count": 8,
   "metadata": {},
   "outputs": [],
   "source": [
    "# Unpack the index values from the frozenset to enable comparison to the ortho_matrices\n",
    "for del_result in [ae_results, an_results]:\n",
    "    for value in del_result.index:\n",
    "        unpacked, = del_result.loc[value, 'ids']\n",
    "        del_result.loc[value, 'gene'] = unpacked\n",
    "\n",
    "    # Set the unpacked gene name as index\n",
    "    del_result.set_index('gene', inplace=True)"
   ]
  },
  {
   "cell_type": "code",
   "execution_count": 9,
   "metadata": {},
   "outputs": [
    {
     "name": "stdout",
     "output_type": "stream",
     "text": [
      "total = 1533\n",
      "Aerobic essential = 155\n",
      "Anaerobic essential = 156\n"
     ]
    },
    {
     "data": {
      "text/html": [
       "<div>\n",
       "<style scoped>\n",
       "    .dataframe tbody tr th:only-of-type {\n",
       "        vertical-align: middle;\n",
       "    }\n",
       "\n",
       "    .dataframe tbody tr th {\n",
       "        vertical-align: top;\n",
       "    }\n",
       "\n",
       "    .dataframe thead th {\n",
       "        text-align: right;\n",
       "    }\n",
       "</style>\n",
       "<table border=\"1\" class=\"dataframe\">\n",
       "  <thead>\n",
       "    <tr style=\"text-align: right;\">\n",
       "      <th></th>\n",
       "      <th>binary_ae</th>\n",
       "      <th>binary_an</th>\n",
       "      <th>diff</th>\n",
       "    </tr>\n",
       "    <tr>\n",
       "      <th>gene</th>\n",
       "      <th></th>\n",
       "      <th></th>\n",
       "      <th></th>\n",
       "    </tr>\n",
       "  </thead>\n",
       "  <tbody>\n",
       "    <tr>\n",
       "      <th>CIW80_14315</th>\n",
       "      <td>1</td>\n",
       "      <td>0</td>\n",
       "      <td>1</td>\n",
       "    </tr>\n",
       "  </tbody>\n",
       "</table>\n",
       "</div>"
      ],
      "text/plain": [
       "             binary_ae  binary_an  diff\n",
       "gene                                   \n",
       "CIW80_14315          1          0     1"
      ]
     },
     "execution_count": 9,
     "metadata": {},
     "output_type": "execute_result"
    }
   ],
   "source": [
    "# Remove the other two columsn\n",
    "ae_results.drop(columns=['growth', 'status'], inplace=True)\n",
    "an_results.drop(columns=['growth', 'status'], inplace=True)\n",
    "\n",
    "# Merge the two dataframes and \n",
    "del_results = pd.merge(ae_results, an_results, left_index=True, right_index=True)\n",
    "\n",
    "# Get an overview of the total number of essential genes\n",
    "print('total =', len(del_results))\n",
    "print('Aerobic essential =', len(del_results) - del_results['binary_ae'].sum())\n",
    "print('Anaerobic essential =', len(del_results) - del_results['binary_an'].sum())\n",
    "\n",
    "# Identify the genes that are only essential in one of the two conditions\n",
    "del_results.drop(columns=['ids_x', 'ids_y'], inplace=True) # Drop the ids columns\n",
    "del_results['diff'] = del_results['binary_ae'] - del_results['binary_an']\n",
    "del_results[del_results['diff'] != 0]"
   ]
  },
  {
   "cell_type": "code",
   "execution_count": 10,
   "metadata": {},
   "outputs": [],
   "source": [
    "del_results_ae = del_results[del_results['binary_ae'] == 0]\n",
    "del_results_an = del_results[del_results['binary_an'] == 0]\n",
    "\n",
    "# Save the resulting dataframe as .csv\n",
    "del_results.to_csv('../tables/gene_ess_del_results.csv')"
   ]
  },
  {
   "cell_type": "code",
   "execution_count": 11,
   "metadata": {},
   "outputs": [
    {
     "name": "stdout",
     "output_type": "stream",
     "text": [
      "binary_ae    1378\n",
      "binary_an    1377\n",
      "diff            1\n",
      "dtype: int64\n"
     ]
    }
   ],
   "source": [
    "print(del_results.sum())"
   ]
  },
  {
   "cell_type": "code",
   "execution_count": 12,
   "metadata": {},
   "outputs": [
    {
     "name": "stdout",
     "output_type": "stream",
     "text": [
      "hemN\n"
     ]
    }
   ],
   "source": [
    "# Find out which genes were essential only in anaerobic conditions\n",
    "for gene in del_results[del_results['diff'] != 0].index:\n",
    "    name = EcN_model.genes.get_by_id(gene).name\n",
    "    print(name)"
   ]
  },
  {
   "cell_type": "markdown",
   "metadata": {},
   "source": [
    "### Investigate hemN"
   ]
  },
  {
   "cell_type": "code",
   "execution_count": 13,
   "metadata": {},
   "outputs": [
    {
     "data": {
      "text/html": [
       "\n",
       "        <table>\n",
       "            <tr>\n",
       "                <td><strong>Gene identifier</strong></td><td>CIW80_14315</td>\n",
       "            </tr><tr>\n",
       "                <td><strong>Name</strong></td><td>hemN</td>\n",
       "            </tr><tr>\n",
       "                <td><strong>Memory address</strong></td>\n",
       "                <td>0x021dbde65308</td>\n",
       "            </tr><tr>\n",
       "                <td><strong>Functional</strong></td><td>True</td>\n",
       "            </tr><tr>\n",
       "                <td><strong>In 1 reaction(s)</strong></td><td>\n",
       "                    CPPPGO2</td>\n",
       "            </tr>\n",
       "        </table>"
      ],
      "text/plain": [
       "<Gene CIW80_14315 at 0x21dbde65308>"
      ]
     },
     "execution_count": 13,
     "metadata": {},
     "output_type": "execute_result"
    }
   ],
   "source": [
    "EcN_model.genes.CIW80_14315"
   ]
  },
  {
   "cell_type": "code",
   "execution_count": 14,
   "metadata": {},
   "outputs": [],
   "source": [
    "import escher\n",
    "from escher import Builder"
   ]
  },
  {
   "cell_type": "code",
   "execution_count": 15,
   "metadata": {},
   "outputs": [
    {
     "name": "stdout",
     "output_type": "stream",
     "text": [
      "Downloading Map from https://escher.github.io/1-0-0/6/maps/Escherichia%20coli/iJO1366.Central%20metabolism.json\n",
      "Downloading Model from https://escher.github.io/1-0-0/6/models/Escherichia%20coli/iJO1366.json\n"
     ]
    }
   ],
   "source": [
    "builder = Builder(\n",
    "    map_name='iJO1366.Central metabolism',\n",
    "    model_name='iJO1366')"
   ]
  },
  {
   "cell_type": "code",
   "execution_count": 16,
   "metadata": {},
   "outputs": [
    {
     "data": {
      "application/vnd.jupyter.widget-view+json": {
       "model_id": "79a60a29c49844f7b9576efccc19b59e",
       "version_major": 2,
       "version_minor": 0
      },
      "text/plain": [
       "Builder()"
      ]
     },
     "metadata": {},
     "output_type": "display_data"
    }
   ],
   "source": [
    "builder"
   ]
  },
  {
   "cell_type": "code",
   "execution_count": 17,
   "metadata": {},
   "outputs": [],
   "source": [
    "with EcN_model:\n",
    "    M1(EcN_model)\n",
    "    EcN_model.reactions.EX_o2_e.lower_bound=0\n",
    "    solution = EcN_model.optimize()"
   ]
  },
  {
   "cell_type": "code",
   "execution_count": 18,
   "metadata": {},
   "outputs": [],
   "source": [
    "builder.reaction_data = solution.fluxes"
   ]
  },
  {
   "cell_type": "code",
   "execution_count": 19,
   "metadata": {},
   "outputs": [
    {
     "data": {
      "text/html": [
       "\n",
       "        <table>\n",
       "            <tr>\n",
       "                <td><strong>Gene identifier</strong></td><td>CIW80_14315</td>\n",
       "            </tr><tr>\n",
       "                <td><strong>Name</strong></td><td>hemN</td>\n",
       "            </tr><tr>\n",
       "                <td><strong>Memory address</strong></td>\n",
       "                <td>0x021dbde65308</td>\n",
       "            </tr><tr>\n",
       "                <td><strong>Functional</strong></td><td>True</td>\n",
       "            </tr><tr>\n",
       "                <td><strong>In 1 reaction(s)</strong></td><td>\n",
       "                    CPPPGO2</td>\n",
       "            </tr>\n",
       "        </table>"
      ],
      "text/plain": [
       "<Gene CIW80_14315 at 0x21dbde65308>"
      ]
     },
     "execution_count": 19,
     "metadata": {},
     "output_type": "execute_result"
    }
   ],
   "source": [
    "EcN_model.genes.CIW80_14315"
   ]
  },
  {
   "cell_type": "code",
   "execution_count": 20,
   "metadata": {},
   "outputs": [
    {
     "data": {
      "text/html": [
       "\n",
       "        <table>\n",
       "            <tr>\n",
       "                <td><strong>Gene identifier</strong></td><td>CIW80_06055</td>\n",
       "            </tr><tr>\n",
       "                <td><strong>Name</strong></td><td>hemF</td>\n",
       "            </tr><tr>\n",
       "                <td><strong>Memory address</strong></td>\n",
       "                <td>0x021dbddf1188</td>\n",
       "            </tr><tr>\n",
       "                <td><strong>Functional</strong></td><td>True</td>\n",
       "            </tr><tr>\n",
       "                <td><strong>In 1 reaction(s)</strong></td><td>\n",
       "                    CPPPGO</td>\n",
       "            </tr>\n",
       "        </table>"
      ],
      "text/plain": [
       "<Gene CIW80_06055 at 0x21dbddf1188>"
      ]
     },
     "execution_count": 20,
     "metadata": {},
     "output_type": "execute_result"
    }
   ],
   "source": [
    "EcN_model.genes.CIW80_06055"
   ]
  },
  {
   "cell_type": "code",
   "execution_count": 21,
   "metadata": {},
   "outputs": [
    {
     "data": {
      "text/html": [
       "\n",
       "        <table>\n",
       "            <tr>\n",
       "                <td><strong>Reaction identifier</strong></td><td>CPPPGO2</td>\n",
       "            </tr><tr>\n",
       "                <td><strong>Name</strong></td><td>Oxygen Independent coproporphyrinogen-III oxidase</td>\n",
       "            </tr><tr>\n",
       "                <td><strong>Memory address</strong></td>\n",
       "                <td>0x021dc0d4ee08</td>\n",
       "            </tr><tr>\n",
       "                <td><strong>Stoichiometry</strong></td>\n",
       "                <td>\n",
       "                    <p style='text-align:right'>2.0 amet_c + cpppg3_c --> 2.0 co2_c + 2.0 dad_5_c + 2.0 met__L_c + pppg9_c</p>\n",
       "                    <p style='text-align:right'>2.0 S-Adenosyl-L-methionine + Coproporphyrinogen III --> 2.0 CO2 CO2 + 2.0 5'-Deoxyadenosine + 2.0 L-Methionine + Protoporphyrinogen IX</p>\n",
       "                </td>\n",
       "            </tr><tr>\n",
       "                <td><strong>GPR</strong></td><td>CIW80_14315</td>\n",
       "            </tr><tr>\n",
       "                <td><strong>Lower bound</strong></td><td>0.0</td>\n",
       "            </tr><tr>\n",
       "                <td><strong>Upper bound</strong></td><td>1000.0</td>\n",
       "            </tr>\n",
       "        </table>\n",
       "        "
      ],
      "text/plain": [
       "<Reaction CPPPGO2 at 0x21dc0d4ee08>"
      ]
     },
     "execution_count": 21,
     "metadata": {},
     "output_type": "execute_result"
    }
   ],
   "source": [
    "EcN_model.reactions.CPPPGO2"
   ]
  },
  {
   "cell_type": "code",
   "execution_count": 22,
   "metadata": {
    "scrolled": false
   },
   "outputs": [
    {
     "data": {
      "text/html": [
       "\n",
       "        <table>\n",
       "            <tr>\n",
       "                <td><strong>Reaction identifier</strong></td><td>CPPPGO</td>\n",
       "            </tr><tr>\n",
       "                <td><strong>Name</strong></td><td>Coproporphyrinogen oxidase (O2 required)</td>\n",
       "            </tr><tr>\n",
       "                <td><strong>Memory address</strong></td>\n",
       "                <td>0x021dbdf3cbc8</td>\n",
       "            </tr><tr>\n",
       "                <td><strong>Stoichiometry</strong></td>\n",
       "                <td>\n",
       "                    <p style='text-align:right'>cpppg3_c + 2.0 h_c + o2_c --> 2.0 co2_c + 2.0 h2o_c + pppg9_c</p>\n",
       "                    <p style='text-align:right'>Coproporphyrinogen III + 2.0 H+ + O2 O2 --> 2.0 CO2 CO2 + 2.0 H2O H2O + Protoporphyrinogen IX</p>\n",
       "                </td>\n",
       "            </tr><tr>\n",
       "                <td><strong>GPR</strong></td><td>CIW80_06055</td>\n",
       "            </tr><tr>\n",
       "                <td><strong>Lower bound</strong></td><td>0.0</td>\n",
       "            </tr><tr>\n",
       "                <td><strong>Upper bound</strong></td><td>1000.0</td>\n",
       "            </tr>\n",
       "        </table>\n",
       "        "
      ],
      "text/plain": [
       "<Reaction CPPPGO at 0x21dbdf3cbc8>"
      ]
     },
     "execution_count": 22,
     "metadata": {},
     "output_type": "execute_result"
    }
   ],
   "source": [
    "EcN_model.reactions.CPPPGO"
   ]
  },
  {
   "cell_type": "markdown",
   "metadata": {},
   "source": [
    "The oxygen-dependency of hemF makes it unable to rescue grown anaerobically for an hemN knockout strain."
   ]
  },
  {
   "cell_type": "markdown",
   "metadata": {},
   "source": [
    "# II. Essential reactions EcN & subsystem"
   ]
  },
  {
   "cell_type": "code",
   "execution_count": 23,
   "metadata": {},
   "outputs": [
    {
     "data": {
      "text/html": [
       "<div>\n",
       "<style scoped>\n",
       "    .dataframe tbody tr th:only-of-type {\n",
       "        vertical-align: middle;\n",
       "    }\n",
       "\n",
       "    .dataframe tbody tr th {\n",
       "        vertical-align: top;\n",
       "    }\n",
       "\n",
       "    .dataframe thead th {\n",
       "        text-align: right;\n",
       "    }\n",
       "</style>\n",
       "<table border=\"1\" class=\"dataframe\">\n",
       "  <thead>\n",
       "    <tr style=\"text-align: right;\">\n",
       "      <th></th>\n",
       "      <th>ids</th>\n",
       "      <th>growth</th>\n",
       "      <th>status</th>\n",
       "      <th>binary</th>\n",
       "    </tr>\n",
       "  </thead>\n",
       "  <tbody>\n",
       "  </tbody>\n",
       "</table>\n",
       "</div>"
      ],
      "text/plain": [
       "Empty DataFrame\n",
       "Columns: [ids, growth, status, binary]\n",
       "Index: []"
      ]
     },
     "execution_count": 23,
     "metadata": {},
     "output_type": "execute_result"
    }
   ],
   "source": [
    "# Get growth rate for each single gene knockout\n",
    "with EcN_model:\n",
    "    M1(EcN_model)\n",
    "    EcN_model.reactions.EX_o2_e.lower_bound=0 # Check essential reactions for anaerobic conditions\n",
    "    wt_growth_an = EcN_model.optimize().objective_value\n",
    "    an_rxn = single_reaction_deletion(EcN_model)\n",
    "\n",
    "# Get binary representation of gene essentiality\n",
    "an_rxn['binary']= an_rxn['growth'].map(lambda x: 0 if x < (0.05 * wt_growth_an) else 1)\n",
    "\n",
    "# Check whether there are genes for which the status is not \"optimal\"\n",
    "inf_rxn_an = an_rxn[an_rxn.status != 'optimal'].index.tolist()\n",
    "\n",
    "# Assume infeasible result as growth deficient\n",
    "for gene in inf_rxn_an:\n",
    "    an_rxn.loc[gene, 'binary'] = 0\n",
    "an_rxn[an_rxn.status != 'optimal']"
   ]
  },
  {
   "cell_type": "code",
   "execution_count": 24,
   "metadata": {},
   "outputs": [
    {
     "name": "stdout",
     "output_type": "stream",
     "text": [
      "total = 3143\n",
      "Essential = 230\n",
      "Non-essential = 2913\n"
     ]
    },
    {
     "data": {
      "text/html": [
       "<div>\n",
       "<style scoped>\n",
       "    .dataframe tbody tr th:only-of-type {\n",
       "        vertical-align: middle;\n",
       "    }\n",
       "\n",
       "    .dataframe tbody tr th {\n",
       "        vertical-align: top;\n",
       "    }\n",
       "\n",
       "    .dataframe thead th {\n",
       "        text-align: right;\n",
       "    }\n",
       "</style>\n",
       "<table border=\"1\" class=\"dataframe\">\n",
       "  <thead>\n",
       "    <tr style=\"text-align: right;\">\n",
       "      <th></th>\n",
       "      <th>ids</th>\n",
       "      <th>growth</th>\n",
       "      <th>status</th>\n",
       "      <th>an_rxn_growth</th>\n",
       "      <th>Subsystem</th>\n",
       "    </tr>\n",
       "    <tr>\n",
       "      <th>reaction</th>\n",
       "      <th></th>\n",
       "      <th></th>\n",
       "      <th></th>\n",
       "      <th></th>\n",
       "      <th></th>\n",
       "    </tr>\n",
       "  </thead>\n",
       "  <tbody>\n",
       "    <tr>\n",
       "      <th>ULA4Ntppi</th>\n",
       "      <td>{ULA4Ntppi}</td>\n",
       "      <td>35.540644</td>\n",
       "      <td>optimal</td>\n",
       "      <td>1</td>\n",
       "      <td>Lipopolysaccharide Biosynthesis / Recycling</td>\n",
       "    </tr>\n",
       "    <tr>\n",
       "      <th>EX_feroxEfe_e</th>\n",
       "      <td>{EX_feroxEfe_e}</td>\n",
       "      <td>35.540644</td>\n",
       "      <td>optimal</td>\n",
       "      <td>1</td>\n",
       "      <td>Extracellular exchange</td>\n",
       "    </tr>\n",
       "    <tr>\n",
       "      <th>ATPS4rpp</th>\n",
       "      <td>{ATPS4rpp}</td>\n",
       "      <td>24.856463</td>\n",
       "      <td>optimal</td>\n",
       "      <td>1</td>\n",
       "      <td>Oxidative Phosphorylation</td>\n",
       "    </tr>\n",
       "    <tr>\n",
       "      <th>EX_cys__L_e</th>\n",
       "      <td>{EX_cys__L_e}</td>\n",
       "      <td>35.252491</td>\n",
       "      <td>optimal</td>\n",
       "      <td>1</td>\n",
       "      <td>Extracellular exchange</td>\n",
       "    </tr>\n",
       "    <tr>\n",
       "      <th>PPRDNDH</th>\n",
       "      <td>{PPRDNDH}</td>\n",
       "      <td>35.540644</td>\n",
       "      <td>optimal</td>\n",
       "      <td>1</td>\n",
       "      <td>Lysine Metabolism</td>\n",
       "    </tr>\n",
       "    <tr>\n",
       "      <th>...</th>\n",
       "      <td>...</td>\n",
       "      <td>...</td>\n",
       "      <td>...</td>\n",
       "      <td>...</td>\n",
       "      <td>...</td>\n",
       "    </tr>\n",
       "    <tr>\n",
       "      <th>ORNabcpp</th>\n",
       "      <td>{ORNabcpp}</td>\n",
       "      <td>35.540644</td>\n",
       "      <td>optimal</td>\n",
       "      <td>1</td>\n",
       "      <td>Transport, Inner Membrane</td>\n",
       "    </tr>\n",
       "    <tr>\n",
       "      <th>FESR</th>\n",
       "      <td>{FESR}</td>\n",
       "      <td>35.540644</td>\n",
       "      <td>optimal</td>\n",
       "      <td>1</td>\n",
       "      <td>Cofactor and Prosthetic Group Biosynthesis</td>\n",
       "    </tr>\n",
       "    <tr>\n",
       "      <th>EX_malt_e</th>\n",
       "      <td>{EX_malt_e}</td>\n",
       "      <td>35.540644</td>\n",
       "      <td>optimal</td>\n",
       "      <td>1</td>\n",
       "      <td>Extracellular exchange</td>\n",
       "    </tr>\n",
       "    <tr>\n",
       "      <th>METDabcpp</th>\n",
       "      <td>{METDabcpp}</td>\n",
       "      <td>35.540644</td>\n",
       "      <td>optimal</td>\n",
       "      <td>1</td>\n",
       "      <td>Transport, Inner Membrane</td>\n",
       "    </tr>\n",
       "    <tr>\n",
       "      <th>NiYBTexs</th>\n",
       "      <td>{NiYBTexs}</td>\n",
       "      <td>35.540644</td>\n",
       "      <td>optimal</td>\n",
       "      <td>1</td>\n",
       "      <td>Inorganic Ion Transport and Metabolism</td>\n",
       "    </tr>\n",
       "  </tbody>\n",
       "</table>\n",
       "<p>3143 rows × 5 columns</p>\n",
       "</div>"
      ],
      "text/plain": [
       "                           ids     growth   status  an_rxn_growth  \\\n",
       "reaction                                                            \n",
       "ULA4Ntppi          {ULA4Ntppi}  35.540644  optimal              1   \n",
       "EX_feroxEfe_e  {EX_feroxEfe_e}  35.540644  optimal              1   \n",
       "ATPS4rpp            {ATPS4rpp}  24.856463  optimal              1   \n",
       "EX_cys__L_e      {EX_cys__L_e}  35.252491  optimal              1   \n",
       "PPRDNDH              {PPRDNDH}  35.540644  optimal              1   \n",
       "...                        ...        ...      ...            ...   \n",
       "ORNabcpp            {ORNabcpp}  35.540644  optimal              1   \n",
       "FESR                    {FESR}  35.540644  optimal              1   \n",
       "EX_malt_e          {EX_malt_e}  35.540644  optimal              1   \n",
       "METDabcpp          {METDabcpp}  35.540644  optimal              1   \n",
       "NiYBTexs            {NiYBTexs}  35.540644  optimal              1   \n",
       "\n",
       "                                                 Subsystem  \n",
       "reaction                                                    \n",
       "ULA4Ntppi      Lipopolysaccharide Biosynthesis / Recycling  \n",
       "EX_feroxEfe_e                       Extracellular exchange  \n",
       "ATPS4rpp                         Oxidative Phosphorylation  \n",
       "EX_cys__L_e                         Extracellular exchange  \n",
       "PPRDNDH                                  Lysine Metabolism  \n",
       "...                                                    ...  \n",
       "ORNabcpp                         Transport, Inner Membrane  \n",
       "FESR            Cofactor and Prosthetic Group Biosynthesis  \n",
       "EX_malt_e                           Extracellular exchange  \n",
       "METDabcpp                        Transport, Inner Membrane  \n",
       "NiYBTexs            Inorganic Ion Transport and Metabolism  \n",
       "\n",
       "[3143 rows x 5 columns]"
      ]
     },
     "execution_count": 24,
     "metadata": {},
     "output_type": "execute_result"
    }
   ],
   "source": [
    "# Unpack the index values from the frozenset to enable comparison to the ortho_matrices\n",
    "for value in an_rxn.index:\n",
    "    unpacked, = an_rxn.loc[value, 'ids']\n",
    "    an_rxn.loc[value, 'reaction'] = unpacked\n",
    "    \n",
    "# Set the unpacked gene name as index\n",
    "an_rxn = an_rxn.set_index('reaction')\n",
    "an_rxn.rename(columns = {'binary':'an_rxn_growth'}, inplace=True)\n",
    "\n",
    "# Get the subsystem for all reactions\n",
    "for rxn in an_rxn.index.tolist():\n",
    "    an_rxn.loc[rxn, 'Subsystem'] = EcN_model.reactions.get_by_id(rxn).subsystem\n",
    "    \n",
    "print('total =', len(an_rxn))\n",
    "print('Essential =', len(an_rxn) - an_rxn.an_rxn_growth.sum())\n",
    "print('Non-essential =', an_rxn.an_rxn_growth.sum())\n",
    "\n",
    "an_rxn"
   ]
  },
  {
   "cell_type": "code",
   "execution_count": 25,
   "metadata": {},
   "outputs": [
    {
     "data": {
      "text/plain": [
       "Cofactor and Prosthetic Group Biosynthesis            53\n",
       "Purine and Pyrimidine Biosynthesis                    17\n",
       "Cell Envelope Biosynthesis                            17\n",
       "Tyrosine, Tryptophan, and Phenylalanine Metabolism    16\n",
       "Glycerophospholipid Metabolism                        15\n",
       "Valine, Leucine, and Isoleucine Metabolism            14\n",
       "Extracellular exchange                                14\n",
       "Lipopolysaccharide Biosynthesis / Recycling           12\n",
       "Threonine and Lysine Metabolism                       12\n",
       "Arginine and Proline Metabolism                       12\n",
       "Methionine Metabolism                                  9\n",
       "Transport, Outer Membrane                              9\n",
       "Nucleotide Salvage Pathway                             5\n",
       "Transport, Inner Membrane                              4\n",
       "Citric Acid Cycle                                      4\n",
       "Inorganic Ion Transport and Metabolism                 3\n",
       "Membrane Lipid Metabolism                              2\n",
       "Alanine and Aspartate Metabolism                       2\n",
       "Murein Biosynthesis                                    2\n",
       "Anaplerotic Reactions                                  1\n",
       "Glutamate Metabolism                                   1\n",
       "Intracellular demand                                   1\n",
       "Unassigned                                             1\n",
       "Folate Metabolism                                      1\n",
       "Alternate Carbon Metabolism                            1\n",
       "Biomass and maintenance functions                      1\n",
       "tRNA Charging                                          1\n",
       "Name: Subsystem, dtype: int64"
      ]
     },
     "execution_count": 25,
     "metadata": {},
     "output_type": "execute_result"
    }
   ],
   "source": [
    "gene_ess_an_sub = an_rxn[an_rxn['an_rxn_growth'] == 0 ]['Subsystem'].value_counts()\n",
    "gene_ess_an_sub"
   ]
  },
  {
   "cell_type": "code",
   "execution_count": 26,
   "metadata": {},
   "outputs": [],
   "source": [
    "gene_ess_an_sub.to_csv('../tables/gene_ess_an_sub.csv')"
   ]
  },
  {
   "cell_type": "markdown",
   "metadata": {},
   "source": [
    "# VI. Double gene essentiality"
   ]
  },
  {
   "cell_type": "code",
   "execution_count": null,
   "metadata": {},
   "outputs": [],
   "source": [
    "# Create a list of all non-essential genes\n",
    "ae_non = del_results[del_results['binary_ae'] == 1].index.tolist()\n",
    "\n",
    "# Run the double gene deletion with only the non-essential genes\n",
    "with EcN_model:\n",
    "    M1(EcN_model)\n",
    "    double_ae = double_gene_deletion(EcN_model, ae_non, return_frame=True).round(4)\n",
    "    \n",
    "double_ae.head()"
   ]
  },
  {
   "cell_type": "code",
   "execution_count": null,
   "metadata": {},
   "outputs": [],
   "source": [
    "# Get binary representation of gene essentiality\n",
    "double_ae['binary']= double_ae['growth'].map(lambda x: 0 if x < (0.05 * wt_growth_ae) else 1)\n",
    "\n",
    "# Check whether there are genes for which the status is not \"optimal\"\n",
    "inf_double = double_ae[double_ae.status != 'optimal'].index.tolist()\n",
    "\n",
    "# Assume infeasible result as growth deficient\n",
    "for gene in inf_double:\n",
    "    double_ae.loc[gene, 'binary'] = 0\n",
    "    \n",
    "double_ae[double_ae.status != 'optimal']"
   ]
  },
  {
   "cell_type": "code",
   "execution_count": null,
   "metadata": {},
   "outputs": [],
   "source": [
    "double_ess = double_ae[double_ae.status == 'optimal']\n",
    "double_ess = double_ess[double_ess['binary'] == 0]\n",
    "print(len(double_ess))\n",
    "double_ess.head()"
   ]
  },
  {
   "cell_type": "code",
   "execution_count": null,
   "metadata": {},
   "outputs": [],
   "source": [
    "# Save the resulting dataframe as .csv\n",
    "double_ess.to_csv('../tables/gene_ess_double_ess.csv')"
   ]
  },
  {
   "cell_type": "markdown",
   "metadata": {},
   "source": [
    "### Anaerobic"
   ]
  },
  {
   "cell_type": "code",
   "execution_count": null,
   "metadata": {},
   "outputs": [],
   "source": [
    "# Create a list of all non-essential genes\n",
    "an_non = del_results[del_results['binary_an'] == 1].index.tolist()\n",
    "\n",
    "# Run the double gene deletion with only the non-essential genes\n",
    "with EcN_model:\n",
    "    M1(EcN_model)\n",
    "    \n",
    "    # Make anaerobic\n",
    "    medium = EcN_model.medium\n",
    "    medium['EX_o2_e']= 0.0\n",
    "    EcN_model.medium = medium\n",
    "    \n",
    "    double_an = double_gene_deletion(EcN_model, an_non, return_frame=True).round(4)\n",
    "    \n",
    "double_an.head()"
   ]
  },
  {
   "cell_type": "code",
   "execution_count": null,
   "metadata": {},
   "outputs": [],
   "source": [
    "# Get binary representation of gene essentiality\n",
    "double_an['binary']= double_an['growth'].map(lambda x: 0 if x < (0.05 * wt_growth_an) else 1)\n",
    "\n",
    "# Check whether there are genes for which the status is not \"optimal\"\n",
    "inf_double_an = double_an[double_an.status != 'optimal'].index.tolist()\n",
    "\n",
    "# Assume infeasible result as growth deficient\n",
    "for gene in inf_double_an:\n",
    "    double_an.loc[gene, 'binary'] = 0\n",
    "    \n",
    "double_an[double_an.status != 'optimal']"
   ]
  },
  {
   "cell_type": "code",
   "execution_count": null,
   "metadata": {},
   "outputs": [],
   "source": [
    "double_ess_an = double_an[double_an.status == 'optimal']\n",
    "double_ess_an = double_ess_an[double_ess_an['binary'] == 0]\n",
    "print(len(double_ess_an))\n",
    "double_ess_an.head()"
   ]
  },
  {
   "cell_type": "code",
   "execution_count": null,
   "metadata": {},
   "outputs": [],
   "source": [
    "# Save the resulting dataframe as .csv\n",
    "double_ess_an.to_csv('../tables/gene_ess_double_ess_an.csv')"
   ]
  },
  {
   "cell_type": "code",
   "execution_count": null,
   "metadata": {},
   "outputs": [],
   "source": [
    "# Get the names of the genes in the right format to compare\n",
    "EcN_double = double_ess.copy()\n",
    "\n",
    "for EcN_loc in EcN_double.index.tolist():\n",
    "    EcN_id = EcN_double.loc[EcN_loc, 'ids']\n",
    "    EcN_genes = []\n",
    "    for gene in EcN_id:\n",
    "        EcN_genes.append(str(gene))\n",
    "    EcN_double.loc[EcN_loc, 'EcN'] = str(EcN_genes)\n",
    "\n",
    "EcN_double_an = double_ess_an.copy()\n",
    "for EcN_loc in EcN_double_an.index.tolist():\n",
    "    EcN_id = EcN_double_an.loc[EcN_loc, 'ids']\n",
    "    EcN_genes = []\n",
    "    for gene in EcN_id:\n",
    "        EcN_genes.append(str(gene))\n",
    "    EcN_double_an.loc[EcN_loc, 'EcN'] = str(EcN_genes)"
   ]
  },
  {
   "cell_type": "code",
   "execution_count": null,
   "metadata": {},
   "outputs": [],
   "source": [
    "# Create two sets\n",
    "set_ae = set(EcN_double['EcN'])\n",
    "set_an = set(EcN_double_an['EcN'])\n",
    "\n",
    "diff_ae = set_ae - set_an\n",
    "diff_an = set_an - set_ae\n",
    "similar = set.intersection(set_ae, set_an)\n",
    "\n",
    "print(len(diff_ae), len(diff_an), len(similar))"
   ]
  },
  {
   "cell_type": "code",
   "execution_count": null,
   "metadata": {},
   "outputs": [],
   "source": [
    "def gene_names(gene_set):\n",
    "    df = pd.DataFrame(columns=['EcN_id', 'EcN_id_1', 'EcN_id_2', 'EcN_name_1', 'EcN_name_2', 'EcN_names'])\n",
    "\n",
    "    df['EcN_id'] = list(gene_set)\n",
    "    for loc in df.index:\n",
    "        \n",
    "        #Split the name in two gene_ids\n",
    "        name = df.loc[loc, 'EcN_id']\n",
    "        name = name.strip(\"['\").strip(\"]'\").split(\"', '\")\n",
    "        df.loc[loc, 'EcN_id_1'] = name[0]\n",
    "        df.loc[loc, 'EcN_id_2'] = name[1]\n",
    "        \n",
    "        # Identify the gene names\n",
    "        df.loc[loc, 'EcN_name_1'] = EcN_model.genes.get_by_id(name[0]).name\n",
    "        df.loc[loc, 'EcN_name_2'] = EcN_model.genes.get_by_id(name[1]).name\n",
    "        name = sorted(name)\n",
    "        df.loc[loc, 'EcN_names'] = str(EcN_model.genes.get_by_id(name[0]).name + ', ' + EcN_model.genes.get_by_id(name[1]).name)\n",
    "        \n",
    "    return df"
   ]
  },
  {
   "cell_type": "code",
   "execution_count": null,
   "metadata": {},
   "outputs": [],
   "source": [
    "# Get the names of the aerobic double essential genes\n",
    "gene_overview_ae = gene_names(diff_ae)\n",
    "gene_overview_ae"
   ]
  },
  {
   "cell_type": "code",
   "execution_count": null,
   "metadata": {
    "scrolled": true
   },
   "outputs": [],
   "source": [
    "# Get the names of the anaerobic double essential genes\n",
    "gene_overview_an = gene_names(diff_an)\n",
    "gene_overview_an"
   ]
  },
  {
   "cell_type": "markdown",
   "metadata": {},
   "source": [
    "The gene combination \"iscU/sufD\", \"trxB/gor\" and \"xdhC/guaB\" are present in both, but in different order. Only \"hemF/hemN\" is only found in aerobic conditions and \"rpe/pgl\", \"rpe/zwf\", \"carA/ybcF\" and \"carB/ybcF\" are anaerobic specific."
   ]
  },
  {
   "cell_type": "markdown",
   "metadata": {},
   "source": [
    "##### Load the tables not to rerun the double_gene_deletion"
   ]
  },
  {
   "cell_type": "code",
   "execution_count": null,
   "metadata": {},
   "outputs": [],
   "source": [
    "# Load if needed\n",
    "double_ess = pd.read_csv('../tables/gene_ess_double_ess.csv')\n",
    "double_ess.set_index('Unnamed: 0', inplace=True)\n",
    "double_ess_an = pd.read_csv('../tables/gene_ess_double_ess_an.csv')\n",
    "double_ess_an.set_index('Unnamed: 0', inplace=True)"
   ]
  },
  {
   "cell_type": "code",
   "execution_count": null,
   "metadata": {},
   "outputs": [],
   "source": [
    "# get usable gene names\n",
    "for EcN_loc in double_ess.index.tolist():\n",
    "    gene_list = double_ess.loc[EcN_loc, 'ids'].split(\"', '\")\n",
    "    gene_1 = gene_list[0][2:]\n",
    "    gene_2 = gene_list[1][:-2]\n",
    "    double_ess.loc[EcN_loc, 'genes'] = gene_1 + ', ' + gene_2\n",
    "    \n",
    "for EcN_loc in double_ess_an.index.tolist():\n",
    "    gene_list = double_ess_an.loc[EcN_loc, 'ids'].split(\"', '\")\n",
    "    gene_1 = gene_list[0][2:]\n",
    "    gene_2 = gene_list[1][:-2]\n",
    "    double_ess_an.loc[EcN_loc, 'genes_an'] = gene_1 + ', ' + gene_2\n",
    "    \n",
    "# Create two sets\n",
    "set_ae = set(double_ess['genes'])\n",
    "set_an = set(double_ess_an['genes_an'])\n",
    "\n",
    "diff_ae = set_ae - set_an\n",
    "diff_an = set_an - set_ae\n",
    "similar = set.intersection(set_ae, set_an)\n",
    "\n",
    "print('Total number of synthetic lethals aerobically:', len(set_ae), 'and anaerobically:', len(set_an))\n",
    "print('The difference is:', len(diff_ae), len(diff_an), len(similar))\n",
    "diff_ae"
   ]
  },
  {
   "cell_type": "markdown",
   "metadata": {},
   "source": [
    "### Check differences"
   ]
  },
  {
   "cell_type": "code",
   "execution_count": null,
   "metadata": {},
   "outputs": [],
   "source": [
    "# Get the reactions\n",
    "EcN_model.genes.CIW80_06055 #hemF\n",
    "EcN_model.genes.CIW80_14315 #hemN"
   ]
  },
  {
   "cell_type": "code",
   "execution_count": null,
   "metadata": {},
   "outputs": [],
   "source": [
    "# Check the double lethal only for aerobic\n",
    "with EcN_model:\n",
    "    M1(EcN_model)\n",
    "    EcN_model.reactions.EX_o2_e.lower_bound=0\n",
    "    EcN_model.remove_reactions(['CPPPGO2', 'CPPPGO'])\n",
    "    print(EcN_model.slim_optimize())"
   ]
  },
  {
   "cell_type": "markdown",
   "metadata": {},
   "source": [
    "This deletion is lethal in both cases, but was not included for anaerobic, as the deletion of only CIW80_14315 (hemN/CPPPGO2) is already lethal in anaerobic conditions"
   ]
  },
  {
   "cell_type": "markdown",
   "metadata": {},
   "source": [
    "# VII. Gene comparison EcN & MG1655 model"
   ]
  },
  {
   "cell_type": "code",
   "execution_count": null,
   "metadata": {},
   "outputs": [],
   "source": [
    "# Load iML1515 model\n",
    "k12_model = cobra.io.load_json_model('../data/models/iML1515.json')\n",
    "\n",
    "# Get growth rate for each single gene knockout\n",
    "with k12_model:\n",
    "    M1(k12_model)\n",
    "    k12_model.reactions.EX_o2_e.lower_bound=0\n",
    "    del_result_k12 = single_gene_deletion(k12_model)"
   ]
  },
  {
   "cell_type": "code",
   "execution_count": null,
   "metadata": {},
   "outputs": [],
   "source": [
    "# Get a binary representation of the gene essentiality\n",
    "k12_growth = k12_model.optimize().objective_value\n",
    "\n",
    "del_result_k12['binary']= del_result_k12['growth'].map(lambda x: 0 if x < (0.05 * k12_growth) else 1)"
   ]
  },
  {
   "cell_type": "code",
   "execution_count": null,
   "metadata": {},
   "outputs": [],
   "source": [
    "# Check whether there are genes for which the status is not \"optimal\"\n",
    "del_result_k12[del_result_k12.status != 'optimal']"
   ]
  },
  {
   "cell_type": "code",
   "execution_count": null,
   "metadata": {},
   "outputs": [],
   "source": [
    "# Unpack the index values from the frozenset to enable comparison to the ortho_matrices\n",
    "for value in del_result_k12.index:\n",
    "    unpacked, = del_result_k12.loc[value, 'ids']\n",
    "    del_result_k12.loc[value, 'gene'] = unpacked\n",
    "                                   \n",
    "\n",
    "# Set the unpacked gene name as index\n",
    "del_result_k12 = del_result_k12.set_index('gene')\n",
    "del_result_k12.rename(columns = {'binary':'K12_growth'}, inplace=True)\n",
    "del_result_k12.drop(columns=['ids', 'growth', 'status'], inplace=True)\n",
    "del_result_k12.head()"
   ]
  },
  {
   "cell_type": "code",
   "execution_count": null,
   "metadata": {},
   "outputs": [],
   "source": [
    "# Get the ortho matrix of EcN vs. the reference strains\n",
    "orthoIDs_matrix = pd.read_csv('../tables/orthoIDs_matrix.csv')\n",
    "orthoIDs_matrix.set_index('Unnamed: 0', inplace=True)\n",
    "geneIDs_sub = orthoIDs_matrix.loc[:, 'U00096'] # Get the gene ID orthologs for MG1655\n",
    "\n",
    "# Merge the ortho_matrix with the EcN gene essentiality matrix\n",
    "geneIDs_ess = pd.merge(geneIDs_sub, del_results, left_index = True, right_index = True)\n",
    "geneIDs_ess.head()"
   ]
  },
  {
   "cell_type": "code",
   "execution_count": null,
   "metadata": {},
   "outputs": [],
   "source": [
    "# Combine with previously generated EcN essentiality data merged with K12 gene IDs\n",
    "ess_comp = pd.merge(geneIDs_ess, del_result_k12, left_on ='U00096', right_index =True)\n",
    "\n",
    "# Find the differences\n",
    "ess_comp['difference'] = ess_comp['binary_an'] - ess_comp['K12_growth']\n",
    "ess_comp[ess_comp['difference'] != 0] "
   ]
  },
  {
   "cell_type": "code",
   "execution_count": null,
   "metadata": {},
   "outputs": [],
   "source": [
    "# Save the resulting dataframe as .csv\n",
    "ess_comp_k12 = ess_comp#[ess_comp['K12_growth'] == 0]\n",
    "# ess_comp_k12.to_csv('../tables/gene_ess_comp_k12.csv')\n",
    "\n",
    "# Get the number of shared genes\n",
    "len(ess_comp[ess_comp['U00096'].str.contains('b')])"
   ]
  },
  {
   "cell_type": "code",
   "execution_count": null,
   "metadata": {},
   "outputs": [],
   "source": [
    "for gene in ess_comp[ess_comp['difference'] != 0]['U00096']:\n",
    "    name = k12_model.genes.get_by_id(gene).name\n",
    "    print(name)"
   ]
  },
  {
   "cell_type": "code",
   "execution_count": null,
   "metadata": {},
   "outputs": [],
   "source": [
    "for gene in ess_comp[ess_comp['difference'] != 0].index:\n",
    "    name = EcN_model.genes.get_by_id(gene).name\n",
    "    print(name)"
   ]
  },
  {
   "cell_type": "code",
   "execution_count": null,
   "metadata": {},
   "outputs": [],
   "source": [
    "k12_model.genes.b1912"
   ]
  },
  {
   "cell_type": "code",
   "execution_count": null,
   "metadata": {},
   "outputs": [],
   "source": [
    "EcN_model.genes.CIW80_02775\n",
    "\n",
    "with EcN_model:\n",
    "    M1(EcN_model)\n",
    "#     EcN_model.reactions.EX_o2_e.lower_bound=0\n",
    "    EcN_model.reactions.BIOMASS_EcN_iHM1533_core_59p80M.add_metabolites({'pg160_p': 0.0148265788551,\n",
    "                                                                         'pg161_p': 0.013732749318999999,\n",
    "                                                                         #'pe181_p': 0.0132509524519,\n",
    "                                                                         'pg181_p': 0.00909808994019})\n",
    "    for rxn in ['PGSA140', 'PGSA160', 'PGSA161', 'PGSA141', 'PGSA181', 'PGSA120', 'PGSA180']:\n",
    "        EcN_model.reactions.get_by_id(rxn).lower_bound=0\n",
    "        EcN_model.reactions.get_by_id(rxn).upper_bound=0\n",
    "        sol = EcN_model.slim_optimize()\n",
    "        print(rxn, sol)\n",
    "        \n",
    "with k12_model:\n",
    "    M1(k12_model)\n",
    "    k12_model.reactions.EX_o2_e.lower_bound=0\n",
    "    for rxn in ['PGSA140', 'PGSA160', 'PGSA161', 'PGSA141', 'PGSA181', 'PGSA120', 'PGSA180']:\n",
    "        k12_model.reactions.get_by_id(rxn).lower_bound=0\n",
    "        k12_model.reactions.get_by_id(rxn).upper_bound=0\n",
    "        sol = k12_model.slim_optimize()\n",
    "        print(rxn, sol)"
   ]
  },
  {
   "cell_type": "code",
   "execution_count": null,
   "metadata": {},
   "outputs": [],
   "source": [
    "EcN_model.metabolites.pg160_p"
   ]
  },
  {
   "cell_type": "code",
   "execution_count": null,
   "metadata": {},
   "outputs": [],
   "source": [
    "EcN_model.reactions.BIOMASS_EcN_iHM1533_core_59p80M.metabolites"
   ]
  },
  {
   "cell_type": "code",
   "execution_count": null,
   "metadata": {},
   "outputs": [],
   "source": [
    "EcN_model.metabolites.pg160_p"
   ]
  },
  {
   "cell_type": "markdown",
   "metadata": {},
   "source": [
    "## K12 ess\n",
    "### ZupT\n",
    "heavy metal divalent cation transporter ZupT\n",
    "https://ecocyc.org/gene?orgid=ECOLI&id=EG11167\n",
    "\n",
    "### proB (corrected)\n",
    "glutamate 5-kinase\n",
    "https://ecocyc.org/gene?orgid=ECOLI&id=EG10768\n",
    "\n",
    "### proA (corrected)\n",
    "glutamate-5-semialdehyde dehydrogenase\n",
    "https://ecocyc.org/gene?orgid=ECOLI&id=EG10767\n",
    "\n",
    "## EcN ess\n",
    "### argI/argF (corrected)\n",
    "ornithine carbamoyltransferase\n",
    "https://ecocyc.org/gene?orgid=ECOLI&id=EG10069\n",
    "\n",
    "### leuB\n",
    "3-isopropylmalate dehydrogenase\n",
    "https://ecocyc.org/gene?orgid=ECOLI&id=EG11577\n",
    "\n",
    "### can\n",
    "carbonic anhydrase 2\n",
    "https://ecocyc.org/gene?orgid=ECOLI&id=EG12319"
   ]
  },
  {
   "cell_type": "code",
   "execution_count": null,
   "metadata": {},
   "outputs": [],
   "source": [
    "## zupT\n",
    "# EcN_model.genes.CIW80_09665\n",
    "# EcN_model.reactions.COBALT2tpp\n",
    "# EcN_model.metabolites.cobalt2_c\n",
    "# EcN_model.reactions.COBALT2t3pp\n",
    "\n",
    "# EcN_model.reactions.CU2tpp\n",
    "# EcN_model.metabolites.cu2_p \n",
    "# EcN_model.reactions.CU2abcpp\n",
    "\n",
    "## proA/B\n",
    "# EcN_model.genes.CIW80_19485\n",
    "# EcN_model.genes.CIW80_19490\n",
    "# EcN_model.reactions.G5SD\n",
    "# EcN_model.metabolites.glu5sa_c \n",
    "# EcN_model.reactions.NACODA\n",
    "# EcN_model.reactions.ACODA\n",
    "# EcN_model.metabolites.orn_c\n",
    "\n",
    "## argI/argF\n",
    "# EcN_model.genes.CIW80_16625\n",
    "# EcN_model.reactions.OCBT\n",
    "\n",
    "## leuB\n",
    "# EcN_model.genes.CIW80_18070\n",
    "# EcN_model.reactions.IPMD\n",
    "\n",
    "# can\n",
    "# EcN_model.genes.CIW80_18385\n",
    "# EcN_model.reactions.HCO3E"
   ]
  },
  {
   "cell_type": "code",
   "execution_count": null,
   "metadata": {},
   "outputs": [],
   "source": [
    "# Check effect of specific reactions encoded by these genes\n",
    "with k12_model:\n",
    "    k12_model.remove_reactions(['OCBT'])\n",
    "    growth = k12_model.slim_optimize()\n",
    "    print(growth)"
   ]
  },
  {
   "cell_type": "markdown",
   "metadata": {},
   "source": [
    "# Comparison double lethals"
   ]
  },
  {
   "cell_type": "code",
   "execution_count": null,
   "metadata": {},
   "outputs": [],
   "source": [
    "# Create a list of all non-essential genes\n",
    "an_non_k12 = del_result_k12[del_result_k12['K12_growth'] == 1].index.tolist()\n",
    "\n",
    "# Run the double gene deletion with only the non-essential genes\n",
    "with k12_model:\n",
    "    M1(k12_model)\n",
    "    \n",
    "    # Make anaerobic\n",
    "    medium = k12_model.medium\n",
    "    medium['EX_o2_e']= 0.0\n",
    "    k12_model.medium = medium\n",
    "    \n",
    "    double_an_k12 = double_gene_deletion(k12_model, an_non_k12, return_frame=True).round(4)\n",
    "    \n",
    "double_an_k12.head()"
   ]
  },
  {
   "cell_type": "code",
   "execution_count": null,
   "metadata": {},
   "outputs": [],
   "source": [
    "double_an_k12.to_csv('../tables/gene_ess_double_ess_k12_raw.csv')"
   ]
  },
  {
   "cell_type": "markdown",
   "metadata": {},
   "source": [
    "##### Load the tables not to rerun the double_gene_deletion"
   ]
  },
  {
   "cell_type": "code",
   "execution_count": null,
   "metadata": {},
   "outputs": [],
   "source": [
    "# Load if needed\n",
    "double_an_k12 = pd.read_csv('../tables/gene_ess_double_ess_k12_raw.csv')\n",
    "double_an_k12.set_index('Unnamed: 0', inplace=True)\n",
    "\n",
    "double_an_k12.head()"
   ]
  },
  {
   "cell_type": "code",
   "execution_count": null,
   "metadata": {},
   "outputs": [],
   "source": [
    "# Get binary representation of gene essentiality\n",
    "double_an_k12['binary']= double_an_k12['growth'].map(lambda x: 0 if x < (0.05 * k12_growth) else 1)\n",
    "\n",
    "# Check whether there are genes for which the status is not \"optimal\"\n",
    "inf_double_k12 = double_an_k12[double_an_k12.status != 'optimal'].index.tolist()\n",
    "\n",
    "# Assume infeasible result as growth deficient\n",
    "for gene in inf_double_k12:\n",
    "    double_an_k12.loc[gene, 'binary'] = 0\n",
    "    \n",
    "double_an_k12[double_an_k12.status != 'optimal']"
   ]
  },
  {
   "cell_type": "code",
   "execution_count": null,
   "metadata": {},
   "outputs": [],
   "source": [
    "double_ess_k12 = double_an_k12[double_an_k12.status == 'optimal']\n",
    "double_ess_k12 = double_ess_k12[double_ess_k12['binary'] == 0]\n",
    "\n",
    "print(len(double_ess_k12))\n",
    "double_ess_k12.head()"
   ]
  },
  {
   "cell_type": "code",
   "execution_count": null,
   "metadata": {},
   "outputs": [],
   "source": [
    "double_ess_k12[double_ess_k12['ids'].str.contains('CIW80_16625')]"
   ]
  },
  {
   "cell_type": "code",
   "execution_count": null,
   "metadata": {},
   "outputs": [],
   "source": [
    "# Add an empty row for EcN as placeholder\n",
    "double_ess_k12['EcN'] = 0\n",
    "\n",
    "gene_list = ['gene_1', 'gene_2']\n",
    "set_K12\n",
    "\n",
    "for k12_loc in double_ess_k12.index.to_list():\n",
    "    k12_id = double_ess_k12.loc[k12_loc, 'ids']\n",
    "    genes = k12_id.split(\"', '\")\n",
    "    gene_list[0] = genes[0][2:]\n",
    "    gene_list[1] = genes[1][:-2]\n",
    "    \n",
    "    # Convert to EcN gene IDs\n",
    "    EcN_genes = []\n",
    "    for gene in gene_list:\n",
    "        try:\n",
    "            EcN_gene = geneIDs_ess[geneIDs_ess['U00096'] == gene].index[0]\n",
    "            EcN_genes.append(str(EcN_gene))\n",
    "        except:\n",
    "            print('Error', gene, 'of combination', gene_list)\n",
    "            EcN_genes.append('Missing')\n",
    "        \n",
    "    double_ess_k12.loc[k12_loc,'EcN'] = str(EcN_genes)\n",
    "    set_K12.add(frozenset(EcN_genes))\n",
    "    \n",
    "print(len(double_ess_k12))"
   ]
  },
  {
   "cell_type": "code",
   "execution_count": null,
   "metadata": {},
   "outputs": [],
   "source": [
    "# Save the resulting dataframe as .csv\n",
    "double_ess_k12.to_csv('../tables/gene_ess_double_ess_k12.csv')"
   ]
  },
  {
   "cell_type": "markdown",
   "metadata": {},
   "source": [
    "#### Compare to EcN"
   ]
  },
  {
   "cell_type": "code",
   "execution_count": null,
   "metadata": {},
   "outputs": [],
   "source": [
    "# Compare to EcN\n",
    "double_ess_an = pd.read_csv('../tables/gene_ess_double_ess_an.csv')\n",
    "double_ess_an.set_index('Unnamed: 0', inplace=True)\n",
    "\n",
    "set_EcN = set()\n",
    "\n",
    "for EcN_loc in double_ess_an.index.tolist():\n",
    "    gene_list = double_ess_an.loc[EcN_loc, 'ids'].split(\"', '\")\n",
    "    gene_1 = gene_list[0][2:]\n",
    "    gene_2 = gene_list[1][:-2]\n",
    "    double_ess_an.loc[EcN_loc, 'genes_an'] = \"['\" + gene_1 + \"', '\" + gene_2 + \"']\"\n",
    "    set_EcN.add(frozenset([gene_1, gene_2]))\n",
    "\n",
    "diff_EcN = set_EcN - set_K12\n",
    "diff_K12 = set_K12 - set_EcN\n",
    "similar = set.intersection(set_EcN, set_K12)\n",
    "\n",
    "print('Total number of double lethals specific to EcN:', len(diff_EcN), 'and to K12:', len(diff_K12))\n",
    "print('The difference is:', len(diff_EcN), len(diff_K12), len(similar))"
   ]
  },
  {
   "cell_type": "code",
   "execution_count": null,
   "metadata": {},
   "outputs": [],
   "source": [
    "diff_K12"
   ]
  },
  {
   "cell_type": "code",
   "execution_count": null,
   "metadata": {},
   "outputs": [],
   "source": [
    "geneIDs_sub = orthoIDs_matrix.loc[:, 'U00096']\n",
    "geneIDs_sub"
   ]
  },
  {
   "cell_type": "code",
   "execution_count": null,
   "metadata": {
    "scrolled": true
   },
   "outputs": [],
   "source": [
    "comparison_df = pd.DataFrame(columns=['K12_gene_1', 'K12_gene_2', 'EcN_gene_1', 'EcN_gene_2','growth', 'growth_1', 'growth_2'])\n",
    "\n",
    "loc = 0\n",
    "\n",
    "for gene_set in diff_EcN:\n",
    "    gene_list = []\n",
    "    gene_loc = 1\n",
    "    for gene in gene_set:\n",
    "        # Add EcN gene ID\n",
    "        comparison_df.loc[loc, 'EcN_gene_%s'%gene_loc] = gene\n",
    "        \n",
    "        # Get also the k12 gene ID\n",
    "        try:\n",
    "            K12_gene = geneIDs_sub.loc[gene]        \n",
    "        except:\n",
    "            K12_gene = 'missing'\n",
    "        \n",
    "        comparison_df.loc[loc, 'K12_gene_%s'%gene_loc] = K12_gene\n",
    "        \n",
    "                # Check the knockout with K12\n",
    "        with k12_model:\n",
    "            M1(k12_model)\n",
    "\n",
    "            # Make anaerobic\n",
    "            medium = k12_model.medium\n",
    "            medium['EX_o2_e']= 0.0\n",
    "            k12_model.medium = medium\n",
    "            try:\n",
    "                k12_model.genes.get_by_id(K12_gene).knock_out()\n",
    "                comparison_df.loc[loc, 'growth_%s'%gene_loc] = k12_model.slim_optimize()\n",
    "            except:\n",
    "                print(gene)\n",
    "        \n",
    "        # Go to the second gene\n",
    "        gene_loc += 1\n",
    "        gene_list.append(K12_gene)\n",
    "#         gene_list.append(gene)\n",
    "    \n",
    "#     # Check the knockout with K12\n",
    "    with k12_model:\n",
    "        M1(k12_model)\n",
    "\n",
    "        # Make anaerobic\n",
    "        medium = k12_model.medium\n",
    "        medium['EX_o2_e']= 0.0\n",
    "        k12_model.medium = medium\n",
    "        for gene in gene_list:\n",
    "            try:\n",
    "                k12_model.genes.get_by_id(gene).knock_out()\n",
    "                comparison_df.loc[loc, 'growth' ] = k12_model.slim_optimize()\n",
    "            except:\n",
    "                print(gene_list)\n",
    "    \n",
    "#     # Check the knockout with EcN\n",
    "#     with EcN_model:\n",
    "#         M1(EcN_model)\n",
    "\n",
    "#         # Make anaerobic\n",
    "#         medium = EcN_model.medium\n",
    "#         medium['EX_o2_e']= 0.0\n",
    "#         EcN_model.medium = medium\n",
    "#         print(gene_list)\n",
    "#         for gene in gene_list:\n",
    "#             EcN_model.genes.get_by_id(gene).knock_out()\n",
    "#             comparison_df.loc[loc, 'growth'] = EcN_model.slim_optimize()        \n",
    "\n",
    "    # Go to next row    \n",
    "    loc+= 1\n",
    "        \n",
    "comparison_df"
   ]
  },
  {
   "cell_type": "code",
   "execution_count": null,
   "metadata": {},
   "outputs": [],
   "source": [
    "comparison_df[:50]\n",
    "# comparison_df[20:67]"
   ]
  },
  {
   "cell_type": "code",
   "execution_count": null,
   "metadata": {
    "scrolled": true
   },
   "outputs": [],
   "source": [
    "# Try by myself\n",
    "gene_del_df = pd.DataFrame(columns=['mix', 'gene_1', 'gene_2', 'growth'])\n",
    "\n",
    "gene_list = []\n",
    "\n",
    "for gene in k12_model.genes:\n",
    "    gene_list.append(gene.id)\n",
    "\n",
    "# gene_del_df.loc[:,'gene_1'] = gene_list\n",
    "# gene_del_df.set_index('gene_1', inplace=True)\n",
    "loc=0\n",
    "\n",
    "for gene in gene_list:\n",
    "    for gene_2 in gene_list:\n",
    "        if gene == gene_2:\n",
    "            pass\n",
    "        else:\n",
    "            with k12_model:        \n",
    "                # Media\n",
    "                M1(k12_model)\n",
    "                medium = k12_model.medium\n",
    "                medium['EX_o2_e']= 0.0\n",
    "                k12_model.medium = medium\n",
    "\n",
    "                # Knockouts\n",
    "                k12_model.genes.get_by_id(gene).knock_out()\n",
    "                k12_model.genes.get_by_id(gene_2).knock_out()\n",
    "\n",
    "                # Save in df\n",
    "                gene_del_df.loc[loc, 'mix' ] = str(gene + ', ' + gene_2)\n",
    "                gene_del_df.loc[loc, 'gene_1' ] = gene                \n",
    "                gene_del_df.loc[loc, 'gene_2' ] = gene_2\n",
    "                gene_del_df.loc[loc, 'growth' ] = k12_model.slim_optimize()\n",
    "                \n",
    "                # Next row\n",
    "                loc += 1\n",
    "\n",
    "    del gene_list[0]\n",
    "    \n",
    "gene_del_df"
   ]
  },
  {
   "cell_type": "code",
   "execution_count": null,
   "metadata": {},
   "outputs": [],
   "source": [
    "gene_del_df.to_csv('../tables/double_gene_del_k12.csv')"
   ]
  },
  {
   "cell_type": "markdown",
   "metadata": {},
   "source": [
    "### Investigate the difference in double lethals"
   ]
  },
  {
   "cell_type": "code",
   "execution_count": null,
   "metadata": {},
   "outputs": [],
   "source": [
    "EcN_model.genes.CIW80_25730\n",
    "# EcN_model.genes.CIW80_14630"
   ]
  },
  {
   "cell_type": "code",
   "execution_count": null,
   "metadata": {},
   "outputs": [],
   "source": [
    "# Check the double lethal only for aerobic\n",
    "for rxn_1 in k12_model.genes.b1378.reactions:\n",
    "    for rxn_2 in k12_model.genes.b3924.reactions:\n",
    "        with k12_model:\n",
    "            M1(k12_model)\n",
    "#             k12_model.reactions.EX_o2_e.lower_bound=0   \n",
    "            k12_model.remove_reactions([rxn_1.id, rxn_2.id])\n",
    "            print(rxn_1.id, rxn_2.id, k12_model.slim_optimize())"
   ]
  },
  {
   "cell_type": "code",
   "execution_count": null,
   "metadata": {},
   "outputs": [],
   "source": [
    "# Check the double lethal only for aerobic\n",
    "for rxn_1 in EcN_model.genes.CIW80_25730.reactions:\n",
    "    for rxn_2 in EcN_model.genes.CIW80_14630.reactions:\n",
    "        with EcN_model:\n",
    "            M1(EcN_model)\n",
    "#             EcN_model.reactions.EX_o2_e.lower_bound=0    \n",
    "            EcN_model.remove_reactions([rxn_1.id, rxn_2.id])\n",
    "            print(rxn_1.id, rxn_2.id, EcN_model.slim_optimize())"
   ]
  },
  {
   "cell_type": "code",
   "execution_count": null,
   "metadata": {
    "scrolled": true
   },
   "outputs": [],
   "source": [
    "# Check the reactions\n",
    "k12_model.reactions.FLDR2\n",
    "k12_model.reactions.POR5\n",
    "\n",
    "# Check the metabolites and compare with EcN\n",
    "EcN_model.metabolites.flxso_c.summary()\n",
    "k12_model.metabolites.flxso_c.summary()"
   ]
  },
  {
   "cell_type": "code",
   "execution_count": null,
   "metadata": {},
   "outputs": [],
   "source": [
    "# The only difference in consumption/production of these flavodoxin metabolites is MECDPDH5\n",
    "with k12_model:\n",
    "    M1(k12_model)\n",
    "#     k12_model.reactions.EX_o2_e.lower_bound=0   \n",
    "    k12_model.remove_reactions(['MECDPDH5'])\n",
    "    print(k12_model.slim_optimize())"
   ]
  },
  {
   "cell_type": "code",
   "execution_count": null,
   "metadata": {},
   "outputs": [],
   "source": [
    "# Check the difference in metabolism of k12 and EcN\n",
    "k12_model.reactions.MECDPDH5\n",
    "EcN_model.metabolites.get_by_id('2mecdp_c')\n",
    "k12_model.metabolites.get_by_id('2mecdp_c')"
   ]
  },
  {
   "cell_type": "code",
   "execution_count": null,
   "metadata": {},
   "outputs": [],
   "source": [
    "EcN_model.reactions.MECDPDH2"
   ]
  },
  {
   "cell_type": "markdown",
   "metadata": {},
   "source": [
    "The EcN model includes another reaction, MECDPH2, which used NADH as electron acceptor, instead of flavodoxin"
   ]
  },
  {
   "cell_type": "code",
   "execution_count": null,
   "metadata": {},
   "outputs": [],
   "source": []
  }
 ],
 "metadata": {
  "kernelspec": {
   "display_name": "Python 3",
   "language": "python",
   "name": "python3"
  },
  "language_info": {
   "codemirror_mode": {
    "name": "ipython",
    "version": 3
   },
   "file_extension": ".py",
   "mimetype": "text/x-python",
   "name": "python",
   "nbconvert_exporter": "python",
   "pygments_lexer": "ipython3",
   "version": "3.7.9"
  }
 },
 "nbformat": 4,
 "nbformat_minor": 4
}
