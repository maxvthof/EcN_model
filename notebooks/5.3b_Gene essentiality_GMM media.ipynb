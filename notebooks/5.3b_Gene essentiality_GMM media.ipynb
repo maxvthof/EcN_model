{
 "cells": [
  {
   "cell_type": "code",
   "execution_count": 1,
   "metadata": {},
   "outputs": [],
   "source": [
    "import pandas as pd\n",
    "import cobra\n",
    "from cobra.io import load_json_model\n",
    "from cobra.flux_analysis import single_gene_deletion, single_reaction_deletion, double_gene_deletion\n",
    "import numpy as np\n",
    "\n",
    "import re\n",
    "from glob import glob\n",
    "from Bio import Entrez, SeqIO"
   ]
  },
  {
   "cell_type": "markdown",
   "metadata": {},
   "source": [
    "# I. Gene comparison EcN aerobic vs. anaerobic"
   ]
  },
  {
   "cell_type": "code",
   "execution_count": 203,
   "metadata": {},
   "outputs": [],
   "source": [
    "# Load EcN model\n",
    "EcN_ID = 'CP022686.1'\n",
    "EcN_model = cobra.io.load_json_model('../data/models/%s_cur_4.7.json'%EcN_ID)"
   ]
  },
  {
   "cell_type": "code",
   "execution_count": 238,
   "metadata": {},
   "outputs": [],
   "source": [
    "#Establish a definition that initializes models to an in silico representation of gut microbiome media\n",
    "def M1(model):\n",
    "    \n",
    "    medium = model.medium\n",
    "    \n",
    "    # Set exchange to zero\n",
    "    for rxn in medium:\n",
    "        medium[rxn] = 0.0 # Remove all current media components\n",
    "\n",
    "    # Read medias - FROM AGORA\n",
    "    media_db = pd.read_table(\"../tables/media_db.txt\", comment=\"#\")\n",
    "    media_db[\"compound\"] = [cpd.strip() for cpd in media_db[\"compound\"]]\n",
    "    media_db = media_db[[\"medium\", \"compound\"]].groupby(\"medium\").agg(lambda x: list(x)).to_dict()['compound']\n",
    "\n",
    "\n",
    "    # Add compounds to media composition\n",
    "    for compound in media_db['M1']: # M1 > Gut microbium media, GMM\n",
    "        try:\n",
    "            model.reactions.get_by_id('EX_%s_e'%compound)\n",
    "            medium['EX_%s_e'%compound]= 1000\n",
    "        except:\n",
    "#             print(compound, 'is missing in the model')\n",
    "            pass\n",
    "    \n",
    "    medium['EX_o2_e']= 1000 # Make aerobic, so we can analyse the differences between aerobic and anaerobic\n",
    "        \n",
    "    # Update medium\n",
    "    model.medium = medium\n",
    "    \n",
    "    return model"
   ]
  },
  {
   "cell_type": "code",
   "execution_count": 19,
   "metadata": {},
   "outputs": [
    {
     "name": "stdout",
     "output_type": "stream",
     "text": [
      "3mb is missing in the model\n",
      "cbl2 is missing in the model\n",
      "fol is missing in the model\n",
      "hco3 is missing in the model\n",
      "mndn is missing in the model\n",
      "ribflv is missing in the model\n",
      "3mb is missing in the model\n",
      "cbl2 is missing in the model\n",
      "fol is missing in the model\n",
      "hco3 is missing in the model\n",
      "mndn is missing in the model\n",
      "ribflv is missing in the model\n"
     ]
    },
    {
     "data": {
      "text/html": [
       "<div>\n",
       "<style scoped>\n",
       "    .dataframe tbody tr th:only-of-type {\n",
       "        vertical-align: middle;\n",
       "    }\n",
       "\n",
       "    .dataframe tbody tr th {\n",
       "        vertical-align: top;\n",
       "    }\n",
       "\n",
       "    .dataframe thead th {\n",
       "        text-align: right;\n",
       "    }\n",
       "</style>\n",
       "<table border=\"1\" class=\"dataframe\">\n",
       "  <thead>\n",
       "    <tr style=\"text-align: right;\">\n",
       "      <th></th>\n",
       "      <th>ids</th>\n",
       "      <th>growth</th>\n",
       "      <th>status</th>\n",
       "    </tr>\n",
       "  </thead>\n",
       "  <tbody>\n",
       "    <tr>\n",
       "      <th>0</th>\n",
       "      <td>{CIW80_20120}</td>\n",
       "      <td>40.264903</td>\n",
       "      <td>optimal</td>\n",
       "    </tr>\n",
       "    <tr>\n",
       "      <th>1</th>\n",
       "      <td>{CIW80_07000}</td>\n",
       "      <td>40.264903</td>\n",
       "      <td>optimal</td>\n",
       "    </tr>\n",
       "    <tr>\n",
       "      <th>2</th>\n",
       "      <td>{CIW80_10650}</td>\n",
       "      <td>40.264903</td>\n",
       "      <td>optimal</td>\n",
       "    </tr>\n",
       "    <tr>\n",
       "      <th>3</th>\n",
       "      <td>{CIW80_00135}</td>\n",
       "      <td>40.264903</td>\n",
       "      <td>optimal</td>\n",
       "    </tr>\n",
       "    <tr>\n",
       "      <th>4</th>\n",
       "      <td>{CIW80_22850}</td>\n",
       "      <td>40.264903</td>\n",
       "      <td>optimal</td>\n",
       "    </tr>\n",
       "  </tbody>\n",
       "</table>\n",
       "</div>"
      ],
      "text/plain": [
       "             ids     growth   status\n",
       "0  {CIW80_20120}  40.264903  optimal\n",
       "1  {CIW80_07000}  40.264903  optimal\n",
       "2  {CIW80_10650}  40.264903  optimal\n",
       "3  {CIW80_00135}  40.264903  optimal\n",
       "4  {CIW80_22850}  40.264903  optimal"
      ]
     },
     "execution_count": 19,
     "metadata": {},
     "output_type": "execute_result"
    }
   ],
   "source": [
    "# Get growth rate for each single gene knockout\n",
    "with EcN_model:\n",
    "    M1(EcN_model)\n",
    "    wt_growth_ae = EcN_model.optimize().objective_value\n",
    "    ae_results = single_gene_deletion(EcN_model) \n",
    "    \n",
    "with EcN_model:\n",
    "    M1(EcN_model)\n",
    "    \n",
    "    # Make anaerobic\n",
    "    medium = EcN_model.medium\n",
    "    medium['EX_o2_e']= 0.0\n",
    "    EcN_model.medium = medium\n",
    "    \n",
    "    wt_growth_an = EcN_model.optimize().objective_value\n",
    "    an_results = single_gene_deletion(EcN_model)\n",
    "\n",
    "ae_results.head()"
   ]
  },
  {
   "cell_type": "code",
   "execution_count": 20,
   "metadata": {},
   "outputs": [],
   "source": [
    "# Get binary representation of gene essentiality\n",
    "ae_results['binary_ae']= ae_results['growth'].map(lambda x: 0 if x < (0.05 * wt_growth_ae) else 1)\n",
    "an_results['binary_an']= an_results['growth'].map(lambda x: 0 if x < (0.05 * wt_growth_an) else 1)"
   ]
  },
  {
   "cell_type": "code",
   "execution_count": 21,
   "metadata": {},
   "outputs": [
    {
     "data": {
      "text/html": [
       "<div>\n",
       "<style scoped>\n",
       "    .dataframe tbody tr th:only-of-type {\n",
       "        vertical-align: middle;\n",
       "    }\n",
       "\n",
       "    .dataframe tbody tr th {\n",
       "        vertical-align: top;\n",
       "    }\n",
       "\n",
       "    .dataframe thead th {\n",
       "        text-align: right;\n",
       "    }\n",
       "</style>\n",
       "<table border=\"1\" class=\"dataframe\">\n",
       "  <thead>\n",
       "    <tr style=\"text-align: right;\">\n",
       "      <th></th>\n",
       "      <th>ids</th>\n",
       "      <th>growth</th>\n",
       "      <th>status</th>\n",
       "      <th>binary_ae</th>\n",
       "    </tr>\n",
       "  </thead>\n",
       "  <tbody>\n",
       "  </tbody>\n",
       "</table>\n",
       "</div>"
      ],
      "text/plain": [
       "Empty DataFrame\n",
       "Columns: [ids, growth, status, binary_ae]\n",
       "Index: []"
      ]
     },
     "execution_count": 21,
     "metadata": {},
     "output_type": "execute_result"
    }
   ],
   "source": [
    "# Check whether there are genes for which the status is not \"optimal\"\n",
    "ae_results[ae_results.status != 'optimal']"
   ]
  },
  {
   "cell_type": "code",
   "execution_count": 22,
   "metadata": {},
   "outputs": [
    {
     "data": {
      "text/html": [
       "<div>\n",
       "<style scoped>\n",
       "    .dataframe tbody tr th:only-of-type {\n",
       "        vertical-align: middle;\n",
       "    }\n",
       "\n",
       "    .dataframe tbody tr th {\n",
       "        vertical-align: top;\n",
       "    }\n",
       "\n",
       "    .dataframe thead th {\n",
       "        text-align: right;\n",
       "    }\n",
       "</style>\n",
       "<table border=\"1\" class=\"dataframe\">\n",
       "  <thead>\n",
       "    <tr style=\"text-align: right;\">\n",
       "      <th></th>\n",
       "      <th>ids</th>\n",
       "      <th>growth</th>\n",
       "      <th>status</th>\n",
       "      <th>binary_an</th>\n",
       "    </tr>\n",
       "  </thead>\n",
       "  <tbody>\n",
       "  </tbody>\n",
       "</table>\n",
       "</div>"
      ],
      "text/plain": [
       "Empty DataFrame\n",
       "Columns: [ids, growth, status, binary_an]\n",
       "Index: []"
      ]
     },
     "execution_count": 22,
     "metadata": {},
     "output_type": "execute_result"
    }
   ],
   "source": [
    "# Check whether there are genes for which the status is not \"optimal\"\n",
    "infeasible_an = an_results[an_results.status != 'optimal'].index.tolist()\n",
    "\n",
    "# Assume infeasible result as growth deficient\n",
    "for gene in infeasible_an:\n",
    "    an_results.loc[gene, 'binary_an'] = 0\n",
    "    \n",
    "an_results[an_results.status != 'optimal']"
   ]
  },
  {
   "cell_type": "code",
   "execution_count": 23,
   "metadata": {},
   "outputs": [],
   "source": [
    "# Unpack the index values from the frozenset to enable comparison to the ortho_matrices\n",
    "for del_result in [ae_results, an_results]:\n",
    "    for value in del_result.index:\n",
    "        unpacked, = del_result.loc[value, 'ids']\n",
    "        del_result.loc[value, 'gene'] = unpacked\n",
    "\n",
    "    # Set the unpacked gene name as index\n",
    "    del_result.set_index('gene', inplace=True)"
   ]
  },
  {
   "cell_type": "code",
   "execution_count": 24,
   "metadata": {},
   "outputs": [
    {
     "name": "stdout",
     "output_type": "stream",
     "text": [
      "total = 1533\n",
      "Aerobic essential = 154\n",
      "Anaerobic essential = 155\n"
     ]
    },
    {
     "data": {
      "text/html": [
       "<div>\n",
       "<style scoped>\n",
       "    .dataframe tbody tr th:only-of-type {\n",
       "        vertical-align: middle;\n",
       "    }\n",
       "\n",
       "    .dataframe tbody tr th {\n",
       "        vertical-align: top;\n",
       "    }\n",
       "\n",
       "    .dataframe thead th {\n",
       "        text-align: right;\n",
       "    }\n",
       "</style>\n",
       "<table border=\"1\" class=\"dataframe\">\n",
       "  <thead>\n",
       "    <tr style=\"text-align: right;\">\n",
       "      <th></th>\n",
       "      <th>binary_ae</th>\n",
       "      <th>binary_an</th>\n",
       "      <th>diff</th>\n",
       "    </tr>\n",
       "    <tr>\n",
       "      <th>gene</th>\n",
       "      <th></th>\n",
       "      <th></th>\n",
       "      <th></th>\n",
       "    </tr>\n",
       "  </thead>\n",
       "  <tbody>\n",
       "    <tr>\n",
       "      <th>CIW80_14315</th>\n",
       "      <td>1</td>\n",
       "      <td>0</td>\n",
       "      <td>1</td>\n",
       "    </tr>\n",
       "  </tbody>\n",
       "</table>\n",
       "</div>"
      ],
      "text/plain": [
       "             binary_ae  binary_an  diff\n",
       "gene                                   \n",
       "CIW80_14315          1          0     1"
      ]
     },
     "execution_count": 24,
     "metadata": {},
     "output_type": "execute_result"
    }
   ],
   "source": [
    "# Remove the other two columsn\n",
    "ae_results.drop(columns=['growth', 'status'], inplace=True)\n",
    "an_results.drop(columns=['growth', 'status'], inplace=True)\n",
    "\n",
    "# Merge the two dataframes and \n",
    "del_results = pd.merge(ae_results, an_results, left_index=True, right_index=True)\n",
    "\n",
    "# Get an overview of the total number of essential genes\n",
    "print('total =', len(del_results))\n",
    "print('Aerobic essential =', len(del_results) - del_results['binary_ae'].sum())\n",
    "print('Anaerobic essential =', len(del_results) - del_results['binary_an'].sum())\n",
    "\n",
    "# Identify the genes that are only essential in one of the two conditions\n",
    "del_results.drop(columns=['ids_x', 'ids_y'], inplace=True) # Drop the ids columns\n",
    "del_results['diff'] = del_results['binary_ae'] - del_results['binary_an']\n",
    "del_results[del_results['diff'] != 0]"
   ]
  },
  {
   "cell_type": "code",
   "execution_count": 25,
   "metadata": {},
   "outputs": [],
   "source": [
    "del_results_ae = del_results[del_results['binary_ae'] == 0]\n",
    "del_results_an = del_results[del_results['binary_an'] == 0]\n",
    "\n",
    "# Save the resulting dataframe as .csv\n",
    "del_results.to_csv('../tables/gene_ess_del_results.csv')"
   ]
  },
  {
   "cell_type": "code",
   "execution_count": 26,
   "metadata": {},
   "outputs": [
    {
     "name": "stdout",
     "output_type": "stream",
     "text": [
      "binary_ae    1379\n",
      "binary_an    1378\n",
      "diff            1\n",
      "dtype: int64\n"
     ]
    }
   ],
   "source": [
    "print(del_results.sum())"
   ]
  },
  {
   "cell_type": "code",
   "execution_count": 27,
   "metadata": {},
   "outputs": [
    {
     "name": "stdout",
     "output_type": "stream",
     "text": [
      "hemN\n"
     ]
    }
   ],
   "source": [
    "# Find out which genes were essential only in anaerobic conditions\n",
    "for gene in del_results[del_results['diff'] != 0].index:\n",
    "    name = EcN_model.genes.get_by_id(gene).name\n",
    "    print(name)"
   ]
  },
  {
   "cell_type": "markdown",
   "metadata": {},
   "source": [
    "### Investigate hemN"
   ]
  },
  {
   "cell_type": "code",
   "execution_count": 13,
   "metadata": {},
   "outputs": [
    {
     "data": {
      "text/html": [
       "\n",
       "        <table>\n",
       "            <tr>\n",
       "                <td><strong>Gene identifier</strong></td><td>CIW80_14315</td>\n",
       "            </tr><tr>\n",
       "                <td><strong>Name</strong></td><td>hemN</td>\n",
       "            </tr><tr>\n",
       "                <td><strong>Memory address</strong></td>\n",
       "                <td>0x0242c525ff08</td>\n",
       "            </tr><tr>\n",
       "                <td><strong>Functional</strong></td><td>True</td>\n",
       "            </tr><tr>\n",
       "                <td><strong>In 1 reaction(s)</strong></td><td>\n",
       "                    CPPPGO2</td>\n",
       "            </tr>\n",
       "        </table>"
      ],
      "text/plain": [
       "<Gene CIW80_14315 at 0x242c525ff08>"
      ]
     },
     "execution_count": 13,
     "metadata": {},
     "output_type": "execute_result"
    }
   ],
   "source": [
    "EcN_model.genes.CIW80_14315"
   ]
  },
  {
   "cell_type": "code",
   "execution_count": 14,
   "metadata": {},
   "outputs": [],
   "source": [
    "import escher\n",
    "from escher import Builder"
   ]
  },
  {
   "cell_type": "code",
   "execution_count": 15,
   "metadata": {},
   "outputs": [
    {
     "name": "stdout",
     "output_type": "stream",
     "text": [
      "Downloading Map from https://escher.github.io/1-0-0/6/maps/Escherichia%20coli/iJO1366.Central%20metabolism.json\n",
      "Downloading Model from https://escher.github.io/1-0-0/6/models/Escherichia%20coli/iJO1366.json\n"
     ]
    }
   ],
   "source": [
    "builder = Builder(\n",
    "    map_name='iJO1366.Central metabolism',\n",
    "    model_name='iJO1366')"
   ]
  },
  {
   "cell_type": "code",
   "execution_count": 16,
   "metadata": {},
   "outputs": [
    {
     "data": {
      "application/vnd.jupyter.widget-view+json": {
       "model_id": "b0d328c9d6474135b805a80ac6403950",
       "version_major": 2,
       "version_minor": 0
      },
      "text/plain": [
       "Builder()"
      ]
     },
     "metadata": {},
     "output_type": "display_data"
    }
   ],
   "source": [
    "builder"
   ]
  },
  {
   "cell_type": "code",
   "execution_count": 17,
   "metadata": {},
   "outputs": [
    {
     "name": "stdout",
     "output_type": "stream",
     "text": [
      "3mb is missing in the model\n",
      "cbl2 is missing in the model\n",
      "fol is missing in the model\n",
      "hco3 is missing in the model\n",
      "mndn is missing in the model\n",
      "ribflv is missing in the model\n"
     ]
    }
   ],
   "source": [
    "with EcN_model:\n",
    "    M1(EcN_model)\n",
    "    EcN_model.reactions.EX_o2_e.lower_bound=0\n",
    "    solution = EcN_model.optimize()"
   ]
  },
  {
   "cell_type": "code",
   "execution_count": 18,
   "metadata": {},
   "outputs": [],
   "source": [
    "builder.reaction_data = solution.fluxes"
   ]
  },
  {
   "cell_type": "code",
   "execution_count": 19,
   "metadata": {},
   "outputs": [
    {
     "data": {
      "text/html": [
       "\n",
       "        <table>\n",
       "            <tr>\n",
       "                <td><strong>Gene identifier</strong></td><td>CIW80_14315</td>\n",
       "            </tr><tr>\n",
       "                <td><strong>Name</strong></td><td>hemN</td>\n",
       "            </tr><tr>\n",
       "                <td><strong>Memory address</strong></td>\n",
       "                <td>0x0242c525ff08</td>\n",
       "            </tr><tr>\n",
       "                <td><strong>Functional</strong></td><td>True</td>\n",
       "            </tr><tr>\n",
       "                <td><strong>In 1 reaction(s)</strong></td><td>\n",
       "                    CPPPGO2</td>\n",
       "            </tr>\n",
       "        </table>"
      ],
      "text/plain": [
       "<Gene CIW80_14315 at 0x242c525ff08>"
      ]
     },
     "execution_count": 19,
     "metadata": {},
     "output_type": "execute_result"
    }
   ],
   "source": [
    "EcN_model.genes.CIW80_14315"
   ]
  },
  {
   "cell_type": "code",
   "execution_count": 20,
   "metadata": {},
   "outputs": [
    {
     "data": {
      "text/html": [
       "\n",
       "        <table>\n",
       "            <tr>\n",
       "                <td><strong>Gene identifier</strong></td><td>CIW80_06055</td>\n",
       "            </tr><tr>\n",
       "                <td><strong>Name</strong></td><td>hemF</td>\n",
       "            </tr><tr>\n",
       "                <td><strong>Memory address</strong></td>\n",
       "                <td>0x0242c51ecd88</td>\n",
       "            </tr><tr>\n",
       "                <td><strong>Functional</strong></td><td>True</td>\n",
       "            </tr><tr>\n",
       "                <td><strong>In 1 reaction(s)</strong></td><td>\n",
       "                    CPPPGO</td>\n",
       "            </tr>\n",
       "        </table>"
      ],
      "text/plain": [
       "<Gene CIW80_06055 at 0x242c51ecd88>"
      ]
     },
     "execution_count": 20,
     "metadata": {},
     "output_type": "execute_result"
    }
   ],
   "source": [
    "EcN_model.genes.CIW80_06055"
   ]
  },
  {
   "cell_type": "code",
   "execution_count": 21,
   "metadata": {},
   "outputs": [
    {
     "data": {
      "text/html": [
       "\n",
       "        <table>\n",
       "            <tr>\n",
       "                <td><strong>Reaction identifier</strong></td><td>CPPPGO2</td>\n",
       "            </tr><tr>\n",
       "                <td><strong>Name</strong></td><td>Oxygen Independent coproporphyrinogen-III oxidase</td>\n",
       "            </tr><tr>\n",
       "                <td><strong>Memory address</strong></td>\n",
       "                <td>0x0242c818da48</td>\n",
       "            </tr><tr>\n",
       "                <td><strong>Stoichiometry</strong></td>\n",
       "                <td>\n",
       "                    <p style='text-align:right'>2.0 amet_c + cpppg3_c --> 2.0 co2_c + 2.0 dad_5_c + 2.0 met__L_c + pppg9_c</p>\n",
       "                    <p style='text-align:right'>2.0 S-Adenosyl-L-methionine + Coproporphyrinogen III --> 2.0 CO2 CO2 + 2.0 5'-Deoxyadenosine + 2.0 L-Methionine + Protoporphyrinogen IX</p>\n",
       "                </td>\n",
       "            </tr><tr>\n",
       "                <td><strong>GPR</strong></td><td>CIW80_14315</td>\n",
       "            </tr><tr>\n",
       "                <td><strong>Lower bound</strong></td><td>0.0</td>\n",
       "            </tr><tr>\n",
       "                <td><strong>Upper bound</strong></td><td>1000.0</td>\n",
       "            </tr>\n",
       "        </table>\n",
       "        "
      ],
      "text/plain": [
       "<Reaction CPPPGO2 at 0x242c818da48>"
      ]
     },
     "execution_count": 21,
     "metadata": {},
     "output_type": "execute_result"
    }
   ],
   "source": [
    "EcN_model.reactions.CPPPGO2"
   ]
  },
  {
   "cell_type": "code",
   "execution_count": 22,
   "metadata": {
    "scrolled": false
   },
   "outputs": [
    {
     "data": {
      "text/html": [
       "\n",
       "        <table>\n",
       "            <tr>\n",
       "                <td><strong>Reaction identifier</strong></td><td>CPPPGO</td>\n",
       "            </tr><tr>\n",
       "                <td><strong>Name</strong></td><td>Coproporphyrinogen oxidase (O2 required)</td>\n",
       "            </tr><tr>\n",
       "                <td><strong>Memory address</strong></td>\n",
       "                <td>0x0242c533b808</td>\n",
       "            </tr><tr>\n",
       "                <td><strong>Stoichiometry</strong></td>\n",
       "                <td>\n",
       "                    <p style='text-align:right'>cpppg3_c + 2.0 h_c + o2_c --> 2.0 co2_c + 2.0 h2o_c + pppg9_c</p>\n",
       "                    <p style='text-align:right'>Coproporphyrinogen III + 2.0 H+ + O2 O2 --> 2.0 CO2 CO2 + 2.0 H2O H2O + Protoporphyrinogen IX</p>\n",
       "                </td>\n",
       "            </tr><tr>\n",
       "                <td><strong>GPR</strong></td><td>CIW80_06055</td>\n",
       "            </tr><tr>\n",
       "                <td><strong>Lower bound</strong></td><td>0.0</td>\n",
       "            </tr><tr>\n",
       "                <td><strong>Upper bound</strong></td><td>1000.0</td>\n",
       "            </tr>\n",
       "        </table>\n",
       "        "
      ],
      "text/plain": [
       "<Reaction CPPPGO at 0x242c533b808>"
      ]
     },
     "execution_count": 22,
     "metadata": {},
     "output_type": "execute_result"
    }
   ],
   "source": [
    "EcN_model.reactions.CPPPGO"
   ]
  },
  {
   "cell_type": "markdown",
   "metadata": {},
   "source": [
    "The oxygen-dependency of hemF makes it unable to rescue grown anaerobically for an hemN knockout strain."
   ]
  },
  {
   "cell_type": "markdown",
   "metadata": {},
   "source": [
    "# II. Essential reactions EcN & subsystem"
   ]
  },
  {
   "cell_type": "code",
   "execution_count": 23,
   "metadata": {},
   "outputs": [
    {
     "name": "stdout",
     "output_type": "stream",
     "text": [
      "3mb is missing in the model\n",
      "cbl2 is missing in the model\n",
      "fol is missing in the model\n",
      "hco3 is missing in the model\n",
      "mndn is missing in the model\n",
      "ribflv is missing in the model\n"
     ]
    },
    {
     "data": {
      "text/html": [
       "<div>\n",
       "<style scoped>\n",
       "    .dataframe tbody tr th:only-of-type {\n",
       "        vertical-align: middle;\n",
       "    }\n",
       "\n",
       "    .dataframe tbody tr th {\n",
       "        vertical-align: top;\n",
       "    }\n",
       "\n",
       "    .dataframe thead th {\n",
       "        text-align: right;\n",
       "    }\n",
       "</style>\n",
       "<table border=\"1\" class=\"dataframe\">\n",
       "  <thead>\n",
       "    <tr style=\"text-align: right;\">\n",
       "      <th></th>\n",
       "      <th>ids</th>\n",
       "      <th>growth</th>\n",
       "      <th>status</th>\n",
       "      <th>binary</th>\n",
       "    </tr>\n",
       "  </thead>\n",
       "  <tbody>\n",
       "  </tbody>\n",
       "</table>\n",
       "</div>"
      ],
      "text/plain": [
       "Empty DataFrame\n",
       "Columns: [ids, growth, status, binary]\n",
       "Index: []"
      ]
     },
     "execution_count": 23,
     "metadata": {},
     "output_type": "execute_result"
    }
   ],
   "source": [
    "# Get growth rate for each single gene knockout\n",
    "with EcN_model:\n",
    "    M1(EcN_model)\n",
    "    EcN_model.reactions.EX_o2_e.lower_bound=0 # Check essential reactions for anaerobic conditions\n",
    "    wt_growth_an = EcN_model.optimize().objective_value\n",
    "    an_rxn = single_reaction_deletion(EcN_model)\n",
    "\n",
    "# Get binary representation of gene essentiality\n",
    "an_rxn['binary']= an_rxn['growth'].map(lambda x: 0 if x < (0.05 * wt_growth_an) else 1)\n",
    "\n",
    "# Check whether there are genes for which the status is not \"optimal\"\n",
    "inf_rxn_an = an_rxn[an_rxn.status != 'optimal'].index.tolist()\n",
    "\n",
    "# Assume infeasible result as growth deficient\n",
    "for gene in inf_rxn_an:\n",
    "    an_rxn.loc[gene, 'binary'] = 0\n",
    "an_rxn[an_rxn.status != 'optimal']"
   ]
  },
  {
   "cell_type": "code",
   "execution_count": 24,
   "metadata": {},
   "outputs": [
    {
     "name": "stdout",
     "output_type": "stream",
     "text": [
      "total = 3145\n",
      "Essential = 221\n",
      "Non-essential = 2924\n"
     ]
    },
    {
     "data": {
      "text/html": [
       "<div>\n",
       "<style scoped>\n",
       "    .dataframe tbody tr th:only-of-type {\n",
       "        vertical-align: middle;\n",
       "    }\n",
       "\n",
       "    .dataframe tbody tr th {\n",
       "        vertical-align: top;\n",
       "    }\n",
       "\n",
       "    .dataframe thead th {\n",
       "        text-align: right;\n",
       "    }\n",
       "</style>\n",
       "<table border=\"1\" class=\"dataframe\">\n",
       "  <thead>\n",
       "    <tr style=\"text-align: right;\">\n",
       "      <th></th>\n",
       "      <th>ids</th>\n",
       "      <th>growth</th>\n",
       "      <th>status</th>\n",
       "      <th>an_rxn_growth</th>\n",
       "      <th>Subsystem</th>\n",
       "    </tr>\n",
       "    <tr>\n",
       "      <th>reaction</th>\n",
       "      <th></th>\n",
       "      <th></th>\n",
       "      <th></th>\n",
       "      <th></th>\n",
       "      <th></th>\n",
       "    </tr>\n",
       "  </thead>\n",
       "  <tbody>\n",
       "    <tr>\n",
       "      <th>ACP1_FMN</th>\n",
       "      <td>{ACP1_FMN}</td>\n",
       "      <td>40.260011</td>\n",
       "      <td>optimal</td>\n",
       "      <td>1</td>\n",
       "      <td>Cofactor and Prosthetic Group Biosynthesis</td>\n",
       "    </tr>\n",
       "    <tr>\n",
       "      <th>FEOXAMUtpp</th>\n",
       "      <td>{FEOXAMUtpp}</td>\n",
       "      <td>40.260011</td>\n",
       "      <td>optimal</td>\n",
       "      <td>1</td>\n",
       "      <td>Inorganic Ion Transport and Metabolism</td>\n",
       "    </tr>\n",
       "    <tr>\n",
       "      <th>OHEDH</th>\n",
       "      <td>{OHEDH}</td>\n",
       "      <td>40.260011</td>\n",
       "      <td>optimal</td>\n",
       "      <td>1</td>\n",
       "      <td>Tyrosine metabolism</td>\n",
       "    </tr>\n",
       "    <tr>\n",
       "      <th>AGPAT140</th>\n",
       "      <td>{AGPAT140}</td>\n",
       "      <td>40.260011</td>\n",
       "      <td>optimal</td>\n",
       "      <td>1</td>\n",
       "      <td>Glycerophospholipid Metabolism</td>\n",
       "    </tr>\n",
       "    <tr>\n",
       "      <th>PGP181abcpp</th>\n",
       "      <td>{PGP181abcpp}</td>\n",
       "      <td>40.260011</td>\n",
       "      <td>optimal</td>\n",
       "      <td>1</td>\n",
       "      <td>Transport, Inner Membrane</td>\n",
       "    </tr>\n",
       "    <tr>\n",
       "      <th>...</th>\n",
       "      <td>...</td>\n",
       "      <td>...</td>\n",
       "      <td>...</td>\n",
       "      <td>...</td>\n",
       "      <td>...</td>\n",
       "    </tr>\n",
       "    <tr>\n",
       "      <th>DARBabcpp</th>\n",
       "      <td>{DARBabcpp}</td>\n",
       "      <td>40.260011</td>\n",
       "      <td>optimal</td>\n",
       "      <td>1</td>\n",
       "      <td>Transport, Inner Membrane</td>\n",
       "    </tr>\n",
       "    <tr>\n",
       "      <th>EX_csn_e</th>\n",
       "      <td>{EX_csn_e}</td>\n",
       "      <td>40.260011</td>\n",
       "      <td>optimal</td>\n",
       "      <td>1</td>\n",
       "      <td>Extracellular exchange</td>\n",
       "    </tr>\n",
       "    <tr>\n",
       "      <th>EX_mepn_e</th>\n",
       "      <td>{EX_mepn_e}</td>\n",
       "      <td>40.260011</td>\n",
       "      <td>optimal</td>\n",
       "      <td>1</td>\n",
       "      <td>Extracellular exchange</td>\n",
       "    </tr>\n",
       "    <tr>\n",
       "      <th>MALTTTRtexi</th>\n",
       "      <td>{MALTTTRtexi}</td>\n",
       "      <td>40.260011</td>\n",
       "      <td>optimal</td>\n",
       "      <td>1</td>\n",
       "      <td>Transport, Outer Membrane</td>\n",
       "    </tr>\n",
       "    <tr>\n",
       "      <th>MN2tpp</th>\n",
       "      <td>{MN2tpp}</td>\n",
       "      <td>40.260011</td>\n",
       "      <td>optimal</td>\n",
       "      <td>1</td>\n",
       "      <td>Inorganic Ion Transport and Metabolism</td>\n",
       "    </tr>\n",
       "  </tbody>\n",
       "</table>\n",
       "<p>3145 rows × 5 columns</p>\n",
       "</div>"
      ],
      "text/plain": [
       "                       ids     growth   status  an_rxn_growth  \\\n",
       "reaction                                                        \n",
       "ACP1_FMN        {ACP1_FMN}  40.260011  optimal              1   \n",
       "FEOXAMUtpp    {FEOXAMUtpp}  40.260011  optimal              1   \n",
       "OHEDH              {OHEDH}  40.260011  optimal              1   \n",
       "AGPAT140        {AGPAT140}  40.260011  optimal              1   \n",
       "PGP181abcpp  {PGP181abcpp}  40.260011  optimal              1   \n",
       "...                    ...        ...      ...            ...   \n",
       "DARBabcpp      {DARBabcpp}  40.260011  optimal              1   \n",
       "EX_csn_e        {EX_csn_e}  40.260011  optimal              1   \n",
       "EX_mepn_e      {EX_mepn_e}  40.260011  optimal              1   \n",
       "MALTTTRtexi  {MALTTTRtexi}  40.260011  optimal              1   \n",
       "MN2tpp            {MN2tpp}  40.260011  optimal              1   \n",
       "\n",
       "                                              Subsystem  \n",
       "reaction                                                 \n",
       "ACP1_FMN     Cofactor and Prosthetic Group Biosynthesis  \n",
       "FEOXAMUtpp       Inorganic Ion Transport and Metabolism  \n",
       "OHEDH                               Tyrosine metabolism  \n",
       "AGPAT140                 Glycerophospholipid Metabolism  \n",
       "PGP181abcpp                   Transport, Inner Membrane  \n",
       "...                                                 ...  \n",
       "DARBabcpp                     Transport, Inner Membrane  \n",
       "EX_csn_e                         Extracellular exchange  \n",
       "EX_mepn_e                        Extracellular exchange  \n",
       "MALTTTRtexi                   Transport, Outer Membrane  \n",
       "MN2tpp           Inorganic Ion Transport and Metabolism  \n",
       "\n",
       "[3145 rows x 5 columns]"
      ]
     },
     "execution_count": 24,
     "metadata": {},
     "output_type": "execute_result"
    }
   ],
   "source": [
    "# Unpack the index values from the frozenset to enable comparison to the ortho_matrices\n",
    "for value in an_rxn.index:\n",
    "    unpacked, = an_rxn.loc[value, 'ids']\n",
    "    an_rxn.loc[value, 'reaction'] = unpacked\n",
    "    \n",
    "# Set the unpacked gene name as index\n",
    "an_rxn = an_rxn.set_index('reaction')\n",
    "an_rxn.rename(columns = {'binary':'an_rxn_growth'}, inplace=True)\n",
    "\n",
    "# Get the subsystem for all reactions\n",
    "for rxn in an_rxn.index.tolist():\n",
    "    an_rxn.loc[rxn, 'Subsystem'] = EcN_model.reactions.get_by_id(rxn).subsystem\n",
    "    \n",
    "print('total =', len(an_rxn))\n",
    "print('Essential =', len(an_rxn) - an_rxn.an_rxn_growth.sum())\n",
    "print('Non-essential =', an_rxn.an_rxn_growth.sum())\n",
    "\n",
    "an_rxn"
   ]
  },
  {
   "cell_type": "code",
   "execution_count": 25,
   "metadata": {},
   "outputs": [
    {
     "data": {
      "text/plain": [
       "Cofactor and Prosthetic Group Biosynthesis            53\n",
       "Purine and Pyrimidine Biosynthesis                    17\n",
       "Cell Envelope Biosynthesis                            17\n",
       "Tyrosine, Tryptophan, and Phenylalanine Metabolism    16\n",
       "Valine, Leucine, and Isoleucine Metabolism            14\n",
       "Extracellular exchange                                13\n",
       "Arginine and Proline Metabolism                       12\n",
       "Threonine and Lysine Metabolism                       12\n",
       "Lipopolysaccharide Biosynthesis / Recycling           12\n",
       "Methionine Metabolism                                  9\n",
       "Transport, Outer Membrane                              9\n",
       "Glycerophospholipid Metabolism                         8\n",
       "Nucleotide Salvage Pathway                             5\n",
       "Citric Acid Cycle                                      4\n",
       "Inorganic Ion Transport and Metabolism                 3\n",
       "Transport, Inner Membrane                              3\n",
       "Alanine and Aspartate Metabolism                       2\n",
       "Membrane Lipid Metabolism                              2\n",
       "Murein Biosynthesis                                    2\n",
       "Alternate Carbon Metabolism                            1\n",
       "Biomass and maintenance functions                      1\n",
       "Folate Metabolism                                      1\n",
       "Intracellular demand                                   1\n",
       "Glutamate Metabolism                                   1\n",
       "Anaplerotic Reactions                                  1\n",
       "Unassigned                                             1\n",
       "tRNA Charging                                          1\n",
       "Name: Subsystem, dtype: int64"
      ]
     },
     "execution_count": 25,
     "metadata": {},
     "output_type": "execute_result"
    }
   ],
   "source": [
    "an_rxn[an_rxn['an_rxn_growth'] == 0 ]['Subsystem'].value_counts()"
   ]
  },
  {
   "cell_type": "markdown",
   "metadata": {},
   "source": [
    "# VI. Double gene essentiality"
   ]
  },
  {
   "cell_type": "code",
   "execution_count": null,
   "metadata": {},
   "outputs": [
    {
     "name": "stdout",
     "output_type": "stream",
     "text": [
      "3mb is missing in the model\n",
      "cbl2 is missing in the model\n",
      "fol is missing in the model\n",
      "hco3 is missing in the model\n",
      "mndn is missing in the model\n",
      "ribflv is missing in the model\n"
     ]
    }
   ],
   "source": [
    "# Create a list of all non-essential genes\n",
    "ae_non = del_results[del_results['binary_ae'] == 1].index.tolist()\n",
    "\n",
    "# Run the double gene deletion with only the non-essential genes\n",
    "with EcN_model:\n",
    "    M1(EcN_model)\n",
    "    double_ae = double_gene_deletion(EcN_model, ae_non, return_frame=True).round(4)\n",
    "    \n",
    "double_ae.head()"
   ]
  },
  {
   "cell_type": "code",
   "execution_count": null,
   "metadata": {},
   "outputs": [],
   "source": [
    "# Get binary representation of gene essentiality\n",
    "double_ae['binary']= double_ae['growth'].map(lambda x: 0 if x < (0.05 * wt_growth_ae) else 1)\n",
    "\n",
    "# Check whether there are genes for which the status is not \"optimal\"\n",
    "inf_double = double_ae[double_ae.status != 'optimal'].index.tolist()\n",
    "\n",
    "# Assume infeasible result as growth deficient\n",
    "for gene in inf_double:\n",
    "    double_ae.loc[gene, 'binary'] = 0\n",
    "    \n",
    "double_ae[double_ae.status != 'optimal']"
   ]
  },
  {
   "cell_type": "code",
   "execution_count": null,
   "metadata": {},
   "outputs": [],
   "source": [
    "double_ess = double_ae[double_ae.status == 'optimal']\n",
    "double_ess = double_ess[double_ess['binary'] == 0]\n",
    "print(len(double_ess))\n",
    "double_ess.head()"
   ]
  },
  {
   "cell_type": "code",
   "execution_count": null,
   "metadata": {},
   "outputs": [],
   "source": [
    "# Save the resulting dataframe as .csv\n",
    "double_ess.to_csv('../tables/gene_ess_double_ess.csv')"
   ]
  },
  {
   "cell_type": "markdown",
   "metadata": {},
   "source": [
    "### Anaerobic"
   ]
  },
  {
   "cell_type": "code",
   "execution_count": null,
   "metadata": {},
   "outputs": [],
   "source": [
    "# Create a list of all non-essential genes\n",
    "an_non = del_results[del_results['binary_an'] == 1].index.tolist()\n",
    "\n",
    "# Run the double gene deletion with only the non-essential genes\n",
    "with EcN_model:\n",
    "    M1(EcN_model)\n",
    "    \n",
    "    # Make anaerobic\n",
    "    medium = EcN_model.medium\n",
    "    medium['EX_o2_e']= 0.0\n",
    "    EcN_model.medium = medium\n",
    "    \n",
    "    double_an = double_gene_deletion(EcN_model, an_non, return_frame=True).round(4)\n",
    "    \n",
    "double_an.head()"
   ]
  },
  {
   "cell_type": "code",
   "execution_count": null,
   "metadata": {},
   "outputs": [],
   "source": [
    "# Get binary representation of gene essentiality\n",
    "double_an['binary']= double_an['growth'].map(lambda x: 0 if x < (0.05 * wt_growth_an) else 1)\n",
    "\n",
    "# Check whether there are genes for which the status is not \"optimal\"\n",
    "inf_double_an = double_an[double_an.status != 'optimal'].index.tolist()\n",
    "\n",
    "# Assume infeasible result as growth deficient\n",
    "for gene in inf_double_an:\n",
    "    double_an.loc[gene, 'binary'] = 0\n",
    "    \n",
    "double_an[double_an.status != 'optimal']"
   ]
  },
  {
   "cell_type": "code",
   "execution_count": null,
   "metadata": {},
   "outputs": [],
   "source": [
    "double_ess_an = double_an[double_an.status == 'optimal']\n",
    "double_ess_an = double_ess_an[double_ess_an['binary'] == 0]\n",
    "print(len(double_ess_an))\n",
    "double_ess_an.head()"
   ]
  },
  {
   "cell_type": "code",
   "execution_count": null,
   "metadata": {},
   "outputs": [],
   "source": [
    "# Save the resulting dataframe as .csv\n",
    "double_ess_an.to_csv('../tables/gene_ess_double_ess_an.csv')"
   ]
  },
  {
   "cell_type": "code",
   "execution_count": 22,
   "metadata": {},
   "outputs": [],
   "source": [
    "# Get the names of the genes in the right format to compare\n",
    "EcN_double = double_ess.copy()\n",
    "\n",
    "for EcN_loc in EcN_double.index.tolist():\n",
    "    EcN_id = EcN_double.loc[EcN_loc, 'ids']\n",
    "    EcN_genes = []\n",
    "    for gene in EcN_id:\n",
    "        EcN_genes.append(str(gene))\n",
    "    EcN_double.loc[EcN_loc, 'EcN'] = str(EcN_genes)\n",
    "\n",
    "EcN_double_an = double_ess_an.copy()\n",
    "for EcN_loc in EcN_double_an.index.tolist():\n",
    "    EcN_id = EcN_double_an.loc[EcN_loc, 'ids']\n",
    "    EcN_genes = []\n",
    "    for gene in EcN_id:\n",
    "        EcN_genes.append(str(gene))\n",
    "    EcN_double_an.loc[EcN_loc, 'EcN'] = str(EcN_genes)"
   ]
  },
  {
   "cell_type": "code",
   "execution_count": 17,
   "metadata": {},
   "outputs": [
    {
     "name": "stdout",
     "output_type": "stream",
     "text": [
      "1 0 153\n"
     ]
    }
   ],
   "source": [
    "# Create two sets\n",
    "set_ae = set(EcN_double['EcN'])\n",
    "set_an = set(EcN_double_an['EcN'])\n",
    "\n",
    "diff_ae = set_ae - set_an\n",
    "diff_an = set_an - set_ae\n",
    "similar = set.intersection(set_ae, set_an)\n",
    "\n",
    "print(len(diff_ae), len(diff_an), len(similar))"
   ]
  },
  {
   "cell_type": "code",
   "execution_count": 60,
   "metadata": {},
   "outputs": [],
   "source": [
    "def gene_names(gene_set):\n",
    "    df = pd.DataFrame(columns=['EcN_id', 'EcN_id_1', 'EcN_id_2', 'EcN_name_1', 'EcN_name_2', 'EcN_names'])\n",
    "\n",
    "    df['EcN_id'] = list(gene_set)\n",
    "    for loc in df.index:\n",
    "        \n",
    "        #Split the name in two gene_ids\n",
    "        name = df.loc[loc, 'EcN_id']\n",
    "        name = name.strip(\"['\").strip(\"]'\").split(\"', '\")\n",
    "        df.loc[loc, 'EcN_id_1'] = name[0]\n",
    "        df.loc[loc, 'EcN_id_2'] = name[1]\n",
    "        \n",
    "        # Identify the gene names\n",
    "        df.loc[loc, 'EcN_name_1'] = EcN_model.genes.get_by_id(name[0]).name\n",
    "        df.loc[loc, 'EcN_name_2'] = EcN_model.genes.get_by_id(name[1]).name\n",
    "        name = sorted(name)\n",
    "        df.loc[loc, 'EcN_names'] = str(EcN_model.genes.get_by_id(name[0]).name + ', ' + EcN_model.genes.get_by_id(name[1]).name)\n",
    "        \n",
    "    return df"
   ]
  },
  {
   "cell_type": "code",
   "execution_count": 78,
   "metadata": {},
   "outputs": [],
   "source": [
    "# Get the names of the aerobic double essential genes\n",
    "gene_overview_ae = gene_names(diff_ae)\n",
    "gene_overview_ae"
   ]
  },
  {
   "cell_type": "code",
   "execution_count": 9,
   "metadata": {
    "scrolled": true
   },
   "outputs": [
    {
     "data": {
      "text/html": [
       "<div>\n",
       "<style scoped>\n",
       "    .dataframe tbody tr th:only-of-type {\n",
       "        vertical-align: middle;\n",
       "    }\n",
       "\n",
       "    .dataframe tbody tr th {\n",
       "        vertical-align: top;\n",
       "    }\n",
       "\n",
       "    .dataframe thead th {\n",
       "        text-align: right;\n",
       "    }\n",
       "</style>\n",
       "<table border=\"1\" class=\"dataframe\">\n",
       "  <thead>\n",
       "    <tr style=\"text-align: right;\">\n",
       "      <th></th>\n",
       "      <th>EcN_id</th>\n",
       "      <th>EcN_id_1</th>\n",
       "      <th>EcN_id_2</th>\n",
       "      <th>EcN_name_1</th>\n",
       "      <th>EcN_name_2</th>\n",
       "      <th>EcN_names</th>\n",
       "    </tr>\n",
       "  </thead>\n",
       "  <tbody>\n",
       "  </tbody>\n",
       "</table>\n",
       "</div>"
      ],
      "text/plain": [
       "Empty DataFrame\n",
       "Columns: [EcN_id, EcN_id_1, EcN_id_2, EcN_name_1, EcN_name_2, EcN_names]\n",
       "Index: []"
      ]
     },
     "execution_count": 9,
     "metadata": {},
     "output_type": "execute_result"
    }
   ],
   "source": [
    "# Get the names of the anaerobic double essential genes\n",
    "gene_overview_an = gene_names(diff_an)\n",
    "gene_overview_an"
   ]
  },
  {
   "cell_type": "markdown",
   "metadata": {},
   "source": [
    "\"hemF/hemN\" is only found in aerobic conditions"
   ]
  },
  {
   "cell_type": "markdown",
   "metadata": {},
   "source": [
    "##### Load the tables not to rerun the double_gene_deletion"
   ]
  },
  {
   "cell_type": "code",
   "execution_count": 56,
   "metadata": {},
   "outputs": [],
   "source": [
    "# Load if needed\n",
    "double_ess = pd.read_csv('../tables/gene_ess_double_ess.csv')\n",
    "double_ess.set_index('Unnamed: 0', inplace=True)\n",
    "double_ess_an = pd.read_csv('../tables/gene_ess_double_ess_an.csv')\n",
    "double_ess_an.set_index('Unnamed: 0', inplace=True)"
   ]
  },
  {
   "cell_type": "code",
   "execution_count": 57,
   "metadata": {},
   "outputs": [
    {
     "name": "stdout",
     "output_type": "stream",
     "text": [
      "Total number of synthetic lethals aerobically: 154 and anaerobically: 153\n",
      "The difference is: 1 0 153\n"
     ]
    },
    {
     "data": {
      "text/plain": [
       "{'CIW80_14315, CIW80_06055'}"
      ]
     },
     "execution_count": 57,
     "metadata": {},
     "output_type": "execute_result"
    }
   ],
   "source": [
    "# get usable gene names\n",
    "for EcN_loc in double_ess.index.tolist():\n",
    "    gene_list = double_ess.loc[EcN_loc, 'ids'].split(\"', '\")\n",
    "    gene_1 = gene_list[0][2:]\n",
    "    gene_2 = gene_list[1][:-2]\n",
    "    double_ess.loc[EcN_loc, 'genes'] = gene_1 + ', ' + gene_2\n",
    "    \n",
    "for EcN_loc in double_ess_an.index.tolist():\n",
    "    gene_list = double_ess_an.loc[EcN_loc, 'ids'].split(\"', '\")\n",
    "    gene_1 = gene_list[0][2:]\n",
    "    gene_2 = gene_list[1][:-2]\n",
    "    double_ess_an.loc[EcN_loc, 'genes_an'] = gene_1 + ', ' + gene_2\n",
    "    \n",
    "# Create two sets\n",
    "set_ae = set(double_ess['genes'])\n",
    "set_an = set(double_ess_an['genes_an'])\n",
    "\n",
    "diff_ae = set_ae - set_an\n",
    "diff_an = set_an - set_ae\n",
    "similar = set.intersection(set_ae, set_an)\n",
    "\n",
    "print('Total number of synthetic lethals aerobically:', len(set_ae), 'and anaerobically:', len(set_an))\n",
    "print('The difference is:', len(diff_ae), len(diff_an), len(similar))\n",
    "diff_ae"
   ]
  },
  {
   "cell_type": "markdown",
   "metadata": {},
   "source": [
    "### Check differences"
   ]
  },
  {
   "cell_type": "code",
   "execution_count": null,
   "metadata": {},
   "outputs": [],
   "source": [
    "# Get the reactions\n",
    "EcN_model.genes.CIW80_06055 #hemF\n",
    "EcN_model.genes.CIW80_14315 #hemN"
   ]
  },
  {
   "cell_type": "code",
   "execution_count": null,
   "metadata": {},
   "outputs": [],
   "source": [
    "# Check the double lethal only for aerobic\n",
    "with EcN_model:\n",
    "    M1(EcN_model)\n",
    "    EcN_model.reactions.EX_o2_e.lower_bound=0\n",
    "    EcN_model.remove_reactions(['CPPPGO2', 'CPPPGO'])\n",
    "    print(EcN_model.slim_optimize())"
   ]
  },
  {
   "cell_type": "markdown",
   "metadata": {},
   "source": [
    "This deletion is lethal in both cases, but was not included for anaerobic, as the deletion of only CIW80_14315 (hemN/CPPPGO2) is already lethal in anaerobic conditions"
   ]
  },
  {
   "cell_type": "markdown",
   "metadata": {},
   "source": [
    "# VII. Gene comparison EcN & MG1655 model"
   ]
  },
  {
   "cell_type": "code",
   "execution_count": 8,
   "metadata": {},
   "outputs": [
    {
     "name": "stdout",
     "output_type": "stream",
     "text": [
      "3mb is missing in the model\n",
      "4abz is missing in the model\n",
      "cbl2 is missing in the model\n",
      "fol is missing in the model\n",
      "hco3 is missing in the model\n",
      "mndn is missing in the model\n",
      "ribflv is missing in the model\n"
     ]
    }
   ],
   "source": [
    "# Load iML1515 model\n",
    "k12_model = cobra.io.load_json_model('../data/models/iML1515.json')\n",
    "\n",
    "# Get growth rate for each single gene knockout\n",
    "with k12_model:\n",
    "    M1(k12_model)\n",
    "    k12_model.reactions.EX_o2_e.lower_bound=0\n",
    "    del_result_k12 = single_gene_deletion(k12_model)"
   ]
  },
  {
   "cell_type": "code",
   "execution_count": 9,
   "metadata": {},
   "outputs": [],
   "source": [
    "# Get a binary representation of the gene essentiality\n",
    "k12_growth = k12_model.optimize().objective_value\n",
    "\n",
    "del_result_k12['binary']= del_result_k12['growth'].map(lambda x: 0 if x < (0.05 * k12_growth) else 1)"
   ]
  },
  {
   "cell_type": "code",
   "execution_count": 10,
   "metadata": {},
   "outputs": [
    {
     "data": {
      "text/html": [
       "<div>\n",
       "<style scoped>\n",
       "    .dataframe tbody tr th:only-of-type {\n",
       "        vertical-align: middle;\n",
       "    }\n",
       "\n",
       "    .dataframe tbody tr th {\n",
       "        vertical-align: top;\n",
       "    }\n",
       "\n",
       "    .dataframe thead th {\n",
       "        text-align: right;\n",
       "    }\n",
       "</style>\n",
       "<table border=\"1\" class=\"dataframe\">\n",
       "  <thead>\n",
       "    <tr style=\"text-align: right;\">\n",
       "      <th></th>\n",
       "      <th>ids</th>\n",
       "      <th>growth</th>\n",
       "      <th>status</th>\n",
       "      <th>binary</th>\n",
       "    </tr>\n",
       "  </thead>\n",
       "  <tbody>\n",
       "  </tbody>\n",
       "</table>\n",
       "</div>"
      ],
      "text/plain": [
       "Empty DataFrame\n",
       "Columns: [ids, growth, status, binary]\n",
       "Index: []"
      ]
     },
     "execution_count": 10,
     "metadata": {},
     "output_type": "execute_result"
    }
   ],
   "source": [
    "# Check whether there are genes for which the status is not \"optimal\"\n",
    "del_result_k12[del_result_k12.status != 'optimal']"
   ]
  },
  {
   "cell_type": "code",
   "execution_count": 11,
   "metadata": {},
   "outputs": [
    {
     "data": {
      "text/html": [
       "<div>\n",
       "<style scoped>\n",
       "    .dataframe tbody tr th:only-of-type {\n",
       "        vertical-align: middle;\n",
       "    }\n",
       "\n",
       "    .dataframe tbody tr th {\n",
       "        vertical-align: top;\n",
       "    }\n",
       "\n",
       "    .dataframe thead th {\n",
       "        text-align: right;\n",
       "    }\n",
       "</style>\n",
       "<table border=\"1\" class=\"dataframe\">\n",
       "  <thead>\n",
       "    <tr style=\"text-align: right;\">\n",
       "      <th></th>\n",
       "      <th>K12_growth</th>\n",
       "    </tr>\n",
       "    <tr>\n",
       "      <th>gene</th>\n",
       "      <th></th>\n",
       "    </tr>\n",
       "  </thead>\n",
       "  <tbody>\n",
       "    <tr>\n",
       "      <th>b0432</th>\n",
       "      <td>1</td>\n",
       "    </tr>\n",
       "    <tr>\n",
       "      <th>b1584</th>\n",
       "      <td>1</td>\n",
       "    </tr>\n",
       "    <tr>\n",
       "      <th>b0420</th>\n",
       "      <td>0</td>\n",
       "    </tr>\n",
       "    <tr>\n",
       "      <th>b0311</th>\n",
       "      <td>1</td>\n",
       "    </tr>\n",
       "    <tr>\n",
       "      <th>b4213</th>\n",
       "      <td>1</td>\n",
       "    </tr>\n",
       "  </tbody>\n",
       "</table>\n",
       "</div>"
      ],
      "text/plain": [
       "       K12_growth\n",
       "gene             \n",
       "b0432           1\n",
       "b1584           1\n",
       "b0420           0\n",
       "b0311           1\n",
       "b4213           1"
      ]
     },
     "execution_count": 11,
     "metadata": {},
     "output_type": "execute_result"
    }
   ],
   "source": [
    "# Unpack the index values from the frozenset to enable comparison to the ortho_matrices\n",
    "for value in del_result_k12.index:\n",
    "    unpacked, = del_result_k12.loc[value, 'ids']\n",
    "    del_result_k12.loc[value, 'gene'] = unpacked\n",
    "                                   \n",
    "\n",
    "# Set the unpacked gene name as index\n",
    "del_result_k12 = del_result_k12.set_index('gene')\n",
    "del_result_k12.rename(columns = {'binary':'K12_growth'}, inplace=True)\n",
    "del_result_k12.drop(columns=['ids', 'growth', 'status'], inplace=True)\n",
    "del_result_k12.head()"
   ]
  },
  {
   "cell_type": "code",
   "execution_count": 28,
   "metadata": {},
   "outputs": [
    {
     "data": {
      "text/html": [
       "<div>\n",
       "<style scoped>\n",
       "    .dataframe tbody tr th:only-of-type {\n",
       "        vertical-align: middle;\n",
       "    }\n",
       "\n",
       "    .dataframe tbody tr th {\n",
       "        vertical-align: top;\n",
       "    }\n",
       "\n",
       "    .dataframe thead th {\n",
       "        text-align: right;\n",
       "    }\n",
       "</style>\n",
       "<table border=\"1\" class=\"dataframe\">\n",
       "  <thead>\n",
       "    <tr style=\"text-align: right;\">\n",
       "      <th></th>\n",
       "      <th>U00096</th>\n",
       "      <th>binary_ae</th>\n",
       "      <th>binary_an</th>\n",
       "      <th>diff</th>\n",
       "    </tr>\n",
       "  </thead>\n",
       "  <tbody>\n",
       "    <tr>\n",
       "      <th>CIW80_00015</th>\n",
       "      <td>b1415</td>\n",
       "      <td>1</td>\n",
       "      <td>1</td>\n",
       "      <td>0</td>\n",
       "    </tr>\n",
       "    <tr>\n",
       "      <th>CIW80_00090</th>\n",
       "      <td>b1430</td>\n",
       "      <td>1</td>\n",
       "      <td>1</td>\n",
       "      <td>0</td>\n",
       "    </tr>\n",
       "    <tr>\n",
       "      <th>CIW80_00125</th>\n",
       "      <td>b1439</td>\n",
       "      <td>1</td>\n",
       "      <td>1</td>\n",
       "      <td>0</td>\n",
       "    </tr>\n",
       "    <tr>\n",
       "      <th>CIW80_00130</th>\n",
       "      <td>b1440</td>\n",
       "      <td>1</td>\n",
       "      <td>1</td>\n",
       "      <td>0</td>\n",
       "    </tr>\n",
       "    <tr>\n",
       "      <th>CIW80_00135</th>\n",
       "      <td>b1441</td>\n",
       "      <td>1</td>\n",
       "      <td>1</td>\n",
       "      <td>0</td>\n",
       "    </tr>\n",
       "  </tbody>\n",
       "</table>\n",
       "</div>"
      ],
      "text/plain": [
       "            U00096  binary_ae  binary_an  diff\n",
       "CIW80_00015  b1415          1          1     0\n",
       "CIW80_00090  b1430          1          1     0\n",
       "CIW80_00125  b1439          1          1     0\n",
       "CIW80_00130  b1440          1          1     0\n",
       "CIW80_00135  b1441          1          1     0"
      ]
     },
     "execution_count": 28,
     "metadata": {},
     "output_type": "execute_result"
    }
   ],
   "source": [
    "# Get the ortho matrix of EcN vs. the reference strains\n",
    "orthoIDs_matrix = pd.read_csv('../tables/orthoIDs_matrix.csv')\n",
    "orthoIDs_matrix.set_index('Unnamed: 0', inplace=True)\n",
    "geneIDs_sub = orthoIDs_matrix.loc[:, 'U00096'] # Get the gene ID orthologs for MG1655\n",
    "\n",
    "# Merge the ortho_matrix with the EcN gene essentiality matrix\n",
    "geneIDs_ess = pd.merge(geneIDs_sub, del_results, left_index = True, right_index = True)\n",
    "geneIDs_ess.head()"
   ]
  },
  {
   "cell_type": "code",
   "execution_count": 29,
   "metadata": {},
   "outputs": [
    {
     "data": {
      "text/html": [
       "<div>\n",
       "<style scoped>\n",
       "    .dataframe tbody tr th:only-of-type {\n",
       "        vertical-align: middle;\n",
       "    }\n",
       "\n",
       "    .dataframe tbody tr th {\n",
       "        vertical-align: top;\n",
       "    }\n",
       "\n",
       "    .dataframe thead th {\n",
       "        text-align: right;\n",
       "    }\n",
       "</style>\n",
       "<table border=\"1\" class=\"dataframe\">\n",
       "  <thead>\n",
       "    <tr style=\"text-align: right;\">\n",
       "      <th></th>\n",
       "      <th>U00096</th>\n",
       "      <th>binary_ae</th>\n",
       "      <th>binary_an</th>\n",
       "      <th>diff</th>\n",
       "      <th>K12_growth</th>\n",
       "      <th>difference</th>\n",
       "    </tr>\n",
       "  </thead>\n",
       "  <tbody>\n",
       "    <tr>\n",
       "      <th>CIW80_09665</th>\n",
       "      <td>b3040</td>\n",
       "      <td>1</td>\n",
       "      <td>1</td>\n",
       "      <td>0</td>\n",
       "      <td>0</td>\n",
       "      <td>1</td>\n",
       "    </tr>\n",
       "    <tr>\n",
       "      <th>CIW80_18070</th>\n",
       "      <td>b0073</td>\n",
       "      <td>0</td>\n",
       "      <td>0</td>\n",
       "      <td>0</td>\n",
       "      <td>1</td>\n",
       "      <td>-1</td>\n",
       "    </tr>\n",
       "    <tr>\n",
       "      <th>CIW80_18385</th>\n",
       "      <td>b0126</td>\n",
       "      <td>0</td>\n",
       "      <td>0</td>\n",
       "      <td>0</td>\n",
       "      <td>1</td>\n",
       "      <td>-1</td>\n",
       "    </tr>\n",
       "  </tbody>\n",
       "</table>\n",
       "</div>"
      ],
      "text/plain": [
       "            U00096  binary_ae  binary_an  diff  K12_growth  difference\n",
       "CIW80_09665  b3040          1          1     0           0           1\n",
       "CIW80_18070  b0073          0          0     0           1          -1\n",
       "CIW80_18385  b0126          0          0     0           1          -1"
      ]
     },
     "execution_count": 29,
     "metadata": {},
     "output_type": "execute_result"
    }
   ],
   "source": [
    "# Combine with previously generated EcN essentiality data merged with K12 gene IDs\n",
    "ess_comp = pd.merge(geneIDs_ess, del_result_k12, left_on ='U00096', right_index =True)\n",
    "\n",
    "# Find the differences\n",
    "ess_comp['difference'] = ess_comp['binary_an'] - ess_comp['K12_growth']\n",
    "ess_comp[ess_comp['difference'] != 0] "
   ]
  },
  {
   "cell_type": "code",
   "execution_count": 30,
   "metadata": {},
   "outputs": [
    {
     "data": {
      "text/plain": [
       "1386"
      ]
     },
     "execution_count": 30,
     "metadata": {},
     "output_type": "execute_result"
    }
   ],
   "source": [
    "# Save the resulting dataframe as .csv\n",
    "ess_comp_k12 = ess_comp#[ess_comp['K12_growth'] == 0]\n",
    "ess_comp_k12.to_csv('../tables/gene_ess_comp_k12.csv')\n",
    "\n",
    "# Get the number of shared genes\n",
    "len(ess_comp[ess_comp['U00096'].str.contains('b')])"
   ]
  },
  {
   "cell_type": "code",
   "execution_count": 17,
   "metadata": {},
   "outputs": [
    {
     "name": "stdout",
     "output_type": "stream",
     "text": [
      "zupT\n",
      "leuB\n",
      "can\n"
     ]
    }
   ],
   "source": [
    "for gene in ess_comp[ess_comp['difference'] != 0]['U00096']:\n",
    "    name = k12_model.genes.get_by_id(gene).name\n",
    "    print(name)"
   ]
  },
  {
   "cell_type": "code",
   "execution_count": 18,
   "metadata": {},
   "outputs": [
    {
     "name": "stdout",
     "output_type": "stream",
     "text": [
      "zupT\n",
      "leuB\n",
      "can\n"
     ]
    }
   ],
   "source": [
    "for gene in ess_comp[ess_comp['difference'] != 0].index:\n",
    "    name = EcN_model.genes.get_by_id(gene).name\n",
    "    print(name)"
   ]
  },
  {
   "cell_type": "markdown",
   "metadata": {},
   "source": [
    "## K12 ess\n",
    "### ZupT\n",
    "heavy metal divalent cation transporter ZupT\n",
    "https://ecocyc.org/gene?orgid=ECOLI&id=EG11167\n",
    "\n",
    "### proB (corrected)\n",
    "glutamate 5-kinase\n",
    "https://ecocyc.org/gene?orgid=ECOLI&id=EG10768\n",
    "\n",
    "### proA (corrected)\n",
    "glutamate-5-semialdehyde dehydrogenase\n",
    "https://ecocyc.org/gene?orgid=ECOLI&id=EG10767\n",
    "\n",
    "## EcN ess\n",
    "### argI/argF (corrected)\n",
    "ornithine carbamoyltransferase\n",
    "https://ecocyc.org/gene?orgid=ECOLI&id=EG10069\n",
    "\n",
    "### leuB\n",
    "3-isopropylmalate dehydrogenase\n",
    "https://ecocyc.org/gene?orgid=ECOLI&id=EG11577\n",
    "\n",
    "### can\n",
    "carbonic anhydrase 2\n",
    "https://ecocyc.org/gene?orgid=ECOLI&id=EG12319"
   ]
  },
  {
   "cell_type": "code",
   "execution_count": 19,
   "metadata": {},
   "outputs": [],
   "source": [
    "## zupT\n",
    "# EcN_model.genes.CIW80_09665\n",
    "# EcN_model.reactions.COBALT2tpp\n",
    "# EcN_model.metabolites.cobalt2_c\n",
    "# EcN_model.reactions.COBALT2t3pp\n",
    "\n",
    "# EcN_model.reactions.CU2tpp\n",
    "# EcN_model.metabolites.cu2_p \n",
    "# EcN_model.reactions.CU2abcpp\n",
    "\n",
    "## proA/B\n",
    "# EcN_model.genes.CIW80_19485\n",
    "# EcN_model.genes.CIW80_19490\n",
    "# EcN_model.reactions.G5SD\n",
    "# EcN_model.metabolites.glu5sa_c \n",
    "# EcN_model.reactions.NACODA\n",
    "# EcN_model.reactions.ACODA\n",
    "# EcN_model.metabolites.orn_c\n",
    "\n",
    "## argI/argF\n",
    "# EcN_model.genes.CIW80_16625\n",
    "# EcN_model.reactions.OCBT\n",
    "\n",
    "## leuB\n",
    "# EcN_model.genes.CIW80_18070\n",
    "# EcN_model.reactions.IPMD\n",
    "\n",
    "# can\n",
    "# EcN_model.genes.CIW80_18385\n",
    "# EcN_model.reactions.HCO3E"
   ]
  },
  {
   "cell_type": "code",
   "execution_count": 20,
   "metadata": {},
   "outputs": [
    {
     "name": "stdout",
     "output_type": "stream",
     "text": [
      "2.5072183489465458e-17\n"
     ]
    }
   ],
   "source": [
    "# Check effect of specific reactions encoded by these genes\n",
    "with k12_model:\n",
    "    k12_model.remove_reactions(['OCBT'])\n",
    "    growth = k12_model.slim_optimize()\n",
    "    print(growth)"
   ]
  },
  {
   "cell_type": "code",
   "execution_count": null,
   "metadata": {},
   "outputs": [],
   "source": []
  }
 ],
 "metadata": {
  "kernelspec": {
   "display_name": "Python 3",
   "language": "python",
   "name": "python3"
  },
  "language_info": {
   "codemirror_mode": {
    "name": "ipython",
    "version": 3
   },
   "file_extension": ".py",
   "mimetype": "text/x-python",
   "name": "python",
   "nbconvert_exporter": "python",
   "pygments_lexer": "ipython3",
   "version": "3.7.9"
  }
 },
 "nbformat": 4,
 "nbformat_minor": 4
}
