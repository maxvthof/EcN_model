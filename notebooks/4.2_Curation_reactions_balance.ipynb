{
 "cells": [
  {
   "cell_type": "markdown",
   "metadata": {},
   "source": [
    "# 4.2 Balancing of reactions\n",
    "\n",
    "According to Memote, several reactions are unbalanced, both in mass and in charge. Here each reaction is checked and when the discrepancy could be explained, the imbalance was fixed. Within this notebook the model is checked for\n",
    "- Proton balance\n",
    "- Missing formulas\n",
    "- Other mass/charge imbalances\n",
    "- Remaining imbalances"
   ]
  },
  {
   "cell_type": "code",
   "execution_count": 1,
   "metadata": {},
   "outputs": [],
   "source": [
    "#import package needed\n",
    "import cobra\n",
    "import pandas as pd\n",
    "import numpy as np\n",
    "from cobra.io import load_json_model\n",
    "from cobra import Reaction\n",
    "from glob import glob"
   ]
  },
  {
   "cell_type": "code",
   "execution_count": 2,
   "metadata": {},
   "outputs": [],
   "source": [
    "#Load EcN model \n",
    "EcN_ID = 'CP022686.1'\n",
    "model = load_json_model('../data/models/%s_cur_4.1.json'%EcN_ID)\n",
    "modelCopy = model.copy()"
   ]
  },
  {
   "cell_type": "code",
   "execution_count": 3,
   "metadata": {},
   "outputs": [],
   "source": [
    "def imbalance_rxn(modelCopy):\n",
    "\n",
    "    # Identify reactions that are not balanced and \n",
    "    imbalance = {}\n",
    "    for rxn in modelCopy.reactions:\n",
    "        balance = modelCopy.reactions.get_by_id(rxn.id).check_mass_balance()\n",
    "        if balance != {}:\n",
    "            if 'EX_' not in rxn.id: # Do not include exchange reactions\n",
    "                if 'DM_' not in rxn.id: # Do not include sinks\n",
    "                    if 'BIOMASS_' not in rxn.id: # Do not include biomass reactions\n",
    "                        imbalance[rxn.id] = balance\n",
    "\n",
    "    # Create a dataframe based on the imbalance dict\n",
    "    imbalance_df = pd.DataFrame.from_dict(imbalance, orient='index')\n",
    "    imbalance_df.fillna(value=0, inplace=True)\n",
    "    return imbalance_df"
   ]
  },
  {
   "cell_type": "code",
   "execution_count": 4,
   "metadata": {},
   "outputs": [
    {
     "name": "stdout",
     "output_type": "stream",
     "text": [
      "Number of imbalanced reactions: 51\n"
     ]
    },
    {
     "data": {
      "text/html": [
       "<div>\n",
       "<style scoped>\n",
       "    .dataframe tbody tr th:only-of-type {\n",
       "        vertical-align: middle;\n",
       "    }\n",
       "\n",
       "    .dataframe tbody tr th {\n",
       "        vertical-align: top;\n",
       "    }\n",
       "\n",
       "    .dataframe thead th {\n",
       "        text-align: right;\n",
       "    }\n",
       "</style>\n",
       "<table border=\"1\" class=\"dataframe\">\n",
       "  <thead>\n",
       "    <tr style=\"text-align: right;\">\n",
       "      <th></th>\n",
       "      <th>R</th>\n",
       "      <th>charge</th>\n",
       "      <th>H</th>\n",
       "      <th>O</th>\n",
       "      <th>C</th>\n",
       "      <th>N</th>\n",
       "      <th>P</th>\n",
       "      <th>S</th>\n",
       "    </tr>\n",
       "  </thead>\n",
       "  <tbody>\n",
       "    <tr>\n",
       "      <th>PUACGAMS</th>\n",
       "      <td>-1.0</td>\n",
       "      <td>0.0</td>\n",
       "      <td>0.0</td>\n",
       "      <td>0.0</td>\n",
       "      <td>0.0</td>\n",
       "      <td>0.0</td>\n",
       "      <td>0.0</td>\n",
       "      <td>0.0</td>\n",
       "    </tr>\n",
       "    <tr>\n",
       "      <th>CLB6PH</th>\n",
       "      <td>0.0</td>\n",
       "      <td>-2.0</td>\n",
       "      <td>2.0</td>\n",
       "      <td>1.0</td>\n",
       "      <td>0.0</td>\n",
       "      <td>0.0</td>\n",
       "      <td>0.0</td>\n",
       "      <td>0.0</td>\n",
       "    </tr>\n",
       "    <tr>\n",
       "      <th>CLBptspp</th>\n",
       "      <td>0.0</td>\n",
       "      <td>2.0</td>\n",
       "      <td>0.0</td>\n",
       "      <td>0.0</td>\n",
       "      <td>0.0</td>\n",
       "      <td>0.0</td>\n",
       "      <td>0.0</td>\n",
       "      <td>0.0</td>\n",
       "    </tr>\n",
       "    <tr>\n",
       "      <th>SALCptspp</th>\n",
       "      <td>0.0</td>\n",
       "      <td>2.0</td>\n",
       "      <td>2.0</td>\n",
       "      <td>0.0</td>\n",
       "      <td>0.0</td>\n",
       "      <td>0.0</td>\n",
       "      <td>0.0</td>\n",
       "      <td>0.0</td>\n",
       "    </tr>\n",
       "    <tr>\n",
       "      <th>SALSYN</th>\n",
       "      <td>0.0</td>\n",
       "      <td>1.0</td>\n",
       "      <td>0.0</td>\n",
       "      <td>0.0</td>\n",
       "      <td>0.0</td>\n",
       "      <td>0.0</td>\n",
       "      <td>0.0</td>\n",
       "      <td>0.0</td>\n",
       "    </tr>\n",
       "    <tr>\n",
       "      <th>4HOXPACt2pp</th>\n",
       "      <td>0.0</td>\n",
       "      <td>1.0</td>\n",
       "      <td>-7.0</td>\n",
       "      <td>-3.0</td>\n",
       "      <td>-8.0</td>\n",
       "      <td>0.0</td>\n",
       "      <td>0.0</td>\n",
       "      <td>0.0</td>\n",
       "    </tr>\n",
       "    <tr>\n",
       "      <th>OXPTNDH</th>\n",
       "      <td>0.0</td>\n",
       "      <td>1.0</td>\n",
       "      <td>1.0</td>\n",
       "      <td>-1.0</td>\n",
       "      <td>0.0</td>\n",
       "      <td>0.0</td>\n",
       "      <td>0.0</td>\n",
       "      <td>0.0</td>\n",
       "    </tr>\n",
       "    <tr>\n",
       "      <th>MMM2</th>\n",
       "      <td>0.0</td>\n",
       "      <td>5.0</td>\n",
       "      <td>0.0</td>\n",
       "      <td>0.0</td>\n",
       "      <td>0.0</td>\n",
       "      <td>0.0</td>\n",
       "      <td>0.0</td>\n",
       "      <td>0.0</td>\n",
       "    </tr>\n",
       "    <tr>\n",
       "      <th>ACGALptspp</th>\n",
       "      <td>0.0</td>\n",
       "      <td>2.0</td>\n",
       "      <td>2.0</td>\n",
       "      <td>0.0</td>\n",
       "      <td>0.0</td>\n",
       "      <td>0.0</td>\n",
       "      <td>0.0</td>\n",
       "      <td>0.0</td>\n",
       "    </tr>\n",
       "    <tr>\n",
       "      <th>GALAMPTSpp</th>\n",
       "      <td>0.0</td>\n",
       "      <td>2.0</td>\n",
       "      <td>2.0</td>\n",
       "      <td>0.0</td>\n",
       "      <td>0.0</td>\n",
       "      <td>0.0</td>\n",
       "      <td>0.0</td>\n",
       "      <td>0.0</td>\n",
       "    </tr>\n",
       "    <tr>\n",
       "      <th>GALAM6PISO</th>\n",
       "      <td>0.0</td>\n",
       "      <td>-1.0</td>\n",
       "      <td>-1.0</td>\n",
       "      <td>0.0</td>\n",
       "      <td>0.0</td>\n",
       "      <td>0.0</td>\n",
       "      <td>0.0</td>\n",
       "      <td>0.0</td>\n",
       "    </tr>\n",
       "    <tr>\n",
       "      <th>ACGAL6PI</th>\n",
       "      <td>0.0</td>\n",
       "      <td>-2.0</td>\n",
       "      <td>-5.0</td>\n",
       "      <td>0.0</td>\n",
       "      <td>-2.0</td>\n",
       "      <td>-1.0</td>\n",
       "      <td>0.0</td>\n",
       "      <td>0.0</td>\n",
       "    </tr>\n",
       "    <tr>\n",
       "      <th>ACGAL6PISO</th>\n",
       "      <td>0.0</td>\n",
       "      <td>1.0</td>\n",
       "      <td>0.0</td>\n",
       "      <td>-2.0</td>\n",
       "      <td>-2.0</td>\n",
       "      <td>1.0</td>\n",
       "      <td>0.0</td>\n",
       "      <td>0.0</td>\n",
       "    </tr>\n",
       "    <tr>\n",
       "      <th>IMACTD</th>\n",
       "      <td>0.0</td>\n",
       "      <td>1.0</td>\n",
       "      <td>1.0</td>\n",
       "      <td>-1.0</td>\n",
       "      <td>0.0</td>\n",
       "      <td>0.0</td>\n",
       "      <td>0.0</td>\n",
       "      <td>0.0</td>\n",
       "    </tr>\n",
       "    <tr>\n",
       "      <th>GALR1TRA2</th>\n",
       "      <td>0.0</td>\n",
       "      <td>-11.0</td>\n",
       "      <td>43.0</td>\n",
       "      <td>12.0</td>\n",
       "      <td>15.0</td>\n",
       "      <td>0.0</td>\n",
       "      <td>0.0</td>\n",
       "      <td>0.0</td>\n",
       "    </tr>\n",
       "    <tr>\n",
       "      <th>HEPKB2</th>\n",
       "      <td>0.0</td>\n",
       "      <td>2.0</td>\n",
       "      <td>12.0</td>\n",
       "      <td>6.0</td>\n",
       "      <td>7.0</td>\n",
       "      <td>0.0</td>\n",
       "      <td>0.0</td>\n",
       "      <td>0.0</td>\n",
       "    </tr>\n",
       "    <tr>\n",
       "      <th>HEPKA2</th>\n",
       "      <td>0.0</td>\n",
       "      <td>10.0</td>\n",
       "      <td>-20.0</td>\n",
       "      <td>0.0</td>\n",
       "      <td>0.0</td>\n",
       "      <td>0.0</td>\n",
       "      <td>0.0</td>\n",
       "      <td>0.0</td>\n",
       "    </tr>\n",
       "    <tr>\n",
       "      <th>SBDH</th>\n",
       "      <td>0.0</td>\n",
       "      <td>2.0</td>\n",
       "      <td>-11.0</td>\n",
       "      <td>-9.0</td>\n",
       "      <td>-6.0</td>\n",
       "      <td>0.0</td>\n",
       "      <td>-1.0</td>\n",
       "      <td>0.0</td>\n",
       "    </tr>\n",
       "    <tr>\n",
       "      <th>TRPTA</th>\n",
       "      <td>0.0</td>\n",
       "      <td>1.0</td>\n",
       "      <td>-8.0</td>\n",
       "      <td>-3.0</td>\n",
       "      <td>-11.0</td>\n",
       "      <td>-1.0</td>\n",
       "      <td>0.0</td>\n",
       "      <td>0.0</td>\n",
       "    </tr>\n",
       "    <tr>\n",
       "      <th>3HBCOAHL</th>\n",
       "      <td>0.0</td>\n",
       "      <td>-3.0</td>\n",
       "      <td>31.0</td>\n",
       "      <td>15.0</td>\n",
       "      <td>21.0</td>\n",
       "      <td>7.0</td>\n",
       "      <td>3.0</td>\n",
       "      <td>1.0</td>\n",
       "    </tr>\n",
       "    <tr>\n",
       "      <th>ENTERH</th>\n",
       "      <td>0.0</td>\n",
       "      <td>-1.0</td>\n",
       "      <td>-1.0</td>\n",
       "      <td>0.0</td>\n",
       "      <td>0.0</td>\n",
       "      <td>0.0</td>\n",
       "      <td>0.0</td>\n",
       "      <td>0.0</td>\n",
       "    </tr>\n",
       "    <tr>\n",
       "      <th>GLCOAS</th>\n",
       "      <td>0.0</td>\n",
       "      <td>3.0</td>\n",
       "      <td>-31.0</td>\n",
       "      <td>-15.0</td>\n",
       "      <td>-21.0</td>\n",
       "      <td>-7.0</td>\n",
       "      <td>-3.0</td>\n",
       "      <td>-1.0</td>\n",
       "    </tr>\n",
       "    <tr>\n",
       "      <th>AH6PI</th>\n",
       "      <td>0.0</td>\n",
       "      <td>-2.0</td>\n",
       "      <td>11.0</td>\n",
       "      <td>9.0</td>\n",
       "      <td>6.0</td>\n",
       "      <td>0.0</td>\n",
       "      <td>1.0</td>\n",
       "      <td>0.0</td>\n",
       "    </tr>\n",
       "    <tr>\n",
       "      <th>PPOR</th>\n",
       "      <td>0.0</td>\n",
       "      <td>1.0</td>\n",
       "      <td>-7.0</td>\n",
       "      <td>-3.0</td>\n",
       "      <td>-8.0</td>\n",
       "      <td>0.0</td>\n",
       "      <td>0.0</td>\n",
       "      <td>0.0</td>\n",
       "    </tr>\n",
       "    <tr>\n",
       "      <th>UAG4Ei</th>\n",
       "      <td>0.0</td>\n",
       "      <td>2.0</td>\n",
       "      <td>0.0</td>\n",
       "      <td>0.0</td>\n",
       "      <td>0.0</td>\n",
       "      <td>0.0</td>\n",
       "      <td>0.0</td>\n",
       "      <td>0.0</td>\n",
       "    </tr>\n",
       "    <tr>\n",
       "      <th>DKFPS2</th>\n",
       "      <td>0.0</td>\n",
       "      <td>2.0</td>\n",
       "      <td>-9.0</td>\n",
       "      <td>-8.0</td>\n",
       "      <td>-6.0</td>\n",
       "      <td>0.0</td>\n",
       "      <td>-1.0</td>\n",
       "      <td>0.0</td>\n",
       "    </tr>\n",
       "    <tr>\n",
       "      <th>OPETDC</th>\n",
       "      <td>0.0</td>\n",
       "      <td>1.0</td>\n",
       "      <td>1.0</td>\n",
       "      <td>0.0</td>\n",
       "      <td>0.0</td>\n",
       "      <td>0.0</td>\n",
       "      <td>0.0</td>\n",
       "      <td>0.0</td>\n",
       "    </tr>\n",
       "    <tr>\n",
       "      <th>HPA3MO</th>\n",
       "      <td>0.0</td>\n",
       "      <td>-1.0</td>\n",
       "      <td>7.0</td>\n",
       "      <td>3.0</td>\n",
       "      <td>8.0</td>\n",
       "      <td>0.0</td>\n",
       "      <td>0.0</td>\n",
       "      <td>0.0</td>\n",
       "    </tr>\n",
       "    <tr>\n",
       "      <th>3HPAOX</th>\n",
       "      <td>0.0</td>\n",
       "      <td>-1.0</td>\n",
       "      <td>-1.0</td>\n",
       "      <td>0.0</td>\n",
       "      <td>0.0</td>\n",
       "      <td>0.0</td>\n",
       "      <td>0.0</td>\n",
       "      <td>0.0</td>\n",
       "    </tr>\n",
       "    <tr>\n",
       "      <th>4HOXPACMOF</th>\n",
       "      <td>0.0</td>\n",
       "      <td>-1.0</td>\n",
       "      <td>7.0</td>\n",
       "      <td>3.0</td>\n",
       "      <td>8.0</td>\n",
       "      <td>0.0</td>\n",
       "      <td>0.0</td>\n",
       "      <td>0.0</td>\n",
       "    </tr>\n",
       "    <tr>\n",
       "      <th>4H3NPACAM</th>\n",
       "      <td>0.0</td>\n",
       "      <td>1.0</td>\n",
       "      <td>-8.0</td>\n",
       "      <td>-3.0</td>\n",
       "      <td>-8.0</td>\n",
       "      <td>0.0</td>\n",
       "      <td>0.0</td>\n",
       "      <td>0.0</td>\n",
       "    </tr>\n",
       "    <tr>\n",
       "      <th>4PHACTE</th>\n",
       "      <td>0.0</td>\n",
       "      <td>-4.0</td>\n",
       "      <td>-12.0</td>\n",
       "      <td>-3.0</td>\n",
       "      <td>-8.0</td>\n",
       "      <td>0.0</td>\n",
       "      <td>0.0</td>\n",
       "      <td>0.0</td>\n",
       "    </tr>\n",
       "    <tr>\n",
       "      <th>PHACTE</th>\n",
       "      <td>0.0</td>\n",
       "      <td>-1.0</td>\n",
       "      <td>-1.0</td>\n",
       "      <td>0.0</td>\n",
       "      <td>0.0</td>\n",
       "      <td>0.0</td>\n",
       "      <td>0.0</td>\n",
       "      <td>0.0</td>\n",
       "    </tr>\n",
       "    <tr>\n",
       "      <th>35PHACTE</th>\n",
       "      <td>0.0</td>\n",
       "      <td>-4.0</td>\n",
       "      <td>-4.0</td>\n",
       "      <td>0.0</td>\n",
       "      <td>0.0</td>\n",
       "      <td>0.0</td>\n",
       "      <td>0.0</td>\n",
       "      <td>0.0</td>\n",
       "    </tr>\n",
       "    <tr>\n",
       "      <th>34PHACTE</th>\n",
       "      <td>0.0</td>\n",
       "      <td>-4.0</td>\n",
       "      <td>-4.0</td>\n",
       "      <td>-1.0</td>\n",
       "      <td>0.0</td>\n",
       "      <td>0.0</td>\n",
       "      <td>0.0</td>\n",
       "      <td>0.0</td>\n",
       "    </tr>\n",
       "    <tr>\n",
       "      <th>2PHACTE</th>\n",
       "      <td>0.0</td>\n",
       "      <td>-4.0</td>\n",
       "      <td>-12.0</td>\n",
       "      <td>-3.0</td>\n",
       "      <td>-8.0</td>\n",
       "      <td>0.0</td>\n",
       "      <td>0.0</td>\n",
       "      <td>0.0</td>\n",
       "    </tr>\n",
       "    <tr>\n",
       "      <th>3PHACTE</th>\n",
       "      <td>0.0</td>\n",
       "      <td>-4.0</td>\n",
       "      <td>-4.0</td>\n",
       "      <td>0.0</td>\n",
       "      <td>0.0</td>\n",
       "      <td>0.0</td>\n",
       "      <td>0.0</td>\n",
       "      <td>0.0</td>\n",
       "    </tr>\n",
       "    <tr>\n",
       "      <th>3PHACOAOR</th>\n",
       "      <td>0.0</td>\n",
       "      <td>4.0</td>\n",
       "      <td>0.0</td>\n",
       "      <td>0.0</td>\n",
       "      <td>0.0</td>\n",
       "      <td>0.0</td>\n",
       "      <td>0.0</td>\n",
       "      <td>0.0</td>\n",
       "    </tr>\n",
       "    <tr>\n",
       "      <th>PHACOAOR</th>\n",
       "      <td>0.0</td>\n",
       "      <td>4.0</td>\n",
       "      <td>-40.0</td>\n",
       "      <td>-19.0</td>\n",
       "      <td>-29.0</td>\n",
       "      <td>-7.0</td>\n",
       "      <td>-3.0</td>\n",
       "      <td>-1.0</td>\n",
       "    </tr>\n",
       "    <tr>\n",
       "      <th>3NTYROXDApp</th>\n",
       "      <td>0.0</td>\n",
       "      <td>1.0</td>\n",
       "      <td>0.0</td>\n",
       "      <td>0.0</td>\n",
       "      <td>0.0</td>\n",
       "      <td>0.0</td>\n",
       "      <td>0.0</td>\n",
       "      <td>0.0</td>\n",
       "    </tr>\n",
       "    <tr>\n",
       "      <th>4HALDD</th>\n",
       "      <td>0.0</td>\n",
       "      <td>1.0</td>\n",
       "      <td>-7.0</td>\n",
       "      <td>-3.0</td>\n",
       "      <td>-8.0</td>\n",
       "      <td>0.0</td>\n",
       "      <td>0.0</td>\n",
       "      <td>0.0</td>\n",
       "    </tr>\n",
       "    <tr>\n",
       "      <th>4H3NALDD</th>\n",
       "      <td>0.0</td>\n",
       "      <td>1.0</td>\n",
       "      <td>0.0</td>\n",
       "      <td>0.0</td>\n",
       "      <td>0.0</td>\n",
       "      <td>0.0</td>\n",
       "      <td>0.0</td>\n",
       "      <td>0.0</td>\n",
       "    </tr>\n",
       "    <tr>\n",
       "      <th>G3PCT</th>\n",
       "      <td>0.0</td>\n",
       "      <td>2.0</td>\n",
       "      <td>-19.0</td>\n",
       "      <td>-13.0</td>\n",
       "      <td>-12.0</td>\n",
       "      <td>-3.0</td>\n",
       "      <td>-2.0</td>\n",
       "      <td>0.0</td>\n",
       "    </tr>\n",
       "    <tr>\n",
       "      <th>SALCHS2FEexs</th>\n",
       "      <td>0.0</td>\n",
       "      <td>-3.0</td>\n",
       "      <td>0.0</td>\n",
       "      <td>0.0</td>\n",
       "      <td>0.0</td>\n",
       "      <td>0.0</td>\n",
       "      <td>0.0</td>\n",
       "      <td>0.0</td>\n",
       "    </tr>\n",
       "    <tr>\n",
       "      <th>CLBH</th>\n",
       "      <td>0.0</td>\n",
       "      <td>0.0</td>\n",
       "      <td>2.0</td>\n",
       "      <td>1.0</td>\n",
       "      <td>0.0</td>\n",
       "      <td>0.0</td>\n",
       "      <td>0.0</td>\n",
       "      <td>0.0</td>\n",
       "    </tr>\n",
       "    <tr>\n",
       "      <th>PPRDNDH</th>\n",
       "      <td>0.0</td>\n",
       "      <td>0.0</td>\n",
       "      <td>-2.0</td>\n",
       "      <td>-2.0</td>\n",
       "      <td>0.0</td>\n",
       "      <td>0.0</td>\n",
       "      <td>0.0</td>\n",
       "      <td>0.0</td>\n",
       "    </tr>\n",
       "    <tr>\n",
       "      <th>URFGTT</th>\n",
       "      <td>0.0</td>\n",
       "      <td>0.0</td>\n",
       "      <td>-2.0</td>\n",
       "      <td>0.0</td>\n",
       "      <td>-1.0</td>\n",
       "      <td>0.0</td>\n",
       "      <td>0.0</td>\n",
       "      <td>0.0</td>\n",
       "    </tr>\n",
       "    <tr>\n",
       "      <th>NICRNS</th>\n",
       "      <td>0.0</td>\n",
       "      <td>0.0</td>\n",
       "      <td>13.0</td>\n",
       "      <td>6.0</td>\n",
       "      <td>11.0</td>\n",
       "      <td>1.0</td>\n",
       "      <td>0.0</td>\n",
       "      <td>0.0</td>\n",
       "    </tr>\n",
       "    <tr>\n",
       "      <th>PDHcr</th>\n",
       "      <td>0.0</td>\n",
       "      <td>0.0</td>\n",
       "      <td>2.0</td>\n",
       "      <td>0.0</td>\n",
       "      <td>0.0</td>\n",
       "      <td>0.0</td>\n",
       "      <td>0.0</td>\n",
       "      <td>0.0</td>\n",
       "    </tr>\n",
       "    <tr>\n",
       "      <th>RAFH</th>\n",
       "      <td>0.0</td>\n",
       "      <td>0.0</td>\n",
       "      <td>32.0</td>\n",
       "      <td>16.0</td>\n",
       "      <td>18.0</td>\n",
       "      <td>0.0</td>\n",
       "      <td>0.0</td>\n",
       "      <td>0.0</td>\n",
       "    </tr>\n",
       "    <tr>\n",
       "      <th>PENAM</th>\n",
       "      <td>0.0</td>\n",
       "      <td>0.0</td>\n",
       "      <td>-1.0</td>\n",
       "      <td>0.0</td>\n",
       "      <td>0.0</td>\n",
       "      <td>0.0</td>\n",
       "      <td>0.0</td>\n",
       "      <td>0.0</td>\n",
       "    </tr>\n",
       "  </tbody>\n",
       "</table>\n",
       "</div>"
      ],
      "text/plain": [
       "                R  charge     H     O     C    N    P    S\n",
       "PUACGAMS     -1.0     0.0   0.0   0.0   0.0  0.0  0.0  0.0\n",
       "CLB6PH        0.0    -2.0   2.0   1.0   0.0  0.0  0.0  0.0\n",
       "CLBptspp      0.0     2.0   0.0   0.0   0.0  0.0  0.0  0.0\n",
       "SALCptspp     0.0     2.0   2.0   0.0   0.0  0.0  0.0  0.0\n",
       "SALSYN        0.0     1.0   0.0   0.0   0.0  0.0  0.0  0.0\n",
       "4HOXPACt2pp   0.0     1.0  -7.0  -3.0  -8.0  0.0  0.0  0.0\n",
       "OXPTNDH       0.0     1.0   1.0  -1.0   0.0  0.0  0.0  0.0\n",
       "MMM2          0.0     5.0   0.0   0.0   0.0  0.0  0.0  0.0\n",
       "ACGALptspp    0.0     2.0   2.0   0.0   0.0  0.0  0.0  0.0\n",
       "GALAMPTSpp    0.0     2.0   2.0   0.0   0.0  0.0  0.0  0.0\n",
       "GALAM6PISO    0.0    -1.0  -1.0   0.0   0.0  0.0  0.0  0.0\n",
       "ACGAL6PI      0.0    -2.0  -5.0   0.0  -2.0 -1.0  0.0  0.0\n",
       "ACGAL6PISO    0.0     1.0   0.0  -2.0  -2.0  1.0  0.0  0.0\n",
       "IMACTD        0.0     1.0   1.0  -1.0   0.0  0.0  0.0  0.0\n",
       "GALR1TRA2     0.0   -11.0  43.0  12.0  15.0  0.0  0.0  0.0\n",
       "HEPKB2        0.0     2.0  12.0   6.0   7.0  0.0  0.0  0.0\n",
       "HEPKA2        0.0    10.0 -20.0   0.0   0.0  0.0  0.0  0.0\n",
       "SBDH          0.0     2.0 -11.0  -9.0  -6.0  0.0 -1.0  0.0\n",
       "TRPTA         0.0     1.0  -8.0  -3.0 -11.0 -1.0  0.0  0.0\n",
       "3HBCOAHL      0.0    -3.0  31.0  15.0  21.0  7.0  3.0  1.0\n",
       "ENTERH        0.0    -1.0  -1.0   0.0   0.0  0.0  0.0  0.0\n",
       "GLCOAS        0.0     3.0 -31.0 -15.0 -21.0 -7.0 -3.0 -1.0\n",
       "AH6PI         0.0    -2.0  11.0   9.0   6.0  0.0  1.0  0.0\n",
       "PPOR          0.0     1.0  -7.0  -3.0  -8.0  0.0  0.0  0.0\n",
       "UAG4Ei        0.0     2.0   0.0   0.0   0.0  0.0  0.0  0.0\n",
       "DKFPS2        0.0     2.0  -9.0  -8.0  -6.0  0.0 -1.0  0.0\n",
       "OPETDC        0.0     1.0   1.0   0.0   0.0  0.0  0.0  0.0\n",
       "HPA3MO        0.0    -1.0   7.0   3.0   8.0  0.0  0.0  0.0\n",
       "3HPAOX        0.0    -1.0  -1.0   0.0   0.0  0.0  0.0  0.0\n",
       "4HOXPACMOF    0.0    -1.0   7.0   3.0   8.0  0.0  0.0  0.0\n",
       "4H3NPACAM     0.0     1.0  -8.0  -3.0  -8.0  0.0  0.0  0.0\n",
       "4PHACTE       0.0    -4.0 -12.0  -3.0  -8.0  0.0  0.0  0.0\n",
       "PHACTE        0.0    -1.0  -1.0   0.0   0.0  0.0  0.0  0.0\n",
       "35PHACTE      0.0    -4.0  -4.0   0.0   0.0  0.0  0.0  0.0\n",
       "34PHACTE      0.0    -4.0  -4.0  -1.0   0.0  0.0  0.0  0.0\n",
       "2PHACTE       0.0    -4.0 -12.0  -3.0  -8.0  0.0  0.0  0.0\n",
       "3PHACTE       0.0    -4.0  -4.0   0.0   0.0  0.0  0.0  0.0\n",
       "3PHACOAOR     0.0     4.0   0.0   0.0   0.0  0.0  0.0  0.0\n",
       "PHACOAOR      0.0     4.0 -40.0 -19.0 -29.0 -7.0 -3.0 -1.0\n",
       "3NTYROXDApp   0.0     1.0   0.0   0.0   0.0  0.0  0.0  0.0\n",
       "4HALDD        0.0     1.0  -7.0  -3.0  -8.0  0.0  0.0  0.0\n",
       "4H3NALDD      0.0     1.0   0.0   0.0   0.0  0.0  0.0  0.0\n",
       "G3PCT         0.0     2.0 -19.0 -13.0 -12.0 -3.0 -2.0  0.0\n",
       "SALCHS2FEexs  0.0    -3.0   0.0   0.0   0.0  0.0  0.0  0.0\n",
       "CLBH          0.0     0.0   2.0   1.0   0.0  0.0  0.0  0.0\n",
       "PPRDNDH       0.0     0.0  -2.0  -2.0   0.0  0.0  0.0  0.0\n",
       "URFGTT        0.0     0.0  -2.0   0.0  -1.0  0.0  0.0  0.0\n",
       "NICRNS        0.0     0.0  13.0   6.0  11.0  1.0  0.0  0.0\n",
       "PDHcr         0.0     0.0   2.0   0.0   0.0  0.0  0.0  0.0\n",
       "RAFH          0.0     0.0  32.0  16.0  18.0  0.0  0.0  0.0\n",
       "PENAM         0.0     0.0  -1.0   0.0   0.0  0.0  0.0  0.0"
      ]
     },
     "execution_count": 4,
     "metadata": {},
     "output_type": "execute_result"
    }
   ],
   "source": [
    "imbalance_df = imbalance_rxn(modelCopy)\n",
    "print('Number of imbalanced reactions:', len(imbalance_df))\n",
    "imbalance_df"
   ]
  },
  {
   "cell_type": "code",
   "execution_count": 5,
   "metadata": {},
   "outputs": [],
   "source": [
    "# Load the rxn_origin dataframe and note reactions as imbalanced\n",
    "rxn_origin_df = pd.read_csv('../tables/rxn_origin.csv', usecols=['reaction', 'origin', 'added', 'notebook', 'notes'])\n",
    "rxn_origin_df.set_index('reaction', inplace=True)\n",
    "\n",
    "imbalance_list = imbalance_df.index.tolist()\n",
    "\n",
    "for rxn in imbalance_list:\n",
    "    rxn_origin_df.loc[rxn, 'notes'] = 'Reaction imbalanced'"
   ]
  },
  {
   "cell_type": "code",
   "execution_count": 6,
   "metadata": {},
   "outputs": [],
   "source": [
    "# Load the table with information on origin of genes\n",
    "gene_origin_df = pd.read_csv('../tables/gene_origin.csv')\n",
    "gene_origin_df.set_index('gene', inplace=True)"
   ]
  },
  {
   "cell_type": "code",
   "execution_count": 7,
   "metadata": {},
   "outputs": [
    {
     "data": {
      "text/html": [
       "<div>\n",
       "<style scoped>\n",
       "    .dataframe tbody tr th:only-of-type {\n",
       "        vertical-align: middle;\n",
       "    }\n",
       "\n",
       "    .dataframe tbody tr th {\n",
       "        vertical-align: top;\n",
       "    }\n",
       "\n",
       "    .dataframe thead th {\n",
       "        text-align: right;\n",
       "    }\n",
       "</style>\n",
       "<table border=\"1\" class=\"dataframe\">\n",
       "  <thead>\n",
       "    <tr style=\"text-align: right;\">\n",
       "      <th></th>\n",
       "      <th>EcN_gene</th>\n",
       "      <th>origin</th>\n",
       "      <th>added</th>\n",
       "      <th>notebook</th>\n",
       "      <th>notes</th>\n",
       "    </tr>\n",
       "    <tr>\n",
       "      <th>gene</th>\n",
       "      <th></th>\n",
       "      <th></th>\n",
       "      <th></th>\n",
       "      <th></th>\n",
       "      <th></th>\n",
       "    </tr>\n",
       "  </thead>\n",
       "  <tbody>\n",
       "    <tr>\n",
       "      <th>b2551</th>\n",
       "      <td>CIW80_06560</td>\n",
       "      <td>iML1515</td>\n",
       "      <td>automatic</td>\n",
       "      <td>3.1</td>\n",
       "      <td>none</td>\n",
       "    </tr>\n",
       "    <tr>\n",
       "      <th>b0870</th>\n",
       "      <td>CIW80_22360</td>\n",
       "      <td>iML1515</td>\n",
       "      <td>automatic</td>\n",
       "      <td>3.1</td>\n",
       "      <td>none</td>\n",
       "    </tr>\n",
       "    <tr>\n",
       "      <th>b3368</th>\n",
       "      <td>CIW80_11380</td>\n",
       "      <td>iML1515</td>\n",
       "      <td>automatic</td>\n",
       "      <td>3.1</td>\n",
       "      <td>none</td>\n",
       "    </tr>\n",
       "    <tr>\n",
       "      <th>b2436</th>\n",
       "      <td>CIW80_06055</td>\n",
       "      <td>iML1515</td>\n",
       "      <td>automatic</td>\n",
       "      <td>3.1</td>\n",
       "      <td>none</td>\n",
       "    </tr>\n",
       "    <tr>\n",
       "      <th>b3500</th>\n",
       "      <td>CIW80_12105</td>\n",
       "      <td>iML1515</td>\n",
       "      <td>automatic</td>\n",
       "      <td>3.1</td>\n",
       "      <td>none</td>\n",
       "    </tr>\n",
       "    <tr>\n",
       "      <th>...</th>\n",
       "      <td>...</td>\n",
       "      <td>...</td>\n",
       "      <td>...</td>\n",
       "      <td>...</td>\n",
       "      <td>...</td>\n",
       "    </tr>\n",
       "    <tr>\n",
       "      <th>SbBS512_E0724</th>\n",
       "      <td>CIW80_05020</td>\n",
       "      <td>iSbBS512_1146</td>\n",
       "      <td>automatic</td>\n",
       "      <td>3.1</td>\n",
       "      <td>none</td>\n",
       "    </tr>\n",
       "    <tr>\n",
       "      <th>SFxv_2588</th>\n",
       "      <td>CIW80_05275</td>\n",
       "      <td>iSFxv_1172</td>\n",
       "      <td>automatic</td>\n",
       "      <td>3.1</td>\n",
       "      <td>none</td>\n",
       "    </tr>\n",
       "    <tr>\n",
       "      <th>SFxv_4366</th>\n",
       "      <td>CIW80_14645</td>\n",
       "      <td>iSFxv_1172</td>\n",
       "      <td>automatic</td>\n",
       "      <td>3.1</td>\n",
       "      <td>none</td>\n",
       "    </tr>\n",
       "    <tr>\n",
       "      <th>SFxv_0967</th>\n",
       "      <td>CIW80_21840</td>\n",
       "      <td>iSFxv_1172</td>\n",
       "      <td>automatic</td>\n",
       "      <td>3.1</td>\n",
       "      <td>none</td>\n",
       "    </tr>\n",
       "    <tr>\n",
       "      <th>S0001</th>\n",
       "      <td>CIW80_17680</td>\n",
       "      <td>iS_1188</td>\n",
       "      <td>automatic</td>\n",
       "      <td>3.1</td>\n",
       "      <td>none</td>\n",
       "    </tr>\n",
       "  </tbody>\n",
       "</table>\n",
       "<p>1541 rows × 5 columns</p>\n",
       "</div>"
      ],
      "text/plain": [
       "                  EcN_gene         origin      added  notebook notes\n",
       "gene                                                                \n",
       "b2551          CIW80_06560        iML1515  automatic       3.1  none\n",
       "b0870          CIW80_22360        iML1515  automatic       3.1  none\n",
       "b3368          CIW80_11380        iML1515  automatic       3.1  none\n",
       "b2436          CIW80_06055        iML1515  automatic       3.1  none\n",
       "b3500          CIW80_12105        iML1515  automatic       3.1  none\n",
       "...                    ...            ...        ...       ...   ...\n",
       "SbBS512_E0724  CIW80_05020  iSbBS512_1146  automatic       3.1  none\n",
       "SFxv_2588      CIW80_05275     iSFxv_1172  automatic       3.1  none\n",
       "SFxv_4366      CIW80_14645     iSFxv_1172  automatic       3.1  none\n",
       "SFxv_0967      CIW80_21840     iSFxv_1172  automatic       3.1  none\n",
       "S0001          CIW80_17680        iS_1188  automatic       3.1  none\n",
       "\n",
       "[1541 rows x 5 columns]"
      ]
     },
     "execution_count": 7,
     "metadata": {},
     "output_type": "execute_result"
    }
   ],
   "source": [
    "gene_origin_df"
   ]
  },
  {
   "cell_type": "markdown",
   "metadata": {},
   "source": [
    "# 1. Fixing proton balance"
   ]
  },
  {
   "cell_type": "code",
   "execution_count": 8,
   "metadata": {},
   "outputs": [
    {
     "data": {
      "text/html": [
       "<div>\n",
       "<style scoped>\n",
       "    .dataframe tbody tr th:only-of-type {\n",
       "        vertical-align: middle;\n",
       "    }\n",
       "\n",
       "    .dataframe tbody tr th {\n",
       "        vertical-align: top;\n",
       "    }\n",
       "\n",
       "    .dataframe thead th {\n",
       "        text-align: right;\n",
       "    }\n",
       "</style>\n",
       "<table border=\"1\" class=\"dataframe\">\n",
       "  <thead>\n",
       "    <tr style=\"text-align: right;\">\n",
       "      <th></th>\n",
       "      <th>R</th>\n",
       "      <th>charge</th>\n",
       "      <th>H</th>\n",
       "      <th>O</th>\n",
       "      <th>C</th>\n",
       "      <th>N</th>\n",
       "      <th>P</th>\n",
       "      <th>S</th>\n",
       "    </tr>\n",
       "  </thead>\n",
       "  <tbody>\n",
       "    <tr>\n",
       "      <th>SALCptspp</th>\n",
       "      <td>0.0</td>\n",
       "      <td>2.0</td>\n",
       "      <td>2.0</td>\n",
       "      <td>0.0</td>\n",
       "      <td>0.0</td>\n",
       "      <td>0.0</td>\n",
       "      <td>0.0</td>\n",
       "      <td>0.0</td>\n",
       "    </tr>\n",
       "    <tr>\n",
       "      <th>ACGALptspp</th>\n",
       "      <td>0.0</td>\n",
       "      <td>2.0</td>\n",
       "      <td>2.0</td>\n",
       "      <td>0.0</td>\n",
       "      <td>0.0</td>\n",
       "      <td>0.0</td>\n",
       "      <td>0.0</td>\n",
       "      <td>0.0</td>\n",
       "    </tr>\n",
       "    <tr>\n",
       "      <th>GALAMPTSpp</th>\n",
       "      <td>0.0</td>\n",
       "      <td>2.0</td>\n",
       "      <td>2.0</td>\n",
       "      <td>0.0</td>\n",
       "      <td>0.0</td>\n",
       "      <td>0.0</td>\n",
       "      <td>0.0</td>\n",
       "      <td>0.0</td>\n",
       "    </tr>\n",
       "    <tr>\n",
       "      <th>GALAM6PISO</th>\n",
       "      <td>0.0</td>\n",
       "      <td>-1.0</td>\n",
       "      <td>-1.0</td>\n",
       "      <td>0.0</td>\n",
       "      <td>0.0</td>\n",
       "      <td>0.0</td>\n",
       "      <td>0.0</td>\n",
       "      <td>0.0</td>\n",
       "    </tr>\n",
       "    <tr>\n",
       "      <th>HEPKA2</th>\n",
       "      <td>0.0</td>\n",
       "      <td>10.0</td>\n",
       "      <td>-20.0</td>\n",
       "      <td>0.0</td>\n",
       "      <td>0.0</td>\n",
       "      <td>0.0</td>\n",
       "      <td>0.0</td>\n",
       "      <td>0.0</td>\n",
       "    </tr>\n",
       "    <tr>\n",
       "      <th>ENTERH</th>\n",
       "      <td>0.0</td>\n",
       "      <td>-1.0</td>\n",
       "      <td>-1.0</td>\n",
       "      <td>0.0</td>\n",
       "      <td>0.0</td>\n",
       "      <td>0.0</td>\n",
       "      <td>0.0</td>\n",
       "      <td>0.0</td>\n",
       "    </tr>\n",
       "    <tr>\n",
       "      <th>OPETDC</th>\n",
       "      <td>0.0</td>\n",
       "      <td>1.0</td>\n",
       "      <td>1.0</td>\n",
       "      <td>0.0</td>\n",
       "      <td>0.0</td>\n",
       "      <td>0.0</td>\n",
       "      <td>0.0</td>\n",
       "      <td>0.0</td>\n",
       "    </tr>\n",
       "    <tr>\n",
       "      <th>3HPAOX</th>\n",
       "      <td>0.0</td>\n",
       "      <td>-1.0</td>\n",
       "      <td>-1.0</td>\n",
       "      <td>0.0</td>\n",
       "      <td>0.0</td>\n",
       "      <td>0.0</td>\n",
       "      <td>0.0</td>\n",
       "      <td>0.0</td>\n",
       "    </tr>\n",
       "    <tr>\n",
       "      <th>PHACTE</th>\n",
       "      <td>0.0</td>\n",
       "      <td>-1.0</td>\n",
       "      <td>-1.0</td>\n",
       "      <td>0.0</td>\n",
       "      <td>0.0</td>\n",
       "      <td>0.0</td>\n",
       "      <td>0.0</td>\n",
       "      <td>0.0</td>\n",
       "    </tr>\n",
       "    <tr>\n",
       "      <th>35PHACTE</th>\n",
       "      <td>0.0</td>\n",
       "      <td>-4.0</td>\n",
       "      <td>-4.0</td>\n",
       "      <td>0.0</td>\n",
       "      <td>0.0</td>\n",
       "      <td>0.0</td>\n",
       "      <td>0.0</td>\n",
       "      <td>0.0</td>\n",
       "    </tr>\n",
       "    <tr>\n",
       "      <th>3PHACTE</th>\n",
       "      <td>0.0</td>\n",
       "      <td>-4.0</td>\n",
       "      <td>-4.0</td>\n",
       "      <td>0.0</td>\n",
       "      <td>0.0</td>\n",
       "      <td>0.0</td>\n",
       "      <td>0.0</td>\n",
       "      <td>0.0</td>\n",
       "    </tr>\n",
       "  </tbody>\n",
       "</table>\n",
       "</div>"
      ],
      "text/plain": [
       "              R  charge     H    O    C    N    P    S\n",
       "SALCptspp   0.0     2.0   2.0  0.0  0.0  0.0  0.0  0.0\n",
       "ACGALptspp  0.0     2.0   2.0  0.0  0.0  0.0  0.0  0.0\n",
       "GALAMPTSpp  0.0     2.0   2.0  0.0  0.0  0.0  0.0  0.0\n",
       "GALAM6PISO  0.0    -1.0  -1.0  0.0  0.0  0.0  0.0  0.0\n",
       "HEPKA2      0.0    10.0 -20.0  0.0  0.0  0.0  0.0  0.0\n",
       "ENTERH      0.0    -1.0  -1.0  0.0  0.0  0.0  0.0  0.0\n",
       "OPETDC      0.0     1.0   1.0  0.0  0.0  0.0  0.0  0.0\n",
       "3HPAOX      0.0    -1.0  -1.0  0.0  0.0  0.0  0.0  0.0\n",
       "PHACTE      0.0    -1.0  -1.0  0.0  0.0  0.0  0.0  0.0\n",
       "35PHACTE    0.0    -4.0  -4.0  0.0  0.0  0.0  0.0  0.0\n",
       "3PHACTE     0.0    -4.0  -4.0  0.0  0.0  0.0  0.0  0.0"
      ]
     },
     "execution_count": 8,
     "metadata": {},
     "output_type": "execute_result"
    }
   ],
   "source": [
    "# Find cases in which likely missing/excess of protons are the problem\n",
    "proton_imbalance = imbalance_df.loc[(imbalance_df['H'] != 0)\n",
    "                 & (imbalance_df['charge'] != 0)\n",
    "                 & (imbalance_df['C'] == 0)\n",
    "                 & (imbalance_df['N'] == 0)\n",
    "                 & (imbalance_df['O'] == 0)\n",
    "                 & (imbalance_df['P'] == 0)\n",
    "                 & (imbalance_df['S'] == 0)]\n",
    "proton_imbalance"
   ]
  },
  {
   "cell_type": "code",
   "execution_count": 9,
   "metadata": {},
   "outputs": [],
   "source": [
    "# Add or remove protons\n",
    "modelCopy.reactions.get_by_id('SALCptspp').add_metabolites({'h_c': -2.0})\n",
    "modelCopy.reactions.get_by_id('ACGALptspp').add_metabolites({'h_c': -2.0})\n",
    "modelCopy.reactions.get_by_id('GALAMPTSpp').add_metabolites({'h_c': -2.0})\n",
    "modelCopy.reactions.get_by_id('GALAM6PISO').add_metabolites({'h_c': 1.0})\n",
    "modelCopy.reactions.get_by_id('ENTERH').add_metabolites({'h_c': 1.0})\n",
    "modelCopy.reactions.get_by_id('OPETDC').add_metabolites({'h_c': -1.0})\n",
    "modelCopy.reactions.get_by_id('3HPAOX').add_metabolites({'h_c': 1.0})\n",
    "modelCopy.reactions.get_by_id('35PHACTE').add_metabolites({'h_c': 4.0})\n",
    "modelCopy.reactions.get_by_id('PHACTE').add_metabolites({'h_c': 1.0})\n",
    "modelCopy.reactions.get_by_id('3PHACTE').add_metabolites({'h_c': 4.0})"
   ]
  },
  {
   "cell_type": "code",
   "execution_count": 10,
   "metadata": {},
   "outputs": [
    {
     "name": "stdout",
     "output_type": "stream",
     "text": [
      "SALCptspp {}\n",
      "ACGALptspp {}\n",
      "GALAMPTSpp {}\n",
      "GALAM6PISO {}\n",
      "HEPKA2 {'charge': 10.0, 'H': -20.0}\n",
      "ENTERH {}\n",
      "OPETDC {}\n",
      "3HPAOX {}\n",
      "PHACTE {}\n",
      "35PHACTE {}\n",
      "3PHACTE {}\n"
     ]
    }
   ],
   "source": [
    "for rxn in proton_imbalance.index.values.tolist():\n",
    "    print(rxn, modelCopy.reactions.get_by_id(rxn).check_mass_balance())"
   ]
  },
  {
   "cell_type": "markdown",
   "metadata": {},
   "source": [
    "# 2. Missing formula"
   ]
  },
  {
   "cell_type": "code",
   "execution_count": 11,
   "metadata": {},
   "outputs": [
    {
     "data": {
      "text/plain": [
       "{'4hphac_c': '4-Hydroxyphenylacetate',\n",
       " 'glutar_c': 'Glutarate',\n",
       " 'oxptn_c': '5-Oxopentanoate',\n",
       " '5aptn_c': '5-Aminopentanoate',\n",
       " 'pprdn_c': 'Piperideine',\n",
       " 'LptA_p': 'Periplasmic lipid A binding protein ',\n",
       " 'im4ac_c': 'Imidazole-4-acetate',\n",
       " 'im4act_c': 'Imidazole-4-acetaldehyde',\n",
       " '2ombz_c': '2-Octaprenyl-6-methoxy-1,4-benzoquinone',\n",
       " '2ommb_c': '2-Octaprenyl-3-methyl-6-methoxy-1,4-benzoquinone',\n",
       " 'nicrns_c': 'Nicotinate D-ribonucleoside',\n",
       " 'srb1p_c': 'Sorbose 1-phosphate',\n",
       " 'indpyr_c': 'Indolepyruvate C11H8NO3',\n",
       " 'dhlam_c': 'Dihydrolipoamide C8H17NOS2',\n",
       " 'lpam_c': 'Lipoamide C8H15NOS2',\n",
       " '3hibutcoa_c': '(S)-3-Hydroxyisobutyryl-CoA',\n",
       " '3hmp_c': '3-Hydroxy-2-methylpropanoate',\n",
       " 'glutcoa_c': 'Glutaryl-CoA mitochondria',\n",
       " 'ah6p__D_c': 'Arabino-3-hexulose-6-P',\n",
       " '2hyoxplac_c': '2-Hydroxyphenylacetate',\n",
       " 'dkfp_c': '6-deoxy-5-ketofructose 1-phosphate',\n",
       " 'raffin_c': 'Raffinose C18H32O16',\n",
       " '2dhphaccoa_c': '1,2-Dihydroxy-1,2-dihydrophenylacetyl-CoA',\n",
       " 'cdpglyc_c': 'CDPglycerol C12H19N3O13P2'}"
      ]
     },
     "execution_count": 11,
     "metadata": {},
     "output_type": "execute_result"
    }
   ],
   "source": [
    "# Identify which metabolites are missing a formula\n",
    "missing_formula = {}\n",
    "for mtb in modelCopy.metabolites:\n",
    "    formula = modelCopy.metabolites.get_by_id(mtb.id).formula\n",
    "    if formula == None:\n",
    "        missing_formula[mtb.id] = mtb.name\n",
    "        \n",
    "missing_formula"
   ]
  },
  {
   "cell_type": "markdown",
   "metadata": {},
   "source": [
    "### ENLIPIDAt1ex > LptA_p\n",
    "Phosphoethanolamine lipid IVa transport via vector periplasm to extracellular"
   ]
  },
  {
   "cell_type": "code",
   "execution_count": 12,
   "metadata": {},
   "outputs": [
    {
     "data": {
      "text/plain": [
       "{}"
      ]
     },
     "execution_count": 12,
     "metadata": {},
     "output_type": "execute_result"
    }
   ],
   "source": [
    "# Check mass balance\n",
    "modelCopy.reactions.ENLIPIDAt1ex.check_mass_balance()"
   ]
  },
  {
   "cell_type": "code",
   "execution_count": 13,
   "metadata": {
    "scrolled": true
   },
   "outputs": [
    {
     "data": {
      "text/plain": [
       "'enlipidA_LptA_p --> LptA_p + enlipidA_e'"
      ]
     },
     "execution_count": 13,
     "metadata": {},
     "output_type": "execute_result"
    }
   ],
   "source": [
    "modelCopy.reactions.ENLIPIDAt2ex.reaction"
   ]
  },
  {
   "cell_type": "code",
   "execution_count": 14,
   "metadata": {
    "scrolled": true
   },
   "outputs": [
    {
     "data": {
      "text/html": [
       "\n",
       "        <table>\n",
       "            <tr>\n",
       "                <td><strong>Metabolite identifier</strong></td><td>LptA_p</td>\n",
       "            </tr><tr>\n",
       "                <td><strong>Name</strong></td><td>Periplasmic lipid A binding protein</td>\n",
       "            </tr><tr>\n",
       "                <td><strong>Memory address</strong></td>\n",
       "                <td>0x01ab9948b9c8</td>\n",
       "            </tr><tr>\n",
       "                <td><strong>Formula</strong></td><td>None</td>\n",
       "            </tr><tr>\n",
       "                <td><strong>Compartment</strong></td><td>p</td>\n",
       "            </tr><tr>\n",
       "                <td><strong>In 2 reaction(s)</strong></td><td>\n",
       "                    ENLIPIDAt2ex, ENLIPIDAt1ex</td>\n",
       "            </tr>\n",
       "        </table>"
      ],
      "text/plain": [
       "<Metabolite LptA_p at 0x1ab9948b9c8>"
      ]
     },
     "execution_count": 14,
     "metadata": {},
     "output_type": "execute_result"
    }
   ],
   "source": [
    "# A lipid binding protein that does not have a mass\n",
    "modelCopy.metabolites.LptA_p"
   ]
  },
  {
   "cell_type": "markdown",
   "metadata": {},
   "source": [
    "Is a protein that can bind to lipids, but is not used. Therefore the lack of formula is not a problem"
   ]
  },
  {
   "cell_type": "markdown",
   "metadata": {},
   "source": [
    "### GLCOAS > glutar_c/glutcoa_c"
   ]
  },
  {
   "cell_type": "code",
   "execution_count": 15,
   "metadata": {
    "scrolled": true
   },
   "outputs": [
    {
     "data": {
      "text/plain": [
       "{'charge': 3.0,\n",
       " 'C': -21.0,\n",
       " 'H': -31.0,\n",
       " 'N': -7.0,\n",
       " 'O': -15.0,\n",
       " 'P': -3.0,\n",
       " 'S': -1.0}"
      ]
     },
     "execution_count": 15,
     "metadata": {},
     "output_type": "execute_result"
    }
   ],
   "source": [
    "modelCopy.reactions.GLCOAS.check_mass_balance()"
   ]
  },
  {
   "cell_type": "code",
   "execution_count": 16,
   "metadata": {},
   "outputs": [
    {
     "data": {
      "text/plain": [
       "'atp_c + coa_c + glutar_c --> adp_c + glutcoa_c + pi_c'"
      ]
     },
     "execution_count": 16,
     "metadata": {},
     "output_type": "execute_result"
    }
   ],
   "source": [
    "modelCopy.reactions.GLCOAS.reaction"
   ]
  },
  {
   "cell_type": "code",
   "execution_count": 17,
   "metadata": {},
   "outputs": [],
   "source": [
    "# Both glutar_c and glutcoa_c are missing formula and charge\n",
    "\n",
    "# There is only one formula for glutcoa_c in BiGG\n",
    "# http://bigg.ucsd.edu/models/universal/metabolites/glutcoa\n",
    "modelCopy.metabolites.glutcoa_c.formula = 'C26H37N7O19P3S'\n",
    "\n",
    "# Based on the atoms that are missing in the mass balance, \n",
    "# ...one of the two molecules on BiGGwas chosen for glutar_c\n",
    "# http://bigg.ucsd.edu/universal/reactions/GLCOAS\n",
    "modelCopy.metabolites.glutar_c.formula = 'C5H6O4'\n",
    "\n",
    "# Charge imbalance of 3. Both compounds can be uncharged or -5 and -2\n",
    "# ...which would balance out the reaction\n",
    "modelCopy.metabolites.glutcoa_c.charge = -5\n",
    "modelCopy.metabolites.glutar_c.charge = -2"
   ]
  },
  {
   "cell_type": "code",
   "execution_count": 18,
   "metadata": {
    "scrolled": true
   },
   "outputs": [
    {
     "data": {
      "text/plain": [
       "{}"
      ]
     },
     "execution_count": 18,
     "metadata": {},
     "output_type": "execute_result"
    }
   ],
   "source": [
    "modelCopy.reactions.GLCOAS.check_mass_balance()"
   ]
  },
  {
   "cell_type": "markdown",
   "metadata": {},
   "source": [
    "### 4HOXPACt2pp > 4hphac_c\n",
    "4 hydroxyphenylacetate transport in via proton symport periplasm"
   ]
  },
  {
   "cell_type": "code",
   "execution_count": 19,
   "metadata": {},
   "outputs": [
    {
     "data": {
      "text/plain": [
       "{'charge': 1.0, 'C': -8.0, 'H': -7.0, 'O': -3.0}"
      ]
     },
     "execution_count": 19,
     "metadata": {},
     "output_type": "execute_result"
    }
   ],
   "source": [
    "modelCopy.reactions.get_by_id('4HOXPACt2pp').check_mass_balance()"
   ]
  },
  {
   "cell_type": "code",
   "execution_count": 20,
   "metadata": {},
   "outputs": [
    {
     "data": {
      "text/plain": [
       "'4hphac_p + h_p --> 4hphac_c + h_c'"
      ]
     },
     "execution_count": 20,
     "metadata": {},
     "output_type": "execute_result"
    }
   ],
   "source": [
    "modelCopy.reactions.get_by_id('4HOXPACt2pp').reaction"
   ]
  },
  {
   "cell_type": "code",
   "execution_count": 21,
   "metadata": {},
   "outputs": [],
   "source": [
    "# 4hphac_c is missing the formula and charge. Both are same as 4hphac_p\n",
    "modelCopy.metabolites.get_by_id('4hphac_c').formula = 'C8H7O3'\n",
    "modelCopy.metabolites.get_by_id('4hphac_c').charge = -1"
   ]
  },
  {
   "cell_type": "code",
   "execution_count": 22,
   "metadata": {},
   "outputs": [
    {
     "data": {
      "text/plain": [
       "{}"
      ]
     },
     "execution_count": 22,
     "metadata": {},
     "output_type": "execute_result"
    }
   ],
   "source": [
    "modelCopy.reactions.get_by_id('4HOXPACt2pp').check_mass_balance()"
   ]
  },
  {
   "cell_type": "markdown",
   "metadata": {},
   "source": [
    "### OXPTNDH > oxptn_c\n",
    "Glutarate-semialdehyde:NAD+ oxidoreductase"
   ]
  },
  {
   "cell_type": "code",
   "execution_count": 23,
   "metadata": {},
   "outputs": [
    {
     "data": {
      "text/plain": [
       "{'charge': -1.0, 'C': 5.0, 'H': 7.0, 'O': 3.0}"
      ]
     },
     "execution_count": 23,
     "metadata": {},
     "output_type": "execute_result"
    }
   ],
   "source": [
    "modelCopy.reactions.OXPTNDH.check_mass_balance()"
   ]
  },
  {
   "cell_type": "code",
   "execution_count": 24,
   "metadata": {},
   "outputs": [
    {
     "data": {
      "text/plain": [
       "'h2o_c + nad_c + oxptn_c <=> glutar_c + 2.0 h_c + nadh_c'"
      ]
     },
     "execution_count": 24,
     "metadata": {},
     "output_type": "execute_result"
    }
   ],
   "source": [
    "modelCopy.reactions.OXPTNDH.reaction"
   ]
  },
  {
   "cell_type": "code",
   "execution_count": 25,
   "metadata": {},
   "outputs": [],
   "source": [
    "# oxptn_c does not have a formula and charge\n",
    "# The formula on BiGG is similar to the missing elements\n",
    "# http://bigg.ucsd.edu/models/universal/metabolites/oxptn\n",
    "modelCopy.metabolites.oxptn_c.formula = 'C5H7O3'\n",
    "modelCopy.metabolites.oxptn_c.charge = -1"
   ]
  },
  {
   "cell_type": "code",
   "execution_count": 26,
   "metadata": {},
   "outputs": [
    {
     "data": {
      "text/plain": [
       "{}"
      ]
     },
     "execution_count": 26,
     "metadata": {},
     "output_type": "execute_result"
    }
   ],
   "source": [
    "modelCopy.reactions.OXPTNDH.check_mass_balance()"
   ]
  },
  {
   "cell_type": "markdown",
   "metadata": {},
   "source": [
    "### PPRDNDH > 5aptn_c/pprdn_c\n",
    "Piperideine dehydrogenase"
   ]
  },
  {
   "cell_type": "code",
   "execution_count": 27,
   "metadata": {},
   "outputs": [
    {
     "data": {
      "text/plain": [
       "{'H': -2.0, 'O': -2.0}"
      ]
     },
     "execution_count": 27,
     "metadata": {},
     "output_type": "execute_result"
    }
   ],
   "source": [
    "modelCopy.reactions.PPRDNDH.check_mass_balance()"
   ]
  },
  {
   "cell_type": "code",
   "execution_count": 28,
   "metadata": {},
   "outputs": [
    {
     "data": {
      "text/plain": [
       "'2.0 h2o_c + nad_c + pprdn_c --> 5aptn_c + h_c + nadh_c'"
      ]
     },
     "execution_count": 28,
     "metadata": {},
     "output_type": "execute_result"
    }
   ],
   "source": [
    "modelCopy.reactions.PPRDNDH.reaction"
   ]
  },
  {
   "cell_type": "code",
   "execution_count": 29,
   "metadata": {},
   "outputs": [],
   "source": [
    "# Both pprdn_c and 5aptn_c don't have a formula. The formulas were taken from BiGG\n",
    "# http://bigg.ucsd.edu/models/universal/metabolites/pprdn\n",
    "# http://bigg.ucsd.edu/models/universal/metabolites/5aptn\n",
    "modelCopy.metabolites.pprdn_c.formula = 'C5H9N'\n",
    "modelCopy.metabolites.get_by_id('5aptn_c').formula = 'C5H11NO2'"
   ]
  },
  {
   "cell_type": "code",
   "execution_count": 30,
   "metadata": {},
   "outputs": [
    {
     "data": {
      "text/plain": [
       "{}"
      ]
     },
     "execution_count": 30,
     "metadata": {},
     "output_type": "execute_result"
    }
   ],
   "source": [
    "modelCopy.reactions.PPRDNDH.check_mass_balance()"
   ]
  },
  {
   "cell_type": "markdown",
   "metadata": {},
   "source": [
    "### IMACTD > im4ac_c/im4act_c\n",
    "Imidazole acetaldeyde dehydrogenase"
   ]
  },
  {
   "cell_type": "code",
   "execution_count": 31,
   "metadata": {},
   "outputs": [
    {
     "data": {
      "text/plain": [
       "{'charge': 1.0, 'H': 1.0, 'O': -1.0}"
      ]
     },
     "execution_count": 31,
     "metadata": {},
     "output_type": "execute_result"
    }
   ],
   "source": [
    "modelCopy.reactions.IMACTD.check_mass_balance()"
   ]
  },
  {
   "cell_type": "code",
   "execution_count": 32,
   "metadata": {},
   "outputs": [
    {
     "data": {
      "text/plain": [
       "'h2o_c + im4act_c + nad_c --> 2.0 h_c + im4ac_c + nadh_c'"
      ]
     },
     "execution_count": 32,
     "metadata": {},
     "output_type": "execute_result"
    }
   ],
   "source": [
    "modelCopy.reactions.IMACTD.reaction"
   ]
  },
  {
   "cell_type": "code",
   "execution_count": 33,
   "metadata": {},
   "outputs": [],
   "source": [
    "# im4act_c and im4ac_c are both missing the formula and charge\n",
    "# im4act_c: http://bigg.ucsd.edu/models/universal/metabolites/im4act\n",
    "# im4ac_c: http://bigg.ucsd.edu/models/universal/metabolites/im4ac\n",
    "modelCopy.metabolites.im4act_c.formula = 'C5H6N2O'\n",
    "modelCopy.metabolites.im4ac_c.formula = 'C5H5N2O2'\n",
    "\n",
    "# im4ac_c can have a charge of both 0 and -1. \n",
    "# Based on the charge imbalance, -1 was chosen\n",
    "modelCopy.metabolites.im4ac_c.charge = -1"
   ]
  },
  {
   "cell_type": "code",
   "execution_count": 34,
   "metadata": {},
   "outputs": [
    {
     "data": {
      "text/plain": [
       "{}"
      ]
     },
     "execution_count": 34,
     "metadata": {},
     "output_type": "execute_result"
    }
   ],
   "source": [
    "modelCopy.reactions.IMACTD.check_mass_balance()"
   ]
  },
  {
   "cell_type": "markdown",
   "metadata": {},
   "source": [
    "### URFGTT > 2ombz_c/2ommb_c\n",
    "UDP-L-rhamnose:flavonol-3-O-D-glucoside L-rhamnosyltransferase"
   ]
  },
  {
   "cell_type": "code",
   "execution_count": 35,
   "metadata": {},
   "outputs": [
    {
     "data": {
      "text/plain": [
       "{'C': -1.0, 'H': -2.0}"
      ]
     },
     "execution_count": 35,
     "metadata": {},
     "output_type": "execute_result"
    }
   ],
   "source": [
    "modelCopy.reactions.URFGTT.check_mass_balance()"
   ]
  },
  {
   "cell_type": "code",
   "execution_count": 36,
   "metadata": {},
   "outputs": [
    {
     "data": {
      "text/plain": [
       "'2ombz_c + amet_c --> 2ommb_c + ahcys_c + h_c'"
      ]
     },
     "execution_count": 36,
     "metadata": {},
     "output_type": "execute_result"
    }
   ],
   "source": [
    "modelCopy.reactions.URFGTT.reaction"
   ]
  },
  {
   "cell_type": "code",
   "execution_count": 37,
   "metadata": {},
   "outputs": [],
   "source": [
    "# 2ombz_c and 2ommb_c are both missing the formula\n",
    "modelCopy.metabolites.get_by_id('2ombz_c').formula = 'C47H70O3'\n",
    "modelCopy.metabolites.get_by_id('2ommb_c').formula = 'C48H72O3'"
   ]
  },
  {
   "cell_type": "code",
   "execution_count": 38,
   "metadata": {},
   "outputs": [
    {
     "data": {
      "text/plain": [
       "{}"
      ]
     },
     "execution_count": 38,
     "metadata": {},
     "output_type": "execute_result"
    }
   ],
   "source": [
    "modelCopy.reactions.URFGTT.check_mass_balance()"
   ]
  },
  {
   "cell_type": "markdown",
   "metadata": {},
   "source": [
    "### NICRNS > nicrns_c\n",
    "Nicotinate D-ribonucleotide synthase (ATP)"
   ]
  },
  {
   "cell_type": "code",
   "execution_count": 39,
   "metadata": {},
   "outputs": [
    {
     "data": {
      "text/plain": [
       "{'C': 11.0, 'H': 13.0, 'N': 1.0, 'O': 6.0}"
      ]
     },
     "execution_count": 39,
     "metadata": {},
     "output_type": "execute_result"
    }
   ],
   "source": [
    "modelCopy.reactions.NICRNS.check_mass_balance()"
   ]
  },
  {
   "cell_type": "code",
   "execution_count": 40,
   "metadata": {},
   "outputs": [
    {
     "data": {
      "text/plain": [
       "'atp_c + nicrns_c --> adp_c + h_c + nicrnt_c'"
      ]
     },
     "execution_count": 40,
     "metadata": {},
     "output_type": "execute_result"
    }
   ],
   "source": [
    "modelCopy.reactions.NICRNS.reaction"
   ]
  },
  {
   "cell_type": "code",
   "execution_count": 41,
   "metadata": {},
   "outputs": [],
   "source": [
    "# The formula is C11H14NO6+ according to Pubchem. Add one H for the charge\n",
    "# https://pubchem.ncbi.nlm.nih.gov/compound/Nicotinate-D-ribonucleoside\n",
    "modelCopy.metabolites.nicrns_c.formula = 'C11H13NO6'"
   ]
  },
  {
   "cell_type": "code",
   "execution_count": 42,
   "metadata": {},
   "outputs": [
    {
     "data": {
      "text/plain": [
       "{}"
      ]
     },
     "execution_count": 42,
     "metadata": {},
     "output_type": "execute_result"
    }
   ],
   "source": [
    "modelCopy.reactions.NICRNS.check_mass_balance()"
   ]
  },
  {
   "cell_type": "markdown",
   "metadata": {},
   "source": [
    "### SBDH > srb1p_c\n",
    "L-sorbosone dehydrogenase"
   ]
  },
  {
   "cell_type": "code",
   "execution_count": 43,
   "metadata": {},
   "outputs": [
    {
     "data": {
      "text/plain": [
       "{'charge': 2.0, 'H': -11.0, 'C': -6.0, 'O': -9.0, 'P': -1.0}"
      ]
     },
     "execution_count": 43,
     "metadata": {},
     "output_type": "execute_result"
    }
   ],
   "source": [
    "modelCopy.reactions.SBDH.check_mass_balance()"
   ]
  },
  {
   "cell_type": "code",
   "execution_count": 44,
   "metadata": {},
   "outputs": [
    {
     "data": {
      "text/plain": [
       "'nadp_c + sbt6p_c --> h_c + nadph_c + srb1p_c'"
      ]
     },
     "execution_count": 44,
     "metadata": {},
     "output_type": "execute_result"
    }
   ],
   "source": [
    "modelCopy.reactions.SBDH.reaction"
   ]
  },
  {
   "cell_type": "code",
   "execution_count": 45,
   "metadata": {},
   "outputs": [],
   "source": [
    "# The formula is C6H13O9P according to pubchem.\n",
    "# https://pubchem.ncbi.nlm.nih.gov/compound/L-Sorbose-1-phosphate\n",
    "modelCopy.metabolites.srb1p_c.formula = 'C6H11O9P'\n",
    "modelCopy.metabolites.srb1p_c.charge = -2"
   ]
  },
  {
   "cell_type": "code",
   "execution_count": 46,
   "metadata": {},
   "outputs": [
    {
     "data": {
      "text/html": [
       "\n",
       "        <table>\n",
       "            <tr>\n",
       "                <td><strong>Metabolite identifier</strong></td><td>srb1p_c</td>\n",
       "            </tr><tr>\n",
       "                <td><strong>Name</strong></td><td>Sorbose 1-phosphate</td>\n",
       "            </tr><tr>\n",
       "                <td><strong>Memory address</strong></td>\n",
       "                <td>0x01ab98fd4f48</td>\n",
       "            </tr><tr>\n",
       "                <td><strong>Formula</strong></td><td>C6H11O9P</td>\n",
       "            </tr><tr>\n",
       "                <td><strong>Compartment</strong></td><td>c</td>\n",
       "            </tr><tr>\n",
       "                <td><strong>In 1 reaction(s)</strong></td><td>\n",
       "                    SBDH</td>\n",
       "            </tr>\n",
       "        </table>"
      ],
      "text/plain": [
       "<Metabolite srb1p_c at 0x1ab98fd4f48>"
      ]
     },
     "execution_count": 46,
     "metadata": {},
     "output_type": "execute_result"
    }
   ],
   "source": [
    "modelCopy.metabolites.srb1p_c"
   ]
  },
  {
   "cell_type": "code",
   "execution_count": 47,
   "metadata": {},
   "outputs": [
    {
     "data": {
      "text/plain": [
       "{}"
      ]
     },
     "execution_count": 47,
     "metadata": {},
     "output_type": "execute_result"
    }
   ],
   "source": [
    "modelCopy.reactions.SBDH.check_mass_balance()"
   ]
  },
  {
   "cell_type": "markdown",
   "metadata": {},
   "source": [
    "### TRPTA > indpyr_c\n",
    "Tryptophan transaminase"
   ]
  },
  {
   "cell_type": "code",
   "execution_count": 48,
   "metadata": {},
   "outputs": [
    {
     "data": {
      "text/plain": [
       "{'charge': 1.0, 'C': -11.0, 'H': -8.0, 'O': -3.0, 'N': -1.0}"
      ]
     },
     "execution_count": 48,
     "metadata": {},
     "output_type": "execute_result"
    }
   ],
   "source": [
    "modelCopy.reactions.TRPTA.check_mass_balance()"
   ]
  },
  {
   "cell_type": "code",
   "execution_count": 49,
   "metadata": {},
   "outputs": [
    {
     "data": {
      "text/plain": [
       "'akg_c + trp__L_c <=> glu__L_c + indpyr_c'"
      ]
     },
     "execution_count": 49,
     "metadata": {},
     "output_type": "execute_result"
    }
   ],
   "source": [
    "modelCopy.reactions.TRPTA.reaction"
   ]
  },
  {
   "cell_type": "code",
   "execution_count": 50,
   "metadata": {},
   "outputs": [],
   "source": [
    "# The formula of Indolepyruvate is missing (present in name)\n",
    "# According to BiGG, charge can be 0 or -1. Based on charge balance, -1 was assumed\n",
    "# http://bigg.ucsd.edu/models/universal/metabolites/indpyr\n",
    "modelCopy.metabolites.indpyr_c.formula = 'C11H8NO3'\n",
    "modelCopy.metabolites.indpyr_c.charge = -1"
   ]
  },
  {
   "cell_type": "code",
   "execution_count": 51,
   "metadata": {},
   "outputs": [
    {
     "data": {
      "text/plain": [
       "{}"
      ]
     },
     "execution_count": 51,
     "metadata": {},
     "output_type": "execute_result"
    }
   ],
   "source": [
    "modelCopy.reactions.TRPTA.check_mass_balance()"
   ]
  },
  {
   "cell_type": "markdown",
   "metadata": {},
   "source": [
    "### PDHcr > dhlam_c/lpam_c\n",
    "Pyruvate dehydrogenase"
   ]
  },
  {
   "cell_type": "code",
   "execution_count": 52,
   "metadata": {},
   "outputs": [
    {
     "data": {
      "text/plain": [
       "{'H': 2.0}"
      ]
     },
     "execution_count": 52,
     "metadata": {},
     "output_type": "execute_result"
    }
   ],
   "source": [
    "modelCopy.reactions.PDHcr.check_mass_balance()"
   ]
  },
  {
   "cell_type": "code",
   "execution_count": 53,
   "metadata": {},
   "outputs": [
    {
     "data": {
      "text/plain": [
       "'dhlam_c + nad_c --> h_c + lpam_c + nadh_c'"
      ]
     },
     "execution_count": 53,
     "metadata": {},
     "output_type": "execute_result"
    }
   ],
   "source": [
    "modelCopy.reactions.PDHcr.reaction"
   ]
  },
  {
   "cell_type": "code",
   "execution_count": 54,
   "metadata": {},
   "outputs": [],
   "source": [
    "# both dhlam_c and lpam_c are missing formula. These can be taken from their names\n",
    "modelCopy.metabolites.dhlam_c.formula = 'C8H17NOS2'\n",
    "modelCopy.metabolites.lpam_c.formula = 'C8H15NOS2'"
   ]
  },
  {
   "cell_type": "code",
   "execution_count": 55,
   "metadata": {},
   "outputs": [
    {
     "data": {
      "text/plain": [
       "{}"
      ]
     },
     "execution_count": 55,
     "metadata": {},
     "output_type": "execute_result"
    }
   ],
   "source": [
    "modelCopy.reactions.PDHcr.check_mass_balance()"
   ]
  },
  {
   "cell_type": "markdown",
   "metadata": {},
   "source": [
    "### 3HBCOAHL > 3hibutcoa_c/3hmp_c\n",
    "3-hydroxyisobutyryl-CoA hydrolase"
   ]
  },
  {
   "cell_type": "code",
   "execution_count": 56,
   "metadata": {},
   "outputs": [
    {
     "data": {
      "text/plain": [
       "{'charge': -3.0, 'C': 21.0, 'H': 31.0, 'N': 7.0, 'O': 15.0, 'P': 3.0, 'S': 1.0}"
      ]
     },
     "execution_count": 56,
     "metadata": {},
     "output_type": "execute_result"
    }
   ],
   "source": [
    "modelCopy.reactions.get_by_id('3HBCOAHL').check_mass_balance()"
   ]
  },
  {
   "cell_type": "code",
   "execution_count": 57,
   "metadata": {},
   "outputs": [
    {
     "data": {
      "text/plain": [
       "'3hibutcoa_c + h2o_c --> 3hmp_c + coa_c + h_c'"
      ]
     },
     "execution_count": 57,
     "metadata": {},
     "output_type": "execute_result"
    }
   ],
   "source": [
    "modelCopy.reactions.get_by_id('3HBCOAHL').reaction"
   ]
  },
  {
   "cell_type": "code",
   "execution_count": 58,
   "metadata": {},
   "outputs": [],
   "source": [
    "# 3hibutcoa_c and 3hmp_c are missing the formula and charge.\n",
    "# Based on BiGG: http://bigg.ucsd.edu/models/universal/metabolites/3hibutcoa\n",
    "modelCopy.metabolites.get_by_id('3hibutcoa_c').formula = 'C25H38N7O18P3S'\n",
    "modelCopy.metabolites.get_by_id('3hibutcoa_c').charge = -4\n",
    "\n",
    "# Based on BiGG: http://bigg.ucsd.edu/models/universal/metabolites/3hmp\n",
    "modelCopy.metabolites.get_by_id('3hmp_c').formula = 'C4H7O3'\n",
    "modelCopy.metabolites.get_by_id('3hmp_c').charge = -1"
   ]
  },
  {
   "cell_type": "code",
   "execution_count": 59,
   "metadata": {},
   "outputs": [
    {
     "data": {
      "text/plain": [
       "{}"
      ]
     },
     "execution_count": 59,
     "metadata": {},
     "output_type": "execute_result"
    }
   ],
   "source": [
    "modelCopy.reactions.get_by_id('3HBCOAHL').check_mass_balance()"
   ]
  },
  {
   "cell_type": "markdown",
   "metadata": {},
   "source": [
    "### AH6PI > ah6p__D_c\n",
    "Arabino-3-hexulose-6-P Isomerase"
   ]
  },
  {
   "cell_type": "code",
   "execution_count": 60,
   "metadata": {},
   "outputs": [
    {
     "data": {
      "text/plain": [
       "{'charge': -2.0, 'C': 6.0, 'H': 11.0, 'O': 9.0, 'P': 1.0}"
      ]
     },
     "execution_count": 60,
     "metadata": {},
     "output_type": "execute_result"
    }
   ],
   "source": [
    "modelCopy.reactions.AH6PI.check_mass_balance()"
   ]
  },
  {
   "cell_type": "code",
   "execution_count": 61,
   "metadata": {},
   "outputs": [
    {
     "data": {
      "text/plain": [
       "'ah6p__D_c --> f6p_c'"
      ]
     },
     "execution_count": 61,
     "metadata": {},
     "output_type": "execute_result"
    }
   ],
   "source": [
    "modelCopy.reactions.AH6PI.reaction"
   ]
  },
  {
   "cell_type": "code",
   "execution_count": 62,
   "metadata": {},
   "outputs": [],
   "source": [
    "# The formula of Arabino-3-hexulose-6-P is missing\n",
    "# Based on the formula on PubChem (C6H13O9P), a charge of -2 was assumed\n",
    "# https://pubchem.ncbi.nlm.nih.gov/compound/D-Arabino-hex-3-ulose-6-phosphate\n",
    "modelCopy.metabolites.ah6p__D_c.formula = 'C6H11O9P'\n",
    "modelCopy.metabolites.ah6p__D_c.charge = -2"
   ]
  },
  {
   "cell_type": "code",
   "execution_count": 63,
   "metadata": {
    "scrolled": true
   },
   "outputs": [
    {
     "data": {
      "text/plain": [
       "{}"
      ]
     },
     "execution_count": 63,
     "metadata": {},
     "output_type": "execute_result"
    }
   ],
   "source": [
    "modelCopy.reactions.AH6PI.check_mass_balance()"
   ]
  },
  {
   "cell_type": "markdown",
   "metadata": {},
   "source": [
    "### PPOR > 2hyoxplac_c\n",
    "Phenylpyruvate:oxygen oxidoreductase (hydroxylating,decarboxylating)"
   ]
  },
  {
   "cell_type": "code",
   "execution_count": 64,
   "metadata": {},
   "outputs": [
    {
     "data": {
      "text/plain": [
       "{'charge': 1.0, 'C': -8.0, 'O': -3.0, 'H': -7.0}"
      ]
     },
     "execution_count": 64,
     "metadata": {},
     "output_type": "execute_result"
    }
   ],
   "source": [
    "# Check mass balance\n",
    "modelCopy.reactions.PPOR.check_mass_balance()"
   ]
  },
  {
   "cell_type": "code",
   "execution_count": 65,
   "metadata": {},
   "outputs": [
    {
     "data": {
      "text/plain": [
       "'o2_c + phpyr_c --> 2hyoxplac_c + co2_c'"
      ]
     },
     "execution_count": 65,
     "metadata": {},
     "output_type": "execute_result"
    }
   ],
   "source": [
    "# Check reaction\n",
    "modelCopy.reactions.PPOR.reaction"
   ]
  },
  {
   "cell_type": "code",
   "execution_count": 66,
   "metadata": {},
   "outputs": [],
   "source": [
    "# The formula of Hydroxyphenylacetate  is missing\n",
    "# According to BiGG, charge can be 0 or -1. Based on charge balance, -1 was assumed\n",
    "# http://bigg.ucsd.edu/universal/metabolites/2hyoxplac\n",
    "modelCopy.metabolites.get_by_id('2hyoxplac_c').formula = 'C8H7O3'\n",
    "modelCopy.metabolites.get_by_id('2hyoxplac_c').charge = -1"
   ]
  },
  {
   "cell_type": "code",
   "execution_count": 67,
   "metadata": {},
   "outputs": [
    {
     "data": {
      "text/plain": [
       "{}"
      ]
     },
     "execution_count": 67,
     "metadata": {},
     "output_type": "execute_result"
    }
   ],
   "source": [
    "# Check mass balance\n",
    "modelCopy.reactions.PPOR.check_mass_balance()"
   ]
  },
  {
   "cell_type": "markdown",
   "metadata": {},
   "source": [
    "### DKFPS2 > dkfp_c\n",
    "6 deoxy 5 ketofructose 1 phosphate synthase 2 "
   ]
  },
  {
   "cell_type": "code",
   "execution_count": 68,
   "metadata": {},
   "outputs": [
    {
     "data": {
      "text/plain": [
       "{'charge': 2.0, 'C': -6.0, 'H': -9.0, 'O': -8.0, 'P': -1.0}"
      ]
     },
     "execution_count": 68,
     "metadata": {},
     "output_type": "execute_result"
    }
   ],
   "source": [
    "modelCopy.reactions.DKFPS2.check_mass_balance()"
   ]
  },
  {
   "cell_type": "code",
   "execution_count": 69,
   "metadata": {},
   "outputs": [
    {
     "data": {
      "text/plain": [
       "'fdp_c + mthgxl_c --> dkfp_c + g3p_c'"
      ]
     },
     "execution_count": 69,
     "metadata": {},
     "output_type": "execute_result"
    }
   ],
   "source": [
    "modelCopy.reactions.DKFPS2.reaction"
   ]
  },
  {
   "cell_type": "code",
   "execution_count": 70,
   "metadata": {},
   "outputs": [],
   "source": [
    "# dkfp_c is missing the formula\n",
    "# Based on the formula on PubChem (C6H11O8P), a charge of -2 was assumed\n",
    "# https://pubchem.ncbi.nlm.nih.gov/compound/25137933\n",
    "modelCopy.metabolites.dkfp_c.formula = 'C6H9O8P'\n",
    "modelCopy.metabolites.dkfp_c.charge = -2"
   ]
  },
  {
   "cell_type": "code",
   "execution_count": 71,
   "metadata": {},
   "outputs": [
    {
     "data": {
      "text/plain": [
       "{}"
      ]
     },
     "execution_count": 71,
     "metadata": {},
     "output_type": "execute_result"
    }
   ],
   "source": [
    "modelCopy.reactions.DKFPS2.check_mass_balance()"
   ]
  },
  {
   "cell_type": "markdown",
   "metadata": {},
   "source": [
    "### G3PCT > cdpglyc_c\n",
    "Glycerol-3-phosphate cytidylyltransferase"
   ]
  },
  {
   "cell_type": "code",
   "execution_count": 72,
   "metadata": {},
   "outputs": [
    {
     "data": {
      "text/plain": [
       "{'charge': 2.0, 'C': -12.0, 'H': -19.0, 'N': -3.0, 'O': -13.0, 'P': -2.0}"
      ]
     },
     "execution_count": 72,
     "metadata": {},
     "output_type": "execute_result"
    }
   ],
   "source": [
    "modelCopy.reactions.G3PCT.check_mass_balance()"
   ]
  },
  {
   "cell_type": "code",
   "execution_count": 73,
   "metadata": {},
   "outputs": [
    {
     "data": {
      "text/plain": [
       "'ctp_c + glyc3p_c + h_c --> cdpglyc_c + ppi_c'"
      ]
     },
     "execution_count": 73,
     "metadata": {},
     "output_type": "execute_result"
    }
   ],
   "source": [
    "modelCopy.reactions.G3PCT.reaction"
   ]
  },
  {
   "cell_type": "code",
   "execution_count": 74,
   "metadata": {},
   "outputs": [],
   "source": [
    "# CDPglycerol is missing the formula > present in name\n",
    "# Based on the formula on PubChem (C12H19N3O13P2-2), a charge of -2 was assumed\n",
    "# https://pubchem.ncbi.nlm.nih.gov/compound/90659090\n",
    "modelCopy.metabolites.cdpglyc_c.formula = 'C12H19N3O13P2'\n",
    "modelCopy.metabolites.cdpglyc_c.charge = -2"
   ]
  },
  {
   "cell_type": "code",
   "execution_count": 75,
   "metadata": {
    "scrolled": true
   },
   "outputs": [
    {
     "data": {
      "text/plain": [
       "{}"
      ]
     },
     "execution_count": 75,
     "metadata": {},
     "output_type": "execute_result"
    }
   ],
   "source": [
    "modelCopy.reactions.G3PCT.check_mass_balance()"
   ]
  },
  {
   "cell_type": "markdown",
   "metadata": {},
   "source": [
    "### RAFH > raffin_c\n",
    "Raffinose hydrolyzing enzyme"
   ]
  },
  {
   "cell_type": "code",
   "execution_count": 76,
   "metadata": {},
   "outputs": [
    {
     "data": {
      "text/plain": [
       "{'C': 18.0, 'H': 32.0, 'O': 16.0}"
      ]
     },
     "execution_count": 76,
     "metadata": {},
     "output_type": "execute_result"
    }
   ],
   "source": [
    "modelCopy.reactions.RAFH.check_mass_balance()"
   ]
  },
  {
   "cell_type": "code",
   "execution_count": 77,
   "metadata": {},
   "outputs": [
    {
     "data": {
      "text/plain": [
       "'h2o_c + raffin_c --> fru_c + melib_c'"
      ]
     },
     "execution_count": 77,
     "metadata": {},
     "output_type": "execute_result"
    }
   ],
   "source": [
    "modelCopy.reactions.RAFH.reaction"
   ]
  },
  {
   "cell_type": "code",
   "execution_count": 78,
   "metadata": {},
   "outputs": [],
   "source": [
    "# raffin_c is missing the formula > present in name\n",
    "# Based on the formula on PubChem (C18H32O16), no charge was assumed\n",
    "# https://pubchem.ncbi.nlm.nih.gov/compound/439242\n",
    "modelCopy.metabolites.raffin_c.formula = 'C18H32O16'"
   ]
  },
  {
   "cell_type": "code",
   "execution_count": 79,
   "metadata": {},
   "outputs": [
    {
     "data": {
      "text/plain": [
       "{}"
      ]
     },
     "execution_count": 79,
     "metadata": {},
     "output_type": "execute_result"
    }
   ],
   "source": [
    "modelCopy.reactions.RAFH.check_mass_balance()"
   ]
  },
  {
   "cell_type": "markdown",
   "metadata": {},
   "source": [
    "### PHACOAOR > 2dhphaccoa_c\n",
    "Phenylacetyl-CoA oxygenase/reductase"
   ]
  },
  {
   "cell_type": "code",
   "execution_count": 80,
   "metadata": {},
   "outputs": [
    {
     "data": {
      "text/plain": [
       "{'charge': 4.0,\n",
       " 'H': -40.0,\n",
       " 'O': -19.0,\n",
       " 'C': -29.0,\n",
       " 'N': -7.0,\n",
       " 'P': -3.0,\n",
       " 'S': -1.0}"
      ]
     },
     "execution_count": 80,
     "metadata": {},
     "output_type": "execute_result"
    }
   ],
   "source": [
    "modelCopy.reactions.PHACOAOR.check_mass_balance()"
   ]
  },
  {
   "cell_type": "code",
   "execution_count": 81,
   "metadata": {},
   "outputs": [
    {
     "data": {
      "text/plain": [
       "'h2_c + o2_c + phaccoa_c --> 2dhphaccoa_c'"
      ]
     },
     "execution_count": 81,
     "metadata": {},
     "output_type": "execute_result"
    }
   ],
   "source": [
    "modelCopy.reactions.PHACOAOR.reaction"
   ]
  },
  {
   "cell_type": "code",
   "execution_count": 82,
   "metadata": {},
   "outputs": [],
   "source": [
    "# 2dhphaccoa_c is missing the formula\n",
    "# Based on different formulas this chemical structure on PubChem (C29H40O19N7P3S), a charge of -4 was assumed\n",
    "# https://pubchem.ncbi.nlm.nih.gov/#query=C29H40O19N7P3S\n",
    "modelCopy.metabolites.get_by_id('2dhphaccoa_c').formula = 'C29H40N7O19P3S'\n",
    "modelCopy.metabolites.get_by_id('2dhphaccoa_c').charge = -4"
   ]
  },
  {
   "cell_type": "code",
   "execution_count": 83,
   "metadata": {
    "scrolled": true
   },
   "outputs": [
    {
     "data": {
      "text/plain": [
       "{}"
      ]
     },
     "execution_count": 83,
     "metadata": {},
     "output_type": "execute_result"
    }
   ],
   "source": [
    "modelCopy.reactions.PHACOAOR.check_mass_balance()"
   ]
  },
  {
   "cell_type": "markdown",
   "metadata": {},
   "source": [
    "# 3. Other imbalances"
   ]
  },
  {
   "cell_type": "code",
   "execution_count": 84,
   "metadata": {},
   "outputs": [
    {
     "data": {
      "text/html": [
       "<div>\n",
       "<style scoped>\n",
       "    .dataframe tbody tr th:only-of-type {\n",
       "        vertical-align: middle;\n",
       "    }\n",
       "\n",
       "    .dataframe tbody tr th {\n",
       "        vertical-align: top;\n",
       "    }\n",
       "\n",
       "    .dataframe thead th {\n",
       "        text-align: right;\n",
       "    }\n",
       "</style>\n",
       "<table border=\"1\" class=\"dataframe\">\n",
       "  <thead>\n",
       "    <tr style=\"text-align: right;\">\n",
       "      <th></th>\n",
       "      <th>R</th>\n",
       "      <th>charge</th>\n",
       "      <th>H</th>\n",
       "      <th>O</th>\n",
       "      <th>C</th>\n",
       "      <th>N</th>\n",
       "    </tr>\n",
       "  </thead>\n",
       "  <tbody>\n",
       "    <tr>\n",
       "      <th>PUACGAMS</th>\n",
       "      <td>-1.0</td>\n",
       "      <td>0.0</td>\n",
       "      <td>0.0</td>\n",
       "      <td>0.0</td>\n",
       "      <td>0.0</td>\n",
       "      <td>0.0</td>\n",
       "    </tr>\n",
       "    <tr>\n",
       "      <th>CLB6PH</th>\n",
       "      <td>0.0</td>\n",
       "      <td>-2.0</td>\n",
       "      <td>2.0</td>\n",
       "      <td>1.0</td>\n",
       "      <td>0.0</td>\n",
       "      <td>0.0</td>\n",
       "    </tr>\n",
       "    <tr>\n",
       "      <th>CLBptspp</th>\n",
       "      <td>0.0</td>\n",
       "      <td>2.0</td>\n",
       "      <td>0.0</td>\n",
       "      <td>0.0</td>\n",
       "      <td>0.0</td>\n",
       "      <td>0.0</td>\n",
       "    </tr>\n",
       "    <tr>\n",
       "      <th>SALSYN</th>\n",
       "      <td>0.0</td>\n",
       "      <td>1.0</td>\n",
       "      <td>0.0</td>\n",
       "      <td>0.0</td>\n",
       "      <td>0.0</td>\n",
       "      <td>0.0</td>\n",
       "    </tr>\n",
       "    <tr>\n",
       "      <th>MMM2</th>\n",
       "      <td>0.0</td>\n",
       "      <td>5.0</td>\n",
       "      <td>0.0</td>\n",
       "      <td>0.0</td>\n",
       "      <td>0.0</td>\n",
       "      <td>0.0</td>\n",
       "    </tr>\n",
       "    <tr>\n",
       "      <th>ACGAL6PI</th>\n",
       "      <td>0.0</td>\n",
       "      <td>-2.0</td>\n",
       "      <td>-5.0</td>\n",
       "      <td>0.0</td>\n",
       "      <td>-2.0</td>\n",
       "      <td>-1.0</td>\n",
       "    </tr>\n",
       "    <tr>\n",
       "      <th>ACGAL6PISO</th>\n",
       "      <td>0.0</td>\n",
       "      <td>1.0</td>\n",
       "      <td>0.0</td>\n",
       "      <td>-2.0</td>\n",
       "      <td>-2.0</td>\n",
       "      <td>1.0</td>\n",
       "    </tr>\n",
       "    <tr>\n",
       "      <th>GALR1TRA2</th>\n",
       "      <td>0.0</td>\n",
       "      <td>-11.0</td>\n",
       "      <td>43.0</td>\n",
       "      <td>12.0</td>\n",
       "      <td>15.0</td>\n",
       "      <td>0.0</td>\n",
       "    </tr>\n",
       "    <tr>\n",
       "      <th>HEPKB2</th>\n",
       "      <td>0.0</td>\n",
       "      <td>2.0</td>\n",
       "      <td>12.0</td>\n",
       "      <td>6.0</td>\n",
       "      <td>7.0</td>\n",
       "      <td>0.0</td>\n",
       "    </tr>\n",
       "    <tr>\n",
       "      <th>HEPKA2</th>\n",
       "      <td>0.0</td>\n",
       "      <td>10.0</td>\n",
       "      <td>-20.0</td>\n",
       "      <td>0.0</td>\n",
       "      <td>0.0</td>\n",
       "      <td>0.0</td>\n",
       "    </tr>\n",
       "    <tr>\n",
       "      <th>UAG4Ei</th>\n",
       "      <td>0.0</td>\n",
       "      <td>2.0</td>\n",
       "      <td>0.0</td>\n",
       "      <td>0.0</td>\n",
       "      <td>0.0</td>\n",
       "      <td>0.0</td>\n",
       "    </tr>\n",
       "    <tr>\n",
       "      <th>4PHACTE</th>\n",
       "      <td>0.0</td>\n",
       "      <td>-5.0</td>\n",
       "      <td>-5.0</td>\n",
       "      <td>0.0</td>\n",
       "      <td>0.0</td>\n",
       "      <td>0.0</td>\n",
       "    </tr>\n",
       "    <tr>\n",
       "      <th>34PHACTE</th>\n",
       "      <td>0.0</td>\n",
       "      <td>-4.0</td>\n",
       "      <td>-4.0</td>\n",
       "      <td>-1.0</td>\n",
       "      <td>0.0</td>\n",
       "      <td>0.0</td>\n",
       "    </tr>\n",
       "    <tr>\n",
       "      <th>2PHACTE</th>\n",
       "      <td>0.0</td>\n",
       "      <td>-5.0</td>\n",
       "      <td>-5.0</td>\n",
       "      <td>0.0</td>\n",
       "      <td>0.0</td>\n",
       "      <td>0.0</td>\n",
       "    </tr>\n",
       "    <tr>\n",
       "      <th>3PHACOAOR</th>\n",
       "      <td>0.0</td>\n",
       "      <td>4.0</td>\n",
       "      <td>0.0</td>\n",
       "      <td>0.0</td>\n",
       "      <td>0.0</td>\n",
       "      <td>0.0</td>\n",
       "    </tr>\n",
       "    <tr>\n",
       "      <th>3NTYROXDApp</th>\n",
       "      <td>0.0</td>\n",
       "      <td>1.0</td>\n",
       "      <td>0.0</td>\n",
       "      <td>0.0</td>\n",
       "      <td>0.0</td>\n",
       "      <td>0.0</td>\n",
       "    </tr>\n",
       "    <tr>\n",
       "      <th>4H3NALDD</th>\n",
       "      <td>0.0</td>\n",
       "      <td>1.0</td>\n",
       "      <td>0.0</td>\n",
       "      <td>0.0</td>\n",
       "      <td>0.0</td>\n",
       "      <td>0.0</td>\n",
       "    </tr>\n",
       "    <tr>\n",
       "      <th>SALCHS2FEexs</th>\n",
       "      <td>0.0</td>\n",
       "      <td>-3.0</td>\n",
       "      <td>0.0</td>\n",
       "      <td>0.0</td>\n",
       "      <td>0.0</td>\n",
       "      <td>0.0</td>\n",
       "    </tr>\n",
       "    <tr>\n",
       "      <th>CLBH</th>\n",
       "      <td>0.0</td>\n",
       "      <td>0.0</td>\n",
       "      <td>2.0</td>\n",
       "      <td>1.0</td>\n",
       "      <td>0.0</td>\n",
       "      <td>0.0</td>\n",
       "    </tr>\n",
       "    <tr>\n",
       "      <th>PENAM</th>\n",
       "      <td>0.0</td>\n",
       "      <td>0.0</td>\n",
       "      <td>-1.0</td>\n",
       "      <td>0.0</td>\n",
       "      <td>0.0</td>\n",
       "      <td>0.0</td>\n",
       "    </tr>\n",
       "    <tr>\n",
       "      <th>4H3NPACAM</th>\n",
       "      <td>0.0</td>\n",
       "      <td>0.0</td>\n",
       "      <td>-1.0</td>\n",
       "      <td>0.0</td>\n",
       "      <td>0.0</td>\n",
       "      <td>0.0</td>\n",
       "    </tr>\n",
       "  </tbody>\n",
       "</table>\n",
       "</div>"
      ],
      "text/plain": [
       "                R  charge     H     O     C    N\n",
       "PUACGAMS     -1.0     0.0   0.0   0.0   0.0  0.0\n",
       "CLB6PH        0.0    -2.0   2.0   1.0   0.0  0.0\n",
       "CLBptspp      0.0     2.0   0.0   0.0   0.0  0.0\n",
       "SALSYN        0.0     1.0   0.0   0.0   0.0  0.0\n",
       "MMM2          0.0     5.0   0.0   0.0   0.0  0.0\n",
       "ACGAL6PI      0.0    -2.0  -5.0   0.0  -2.0 -1.0\n",
       "ACGAL6PISO    0.0     1.0   0.0  -2.0  -2.0  1.0\n",
       "GALR1TRA2     0.0   -11.0  43.0  12.0  15.0  0.0\n",
       "HEPKB2        0.0     2.0  12.0   6.0   7.0  0.0\n",
       "HEPKA2        0.0    10.0 -20.0   0.0   0.0  0.0\n",
       "UAG4Ei        0.0     2.0   0.0   0.0   0.0  0.0\n",
       "4PHACTE       0.0    -5.0  -5.0   0.0   0.0  0.0\n",
       "34PHACTE      0.0    -4.0  -4.0  -1.0   0.0  0.0\n",
       "2PHACTE       0.0    -5.0  -5.0   0.0   0.0  0.0\n",
       "3PHACOAOR     0.0     4.0   0.0   0.0   0.0  0.0\n",
       "3NTYROXDApp   0.0     1.0   0.0   0.0   0.0  0.0\n",
       "4H3NALDD      0.0     1.0   0.0   0.0   0.0  0.0\n",
       "SALCHS2FEexs  0.0    -3.0   0.0   0.0   0.0  0.0\n",
       "CLBH          0.0     0.0   2.0   1.0   0.0  0.0\n",
       "PENAM         0.0     0.0  -1.0   0.0   0.0  0.0\n",
       "4H3NPACAM     0.0     0.0  -1.0   0.0   0.0  0.0"
      ]
     },
     "execution_count": 84,
     "metadata": {},
     "output_type": "execute_result"
    }
   ],
   "source": [
    "imbalance_df = imbalance_rxn(modelCopy)\n",
    "imbalance_df"
   ]
  },
  {
   "cell_type": "markdown",
   "metadata": {},
   "source": [
    "### PUACGAMS\n",
    "Poly-?-1,6-N-acetyl-D-glucosamine synthase"
   ]
  },
  {
   "cell_type": "code",
   "execution_count": 85,
   "metadata": {},
   "outputs": [
    {
     "data": {
      "text/html": [
       "\n",
       "        <table>\n",
       "            <tr>\n",
       "                <td><strong>Reaction identifier</strong></td><td>PUACGAMS</td>\n",
       "            </tr><tr>\n",
       "                <td><strong>Name</strong></td><td>Poly-?-1,6-N-acetyl-D-glucosamine synthase</td>\n",
       "            </tr><tr>\n",
       "                <td><strong>Memory address</strong></td>\n",
       "                <td>0x01ab9a4bea48</td>\n",
       "            </tr><tr>\n",
       "                <td><strong>Stoichiometry</strong></td>\n",
       "                <td>\n",
       "                    <p style='text-align:right'>puacgam_c + udp_c <=> uacgam_c</p>\n",
       "                    <p style='text-align:right'>Poly-?-1,6-N-acetyl-D-glucosamine + UDP C9H11N2O12P2 <=> UDP-N-acetyl-D-glucosamine</p>\n",
       "                </td>\n",
       "            </tr><tr>\n",
       "                <td><strong>GPR</strong></td><td>CIW80_23080 and CIW80_23085</td>\n",
       "            </tr><tr>\n",
       "                <td><strong>Lower bound</strong></td><td>-1000.0</td>\n",
       "            </tr><tr>\n",
       "                <td><strong>Upper bound</strong></td><td>1000.0</td>\n",
       "            </tr>\n",
       "        </table>\n",
       "        "
      ],
      "text/plain": [
       "<Reaction PUACGAMS at 0x1ab9a4bea48>"
      ]
     },
     "execution_count": 85,
     "metadata": {},
     "output_type": "execute_result"
    }
   ],
   "source": [
    "modelCopy.reactions.PUACGAMS"
   ]
  },
  {
   "cell_type": "code",
   "execution_count": 86,
   "metadata": {},
   "outputs": [
    {
     "data": {
      "text/plain": [
       "{'R': -1.0}"
      ]
     },
     "execution_count": 86,
     "metadata": {},
     "output_type": "execute_result"
    }
   ],
   "source": [
    "modelCopy.reactions.PUACGAMS.check_mass_balance()"
   ]
  },
  {
   "cell_type": "markdown",
   "metadata": {},
   "source": [
    "Involves R-group, cannot be balanced."
   ]
  },
  {
   "cell_type": "markdown",
   "metadata": {},
   "source": [
    "### UAG4Ei"
   ]
  },
  {
   "cell_type": "code",
   "execution_count": 87,
   "metadata": {},
   "outputs": [
    {
     "data": {
      "text/plain": [
       "'uacgam_c --> udpacgal_c'"
      ]
     },
     "execution_count": 87,
     "metadata": {},
     "output_type": "execute_result"
    }
   ],
   "source": [
    "modelCopy.reactions.UAG4Ei.reaction"
   ]
  },
  {
   "cell_type": "code",
   "execution_count": 88,
   "metadata": {},
   "outputs": [
    {
     "data": {
      "text/plain": [
       "0"
      ]
     },
     "execution_count": 88,
     "metadata": {},
     "output_type": "execute_result"
    }
   ],
   "source": [
    "modelCopy.metabolites.udpacgal_c.charge"
   ]
  },
  {
   "cell_type": "code",
   "execution_count": 89,
   "metadata": {},
   "outputs": [],
   "source": [
    "# udpacgal_c has the same formula as uacgam_c, but is missing the charge\n",
    "modelCopy.metabolites.get_by_id('udpacgal_c').charge = -2"
   ]
  },
  {
   "cell_type": "code",
   "execution_count": 90,
   "metadata": {},
   "outputs": [
    {
     "data": {
      "text/plain": [
       "{}"
      ]
     },
     "execution_count": 90,
     "metadata": {},
     "output_type": "execute_result"
    }
   ],
   "source": [
    "modelCopy.reactions.UAG4Ei.check_mass_balance()"
   ]
  },
  {
   "cell_type": "markdown",
   "metadata": {},
   "source": [
    "### CLB6PH & CLBptspp\n",
    "Cellobiose hydrolase"
   ]
  },
  {
   "cell_type": "code",
   "execution_count": 91,
   "metadata": {},
   "outputs": [
    {
     "data": {
      "text/plain": [
       "{'charge': -2.0, 'H': 2.0, 'O': 1.0}"
      ]
     },
     "execution_count": 91,
     "metadata": {},
     "output_type": "execute_result"
    }
   ],
   "source": [
    "# Looks like there is a water missing in the reaction \n",
    "# and something is wrong in charge\n",
    "modelCopy.reactions.CLB6PH.check_mass_balance()"
   ]
  },
  {
   "cell_type": "code",
   "execution_count": 92,
   "metadata": {},
   "outputs": [
    {
     "data": {
      "text/plain": [
       "'cellb6p_c --> g6p_c + glc__D_c'"
      ]
     },
     "execution_count": 92,
     "metadata": {},
     "output_type": "execute_result"
    }
   ],
   "source": [
    "modelCopy.reactions.CLB6PH.reaction"
   ]
  },
  {
   "cell_type": "code",
   "execution_count": 93,
   "metadata": {},
   "outputs": [],
   "source": [
    "# Based on KeGG, cellb6p_c should have a charge of -2 with the current formula\n",
    "# https://www.genome.jp/dbget-bin/www_bget?C04534+C21152\n",
    "# Additionally a water molecule is consumed in this reaction\n",
    "modelCopy.metabolites.cellb6p_c.charge = -2\n",
    "modelCopy.reactions.CLB6PH.add_metabolites({'h2o_c': -1.0})"
   ]
  },
  {
   "cell_type": "code",
   "execution_count": 94,
   "metadata": {},
   "outputs": [
    {
     "data": {
      "text/plain": [
       "{}"
      ]
     },
     "execution_count": 94,
     "metadata": {},
     "output_type": "execute_result"
    }
   ],
   "source": [
    "modelCopy.reactions.CLBptspp.check_mass_balance()"
   ]
  },
  {
   "cell_type": "markdown",
   "metadata": {},
   "source": [
    "### SALSYN\n",
    "Salicylate synthase"
   ]
  },
  {
   "cell_type": "code",
   "execution_count": 95,
   "metadata": {},
   "outputs": [
    {
     "data": {
      "text/plain": [
       "{'charge': 1.0}"
      ]
     },
     "execution_count": 95,
     "metadata": {},
     "output_type": "execute_result"
    }
   ],
   "source": [
    "modelCopy.reactions.SALSYN.check_mass_balance()"
   ]
  },
  {
   "cell_type": "code",
   "execution_count": 96,
   "metadata": {},
   "outputs": [
    {
     "data": {
      "text/plain": [
       "'ichor_c --> pyr_c + salc_c'"
      ]
     },
     "execution_count": 96,
     "metadata": {},
     "output_type": "execute_result"
    }
   ],
   "source": [
    "modelCopy.reactions.SALSYN.reaction"
   ]
  },
  {
   "cell_type": "code",
   "execution_count": 97,
   "metadata": {},
   "outputs": [],
   "source": [
    "# Both pyruvate and salicylate can have no and -1 charge\n",
    "# Since pyruvate is properly balanced in other reactions, while salicylate\n",
    "# ...is only in this reaction, the charge of salc_c is changed\n",
    "modelCopy.metabolites.salc_c.charge = -1"
   ]
  },
  {
   "cell_type": "code",
   "execution_count": 98,
   "metadata": {},
   "outputs": [
    {
     "data": {
      "text/plain": [
       "{}"
      ]
     },
     "execution_count": 98,
     "metadata": {},
     "output_type": "execute_result"
    }
   ],
   "source": [
    "modelCopy.reactions.SALSYN.check_mass_balance()"
   ]
  },
  {
   "cell_type": "markdown",
   "metadata": {},
   "source": [
    "### MMM2\n",
    "Methylmalonyl-CoA mutase"
   ]
  },
  {
   "cell_type": "code",
   "execution_count": 99,
   "metadata": {},
   "outputs": [
    {
     "data": {
      "text/plain": [
       "{'charge': 5.0}"
      ]
     },
     "execution_count": 99,
     "metadata": {},
     "output_type": "execute_result"
    }
   ],
   "source": [
    "modelCopy.reactions.MMM2.check_mass_balance()"
   ]
  },
  {
   "cell_type": "code",
   "execution_count": 100,
   "metadata": {},
   "outputs": [
    {
     "data": {
      "text/plain": [
       "'succoa_c --> mmcoa__R_c'"
      ]
     },
     "execution_count": 100,
     "metadata": {},
     "output_type": "execute_result"
    }
   ],
   "source": [
    "modelCopy.reactions.MMM2.reaction"
   ]
  },
  {
   "cell_type": "code",
   "execution_count": 101,
   "metadata": {},
   "outputs": [],
   "source": [
    "# mmcoa__R_c can be both non-charged and -5 charged. \n",
    "# http://bigg.ucsd.edu/models/universal/metabolites/mmcoa__R\n",
    "\n",
    "# Based on the reaction, here it should be -5 (succoa_c is properly balanced in the other reactions its involved in)\n",
    "modelCopy.metabolites.mmcoa__R_c.charge = -5"
   ]
  },
  {
   "cell_type": "code",
   "execution_count": 102,
   "metadata": {},
   "outputs": [
    {
     "data": {
      "text/plain": [
       "{}"
      ]
     },
     "execution_count": 102,
     "metadata": {},
     "output_type": "execute_result"
    }
   ],
   "source": [
    "modelCopy.reactions.MMM2.check_mass_balance()"
   ]
  },
  {
   "cell_type": "markdown",
   "metadata": {},
   "source": [
    "### ACGAL6PI & ACGAL6PISO\n",
    "ACGAL6PI: Galactosamine-6-phosphate isomerase <br>\n",
    "ACGAL6PISO: D Galactosamine 6 phosphate isomerase"
   ]
  },
  {
   "cell_type": "code",
   "execution_count": 103,
   "metadata": {},
   "outputs": [
    {
     "data": {
      "text/html": [
       "\n",
       "        <table>\n",
       "            <tr>\n",
       "                <td><strong>Reaction identifier</strong></td><td>ACGAL6PI</td>\n",
       "            </tr><tr>\n",
       "                <td><strong>Name</strong></td><td>Galactosamine-6-phosphate isomerase</td>\n",
       "            </tr><tr>\n",
       "                <td><strong>Memory address</strong></td>\n",
       "                <td>0x01ab9a49fd88</td>\n",
       "            </tr><tr>\n",
       "                <td><strong>Stoichiometry</strong></td>\n",
       "                <td>\n",
       "                    <p style='text-align:right'>acgal6p_c --> tag6p__D_c</p>\n",
       "                    <p style='text-align:right'>N Acetyl D galactosamine 6 phosphate C8H16NO9P --> D-Tagatose 6-phosphate</p>\n",
       "                </td>\n",
       "            </tr><tr>\n",
       "                <td><strong>GPR</strong></td><td>CIW80_10195</td>\n",
       "            </tr><tr>\n",
       "                <td><strong>Lower bound</strong></td><td>0.0</td>\n",
       "            </tr><tr>\n",
       "                <td><strong>Upper bound</strong></td><td>1000.0</td>\n",
       "            </tr>\n",
       "        </table>\n",
       "        "
      ],
      "text/plain": [
       "<Reaction ACGAL6PI at 0x1ab9a49fd88>"
      ]
     },
     "execution_count": 103,
     "metadata": {},
     "output_type": "execute_result"
    }
   ],
   "source": [
    "# Check the mass balance\n",
    "modelCopy.reactions.ACGAL6PI\n",
    "# modelCopy.reactions.ACGAL6PI.check_mass_balance()"
   ]
  },
  {
   "cell_type": "code",
   "execution_count": 104,
   "metadata": {
    "scrolled": true
   },
   "outputs": [
    {
     "data": {
      "text/plain": [
       "{'charge': 1.0, 'C': -2.0, 'N': 1.0, 'O': -2.0}"
      ]
     },
     "execution_count": 104,
     "metadata": {},
     "output_type": "execute_result"
    }
   ],
   "source": [
    "# modelCopy.reactions.ACGAL6PI.reaction\n",
    "modelCopy.reactions.ACGAL6PISO.check_mass_balance()"
   ]
  },
  {
   "cell_type": "code",
   "execution_count": 105,
   "metadata": {},
   "outputs": [
    {
     "data": {
      "text/html": [
       "\n",
       "        <table>\n",
       "            <tr>\n",
       "                <td><strong>Metabolite identifier</strong></td><td>acgal6p_c</td>\n",
       "            </tr><tr>\n",
       "                <td><strong>Name</strong></td><td>N Acetyl D galactosamine 6 phosphate C8H16NO9P</td>\n",
       "            </tr><tr>\n",
       "                <td><strong>Memory address</strong></td>\n",
       "                <td>0x01ab9948b748</td>\n",
       "            </tr><tr>\n",
       "                <td><strong>Formula</strong></td><td>C8H16NO9P</td>\n",
       "            </tr><tr>\n",
       "                <td><strong>Compartment</strong></td><td>c</td>\n",
       "            </tr><tr>\n",
       "                <td><strong>In 3 reaction(s)</strong></td><td>\n",
       "                    ACGALptspp, ACGAL6PISO, ACGAL6PI</td>\n",
       "            </tr>\n",
       "        </table>"
      ],
      "text/plain": [
       "<Metabolite acgal6p_c at 0x1ab9948b748>"
      ]
     },
     "execution_count": 105,
     "metadata": {},
     "output_type": "execute_result"
    }
   ],
   "source": [
    "modelCopy.metabolites.acgal6p_c\n",
    "# modelCopy.metabolites.tag6p__D_c\n",
    "# modelCopy.metabolites.galam6p_c\n",
    "# modelCopy.metabolites.galam6p_c"
   ]
  },
  {
   "cell_type": "markdown",
   "metadata": {},
   "source": [
    "The conversion of GalNAc-6-P (N-Acetyl D-Galactosamine-6-phosphate) to Tag-6-P (D-Tagatose 6-phosphate) is originally descriped as a two step reaction via GalN-6-P (D-Galactosamine-6-phosphate), catalised by the product of genes AgaA (GalNAc-6-phosphate deacetylase) and AgaS (GalN-6-P deaminase). AgAI, which is currently linked to this reaction in the model was found to not be involved in the deamination and isomerization of D-Galactosamine-6-phosphate.\n",
    "- https://pubmed.ncbi.nlm.nih.gov/8932697/\n",
    "- https://www.sciencedirect.com/science/article/pii/S0021925820478275?via%3Dihub\n",
    "- https://www.ncbi.nlm.nih.gov/pmc/articles/PMC3668189/\n",
    "\n",
    "The two reactions are as follows:\n",
    "- GalNac-6-P + H2O --> GalN-6-P + Acetate (AgA) > ACGAL6PISO, but with acetate\n",
    "- GalN-6-P + H2O --> Tag-6-P + Ammonium (AgaS) > GALAM6PISO\n",
    "\n",
    "The AgaS gene needs to be added to the model. AgaA (and AgaE & AgaF) are present, but missing a name in the model."
   ]
  },
  {
   "cell_type": "code",
   "execution_count": 106,
   "metadata": {},
   "outputs": [],
   "source": [
    "# # Remove the reaction\n",
    "modelCopy.remove_reactions(['ACGAL6PI'])\n",
    "\n",
    "### First reaction\n",
    "# Adapt ACGAL6PISO\n",
    "modelCopy.reactions.ACGAL6PISO.add_metabolites({'nh4_c': -1.0})\n",
    "modelCopy.reactions.ACGAL6PISO.add_metabolites({'ac_c': 1.0})\n",
    "modelCopy.reactions.ACGAL6PISO.add_metabolites({'h_c': 1.0}) # Additionally add a proton, to get the mass balance right\n",
    "\n",
    "# # Rename the reaction id, name and correct associated gene\n",
    "modelCopy.reactions.ACGAL6PISO.id = 'ACGAL6PDA'\n",
    "modelCopy.reactions.ACGAL6PDA.name = 'N-Acetyl D-galactosamine-6-phosphate deacetylation'\n",
    "modelCopy.reactions.ACGAL6PDA.gene_reaction_rule = 'CIW80_10165'\n",
    "\n",
    "### Second reaction\n",
    "# Rename the reaction name and correct associated gene\n",
    "modelCopy.reactions.GALAM6PISO.name = 'Galactosamine-6-phosphate deaminase'\n",
    "modelCopy.reactions.GALAM6PISO.gene_reaction_rule = 'CIW80_10170'\n",
    "\n",
    "### Gene names\n",
    "modelCopy.genes.CIW80_10155.name = 'AgaE'\n",
    "modelCopy.genes.CIW80_10160.name = 'AgaF'\n",
    "modelCopy.genes.CIW80_10165.name = 'AgaA'\n",
    "modelCopy.genes.CIW80_10170.name = 'AgaS'"
   ]
  },
  {
   "cell_type": "code",
   "execution_count": 107,
   "metadata": {},
   "outputs": [
    {
     "data": {
      "text/plain": [
       "{}"
      ]
     },
     "execution_count": 107,
     "metadata": {},
     "output_type": "execute_result"
    }
   ],
   "source": [
    "modelCopy.reactions.ACGAL6PDA.check_mass_balance()"
   ]
  },
  {
   "cell_type": "code",
   "execution_count": 108,
   "metadata": {},
   "outputs": [
    {
     "data": {
      "text/html": [
       "\n",
       "        <table>\n",
       "            <tr>\n",
       "                <td><strong>Reaction identifier</strong></td><td>ACGAL6PDA</td>\n",
       "            </tr><tr>\n",
       "                <td><strong>Name</strong></td><td>N-Acetyl D-galactosamine-6-phosphate deacetylation</td>\n",
       "            </tr><tr>\n",
       "                <td><strong>Memory address</strong></td>\n",
       "                <td>0x01ab9a49fac8</td>\n",
       "            </tr><tr>\n",
       "                <td><strong>Stoichiometry</strong></td>\n",
       "                <td>\n",
       "                    <p style='text-align:right'>acgal6p_c + h2o_c --> ac_c + galam6p_c + h_c</p>\n",
       "                    <p style='text-align:right'>N Acetyl D galactosamine 6 phosphate C8H16NO9P + H2O H2O --> Acetate + D Galactosamine 6 phosphate C6H14NO8P + H+</p>\n",
       "                </td>\n",
       "            </tr><tr>\n",
       "                <td><strong>GPR</strong></td><td>CIW80_10165</td>\n",
       "            </tr><tr>\n",
       "                <td><strong>Lower bound</strong></td><td>0.0</td>\n",
       "            </tr><tr>\n",
       "                <td><strong>Upper bound</strong></td><td>1000.0</td>\n",
       "            </tr>\n",
       "        </table>\n",
       "        "
      ],
      "text/plain": [
       "<Reaction ACGAL6PDA at 0x1ab9a49fac8>"
      ]
     },
     "execution_count": 108,
     "metadata": {},
     "output_type": "execute_result"
    }
   ],
   "source": [
    "modelCopy.reactions.ACGAL6PDA"
   ]
  },
  {
   "cell_type": "code",
   "execution_count": 109,
   "metadata": {},
   "outputs": [],
   "source": [
    "# Update rxn_origin table\n",
    "rxn_origin_df.loc['ACGAL6PI', 'added'] = 'removed'\n",
    "rxn_origin_df.loc['ACGAL6PI', 'notes'] = 'Reaction removed in 4.2. Replaced by two other reactions, ACGAL6PDA and GALAM6PISO'\n",
    "\n",
    "rxn_origin_df.loc['ACGAL6PISO', 'added'] = 'removed'\n",
    "rxn_origin_df.loc['ACGAL6PISO', 'notes'] = 'Reaction was changed to ACGAL6PDA in 4.2'\n",
    "\n",
    "rxn_origin_df.loc['ACGAL6PDA', 'origin'] = 'New Reaction'\n",
    "rxn_origin_df.loc['ACGAL6PDA', 'added'] = 'manual'\n",
    "rxn_origin_df.loc['ACGAL6PDA', 'notebook'] = '4.2'\n",
    "rxn_origin_df.loc['ACGAL6PDA', 'notes'] = 'Reaction added in 4.2. Replaces one step of the reaction ACGAL6PISO'\n",
    "\n",
    "rxn_origin_df.loc['GALAM6PISO', 'notes'] = 'Associated gene corrected to \"CIW80_10170\"  in 4.2'\n",
    "\n",
    "# Update gene_origin table\n",
    "gene_origin_df.loc[gene_origin_df.EcN_gene == 'CIW80_10195', 'added'] = 'removed'\n",
    "gene_origin_df.loc[gene_origin_df.EcN_gene == 'CIW80_10195', 'notes'] = 'Associated reaction \"ACGAL6PI\" was removed. Associated reaction \"ACGAL6PISO\" was changed to \"ACGAL6PDA\" with GPR to \"CIW80_10165\". Associated reaction GALAM6PISO was changed to GPR CIW80_10170 in notebook 4.2'\n",
    "\n",
    "gene_origin_df.loc[gene_origin_df.EcN_gene == 'CIW80_10165', 'gene'] = 'agaA'\n",
    "gene_origin_df.loc[gene_origin_df.EcN_gene == 'CIW80_10165', 'origin'] = 'New reaction'\n",
    "gene_origin_df.loc[gene_origin_df.EcN_gene == 'CIW80_10165', 'added'] = 'manual'\n",
    "gene_origin_df.loc[gene_origin_df.EcN_gene == 'CIW80_10165', 'notebook'] = '4.2'\n",
    "gene_origin_df.loc[gene_origin_df.EcN_gene == 'CIW80_10165', 'notes'] = 'ACGAL6PDA was associated to this gene in notebook 4.2'\n",
    "\n",
    "gene_origin_df.loc[gene_origin_df.EcN_gene == 'CIW80_10170', 'gene'] = 'agaS'\n",
    "gene_origin_df.loc[gene_origin_df.EcN_gene == 'CIW80_10170', 'origin'] = gene_origin_df.loc[gene_origin_df.EcN_gene == 'CIW80_10195', 'origin']\n",
    "gene_origin_df.loc[gene_origin_df.EcN_gene == 'CIW80_10170', 'added'] = 'manual'\n",
    "gene_origin_df.loc[gene_origin_df.EcN_gene == 'CIW80_10170', 'notebook'] = '4.2'\n",
    "gene_origin_df.loc[gene_origin_df.EcN_gene == 'CIW80_10170', 'notes'] = 'GALAM6PISO was associated to this gene in notebook 4.2'\n",
    "\n",
    "gene_origin_df.loc[gene_origin_df.EcN_gene == 'CIW80_10155', 'notes'] = 'Name updated to AgAE in notebook 4.2'\n",
    "gene_origin_df.loc[gene_origin_df.EcN_gene == 'CIW80_10160', 'notes'] = 'Name updated to AgAF in notebook 4.2'\n",
    "\n",
    "# Remove from imbalance list\n",
    "imbalance_list.remove('ACGAL6PI')\n",
    "imbalance_list.remove('ACGAL6PISO')\n",
    "imbalance_list.remove('GALAM6PISO')"
   ]
  },
  {
   "cell_type": "code",
   "execution_count": 110,
   "metadata": {},
   "outputs": [
    {
     "data": {
      "text/html": [
       "<div>\n",
       "<style scoped>\n",
       "    .dataframe tbody tr th:only-of-type {\n",
       "        vertical-align: middle;\n",
       "    }\n",
       "\n",
       "    .dataframe tbody tr th {\n",
       "        vertical-align: top;\n",
       "    }\n",
       "\n",
       "    .dataframe thead th {\n",
       "        text-align: right;\n",
       "    }\n",
       "</style>\n",
       "<table border=\"1\" class=\"dataframe\">\n",
       "  <thead>\n",
       "    <tr style=\"text-align: right;\">\n",
       "      <th></th>\n",
       "      <th>EcN_gene</th>\n",
       "      <th>origin</th>\n",
       "      <th>added</th>\n",
       "      <th>notebook</th>\n",
       "      <th>notes</th>\n",
       "      <th>gene</th>\n",
       "    </tr>\n",
       "    <tr>\n",
       "      <th>gene</th>\n",
       "      <th></th>\n",
       "      <th></th>\n",
       "      <th></th>\n",
       "      <th></th>\n",
       "      <th></th>\n",
       "      <th></th>\n",
       "    </tr>\n",
       "  </thead>\n",
       "  <tbody>\n",
       "    <tr>\n",
       "      <th>b2551</th>\n",
       "      <td>CIW80_06560</td>\n",
       "      <td>iML1515</td>\n",
       "      <td>automatic</td>\n",
       "      <td>3.1</td>\n",
       "      <td>none</td>\n",
       "      <td>NaN</td>\n",
       "    </tr>\n",
       "    <tr>\n",
       "      <th>b0870</th>\n",
       "      <td>CIW80_22360</td>\n",
       "      <td>iML1515</td>\n",
       "      <td>automatic</td>\n",
       "      <td>3.1</td>\n",
       "      <td>none</td>\n",
       "      <td>NaN</td>\n",
       "    </tr>\n",
       "    <tr>\n",
       "      <th>b3368</th>\n",
       "      <td>CIW80_11380</td>\n",
       "      <td>iML1515</td>\n",
       "      <td>automatic</td>\n",
       "      <td>3.1</td>\n",
       "      <td>none</td>\n",
       "      <td>NaN</td>\n",
       "    </tr>\n",
       "    <tr>\n",
       "      <th>b2436</th>\n",
       "      <td>CIW80_06055</td>\n",
       "      <td>iML1515</td>\n",
       "      <td>automatic</td>\n",
       "      <td>3.1</td>\n",
       "      <td>none</td>\n",
       "      <td>NaN</td>\n",
       "    </tr>\n",
       "    <tr>\n",
       "      <th>b3500</th>\n",
       "      <td>CIW80_12105</td>\n",
       "      <td>iML1515</td>\n",
       "      <td>automatic</td>\n",
       "      <td>3.1</td>\n",
       "      <td>none</td>\n",
       "      <td>NaN</td>\n",
       "    </tr>\n",
       "    <tr>\n",
       "      <th>...</th>\n",
       "      <td>...</td>\n",
       "      <td>...</td>\n",
       "      <td>...</td>\n",
       "      <td>...</td>\n",
       "      <td>...</td>\n",
       "      <td>...</td>\n",
       "    </tr>\n",
       "    <tr>\n",
       "      <th>SbBS512_E0724</th>\n",
       "      <td>CIW80_05020</td>\n",
       "      <td>iSbBS512_1146</td>\n",
       "      <td>automatic</td>\n",
       "      <td>3.1</td>\n",
       "      <td>none</td>\n",
       "      <td>NaN</td>\n",
       "    </tr>\n",
       "    <tr>\n",
       "      <th>SFxv_2588</th>\n",
       "      <td>CIW80_05275</td>\n",
       "      <td>iSFxv_1172</td>\n",
       "      <td>automatic</td>\n",
       "      <td>3.1</td>\n",
       "      <td>none</td>\n",
       "      <td>NaN</td>\n",
       "    </tr>\n",
       "    <tr>\n",
       "      <th>SFxv_4366</th>\n",
       "      <td>CIW80_14645</td>\n",
       "      <td>iSFxv_1172</td>\n",
       "      <td>automatic</td>\n",
       "      <td>3.1</td>\n",
       "      <td>none</td>\n",
       "      <td>NaN</td>\n",
       "    </tr>\n",
       "    <tr>\n",
       "      <th>SFxv_0967</th>\n",
       "      <td>CIW80_21840</td>\n",
       "      <td>iSFxv_1172</td>\n",
       "      <td>automatic</td>\n",
       "      <td>3.1</td>\n",
       "      <td>none</td>\n",
       "      <td>NaN</td>\n",
       "    </tr>\n",
       "    <tr>\n",
       "      <th>S0001</th>\n",
       "      <td>CIW80_17680</td>\n",
       "      <td>iS_1188</td>\n",
       "      <td>automatic</td>\n",
       "      <td>3.1</td>\n",
       "      <td>none</td>\n",
       "      <td>NaN</td>\n",
       "    </tr>\n",
       "  </tbody>\n",
       "</table>\n",
       "<p>1541 rows × 6 columns</p>\n",
       "</div>"
      ],
      "text/plain": [
       "                  EcN_gene         origin      added notebook notes gene\n",
       "gene                                                                    \n",
       "b2551          CIW80_06560        iML1515  automatic      3.1  none  NaN\n",
       "b0870          CIW80_22360        iML1515  automatic      3.1  none  NaN\n",
       "b3368          CIW80_11380        iML1515  automatic      3.1  none  NaN\n",
       "b2436          CIW80_06055        iML1515  automatic      3.1  none  NaN\n",
       "b3500          CIW80_12105        iML1515  automatic      3.1  none  NaN\n",
       "...                    ...            ...        ...      ...   ...  ...\n",
       "SbBS512_E0724  CIW80_05020  iSbBS512_1146  automatic      3.1  none  NaN\n",
       "SFxv_2588      CIW80_05275     iSFxv_1172  automatic      3.1  none  NaN\n",
       "SFxv_4366      CIW80_14645     iSFxv_1172  automatic      3.1  none  NaN\n",
       "SFxv_0967      CIW80_21840     iSFxv_1172  automatic      3.1  none  NaN\n",
       "S0001          CIW80_17680        iS_1188  automatic      3.1  none  NaN\n",
       "\n",
       "[1541 rows x 6 columns]"
      ]
     },
     "execution_count": 110,
     "metadata": {},
     "output_type": "execute_result"
    }
   ],
   "source": [
    "gene_origin_df"
   ]
  },
  {
   "cell_type": "code",
   "execution_count": 111,
   "metadata": {},
   "outputs": [
    {
     "data": {
      "text/html": [
       "\n",
       "        <table>\n",
       "            <tr>\n",
       "                <td><strong>Gene identifier</strong></td><td>CIW80_10195</td>\n",
       "            </tr><tr>\n",
       "                <td><strong>Name</strong></td><td>agaI</td>\n",
       "            </tr><tr>\n",
       "                <td><strong>Memory address</strong></td>\n",
       "                <td>0x01ab9a679ac8</td>\n",
       "            </tr><tr>\n",
       "                <td><strong>Functional</strong></td><td>True</td>\n",
       "            </tr><tr>\n",
       "                <td><strong>In 0 reaction(s)</strong></td><td>\n",
       "                    </td>\n",
       "            </tr>\n",
       "        </table>"
      ],
      "text/plain": [
       "<Gene CIW80_10195 at 0x1ab9a679ac8>"
      ]
     },
     "execution_count": 111,
     "metadata": {},
     "output_type": "execute_result"
    }
   ],
   "source": [
    "modelCopy.genes.CIW80_10195"
   ]
  },
  {
   "cell_type": "markdown",
   "metadata": {},
   "source": [
    "### GALR1TRA2, HEPKA2 & HEPKB2\n",
    "GALR1TRA2: Galactosyltransferase II LPS R1 core synthesis\n",
    "<br>HEPKA2: LPS heptose kinase II LPS core synthesis\n",
    "<br>HEPKB2: LPS heptose kinase II LPS core synthesis"
   ]
  },
  {
   "cell_type": "code",
   "execution_count": 112,
   "metadata": {},
   "outputs": [
    {
     "data": {
      "text/plain": [
       "{'charge': -11.0, 'C': 15.0, 'H': 43.0, 'O': 12.0}"
      ]
     },
     "execution_count": 112,
     "metadata": {},
     "output_type": "execute_result"
    }
   ],
   "source": [
    "modelCopy.reactions.GALR1TRA2.check_mass_balance()"
   ]
  },
  {
   "cell_type": "code",
   "execution_count": 113,
   "metadata": {},
   "outputs": [
    {
     "data": {
      "text/plain": [
       "'gagggicolipaAR1_c + udpgal_c --> colipa_c + h_c + udp_c'"
      ]
     },
     "execution_count": 113,
     "metadata": {},
     "output_type": "execute_result"
    }
   ],
   "source": [
    "modelCopy.reactions.GALR1TRA2.reaction"
   ]
  },
  {
   "cell_type": "code",
   "execution_count": 114,
   "metadata": {},
   "outputs": [
    {
     "data": {
      "text/html": [
       "\n",
       "        <table>\n",
       "            <tr>\n",
       "                <td><strong>Metabolite identifier</strong></td><td>colipa_c</td>\n",
       "            </tr><tr>\n",
       "                <td><strong>Name</strong></td><td>Core oligosaccharide lipid A</td>\n",
       "            </tr><tr>\n",
       "                <td><strong>Memory address</strong></td>\n",
       "                <td>0x01ab99381908</td>\n",
       "            </tr><tr>\n",
       "                <td><strong>Formula</strong></td><td>C176H303N2O100P4</td>\n",
       "            </tr><tr>\n",
       "                <td><strong>Compartment</strong></td><td>c</td>\n",
       "            </tr><tr>\n",
       "                <td><strong>In 2 reaction(s)</strong></td><td>\n",
       "                    COLIPAabcpp, GALR1TRA2</td>\n",
       "            </tr>\n",
       "        </table>"
      ],
      "text/plain": [
       "<Metabolite colipa_c at 0x1ab99381908>"
      ]
     },
     "execution_count": 114,
     "metadata": {},
     "output_type": "execute_result"
    }
   ],
   "source": [
    "modelCopy.metabolites.colipa_c.formula\n",
    "modelCopy.metabolites.colipa_c  "
   ]
  },
  {
   "cell_type": "markdown",
   "metadata": {},
   "source": [
    "All three are part of LPS synthesis"
   ]
  },
  {
   "cell_type": "markdown",
   "metadata": {},
   "source": [
    "### 4PHACTE & 2PHACTE"
   ]
  },
  {
   "cell_type": "code",
   "execution_count": 115,
   "metadata": {},
   "outputs": [
    {
     "data": {
      "text/plain": [
       "{'charge': -5.0, 'H': -5.0}"
      ]
     },
     "execution_count": 115,
     "metadata": {},
     "output_type": "execute_result"
    }
   ],
   "source": [
    "modelCopy.reactions.get_by_id('4PHACTE').check_mass_balance()"
   ]
  },
  {
   "cell_type": "code",
   "execution_count": 116,
   "metadata": {},
   "outputs": [
    {
     "data": {
      "text/plain": [
       "'h2o_c + hphaccoa_c --> 4hphac_c + coa_c'"
      ]
     },
     "execution_count": 116,
     "metadata": {},
     "output_type": "execute_result"
    }
   ],
   "source": [
    "modelCopy.reactions.get_by_id('4PHACTE').reaction"
   ]
  },
  {
   "cell_type": "code",
   "execution_count": 117,
   "metadata": {},
   "outputs": [],
   "source": [
    "# hphaccoa_c was missing a formula before and therefore not identified in the proton addition round.\n",
    "# Add protons to reaction\n",
    "modelCopy.reactions.get_by_id('4PHACTE').add_metabolites({'h_c': 5.0})\n",
    "modelCopy.reactions.get_by_id('2PHACTE').add_metabolites({'h_c': 5.0})"
   ]
  },
  {
   "cell_type": "code",
   "execution_count": 118,
   "metadata": {},
   "outputs": [
    {
     "data": {
      "text/plain": [
       "{}"
      ]
     },
     "execution_count": 118,
     "metadata": {},
     "output_type": "execute_result"
    }
   ],
   "source": [
    "modelCopy.reactions.get_by_id('4PHACTE').check_mass_balance()"
   ]
  },
  {
   "cell_type": "code",
   "execution_count": 119,
   "metadata": {},
   "outputs": [
    {
     "data": {
      "text/plain": [
       "{}"
      ]
     },
     "execution_count": 119,
     "metadata": {},
     "output_type": "execute_result"
    }
   ],
   "source": [
    "modelCopy.reactions.get_by_id('2PHACTE').check_mass_balance()"
   ]
  },
  {
   "cell_type": "markdown",
   "metadata": {},
   "source": [
    "### 34PHACTE"
   ]
  },
  {
   "cell_type": "code",
   "execution_count": 120,
   "metadata": {},
   "outputs": [
    {
     "data": {
      "text/plain": [
       "{'charge': -4.0, 'H': -4.0, 'O': -1.0}"
      ]
     },
     "execution_count": 120,
     "metadata": {},
     "output_type": "execute_result"
    }
   ],
   "source": [
    "modelCopy.reactions.get_by_id('34PHACTE').check_mass_balance()"
   ]
  },
  {
   "cell_type": "code",
   "execution_count": 121,
   "metadata": {},
   "outputs": [
    {
     "data": {
      "text/html": [
       "\n",
       "        <table>\n",
       "            <tr>\n",
       "                <td><strong>Reaction identifier</strong></td><td>34PHACTE</td>\n",
       "            </tr><tr>\n",
       "                <td><strong>Name</strong></td><td>Phenylacetyl CoA thioesterase</td>\n",
       "            </tr><tr>\n",
       "                <td><strong>Memory address</strong></td>\n",
       "                <td>0x01ab9a48cbc8</td>\n",
       "            </tr><tr>\n",
       "                <td><strong>Stoichiometry</strong></td>\n",
       "                <td>\n",
       "                    <p style='text-align:right'>34dhphaccoa_c + h2o_c --> 34dhpac_c + coa_c</p>\n",
       "                    <p style='text-align:right'>3 4 Dihydroxyphenylacetyl CoA C29H42N7O19P3S + H2O H2O --> 3,4-Dihydroxyphenylacetaldehyde + Coenzyme A</p>\n",
       "                </td>\n",
       "            </tr><tr>\n",
       "                <td><strong>GPR</strong></td><td>CIW80_04380</td>\n",
       "            </tr><tr>\n",
       "                <td><strong>Lower bound</strong></td><td>0.0</td>\n",
       "            </tr><tr>\n",
       "                <td><strong>Upper bound</strong></td><td>1000.0</td>\n",
       "            </tr>\n",
       "        </table>\n",
       "        "
      ],
      "text/plain": [
       "<Reaction 34PHACTE at 0x1ab9a48cbc8>"
      ]
     },
     "execution_count": 121,
     "metadata": {},
     "output_type": "execute_result"
    }
   ],
   "source": [
    "modelCopy.reactions.get_by_id('34PHACTE')"
   ]
  },
  {
   "cell_type": "code",
   "execution_count": 122,
   "metadata": {},
   "outputs": [
    {
     "data": {
      "text/html": [
       "\n",
       "        <table>\n",
       "            <tr>\n",
       "                <td><strong>Reaction identifier</strong></td><td>34DHALDD</td>\n",
       "            </tr><tr>\n",
       "                <td><strong>Name</strong></td><td>Aldehyde dehydrogenase 3 4 dihydroxyphenylacetaldehyde NAD</td>\n",
       "            </tr><tr>\n",
       "                <td><strong>Memory address</strong></td>\n",
       "                <td>0x01ab9a48cd88</td>\n",
       "            </tr><tr>\n",
       "                <td><strong>Stoichiometry</strong></td>\n",
       "                <td>\n",
       "                    <p style='text-align:right'>34dhpac_c + h2o_c + nad_c --> 34dhpha_c + 2.0 h_c + nadh_c</p>\n",
       "                    <p style='text-align:right'>3,4-Dihydroxyphenylacetaldehyde + H2O H2O + Nicotinamide adenine dinucleotide --> 3-4-Dihydroxyphenylacetate + 2.0 H+ + Nicotinamide adenine dinucleotide - reduced</p>\n",
       "                </td>\n",
       "            </tr><tr>\n",
       "                <td><strong>GPR</strong></td><td>CIW80_04440</td>\n",
       "            </tr><tr>\n",
       "                <td><strong>Lower bound</strong></td><td>0.0</td>\n",
       "            </tr><tr>\n",
       "                <td><strong>Upper bound</strong></td><td>1000.0</td>\n",
       "            </tr>\n",
       "        </table>\n",
       "        "
      ],
      "text/plain": [
       "<Reaction 34DHALDD at 0x1ab9a48cd88>"
      ]
     },
     "execution_count": 122,
     "metadata": {},
     "output_type": "execute_result"
    }
   ],
   "source": [
    "modelCopy.reactions.get_by_id('34DHALDD')"
   ]
  },
  {
   "cell_type": "markdown",
   "metadata": {},
   "source": [
    "<font color = 'red'> Was not changed </font>\n",
    "\n",
    "The K-12 strain has a Phenylactyl-CoA thioesterase (PaaI), which converts 3,4-dihydroxyphenylacetyl-CoA directly to 3-4-dihydroxyphenylacetate, without the generation of NADH. \n",
    "- https://biocyc.org/META/NEW-IMAGE?type=REACTION&object=RXN0-5065\n",
    "\n",
    "The reaction 34DHALDD is described for Homo Sapiens.\n",
    "- https://biocyc.org/META/NEW-IMAGE?type=REACTION&object=RXN6666-5\n",
    "\n",
    "Could not find literature that clearly describes this reaction in E. coli. Not changed for the moment"
   ]
  },
  {
   "cell_type": "markdown",
   "metadata": {},
   "source": [
    "### 3PHACOAOR"
   ]
  },
  {
   "cell_type": "code",
   "execution_count": 123,
   "metadata": {},
   "outputs": [
    {
     "data": {
      "text/plain": [
       "{'charge': 4.0}"
      ]
     },
     "execution_count": 123,
     "metadata": {},
     "output_type": "execute_result"
    }
   ],
   "source": [
    "modelCopy.reactions.get_by_id('3PHACOAOR').check_mass_balance()"
   ]
  },
  {
   "cell_type": "code",
   "execution_count": 124,
   "metadata": {},
   "outputs": [
    {
     "data": {
      "text/plain": [
       "'h2_c + o2_c + phaccoa_c --> 3dhphaccoa_c'"
      ]
     },
     "execution_count": 124,
     "metadata": {},
     "output_type": "execute_result"
    }
   ],
   "source": [
    "modelCopy.reactions.get_by_id('3PHACOAOR').reaction"
   ]
  },
  {
   "cell_type": "code",
   "execution_count": 125,
   "metadata": {},
   "outputs": [
    {
     "data": {
      "text/plain": [
       "0"
      ]
     },
     "execution_count": 125,
     "metadata": {},
     "output_type": "execute_result"
    }
   ],
   "source": [
    "modelCopy.metabolites.get_by_id('3dhphaccoa_c').charge"
   ]
  },
  {
   "cell_type": "code",
   "execution_count": 126,
   "metadata": {},
   "outputs": [],
   "source": [
    "# Phenylacetyl-CoA has a charge of -4\n",
    "# As a result, 3dhphaccoa_c should also have a -4 charge\n",
    "modelCopy.metabolites.get_by_id('3dhphaccoa_c').charge = -4"
   ]
  },
  {
   "cell_type": "code",
   "execution_count": 127,
   "metadata": {},
   "outputs": [
    {
     "data": {
      "text/plain": [
       "{}"
      ]
     },
     "execution_count": 127,
     "metadata": {},
     "output_type": "execute_result"
    }
   ],
   "source": [
    "modelCopy.reactions.get_by_id('3PHACOAOR').check_mass_balance()"
   ]
  },
  {
   "cell_type": "markdown",
   "metadata": {},
   "source": [
    "### 3NTYROXDApp & 4H3NALDD & 4H3NPACAM"
   ]
  },
  {
   "cell_type": "code",
   "execution_count": 128,
   "metadata": {},
   "outputs": [
    {
     "data": {
      "text/plain": [
       "'3ntym_p + h2o_p + o2_p --> 4h3npacald_p + h2o2_p + nh4_p'"
      ]
     },
     "execution_count": 128,
     "metadata": {},
     "output_type": "execute_result"
    }
   ],
   "source": [
    "modelCopy.reactions.get_by_id('3NTYROXDApp').reaction"
   ]
  },
  {
   "cell_type": "code",
   "execution_count": 129,
   "metadata": {},
   "outputs": [
    {
     "data": {
      "text/plain": [
       "'4h3npacald_c + h2o_c + nad_c --> 4h3npac_c + 2.0 h_c + nadh_c'"
      ]
     },
     "execution_count": 129,
     "metadata": {},
     "output_type": "execute_result"
    }
   ],
   "source": [
    "modelCopy.reactions.get_by_id('4H3NALDD').reaction"
   ]
  },
  {
   "cell_type": "code",
   "execution_count": 130,
   "metadata": {},
   "outputs": [
    {
     "data": {
      "text/plain": [
       "'4h3npac_c + h2o_c --> 4hphac_c + nh4_c'"
      ]
     },
     "execution_count": 130,
     "metadata": {},
     "output_type": "execute_result"
    }
   ],
   "source": [
    "modelCopy.reactions.get_by_id('4H3NPACAM').reaction"
   ]
  },
  {
   "cell_type": "code",
   "execution_count": 131,
   "metadata": {},
   "outputs": [
    {
     "data": {
      "text/html": [
       "\n",
       "        <table>\n",
       "            <tr>\n",
       "                <td><strong>Metabolite identifier</strong></td><td>3ntym_p</td>\n",
       "            </tr><tr>\n",
       "                <td><strong>Name</strong></td><td>3 Nitrotyramine C8H15N2</td>\n",
       "            </tr><tr>\n",
       "                <td><strong>Memory address</strong></td>\n",
       "                <td>0x01ab9a76f548</td>\n",
       "            </tr><tr>\n",
       "                <td><strong>Formula</strong></td><td>C8H15N2</td>\n",
       "            </tr><tr>\n",
       "                <td><strong>Compartment</strong></td><td>p</td>\n",
       "            </tr><tr>\n",
       "                <td><strong>In 1 reaction(s)</strong></td><td>\n",
       "                    3NTYROXDApp</td>\n",
       "            </tr>\n",
       "        </table>"
      ],
      "text/plain": [
       "<Metabolite 3ntym_p at 0x1ab9a76f548>"
      ]
     },
     "execution_count": 131,
     "metadata": {},
     "output_type": "execute_result"
    }
   ],
   "source": [
    "# The formula of this compound is incorrect\n",
    "modelCopy.metabolites.get_by_id('3ntym_p')"
   ]
  },
  {
   "cell_type": "code",
   "execution_count": 132,
   "metadata": {},
   "outputs": [
    {
     "data": {
      "text/html": [
       "\n",
       "        <table>\n",
       "            <tr>\n",
       "                <td><strong>Metabolite identifier</strong></td><td>4h3npacald_p</td>\n",
       "            </tr><tr>\n",
       "                <td><strong>Name</strong></td><td>4 Hydroxy 3 Nitro Phenylacetaldehyde C8H11NO</td>\n",
       "            </tr><tr>\n",
       "                <td><strong>Memory address</strong></td>\n",
       "                <td>0x01ab9a76f288</td>\n",
       "            </tr><tr>\n",
       "                <td><strong>Formula</strong></td><td>C8H11NO</td>\n",
       "            </tr><tr>\n",
       "                <td><strong>Compartment</strong></td><td>p</td>\n",
       "            </tr><tr>\n",
       "                <td><strong>In 1 reaction(s)</strong></td><td>\n",
       "                    3NTYROXDApp</td>\n",
       "            </tr>\n",
       "        </table>"
      ],
      "text/plain": [
       "<Metabolite 4h3npacald_p at 0x1ab9a76f288>"
      ]
     },
     "execution_count": 132,
     "metadata": {},
     "output_type": "execute_result"
    }
   ],
   "source": [
    "# The formula of this compound is incorrect\n",
    "modelCopy.metabolites.get_by_id('4h3npacald_p')"
   ]
  },
  {
   "cell_type": "code",
   "execution_count": 133,
   "metadata": {},
   "outputs": [
    {
     "data": {
      "text/html": [
       "\n",
       "        <table>\n",
       "            <tr>\n",
       "                <td><strong>Metabolite identifier</strong></td><td>4h3npac_c</td>\n",
       "            </tr><tr>\n",
       "                <td><strong>Name</strong></td><td>4 Hydroxy 3 Nitro Phenylacetic acid C8H10NO2</td>\n",
       "            </tr><tr>\n",
       "                <td><strong>Memory address</strong></td>\n",
       "                <td>0x01ab9a76f0c8</td>\n",
       "            </tr><tr>\n",
       "                <td><strong>Formula</strong></td><td>C8H10NO2</td>\n",
       "            </tr><tr>\n",
       "                <td><strong>Compartment</strong></td><td>c</td>\n",
       "            </tr><tr>\n",
       "                <td><strong>In 2 reaction(s)</strong></td><td>\n",
       "                    4H3NPACAM, 4H3NALDD</td>\n",
       "            </tr>\n",
       "        </table>"
      ],
      "text/plain": [
       "<Metabolite 4h3npac_c at 0x1ab9a76f0c8>"
      ]
     },
     "execution_count": 133,
     "metadata": {},
     "output_type": "execute_result"
    }
   ],
   "source": [
    "# The formula of this compound is incorrect\n",
    "modelCopy.metabolites.get_by_id('4h3npac_c')"
   ]
  },
  {
   "cell_type": "code",
   "execution_count": 134,
   "metadata": {},
   "outputs": [
    {
     "data": {
      "text/html": [
       "\n",
       "        <table>\n",
       "            <tr>\n",
       "                <td><strong>Metabolite identifier</strong></td><td>4hphac_c</td>\n",
       "            </tr><tr>\n",
       "                <td><strong>Name</strong></td><td>4-Hydroxyphenylacetate</td>\n",
       "            </tr><tr>\n",
       "                <td><strong>Memory address</strong></td>\n",
       "                <td>0x01ab9947c108</td>\n",
       "            </tr><tr>\n",
       "                <td><strong>Formula</strong></td><td>C8H7O3</td>\n",
       "            </tr><tr>\n",
       "                <td><strong>Compartment</strong></td><td>c</td>\n",
       "            </tr><tr>\n",
       "                <td><strong>In 6 reaction(s)</strong></td><td>\n",
       "                    HPA3MO, 4HOXPACt2pp, 4H3NPACAM, 4HOXPACMOF, 4HALDD, 4PHACTE</td>\n",
       "            </tr>\n",
       "        </table>"
      ],
      "text/plain": [
       "<Metabolite 4hphac_c at 0x1ab9947c108>"
      ]
     },
     "execution_count": 134,
     "metadata": {},
     "output_type": "execute_result"
    }
   ],
   "source": [
    "# The charge and formula of 4-Hydroxyphenylacetate is correct\n",
    "modelCopy.metabolites.get_by_id('4hphac_c')"
   ]
  },
  {
   "cell_type": "markdown",
   "metadata": {},
   "source": [
    "<font color = 'red'> '4H3NPACAM' not corrected </font>\n",
    "\n",
    "### Compounds\n",
    "All three compounds have a different formula\n",
    "- 3-Nitrotyramine (3ntym_p) has a completely different formula (C8H15N2 vs. C8H10N2O3) https://pubchem.ncbi.nlm.nih.gov/compound/3-Nitrotyramine\n",
    "- 4-Hydroxy-3-Nitro-Phenylacetaldehyde (4h3npacald_p) has a different formula (C8H11NO vs. C8H7NO4) https://pubchem.ncbi.nlm.nih.gov/compound/4-Hydroxy-3-nitrophenylacetaldehyde\n",
    "- 4-Hydroxy-3-Nitro-Phenylacetic acid (4h3npac_c) has a different formula (C8H10NO2 vs. C8H7NO5) https://pubchem.ncbi.nlm.nih.gov/compound/4-Hydroxy-3-nitrophenylacetic-acid\n",
    "\n",
    "### Reactions\n",
    "The reactions are described in this paper > https://journals.asm.org/doi/10.1128/jb.00508-08?permanently=true\n",
    "- The first reaction (3NTYROXDApp) involves ammonia instead of ammonium, but instead ammonium and a proton were used in the reaction\n",
    "- The first reaction takes place in the periplasm, the others in the cytoplasm. The transport of the compound from the periplasm to cytoplasm is not linked to a gene in other models and was therefore not added to the model. Added here.\n",
    "- Of the last reaction in this pathway, 4-hydroxy-3-nitrophenylacetate amidase, no clear description in literature was found. Denitration of 4-Hydroxy-3-Nitro-Phenylacetaldehyde (HPNA) to 3,4-dihydroxyphenylacetate (HPC) is described in Burkholderia sp., which involves the NADH-dependent stoichiometric release of nitrite from HNPA. Since no information in E. coli was found, this reaction was not changed. > https://journals.asm.org/doi/full/10.1128/AEM.72.2.1040-1044.2006#F2"
   ]
  },
  {
   "cell_type": "code",
   "execution_count": 135,
   "metadata": {},
   "outputs": [],
   "source": [
    "### Correction of reactions\n",
    "# Formula & name\n",
    "modelCopy.metabolites.get_by_id('3ntym_p').formula = 'C8H10N2O3'\n",
    "modelCopy.metabolites.get_by_id('4h3npacald_p').formula = 'C8H7NO4'\n",
    "modelCopy.metabolites.get_by_id('4h3npacald_c').formula = 'C8H7NO4'\n",
    "modelCopy.metabolites.get_by_id('4h3npac_c').formula = 'C8H7NO5'\n",
    "\n",
    "modelCopy.metabolites.get_by_id('3ntym_p').name = '3-Nitrotyramine'\n",
    "modelCopy.metabolites.get_by_id('4h3npacald_p').name = '4-Hydroxy-3-Nitro-Phenylacetaldehyde'\n",
    "modelCopy.metabolites.get_by_id('4h3npac_c').name = '4-Hydroxy-3-Nitro-Phenylacetic acid'\n",
    "\n",
    "# Correcting reactions\n",
    "modelCopy.reactions.get_by_id('3NTYROXDApp').add_metabolites({'h_p': -1.0})\n",
    "modelCopy.reactions.get_by_id('4H3NALDD').add_metabolites({'h_c': -1.0})\n",
    "\n",
    "### Periplasm to cytoplasm\n",
    "reaction = Reaction('4H3NPACALDt2rpp')\n",
    "reaction.name = '4 hydroxy 3 nitrophenylacetaldehyde reversible transport via proton symport periplasm'\n",
    "reaction.subsystem = 'Transport, Inner Membrane'\n",
    "reaction.add_metabolites({\n",
    "    modelCopy.metabolites.get_by_id('4h3npacald_p'): -1.0,\n",
    "    modelCopy.metabolites.get_by_id('4h3npacald_c'): 1.0})\n",
    "modelCopy.add_reactions([reaction])"
   ]
  },
  {
   "cell_type": "code",
   "execution_count": 136,
   "metadata": {},
   "outputs": [
    {
     "data": {
      "text/html": [
       "\n",
       "        <table>\n",
       "            <tr>\n",
       "                <td><strong>Reaction identifier</strong></td><td>4H3NPACALDt2rpp</td>\n",
       "            </tr><tr>\n",
       "                <td><strong>Name</strong></td><td>4 hydroxy 3 nitrophenylacetaldehyde reversible transport via proton symport periplasm</td>\n",
       "            </tr><tr>\n",
       "                <td><strong>Memory address</strong></td>\n",
       "                <td>0x01ab9bd6a7c8</td>\n",
       "            </tr><tr>\n",
       "                <td><strong>Stoichiometry</strong></td>\n",
       "                <td>\n",
       "                    <p style='text-align:right'>4h3npacald_p --> 4h3npacald_c</p>\n",
       "                    <p style='text-align:right'>4-Hydroxy-3-Nitro-Phenylacetaldehyde --> 4 Hydroxy 3 Nitro Phenylacetaldehyde C8H11NO</p>\n",
       "                </td>\n",
       "            </tr><tr>\n",
       "                <td><strong>GPR</strong></td><td></td>\n",
       "            </tr><tr>\n",
       "                <td><strong>Lower bound</strong></td><td>0.0</td>\n",
       "            </tr><tr>\n",
       "                <td><strong>Upper bound</strong></td><td>1000.0</td>\n",
       "            </tr>\n",
       "        </table>\n",
       "        "
      ],
      "text/plain": [
       "<Reaction 4H3NPACALDt2rpp at 0x1ab9bd6a7c8>"
      ]
     },
     "execution_count": 136,
     "metadata": {},
     "output_type": "execute_result"
    }
   ],
   "source": [
    "modelCopy.reactions.get_by_id('4H3NPACALDt2rpp')"
   ]
  },
  {
   "cell_type": "code",
   "execution_count": 137,
   "metadata": {},
   "outputs": [
    {
     "data": {
      "text/plain": [
       "{}"
      ]
     },
     "execution_count": 137,
     "metadata": {},
     "output_type": "execute_result"
    }
   ],
   "source": [
    "modelCopy.reactions.get_by_id('4H3NALDD').check_mass_balance()"
   ]
  },
  {
   "cell_type": "code",
   "execution_count": 138,
   "metadata": {},
   "outputs": [
    {
     "data": {
      "text/plain": [
       "{'H': 2.0, 'O': -3.0}"
      ]
     },
     "execution_count": 138,
     "metadata": {},
     "output_type": "execute_result"
    }
   ],
   "source": [
    "modelCopy.reactions.get_by_id('4H3NPACAM').check_mass_balance()"
   ]
  },
  {
   "cell_type": "code",
   "execution_count": 139,
   "metadata": {},
   "outputs": [],
   "source": [
    "# Update rxn_origin table\n",
    "rxn_origin_df.loc['4H3NPACALDt2rpp', 'origin'] = 'New Reaction'\n",
    "rxn_origin_df.loc['4H3NPACALDt2rpp', 'added'] = 'manual'\n",
    "rxn_origin_df.loc['4H3NPACALDt2rpp', 'notebook'] = '4.2'\n",
    "rxn_origin_df.loc['4H3NPACALDt2rpp', 'notes'] = 'Reaction added in 4.2. Facilitates transport over inner membrane to enable pathway'"
   ]
  },
  {
   "cell_type": "markdown",
   "metadata": {},
   "source": [
    "### SALCHS2FEexs"
   ]
  },
  {
   "cell_type": "code",
   "execution_count": 140,
   "metadata": {},
   "outputs": [
    {
     "data": {
      "text/plain": [
       "{'charge': -3.0}"
      ]
     },
     "execution_count": 140,
     "metadata": {},
     "output_type": "execute_result"
    }
   ],
   "source": [
    "modelCopy.reactions.get_by_id('SALCHS2FEexs').check_mass_balance()"
   ]
  },
  {
   "cell_type": "code",
   "execution_count": 141,
   "metadata": {},
   "outputs": [
    {
     "data": {
      "text/plain": [
       "'fe3_e + salchs2_e --> salchs2fe_e'"
      ]
     },
     "execution_count": 141,
     "metadata": {},
     "output_type": "execute_result"
    }
   ],
   "source": [
    "modelCopy.reactions.get_by_id('SALCHS2FEexs').reaction"
   ]
  },
  {
   "cell_type": "code",
   "execution_count": 142,
   "metadata": {},
   "outputs": [
    {
     "data": {
      "text/plain": [
       "0"
      ]
     },
     "execution_count": 142,
     "metadata": {},
     "output_type": "execute_result"
    }
   ],
   "source": [
    "modelCopy.metabolites.get_by_id('salchs2_e').charge"
   ]
  },
  {
   "cell_type": "markdown",
   "metadata": {},
   "source": [
    "<font color = 'red'> Pathway will be updated in a later notebook. </font> "
   ]
  },
  {
   "cell_type": "markdown",
   "metadata": {},
   "source": [
    "### CLBH\n",
    "Cellobiose hydrolase"
   ]
  },
  {
   "cell_type": "code",
   "execution_count": 143,
   "metadata": {},
   "outputs": [
    {
     "data": {
      "text/plain": [
       "{'H': 2.0, 'O': 1.0}"
      ]
     },
     "execution_count": 143,
     "metadata": {},
     "output_type": "execute_result"
    }
   ],
   "source": [
    "# Looks like there is a water missing in the reaction\n",
    "modelCopy.reactions.CLBH.check_mass_balance()"
   ]
  },
  {
   "cell_type": "code",
   "execution_count": 144,
   "metadata": {},
   "outputs": [
    {
     "data": {
      "text/plain": [
       "'cellb_c --> 2.0 glc__D_c'"
      ]
     },
     "execution_count": 144,
     "metadata": {},
     "output_type": "execute_result"
    }
   ],
   "source": [
    "modelCopy.reactions.CLBH.reaction"
   ]
  },
  {
   "cell_type": "code",
   "execution_count": 145,
   "metadata": {},
   "outputs": [
    {
     "data": {
      "text/html": [
       "\n",
       "        <table>\n",
       "            <tr>\n",
       "                <td><strong>Reaction identifier</strong></td><td>CLBH</td>\n",
       "            </tr><tr>\n",
       "                <td><strong>Name</strong></td><td>Cellobiose hydrolase</td>\n",
       "            </tr><tr>\n",
       "                <td><strong>Memory address</strong></td>\n",
       "                <td>0x01ab9a4b4608</td>\n",
       "            </tr><tr>\n",
       "                <td><strong>Stoichiometry</strong></td>\n",
       "                <td>\n",
       "                    <p style='text-align:right'>cellb_c + h2o_c --> 2.0 glc__D_c</p>\n",
       "                    <p style='text-align:right'>Cellobiose + H2O H2O --> 2.0 D-Glucose</p>\n",
       "                </td>\n",
       "            </tr><tr>\n",
       "                <td><strong>GPR</strong></td><td>CIW80_00615</td>\n",
       "            </tr><tr>\n",
       "                <td><strong>Lower bound</strong></td><td>0.0</td>\n",
       "            </tr><tr>\n",
       "                <td><strong>Upper bound</strong></td><td>1000.0</td>\n",
       "            </tr>\n",
       "        </table>\n",
       "        "
      ],
      "text/plain": [
       "<Reaction CLBH at 0x1ab9a4b4608>"
      ]
     },
     "execution_count": 145,
     "metadata": {},
     "output_type": "execute_result"
    }
   ],
   "source": [
    "# Based on metacyc there is indeed a water molecule missing\n",
    "# https://biocyc.org/META/NEW-IMAGE?type=PATHWAY&object=PWY-6812\n",
    "modelCopy.reactions.CLBH.add_metabolites({'h2o_c': -1.0})\n",
    "modelCopy.reactions.CLBH"
   ]
  },
  {
   "cell_type": "code",
   "execution_count": 146,
   "metadata": {},
   "outputs": [
    {
     "data": {
      "text/plain": [
       "{}"
      ]
     },
     "execution_count": 146,
     "metadata": {},
     "output_type": "execute_result"
    }
   ],
   "source": [
    "modelCopy.reactions.CLBH.check_mass_balance()"
   ]
  },
  {
   "cell_type": "markdown",
   "metadata": {},
   "source": [
    "### PENAM"
   ]
  },
  {
   "cell_type": "code",
   "execution_count": 147,
   "metadata": {},
   "outputs": [
    {
     "data": {
      "text/plain": [
       "{'H': -1.0}"
      ]
     },
     "execution_count": 147,
     "metadata": {},
     "output_type": "execute_result"
    }
   ],
   "source": [
    "modelCopy.reactions.get_by_id('PENAM').check_mass_balance()"
   ]
  },
  {
   "cell_type": "code",
   "execution_count": 148,
   "metadata": {},
   "outputs": [
    {
     "data": {
      "text/plain": [
       "'h2o_p + peng_p <=> 6apa_p + pac_p'"
      ]
     },
     "execution_count": 148,
     "metadata": {},
     "output_type": "execute_result"
    }
   ],
   "source": [
    "modelCopy.reactions.PENAM.reaction"
   ]
  },
  {
   "cell_type": "code",
   "execution_count": 149,
   "metadata": {},
   "outputs": [],
   "source": [
    "# Phenylacetic acid is missing one hydrogen\n",
    "# https://pubchem.ncbi.nlm.nih.gov/compound/Phenylacetic-acid\n",
    "modelCopy.metabolites.get_by_id('pac_p').charge = -1\n",
    "\n",
    "# Additionally the external phenylacetic acid needs to be updated\n",
    "modelCopy.metabolites.get_by_id('pac_e').charge = -1"
   ]
  },
  {
   "cell_type": "code",
   "execution_count": 150,
   "metadata": {},
   "outputs": [
    {
     "data": {
      "text/plain": [
       "{'charge': -1.0, 'H': -1.0}"
      ]
     },
     "execution_count": 150,
     "metadata": {},
     "output_type": "execute_result"
    }
   ],
   "source": [
    "modelCopy.reactions.get_by_id('PENAM').check_mass_balance()"
   ]
  },
  {
   "cell_type": "code",
   "execution_count": 151,
   "metadata": {},
   "outputs": [],
   "source": [
    "# Add a proton to the reaction to correct\n",
    "modelCopy.reactions.get_by_id('PENAM').add_metabolites({'h_c': 1.0})"
   ]
  },
  {
   "cell_type": "code",
   "execution_count": 152,
   "metadata": {},
   "outputs": [
    {
     "data": {
      "text/plain": [
       "{}"
      ]
     },
     "execution_count": 152,
     "metadata": {},
     "output_type": "execute_result"
    }
   ],
   "source": [
    "modelCopy.reactions.get_by_id('PENAM').check_mass_balance()"
   ]
  },
  {
   "cell_type": "markdown",
   "metadata": {},
   "source": [
    "# 4. Remaining inconsistencies"
   ]
  },
  {
   "cell_type": "code",
   "execution_count": 153,
   "metadata": {},
   "outputs": [
    {
     "name": "stdout",
     "output_type": "stream",
     "text": [
      "Remaining number of imbalanced reactions: 7 out of 2806 reactions\n"
     ]
    },
    {
     "data": {
      "text/html": [
       "<div>\n",
       "<style scoped>\n",
       "    .dataframe tbody tr th:only-of-type {\n",
       "        vertical-align: middle;\n",
       "    }\n",
       "\n",
       "    .dataframe tbody tr th {\n",
       "        vertical-align: top;\n",
       "    }\n",
       "\n",
       "    .dataframe thead th {\n",
       "        text-align: right;\n",
       "    }\n",
       "</style>\n",
       "<table border=\"1\" class=\"dataframe\">\n",
       "  <thead>\n",
       "    <tr style=\"text-align: right;\">\n",
       "      <th></th>\n",
       "      <th>R</th>\n",
       "      <th>charge</th>\n",
       "      <th>C</th>\n",
       "      <th>H</th>\n",
       "      <th>O</th>\n",
       "    </tr>\n",
       "  </thead>\n",
       "  <tbody>\n",
       "    <tr>\n",
       "      <th>PUACGAMS</th>\n",
       "      <td>-1.0</td>\n",
       "      <td>0.0</td>\n",
       "      <td>0.0</td>\n",
       "      <td>0.0</td>\n",
       "      <td>0.0</td>\n",
       "    </tr>\n",
       "    <tr>\n",
       "      <th>GALR1TRA2</th>\n",
       "      <td>0.0</td>\n",
       "      <td>-11.0</td>\n",
       "      <td>15.0</td>\n",
       "      <td>43.0</td>\n",
       "      <td>12.0</td>\n",
       "    </tr>\n",
       "    <tr>\n",
       "      <th>HEPKB2</th>\n",
       "      <td>0.0</td>\n",
       "      <td>2.0</td>\n",
       "      <td>7.0</td>\n",
       "      <td>12.0</td>\n",
       "      <td>6.0</td>\n",
       "    </tr>\n",
       "    <tr>\n",
       "      <th>HEPKA2</th>\n",
       "      <td>0.0</td>\n",
       "      <td>10.0</td>\n",
       "      <td>0.0</td>\n",
       "      <td>-20.0</td>\n",
       "      <td>0.0</td>\n",
       "    </tr>\n",
       "    <tr>\n",
       "      <th>34PHACTE</th>\n",
       "      <td>0.0</td>\n",
       "      <td>-4.0</td>\n",
       "      <td>0.0</td>\n",
       "      <td>-4.0</td>\n",
       "      <td>-1.0</td>\n",
       "    </tr>\n",
       "    <tr>\n",
       "      <th>SALCHS2FEexs</th>\n",
       "      <td>0.0</td>\n",
       "      <td>-3.0</td>\n",
       "      <td>0.0</td>\n",
       "      <td>0.0</td>\n",
       "      <td>0.0</td>\n",
       "    </tr>\n",
       "    <tr>\n",
       "      <th>4H3NPACAM</th>\n",
       "      <td>0.0</td>\n",
       "      <td>0.0</td>\n",
       "      <td>0.0</td>\n",
       "      <td>2.0</td>\n",
       "      <td>-3.0</td>\n",
       "    </tr>\n",
       "  </tbody>\n",
       "</table>\n",
       "</div>"
      ],
      "text/plain": [
       "                R  charge     C     H     O\n",
       "PUACGAMS     -1.0     0.0   0.0   0.0   0.0\n",
       "GALR1TRA2     0.0   -11.0  15.0  43.0  12.0\n",
       "HEPKB2        0.0     2.0   7.0  12.0   6.0\n",
       "HEPKA2        0.0    10.0   0.0 -20.0   0.0\n",
       "34PHACTE      0.0    -4.0   0.0  -4.0  -1.0\n",
       "SALCHS2FEexs  0.0    -3.0   0.0   0.0   0.0\n",
       "4H3NPACAM     0.0     0.0   0.0   2.0  -3.0"
      ]
     },
     "execution_count": 153,
     "metadata": {},
     "output_type": "execute_result"
    }
   ],
   "source": [
    "imbalance_df = imbalance_rxn(modelCopy)\n",
    "print('Remaining number of imbalanced reactions:', len(imbalance_df), 'out of', len(modelCopy.reactions), 'reactions')\n",
    "imbalance_df"
   ]
  },
  {
   "cell_type": "markdown",
   "metadata": {},
   "source": [
    "<font color = 'red'> SALCHS2FEexs will be updated in a later notebook. Not counted as remaining imbalance reaction </font> "
   ]
  },
  {
   "cell_type": "code",
   "execution_count": 154,
   "metadata": {},
   "outputs": [],
   "source": [
    "imbalance_solved = set(imbalance_list) - set(imbalance_df.index.tolist())\n",
    "imbalance_solved\n",
    "\n",
    "for rxn in imbalance_solved:\n",
    "    rxn_origin_df.loc[rxn, 'notes'] = 'Reaction imbalanced solved in 4.2'"
   ]
  },
  {
   "cell_type": "markdown",
   "metadata": {},
   "source": [
    "# 5. Save updated model"
   ]
  },
  {
   "cell_type": "code",
   "execution_count": 155,
   "metadata": {},
   "outputs": [],
   "source": [
    "# Save the model\n",
    "cobra.io.json.save_json_model(modelCopy, str('../data/models/%s_cur_4.2.json'%EcN_ID), pretty=False)"
   ]
  },
  {
   "cell_type": "code",
   "execution_count": 156,
   "metadata": {},
   "outputs": [],
   "source": [
    "# Save as a table\n",
    "rxn_origin_df.to_csv('../tables/rxn_origin.csv')\n",
    "gene_origin_df.to_csv('../tables/gene_origin.csv')"
   ]
  },
  {
   "cell_type": "code",
   "execution_count": 157,
   "metadata": {},
   "outputs": [],
   "source": [
    "#Establish a definition that initializes models to an in silico representation of M9 media\n",
    "\n",
    "def m9(model):\n",
    "    for reaction in model.reactions:\n",
    "        if 'EX_' in  reaction.id:\n",
    "            reaction.lower_bound=0 \n",
    "            \n",
    "    model.reactions.EX_ca2_e.lower_bound=-1000\n",
    "    model.reactions.EX_cl_e.lower_bound=-1000\n",
    "    model.reactions.EX_co2_e.lower_bound=-1000\n",
    "    model.reactions.EX_cobalt2_e.lower_bound=-1000\n",
    "    model.reactions.EX_cu2_e.lower_bound=-1000\n",
    "    model.reactions.EX_fe2_e.lower_bound=-1000\n",
    "    model.reactions.EX_fe3_e.lower_bound=-1000\n",
    "    model.reactions.EX_h_e.lower_bound=-1000\n",
    "    model.reactions.EX_h2o_e.lower_bound=-1000\n",
    "    model.reactions.EX_k_e.lower_bound=-1000\n",
    "    model.reactions.EX_mg2_e.lower_bound=-1000\n",
    "    model.reactions.EX_mn2_e.lower_bound=-1000\n",
    "    model.reactions.EX_mobd_e.lower_bound=-1000\n",
    "    model.reactions.EX_na1_e.lower_bound=-1000\n",
    "    model.reactions.EX_tungs_e.lower_bound=-1000\n",
    "    model.reactions.EX_zn2_e.lower_bound=-1000\n",
    "    model.reactions.EX_ni2_e.lower_bound=-1000\n",
    "    model.reactions.EX_sel_e.lower_bound=-1000\n",
    "    model.reactions.EX_slnt_e.lower_bound=-1000\n",
    "    model.reactions.EX_glc__D_e.lower_bound=-20\n",
    "    model.reactions.EX_so4_e.lower_bound=-1000\n",
    "    model.reactions.EX_nh4_e.lower_bound=-1000\n",
    "    model.reactions.EX_pi_e.lower_bound=-1000\n",
    "    model.reactions.EX_cbl1_e.lower_bound=-.01\n",
    "    model.reactions.EX_o2_e.lower_bound=-20\n",
    "       \n",
    "    return model"
   ]
  },
  {
   "cell_type": "code",
   "execution_count": 158,
   "metadata": {},
   "outputs": [
    {
     "data": {
      "text/html": [
       "<strong><em>Optimal</em> solution with objective value 1.121</strong><br><div>\n",
       "<style scoped>\n",
       "    .dataframe tbody tr th:only-of-type {\n",
       "        vertical-align: middle;\n",
       "    }\n",
       "\n",
       "    .dataframe tbody tr th {\n",
       "        vertical-align: top;\n",
       "    }\n",
       "\n",
       "    .dataframe thead th {\n",
       "        text-align: right;\n",
       "    }\n",
       "</style>\n",
       "<table border=\"1\" class=\"dataframe\">\n",
       "  <thead>\n",
       "    <tr style=\"text-align: right;\">\n",
       "      <th></th>\n",
       "      <th>fluxes</th>\n",
       "      <th>reduced_costs</th>\n",
       "    </tr>\n",
       "  </thead>\n",
       "  <tbody>\n",
       "    <tr>\n",
       "      <th>ALATA_D2</th>\n",
       "      <td>0.00000</td>\n",
       "      <td>-2.947634e-02</td>\n",
       "    </tr>\n",
       "    <tr>\n",
       "      <th>SHCHD2</th>\n",
       "      <td>0.00025</td>\n",
       "      <td>-5.551115e-17</td>\n",
       "    </tr>\n",
       "    <tr>\n",
       "      <th>CPPPGO</th>\n",
       "      <td>0.00025</td>\n",
       "      <td>5.551115e-17</td>\n",
       "    </tr>\n",
       "    <tr>\n",
       "      <th>GTHOr</th>\n",
       "      <td>0.00000</td>\n",
       "      <td>0.000000e+00</td>\n",
       "    </tr>\n",
       "    <tr>\n",
       "      <th>DHORD5</th>\n",
       "      <td>0.00000</td>\n",
       "      <td>-3.469447e-18</td>\n",
       "    </tr>\n",
       "    <tr>\n",
       "      <th>...</th>\n",
       "      <td>...</td>\n",
       "      <td>...</td>\n",
       "    </tr>\n",
       "    <tr>\n",
       "      <th>MALt5</th>\n",
       "      <td>0.00000</td>\n",
       "      <td>-3.469447e-18</td>\n",
       "    </tr>\n",
       "    <tr>\n",
       "      <th>SALCHS2FEexs</th>\n",
       "      <td>0.00000</td>\n",
       "      <td>0.000000e+00</td>\n",
       "    </tr>\n",
       "    <tr>\n",
       "      <th>DHPTDCs</th>\n",
       "      <td>0.00000</td>\n",
       "      <td>0.000000e+00</td>\n",
       "    </tr>\n",
       "    <tr>\n",
       "      <th>SALCHS4FEexs</th>\n",
       "      <td>0.00000</td>\n",
       "      <td>0.000000e+00</td>\n",
       "    </tr>\n",
       "    <tr>\n",
       "      <th>4H3NPACALDt2rpp</th>\n",
       "      <td>0.00000</td>\n",
       "      <td>0.000000e+00</td>\n",
       "    </tr>\n",
       "  </tbody>\n",
       "</table>\n",
       "<p>2806 rows × 2 columns</p>\n",
       "</div>"
      ],
      "text/plain": [
       "<Solution 1.121 at 0x1ab99bb97c8>"
      ]
     },
     "execution_count": 158,
     "metadata": {},
     "output_type": "execute_result"
    }
   ],
   "source": [
    "# Test whether the EcN model can grown on glucose (EX_glc__D_e)\n",
    "with modelCopy:\n",
    "    m9(modelCopy)\n",
    "    solution = modelCopy.optimize()\n",
    "    \n",
    "solution"
   ]
  }
 ],
 "metadata": {
  "kernelspec": {
   "display_name": "Python 3",
   "language": "python",
   "name": "python3"
  },
  "language_info": {
   "codemirror_mode": {
    "name": "ipython",
    "version": 3
   },
   "file_extension": ".py",
   "mimetype": "text/x-python",
   "name": "python",
   "nbconvert_exporter": "python",
   "pygments_lexer": "ipython3",
   "version": "3.7.9"
  }
 },
 "nbformat": 4,
 "nbformat_minor": 2
}
