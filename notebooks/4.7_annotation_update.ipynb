{
 "cells": [
  {
   "cell_type": "markdown",
   "metadata": {},
   "source": [
    "# 4.7 Update of annotations\n",
    "Annotations are missing in the model. Annotations are added for:\n",
    "- Reactions\n",
    "- Metabolites\n",
    "- Genes\n",
    "\n",
    "Additionally metabolites and genes which are not associated to reactions are removed."
   ]
  },
  {
   "cell_type": "code",
   "execution_count": 1,
   "metadata": {},
   "outputs": [],
   "source": [
    "#import package needed\n",
    "import cobra\n",
    "import pandas as pd\n",
    "import numpy as np\n",
    "\n",
    "from cobra.io import load_json_model\n",
    "from cobra import Model, Reaction, Metabolite"
   ]
  },
  {
   "cell_type": "code",
   "execution_count": 27,
   "metadata": {},
   "outputs": [],
   "source": [
    "# Load EcN model\n",
    "EcN_ID = 'CP022686.1'\n",
    "EcN_model = cobra.io.load_json_model('../data/models/%s_cur_4.6.json'%EcN_ID)"
   ]
  },
  {
   "cell_type": "markdown",
   "metadata": {},
   "source": [
    "# 1. Update annotations"
   ]
  },
  {
   "cell_type": "code",
   "execution_count": 3,
   "metadata": {
    "scrolled": false
   },
   "outputs": [
    {
     "data": {
      "text/html": [
       "<div>\n",
       "<style scoped>\n",
       "    .dataframe tbody tr th:only-of-type {\n",
       "        vertical-align: middle;\n",
       "    }\n",
       "\n",
       "    .dataframe tbody tr th {\n",
       "        vertical-align: top;\n",
       "    }\n",
       "\n",
       "    .dataframe thead th {\n",
       "        text-align: right;\n",
       "    }\n",
       "</style>\n",
       "<table border=\"1\" class=\"dataframe\">\n",
       "  <thead>\n",
       "    <tr style=\"text-align: right;\">\n",
       "      <th></th>\n",
       "      <th>Name</th>\n",
       "      <th>Reaction Formula</th>\n",
       "      <th>Gene Rules</th>\n",
       "      <th>Subsystem</th>\n",
       "      <th>Essentiality</th>\n",
       "      <th>LB</th>\n",
       "      <th>UB</th>\n",
       "      <th>FVA_min</th>\n",
       "      <th>FVA_max</th>\n",
       "      <th>rhea</th>\n",
       "      <th>biocyc</th>\n",
       "      <th>metanetx.reaction</th>\n",
       "      <th>kegg.reaction</th>\n",
       "      <th>seed.reaction</th>\n",
       "      <th>ec-code</th>\n",
       "      <th>reactome</th>\n",
       "    </tr>\n",
       "    <tr>\n",
       "      <th>ID</th>\n",
       "      <th></th>\n",
       "      <th></th>\n",
       "      <th></th>\n",
       "      <th></th>\n",
       "      <th></th>\n",
       "      <th></th>\n",
       "      <th></th>\n",
       "      <th></th>\n",
       "      <th></th>\n",
       "      <th></th>\n",
       "      <th></th>\n",
       "      <th></th>\n",
       "      <th></th>\n",
       "      <th></th>\n",
       "      <th></th>\n",
       "      <th></th>\n",
       "    </tr>\n",
       "  </thead>\n",
       "  <tbody>\n",
       "    <tr>\n",
       "      <th>ALATA_D2</th>\n",
       "      <td>D-alanine transaminase</td>\n",
       "      <td>ala__D_c + pydx5p_c --&gt; pyam5p_c + pyr_c</td>\n",
       "      <td>CIW80_06560 or CIW80_22360</td>\n",
       "      <td>Cofactor and Prosthetic Group Biosynthesis</td>\n",
       "      <td>Not essential</td>\n",
       "      <td>0.0</td>\n",
       "      <td>1000.0</td>\n",
       "      <td>0.00000</td>\n",
       "      <td>-1.698893e-12</td>\n",
       "      <td>28565</td>\n",
       "      <td>META:RXN0-5240</td>\n",
       "      <td>MNXR95697</td>\n",
       "      <td>R01147</td>\n",
       "      <td>rxn00848</td>\n",
       "      <td>NaN</td>\n",
       "      <td>NaN</td>\n",
       "    </tr>\n",
       "    <tr>\n",
       "      <th>SHCHD2</th>\n",
       "      <td>Sirohydrochlorin dehydrogenase (NAD)</td>\n",
       "      <td>dscl_c + nad_c --&gt; h_c + nadh_c + scl_c</td>\n",
       "      <td>CIW80_11380</td>\n",
       "      <td>Cofactor and Prosthetic Group Biosynthesis</td>\n",
       "      <td>Essential</td>\n",
       "      <td>0.0</td>\n",
       "      <td>1000.0</td>\n",
       "      <td>0.00025</td>\n",
       "      <td>2.500454e-04</td>\n",
       "      <td>15616</td>\n",
       "      <td>META:DIMETHUROPORDEHYDROG-RXN</td>\n",
       "      <td>MNXR104373</td>\n",
       "      <td>R03947</td>\n",
       "      <td>rxn02774</td>\n",
       "      <td>1.3.1.76</td>\n",
       "      <td>NaN</td>\n",
       "    </tr>\n",
       "    <tr>\n",
       "      <th>CPPPGO</th>\n",
       "      <td>Coproporphyrinogen oxidase (O2 required)</td>\n",
       "      <td>cpppg3_c + 2.0 h_c + o2_c --&gt; 2.0 co2_c + 2.0 ...</td>\n",
       "      <td>CIW80_06055</td>\n",
       "      <td>Cofactor and Prosthetic Group Biosynthesis</td>\n",
       "      <td>Not essential</td>\n",
       "      <td>0.0</td>\n",
       "      <td>1000.0</td>\n",
       "      <td>0.00025</td>\n",
       "      <td>2.500454e-04</td>\n",
       "      <td>18260</td>\n",
       "      <td>META:RXN0-1461</td>\n",
       "      <td>MNXR96880</td>\n",
       "      <td>R03220</td>\n",
       "      <td>rxn02303</td>\n",
       "      <td>1.3.3.3</td>\n",
       "      <td>NaN</td>\n",
       "    </tr>\n",
       "    <tr>\n",
       "      <th>GTHOr</th>\n",
       "      <td>Glutathione oxidoreductase</td>\n",
       "      <td>gthox_c + h_c + nadph_c &lt;=&gt; 2.0 gthrd_c + nadp_c</td>\n",
       "      <td>CIW80_12105</td>\n",
       "      <td>Cofactor and Prosthetic Group Biosynthesis</td>\n",
       "      <td>Not essential</td>\n",
       "      <td>-1000.0</td>\n",
       "      <td>1000.0</td>\n",
       "      <td>0.00000</td>\n",
       "      <td>2.774966e-01</td>\n",
       "      <td>11743</td>\n",
       "      <td>META:GLUTATHIONE-REDUCT-NADPH-RXN</td>\n",
       "      <td>MNXR100098</td>\n",
       "      <td>R00115</td>\n",
       "      <td>rxn00086</td>\n",
       "      <td>1.8.1.7</td>\n",
       "      <td>R-XTR-71682</td>\n",
       "    </tr>\n",
       "    <tr>\n",
       "      <th>DHORD5</th>\n",
       "      <td>Dihydroorotic acid (menaquinone-8)</td>\n",
       "      <td>dhor__S_c + mqn8_c --&gt; mql8_c + orot_c</td>\n",
       "      <td>CIW80_22710</td>\n",
       "      <td>Purine and Pyrimidine Biosynthesis</td>\n",
       "      <td>Not essential</td>\n",
       "      <td>0.0</td>\n",
       "      <td>1000.0</td>\n",
       "      <td>0.00000</td>\n",
       "      <td>3.709138e-01</td>\n",
       "      <td>29202</td>\n",
       "      <td>NaN</td>\n",
       "      <td>MNXR97421</td>\n",
       "      <td>NaN</td>\n",
       "      <td>rxn08336</td>\n",
       "      <td>NaN</td>\n",
       "      <td>NaN</td>\n",
       "    </tr>\n",
       "  </tbody>\n",
       "</table>\n",
       "</div>"
      ],
      "text/plain": [
       "                                              Name  \\\n",
       "ID                                                   \n",
       "ALATA_D2                    D-alanine transaminase   \n",
       "SHCHD2        Sirohydrochlorin dehydrogenase (NAD)   \n",
       "CPPPGO    Coproporphyrinogen oxidase (O2 required)   \n",
       "GTHOr                   Glutathione oxidoreductase   \n",
       "DHORD5          Dihydroorotic acid (menaquinone-8)   \n",
       "\n",
       "                                           Reaction Formula  \\\n",
       "ID                                                            \n",
       "ALATA_D2           ala__D_c + pydx5p_c --> pyam5p_c + pyr_c   \n",
       "SHCHD2              dscl_c + nad_c --> h_c + nadh_c + scl_c   \n",
       "CPPPGO    cpppg3_c + 2.0 h_c + o2_c --> 2.0 co2_c + 2.0 ...   \n",
       "GTHOr      gthox_c + h_c + nadph_c <=> 2.0 gthrd_c + nadp_c   \n",
       "DHORD5               dhor__S_c + mqn8_c --> mql8_c + orot_c   \n",
       "\n",
       "                          Gene Rules  \\\n",
       "ID                                     \n",
       "ALATA_D2  CIW80_06560 or CIW80_22360   \n",
       "SHCHD2                   CIW80_11380   \n",
       "CPPPGO                   CIW80_06055   \n",
       "GTHOr                    CIW80_12105   \n",
       "DHORD5                   CIW80_22710   \n",
       "\n",
       "                                           Subsystem   Essentiality      LB  \\\n",
       "ID                                                                            \n",
       "ALATA_D2  Cofactor and Prosthetic Group Biosynthesis  Not essential     0.0   \n",
       "SHCHD2    Cofactor and Prosthetic Group Biosynthesis      Essential     0.0   \n",
       "CPPPGO    Cofactor and Prosthetic Group Biosynthesis  Not essential     0.0   \n",
       "GTHOr     Cofactor and Prosthetic Group Biosynthesis  Not essential -1000.0   \n",
       "DHORD5            Purine and Pyrimidine Biosynthesis  Not essential     0.0   \n",
       "\n",
       "              UB  FVA_min       FVA_max   rhea  \\\n",
       "ID                                               \n",
       "ALATA_D2  1000.0  0.00000 -1.698893e-12  28565   \n",
       "SHCHD2    1000.0  0.00025  2.500454e-04  15616   \n",
       "CPPPGO    1000.0  0.00025  2.500454e-04  18260   \n",
       "GTHOr     1000.0  0.00000  2.774966e-01  11743   \n",
       "DHORD5    1000.0  0.00000  3.709138e-01  29202   \n",
       "\n",
       "                                     biocyc metanetx.reaction kegg.reaction  \\\n",
       "ID                                                                            \n",
       "ALATA_D2                     META:RXN0-5240         MNXR95697        R01147   \n",
       "SHCHD2        META:DIMETHUROPORDEHYDROG-RXN        MNXR104373        R03947   \n",
       "CPPPGO                       META:RXN0-1461         MNXR96880        R03220   \n",
       "GTHOr     META:GLUTATHIONE-REDUCT-NADPH-RXN        MNXR100098        R00115   \n",
       "DHORD5                                  NaN         MNXR97421           NaN   \n",
       "\n",
       "         seed.reaction   ec-code     reactome  \n",
       "ID                                             \n",
       "ALATA_D2      rxn00848       NaN          NaN  \n",
       "SHCHD2        rxn02774  1.3.1.76          NaN  \n",
       "CPPPGO        rxn02303   1.3.3.3          NaN  \n",
       "GTHOr         rxn00086   1.8.1.7  R-XTR-71682  \n",
       "DHORD5        rxn08336       NaN          NaN  "
      ]
     },
     "execution_count": 3,
     "metadata": {},
     "output_type": "execute_result"
    }
   ],
   "source": [
    "# Load metabolite overview\n",
    "mtb_info = pd.read_csv('../tables/metabolites_info.csv')\n",
    "mtb_info['ID'] = mtb_info['ID'].str.strip() #Remove white spaces\n",
    "mtb_info.set_index('ID', inplace=True)\n",
    "mtb_info.rename(columns={'Reactome Compound': 'reactome','KEGG Compound':'kegg.compound', 'CHEBI': 'chebi',\n",
    "                         'InChI Key': 'inchikey', 'Human Metabolome Database':'Human Metabolome Database', 'BioCyc': 'biocyc',\n",
    "                         'MetaNetX (MNX) Chemical': 'metanetx.chemical', 'SEED Compound': 'seed.compound',\n",
    "                         'LipidMaps': 'lipidmaps', 'KEGG Drug': 'kegg.drug', 'KEGG Glycan':'kegg.glycan'}, inplace = True)\n",
    "\n",
    "# Load reaction overview\n",
    "rxn_info = pd.read_csv('../tables/reactions_info.csv')\n",
    "rxn_info['ID'] = rxn_info['ID'].str.strip() #Remove white spaces\n",
    "rxn_info.set_index('ID', inplace=True)\n",
    "rxn_info.rename(columns={'RHEA': 'rhea', 'BioCyc':'biocyc', 'MetaNetX (MNX) Equation': 'metanetx.reaction',\n",
    "                         'KEGG Reaction': 'kegg.reaction','SEED Reaction': 'seed.reaction',\n",
    "                         'EC Number': 'ec-code', 'Reactome Reaction': 'reactome'}, inplace = True)\n",
    "rxn_info.head()"
   ]
  },
  {
   "cell_type": "code",
   "execution_count": 4,
   "metadata": {},
   "outputs": [],
   "source": [
    "# Remove the secondary biosynthesis reactions > replaced by detailed reactions in 4.6\n",
    "for rxn in rxn_info.index.values:\n",
    "    if 'MNXR' in rxn:\n",
    "        rxn_info.drop([rxn], inplace=True)\n",
    "        \n",
    "rxn_info.rename(index={'2HH24DDH1_copy1': '2HH24DDH1'}, inplace=True)\n",
    "        \n",
    "rxn_info.drop(['ENTCS', 'SALASYN', 'YBTSYN', 'PRECLBTNSYN', 'ACGAL6PISO', 'ACGAL6PI', '2HH24DDH1_copy2', 'URIC', 'CELLBpts', 'BUTt2rpp','ABUTtex', 'ACACtex', 'ETHAtex', 'XANtex'], inplace=True) # These reactions were replaced in 4.6 and removed in 4.1"
   ]
  },
  {
   "cell_type": "code",
   "execution_count": 5,
   "metadata": {},
   "outputs": [
    {
     "data": {
      "text/plain": [
       "'1.1.1.M6'"
      ]
     },
     "execution_count": 5,
     "metadata": {},
     "output_type": "execute_result"
    }
   ],
   "source": [
    "# Check\n",
    "rxn_info.loc['GLTPD', 'ec-code']\n",
    "# rxn_info.loc['NO3R2pp', 'rhea']\n",
    "# rxn_info.loc['SHCHD2', 'ec-code']"
   ]
  },
  {
   "cell_type": "markdown",
   "metadata": {},
   "source": [
    "### 1.1 Update reactions"
   ]
  },
  {
   "cell_type": "code",
   "execution_count": 6,
   "metadata": {},
   "outputs": [
    {
     "name": "stdout",
     "output_type": "stream",
     "text": [
      "SUCptspp not in model\n",
      "FFSD not in model\n",
      "SUCR not in model\n",
      "SUCtpp not in model\n"
     ]
    }
   ],
   "source": [
    "# add annotations reactions\n",
    "for rxn in rxn_info.index.values:\n",
    "    try:\n",
    "        reaction = EcN_model.reactions.get_by_id(rxn)\n",
    "\n",
    "        # Add database annotations when present\n",
    "        for annot in ['rhea', 'biocyc', 'metanetx.reaction','kegg.reaction',\n",
    "                      'seed.reaction', 'ec-code', 'reactome']:\n",
    "            if pd.isnull(rxn_info.loc[rxn, annot]):\n",
    "                pass\n",
    "            else:\n",
    "                if annot == 'rhea':\n",
    "                    rxn_info.loc[rxn, annot] = rxn_info.loc[rxn, annot].split('#')[0] # Remove the #1 which is present in some rhea annotations\n",
    "                reaction.annotation[annot] = [rxn_info.loc[rxn, annot]]\n",
    "    except:\n",
    "        print(rxn, 'not in model')"
   ]
  },
  {
   "cell_type": "code",
   "execution_count": 7,
   "metadata": {},
   "outputs": [
    {
     "data": {
      "text/plain": [
       "{'bigg.reaction': ['ALATA_D2'],\n",
       " 'biocyc': ['META:RXN0-5240'],\n",
       " 'kegg.reaction': ['R01147'],\n",
       " 'metanetx.reaction': ['MNXR95697'],\n",
       " 'rhea': ['28565'],\n",
       " 'sabiork': ['1388'],\n",
       " 'sbo': 'SBO:0000176',\n",
       " 'seed.reaction': ['rxn00848']}"
      ]
     },
     "execution_count": 7,
     "metadata": {},
     "output_type": "execute_result"
    }
   ],
   "source": [
    "# Check a reaction\n",
    "EcN_model.reactions.ALATA_D2.annotation"
   ]
  },
  {
   "cell_type": "code",
   "execution_count": 8,
   "metadata": {},
   "outputs": [],
   "source": [
    "# Update subsystem annotation of reactions\n",
    "for rxn in EcN_model.reactions:\n",
    "    if 't2pp' in rxn.id: # Correct the subsystem of these reactions to Inner Membrane\n",
    "        if rxn.subsystem == 'Transport':\n",
    "            rxn.subsystem = 'Transport, Inner Membrane'\n",
    "    \n",
    "    if 'PEP:Pyr' in rxn.name: # Correct the subsystem of these reactions to Inner Membrane\n",
    "        rxn.subsystem = 'Transport, Inner Membrane'\n",
    "        \n",
    "    if 'tpp' in rxn.id: # Correct the subsystem of these reactions to Inner Membrane\n",
    "        if rxn.subsystem == 'Transport' or rxn.subsystem == 'Exchange':\n",
    "            rxn.subsystem = 'Transport, Inner Membrane'\n",
    "\n",
    "    if 'tex' in rxn.id: # Correct the subsystem of these reactions to Outer Membrane\n",
    "        if rxn.subsystem == 'Transport':\n",
    "            rxn.subsystem = 'Transport, Outer Membrane'\n",
    "        \n",
    "    if 't4rpp' in rxn.id: # Correct the subsystem of these reactions to Outer Membrane\n",
    "        rxn.subsystem = 'Transport, Outer Membrane'\n",
    "        \n",
    "        \n",
    "### Align all names\n",
    "    if rxn.subsystem == 'Transport Outer Membrane Porin':\n",
    "        rxn.subsystem = 'Transport, Outer Membrane'\n",
    "        \n",
    "    if rxn.subsystem == 'Transport, Outer Membrane Porin':\n",
    "        rxn.subsystem = 'Transport, Outer Membrane'\n",
    "        \n",
    "    if rxn.subsystem == 'S_Transport_Outer_Membrane_Porin':\n",
    "        rxn.subsystem = 'Transport, Outer Membrane'\n",
    "        \n",
    "    if rxn.subsystem == 'Transport Outer Membrane':\n",
    "        rxn.subsystem = 'Transport, Outer Membrane'\n",
    "        \n",
    "    if rxn.subsystem == 'Transport Inner Membrane':\n",
    "        rxn.subsystem = 'Transport, Inner Membrane'\n",
    "        \n",
    "    if rxn.subsystem == 'S_Transport_Inner_Membrane':\n",
    "        rxn.subsystem = 'Transport, Inner Membrane'\n",
    "        \n",
    "    if rxn.subsystem == 'S_Aromatic_Acid_Breakdown':\n",
    "        rxn.subsystem = 'Aromatic Acid Breakdown'\n",
    "        \n",
    "    if rxn.subsystem == 'S_Alternate_Carbon_Metabolism':\n",
    "        rxn.subsystem = 'Alternate Carbon Metabolism'\n",
    "        \n",
    "    if rxn.subsystem == 'S_Alternate_Carbon_source':\n",
    "        rxn.subsystem = 'Alternate Carbon Metabolism'\n",
    "        \n",
    "    if rxn.subsystem == 'S_Lipopolysaccharide_Biosynthesis___Recycling':\n",
    "        rxn.subsystem = 'Lipopolysaccharide Biosynthesis / Recycling'\n",
    "        \n",
    "    if rxn.subsystem == 'S_Lipopolysaccharide_Biosynthesis_Recycling':\n",
    "        rxn.subsystem = 'Lipopolysaccharide Biosynthesis / Recycling'    \n",
    "        \n",
    "    if rxn.subsystem == 'iron metabolism':\n",
    "        rxn.subsystem = 'Iron Metabolism'\n",
    "        \n",
    "    if rxn.subsystem == 'S_penicillin_breakdown':\n",
    "        rxn.subsystem = 'Penicillin Breakdown'\n",
    "        \n",
    "    if rxn.subsystem == 'purine metabolism':\n",
    "        rxn.subsystem = 'Purine Metabolism'\n",
    "        \n",
    "    if rxn.subsystem == 'siderophore biosynthesis':\n",
    "        rxn.subsystem = 'Secondary metabolite biosynthesis'\n",
    "        \n",
    "    if rxn.subsystem == 'Benzoate degradation':\n",
    "        rxn.subsystem = 'Benzoate Degradation'   "
   ]
  },
  {
   "cell_type": "markdown",
   "metadata": {},
   "source": [
    "### 1.2 Update metabolites"
   ]
  },
  {
   "cell_type": "code",
   "execution_count": 9,
   "metadata": {},
   "outputs": [],
   "source": [
    "# Remove metabolites\n",
    "mtb_info.drop(['asn__L', 'preclbtn_c', 'preclbtn_p'], inplace=True)"
   ]
  },
  {
   "cell_type": "code",
   "execution_count": 10,
   "metadata": {},
   "outputs": [],
   "source": [
    "# add annotations metabolites\n",
    "for mtb in mtb_info.index.values:\n",
    "    metabolite = EcN_model.metabolites.get_by_id(mtb)\n",
    "\n",
    "    # Add database annotations when present\n",
    "    for annot in ['reactome', 'kegg.compound', 'chebi', 'inchikey', 'Human Metabolome Database', 'biocyc',\n",
    "                  'metanetx.chemical', 'seed.compound', 'lipidmaps', 'kegg.drug', 'kegg.glycan']:\n",
    "        if pd.isnull(mtb_info.loc[mtb, annot]):\n",
    "            pass\n",
    "        else:\n",
    "            metabolite.annotation[annot] = [mtb_info.loc[mtb, annot]]"
   ]
  },
  {
   "cell_type": "code",
   "execution_count": 11,
   "metadata": {},
   "outputs": [
    {
     "data": {
      "text/plain": [
       "{'bigg.metabolite': ['dms'],\n",
       " 'biocyc': ['META:CPD-7670'],\n",
       " 'chebi': ['CHEBI:4611'],\n",
       " 'envipath': ['32de3cf4-e3e6-4168-956e-32fa5ddb0ce1/compound/26c081a5-2c2d-4e64-bd11-0d80376989ba'],\n",
       " 'hmdb': ['HMDB02303'],\n",
       " 'inchi_key': ['QMMFVYPAHWMCMS-UHFFFAOYSA-N'],\n",
       " 'kegg.compound': ['C00580'],\n",
       " 'metanetx.chemical': ['MNXM444'],\n",
       " 'sabiork': ['2104'],\n",
       " 'sbo': 'SBO:0000247',\n",
       " 'seed.compound': ['cpd00450'],\n",
       " 'inchikey': ['QMMFVYPAHWMCMS-UHFFFAOYSA-N'],\n",
       " 'Human Metabolome Database': ['HMDB02303']}"
      ]
     },
     "execution_count": 11,
     "metadata": {},
     "output_type": "execute_result"
    }
   ],
   "source": [
    "# Check a metabolite\n",
    "dict_1 = EcN_model.metabolites.dms_e.annotation\n",
    "EcN_model.metabolites.dms_e.annotation"
   ]
  },
  {
   "cell_type": "code",
   "execution_count": 12,
   "metadata": {},
   "outputs": [
    {
     "name": "stdout",
     "output_type": "stream",
     "text": [
      "['dms'] <class 'list'>\n",
      "['META:CPD-7670'] <class 'list'>\n",
      "['CHEBI:4611'] <class 'list'>\n",
      "['32de3cf4-e3e6-4168-956e-32fa5ddb0ce1/compound/26c081a5-2c2d-4e64-bd11-0d80376989ba'] <class 'list'>\n",
      "['HMDB02303'] <class 'list'>\n",
      "['QMMFVYPAHWMCMS-UHFFFAOYSA-N'] <class 'list'>\n",
      "['C00580'] <class 'list'>\n",
      "['MNXM444'] <class 'list'>\n",
      "['2104'] <class 'list'>\n",
      "SBO:0000247 <class 'str'>\n",
      "['cpd00450'] <class 'list'>\n",
      "['QMMFVYPAHWMCMS-UHFFFAOYSA-N'] <class 'list'>\n",
      "['HMDB02303'] <class 'list'>\n"
     ]
    }
   ],
   "source": [
    "for value in dict_1.values():\n",
    "    print(value, type(value))"
   ]
  },
  {
   "cell_type": "code",
   "execution_count": 13,
   "metadata": {},
   "outputs": [
    {
     "data": {
      "text/plain": [
       "['cpd00450']"
      ]
     },
     "execution_count": 13,
     "metadata": {},
     "output_type": "execute_result"
    }
   ],
   "source": [
    "dict_1['seed.compound']"
   ]
  },
  {
   "cell_type": "markdown",
   "metadata": {},
   "source": [
    "### 1.3 Update genes"
   ]
  },
  {
   "cell_type": "code",
   "execution_count": 14,
   "metadata": {},
   "outputs": [],
   "source": [
    "#import packages needed\n",
    "from glob import glob\n",
    "from Bio import Entrez, SeqIO"
   ]
  },
  {
   "cell_type": "code",
   "execution_count": 15,
   "metadata": {},
   "outputs": [
    {
     "data": {
      "text/html": [
       "<div>\n",
       "<style scoped>\n",
       "    .dataframe tbody tr th:only-of-type {\n",
       "        vertical-align: middle;\n",
       "    }\n",
       "\n",
       "    .dataframe tbody tr th {\n",
       "        vertical-align: top;\n",
       "    }\n",
       "\n",
       "    .dataframe thead th {\n",
       "        text-align: right;\n",
       "    }\n",
       "</style>\n",
       "<table border=\"1\" class=\"dataframe\">\n",
       "  <thead>\n",
       "    <tr style=\"text-align: right;\">\n",
       "      <th></th>\n",
       "      <th>ncbigene</th>\n",
       "      <th>ncbiprotein</th>\n",
       "    </tr>\n",
       "    <tr>\n",
       "      <th>locus</th>\n",
       "      <th></th>\n",
       "      <th></th>\n",
       "    </tr>\n",
       "  </thead>\n",
       "  <tbody>\n",
       "    <tr>\n",
       "      <th>CIW80_00005</th>\n",
       "      <td>NaN</td>\n",
       "      <td>AXY44376.1</td>\n",
       "    </tr>\n",
       "    <tr>\n",
       "      <th>CIW80_00010</th>\n",
       "      <td>NaN</td>\n",
       "      <td>AXY44377.1</td>\n",
       "    </tr>\n",
       "    <tr>\n",
       "      <th>CIW80_00015</th>\n",
       "      <td>NaN</td>\n",
       "      <td>AXY44378.1</td>\n",
       "    </tr>\n",
       "    <tr>\n",
       "      <th>CIW80_00020</th>\n",
       "      <td>gap</td>\n",
       "      <td>AXY44379.1</td>\n",
       "    </tr>\n",
       "    <tr>\n",
       "      <th>CIW80_00025</th>\n",
       "      <td>NaN</td>\n",
       "      <td>AXY48986.1</td>\n",
       "    </tr>\n",
       "  </tbody>\n",
       "</table>\n",
       "</div>"
      ],
      "text/plain": [
       "            ncbigene ncbiprotein\n",
       "locus                           \n",
       "CIW80_00005      NaN  AXY44376.1\n",
       "CIW80_00010      NaN  AXY44377.1\n",
       "CIW80_00015      NaN  AXY44378.1\n",
       "CIW80_00020      gap  AXY44379.1\n",
       "CIW80_00025      NaN  AXY48986.1"
      ]
     },
     "execution_count": 15,
     "metadata": {},
     "output_type": "execute_result"
    }
   ],
   "source": [
    "in_file = '../data/genomes_gb/CP022686.1.gb'\n",
    "\n",
    "gene_annot_df = pd.DataFrame(columns=('locus', 'ncbigene', 'ncbiprotein'))\n",
    "gene_annot_df.set_index('locus', inplace=True)\n",
    "\n",
    "handle = open(in_file)\n",
    "\n",
    "records = SeqIO.parse(handle, \"genbank\")\n",
    "for record in records:\n",
    "    for f in record.features:\n",
    "        if f.type=='CDS':\n",
    "\n",
    "            # Get locus tag\n",
    "            if 'locus_tag' in f.qualifiers.keys():\n",
    "                locus = f.qualifiers['locus_tag'][0]\n",
    "            \n",
    "#             # get gene id\n",
    "            if 'gene' in f.qualifiers.keys():\n",
    "                gene_id = f.qualifiers['gene'][0]\n",
    "                gene_annot_df.loc[locus, 'ncbigene'] = gene_id\n",
    "            \n",
    "            # get protein_id\n",
    "            if 'protein_id' in f.qualifiers.keys():\n",
    "                prot_id = f.qualifiers['protein_id'][0]\n",
    "                gene_annot_df.loc[locus, 'ncbiprotein'] = prot_id\n",
    "\n",
    "gene_annot_df.head()"
   ]
  },
  {
   "cell_type": "code",
   "execution_count": 16,
   "metadata": {},
   "outputs": [],
   "source": [
    "# add annotations genes\n",
    "for gene in gene_annot_df.index.values:\n",
    "    try:\n",
    "        EcN_gene = EcN_model.genes.get_by_id(gene)\n",
    "\n",
    "        # Add database annotations when present\n",
    "        for annot in ['ncbigene', 'ncbiprotein']:\n",
    "            if pd.isnull(gene_annot_df.loc[gene, annot]):\n",
    "                pass\n",
    "            else:\n",
    "                EcN_gene.annotation[annot] = [gene_annot_df.loc[gene, annot]]\n",
    "    except:\n",
    "        pass"
   ]
  },
  {
   "cell_type": "code",
   "execution_count": 17,
   "metadata": {},
   "outputs": [
    {
     "data": {
      "text/plain": [
       "{'asap': ['ABE-0004807'],\n",
       " 'ecogene': ['EG13764'],\n",
       " 'ncbigene': ['945976'],\n",
       " 'ncbigi': ['16129401'],\n",
       " 'refseq_locus_tag': ['b1442'],\n",
       " 'refseq_name': ['ydcU'],\n",
       " 'refseq_synonym': ['ECK1436', 'JW1437'],\n",
       " 'sbo': 'SBO:0000243',\n",
       " 'uniprot': ['P77156'],\n",
       " 'ncbiprotein': ['AXY44398.1']}"
      ]
     },
     "execution_count": 17,
     "metadata": {},
     "output_type": "execute_result"
    }
   ],
   "source": [
    "EcN_model.genes.CIW80_00140.annotation"
   ]
  },
  {
   "cell_type": "markdown",
   "metadata": {},
   "source": [
    "## 2. Remove metabolites without reaction"
   ]
  },
  {
   "cell_type": "code",
   "execution_count": 18,
   "metadata": {
    "scrolled": true
   },
   "outputs": [
    {
     "name": "stdout",
     "output_type": "stream",
     "text": [
      "frulysp_c\n",
      "gg4abut_c\n",
      "dhpppn_c\n",
      "hkntd_c\n",
      "dhps_p\n",
      "2hptcl_c\n",
      "dhcinnm_c\n",
      "ggptrc_c\n",
      "sq_c\n",
      "cinnm_c\n",
      "o16a4und_p\n",
      "2hptcoa_c\n",
      "dhptdp_c\n",
      "34dphacoa_c\n",
      "frulys_c\n",
      "sqg_c\n",
      "ragund_c\n",
      "thcur_c\n",
      "cechddd_c\n",
      "o16aund_p\n",
      "dhptdd_c\n",
      "garagund_c\n",
      "o16a3und_p\n",
      "kphphhlipa_c\n",
      "udpgalfur_c\n",
      "3oxdhscoa_c\n",
      "cenchddd_c\n",
      "2oxpaccoa_c\n",
      "hkndd_c\n",
      "dtdprmn_c\n",
      "rephaccoa_c\n",
      "cur_c\n",
      "op4en_c\n",
      "dtdp4d6dm_c\n",
      "sq_p\n",
      "ggbutal_c\n",
      "aragund_c\n",
      "o16a2und_p\n",
      "dhcur_c\n",
      "4h2opntn_c\n",
      "suc6p_c\n",
      "4abzglu_c\n",
      "sucr_c\n",
      "pep_p\n",
      "\n",
      "Second run\n"
     ]
    }
   ],
   "source": [
    "# find all metabolites without a reaction\n",
    "for mtb in EcN_model.metabolites:\n",
    "    if EcN_model.metabolites.get_by_id(mtb.id).reactions == frozenset():\n",
    "        print(mtb)\n",
    "        EcN_model.remove_metabolites(mtb)\n",
    "        \n",
    "# Some empty metabolites were not removed > run second time\n",
    "print('\\nSecond run')\n",
    "for mtb in EcN_model.metabolites:\n",
    "    if EcN_model.metabolites.get_by_id(mtb.id).reactions == frozenset():\n",
    "        print(mtb)\n",
    "        EcN_model.remove_metabolites(mtb)"
   ]
  },
  {
   "cell_type": "markdown",
   "metadata": {},
   "source": [
    "## 3. Remove genes without reaction"
   ]
  },
  {
   "cell_type": "code",
   "execution_count": 19,
   "metadata": {},
   "outputs": [],
   "source": [
    "# Load gene_origin dataframe\n",
    "gene_origin_df = pd.read_csv('../tables/gene_origin.csv')\n",
    "gene_origin_df.set_index('EcN_gene', inplace=True)"
   ]
  },
  {
   "cell_type": "code",
   "execution_count": 20,
   "metadata": {},
   "outputs": [
    {
     "name": "stdout",
     "output_type": "stream",
     "text": [
      "The original number of genes is: 1536 \n",
      "\n",
      "CIW80_03935\n",
      "CIW80_10195\n",
      "CIW80_03825\n",
      "\n",
      "The new number of genes is: 1533\n"
     ]
    }
   ],
   "source": [
    "print('The original number of genes is:', len(EcN_model.genes), '\\n')\n",
    "\n",
    "# Create a list of genes not associated to reactions\n",
    "gene_del_list = []\n",
    "\n",
    "for gene in EcN_model.genes:\n",
    "    if EcN_model.genes.get_by_id(gene.id).reactions == frozenset():\n",
    "        print(gene)\n",
    "        gene_del_list.append(gene.id)\n",
    "        \n",
    "        gene_origin_df.loc[gene.id, 'added'] = 'removed'\n",
    "        gene_origin_df.loc[gene.id, 'notes'] = 'Empty gene. Removed in 4.7'\n",
    "        \n",
    "# Remove genes\n",
    "cobra.manipulation.remove_genes(EcN_model, gene_del_list)\n",
    "        \n",
    "print('\\nThe new number of genes is:', len(EcN_model.genes))"
   ]
  },
  {
   "cell_type": "markdown",
   "metadata": {},
   "source": [
    "- CIW80_03935 > Never had reaction, O16AP1pp in iML1515\n",
    "- CIW80_10195 > AgaI, corrected in 4.2 to agaA and agaS\n",
    "- CIW80_03825 > SUCtpp, removed in 4.5"
   ]
  },
  {
   "cell_type": "markdown",
   "metadata": {},
   "source": [
    "# 3. Save model"
   ]
  },
  {
   "cell_type": "code",
   "execution_count": 21,
   "metadata": {},
   "outputs": [],
   "source": [
    "# Save the model\n",
    "cobra.io.json.save_json_model(EcN_model, str('../data/models/%s_cur_4.7.json'%EcN_ID))"
   ]
  },
  {
   "cell_type": "code",
   "execution_count": 22,
   "metadata": {},
   "outputs": [],
   "source": [
    "# Save as a table\n",
    "gene_origin_df.to_csv('../tables/gene_origin.csv')"
   ]
  }
 ],
 "metadata": {
  "kernelspec": {
   "display_name": "Python 3",
   "language": "python",
   "name": "python3"
  },
  "language_info": {
   "codemirror_mode": {
    "name": "ipython",
    "version": 3
   },
   "file_extension": ".py",
   "mimetype": "text/x-python",
   "name": "python",
   "nbconvert_exporter": "python",
   "pygments_lexer": "ipython3",
   "version": "3.7.9"
  }
 },
 "nbformat": 4,
 "nbformat_minor": 4
}
