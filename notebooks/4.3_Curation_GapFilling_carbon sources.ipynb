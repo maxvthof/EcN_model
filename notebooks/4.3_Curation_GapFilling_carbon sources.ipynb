{
 "cells": [
  {
   "cell_type": "markdown",
   "metadata": {},
   "source": [
    "# 4.3 Gap-filling glucose metabolism\n",
    "\n",
    "Examination of the draft model of EcN's growth using EX_glu_e as a carbon source. Within this notebook the model is checked for\n",
    "- Growth on glucose\n",
    "- Growth on other carbon sources"
   ]
  },
  {
   "cell_type": "code",
   "execution_count": 1,
   "metadata": {},
   "outputs": [],
   "source": [
    "import cobra\n",
    "import pandas as pd\n",
    "from cobra.io import load_json_model\n",
    "from glob import glob\n",
    "from cobra.manipulation.modify import rename_genes"
   ]
  },
  {
   "cell_type": "code",
   "execution_count": 2,
   "metadata": {},
   "outputs": [],
   "source": [
    "#Establish a definition that initializes models to an in silico representation of M9 media\n",
    "\n",
    "def m9(model):\n",
    "    for reaction in model.reactions:\n",
    "        if 'EX_' in  reaction.id:\n",
    "            reaction.lower_bound=0 \n",
    "            \n",
    "    model.reactions.EX_ca2_e.lower_bound=-1000\n",
    "    model.reactions.EX_cl_e.lower_bound=-1000\n",
    "    model.reactions.EX_co2_e.lower_bound=-1000\n",
    "    model.reactions.EX_cobalt2_e.lower_bound=-1000\n",
    "    model.reactions.EX_cu2_e.lower_bound=-1000\n",
    "    model.reactions.EX_fe2_e.lower_bound=-1000\n",
    "    model.reactions.EX_fe3_e.lower_bound=-1000\n",
    "    model.reactions.EX_h_e.lower_bound=-1000\n",
    "    model.reactions.EX_h2o_e.lower_bound=-1000\n",
    "    model.reactions.EX_k_e.lower_bound=-1000\n",
    "    model.reactions.EX_mg2_e.lower_bound=-1000\n",
    "    model.reactions.EX_mn2_e.lower_bound=-1000\n",
    "    model.reactions.EX_mobd_e.lower_bound=-1000\n",
    "    model.reactions.EX_na1_e.lower_bound=-1000\n",
    "    model.reactions.EX_tungs_e.lower_bound=-1000\n",
    "    model.reactions.EX_zn2_e.lower_bound=-1000\n",
    "    model.reactions.EX_ni2_e.lower_bound=-1000\n",
    "    model.reactions.EX_sel_e.lower_bound=-1000\n",
    "    model.reactions.EX_slnt_e.lower_bound=-1000\n",
    "    model.reactions.EX_glc__D_e.lower_bound=-20\n",
    "    model.reactions.EX_so4_e.lower_bound=-1000\n",
    "    model.reactions.EX_nh4_e.lower_bound=-1000\n",
    "    model.reactions.EX_pi_e.lower_bound=-1000\n",
    "    model.reactions.EX_cbl1_e.lower_bound=-.01\n",
    "    model.reactions.EX_o2_e.lower_bound=-20\n",
    "       \n",
    "    return model"
   ]
  },
  {
   "cell_type": "markdown",
   "metadata": {},
   "source": [
    "# 1. Growth on glucose"
   ]
  },
  {
   "cell_type": "code",
   "execution_count": 3,
   "metadata": {},
   "outputs": [
    {
     "data": {
      "text/html": [
       "<strong><em>Optimal</em> solution with objective value 1.121</strong><br><div>\n",
       "<style scoped>\n",
       "    .dataframe tbody tr th:only-of-type {\n",
       "        vertical-align: middle;\n",
       "    }\n",
       "\n",
       "    .dataframe tbody tr th {\n",
       "        vertical-align: top;\n",
       "    }\n",
       "\n",
       "    .dataframe thead th {\n",
       "        text-align: right;\n",
       "    }\n",
       "</style>\n",
       "<table border=\"1\" class=\"dataframe\">\n",
       "  <thead>\n",
       "    <tr style=\"text-align: right;\">\n",
       "      <th></th>\n",
       "      <th>fluxes</th>\n",
       "      <th>reduced_costs</th>\n",
       "    </tr>\n",
       "  </thead>\n",
       "  <tbody>\n",
       "    <tr>\n",
       "      <th>ALATA_D2</th>\n",
       "      <td>0.00000</td>\n",
       "      <td>6.938894e-18</td>\n",
       "    </tr>\n",
       "    <tr>\n",
       "      <th>SHCHD2</th>\n",
       "      <td>0.00025</td>\n",
       "      <td>0.000000e+00</td>\n",
       "    </tr>\n",
       "    <tr>\n",
       "      <th>CPPPGO</th>\n",
       "      <td>0.00025</td>\n",
       "      <td>-1.734723e-17</td>\n",
       "    </tr>\n",
       "    <tr>\n",
       "      <th>GTHOr</th>\n",
       "      <td>0.00000</td>\n",
       "      <td>-8.673617e-18</td>\n",
       "    </tr>\n",
       "    <tr>\n",
       "      <th>DHORD5</th>\n",
       "      <td>0.00000</td>\n",
       "      <td>0.000000e+00</td>\n",
       "    </tr>\n",
       "    <tr>\n",
       "      <th>...</th>\n",
       "      <td>...</td>\n",
       "      <td>...</td>\n",
       "    </tr>\n",
       "    <tr>\n",
       "      <th>MALt5</th>\n",
       "      <td>0.00000</td>\n",
       "      <td>0.000000e+00</td>\n",
       "    </tr>\n",
       "    <tr>\n",
       "      <th>SALCHS2FEexs</th>\n",
       "      <td>0.00000</td>\n",
       "      <td>0.000000e+00</td>\n",
       "    </tr>\n",
       "    <tr>\n",
       "      <th>SALCHS4FEexs</th>\n",
       "      <td>0.00000</td>\n",
       "      <td>0.000000e+00</td>\n",
       "    </tr>\n",
       "    <tr>\n",
       "      <th>DHPTDCs</th>\n",
       "      <td>0.00000</td>\n",
       "      <td>0.000000e+00</td>\n",
       "    </tr>\n",
       "    <tr>\n",
       "      <th>4H3NPACALDt2rpp</th>\n",
       "      <td>0.00000</td>\n",
       "      <td>0.000000e+00</td>\n",
       "    </tr>\n",
       "  </tbody>\n",
       "</table>\n",
       "<p>2806 rows × 2 columns</p>\n",
       "</div>"
      ],
      "text/plain": [
       "<Solution 1.121 at 0x1dadf2bfd48>"
      ]
     },
     "execution_count": 3,
     "metadata": {},
     "output_type": "execute_result"
    }
   ],
   "source": [
    "# Load EcN model\n",
    "EcN_ID = 'CP022686.1'\n",
    "model=cobra.io.load_json_model('../data/models/%s_cur_4.2.json'%EcN_ID)\n",
    "\n",
    "# Test whether the EcN model can grown on glucose (EX_glc__D_e)\n",
    "with model:\n",
    "    m9(model)\n",
    "    solution = model.optimize()\n",
    "solution"
   ]
  },
  {
   "cell_type": "code",
   "execution_count": 4,
   "metadata": {},
   "outputs": [
    {
     "data": {
      "text/html": [
       "<strong><em>Optimal</em> solution with objective value 1.121</strong><br><div>\n",
       "<style scoped>\n",
       "    .dataframe tbody tr th:only-of-type {\n",
       "        vertical-align: middle;\n",
       "    }\n",
       "\n",
       "    .dataframe tbody tr th {\n",
       "        vertical-align: top;\n",
       "    }\n",
       "\n",
       "    .dataframe thead th {\n",
       "        text-align: right;\n",
       "    }\n",
       "</style>\n",
       "<table border=\"1\" class=\"dataframe\">\n",
       "  <thead>\n",
       "    <tr style=\"text-align: right;\">\n",
       "      <th></th>\n",
       "      <th>fluxes</th>\n",
       "      <th>reduced_costs</th>\n",
       "    </tr>\n",
       "  </thead>\n",
       "  <tbody>\n",
       "    <tr>\n",
       "      <th>ALATA_D2</th>\n",
       "      <td>0.000000</td>\n",
       "      <td>-2.104544e-02</td>\n",
       "    </tr>\n",
       "    <tr>\n",
       "      <th>SHCHD2</th>\n",
       "      <td>0.000250</td>\n",
       "      <td>-5.551115e-17</td>\n",
       "    </tr>\n",
       "    <tr>\n",
       "      <th>CPPPGO</th>\n",
       "      <td>0.000250</td>\n",
       "      <td>-5.551115e-17</td>\n",
       "    </tr>\n",
       "    <tr>\n",
       "      <th>GTHOr</th>\n",
       "      <td>0.277377</td>\n",
       "      <td>0.000000e+00</td>\n",
       "    </tr>\n",
       "    <tr>\n",
       "      <th>DHORD5</th>\n",
       "      <td>0.000000</td>\n",
       "      <td>-2.775558e-17</td>\n",
       "    </tr>\n",
       "    <tr>\n",
       "      <th>...</th>\n",
       "      <td>...</td>\n",
       "      <td>...</td>\n",
       "    </tr>\n",
       "    <tr>\n",
       "      <th>SUCCt1pp</th>\n",
       "      <td>0.000000</td>\n",
       "      <td>0.000000e+00</td>\n",
       "    </tr>\n",
       "    <tr>\n",
       "      <th>QUINDH</th>\n",
       "      <td>0.000000</td>\n",
       "      <td>-8.418177e-03</td>\n",
       "    </tr>\n",
       "    <tr>\n",
       "      <th>LCARSyi</th>\n",
       "      <td>0.000000</td>\n",
       "      <td>-8.418177e-03</td>\n",
       "    </tr>\n",
       "    <tr>\n",
       "      <th>BIOMASS_Ec_iML1515_core_75p37M</th>\n",
       "      <td>1.120796</td>\n",
       "      <td>-6.335180e-16</td>\n",
       "    </tr>\n",
       "    <tr>\n",
       "      <th>BIOMASS_Ec_iML1515_WT_75p37M</th>\n",
       "      <td>0.000000</td>\n",
       "      <td>-1.967373e+00</td>\n",
       "    </tr>\n",
       "  </tbody>\n",
       "</table>\n",
       "<p>2712 rows × 2 columns</p>\n",
       "</div>"
      ],
      "text/plain": [
       "<Solution 1.121 at 0x1dae05f0fc8>"
      ]
     },
     "execution_count": 4,
     "metadata": {},
     "output_type": "execute_result"
    }
   ],
   "source": [
    "# The base model can synthesize biomass in this condition\n",
    "base=cobra.io.load_json_model('../data/models/iML1515.json')\n",
    "with base:\n",
    "    m9(base)\n",
    "    solution = base.optimize()\n",
    "solution"
   ]
  },
  {
   "cell_type": "markdown",
   "metadata": {},
   "source": [
    "### Use gapfill to find missing reactions for glucose consumption"
   ]
  },
  {
   "cell_type": "code",
   "execution_count": 5,
   "metadata": {},
   "outputs": [
    {
     "data": {
      "text/plain": [
       "[[]]"
      ]
     },
     "execution_count": 5,
     "metadata": {},
     "output_type": "execute_result"
    }
   ],
   "source": [
    "universal = cobra.Model(\"universal_reactions\")\n",
    "for rxn_obj in base.reactions:\n",
    "    if rxn_obj.id not in model.reactions:\n",
    "        universal.add_reaction(rxn_obj.copy())\n",
    "\n",
    "\n",
    "gapfiller = cobra.flux_analysis.gapfilling.GapFiller(model, universal=universal, demand_reactions=False, integer_threshold=1e-12)\n",
    "gapfiller.model.solver.configuration.tolerances.feasibility = 1e-16\n",
    "gapfiller.model.solver.configuration.tolerances.integrality = 1e-16\n",
    "gapfiller.model.solver.configuration.tolerances.optimality = 1e-16\n",
    "result = gapfiller.fill()\n",
    "result"
   ]
  },
  {
   "cell_type": "code",
   "execution_count": 6,
   "metadata": {},
   "outputs": [
    {
     "data": {
      "text/html": [
       "<strong><em>Optimal</em> solution with objective value 1.121</strong><br><div>\n",
       "<style scoped>\n",
       "    .dataframe tbody tr th:only-of-type {\n",
       "        vertical-align: middle;\n",
       "    }\n",
       "\n",
       "    .dataframe tbody tr th {\n",
       "        vertical-align: top;\n",
       "    }\n",
       "\n",
       "    .dataframe thead th {\n",
       "        text-align: right;\n",
       "    }\n",
       "</style>\n",
       "<table border=\"1\" class=\"dataframe\">\n",
       "  <thead>\n",
       "    <tr style=\"text-align: right;\">\n",
       "      <th></th>\n",
       "      <th>fluxes</th>\n",
       "      <th>reduced_costs</th>\n",
       "    </tr>\n",
       "  </thead>\n",
       "  <tbody>\n",
       "    <tr>\n",
       "      <th>ALATA_D2</th>\n",
       "      <td>0.00000</td>\n",
       "      <td>-2.105453e-02</td>\n",
       "    </tr>\n",
       "    <tr>\n",
       "      <th>SHCHD2</th>\n",
       "      <td>0.00025</td>\n",
       "      <td>0.000000e+00</td>\n",
       "    </tr>\n",
       "    <tr>\n",
       "      <th>CPPPGO</th>\n",
       "      <td>0.00025</td>\n",
       "      <td>0.000000e+00</td>\n",
       "    </tr>\n",
       "    <tr>\n",
       "      <th>GTHOr</th>\n",
       "      <td>0.00000</td>\n",
       "      <td>0.000000e+00</td>\n",
       "    </tr>\n",
       "    <tr>\n",
       "      <th>DHORD5</th>\n",
       "      <td>0.00000</td>\n",
       "      <td>-1.110223e-16</td>\n",
       "    </tr>\n",
       "    <tr>\n",
       "      <th>...</th>\n",
       "      <td>...</td>\n",
       "      <td>...</td>\n",
       "    </tr>\n",
       "    <tr>\n",
       "      <th>MALt5</th>\n",
       "      <td>0.00000</td>\n",
       "      <td>0.000000e+00</td>\n",
       "    </tr>\n",
       "    <tr>\n",
       "      <th>SALCHS2FEexs</th>\n",
       "      <td>0.00000</td>\n",
       "      <td>0.000000e+00</td>\n",
       "    </tr>\n",
       "    <tr>\n",
       "      <th>SALCHS4FEexs</th>\n",
       "      <td>0.00000</td>\n",
       "      <td>0.000000e+00</td>\n",
       "    </tr>\n",
       "    <tr>\n",
       "      <th>DHPTDCs</th>\n",
       "      <td>0.00000</td>\n",
       "      <td>0.000000e+00</td>\n",
       "    </tr>\n",
       "    <tr>\n",
       "      <th>4H3NPACALDt2rpp</th>\n",
       "      <td>0.00000</td>\n",
       "      <td>0.000000e+00</td>\n",
       "    </tr>\n",
       "  </tbody>\n",
       "</table>\n",
       "<p>2806 rows × 2 columns</p>\n",
       "</div>"
      ],
      "text/plain": [
       "<Solution 1.121 at 0x1dae4369988>"
      ]
     },
     "execution_count": 6,
     "metadata": {},
     "output_type": "execute_result"
    }
   ],
   "source": [
    "# Check the growth rate with missing reactions added (if reactions are missing)\n",
    "modelCopy = model.copy()\n",
    "for rxn in result[0]:\n",
    "    print('Reaction to add:', rxn)\n",
    "    modelCopy.add_reaction(rxn)\n",
    "\n",
    "m9(modelCopy)\n",
    "modelCopy.reactions.EX_glc__D_e.lower_bound=-20\n",
    "modelCopy.optimize()"
   ]
  },
  {
   "cell_type": "markdown",
   "metadata": {},
   "source": [
    "No reactions are missing for growth on glucose"
   ]
  },
  {
   "cell_type": "markdown",
   "metadata": {},
   "source": [
    "# 2. Other carbon sources"
   ]
  },
  {
   "cell_type": "code",
   "execution_count": 7,
   "metadata": {},
   "outputs": [
    {
     "name": "stdout",
     "output_type": "stream",
     "text": [
      "Number of carbon sources: 21\n",
      "EX_arab__L_e 0.995\n",
      "EX_fuc__L_e 0.798\n",
      "EX_gal_e 1.079\n",
      "EX_glcn_e 1.049\n",
      "EX_man_e 1.121\n",
      "EX_acgal_e 1.155\n",
      "EX_acnam_e 1.291\n",
      "EX_galur_e 0.966\n",
      "EX_xyl__D_e 0.869\n",
      "EX_ac_e 0.429\n",
      "EX_fru_e 1.121\n",
      "EX_mal__D_e nan\n",
      "EX_mal__L_e 0.764\n",
      "EX_malt_e 1.594\n",
      "EX_rib__D_e 0.869\n",
      "EX_glcur_e 0.966\n",
      "EX_lcts_e 1.55\n",
      "EX_acgam_e 1.164\n",
      "EX_rmn_e 0.798\n",
      "EX_sbt__D_e 1.071\n",
      "EX_arg__L_e 0.836\n"
     ]
    }
   ],
   "source": [
    "# Find out missing reactions for growth on:\n",
    "# Glucose, Arabinose, Fucose, Galactose, Gluconate, Mannose, N-acetylgalactosamine, N-acetylneuraminate > https://www.ncbi.nlm.nih.gov/pmc/articles/PMC4510460/#!po=30.0000\n",
    "# Galacturonate, Xylose, Acetate, Fructose, Malate, Maltose, Ribose, Glucuronic, Lactose, N-acetylglucosamine > Pierre Millard - Role of the Csr system in carbon nutrition and in the control of central metabolism in Escherichia coli K-12 MG1655 and Nissle 1917\n",
    "# (Dextrose), Rhamnose, Sorbitol > https://www.tandfonline.com/doi/full/10.3109/08910600903444267\n",
    "# EcN is a typical E. coli strain, with the exception that it is capable of metabolizing arginine. This property is seen in just about 7% of all E. coli isolates. > https://www.tandfonline.com/doi/full/10.3109/08910600903444267\n",
    "\n",
    "carbon_sources = ['EX_arab__L_e',\n",
    "                 'EX_fuc__L_e',\n",
    "                 'EX_gal_e',\n",
    "                 'EX_glcn_e',\n",
    "                 'EX_man_e',\n",
    "                 'EX_acgal_e',\n",
    "                 'EX_acnam_e',\n",
    "                 'EX_galur_e',\n",
    "                 'EX_xyl__D_e',\n",
    "                 'EX_ac_e',\n",
    "                 'EX_fru_e',\n",
    "                 'EX_mal__D_e',\n",
    "                 'EX_mal__L_e',\n",
    "                 'EX_malt_e',\n",
    "                 'EX_rib__D_e',\n",
    "                 'EX_glcur_e',\n",
    "                 'EX_lcts_e',\n",
    "                 'EX_acgam_e',\n",
    "                 'EX_rmn_e',\n",
    "                 'EX_sbt__D_e',\n",
    "                 'EX_arg__L_e']\n",
    "\n",
    "print('Number of carbon sources:', len(carbon_sources))\n",
    "\n",
    "c_source_no_growth = []\n",
    "\n",
    "for c_source in carbon_sources:\n",
    "    with model:\n",
    "        # set glucose to zero, to ensure you only have one carbon source\n",
    "        model.reactions.EX_glc__D_e.lower_bound=0\n",
    "        \n",
    "        # change to other carbon source\n",
    "        model.reactions.get_by_id(c_source).lower_bound=-20\n",
    "        \n",
    "        #determine growth on carbon source\n",
    "        solution = model.slim_optimize()\n",
    "        if solution > 0:\n",
    "            pass\n",
    "        else:\n",
    "            c_source_no_growth.append(c_source)\n",
    "        print(c_source, round(solution, 3))"
   ]
  },
  {
   "cell_type": "code",
   "execution_count": 8,
   "metadata": {},
   "outputs": [
    {
     "data": {
      "text/plain": [
       "{'EX_mal__D_e': ['MALDDH']}"
      ]
     },
     "execution_count": 8,
     "metadata": {},
     "output_type": "execute_result"
    }
   ],
   "source": [
    "# load EcN & MG1655 model and create a copy\n",
    "modelCopy = model.copy()\n",
    "baseCopy = base.copy()\n",
    "m9(modelCopy)\n",
    "m9(baseCopy)\n",
    "modelCopy.reactions.EX_glc__D_e.lower_bound=0 #set glucose to zero, to ensure you only have one carbon source\n",
    "baseCopy.reactions.EX_glc__D_e.lower_bound=0\n",
    "\n",
    "c_dict = {}\n",
    "\n",
    "# adjust the carbon source\n",
    "for c_source in c_source_no_growth:\n",
    "    with modelCopy:\n",
    "        with baseCopy:\n",
    "\n",
    "            # Change the carbon source\n",
    "            modelCopy.reactions.get_by_id(c_source).lower_bound=-20\n",
    "            base.reactions.get_by_id(c_source).lower_bound=-20\n",
    "\n",
    "            # Define the universal model\n",
    "            universal = cobra.Model(\"universal_reactions\")\n",
    "            for rxn_obj in baseCopy.reactions:\n",
    "                if rxn_obj.id not in modelCopy.reactions:\n",
    "                    universal.add_reaction(rxn_obj.copy())\n",
    "\n",
    "            # Run gafiller\n",
    "            gapfiller = cobra.flux_analysis.gapfilling.GapFiller(modelCopy, universal=universal, demand_reactions=False, integer_threshold=1e-12)\n",
    "            gapfiller.model.solver.configuration.tolerances.feasibility = 1e-16\n",
    "            gapfiller.model.solver.configuration.tolerances.integrality = 1e-16\n",
    "            gapfiller.model.solver.configuration.tolerances.optimality = 1e-16\n",
    "            result = gapfiller.fill()\n",
    "\n",
    "            # save the result in a dictionary\n",
    "            genes = []\n",
    "            for result_1 in result:\n",
    "                for gene in result_1:\n",
    "                    genes.append(gene.id)\n",
    "#             print(c_source, modelCopy.reactions.get_by_id(c_source).lower_bound, modelCopy.reactions.get_by_id('EX_glc__D_e').lower_bound, modelCopy.reactions.get_by_id('EX_fru_e').lower_bound)\n",
    "            c_dict[c_source] = genes\n",
    "    \n",
    "c_dict"
   ]
  },
  {
   "cell_type": "markdown",
   "metadata": {},
   "source": [
    "### Reaction addition\n",
    "According to literature, EcN can grow on malate. This was also verified by the biolog phenotype experiment. Add reaction \"MALDDH\" to enable this capacity."
   ]
  },
  {
   "cell_type": "code",
   "execution_count": 9,
   "metadata": {},
   "outputs": [
    {
     "data": {
      "text/html": [
       "\n",
       "        <table>\n",
       "            <tr>\n",
       "                <td><strong>Reaction identifier</strong></td><td>MALDDH</td>\n",
       "            </tr><tr>\n",
       "                <td><strong>Name</strong></td><td>Malate decarboxylating oxidoreductase (decarboxylating)</td>\n",
       "            </tr><tr>\n",
       "                <td><strong>Memory address</strong></td>\n",
       "                <td>0x01dae1f69e08</td>\n",
       "            </tr><tr>\n",
       "                <td><strong>Stoichiometry</strong></td>\n",
       "                <td>\n",
       "                    <p style='text-align:right'>mal__D_c + nad_c --> co2_c + nadh_c + pyr_c</p>\n",
       "                    <p style='text-align:right'>D-Malate + Nicotinamide adenine dinucleotide --> CO2 CO2 + Nicotinamide adenine dinucleotide - reduced + Pyruvate</p>\n",
       "                </td>\n",
       "            </tr><tr>\n",
       "                <td><strong>GPR</strong></td><td>b1800</td>\n",
       "            </tr><tr>\n",
       "                <td><strong>Lower bound</strong></td><td>0.0</td>\n",
       "            </tr><tr>\n",
       "                <td><strong>Upper bound</strong></td><td>1000.0</td>\n",
       "            </tr>\n",
       "        </table>\n",
       "        "
      ],
      "text/plain": [
       "<Reaction MALDDH at 0x1dae1f69e08>"
      ]
     },
     "execution_count": 9,
     "metadata": {},
     "output_type": "execute_result"
    }
   ],
   "source": [
    "base.reactions.MALDDH"
   ]
  },
  {
   "cell_type": "code",
   "execution_count": 10,
   "metadata": {},
   "outputs": [
    {
     "data": {
      "text/html": [
       "\n",
       "        <table>\n",
       "            <tr>\n",
       "                <td><strong>Gene identifier</strong></td><td>b1800</td>\n",
       "            </tr><tr>\n",
       "                <td><strong>Name</strong></td><td>dmlA</td>\n",
       "            </tr><tr>\n",
       "                <td><strong>Memory address</strong></td>\n",
       "                <td>0x01dae1f24888</td>\n",
       "            </tr><tr>\n",
       "                <td><strong>Functional</strong></td><td>True</td>\n",
       "            </tr><tr>\n",
       "                <td><strong>In 2 reaction(s)</strong></td><td>\n",
       "                    IPMD, MALDDH</td>\n",
       "            </tr>\n",
       "        </table>"
      ],
      "text/plain": [
       "<Gene b1800 at 0x1dae1f24888>"
      ]
     },
     "execution_count": 10,
     "metadata": {},
     "output_type": "execute_result"
    }
   ],
   "source": [
    "base.genes.b1800"
   ]
  },
  {
   "cell_type": "markdown",
   "metadata": {},
   "source": [
    "_EcoCyc: \"Chromosomal expression of dmlA is able to complement cells lacking leuB-encoded 3-isopropylmalate dehydrogenase (IPMDH) activity. Purified DmlA is active on D-malate, 3-isopropylmalate and L(+)-tartrate; D-lactate, isocitrate and D-tartrate are poor substrates. DmlA has a weaker affinity for L(+)-tartrate than for D-malate or 3-isopropylmalate [Vorobieva14]\"_\n",
    "\n",
    "However, there is no gene in EcN with homology to the dmlA gene of MG1655. The reaction will be added, but the gene will not. As a result, the ability of _dmlA_ to complement cells lacking _leuB_ will not be described by this model."
   ]
  },
  {
   "cell_type": "code",
   "execution_count": 11,
   "metadata": {},
   "outputs": [],
   "source": [
    "# Ensure that the model version is the latests and unmodified\n",
    "EcN_model = cobra.io.load_json_model('../data/models/CP022686.1_cur_4.2.json')\n",
    "\n",
    "# Load the table with information on origin of reactions\n",
    "rxn_origin_df = pd.read_csv('../tables/rxn_origin.csv')\n",
    "rxn_origin_df.set_index('reaction', inplace=True)\n",
    "rxn_origin_df.head()\n",
    "\n",
    "# Add reaction to model\n",
    "base.reactions.MALDDH.gene_reaction_rule = ''\n",
    "EcN_model.add_reactions([base.reactions.MALDDH])\n",
    "\n",
    "# Update reaction overview dataframe\n",
    "rxn_origin_df.loc['MALDDH', 'origin'] = 'iML1515'\n",
    "rxn_origin_df.loc['MALDDH', 'added'] = 'manual'\n",
    "rxn_origin_df.loc['MALDDH', 'notebook'] = '4.3'\n",
    "rxn_origin_df.loc['MALDDH', 'notes'] = 'Added in 4.3. to complete a blocked pathway. Due to low homology, no gene was added'"
   ]
  },
  {
   "cell_type": "code",
   "execution_count": 12,
   "metadata": {},
   "outputs": [
    {
     "data": {
      "text/plain": [
       "0.6196792055045546"
      ]
     },
     "execution_count": 12,
     "metadata": {},
     "output_type": "execute_result"
    }
   ],
   "source": [
    "with EcN_model:\n",
    "    # set glucose to zero, and change to D-malate\n",
    "    EcN_model.reactions.EX_glc__D_e.lower_bound=0\n",
    "    EcN_model.reactions.get_by_id('EX_mal__D_e').lower_bound=-20\n",
    "        \n",
    "    #determine growth on carbon source\n",
    "    solution = EcN_model.slim_optimize()\n",
    "\n",
    "solution"
   ]
  },
  {
   "cell_type": "markdown",
   "metadata": {},
   "source": [
    "# 3. Save updated model"
   ]
  },
  {
   "cell_type": "code",
   "execution_count": 13,
   "metadata": {},
   "outputs": [],
   "source": [
    "# Save the model\n",
    "cobra.io.json.save_json_model(EcN_model, str('../data/models/%s_cur_4.3.json'%EcN_ID), pretty=False)"
   ]
  },
  {
   "cell_type": "code",
   "execution_count": 14,
   "metadata": {},
   "outputs": [],
   "source": [
    "# Save as a table\n",
    "rxn_origin_df.to_csv('../tables/rxn_origin.csv')"
   ]
  }
 ],
 "metadata": {
  "kernelspec": {
   "display_name": "Python 3",
   "language": "python",
   "name": "python3"
  },
  "language_info": {
   "codemirror_mode": {
    "name": "ipython",
    "version": 3
   },
   "file_extension": ".py",
   "mimetype": "text/x-python",
   "name": "python",
   "nbconvert_exporter": "python",
   "pygments_lexer": "ipython3",
   "version": "3.7.9"
  }
 },
 "nbformat": 4,
 "nbformat_minor": 2
}
